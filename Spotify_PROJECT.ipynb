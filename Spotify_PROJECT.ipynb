{
  "nbformat": 4,
  "nbformat_minor": 0,
  "metadata": {
    "colab": {
      "provenance": []
    },
    "kernelspec": {
      "name": "python3",
      "display_name": "Python 3"
    },
    "language_info": {
      "name": "python"
    }
  },
  "cells": [
    {
      "cell_type": "code",
      "source": [
        "!pip install pyspark"
      ],
      "metadata": {
        "colab": {
          "base_uri": "https://localhost:8080/"
        },
        "id": "ZBozW-3FijWa",
        "outputId": "cbabf1e5-e77a-4233-87cf-7f970c8c8f61"
      },
      "execution_count": null,
      "outputs": [
        {
          "output_type": "stream",
          "name": "stdout",
          "text": [
            "Looking in indexes: https://pypi.org/simple, https://us-python.pkg.dev/colab-wheels/public/simple/\n",
            "Requirement already satisfied: pyspark in /usr/local/lib/python3.8/dist-packages (3.3.1)\n",
            "Requirement already satisfied: py4j==0.10.9.5 in /usr/local/lib/python3.8/dist-packages (from pyspark) (0.10.9.5)\n"
          ]
        }
      ]
    },
    {
      "cell_type": "code",
      "source": [
        "import numpy as np \n",
        "import pandas as pd\n",
        "import os\n",
        "import matplotlib.pyplot as plt\n",
        "import seaborn as sns\n",
        "%config InlineBackend.figure_format = 'svg'\n",
        "sns.set_palette('rainbow')\n",
        "sns.set_style('whitegrid')\n",
        "import plotly.express as px"
      ],
      "metadata": {
        "id": "bhg-MXrLimy-"
      },
      "execution_count": null,
      "outputs": []
    },
    {
      "cell_type": "code",
      "execution_count": null,
      "metadata": {
        "colab": {
          "base_uri": "https://localhost:8080/",
          "height": 17
        },
        "id": "R40Hfe-bbdT5",
        "outputId": "08a41e64-324b-4b3e-e377-bce059879090"
      },
      "outputs": [
        {
          "output_type": "display_data",
          "data": {
            "text/html": [
              "        <script type=\"text/javascript\">\n",
              "        window.PlotlyConfig = {MathJaxConfig: 'local'};\n",
              "        if (window.MathJax) {MathJax.Hub.Config({SVG: {font: \"STIX-Web\"}});}\n",
              "        if (typeof require !== 'undefined') {\n",
              "        require.undef(\"plotly\");\n",
              "        requirejs.config({\n",
              "            paths: {\n",
              "                'plotly': ['https://cdn.plot.ly/plotly-2.8.3.min']\n",
              "            }\n",
              "        });\n",
              "        require(['plotly'], function(Plotly) {\n",
              "            window._Plotly = Plotly;\n",
              "        });\n",
              "        }\n",
              "        </script>\n",
              "        "
            ]
          },
          "metadata": {}
        }
      ],
      "source": [
        "# these 2 lines fix a sporatic loading error in plotly\n",
        "from plotly.offline import plot, iplot, init_notebook_mode\n",
        "init_notebook_mode(connected=True)\n",
        "sns.set_style('darkgrid')\n"
      ]
    },
    {
      "cell_type": "code",
      "source": [
        "\n",
        "# pyspark\n",
        "import pandas as pd\n",
        "from pyspark import SparkConf, SparkContext\n",
        "from pyspark.sql import SparkSession, SQLContext\n",
        "\n",
        "from pyspark.sql.types import *\n",
        "import pyspark.sql.functions as F\n",
        "from pyspark.sql.functions import udf, col\n",
        "\n",
        "\n",
        "from sklearn.pipeline import Pipeline\n",
        "\n",
        "from sklearn.decomposition import PCA\n",
        "from sklearn.cluster import KMeans\n",
        "\n",
        "CSV_FILE= pd.read_csv('Final database.csv')\n",
        "print(CSV_FILE)"
      ],
      "metadata": {
        "colab": {
          "base_uri": "https://localhost:8080/"
        },
        "id": "1ecLE-AIjHgC",
        "outputId": "9f9159ff-78c6-493e-d540-85339de3de3c"
      },
      "execution_count": null,
      "outputs": [
        {
          "output_type": "stream",
          "name": "stderr",
          "text": [
            "/usr/local/lib/python3.8/dist-packages/IPython/core/interactiveshell.py:3326: DtypeWarning:\n",
            "\n",
            "Columns (7,8,11,12,13,14,15,16,17,18,19,20,21,22,23,24,25) have mixed types.Specify dtype option on import or set low_memory=False.\n",
            "\n"
          ]
        },
        {
          "output_type": "stream",
          "name": "stdout",
          "text": [
            "            Country                                                Uri  \\\n",
            "0            Global  https://open.spotify.com/track/6FyRXC8tJUh863J...   \n",
            "1               USA  https://open.spotify.com/track/6FyRXC8tJUh863J...   \n",
            "2         Argentina  https://open.spotify.com/track/6FyRXC8tJUh863J...   \n",
            "3           Belgium  https://open.spotify.com/track/6FyRXC8tJUh863J...   \n",
            "4       Switzerland  https://open.spotify.com/track/6FyRXC8tJUh863J...   \n",
            "...             ...                                                ...   \n",
            "170628       Taiwan  https://open.spotify.com/track/4v29A51TqtD2KFS...   \n",
            "170629       Taiwan  https://open.spotify.com/track/7InvbALrXpsz58J...   \n",
            "170630       Taiwan  https://open.spotify.com/track/5rCNIuDc3VD7q6H...   \n",
            "170631       Taiwan  https://open.spotify.com/track/0525Cll5exsrybt...   \n",
            "170632       Taiwan  https://open.spotify.com/track/6IUFuke9UsBg2FD...   \n",
            "\n",
            "        Popularity       Title            Artist Album/Single  \\\n",
            "0         31833.95  adan y eva      Paulo Londra       single   \n",
            "1             8.00  adan y eva      Paulo Londra       single   \n",
            "2         76924.40  adan y eva      Paulo Londra       single   \n",
            "3           849.60  adan y eva      Paulo Londra       single   \n",
            "4         20739.10  adan y eva      Paulo Londra       single   \n",
            "...            ...         ...               ...          ...   \n",
            "170628       31.20   smalltown  Luke Christopher       single   \n",
            "170629      156.00          灰狼            G.E.M.        album   \n",
            "170630       90.40        預念患者               張赫宣        album   \n",
            "170631       21.60        清晨巴士          Crowd Lu        album   \n",
            "170632       46.40   gettin by               ONE       single   \n",
            "\n",
            "                    Genre Artist_followers Explicit       Album  ... Sweden  \\\n",
            "0       argentine hip hop       11427104.0    False  Adan y Eva  ...      0   \n",
            "1       argentine hip hop       11427104.0    False  Adan y Eva  ...      0   \n",
            "2       argentine hip hop       11427104.0    False  Adan y Eva  ...      0   \n",
            "3       argentine hip hop       11427104.0    False  Adan y Eva  ...      0   \n",
            "4       argentine hip hop       11427104.0    False  Adan y Eva  ...      0   \n",
            "...                   ...              ...      ...         ...  ...    ...   \n",
            "170628      indie pop rap         152740.0     True   SmallTown  ...      0   \n",
            "170629           mandopop        1225408.0    False       摩天動物園  ...      0   \n",
            "170630                n-a             38.0    False     Freedom  ...      0   \n",
            "170631      chinese indie         149875.0    False    有吉他的流行歌曲  ...      0   \n",
            "170632              k-rap         205012.0    False     ONE DAY  ...      0   \n",
            "\n",
            "       Switzerland Taiwan Turkey UK USA Popu_max Top10_dummy Top50_dummy  \\\n",
            "0                0      0      0  0   0       10         1.0         1.0   \n",
            "1                0      0      0  0   1      191         0.0         0.0   \n",
            "2                0      0      0  0   0        1         1.0         1.0   \n",
            "3                0      0      0  0   0      126         0.0         0.0   \n",
            "4                1      0      0  0   0       21         0.0         1.0   \n",
            "...            ...    ...    ... ..  ..      ...         ...         ...   \n",
            "170628           0      1      0  0   0      162         0.0         0.0   \n",
            "170629           0      1      0  0   0      130         0.0         0.0   \n",
            "170630           0      1      0  0   0      133         0.0         0.0   \n",
            "170631           0      1      0  0   0      174         0.0         0.0   \n",
            "170632           0      1      0  0   0      143         0.0         0.0   \n",
            "\n",
            "                            Cluster  \n",
            "0                            global  \n",
            "1       english speaking and nordic  \n",
            "2                  spanish speaking  \n",
            "3       english speaking and nordic  \n",
            "4       english speaking and nordic  \n",
            "...                             ...  \n",
            "170628  english speaking and nordic  \n",
            "170629  english speaking and nordic  \n",
            "170630  english speaking and nordic  \n",
            "170631  english speaking and nordic  \n",
            "170632  english speaking and nordic  \n",
            "\n",
            "[170633 rows x 151 columns]\n"
          ]
        }
      ]
    },
    {
      "cell_type": "code",
      "source": [
        "from pyspark.ml.regression import LinearRegression\n",
        "from pyspark.mllib.evaluation import RegressionMetrics\n",
        "\n",
        "from pyspark.ml.tuning import ParamGridBuilder, CrossValidator, CrossValidatorModel\n",
        "from pyspark.ml.feature import VectorAssembler, StandardScaler\n",
        "from pyspark.ml.evaluation import RegressionEvaluator"
      ],
      "metadata": {
        "id": "32Jvcw6edea2"
      },
      "execution_count": null,
      "outputs": []
    },
    {
      "cell_type": "code",
      "source": [
        "spark = SparkSession.builder.master(\"local[2]\").appName(\"Spotify-Huge-Dataset\").getOrCreate() #.enableHiveSupport()\n",
        "spark"
      ],
      "metadata": {
        "colab": {
          "base_uri": "https://localhost:8080/",
          "height": 222
        },
        "id": "jX_K7xDXeyH8",
        "outputId": "3a333875-fff8-4467-df78-a51608dd7e6b"
      },
      "execution_count": null,
      "outputs": [
        {
          "output_type": "execute_result",
          "data": {
            "text/plain": [
              "<pyspark.sql.session.SparkSession at 0x7fd2fccbd220>"
            ],
            "text/html": [
              "\n",
              "            <div>\n",
              "                <p><b>SparkSession - in-memory</b></p>\n",
              "                \n",
              "        <div>\n",
              "            <p><b>SparkContext</b></p>\n",
              "\n",
              "            <p><a href=\"http://e1da8caa9a75:4040\">Spark UI</a></p>\n",
              "\n",
              "            <dl>\n",
              "              <dt>Version</dt>\n",
              "                <dd><code>v3.3.1</code></dd>\n",
              "              <dt>Master</dt>\n",
              "                <dd><code>local[2]</code></dd>\n",
              "              <dt>AppName</dt>\n",
              "                <dd><code>Spotify-Huge-Dataset</code></dd>\n",
              "            </dl>\n",
              "        </div>\n",
              "        \n",
              "            </div>\n",
              "        "
            ]
          },
          "metadata": {},
          "execution_count": 10
        }
      ]
    },
    {
      "cell_type": "code",
      "source": [
        "# Old way depreciated in 3.0.0\n",
        "sc = spark.sparkContext\n",
        "sqlContext = SQLContext(sc)\n",
        "# sqlContext = SQLContext(spark)"
      ],
      "metadata": {
        "colab": {
          "base_uri": "https://localhost:8080/"
        },
        "id": "8mQwRR0te2Py",
        "outputId": "4f5fdfa2-1659-4d0e-b285-884e438d3970"
      },
      "execution_count": null,
      "outputs": [
        {
          "output_type": "stream",
          "name": "stderr",
          "text": [
            "/usr/local/lib/python3.8/dist-packages/pyspark/sql/context.py:112: FutureWarning:\n",
            "\n",
            "Deprecated in 3.0.0. Use SparkSession.builder.getOrCreate() instead.\n",
            "\n"
          ]
        }
      ]
    },
    {
      "cell_type": "code",
      "source": [
        "df = spark.read.option(\"header\", True).csv('Final database.csv')\n",
        "df = df.withColumn(\"Release_date\", F.to_date(\"Release_date\", \"yyyy-MM-dd\"))\n",
        "numerical_features = ['danceability', 'energy', 'instrumentalness', 'valence', 'liveliness', 'speechiness', 'acoustics',\n",
        "                      'instrumentalness', 'tempo', 'duration_ms', \n",
        "                      'time_signature', 'Days_since_release', 'n_words']\n",
        "\n",
        "for c in numerical_features:\n",
        "    df = df.withColumn(c, df[c].cast(\"float\"))\n",
        "    \n",
        "cols_to_drop = ['syuzhet_norm', 'bing_norm', 'afinn_norm', 'nrc_norm', 'syuzhet', 'bing'] \n",
        "for c in cols_to_drop:\n",
        "    df.drop(c).collect()\n",
        "    \n",
        "df.printSchema()\n",
        "# df.show(n=1, truncate=False, vertical=True)"
      ],
      "metadata": {
        "colab": {
          "base_uri": "https://localhost:8080/"
        },
        "id": "D2XsL-qInGcu",
        "outputId": "ca71b3c3-0520-481d-f33f-2b72966360f5"
      },
      "execution_count": null,
      "outputs": [
        {
          "output_type": "stream",
          "name": "stdout",
          "text": [
            "root\n",
            " |-- Country0: string (nullable = true)\n",
            " |-- Uri: string (nullable = true)\n",
            " |-- Popularity: string (nullable = true)\n",
            " |-- Title: string (nullable = true)\n",
            " |-- Artist: string (nullable = true)\n",
            " |-- Album/Single: string (nullable = true)\n",
            " |-- Genre: string (nullable = true)\n",
            " |-- Artist_followers: string (nullable = true)\n",
            " |-- Explicit: string (nullable = true)\n",
            " |-- Album9: string (nullable = true)\n",
            " |-- Release_date: date (nullable = true)\n",
            " |-- Track_number: string (nullable = true)\n",
            " |-- Tracks_in_album: string (nullable = true)\n",
            " |-- danceability: float (nullable = true)\n",
            " |-- energy: float (nullable = true)\n",
            " |-- key: string (nullable = true)\n",
            " |-- loudness: string (nullable = true)\n",
            " |-- mode: string (nullable = true)\n",
            " |-- speechiness: float (nullable = true)\n",
            " |-- acoustics: float (nullable = true)\n",
            " |-- instrumentalness: float (nullable = true)\n",
            " |-- liveliness: float (nullable = true)\n",
            " |-- valence: float (nullable = true)\n",
            " |-- tempo: float (nullable = true)\n",
            " |-- duration_ms: float (nullable = true)\n",
            " |-- time_signature: float (nullable = true)\n",
            " |-- Genre_new: string (nullable = true)\n",
            " |-- Days_since_release: float (nullable = true)\n",
            " |-- Released_after_2017: string (nullable = true)\n",
            " |-- Explicit_false: string (nullable = true)\n",
            " |-- Explicit_true: string (nullable = true)\n",
            " |-- album31: string (nullable = true)\n",
            " |-- compilation: string (nullable = true)\n",
            " |-- single: string (nullable = true)\n",
            " |-- bolero: string (nullable = true)\n",
            " |-- boy band: string (nullable = true)\n",
            " |-- country36: string (nullable = true)\n",
            " |-- dance/electronic: string (nullable = true)\n",
            " |-- else: string (nullable = true)\n",
            " |-- funk: string (nullable = true)\n",
            " |-- hip hop: string (nullable = true)\n",
            " |-- house: string (nullable = true)\n",
            " |-- indie: string (nullable = true)\n",
            " |-- jazz: string (nullable = true)\n",
            " |-- k-pop: string (nullable = true)\n",
            " |-- latin: string (nullable = true)\n",
            " |-- metal: string (nullable = true)\n",
            " |-- opm: string (nullable = true)\n",
            " |-- pop: string (nullable = true)\n",
            " |-- r&b/soul: string (nullable = true)\n",
            " |-- rap: string (nullable = true)\n",
            " |-- reggae: string (nullable = true)\n",
            " |-- reggaeton: string (nullable = true)\n",
            " |-- rock: string (nullable = true)\n",
            " |-- trap: string (nullable = true)\n",
            " |-- syuzhet_norm: string (nullable = true)\n",
            " |-- bing_norm: string (nullable = true)\n",
            " |-- afinn_norm: string (nullable = true)\n",
            " |-- nrc_norm: string (nullable = true)\n",
            " |-- syuzhet: string (nullable = true)\n",
            " |-- bing: string (nullable = true)\n",
            " |-- afinn: string (nullable = true)\n",
            " |-- nrc: string (nullable = true)\n",
            " |-- anger: string (nullable = true)\n",
            " |-- anticipation: string (nullable = true)\n",
            " |-- disgust: string (nullable = true)\n",
            " |-- fear: string (nullable = true)\n",
            " |-- joy: string (nullable = true)\n",
            " |-- sadness: string (nullable = true)\n",
            " |-- surprise: string (nullable = true)\n",
            " |-- trust: string (nullable = true)\n",
            " |-- negative: string (nullable = true)\n",
            " |-- positive: string (nullable = true)\n",
            " |-- n_words: float (nullable = true)\n",
            " |-- anger_norm: string (nullable = true)\n",
            " |-- anticipation_norm: string (nullable = true)\n",
            " |-- disgust_norm: string (nullable = true)\n",
            " |-- fear_norm: string (nullable = true)\n",
            " |-- joy_norm: string (nullable = true)\n",
            " |-- sadness_norm: string (nullable = true)\n",
            " |-- surprise_norm: string (nullable = true)\n",
            " |-- trust_norm: string (nullable = true)\n",
            " |-- negative_norm: string (nullable = true)\n",
            " |-- positive_norm: string (nullable = true)\n",
            " |-- anger_norm2: string (nullable = true)\n",
            " |-- anticipation_norm2: string (nullable = true)\n",
            " |-- disgust_norm2: string (nullable = true)\n",
            " |-- fear_norm2: string (nullable = true)\n",
            " |-- joy_norm2: string (nullable = true)\n",
            " |-- sadness_norm2: string (nullable = true)\n",
            " |-- surprise_norm2: string (nullable = true)\n",
            " |-- trust_norm2: string (nullable = true)\n",
            " |-- negative_norm2: string (nullable = true)\n",
            " |-- positive_norm2: string (nullable = true)\n",
            " |-- negative_bog_jr: string (nullable = true)\n",
            " |-- positive_bog_jr: string (nullable = true)\n",
            " |-- Bayes: string (nullable = true)\n",
            " |-- Negative_Bayes: string (nullable = true)\n",
            " |-- Neutral_Bayes: string (nullable = true)\n",
            " |-- Positive_Bayes: string (nullable = true)\n",
            " |-- LDA_Topic: string (nullable = true)\n",
            " |-- Celebrate: string (nullable = true)\n",
            " |-- Desire: string (nullable = true)\n",
            " |-- Explore: string (nullable = true)\n",
            " |-- Fun: string (nullable = true)\n",
            " |-- Hope: string (nullable = true)\n",
            " |-- Love: string (nullable = true)\n",
            " |-- Nostalgia: string (nullable = true)\n",
            " |-- Thug: string (nullable = true)\n",
            " |-- bing_norm_negative: string (nullable = true)\n",
            " |-- bing_norm_neutral: string (nullable = true)\n",
            " |-- bing_norm_positive: string (nullable = true)\n",
            " |-- Argentina: string (nullable = true)\n",
            " |-- Australia: string (nullable = true)\n",
            " |-- Austria: string (nullable = true)\n",
            " |-- Belgium: string (nullable = true)\n",
            " |-- Brazil: string (nullable = true)\n",
            " |-- Canada: string (nullable = true)\n",
            " |-- Chile: string (nullable = true)\n",
            " |-- Colombia: string (nullable = true)\n",
            " |-- Costa Rica: string (nullable = true)\n",
            " |-- Denmark: string (nullable = true)\n",
            " |-- Ecuador: string (nullable = true)\n",
            " |-- Finland: string (nullable = true)\n",
            " |-- France: string (nullable = true)\n",
            " |-- Germany: string (nullable = true)\n",
            " |-- Global: string (nullable = true)\n",
            " |-- Indonesia: string (nullable = true)\n",
            " |-- Ireland: string (nullable = true)\n",
            " |-- Italy: string (nullable = true)\n",
            " |-- Malaysia: string (nullable = true)\n",
            " |-- Mexico: string (nullable = true)\n",
            " |-- Netherlands: string (nullable = true)\n",
            " |-- New Zealand: string (nullable = true)\n",
            " |-- Norway: string (nullable = true)\n",
            " |-- Peru: string (nullable = true)\n",
            " |-- Philippines: string (nullable = true)\n",
            " |-- Poland: string (nullable = true)\n",
            " |-- Portugal: string (nullable = true)\n",
            " |-- Singapore: string (nullable = true)\n",
            " |-- Spain: string (nullable = true)\n",
            " |-- Sweden: string (nullable = true)\n",
            " |-- Switzerland: string (nullable = true)\n",
            " |-- Taiwan: string (nullable = true)\n",
            " |-- Turkey: string (nullable = true)\n",
            " |-- UK: string (nullable = true)\n",
            " |-- USA: string (nullable = true)\n",
            " |-- Popu_max: string (nullable = true)\n",
            " |-- Top10_dummy: string (nullable = true)\n",
            " |-- Top50_dummy: string (nullable = true)\n",
            " |-- Cluster: string (nullable = true)\n",
            "\n"
          ]
        }
      ]
    },
    {
      "cell_type": "markdown",
      "source": [
        "EDA"
      ],
      "metadata": {
        "id": "jMIBXZH3e8WV"
      }
    },
    {
      "cell_type": "code",
      "source": [
        "# how many unique songs are there in the dataset?\n",
        "df.select([\"Title\",\"Artist\"]).distinct().count()"
      ],
      "metadata": {
        "colab": {
          "base_uri": "https://localhost:8080/"
        },
        "id": "jXrt3Uxre52O",
        "outputId": "c7e2a267-b23a-4e44-c250-6731688a182f"
      },
      "execution_count": null,
      "outputs": [
        {
          "output_type": "execute_result",
          "data": {
            "text/plain": [
              "56241"
            ]
          },
          "metadata": {},
          "execution_count": 13
        }
      ]
    },
    {
      "cell_type": "code",
      "source": [
        "print(\"Dataset Shape using spark syntax:\\n\",(df.count(), len(df.columns)))"
      ],
      "metadata": {
        "colab": {
          "base_uri": "https://localhost:8080/"
        },
        "id": "DSfTQQy3fCSZ",
        "outputId": "72001e37-7f51-4a62-a1be-f8b38e2ef756"
      },
      "execution_count": null,
      "outputs": [
        {
          "output_type": "stream",
          "name": "stdout",
          "text": [
            "Dataset Shape using spark syntax:\n",
            " (170633, 151)\n"
          ]
        }
      ]
    },
    {
      "cell_type": "code",
      "source": [
        "# each count is a song that was in the top 200 most played on a day on spotify during the last 3 years\n",
        "result_df = (df.groupBy(\"Artist\")\n",
        "               .count()\n",
        "               .orderBy(\"count\", ascending=False)\n",
        "               .limit(10)\n",
        "               .toPandas()\n",
        "            )\n",
        "px.bar(result_df, y='Artist', x='count', title='Most Prolific Artists')"
      ],
      "metadata": {
        "colab": {
          "base_uri": "https://localhost:8080/",
          "height": 542
        },
        "id": "Rnc3i4R-fF1-",
        "outputId": "413d7327-dcc2-4bc3-e83d-6f4f6bf5799e"
      },
      "execution_count": null,
      "outputs": [
        {
          "output_type": "display_data",
          "data": {
            "application/vnd.plotly.v1+json": {
              "data": [
                {
                  "alignmentgroup": "True",
                  "hovertemplate": "count=%{x}<br>Artist=%{y}<extra></extra>",
                  "legendgroup": "",
                  "marker": {
                    "color": "#636efa",
                    "pattern": {
                      "shape": ""
                    }
                  },
                  "name": "",
                  "offsetgroup": "",
                  "orientation": "h",
                  "showlegend": false,
                  "textposition": "auto",
                  "x": [
                    1487,
                    1473,
                    1376,
                    1285,
                    989,
                    911,
                    881,
                    798,
                    786,
                    777
                  ],
                  "xaxis": "x",
                  "y": [
                    "Ariana Grande",
                    "Drake",
                    "BTS",
                    "Taylor Swift",
                    "XXXTENTACION",
                    "Ed Sheeran",
                    "The Weeknd",
                    "Linkin Park",
                    "Eminem",
                    "Billie Eilish"
                  ],
                  "yaxis": "y",
                  "type": "bar"
                }
              ],
              "layout": {
                "template": {
                  "data": {
                    "bar": [
                      {
                        "error_x": {
                          "color": "#2a3f5f"
                        },
                        "error_y": {
                          "color": "#2a3f5f"
                        },
                        "marker": {
                          "line": {
                            "color": "#E5ECF6",
                            "width": 0.5
                          },
                          "pattern": {
                            "fillmode": "overlay",
                            "size": 10,
                            "solidity": 0.2
                          }
                        },
                        "type": "bar"
                      }
                    ],
                    "barpolar": [
                      {
                        "marker": {
                          "line": {
                            "color": "#E5ECF6",
                            "width": 0.5
                          },
                          "pattern": {
                            "fillmode": "overlay",
                            "size": 10,
                            "solidity": 0.2
                          }
                        },
                        "type": "barpolar"
                      }
                    ],
                    "carpet": [
                      {
                        "aaxis": {
                          "endlinecolor": "#2a3f5f",
                          "gridcolor": "white",
                          "linecolor": "white",
                          "minorgridcolor": "white",
                          "startlinecolor": "#2a3f5f"
                        },
                        "baxis": {
                          "endlinecolor": "#2a3f5f",
                          "gridcolor": "white",
                          "linecolor": "white",
                          "minorgridcolor": "white",
                          "startlinecolor": "#2a3f5f"
                        },
                        "type": "carpet"
                      }
                    ],
                    "choropleth": [
                      {
                        "colorbar": {
                          "outlinewidth": 0,
                          "ticks": ""
                        },
                        "type": "choropleth"
                      }
                    ],
                    "contour": [
                      {
                        "colorbar": {
                          "outlinewidth": 0,
                          "ticks": ""
                        },
                        "colorscale": [
                          [
                            0,
                            "#0d0887"
                          ],
                          [
                            0.1111111111111111,
                            "#46039f"
                          ],
                          [
                            0.2222222222222222,
                            "#7201a8"
                          ],
                          [
                            0.3333333333333333,
                            "#9c179e"
                          ],
                          [
                            0.4444444444444444,
                            "#bd3786"
                          ],
                          [
                            0.5555555555555556,
                            "#d8576b"
                          ],
                          [
                            0.6666666666666666,
                            "#ed7953"
                          ],
                          [
                            0.7777777777777778,
                            "#fb9f3a"
                          ],
                          [
                            0.8888888888888888,
                            "#fdca26"
                          ],
                          [
                            1,
                            "#f0f921"
                          ]
                        ],
                        "type": "contour"
                      }
                    ],
                    "contourcarpet": [
                      {
                        "colorbar": {
                          "outlinewidth": 0,
                          "ticks": ""
                        },
                        "type": "contourcarpet"
                      }
                    ],
                    "heatmap": [
                      {
                        "colorbar": {
                          "outlinewidth": 0,
                          "ticks": ""
                        },
                        "colorscale": [
                          [
                            0,
                            "#0d0887"
                          ],
                          [
                            0.1111111111111111,
                            "#46039f"
                          ],
                          [
                            0.2222222222222222,
                            "#7201a8"
                          ],
                          [
                            0.3333333333333333,
                            "#9c179e"
                          ],
                          [
                            0.4444444444444444,
                            "#bd3786"
                          ],
                          [
                            0.5555555555555556,
                            "#d8576b"
                          ],
                          [
                            0.6666666666666666,
                            "#ed7953"
                          ],
                          [
                            0.7777777777777778,
                            "#fb9f3a"
                          ],
                          [
                            0.8888888888888888,
                            "#fdca26"
                          ],
                          [
                            1,
                            "#f0f921"
                          ]
                        ],
                        "type": "heatmap"
                      }
                    ],
                    "heatmapgl": [
                      {
                        "colorbar": {
                          "outlinewidth": 0,
                          "ticks": ""
                        },
                        "colorscale": [
                          [
                            0,
                            "#0d0887"
                          ],
                          [
                            0.1111111111111111,
                            "#46039f"
                          ],
                          [
                            0.2222222222222222,
                            "#7201a8"
                          ],
                          [
                            0.3333333333333333,
                            "#9c179e"
                          ],
                          [
                            0.4444444444444444,
                            "#bd3786"
                          ],
                          [
                            0.5555555555555556,
                            "#d8576b"
                          ],
                          [
                            0.6666666666666666,
                            "#ed7953"
                          ],
                          [
                            0.7777777777777778,
                            "#fb9f3a"
                          ],
                          [
                            0.8888888888888888,
                            "#fdca26"
                          ],
                          [
                            1,
                            "#f0f921"
                          ]
                        ],
                        "type": "heatmapgl"
                      }
                    ],
                    "histogram": [
                      {
                        "marker": {
                          "pattern": {
                            "fillmode": "overlay",
                            "size": 10,
                            "solidity": 0.2
                          }
                        },
                        "type": "histogram"
                      }
                    ],
                    "histogram2d": [
                      {
                        "colorbar": {
                          "outlinewidth": 0,
                          "ticks": ""
                        },
                        "colorscale": [
                          [
                            0,
                            "#0d0887"
                          ],
                          [
                            0.1111111111111111,
                            "#46039f"
                          ],
                          [
                            0.2222222222222222,
                            "#7201a8"
                          ],
                          [
                            0.3333333333333333,
                            "#9c179e"
                          ],
                          [
                            0.4444444444444444,
                            "#bd3786"
                          ],
                          [
                            0.5555555555555556,
                            "#d8576b"
                          ],
                          [
                            0.6666666666666666,
                            "#ed7953"
                          ],
                          [
                            0.7777777777777778,
                            "#fb9f3a"
                          ],
                          [
                            0.8888888888888888,
                            "#fdca26"
                          ],
                          [
                            1,
                            "#f0f921"
                          ]
                        ],
                        "type": "histogram2d"
                      }
                    ],
                    "histogram2dcontour": [
                      {
                        "colorbar": {
                          "outlinewidth": 0,
                          "ticks": ""
                        },
                        "colorscale": [
                          [
                            0,
                            "#0d0887"
                          ],
                          [
                            0.1111111111111111,
                            "#46039f"
                          ],
                          [
                            0.2222222222222222,
                            "#7201a8"
                          ],
                          [
                            0.3333333333333333,
                            "#9c179e"
                          ],
                          [
                            0.4444444444444444,
                            "#bd3786"
                          ],
                          [
                            0.5555555555555556,
                            "#d8576b"
                          ],
                          [
                            0.6666666666666666,
                            "#ed7953"
                          ],
                          [
                            0.7777777777777778,
                            "#fb9f3a"
                          ],
                          [
                            0.8888888888888888,
                            "#fdca26"
                          ],
                          [
                            1,
                            "#f0f921"
                          ]
                        ],
                        "type": "histogram2dcontour"
                      }
                    ],
                    "mesh3d": [
                      {
                        "colorbar": {
                          "outlinewidth": 0,
                          "ticks": ""
                        },
                        "type": "mesh3d"
                      }
                    ],
                    "parcoords": [
                      {
                        "line": {
                          "colorbar": {
                            "outlinewidth": 0,
                            "ticks": ""
                          }
                        },
                        "type": "parcoords"
                      }
                    ],
                    "pie": [
                      {
                        "automargin": true,
                        "type": "pie"
                      }
                    ],
                    "scatter": [
                      {
                        "marker": {
                          "colorbar": {
                            "outlinewidth": 0,
                            "ticks": ""
                          }
                        },
                        "type": "scatter"
                      }
                    ],
                    "scatter3d": [
                      {
                        "line": {
                          "colorbar": {
                            "outlinewidth": 0,
                            "ticks": ""
                          }
                        },
                        "marker": {
                          "colorbar": {
                            "outlinewidth": 0,
                            "ticks": ""
                          }
                        },
                        "type": "scatter3d"
                      }
                    ],
                    "scattercarpet": [
                      {
                        "marker": {
                          "colorbar": {
                            "outlinewidth": 0,
                            "ticks": ""
                          }
                        },
                        "type": "scattercarpet"
                      }
                    ],
                    "scattergeo": [
                      {
                        "marker": {
                          "colorbar": {
                            "outlinewidth": 0,
                            "ticks": ""
                          }
                        },
                        "type": "scattergeo"
                      }
                    ],
                    "scattergl": [
                      {
                        "marker": {
                          "colorbar": {
                            "outlinewidth": 0,
                            "ticks": ""
                          }
                        },
                        "type": "scattergl"
                      }
                    ],
                    "scattermapbox": [
                      {
                        "marker": {
                          "colorbar": {
                            "outlinewidth": 0,
                            "ticks": ""
                          }
                        },
                        "type": "scattermapbox"
                      }
                    ],
                    "scatterpolar": [
                      {
                        "marker": {
                          "colorbar": {
                            "outlinewidth": 0,
                            "ticks": ""
                          }
                        },
                        "type": "scatterpolar"
                      }
                    ],
                    "scatterpolargl": [
                      {
                        "marker": {
                          "colorbar": {
                            "outlinewidth": 0,
                            "ticks": ""
                          }
                        },
                        "type": "scatterpolargl"
                      }
                    ],
                    "scatterternary": [
                      {
                        "marker": {
                          "colorbar": {
                            "outlinewidth": 0,
                            "ticks": ""
                          }
                        },
                        "type": "scatterternary"
                      }
                    ],
                    "surface": [
                      {
                        "colorbar": {
                          "outlinewidth": 0,
                          "ticks": ""
                        },
                        "colorscale": [
                          [
                            0,
                            "#0d0887"
                          ],
                          [
                            0.1111111111111111,
                            "#46039f"
                          ],
                          [
                            0.2222222222222222,
                            "#7201a8"
                          ],
                          [
                            0.3333333333333333,
                            "#9c179e"
                          ],
                          [
                            0.4444444444444444,
                            "#bd3786"
                          ],
                          [
                            0.5555555555555556,
                            "#d8576b"
                          ],
                          [
                            0.6666666666666666,
                            "#ed7953"
                          ],
                          [
                            0.7777777777777778,
                            "#fb9f3a"
                          ],
                          [
                            0.8888888888888888,
                            "#fdca26"
                          ],
                          [
                            1,
                            "#f0f921"
                          ]
                        ],
                        "type": "surface"
                      }
                    ],
                    "table": [
                      {
                        "cells": {
                          "fill": {
                            "color": "#EBF0F8"
                          },
                          "line": {
                            "color": "white"
                          }
                        },
                        "header": {
                          "fill": {
                            "color": "#C8D4E3"
                          },
                          "line": {
                            "color": "white"
                          }
                        },
                        "type": "table"
                      }
                    ]
                  },
                  "layout": {
                    "annotationdefaults": {
                      "arrowcolor": "#2a3f5f",
                      "arrowhead": 0,
                      "arrowwidth": 1
                    },
                    "autotypenumbers": "strict",
                    "coloraxis": {
                      "colorbar": {
                        "outlinewidth": 0,
                        "ticks": ""
                      }
                    },
                    "colorscale": {
                      "diverging": [
                        [
                          0,
                          "#8e0152"
                        ],
                        [
                          0.1,
                          "#c51b7d"
                        ],
                        [
                          0.2,
                          "#de77ae"
                        ],
                        [
                          0.3,
                          "#f1b6da"
                        ],
                        [
                          0.4,
                          "#fde0ef"
                        ],
                        [
                          0.5,
                          "#f7f7f7"
                        ],
                        [
                          0.6,
                          "#e6f5d0"
                        ],
                        [
                          0.7,
                          "#b8e186"
                        ],
                        [
                          0.8,
                          "#7fbc41"
                        ],
                        [
                          0.9,
                          "#4d9221"
                        ],
                        [
                          1,
                          "#276419"
                        ]
                      ],
                      "sequential": [
                        [
                          0,
                          "#0d0887"
                        ],
                        [
                          0.1111111111111111,
                          "#46039f"
                        ],
                        [
                          0.2222222222222222,
                          "#7201a8"
                        ],
                        [
                          0.3333333333333333,
                          "#9c179e"
                        ],
                        [
                          0.4444444444444444,
                          "#bd3786"
                        ],
                        [
                          0.5555555555555556,
                          "#d8576b"
                        ],
                        [
                          0.6666666666666666,
                          "#ed7953"
                        ],
                        [
                          0.7777777777777778,
                          "#fb9f3a"
                        ],
                        [
                          0.8888888888888888,
                          "#fdca26"
                        ],
                        [
                          1,
                          "#f0f921"
                        ]
                      ],
                      "sequentialminus": [
                        [
                          0,
                          "#0d0887"
                        ],
                        [
                          0.1111111111111111,
                          "#46039f"
                        ],
                        [
                          0.2222222222222222,
                          "#7201a8"
                        ],
                        [
                          0.3333333333333333,
                          "#9c179e"
                        ],
                        [
                          0.4444444444444444,
                          "#bd3786"
                        ],
                        [
                          0.5555555555555556,
                          "#d8576b"
                        ],
                        [
                          0.6666666666666666,
                          "#ed7953"
                        ],
                        [
                          0.7777777777777778,
                          "#fb9f3a"
                        ],
                        [
                          0.8888888888888888,
                          "#fdca26"
                        ],
                        [
                          1,
                          "#f0f921"
                        ]
                      ]
                    },
                    "colorway": [
                      "#636efa",
                      "#EF553B",
                      "#00cc96",
                      "#ab63fa",
                      "#FFA15A",
                      "#19d3f3",
                      "#FF6692",
                      "#B6E880",
                      "#FF97FF",
                      "#FECB52"
                    ],
                    "font": {
                      "color": "#2a3f5f"
                    },
                    "geo": {
                      "bgcolor": "white",
                      "lakecolor": "white",
                      "landcolor": "#E5ECF6",
                      "showlakes": true,
                      "showland": true,
                      "subunitcolor": "white"
                    },
                    "hoverlabel": {
                      "align": "left"
                    },
                    "hovermode": "closest",
                    "mapbox": {
                      "style": "light"
                    },
                    "paper_bgcolor": "white",
                    "plot_bgcolor": "#E5ECF6",
                    "polar": {
                      "angularaxis": {
                        "gridcolor": "white",
                        "linecolor": "white",
                        "ticks": ""
                      },
                      "bgcolor": "#E5ECF6",
                      "radialaxis": {
                        "gridcolor": "white",
                        "linecolor": "white",
                        "ticks": ""
                      }
                    },
                    "scene": {
                      "xaxis": {
                        "backgroundcolor": "#E5ECF6",
                        "gridcolor": "white",
                        "gridwidth": 2,
                        "linecolor": "white",
                        "showbackground": true,
                        "ticks": "",
                        "zerolinecolor": "white"
                      },
                      "yaxis": {
                        "backgroundcolor": "#E5ECF6",
                        "gridcolor": "white",
                        "gridwidth": 2,
                        "linecolor": "white",
                        "showbackground": true,
                        "ticks": "",
                        "zerolinecolor": "white"
                      },
                      "zaxis": {
                        "backgroundcolor": "#E5ECF6",
                        "gridcolor": "white",
                        "gridwidth": 2,
                        "linecolor": "white",
                        "showbackground": true,
                        "ticks": "",
                        "zerolinecolor": "white"
                      }
                    },
                    "shapedefaults": {
                      "line": {
                        "color": "#2a3f5f"
                      }
                    },
                    "ternary": {
                      "aaxis": {
                        "gridcolor": "white",
                        "linecolor": "white",
                        "ticks": ""
                      },
                      "baxis": {
                        "gridcolor": "white",
                        "linecolor": "white",
                        "ticks": ""
                      },
                      "bgcolor": "#E5ECF6",
                      "caxis": {
                        "gridcolor": "white",
                        "linecolor": "white",
                        "ticks": ""
                      }
                    },
                    "title": {
                      "x": 0.05
                    },
                    "xaxis": {
                      "automargin": true,
                      "gridcolor": "white",
                      "linecolor": "white",
                      "ticks": "",
                      "title": {
                        "standoff": 15
                      },
                      "zerolinecolor": "white",
                      "zerolinewidth": 2
                    },
                    "yaxis": {
                      "automargin": true,
                      "gridcolor": "white",
                      "linecolor": "white",
                      "ticks": "",
                      "title": {
                        "standoff": 15
                      },
                      "zerolinecolor": "white",
                      "zerolinewidth": 2
                    }
                  }
                },
                "xaxis": {
                  "anchor": "y",
                  "domain": [
                    0,
                    1
                  ],
                  "title": {
                    "text": "count"
                  }
                },
                "yaxis": {
                  "anchor": "x",
                  "domain": [
                    0,
                    1
                  ],
                  "title": {
                    "text": "Artist"
                  }
                },
                "legend": {
                  "tracegroupgap": 0
                },
                "title": {
                  "text": "Most Prolific Artists"
                },
                "barmode": "relative"
              },
              "config": {
                "plotlyServerURL": "https://plot.ly"
              }
            },
            "text/html": [
              "<div>                            <div id=\"cfd2b232-c5cd-43db-b17d-963e0946faca\" class=\"plotly-graph-div\" style=\"height:525px; width:100%;\"></div>            <script type=\"text/javascript\">                require([\"plotly\"], function(Plotly) {                    window.PLOTLYENV=window.PLOTLYENV || {};                                    if (document.getElementById(\"cfd2b232-c5cd-43db-b17d-963e0946faca\")) {                    Plotly.newPlot(                        \"cfd2b232-c5cd-43db-b17d-963e0946faca\",                        [{\"alignmentgroup\":\"True\",\"hovertemplate\":\"count=%{x}<br>Artist=%{y}<extra></extra>\",\"legendgroup\":\"\",\"marker\":{\"color\":\"#636efa\",\"pattern\":{\"shape\":\"\"}},\"name\":\"\",\"offsetgroup\":\"\",\"orientation\":\"h\",\"showlegend\":false,\"textposition\":\"auto\",\"x\":[1487,1473,1376,1285,989,911,881,798,786,777],\"xaxis\":\"x\",\"y\":[\"Ariana Grande\",\"Drake\",\"BTS\",\"Taylor Swift\",\"XXXTENTACION\",\"Ed Sheeran\",\"The Weeknd\",\"Linkin Park\",\"Eminem\",\"Billie Eilish\"],\"yaxis\":\"y\",\"type\":\"bar\"}],                        {\"template\":{\"data\":{\"bar\":[{\"error_x\":{\"color\":\"#2a3f5f\"},\"error_y\":{\"color\":\"#2a3f5f\"},\"marker\":{\"line\":{\"color\":\"#E5ECF6\",\"width\":0.5},\"pattern\":{\"fillmode\":\"overlay\",\"size\":10,\"solidity\":0.2}},\"type\":\"bar\"}],\"barpolar\":[{\"marker\":{\"line\":{\"color\":\"#E5ECF6\",\"width\":0.5},\"pattern\":{\"fillmode\":\"overlay\",\"size\":10,\"solidity\":0.2}},\"type\":\"barpolar\"}],\"carpet\":[{\"aaxis\":{\"endlinecolor\":\"#2a3f5f\",\"gridcolor\":\"white\",\"linecolor\":\"white\",\"minorgridcolor\":\"white\",\"startlinecolor\":\"#2a3f5f\"},\"baxis\":{\"endlinecolor\":\"#2a3f5f\",\"gridcolor\":\"white\",\"linecolor\":\"white\",\"minorgridcolor\":\"white\",\"startlinecolor\":\"#2a3f5f\"},\"type\":\"carpet\"}],\"choropleth\":[{\"colorbar\":{\"outlinewidth\":0,\"ticks\":\"\"},\"type\":\"choropleth\"}],\"contour\":[{\"colorbar\":{\"outlinewidth\":0,\"ticks\":\"\"},\"colorscale\":[[0.0,\"#0d0887\"],[0.1111111111111111,\"#46039f\"],[0.2222222222222222,\"#7201a8\"],[0.3333333333333333,\"#9c179e\"],[0.4444444444444444,\"#bd3786\"],[0.5555555555555556,\"#d8576b\"],[0.6666666666666666,\"#ed7953\"],[0.7777777777777778,\"#fb9f3a\"],[0.8888888888888888,\"#fdca26\"],[1.0,\"#f0f921\"]],\"type\":\"contour\"}],\"contourcarpet\":[{\"colorbar\":{\"outlinewidth\":0,\"ticks\":\"\"},\"type\":\"contourcarpet\"}],\"heatmap\":[{\"colorbar\":{\"outlinewidth\":0,\"ticks\":\"\"},\"colorscale\":[[0.0,\"#0d0887\"],[0.1111111111111111,\"#46039f\"],[0.2222222222222222,\"#7201a8\"],[0.3333333333333333,\"#9c179e\"],[0.4444444444444444,\"#bd3786\"],[0.5555555555555556,\"#d8576b\"],[0.6666666666666666,\"#ed7953\"],[0.7777777777777778,\"#fb9f3a\"],[0.8888888888888888,\"#fdca26\"],[1.0,\"#f0f921\"]],\"type\":\"heatmap\"}],\"heatmapgl\":[{\"colorbar\":{\"outlinewidth\":0,\"ticks\":\"\"},\"colorscale\":[[0.0,\"#0d0887\"],[0.1111111111111111,\"#46039f\"],[0.2222222222222222,\"#7201a8\"],[0.3333333333333333,\"#9c179e\"],[0.4444444444444444,\"#bd3786\"],[0.5555555555555556,\"#d8576b\"],[0.6666666666666666,\"#ed7953\"],[0.7777777777777778,\"#fb9f3a\"],[0.8888888888888888,\"#fdca26\"],[1.0,\"#f0f921\"]],\"type\":\"heatmapgl\"}],\"histogram\":[{\"marker\":{\"pattern\":{\"fillmode\":\"overlay\",\"size\":10,\"solidity\":0.2}},\"type\":\"histogram\"}],\"histogram2d\":[{\"colorbar\":{\"outlinewidth\":0,\"ticks\":\"\"},\"colorscale\":[[0.0,\"#0d0887\"],[0.1111111111111111,\"#46039f\"],[0.2222222222222222,\"#7201a8\"],[0.3333333333333333,\"#9c179e\"],[0.4444444444444444,\"#bd3786\"],[0.5555555555555556,\"#d8576b\"],[0.6666666666666666,\"#ed7953\"],[0.7777777777777778,\"#fb9f3a\"],[0.8888888888888888,\"#fdca26\"],[1.0,\"#f0f921\"]],\"type\":\"histogram2d\"}],\"histogram2dcontour\":[{\"colorbar\":{\"outlinewidth\":0,\"ticks\":\"\"},\"colorscale\":[[0.0,\"#0d0887\"],[0.1111111111111111,\"#46039f\"],[0.2222222222222222,\"#7201a8\"],[0.3333333333333333,\"#9c179e\"],[0.4444444444444444,\"#bd3786\"],[0.5555555555555556,\"#d8576b\"],[0.6666666666666666,\"#ed7953\"],[0.7777777777777778,\"#fb9f3a\"],[0.8888888888888888,\"#fdca26\"],[1.0,\"#f0f921\"]],\"type\":\"histogram2dcontour\"}],\"mesh3d\":[{\"colorbar\":{\"outlinewidth\":0,\"ticks\":\"\"},\"type\":\"mesh3d\"}],\"parcoords\":[{\"line\":{\"colorbar\":{\"outlinewidth\":0,\"ticks\":\"\"}},\"type\":\"parcoords\"}],\"pie\":[{\"automargin\":true,\"type\":\"pie\"}],\"scatter\":[{\"marker\":{\"colorbar\":{\"outlinewidth\":0,\"ticks\":\"\"}},\"type\":\"scatter\"}],\"scatter3d\":[{\"line\":{\"colorbar\":{\"outlinewidth\":0,\"ticks\":\"\"}},\"marker\":{\"colorbar\":{\"outlinewidth\":0,\"ticks\":\"\"}},\"type\":\"scatter3d\"}],\"scattercarpet\":[{\"marker\":{\"colorbar\":{\"outlinewidth\":0,\"ticks\":\"\"}},\"type\":\"scattercarpet\"}],\"scattergeo\":[{\"marker\":{\"colorbar\":{\"outlinewidth\":0,\"ticks\":\"\"}},\"type\":\"scattergeo\"}],\"scattergl\":[{\"marker\":{\"colorbar\":{\"outlinewidth\":0,\"ticks\":\"\"}},\"type\":\"scattergl\"}],\"scattermapbox\":[{\"marker\":{\"colorbar\":{\"outlinewidth\":0,\"ticks\":\"\"}},\"type\":\"scattermapbox\"}],\"scatterpolar\":[{\"marker\":{\"colorbar\":{\"outlinewidth\":0,\"ticks\":\"\"}},\"type\":\"scatterpolar\"}],\"scatterpolargl\":[{\"marker\":{\"colorbar\":{\"outlinewidth\":0,\"ticks\":\"\"}},\"type\":\"scatterpolargl\"}],\"scatterternary\":[{\"marker\":{\"colorbar\":{\"outlinewidth\":0,\"ticks\":\"\"}},\"type\":\"scatterternary\"}],\"surface\":[{\"colorbar\":{\"outlinewidth\":0,\"ticks\":\"\"},\"colorscale\":[[0.0,\"#0d0887\"],[0.1111111111111111,\"#46039f\"],[0.2222222222222222,\"#7201a8\"],[0.3333333333333333,\"#9c179e\"],[0.4444444444444444,\"#bd3786\"],[0.5555555555555556,\"#d8576b\"],[0.6666666666666666,\"#ed7953\"],[0.7777777777777778,\"#fb9f3a\"],[0.8888888888888888,\"#fdca26\"],[1.0,\"#f0f921\"]],\"type\":\"surface\"}],\"table\":[{\"cells\":{\"fill\":{\"color\":\"#EBF0F8\"},\"line\":{\"color\":\"white\"}},\"header\":{\"fill\":{\"color\":\"#C8D4E3\"},\"line\":{\"color\":\"white\"}},\"type\":\"table\"}]},\"layout\":{\"annotationdefaults\":{\"arrowcolor\":\"#2a3f5f\",\"arrowhead\":0,\"arrowwidth\":1},\"autotypenumbers\":\"strict\",\"coloraxis\":{\"colorbar\":{\"outlinewidth\":0,\"ticks\":\"\"}},\"colorscale\":{\"diverging\":[[0,\"#8e0152\"],[0.1,\"#c51b7d\"],[0.2,\"#de77ae\"],[0.3,\"#f1b6da\"],[0.4,\"#fde0ef\"],[0.5,\"#f7f7f7\"],[0.6,\"#e6f5d0\"],[0.7,\"#b8e186\"],[0.8,\"#7fbc41\"],[0.9,\"#4d9221\"],[1,\"#276419\"]],\"sequential\":[[0.0,\"#0d0887\"],[0.1111111111111111,\"#46039f\"],[0.2222222222222222,\"#7201a8\"],[0.3333333333333333,\"#9c179e\"],[0.4444444444444444,\"#bd3786\"],[0.5555555555555556,\"#d8576b\"],[0.6666666666666666,\"#ed7953\"],[0.7777777777777778,\"#fb9f3a\"],[0.8888888888888888,\"#fdca26\"],[1.0,\"#f0f921\"]],\"sequentialminus\":[[0.0,\"#0d0887\"],[0.1111111111111111,\"#46039f\"],[0.2222222222222222,\"#7201a8\"],[0.3333333333333333,\"#9c179e\"],[0.4444444444444444,\"#bd3786\"],[0.5555555555555556,\"#d8576b\"],[0.6666666666666666,\"#ed7953\"],[0.7777777777777778,\"#fb9f3a\"],[0.8888888888888888,\"#fdca26\"],[1.0,\"#f0f921\"]]},\"colorway\":[\"#636efa\",\"#EF553B\",\"#00cc96\",\"#ab63fa\",\"#FFA15A\",\"#19d3f3\",\"#FF6692\",\"#B6E880\",\"#FF97FF\",\"#FECB52\"],\"font\":{\"color\":\"#2a3f5f\"},\"geo\":{\"bgcolor\":\"white\",\"lakecolor\":\"white\",\"landcolor\":\"#E5ECF6\",\"showlakes\":true,\"showland\":true,\"subunitcolor\":\"white\"},\"hoverlabel\":{\"align\":\"left\"},\"hovermode\":\"closest\",\"mapbox\":{\"style\":\"light\"},\"paper_bgcolor\":\"white\",\"plot_bgcolor\":\"#E5ECF6\",\"polar\":{\"angularaxis\":{\"gridcolor\":\"white\",\"linecolor\":\"white\",\"ticks\":\"\"},\"bgcolor\":\"#E5ECF6\",\"radialaxis\":{\"gridcolor\":\"white\",\"linecolor\":\"white\",\"ticks\":\"\"}},\"scene\":{\"xaxis\":{\"backgroundcolor\":\"#E5ECF6\",\"gridcolor\":\"white\",\"gridwidth\":2,\"linecolor\":\"white\",\"showbackground\":true,\"ticks\":\"\",\"zerolinecolor\":\"white\"},\"yaxis\":{\"backgroundcolor\":\"#E5ECF6\",\"gridcolor\":\"white\",\"gridwidth\":2,\"linecolor\":\"white\",\"showbackground\":true,\"ticks\":\"\",\"zerolinecolor\":\"white\"},\"zaxis\":{\"backgroundcolor\":\"#E5ECF6\",\"gridcolor\":\"white\",\"gridwidth\":2,\"linecolor\":\"white\",\"showbackground\":true,\"ticks\":\"\",\"zerolinecolor\":\"white\"}},\"shapedefaults\":{\"line\":{\"color\":\"#2a3f5f\"}},\"ternary\":{\"aaxis\":{\"gridcolor\":\"white\",\"linecolor\":\"white\",\"ticks\":\"\"},\"baxis\":{\"gridcolor\":\"white\",\"linecolor\":\"white\",\"ticks\":\"\"},\"bgcolor\":\"#E5ECF6\",\"caxis\":{\"gridcolor\":\"white\",\"linecolor\":\"white\",\"ticks\":\"\"}},\"title\":{\"x\":0.05},\"xaxis\":{\"automargin\":true,\"gridcolor\":\"white\",\"linecolor\":\"white\",\"ticks\":\"\",\"title\":{\"standoff\":15},\"zerolinecolor\":\"white\",\"zerolinewidth\":2},\"yaxis\":{\"automargin\":true,\"gridcolor\":\"white\",\"linecolor\":\"white\",\"ticks\":\"\",\"title\":{\"standoff\":15},\"zerolinecolor\":\"white\",\"zerolinewidth\":2}}},\"xaxis\":{\"anchor\":\"y\",\"domain\":[0.0,1.0],\"title\":{\"text\":\"count\"}},\"yaxis\":{\"anchor\":\"x\",\"domain\":[0.0,1.0],\"title\":{\"text\":\"Artist\"}},\"legend\":{\"tracegroupgap\":0},\"title\":{\"text\":\"Most Prolific Artists\"},\"barmode\":\"relative\"},                        {\"responsive\": true}                    ).then(function(){\n",
              "                            \n",
              "var gd = document.getElementById('cfd2b232-c5cd-43db-b17d-963e0946faca');\n",
              "var x = new MutationObserver(function (mutations, observer) {{\n",
              "        var display = window.getComputedStyle(gd).display;\n",
              "        if (!display || display === 'none') {{\n",
              "            console.log([gd, 'removed!']);\n",
              "            Plotly.purge(gd);\n",
              "            observer.disconnect();\n",
              "        }}\n",
              "}});\n",
              "\n",
              "// Listen for the removal of the full notebook cells\n",
              "var notebookContainer = gd.closest('#notebook-container');\n",
              "if (notebookContainer) {{\n",
              "    x.observe(notebookContainer, {childList: true});\n",
              "}}\n",
              "\n",
              "// Listen for the clearing of the current output cell\n",
              "var outputEl = gd.closest('.output');\n",
              "if (outputEl) {{\n",
              "    x.observe(outputEl, {childList: true});\n",
              "}}\n",
              "\n",
              "                        })                };                });            </script>        </div>"
            ]
          },
          "metadata": {}
        }
      ]
    },
    {
      "cell_type": "code",
      "source": [
        "# same as above but with seaborn (sometimes plotly doesn't show up in the published notebok)\n",
        "sns.barplot(data=result_df, y='Artist', x='count').set_title('Most Prolific Artists');"
      ],
      "metadata": {
        "colab": {
          "base_uri": "https://localhost:8080/",
          "height": 391
        },
        "id": "6MpPEUJnfI2_",
        "outputId": "a7c55b36-6cd9-42f0-994c-76fdeb204804"
      },
      "execution_count": null,
      "outputs": [
        {
          "output_type": "display_data",
          "data": {
            "text/plain": [
              "<Figure size 432x288 with 1 Axes>"
            ],
            "image/svg+xml": "<?xml version=\"1.0\" encoding=\"utf-8\" standalone=\"no\"?>\n<!DOCTYPE svg PUBLIC \"-//W3C//DTD SVG 1.1//EN\"\n  \"http://www.w3.org/Graphics/SVG/1.1/DTD/svg11.dtd\">\n<!-- Created with matplotlib (https://matplotlib.org/) -->\n<svg height=\"277.314375pt\" version=\"1.1\" viewBox=\"0 0 447.445312 277.314375\" width=\"447.445312pt\" xmlns=\"http://www.w3.org/2000/svg\" xmlns:xlink=\"http://www.w3.org/1999/xlink\">\n <defs>\n  <style type=\"text/css\">\n*{stroke-linecap:butt;stroke-linejoin:round;}\n  </style>\n </defs>\n <g id=\"figure_1\">\n  <g id=\"patch_1\">\n   <path d=\"M 0 277.314375 \nL 447.445312 277.314375 \nL 447.445312 0 \nL 0 0 \nz\n\" style=\"fill:#ffffff;\"/>\n  </g>\n  <g id=\"axes_1\">\n   <g id=\"patch_2\">\n    <path d=\"M 105.445312 239.758125 \nL 440.245313 239.758125 \nL 440.245313 22.318125 \nL 105.445312 22.318125 \nz\n\" style=\"fill:#eaeaf2;\"/>\n   </g>\n   <g id=\"matplotlib.axis_1\">\n    <g id=\"xtick_1\">\n     <g id=\"line2d_1\">\n      <path clip-path=\"url(#pc6d8748e32)\" d=\"M 105.445312 239.758125 \nL 105.445312 22.318125 \n\" style=\"fill:none;stroke:#ffffff;stroke-linecap:round;stroke-width:0.8;\"/>\n     </g>\n     <g id=\"text_1\">\n      <!-- 0 -->\n      <defs>\n       <path d=\"M 31.78125 66.40625 \nQ 24.171875 66.40625 20.328125 58.90625 \nQ 16.5 51.421875 16.5 36.375 \nQ 16.5 21.390625 20.328125 13.890625 \nQ 24.171875 6.390625 31.78125 6.390625 \nQ 39.453125 6.390625 43.28125 13.890625 \nQ 47.125 21.390625 47.125 36.375 \nQ 47.125 51.421875 43.28125 58.90625 \nQ 39.453125 66.40625 31.78125 66.40625 \nz\nM 31.78125 74.21875 \nQ 44.046875 74.21875 50.515625 64.515625 \nQ 56.984375 54.828125 56.984375 36.375 \nQ 56.984375 17.96875 50.515625 8.265625 \nQ 44.046875 -1.421875 31.78125 -1.421875 \nQ 19.53125 -1.421875 13.0625 8.265625 \nQ 6.59375 17.96875 6.59375 36.375 \nQ 6.59375 54.828125 13.0625 64.515625 \nQ 19.53125 74.21875 31.78125 74.21875 \nz\n\" id=\"DejaVuSans-48\"/>\n      </defs>\n      <g style=\"fill:#262626;\" transform=\"translate(102.264062 254.356562)scale(0.1 -0.1)\">\n       <use xlink:href=\"#DejaVuSans-48\"/>\n      </g>\n     </g>\n    </g>\n    <g id=\"xtick_2\">\n     <g id=\"line2d_2\">\n      <path clip-path=\"url(#pc6d8748e32)\" d=\"M 148.331277 239.758125 \nL 148.331277 22.318125 \n\" style=\"fill:none;stroke:#ffffff;stroke-linecap:round;stroke-width:0.8;\"/>\n     </g>\n     <g id=\"text_2\">\n      <!-- 200 -->\n      <defs>\n       <path d=\"M 19.1875 8.296875 \nL 53.609375 8.296875 \nL 53.609375 0 \nL 7.328125 0 \nL 7.328125 8.296875 \nQ 12.9375 14.109375 22.625 23.890625 \nQ 32.328125 33.6875 34.8125 36.53125 \nQ 39.546875 41.84375 41.421875 45.53125 \nQ 43.3125 49.21875 43.3125 52.78125 \nQ 43.3125 58.59375 39.234375 62.25 \nQ 35.15625 65.921875 28.609375 65.921875 \nQ 23.96875 65.921875 18.8125 64.3125 \nQ 13.671875 62.703125 7.8125 59.421875 \nL 7.8125 69.390625 \nQ 13.765625 71.78125 18.9375 73 \nQ 24.125 74.21875 28.421875 74.21875 \nQ 39.75 74.21875 46.484375 68.546875 \nQ 53.21875 62.890625 53.21875 53.421875 \nQ 53.21875 48.921875 51.53125 44.890625 \nQ 49.859375 40.875 45.40625 35.40625 \nQ 44.1875 33.984375 37.640625 27.21875 \nQ 31.109375 20.453125 19.1875 8.296875 \nz\n\" id=\"DejaVuSans-50\"/>\n      </defs>\n      <g style=\"fill:#262626;\" transform=\"translate(138.787527 254.356562)scale(0.1 -0.1)\">\n       <use xlink:href=\"#DejaVuSans-50\"/>\n       <use x=\"63.623047\" xlink:href=\"#DejaVuSans-48\"/>\n       <use x=\"127.246094\" xlink:href=\"#DejaVuSans-48\"/>\n      </g>\n     </g>\n    </g>\n    <g id=\"xtick_3\">\n     <g id=\"line2d_3\">\n      <path clip-path=\"url(#pc6d8748e32)\" d=\"M 191.217241 239.758125 \nL 191.217241 22.318125 \n\" style=\"fill:none;stroke:#ffffff;stroke-linecap:round;stroke-width:0.8;\"/>\n     </g>\n     <g id=\"text_3\">\n      <!-- 400 -->\n      <defs>\n       <path d=\"M 37.796875 64.3125 \nL 12.890625 25.390625 \nL 37.796875 25.390625 \nz\nM 35.203125 72.90625 \nL 47.609375 72.90625 \nL 47.609375 25.390625 \nL 58.015625 25.390625 \nL 58.015625 17.1875 \nL 47.609375 17.1875 \nL 47.609375 0 \nL 37.796875 0 \nL 37.796875 17.1875 \nL 4.890625 17.1875 \nL 4.890625 26.703125 \nz\n\" id=\"DejaVuSans-52\"/>\n      </defs>\n      <g style=\"fill:#262626;\" transform=\"translate(181.673491 254.356562)scale(0.1 -0.1)\">\n       <use xlink:href=\"#DejaVuSans-52\"/>\n       <use x=\"63.623047\" xlink:href=\"#DejaVuSans-48\"/>\n       <use x=\"127.246094\" xlink:href=\"#DejaVuSans-48\"/>\n      </g>\n     </g>\n    </g>\n    <g id=\"xtick_4\">\n     <g id=\"line2d_4\">\n      <path clip-path=\"url(#pc6d8748e32)\" d=\"M 234.103205 239.758125 \nL 234.103205 22.318125 \n\" style=\"fill:none;stroke:#ffffff;stroke-linecap:round;stroke-width:0.8;\"/>\n     </g>\n     <g id=\"text_4\">\n      <!-- 600 -->\n      <defs>\n       <path d=\"M 33.015625 40.375 \nQ 26.375 40.375 22.484375 35.828125 \nQ 18.609375 31.296875 18.609375 23.390625 \nQ 18.609375 15.53125 22.484375 10.953125 \nQ 26.375 6.390625 33.015625 6.390625 \nQ 39.65625 6.390625 43.53125 10.953125 \nQ 47.40625 15.53125 47.40625 23.390625 \nQ 47.40625 31.296875 43.53125 35.828125 \nQ 39.65625 40.375 33.015625 40.375 \nz\nM 52.59375 71.296875 \nL 52.59375 62.3125 \nQ 48.875 64.0625 45.09375 64.984375 \nQ 41.3125 65.921875 37.59375 65.921875 \nQ 27.828125 65.921875 22.671875 59.328125 \nQ 17.53125 52.734375 16.796875 39.40625 \nQ 19.671875 43.65625 24.015625 45.921875 \nQ 28.375 48.1875 33.59375 48.1875 \nQ 44.578125 48.1875 50.953125 41.515625 \nQ 57.328125 34.859375 57.328125 23.390625 \nQ 57.328125 12.15625 50.6875 5.359375 \nQ 44.046875 -1.421875 33.015625 -1.421875 \nQ 20.359375 -1.421875 13.671875 8.265625 \nQ 6.984375 17.96875 6.984375 36.375 \nQ 6.984375 53.65625 15.1875 63.9375 \nQ 23.390625 74.21875 37.203125 74.21875 \nQ 40.921875 74.21875 44.703125 73.484375 \nQ 48.484375 72.75 52.59375 71.296875 \nz\n\" id=\"DejaVuSans-54\"/>\n      </defs>\n      <g style=\"fill:#262626;\" transform=\"translate(224.559455 254.356562)scale(0.1 -0.1)\">\n       <use xlink:href=\"#DejaVuSans-54\"/>\n       <use x=\"63.623047\" xlink:href=\"#DejaVuSans-48\"/>\n       <use x=\"127.246094\" xlink:href=\"#DejaVuSans-48\"/>\n      </g>\n     </g>\n    </g>\n    <g id=\"xtick_5\">\n     <g id=\"line2d_5\">\n      <path clip-path=\"url(#pc6d8748e32)\" d=\"M 276.989169 239.758125 \nL 276.989169 22.318125 \n\" style=\"fill:none;stroke:#ffffff;stroke-linecap:round;stroke-width:0.8;\"/>\n     </g>\n     <g id=\"text_5\">\n      <!-- 800 -->\n      <defs>\n       <path d=\"M 31.78125 34.625 \nQ 24.75 34.625 20.71875 30.859375 \nQ 16.703125 27.09375 16.703125 20.515625 \nQ 16.703125 13.921875 20.71875 10.15625 \nQ 24.75 6.390625 31.78125 6.390625 \nQ 38.8125 6.390625 42.859375 10.171875 \nQ 46.921875 13.96875 46.921875 20.515625 \nQ 46.921875 27.09375 42.890625 30.859375 \nQ 38.875 34.625 31.78125 34.625 \nz\nM 21.921875 38.8125 \nQ 15.578125 40.375 12.03125 44.71875 \nQ 8.5 49.078125 8.5 55.328125 \nQ 8.5 64.0625 14.71875 69.140625 \nQ 20.953125 74.21875 31.78125 74.21875 \nQ 42.671875 74.21875 48.875 69.140625 \nQ 55.078125 64.0625 55.078125 55.328125 \nQ 55.078125 49.078125 51.53125 44.71875 \nQ 48 40.375 41.703125 38.8125 \nQ 48.828125 37.15625 52.796875 32.3125 \nQ 56.78125 27.484375 56.78125 20.515625 \nQ 56.78125 9.90625 50.3125 4.234375 \nQ 43.84375 -1.421875 31.78125 -1.421875 \nQ 19.734375 -1.421875 13.25 4.234375 \nQ 6.78125 9.90625 6.78125 20.515625 \nQ 6.78125 27.484375 10.78125 32.3125 \nQ 14.796875 37.15625 21.921875 38.8125 \nz\nM 18.3125 54.390625 \nQ 18.3125 48.734375 21.84375 45.5625 \nQ 25.390625 42.390625 31.78125 42.390625 \nQ 38.140625 42.390625 41.71875 45.5625 \nQ 45.3125 48.734375 45.3125 54.390625 \nQ 45.3125 60.0625 41.71875 63.234375 \nQ 38.140625 66.40625 31.78125 66.40625 \nQ 25.390625 66.40625 21.84375 63.234375 \nQ 18.3125 60.0625 18.3125 54.390625 \nz\n\" id=\"DejaVuSans-56\"/>\n      </defs>\n      <g style=\"fill:#262626;\" transform=\"translate(267.445419 254.356562)scale(0.1 -0.1)\">\n       <use xlink:href=\"#DejaVuSans-56\"/>\n       <use x=\"63.623047\" xlink:href=\"#DejaVuSans-48\"/>\n       <use x=\"127.246094\" xlink:href=\"#DejaVuSans-48\"/>\n      </g>\n     </g>\n    </g>\n    <g id=\"xtick_6\">\n     <g id=\"line2d_6\">\n      <path clip-path=\"url(#pc6d8748e32)\" d=\"M 319.875133 239.758125 \nL 319.875133 22.318125 \n\" style=\"fill:none;stroke:#ffffff;stroke-linecap:round;stroke-width:0.8;\"/>\n     </g>\n     <g id=\"text_6\">\n      <!-- 1000 -->\n      <defs>\n       <path d=\"M 12.40625 8.296875 \nL 28.515625 8.296875 \nL 28.515625 63.921875 \nL 10.984375 60.40625 \nL 10.984375 69.390625 \nL 28.421875 72.90625 \nL 38.28125 72.90625 \nL 38.28125 8.296875 \nL 54.390625 8.296875 \nL 54.390625 0 \nL 12.40625 0 \nz\n\" id=\"DejaVuSans-49\"/>\n      </defs>\n      <g style=\"fill:#262626;\" transform=\"translate(307.150133 254.356562)scale(0.1 -0.1)\">\n       <use xlink:href=\"#DejaVuSans-49\"/>\n       <use x=\"63.623047\" xlink:href=\"#DejaVuSans-48\"/>\n       <use x=\"127.246094\" xlink:href=\"#DejaVuSans-48\"/>\n       <use x=\"190.869141\" xlink:href=\"#DejaVuSans-48\"/>\n      </g>\n     </g>\n    </g>\n    <g id=\"xtick_7\">\n     <g id=\"line2d_7\">\n      <path clip-path=\"url(#pc6d8748e32)\" d=\"M 362.761097 239.758125 \nL 362.761097 22.318125 \n\" style=\"fill:none;stroke:#ffffff;stroke-linecap:round;stroke-width:0.8;\"/>\n     </g>\n     <g id=\"text_7\">\n      <!-- 1200 -->\n      <g style=\"fill:#262626;\" transform=\"translate(350.036097 254.356562)scale(0.1 -0.1)\">\n       <use xlink:href=\"#DejaVuSans-49\"/>\n       <use x=\"63.623047\" xlink:href=\"#DejaVuSans-50\"/>\n       <use x=\"127.246094\" xlink:href=\"#DejaVuSans-48\"/>\n       <use x=\"190.869141\" xlink:href=\"#DejaVuSans-48\"/>\n      </g>\n     </g>\n    </g>\n    <g id=\"xtick_8\">\n     <g id=\"line2d_8\">\n      <path clip-path=\"url(#pc6d8748e32)\" d=\"M 405.647061 239.758125 \nL 405.647061 22.318125 \n\" style=\"fill:none;stroke:#ffffff;stroke-linecap:round;stroke-width:0.8;\"/>\n     </g>\n     <g id=\"text_8\">\n      <!-- 1400 -->\n      <g style=\"fill:#262626;\" transform=\"translate(392.922061 254.356562)scale(0.1 -0.1)\">\n       <use xlink:href=\"#DejaVuSans-49\"/>\n       <use x=\"63.623047\" xlink:href=\"#DejaVuSans-52\"/>\n       <use x=\"127.246094\" xlink:href=\"#DejaVuSans-48\"/>\n       <use x=\"190.869141\" xlink:href=\"#DejaVuSans-48\"/>\n      </g>\n     </g>\n    </g>\n    <g id=\"text_9\">\n     <!-- count -->\n     <defs>\n      <path d=\"M 48.78125 52.59375 \nL 48.78125 44.1875 \nQ 44.96875 46.296875 41.140625 47.34375 \nQ 37.3125 48.390625 33.40625 48.390625 \nQ 24.65625 48.390625 19.8125 42.84375 \nQ 14.984375 37.3125 14.984375 27.296875 \nQ 14.984375 17.28125 19.8125 11.734375 \nQ 24.65625 6.203125 33.40625 6.203125 \nQ 37.3125 6.203125 41.140625 7.25 \nQ 44.96875 8.296875 48.78125 10.40625 \nL 48.78125 2.09375 \nQ 45.015625 0.34375 40.984375 -0.53125 \nQ 36.96875 -1.421875 32.421875 -1.421875 \nQ 20.0625 -1.421875 12.78125 6.34375 \nQ 5.515625 14.109375 5.515625 27.296875 \nQ 5.515625 40.671875 12.859375 48.328125 \nQ 20.21875 56 33.015625 56 \nQ 37.15625 56 41.109375 55.140625 \nQ 45.0625 54.296875 48.78125 52.59375 \nz\n\" id=\"DejaVuSans-99\"/>\n      <path d=\"M 30.609375 48.390625 \nQ 23.390625 48.390625 19.1875 42.75 \nQ 14.984375 37.109375 14.984375 27.296875 \nQ 14.984375 17.484375 19.15625 11.84375 \nQ 23.34375 6.203125 30.609375 6.203125 \nQ 37.796875 6.203125 41.984375 11.859375 \nQ 46.1875 17.53125 46.1875 27.296875 \nQ 46.1875 37.015625 41.984375 42.703125 \nQ 37.796875 48.390625 30.609375 48.390625 \nz\nM 30.609375 56 \nQ 42.328125 56 49.015625 48.375 \nQ 55.71875 40.765625 55.71875 27.296875 \nQ 55.71875 13.875 49.015625 6.21875 \nQ 42.328125 -1.421875 30.609375 -1.421875 \nQ 18.84375 -1.421875 12.171875 6.21875 \nQ 5.515625 13.875 5.515625 27.296875 \nQ 5.515625 40.765625 12.171875 48.375 \nQ 18.84375 56 30.609375 56 \nz\n\" id=\"DejaVuSans-111\"/>\n      <path d=\"M 8.5 21.578125 \nL 8.5 54.6875 \nL 17.484375 54.6875 \nL 17.484375 21.921875 \nQ 17.484375 14.15625 20.5 10.265625 \nQ 23.53125 6.390625 29.59375 6.390625 \nQ 36.859375 6.390625 41.078125 11.03125 \nQ 45.3125 15.671875 45.3125 23.6875 \nL 45.3125 54.6875 \nL 54.296875 54.6875 \nL 54.296875 0 \nL 45.3125 0 \nL 45.3125 8.40625 \nQ 42.046875 3.421875 37.71875 1 \nQ 33.40625 -1.421875 27.6875 -1.421875 \nQ 18.265625 -1.421875 13.375 4.4375 \nQ 8.5 10.296875 8.5 21.578125 \nz\nM 31.109375 56 \nz\n\" id=\"DejaVuSans-117\"/>\n      <path d=\"M 54.890625 33.015625 \nL 54.890625 0 \nL 45.90625 0 \nL 45.90625 32.71875 \nQ 45.90625 40.484375 42.875 44.328125 \nQ 39.84375 48.1875 33.796875 48.1875 \nQ 26.515625 48.1875 22.3125 43.546875 \nQ 18.109375 38.921875 18.109375 30.90625 \nL 18.109375 0 \nL 9.078125 0 \nL 9.078125 54.6875 \nL 18.109375 54.6875 \nL 18.109375 46.1875 \nQ 21.34375 51.125 25.703125 53.5625 \nQ 30.078125 56 35.796875 56 \nQ 45.21875 56 50.046875 50.171875 \nQ 54.890625 44.34375 54.890625 33.015625 \nz\n\" id=\"DejaVuSans-110\"/>\n      <path d=\"M 18.3125 70.21875 \nL 18.3125 54.6875 \nL 36.8125 54.6875 \nL 36.8125 47.703125 \nL 18.3125 47.703125 \nL 18.3125 18.015625 \nQ 18.3125 11.328125 20.140625 9.421875 \nQ 21.96875 7.515625 27.59375 7.515625 \nL 36.8125 7.515625 \nL 36.8125 0 \nL 27.59375 0 \nQ 17.1875 0 13.234375 3.875 \nQ 9.28125 7.765625 9.28125 18.015625 \nL 9.28125 47.703125 \nL 2.6875 47.703125 \nL 2.6875 54.6875 \nL 9.28125 54.6875 \nL 9.28125 70.21875 \nz\n\" id=\"DejaVuSans-116\"/>\n     </defs>\n     <g style=\"fill:#262626;\" transform=\"translate(258.739062 268.034687)scale(0.1 -0.1)\">\n      <use xlink:href=\"#DejaVuSans-99\"/>\n      <use x=\"54.980469\" xlink:href=\"#DejaVuSans-111\"/>\n      <use x=\"116.162109\" xlink:href=\"#DejaVuSans-117\"/>\n      <use x=\"179.541016\" xlink:href=\"#DejaVuSans-110\"/>\n      <use x=\"242.919922\" xlink:href=\"#DejaVuSans-116\"/>\n     </g>\n    </g>\n   </g>\n   <g id=\"matplotlib.axis_2\">\n    <g id=\"ytick_1\">\n     <g id=\"text_10\">\n      <!-- Ariana Grande -->\n      <defs>\n       <path d=\"M 34.1875 63.1875 \nL 20.796875 26.90625 \nL 47.609375 26.90625 \nz\nM 28.609375 72.90625 \nL 39.796875 72.90625 \nL 67.578125 0 \nL 57.328125 0 \nL 50.6875 18.703125 \nL 17.828125 18.703125 \nL 11.1875 0 \nL 0.78125 0 \nz\n\" id=\"DejaVuSans-65\"/>\n       <path d=\"M 41.109375 46.296875 \nQ 39.59375 47.171875 37.8125 47.578125 \nQ 36.03125 48 33.890625 48 \nQ 26.265625 48 22.1875 43.046875 \nQ 18.109375 38.09375 18.109375 28.8125 \nL 18.109375 0 \nL 9.078125 0 \nL 9.078125 54.6875 \nL 18.109375 54.6875 \nL 18.109375 46.1875 \nQ 20.953125 51.171875 25.484375 53.578125 \nQ 30.03125 56 36.53125 56 \nQ 37.453125 56 38.578125 55.875 \nQ 39.703125 55.765625 41.0625 55.515625 \nz\n\" id=\"DejaVuSans-114\"/>\n       <path d=\"M 9.421875 54.6875 \nL 18.40625 54.6875 \nL 18.40625 0 \nL 9.421875 0 \nz\nM 9.421875 75.984375 \nL 18.40625 75.984375 \nL 18.40625 64.59375 \nL 9.421875 64.59375 \nz\n\" id=\"DejaVuSans-105\"/>\n       <path d=\"M 34.28125 27.484375 \nQ 23.390625 27.484375 19.1875 25 \nQ 14.984375 22.515625 14.984375 16.5 \nQ 14.984375 11.71875 18.140625 8.90625 \nQ 21.296875 6.109375 26.703125 6.109375 \nQ 34.1875 6.109375 38.703125 11.40625 \nQ 43.21875 16.703125 43.21875 25.484375 \nL 43.21875 27.484375 \nz\nM 52.203125 31.203125 \nL 52.203125 0 \nL 43.21875 0 \nL 43.21875 8.296875 \nQ 40.140625 3.328125 35.546875 0.953125 \nQ 30.953125 -1.421875 24.3125 -1.421875 \nQ 15.921875 -1.421875 10.953125 3.296875 \nQ 6 8.015625 6 15.921875 \nQ 6 25.140625 12.171875 29.828125 \nQ 18.359375 34.515625 30.609375 34.515625 \nL 43.21875 34.515625 \nL 43.21875 35.40625 \nQ 43.21875 41.609375 39.140625 45 \nQ 35.0625 48.390625 27.6875 48.390625 \nQ 23 48.390625 18.546875 47.265625 \nQ 14.109375 46.140625 10.015625 43.890625 \nL 10.015625 52.203125 \nQ 14.9375 54.109375 19.578125 55.046875 \nQ 24.21875 56 28.609375 56 \nQ 40.484375 56 46.34375 49.84375 \nQ 52.203125 43.703125 52.203125 31.203125 \nz\n\" id=\"DejaVuSans-97\"/>\n       <path id=\"DejaVuSans-32\"/>\n       <path d=\"M 59.515625 10.40625 \nL 59.515625 29.984375 \nL 43.40625 29.984375 \nL 43.40625 38.09375 \nL 69.28125 38.09375 \nL 69.28125 6.78125 \nQ 63.578125 2.734375 56.6875 0.65625 \nQ 49.8125 -1.421875 42 -1.421875 \nQ 24.90625 -1.421875 15.25 8.5625 \nQ 5.609375 18.5625 5.609375 36.375 \nQ 5.609375 54.25 15.25 64.234375 \nQ 24.90625 74.21875 42 74.21875 \nQ 49.125 74.21875 55.546875 72.453125 \nQ 61.96875 70.703125 67.390625 67.28125 \nL 67.390625 56.78125 \nQ 61.921875 61.421875 55.765625 63.765625 \nQ 49.609375 66.109375 42.828125 66.109375 \nQ 29.4375 66.109375 22.71875 58.640625 \nQ 16.015625 51.171875 16.015625 36.375 \nQ 16.015625 21.625 22.71875 14.15625 \nQ 29.4375 6.6875 42.828125 6.6875 \nQ 48.046875 6.6875 52.140625 7.59375 \nQ 56.25 8.5 59.515625 10.40625 \nz\n\" id=\"DejaVuSans-71\"/>\n       <path d=\"M 45.40625 46.390625 \nL 45.40625 75.984375 \nL 54.390625 75.984375 \nL 54.390625 0 \nL 45.40625 0 \nL 45.40625 8.203125 \nQ 42.578125 3.328125 38.25 0.953125 \nQ 33.9375 -1.421875 27.875 -1.421875 \nQ 17.96875 -1.421875 11.734375 6.484375 \nQ 5.515625 14.40625 5.515625 27.296875 \nQ 5.515625 40.1875 11.734375 48.09375 \nQ 17.96875 56 27.875 56 \nQ 33.9375 56 38.25 53.625 \nQ 42.578125 51.265625 45.40625 46.390625 \nz\nM 14.796875 27.296875 \nQ 14.796875 17.390625 18.875 11.75 \nQ 22.953125 6.109375 30.078125 6.109375 \nQ 37.203125 6.109375 41.296875 11.75 \nQ 45.40625 17.390625 45.40625 27.296875 \nQ 45.40625 37.203125 41.296875 42.84375 \nQ 37.203125 48.484375 30.078125 48.484375 \nQ 22.953125 48.484375 18.875 42.84375 \nQ 14.796875 37.203125 14.796875 27.296875 \nz\n\" id=\"DejaVuSans-100\"/>\n       <path d=\"M 56.203125 29.59375 \nL 56.203125 25.203125 \nL 14.890625 25.203125 \nQ 15.484375 15.921875 20.484375 11.0625 \nQ 25.484375 6.203125 34.421875 6.203125 \nQ 39.59375 6.203125 44.453125 7.46875 \nQ 49.3125 8.734375 54.109375 11.28125 \nL 54.109375 2.78125 \nQ 49.265625 0.734375 44.1875 -0.34375 \nQ 39.109375 -1.421875 33.890625 -1.421875 \nQ 20.796875 -1.421875 13.15625 6.1875 \nQ 5.515625 13.8125 5.515625 26.8125 \nQ 5.515625 40.234375 12.765625 48.109375 \nQ 20.015625 56 32.328125 56 \nQ 43.359375 56 49.78125 48.890625 \nQ 56.203125 41.796875 56.203125 29.59375 \nz\nM 47.21875 32.234375 \nQ 47.125 39.59375 43.09375 43.984375 \nQ 39.0625 48.390625 32.421875 48.390625 \nQ 24.90625 48.390625 20.390625 44.140625 \nQ 15.875 39.890625 15.1875 32.171875 \nz\n\" id=\"DejaVuSans-101\"/>\n      </defs>\n      <g style=\"fill:#262626;\" transform=\"translate(26.117188 36.989344)scale(0.1 -0.1)\">\n       <use xlink:href=\"#DejaVuSans-65\"/>\n       <use x=\"68.408203\" xlink:href=\"#DejaVuSans-114\"/>\n       <use x=\"109.521484\" xlink:href=\"#DejaVuSans-105\"/>\n       <use x=\"137.304688\" xlink:href=\"#DejaVuSans-97\"/>\n       <use x=\"198.583984\" xlink:href=\"#DejaVuSans-110\"/>\n       <use x=\"261.962891\" xlink:href=\"#DejaVuSans-97\"/>\n       <use x=\"323.242188\" xlink:href=\"#DejaVuSans-32\"/>\n       <use x=\"355.029297\" xlink:href=\"#DejaVuSans-71\"/>\n       <use x=\"432.519531\" xlink:href=\"#DejaVuSans-114\"/>\n       <use x=\"473.632812\" xlink:href=\"#DejaVuSans-97\"/>\n       <use x=\"534.912109\" xlink:href=\"#DejaVuSans-110\"/>\n       <use x=\"598.291016\" xlink:href=\"#DejaVuSans-100\"/>\n       <use x=\"661.767578\" xlink:href=\"#DejaVuSans-101\"/>\n      </g>\n     </g>\n    </g>\n    <g id=\"ytick_2\">\n     <g id=\"text_11\">\n      <!-- Drake -->\n      <defs>\n       <path d=\"M 19.671875 64.796875 \nL 19.671875 8.109375 \nL 31.59375 8.109375 \nQ 46.6875 8.109375 53.6875 14.9375 \nQ 60.6875 21.78125 60.6875 36.53125 \nQ 60.6875 51.171875 53.6875 57.984375 \nQ 46.6875 64.796875 31.59375 64.796875 \nz\nM 9.8125 72.90625 \nL 30.078125 72.90625 \nQ 51.265625 72.90625 61.171875 64.09375 \nQ 71.09375 55.28125 71.09375 36.53125 \nQ 71.09375 17.671875 61.125 8.828125 \nQ 51.171875 0 30.078125 0 \nL 9.8125 0 \nz\n\" id=\"DejaVuSans-68\"/>\n       <path d=\"M 9.078125 75.984375 \nL 18.109375 75.984375 \nL 18.109375 31.109375 \nL 44.921875 54.6875 \nL 56.390625 54.6875 \nL 27.390625 29.109375 \nL 57.625 0 \nL 45.90625 0 \nL 18.109375 26.703125 \nL 18.109375 0 \nL 9.078125 0 \nz\n\" id=\"DejaVuSans-107\"/>\n      </defs>\n      <g style=\"fill:#262626;\" transform=\"translate(68.925 58.733344)scale(0.1 -0.1)\">\n       <use xlink:href=\"#DejaVuSans-68\"/>\n       <use x=\"77.001953\" xlink:href=\"#DejaVuSans-114\"/>\n       <use x=\"118.115234\" xlink:href=\"#DejaVuSans-97\"/>\n       <use x=\"179.394531\" xlink:href=\"#DejaVuSans-107\"/>\n       <use x=\"233.679688\" xlink:href=\"#DejaVuSans-101\"/>\n      </g>\n     </g>\n    </g>\n    <g id=\"ytick_3\">\n     <g id=\"text_12\">\n      <!-- BTS -->\n      <defs>\n       <path d=\"M 19.671875 34.8125 \nL 19.671875 8.109375 \nL 35.5 8.109375 \nQ 43.453125 8.109375 47.28125 11.40625 \nQ 51.125 14.703125 51.125 21.484375 \nQ 51.125 28.328125 47.28125 31.5625 \nQ 43.453125 34.8125 35.5 34.8125 \nz\nM 19.671875 64.796875 \nL 19.671875 42.828125 \nL 34.28125 42.828125 \nQ 41.5 42.828125 45.03125 45.53125 \nQ 48.578125 48.25 48.578125 53.8125 \nQ 48.578125 59.328125 45.03125 62.0625 \nQ 41.5 64.796875 34.28125 64.796875 \nz\nM 9.8125 72.90625 \nL 35.015625 72.90625 \nQ 46.296875 72.90625 52.390625 68.21875 \nQ 58.5 63.53125 58.5 54.890625 \nQ 58.5 48.1875 55.375 44.234375 \nQ 52.25 40.28125 46.1875 39.3125 \nQ 53.46875 37.75 57.5 32.78125 \nQ 61.53125 27.828125 61.53125 20.40625 \nQ 61.53125 10.640625 54.890625 5.3125 \nQ 48.25 0 35.984375 0 \nL 9.8125 0 \nz\n\" id=\"DejaVuSans-66\"/>\n       <path d=\"M -0.296875 72.90625 \nL 61.375 72.90625 \nL 61.375 64.59375 \nL 35.5 64.59375 \nL 35.5 0 \nL 25.59375 0 \nL 25.59375 64.59375 \nL -0.296875 64.59375 \nz\n\" id=\"DejaVuSans-84\"/>\n       <path d=\"M 53.515625 70.515625 \nL 53.515625 60.890625 \nQ 47.90625 63.578125 42.921875 64.890625 \nQ 37.9375 66.21875 33.296875 66.21875 \nQ 25.25 66.21875 20.875 63.09375 \nQ 16.5 59.96875 16.5 54.203125 \nQ 16.5 49.359375 19.40625 46.890625 \nQ 22.3125 44.4375 30.421875 42.921875 \nL 36.375 41.703125 \nQ 47.40625 39.59375 52.65625 34.296875 \nQ 57.90625 29 57.90625 20.125 \nQ 57.90625 9.515625 50.796875 4.046875 \nQ 43.703125 -1.421875 29.984375 -1.421875 \nQ 24.8125 -1.421875 18.96875 -0.25 \nQ 13.140625 0.921875 6.890625 3.21875 \nL 6.890625 13.375 \nQ 12.890625 10.015625 18.65625 8.296875 \nQ 24.421875 6.59375 29.984375 6.59375 \nQ 38.421875 6.59375 43.015625 9.90625 \nQ 47.609375 13.234375 47.609375 19.390625 \nQ 47.609375 24.75 44.3125 27.78125 \nQ 41.015625 30.8125 33.5 32.328125 \nL 27.484375 33.5 \nQ 16.453125 35.6875 11.515625 40.375 \nQ 6.59375 45.0625 6.59375 53.421875 \nQ 6.59375 63.09375 13.40625 68.65625 \nQ 20.21875 74.21875 32.171875 74.21875 \nQ 37.3125 74.21875 42.625 73.28125 \nQ 47.953125 72.359375 53.515625 70.515625 \nz\n\" id=\"DejaVuSans-83\"/>\n      </defs>\n      <g style=\"fill:#262626;\" transform=\"translate(79.128125 80.477344)scale(0.1 -0.1)\">\n       <use xlink:href=\"#DejaVuSans-66\"/>\n       <use x=\"68.603516\" xlink:href=\"#DejaVuSans-84\"/>\n       <use x=\"129.6875\" xlink:href=\"#DejaVuSans-83\"/>\n      </g>\n     </g>\n    </g>\n    <g id=\"ytick_4\">\n     <g id=\"text_13\">\n      <!-- Taylor Swift -->\n      <defs>\n       <path d=\"M 32.171875 -5.078125 \nQ 28.375 -14.84375 24.75 -17.8125 \nQ 21.140625 -20.796875 15.09375 -20.796875 \nL 7.90625 -20.796875 \nL 7.90625 -13.28125 \nL 13.1875 -13.28125 \nQ 16.890625 -13.28125 18.9375 -11.515625 \nQ 21 -9.765625 23.484375 -3.21875 \nL 25.09375 0.875 \nL 2.984375 54.6875 \nL 12.5 54.6875 \nL 29.59375 11.921875 \nL 46.6875 54.6875 \nL 56.203125 54.6875 \nz\n\" id=\"DejaVuSans-121\"/>\n       <path d=\"M 9.421875 75.984375 \nL 18.40625 75.984375 \nL 18.40625 0 \nL 9.421875 0 \nz\n\" id=\"DejaVuSans-108\"/>\n       <path d=\"M 4.203125 54.6875 \nL 13.1875 54.6875 \nL 24.421875 12.015625 \nL 35.59375 54.6875 \nL 46.1875 54.6875 \nL 57.421875 12.015625 \nL 68.609375 54.6875 \nL 77.59375 54.6875 \nL 63.28125 0 \nL 52.6875 0 \nL 40.921875 44.828125 \nL 29.109375 0 \nL 18.5 0 \nz\n\" id=\"DejaVuSans-119\"/>\n       <path d=\"M 37.109375 75.984375 \nL 37.109375 68.5 \nL 28.515625 68.5 \nQ 23.6875 68.5 21.796875 66.546875 \nQ 19.921875 64.59375 19.921875 59.515625 \nL 19.921875 54.6875 \nL 34.71875 54.6875 \nL 34.71875 47.703125 \nL 19.921875 47.703125 \nL 19.921875 0 \nL 10.890625 0 \nL 10.890625 47.703125 \nL 2.296875 47.703125 \nL 2.296875 54.6875 \nL 10.890625 54.6875 \nL 10.890625 58.5 \nQ 10.890625 67.625 15.140625 71.796875 \nQ 19.390625 75.984375 28.609375 75.984375 \nz\n\" id=\"DejaVuSans-102\"/>\n      </defs>\n      <g style=\"fill:#262626;\" transform=\"translate(41.184375 102.221344)scale(0.1 -0.1)\">\n       <use xlink:href=\"#DejaVuSans-84\"/>\n       <use x=\"44.583984\" xlink:href=\"#DejaVuSans-97\"/>\n       <use x=\"105.863281\" xlink:href=\"#DejaVuSans-121\"/>\n       <use x=\"165.042969\" xlink:href=\"#DejaVuSans-108\"/>\n       <use x=\"192.826172\" xlink:href=\"#DejaVuSans-111\"/>\n       <use x=\"254.007812\" xlink:href=\"#DejaVuSans-114\"/>\n       <use x=\"295.121094\" xlink:href=\"#DejaVuSans-32\"/>\n       <use x=\"326.908203\" xlink:href=\"#DejaVuSans-83\"/>\n       <use x=\"390.384766\" xlink:href=\"#DejaVuSans-119\"/>\n       <use x=\"472.171875\" xlink:href=\"#DejaVuSans-105\"/>\n       <use x=\"499.955078\" xlink:href=\"#DejaVuSans-102\"/>\n       <use x=\"533.410156\" xlink:href=\"#DejaVuSans-116\"/>\n      </g>\n     </g>\n    </g>\n    <g id=\"ytick_5\">\n     <g id=\"text_14\">\n      <!-- XXXTENTACION -->\n      <defs>\n       <path d=\"M 6.296875 72.90625 \nL 16.890625 72.90625 \nL 35.015625 45.796875 \nL 53.21875 72.90625 \nL 63.8125 72.90625 \nL 40.375 37.890625 \nL 65.375 0 \nL 54.78125 0 \nL 34.28125 31 \nL 13.625 0 \nL 2.984375 0 \nL 29 38.921875 \nz\n\" id=\"DejaVuSans-88\"/>\n       <path d=\"M 9.8125 72.90625 \nL 55.90625 72.90625 \nL 55.90625 64.59375 \nL 19.671875 64.59375 \nL 19.671875 43.015625 \nL 54.390625 43.015625 \nL 54.390625 34.71875 \nL 19.671875 34.71875 \nL 19.671875 8.296875 \nL 56.78125 8.296875 \nL 56.78125 0 \nL 9.8125 0 \nz\n\" id=\"DejaVuSans-69\"/>\n       <path d=\"M 9.8125 72.90625 \nL 23.09375 72.90625 \nL 55.421875 11.921875 \nL 55.421875 72.90625 \nL 64.984375 72.90625 \nL 64.984375 0 \nL 51.703125 0 \nL 19.390625 60.984375 \nL 19.390625 0 \nL 9.8125 0 \nz\n\" id=\"DejaVuSans-78\"/>\n       <path d=\"M 64.40625 67.28125 \nL 64.40625 56.890625 \nQ 59.421875 61.53125 53.78125 63.8125 \nQ 48.140625 66.109375 41.796875 66.109375 \nQ 29.296875 66.109375 22.65625 58.46875 \nQ 16.015625 50.828125 16.015625 36.375 \nQ 16.015625 21.96875 22.65625 14.328125 \nQ 29.296875 6.6875 41.796875 6.6875 \nQ 48.140625 6.6875 53.78125 8.984375 \nQ 59.421875 11.28125 64.40625 15.921875 \nL 64.40625 5.609375 \nQ 59.234375 2.09375 53.4375 0.328125 \nQ 47.65625 -1.421875 41.21875 -1.421875 \nQ 24.65625 -1.421875 15.125 8.703125 \nQ 5.609375 18.84375 5.609375 36.375 \nQ 5.609375 53.953125 15.125 64.078125 \nQ 24.65625 74.21875 41.21875 74.21875 \nQ 47.75 74.21875 53.53125 72.484375 \nQ 59.328125 70.75 64.40625 67.28125 \nz\n\" id=\"DejaVuSans-67\"/>\n       <path d=\"M 9.8125 72.90625 \nL 19.671875 72.90625 \nL 19.671875 0 \nL 9.8125 0 \nz\n\" id=\"DejaVuSans-73\"/>\n       <path d=\"M 39.40625 66.21875 \nQ 28.65625 66.21875 22.328125 58.203125 \nQ 16.015625 50.203125 16.015625 36.375 \nQ 16.015625 22.609375 22.328125 14.59375 \nQ 28.65625 6.59375 39.40625 6.59375 \nQ 50.140625 6.59375 56.421875 14.59375 \nQ 62.703125 22.609375 62.703125 36.375 \nQ 62.703125 50.203125 56.421875 58.203125 \nQ 50.140625 66.21875 39.40625 66.21875 \nz\nM 39.40625 74.21875 \nQ 54.734375 74.21875 63.90625 63.9375 \nQ 73.09375 53.65625 73.09375 36.375 \nQ 73.09375 19.140625 63.90625 8.859375 \nQ 54.734375 -1.421875 39.40625 -1.421875 \nQ 24.03125 -1.421875 14.8125 8.828125 \nQ 5.609375 19.09375 5.609375 36.375 \nQ 5.609375 53.65625 14.8125 63.9375 \nQ 24.03125 74.21875 39.40625 74.21875 \nz\n\" id=\"DejaVuSans-79\"/>\n      </defs>\n      <g style=\"fill:#262626;\" transform=\"translate(20.878125 123.965344)scale(0.1 -0.1)\">\n       <use xlink:href=\"#DejaVuSans-88\"/>\n       <use x=\"68.505859\" xlink:href=\"#DejaVuSans-88\"/>\n       <use x=\"137.011719\" xlink:href=\"#DejaVuSans-88\"/>\n       <use x=\"203.767578\" xlink:href=\"#DejaVuSans-84\"/>\n       <use x=\"264.851562\" xlink:href=\"#DejaVuSans-69\"/>\n       <use x=\"328.035156\" xlink:href=\"#DejaVuSans-78\"/>\n       <use x=\"402.839844\" xlink:href=\"#DejaVuSans-84\"/>\n       <use x=\"456.173828\" xlink:href=\"#DejaVuSans-65\"/>\n       <use x=\"522.832031\" xlink:href=\"#DejaVuSans-67\"/>\n       <use x=\"592.65625\" xlink:href=\"#DejaVuSans-73\"/>\n       <use x=\"622.148438\" xlink:href=\"#DejaVuSans-79\"/>\n       <use x=\"700.859375\" xlink:href=\"#DejaVuSans-78\"/>\n      </g>\n     </g>\n    </g>\n    <g id=\"ytick_6\">\n     <g id=\"text_15\">\n      <!-- Ed Sheeran -->\n      <defs>\n       <path d=\"M 54.890625 33.015625 \nL 54.890625 0 \nL 45.90625 0 \nL 45.90625 32.71875 \nQ 45.90625 40.484375 42.875 44.328125 \nQ 39.84375 48.1875 33.796875 48.1875 \nQ 26.515625 48.1875 22.3125 43.546875 \nQ 18.109375 38.921875 18.109375 30.90625 \nL 18.109375 0 \nL 9.078125 0 \nL 9.078125 75.984375 \nL 18.109375 75.984375 \nL 18.109375 46.1875 \nQ 21.34375 51.125 25.703125 53.5625 \nQ 30.078125 56 35.796875 56 \nQ 45.21875 56 50.046875 50.171875 \nQ 54.890625 44.34375 54.890625 33.015625 \nz\n\" id=\"DejaVuSans-104\"/>\n      </defs>\n      <g style=\"fill:#262626;\" transform=\"translate(41.03125 145.709344)scale(0.1 -0.1)\">\n       <use xlink:href=\"#DejaVuSans-69\"/>\n       <use x=\"63.183594\" xlink:href=\"#DejaVuSans-100\"/>\n       <use x=\"126.660156\" xlink:href=\"#DejaVuSans-32\"/>\n       <use x=\"158.447266\" xlink:href=\"#DejaVuSans-83\"/>\n       <use x=\"221.923828\" xlink:href=\"#DejaVuSans-104\"/>\n       <use x=\"285.302734\" xlink:href=\"#DejaVuSans-101\"/>\n       <use x=\"346.826172\" xlink:href=\"#DejaVuSans-101\"/>\n       <use x=\"408.349609\" xlink:href=\"#DejaVuSans-114\"/>\n       <use x=\"449.462891\" xlink:href=\"#DejaVuSans-97\"/>\n       <use x=\"510.742188\" xlink:href=\"#DejaVuSans-110\"/>\n      </g>\n     </g>\n    </g>\n    <g id=\"ytick_7\">\n     <g id=\"text_16\">\n      <!-- The Weeknd -->\n      <defs>\n       <path d=\"M 3.328125 72.90625 \nL 13.28125 72.90625 \nL 28.609375 11.28125 \nL 43.890625 72.90625 \nL 54.984375 72.90625 \nL 70.3125 11.28125 \nL 85.59375 72.90625 \nL 95.609375 72.90625 \nL 77.296875 0 \nL 64.890625 0 \nL 49.515625 63.28125 \nL 33.984375 0 \nL 21.578125 0 \nz\n\" id=\"DejaVuSans-87\"/>\n      </defs>\n      <g style=\"fill:#262626;\" transform=\"translate(36.585938 167.453344)scale(0.1 -0.1)\">\n       <use xlink:href=\"#DejaVuSans-84\"/>\n       <use x=\"61.083984\" xlink:href=\"#DejaVuSans-104\"/>\n       <use x=\"124.462891\" xlink:href=\"#DejaVuSans-101\"/>\n       <use x=\"185.986328\" xlink:href=\"#DejaVuSans-32\"/>\n       <use x=\"217.773438\" xlink:href=\"#DejaVuSans-87\"/>\n       <use x=\"310.775391\" xlink:href=\"#DejaVuSans-101\"/>\n       <use x=\"372.298828\" xlink:href=\"#DejaVuSans-101\"/>\n       <use x=\"433.822266\" xlink:href=\"#DejaVuSans-107\"/>\n       <use x=\"491.732422\" xlink:href=\"#DejaVuSans-110\"/>\n       <use x=\"555.111328\" xlink:href=\"#DejaVuSans-100\"/>\n      </g>\n     </g>\n    </g>\n    <g id=\"ytick_8\">\n     <g id=\"text_17\">\n      <!-- Linkin Park -->\n      <defs>\n       <path d=\"M 9.8125 72.90625 \nL 19.671875 72.90625 \nL 19.671875 8.296875 \nL 55.171875 8.296875 \nL 55.171875 0 \nL 9.8125 0 \nz\n\" id=\"DejaVuSans-76\"/>\n       <path d=\"M 19.671875 64.796875 \nL 19.671875 37.40625 \nL 32.078125 37.40625 \nQ 38.96875 37.40625 42.71875 40.96875 \nQ 46.484375 44.53125 46.484375 51.125 \nQ 46.484375 57.671875 42.71875 61.234375 \nQ 38.96875 64.796875 32.078125 64.796875 \nz\nM 9.8125 72.90625 \nL 32.078125 72.90625 \nQ 44.34375 72.90625 50.609375 67.359375 \nQ 56.890625 61.8125 56.890625 51.125 \nQ 56.890625 40.328125 50.609375 34.8125 \nQ 44.34375 29.296875 32.078125 29.296875 \nL 19.671875 29.296875 \nL 19.671875 0 \nL 9.8125 0 \nz\n\" id=\"DejaVuSans-80\"/>\n      </defs>\n      <g style=\"fill:#262626;\" transform=\"translate(44.064062 189.197344)scale(0.1 -0.1)\">\n       <use xlink:href=\"#DejaVuSans-76\"/>\n       <use x=\"55.712891\" xlink:href=\"#DejaVuSans-105\"/>\n       <use x=\"83.496094\" xlink:href=\"#DejaVuSans-110\"/>\n       <use x=\"146.875\" xlink:href=\"#DejaVuSans-107\"/>\n       <use x=\"204.785156\" xlink:href=\"#DejaVuSans-105\"/>\n       <use x=\"232.568359\" xlink:href=\"#DejaVuSans-110\"/>\n       <use x=\"295.947266\" xlink:href=\"#DejaVuSans-32\"/>\n       <use x=\"327.734375\" xlink:href=\"#DejaVuSans-80\"/>\n       <use x=\"383.537109\" xlink:href=\"#DejaVuSans-97\"/>\n       <use x=\"444.816406\" xlink:href=\"#DejaVuSans-114\"/>\n       <use x=\"485.929688\" xlink:href=\"#DejaVuSans-107\"/>\n      </g>\n     </g>\n    </g>\n    <g id=\"ytick_9\">\n     <g id=\"text_18\">\n      <!-- Eminem -->\n      <defs>\n       <path d=\"M 52 44.1875 \nQ 55.375 50.25 60.0625 53.125 \nQ 64.75 56 71.09375 56 \nQ 79.640625 56 84.28125 50.015625 \nQ 88.921875 44.046875 88.921875 33.015625 \nL 88.921875 0 \nL 79.890625 0 \nL 79.890625 32.71875 \nQ 79.890625 40.578125 77.09375 44.375 \nQ 74.3125 48.1875 68.609375 48.1875 \nQ 61.625 48.1875 57.5625 43.546875 \nQ 53.515625 38.921875 53.515625 30.90625 \nL 53.515625 0 \nL 44.484375 0 \nL 44.484375 32.71875 \nQ 44.484375 40.625 41.703125 44.40625 \nQ 38.921875 48.1875 33.109375 48.1875 \nQ 26.21875 48.1875 22.15625 43.53125 \nQ 18.109375 38.875 18.109375 30.90625 \nL 18.109375 0 \nL 9.078125 0 \nL 9.078125 54.6875 \nL 18.109375 54.6875 \nL 18.109375 46.1875 \nQ 21.1875 51.21875 25.484375 53.609375 \nQ 29.78125 56 35.6875 56 \nQ 41.65625 56 45.828125 52.96875 \nQ 50 49.953125 52 44.1875 \nz\n\" id=\"DejaVuSans-109\"/>\n      </defs>\n      <g style=\"fill:#262626;\" transform=\"translate(57.376562 210.941344)scale(0.1 -0.1)\">\n       <use xlink:href=\"#DejaVuSans-69\"/>\n       <use x=\"63.183594\" xlink:href=\"#DejaVuSans-109\"/>\n       <use x=\"160.595703\" xlink:href=\"#DejaVuSans-105\"/>\n       <use x=\"188.378906\" xlink:href=\"#DejaVuSans-110\"/>\n       <use x=\"251.757812\" xlink:href=\"#DejaVuSans-101\"/>\n       <use x=\"313.28125\" xlink:href=\"#DejaVuSans-109\"/>\n      </g>\n     </g>\n    </g>\n    <g id=\"ytick_10\">\n     <g id=\"text_19\">\n      <!-- Billie Eilish -->\n      <defs>\n       <path d=\"M 44.28125 53.078125 \nL 44.28125 44.578125 \nQ 40.484375 46.53125 36.375 47.5 \nQ 32.28125 48.484375 27.875 48.484375 \nQ 21.1875 48.484375 17.84375 46.4375 \nQ 14.5 44.390625 14.5 40.28125 \nQ 14.5 37.15625 16.890625 35.375 \nQ 19.28125 33.59375 26.515625 31.984375 \nL 29.59375 31.296875 \nQ 39.15625 29.25 43.1875 25.515625 \nQ 47.21875 21.78125 47.21875 15.09375 \nQ 47.21875 7.46875 41.1875 3.015625 \nQ 35.15625 -1.421875 24.609375 -1.421875 \nQ 20.21875 -1.421875 15.453125 -0.5625 \nQ 10.6875 0.296875 5.421875 2 \nL 5.421875 11.28125 \nQ 10.40625 8.6875 15.234375 7.390625 \nQ 20.0625 6.109375 24.8125 6.109375 \nQ 31.15625 6.109375 34.5625 8.28125 \nQ 37.984375 10.453125 37.984375 14.40625 \nQ 37.984375 18.0625 35.515625 20.015625 \nQ 33.0625 21.96875 24.703125 23.78125 \nL 21.578125 24.515625 \nQ 13.234375 26.265625 9.515625 29.90625 \nQ 5.8125 33.546875 5.8125 39.890625 \nQ 5.8125 47.609375 11.28125 51.796875 \nQ 16.75 56 26.8125 56 \nQ 31.78125 56 36.171875 55.265625 \nQ 40.578125 54.546875 44.28125 53.078125 \nz\n\" id=\"DejaVuSans-115\"/>\n      </defs>\n      <g style=\"fill:#262626;\" transform=\"translate(44.940625 232.685344)scale(0.1 -0.1)\">\n       <use xlink:href=\"#DejaVuSans-66\"/>\n       <use x=\"68.603516\" xlink:href=\"#DejaVuSans-105\"/>\n       <use x=\"96.386719\" xlink:href=\"#DejaVuSans-108\"/>\n       <use x=\"124.169922\" xlink:href=\"#DejaVuSans-108\"/>\n       <use x=\"151.953125\" xlink:href=\"#DejaVuSans-105\"/>\n       <use x=\"179.736328\" xlink:href=\"#DejaVuSans-101\"/>\n       <use x=\"241.259766\" xlink:href=\"#DejaVuSans-32\"/>\n       <use x=\"273.046875\" xlink:href=\"#DejaVuSans-69\"/>\n       <use x=\"336.230469\" xlink:href=\"#DejaVuSans-105\"/>\n       <use x=\"364.013672\" xlink:href=\"#DejaVuSans-108\"/>\n       <use x=\"391.796875\" xlink:href=\"#DejaVuSans-105\"/>\n       <use x=\"419.580078\" xlink:href=\"#DejaVuSans-115\"/>\n       <use x=\"471.679688\" xlink:href=\"#DejaVuSans-104\"/>\n      </g>\n     </g>\n    </g>\n    <g id=\"text_20\">\n     <!-- Artist -->\n     <g style=\"fill:#262626;\" transform=\"translate(14.798437 144.427969)rotate(-90)scale(0.1 -0.1)\">\n      <use xlink:href=\"#DejaVuSans-65\"/>\n      <use x=\"68.408203\" xlink:href=\"#DejaVuSans-114\"/>\n      <use x=\"109.521484\" xlink:href=\"#DejaVuSans-116\"/>\n      <use x=\"148.730469\" xlink:href=\"#DejaVuSans-105\"/>\n      <use x=\"176.513672\" xlink:href=\"#DejaVuSans-115\"/>\n      <use x=\"228.613281\" xlink:href=\"#DejaVuSans-116\"/>\n     </g>\n    </g>\n   </g>\n   <g id=\"patch_3\">\n    <path clip-path=\"url(#pc6d8748e32)\" d=\"M 105.445312 24.492525 \nL 424.302455 24.492525 \nL 424.302455 41.887725 \nL 105.445312 41.887725 \nz\n\" style=\"fill:#ea96a3;stroke:#ffffff;stroke-linejoin:miter;\"/>\n   </g>\n   <g id=\"patch_4\">\n    <path clip-path=\"url(#pc6d8748e32)\" d=\"M 105.445312 46.236525 \nL 421.300438 46.236525 \nL 421.300438 63.631725 \nL 105.445312 63.631725 \nz\n\" style=\"fill:#d7944e;stroke:#ffffff;stroke-linejoin:miter;\"/>\n   </g>\n   <g id=\"patch_5\">\n    <path clip-path=\"url(#pc6d8748e32)\" d=\"M 105.445312 67.980525 \nL 400.500745 67.980525 \nL 400.500745 85.375725 \nL 105.445312 85.375725 \nz\n\" style=\"fill:#ab9e47;stroke:#ffffff;stroke-linejoin:miter;\"/>\n   </g>\n   <g id=\"patch_6\">\n    <path clip-path=\"url(#pc6d8748e32)\" d=\"M 105.445312 89.724525 \nL 380.987632 89.724525 \nL 380.987632 107.119725 \nL 105.445312 107.119725 \nz\n\" style=\"fill:#7fa946;stroke:#ffffff;stroke-linejoin:miter;\"/>\n   </g>\n   <g id=\"patch_7\">\n    <path clip-path=\"url(#pc6d8748e32)\" d=\"M 105.445312 111.468525 \nL 317.516405 111.468525 \nL 317.516405 128.863725 \nL 105.445312 128.863725 \nz\n\" style=\"fill:#49ae83;stroke:#ffffff;stroke-linejoin:miter;\"/>\n   </g>\n   <g id=\"patch_8\">\n    <path clip-path=\"url(#pc6d8748e32)\" d=\"M 105.445312 133.212525 \nL 300.790879 133.212525 \nL 300.790879 150.607725 \nL 105.445312 150.607725 \nz\n\" style=\"fill:#4baba4;stroke:#ffffff;stroke-linejoin:miter;\"/>\n   </g>\n   <g id=\"patch_9\">\n    <path clip-path=\"url(#pc6d8748e32)\" d=\"M 105.445312 154.956525 \nL 294.357984 154.956525 \nL 294.357984 172.351725 \nL 105.445312 172.351725 \nz\n\" style=\"fill:#50acc3;stroke:#ffffff;stroke-linejoin:miter;\"/>\n   </g>\n   <g id=\"patch_10\">\n    <path clip-path=\"url(#pc6d8748e32)\" d=\"M 105.445312 176.700525 \nL 276.560309 176.700525 \nL 276.560309 194.095725 \nL 105.445312 194.095725 \nz\n\" style=\"fill:#94aee8;stroke:#ffffff;stroke-linejoin:miter;\"/>\n   </g>\n   <g id=\"patch_11\">\n    <path clip-path=\"url(#pc6d8748e32)\" d=\"M 105.445312 198.444525 \nL 273.987151 198.444525 \nL 273.987151 215.839725 \nL 105.445312 215.839725 \nz\n\" style=\"fill:#ce9be9;stroke:#ffffff;stroke-linejoin:miter;\"/>\n   </g>\n   <g id=\"patch_12\">\n    <path clip-path=\"url(#pc6d8748e32)\" d=\"M 105.445312 220.188525 \nL 272.057283 220.188525 \nL 272.057283 237.583725 \nL 105.445312 237.583725 \nz\n\" style=\"fill:#e88fcc;stroke:#ffffff;stroke-linejoin:miter;\"/>\n   </g>\n   <g id=\"line2d_9\">\n    <path clip-path=\"url(#pc6d8748e32)\" d=\"M 0 0 \n\" style=\"fill:none;stroke:#424242;stroke-linecap:round;stroke-width:2.7;\"/>\n   </g>\n   <g id=\"line2d_10\">\n    <path clip-path=\"url(#pc6d8748e32)\" d=\"M 0 0 \n\" style=\"fill:none;stroke:#424242;stroke-linecap:round;stroke-width:2.7;\"/>\n   </g>\n   <g id=\"line2d_11\">\n    <path clip-path=\"url(#pc6d8748e32)\" d=\"M 0 0 \n\" style=\"fill:none;stroke:#424242;stroke-linecap:round;stroke-width:2.7;\"/>\n   </g>\n   <g id=\"line2d_12\">\n    <path clip-path=\"url(#pc6d8748e32)\" d=\"M 0 0 \n\" style=\"fill:none;stroke:#424242;stroke-linecap:round;stroke-width:2.7;\"/>\n   </g>\n   <g id=\"line2d_13\">\n    <path clip-path=\"url(#pc6d8748e32)\" d=\"M 0 0 \n\" style=\"fill:none;stroke:#424242;stroke-linecap:round;stroke-width:2.7;\"/>\n   </g>\n   <g id=\"line2d_14\">\n    <path clip-path=\"url(#pc6d8748e32)\" d=\"M 0 0 \n\" style=\"fill:none;stroke:#424242;stroke-linecap:round;stroke-width:2.7;\"/>\n   </g>\n   <g id=\"line2d_15\">\n    <path clip-path=\"url(#pc6d8748e32)\" d=\"M 0 0 \n\" style=\"fill:none;stroke:#424242;stroke-linecap:round;stroke-width:2.7;\"/>\n   </g>\n   <g id=\"line2d_16\">\n    <path clip-path=\"url(#pc6d8748e32)\" d=\"M 0 0 \n\" style=\"fill:none;stroke:#424242;stroke-linecap:round;stroke-width:2.7;\"/>\n   </g>\n   <g id=\"line2d_17\">\n    <path clip-path=\"url(#pc6d8748e32)\" d=\"M 0 0 \n\" style=\"fill:none;stroke:#424242;stroke-linecap:round;stroke-width:2.7;\"/>\n   </g>\n   <g id=\"line2d_18\">\n    <path clip-path=\"url(#pc6d8748e32)\" d=\"M 0 0 \n\" style=\"fill:none;stroke:#424242;stroke-linecap:round;stroke-width:2.7;\"/>\n   </g>\n   <g id=\"patch_13\">\n    <path d=\"M 105.445312 239.758125 \nL 105.445312 22.318125 \n\" style=\"fill:none;stroke:#ffffff;stroke-linecap:square;stroke-linejoin:miter;stroke-width:0.8;\"/>\n   </g>\n   <g id=\"patch_14\">\n    <path d=\"M 440.245313 239.758125 \nL 440.245313 22.318125 \n\" style=\"fill:none;stroke:#ffffff;stroke-linecap:square;stroke-linejoin:miter;stroke-width:0.8;\"/>\n   </g>\n   <g id=\"patch_15\">\n    <path d=\"M 105.445312 239.758125 \nL 440.245313 239.758125 \n\" style=\"fill:none;stroke:#ffffff;stroke-linecap:square;stroke-linejoin:miter;stroke-width:0.8;\"/>\n   </g>\n   <g id=\"patch_16\">\n    <path d=\"M 105.445312 22.318125 \nL 440.245313 22.318125 \n\" style=\"fill:none;stroke:#ffffff;stroke-linecap:square;stroke-linejoin:miter;stroke-width:0.8;\"/>\n   </g>\n   <g id=\"text_21\">\n    <!-- Most Prolific Artists -->\n    <defs>\n     <path d=\"M 9.8125 72.90625 \nL 24.515625 72.90625 \nL 43.109375 23.296875 \nL 61.8125 72.90625 \nL 76.515625 72.90625 \nL 76.515625 0 \nL 66.890625 0 \nL 66.890625 64.015625 \nL 48.09375 14.015625 \nL 38.1875 14.015625 \nL 19.390625 64.015625 \nL 19.390625 0 \nL 9.8125 0 \nz\n\" id=\"DejaVuSans-77\"/>\n    </defs>\n    <g style=\"fill:#262626;\" transform=\"translate(215.584687 16.318125)scale(0.12 -0.12)\">\n     <use xlink:href=\"#DejaVuSans-77\"/>\n     <use x=\"86.279297\" xlink:href=\"#DejaVuSans-111\"/>\n     <use x=\"147.460938\" xlink:href=\"#DejaVuSans-115\"/>\n     <use x=\"199.560547\" xlink:href=\"#DejaVuSans-116\"/>\n     <use x=\"238.769531\" xlink:href=\"#DejaVuSans-32\"/>\n     <use x=\"270.556641\" xlink:href=\"#DejaVuSans-80\"/>\n     <use x=\"329.109375\" xlink:href=\"#DejaVuSans-114\"/>\n     <use x=\"367.972656\" xlink:href=\"#DejaVuSans-111\"/>\n     <use x=\"429.154297\" xlink:href=\"#DejaVuSans-108\"/>\n     <use x=\"456.9375\" xlink:href=\"#DejaVuSans-105\"/>\n     <use x=\"484.720703\" xlink:href=\"#DejaVuSans-102\"/>\n     <use x=\"519.925781\" xlink:href=\"#DejaVuSans-105\"/>\n     <use x=\"547.708984\" xlink:href=\"#DejaVuSans-99\"/>\n     <use x=\"602.689453\" xlink:href=\"#DejaVuSans-32\"/>\n     <use x=\"634.476562\" xlink:href=\"#DejaVuSans-65\"/>\n     <use x=\"702.884766\" xlink:href=\"#DejaVuSans-114\"/>\n     <use x=\"743.998047\" xlink:href=\"#DejaVuSans-116\"/>\n     <use x=\"783.207031\" xlink:href=\"#DejaVuSans-105\"/>\n     <use x=\"810.990234\" xlink:href=\"#DejaVuSans-115\"/>\n     <use x=\"863.089844\" xlink:href=\"#DejaVuSans-116\"/>\n     <use x=\"902.298828\" xlink:href=\"#DejaVuSans-115\"/>\n    </g>\n   </g>\n  </g>\n </g>\n <defs>\n  <clipPath id=\"pc6d8748e32\">\n   <rect height=\"217.44\" width=\"334.8\" x=\"105.445312\" y=\"22.318125\"/>\n  </clipPath>\n </defs>\n</svg>\n"
          },
          "metadata": {}
        }
      ]
    },
    {
      "cell_type": "code",
      "source": [
        "df.createOrReplaceTempView(\"df_table\")"
      ],
      "metadata": {
        "id": "GNh65r2BfNMj"
      },
      "execution_count": null,
      "outputs": []
    },
    {
      "cell_type": "code",
      "source": [
        "print(\"Now using the SQL Context. We can check it's the same length as before\")\n",
        "query = \"\"\"\n",
        "    SELECT Count(*) as Dataset_Length\n",
        "    FROM df_table\n",
        "\"\"\"\n",
        "res = spark.sql(query).show()"
      ],
      "metadata": {
        "colab": {
          "base_uri": "https://localhost:8080/"
        },
        "id": "nrjplmVOfQXr",
        "outputId": "cb900ddb-9853-42a9-d38e-d9cba1afed5d"
      },
      "execution_count": null,
      "outputs": [
        {
          "output_type": "stream",
          "name": "stdout",
          "text": [
            "Now using the SQL Context. We can check it's the same length as before\n",
            "+--------------+\n",
            "|Dataset_Length|\n",
            "+--------------+\n",
            "|        170633|\n",
            "+--------------+\n",
            "\n"
          ]
        }
      ]
    },
    {
      "cell_type": "code",
      "source": [
        "# Most popular artist (by sum of popularity of songs) in the USA\n",
        "query = \"\"\"\n",
        "SELECT\n",
        "                                    Artist, \n",
        "       ROUND(SUM(Popularity), 2) AS Populartiy\n",
        "FROM df_table\n",
        "WHERE USA == 1\n",
        "GROUP BY Artist\n",
        "ORDER BY AVG(Popularity) DESC\n",
        "LIMIT 10\n",
        "\"\"\"\n",
        "\n",
        "res = spark.sql(query)\n",
        "res.show(10, truncate=False)"
      ],
      "metadata": {
        "colab": {
          "base_uri": "https://localhost:8080/"
        },
        "id": "DjNT03rBfS9F",
        "outputId": "767ab3ec-abd5-4a13-e8af-044cb14229c1"
      },
      "execution_count": null,
      "outputs": [
        {
          "output_type": "stream",
          "name": "stdout",
          "text": [
            "+------------------------------+----------+\n",
            "|Artist                        |Populartiy|\n",
            "+------------------------------+----------+\n",
            "|Post Malone - Quavo           |130719.15 |\n",
            "|XXXTENTACION - Trippie Redd   |97016.35  |\n",
            "|Meek Mill - Drake             |83235.95  |\n",
            "|Post Malone - 21 Savage       |159633.25 |\n",
            "|Billie Eilish - Khalid        |79693.9   |\n",
            "|Marshmello - Bastille         |74560.5   |\n",
            "|Cardi B - Bad Bunny - J Balvin|74381.6   |\n",
            "|Migos - Lil Uzi Vert          |70138.2   |\n",
            "|BlocBoy JB - Drake            |69576.75  |\n",
            "|Kendrick Lamar - Zacari       |67838.15  |\n",
            "+------------------------------+----------+\n",
            "\n"
          ]
        }
      ]
    },
    {
      "cell_type": "code",
      "source": [
        "# select only the songs released in 1939\n",
        "(df.filter(F.year(df['Release_date']) == 1939)\n",
        "   .select('Title', 'Artist','Release_date', 'Genre')\n",
        "   .distinct()\n",
        "   .show(5, truncate=False)\n",
        ")"
      ],
      "metadata": {
        "colab": {
          "base_uri": "https://localhost:8080/"
        },
        "id": "IeZz8-rafWCs",
        "outputId": "0324edc4-fe10-4774-d403-ff04996c3a91"
      },
      "execution_count": null,
      "outputs": [
        {
          "output_type": "stream",
          "name": "stdout",
          "text": [
            "+--------------------------------------------+------------+------------+---------------+\n",
            "|Title                                       |Artist      |Release_date|Genre          |\n",
            "+--------------------------------------------+------------+------------+---------------+\n",
            "|moonlight serenade - 2005 remastered version|Glenn Miller|1939-09-01  |adult standards|\n",
            "+--------------------------------------------+------------+------------+---------------+\n",
            "\n"
          ]
        }
      ]
    },
    {
      "cell_type": "code",
      "source": [
        "query = \"\"\"\n",
        "SELECT\n",
        "        ROUND(Year(Release_date), -1) AS Decade,\n",
        "        Round(Popularity, 2)          AS Popularity,\n",
        "                                         Title,\n",
        "                                         Artist\n",
        "FROM df_table\n",
        "INNER JOIN (SELECT Max(Popularity) as mp\n",
        "            FROM df_table\n",
        "            WHERE ROUND(Year(Release_date), -1) IS NOT NULL\n",
        "            AND USA == 1\n",
        "            GROUP BY ROUND(Year(Release_date), -1)\n",
        "           ) AS temp\n",
        "ON temp.mp = df_table.Popularity\n",
        "ORDER BY Decade ASC, Popularity ASC\n",
        "\"\"\"\n",
        "\n",
        "res = spark.sql(query)\n",
        "res.toPandas().drop_duplicates(subset='Decade', keep=\"last\")"
      ],
      "metadata": {
        "colab": {
          "base_uri": "https://localhost:8080/",
          "height": 363
        },
        "id": "oNuBu7lrfY1V",
        "outputId": "93344d15-5962-40e4-eccf-2e1d96d96c81"
      },
      "execution_count": null,
      "outputs": [
        {
          "output_type": "execute_result",
          "data": {
            "text/plain": [
              "     Decade  Popularity                                   Title  \\\n",
              "10      NaN       98.60     say it loud - im black and im proud   \n",
              "11   1940.0      840.50  have yourself a merry little christmas   \n",
              "12   1950.0      997.60                         mele kalikimaka   \n",
              "15   1960.0     9704.95                          blue christmas   \n",
              "16   1970.0       98.40     me and julio down by the schoolyard   \n",
              "24   1980.0       98.60                     listen to her heart   \n",
              "32   1990.0       98.40    home for the holidays - 1959 version   \n",
              "40   2000.0     9476.05                           feliz navidad   \n",
              "75   2010.0       98.60                             suomirokkia   \n",
              "383  2020.0    99912.30                           drip too hard   \n",
              "\n",
              "                                Artist  \n",
              "10                         James Brown  \n",
              "11                        Judy Garland  \n",
              "12   Bing Crosby - The Andrews Sisters  \n",
              "15                       Elvis Presley  \n",
              "16                          Paul Simon  \n",
              "24     Tom Petty and the Heartbreakers  \n",
              "32                          Perry Como  \n",
              "40                      José Feliciano  \n",
              "75                            Aknestik  \n",
              "383                   Lil Baby - Gunna  "
            ],
            "text/html": [
              "\n",
              "  <div id=\"df-b6b08695-7641-4cdd-bb9c-1b4a1708679e\">\n",
              "    <div class=\"colab-df-container\">\n",
              "      <div>\n",
              "<style scoped>\n",
              "    .dataframe tbody tr th:only-of-type {\n",
              "        vertical-align: middle;\n",
              "    }\n",
              "\n",
              "    .dataframe tbody tr th {\n",
              "        vertical-align: top;\n",
              "    }\n",
              "\n",
              "    .dataframe thead th {\n",
              "        text-align: right;\n",
              "    }\n",
              "</style>\n",
              "<table border=\"1\" class=\"dataframe\">\n",
              "  <thead>\n",
              "    <tr style=\"text-align: right;\">\n",
              "      <th></th>\n",
              "      <th>Decade</th>\n",
              "      <th>Popularity</th>\n",
              "      <th>Title</th>\n",
              "      <th>Artist</th>\n",
              "    </tr>\n",
              "  </thead>\n",
              "  <tbody>\n",
              "    <tr>\n",
              "      <th>10</th>\n",
              "      <td>NaN</td>\n",
              "      <td>98.60</td>\n",
              "      <td>say it loud - im black and im proud</td>\n",
              "      <td>James Brown</td>\n",
              "    </tr>\n",
              "    <tr>\n",
              "      <th>11</th>\n",
              "      <td>1940.0</td>\n",
              "      <td>840.50</td>\n",
              "      <td>have yourself a merry little christmas</td>\n",
              "      <td>Judy Garland</td>\n",
              "    </tr>\n",
              "    <tr>\n",
              "      <th>12</th>\n",
              "      <td>1950.0</td>\n",
              "      <td>997.60</td>\n",
              "      <td>mele kalikimaka</td>\n",
              "      <td>Bing Crosby - The Andrews Sisters</td>\n",
              "    </tr>\n",
              "    <tr>\n",
              "      <th>15</th>\n",
              "      <td>1960.0</td>\n",
              "      <td>9704.95</td>\n",
              "      <td>blue christmas</td>\n",
              "      <td>Elvis Presley</td>\n",
              "    </tr>\n",
              "    <tr>\n",
              "      <th>16</th>\n",
              "      <td>1970.0</td>\n",
              "      <td>98.40</td>\n",
              "      <td>me and julio down by the schoolyard</td>\n",
              "      <td>Paul Simon</td>\n",
              "    </tr>\n",
              "    <tr>\n",
              "      <th>24</th>\n",
              "      <td>1980.0</td>\n",
              "      <td>98.60</td>\n",
              "      <td>listen to her heart</td>\n",
              "      <td>Tom Petty and the Heartbreakers</td>\n",
              "    </tr>\n",
              "    <tr>\n",
              "      <th>32</th>\n",
              "      <td>1990.0</td>\n",
              "      <td>98.40</td>\n",
              "      <td>home for the holidays - 1959 version</td>\n",
              "      <td>Perry Como</td>\n",
              "    </tr>\n",
              "    <tr>\n",
              "      <th>40</th>\n",
              "      <td>2000.0</td>\n",
              "      <td>9476.05</td>\n",
              "      <td>feliz navidad</td>\n",
              "      <td>José Feliciano</td>\n",
              "    </tr>\n",
              "    <tr>\n",
              "      <th>75</th>\n",
              "      <td>2010.0</td>\n",
              "      <td>98.60</td>\n",
              "      <td>suomirokkia</td>\n",
              "      <td>Aknestik</td>\n",
              "    </tr>\n",
              "    <tr>\n",
              "      <th>383</th>\n",
              "      <td>2020.0</td>\n",
              "      <td>99912.30</td>\n",
              "      <td>drip too hard</td>\n",
              "      <td>Lil Baby - Gunna</td>\n",
              "    </tr>\n",
              "  </tbody>\n",
              "</table>\n",
              "</div>\n",
              "      <button class=\"colab-df-convert\" onclick=\"convertToInteractive('df-b6b08695-7641-4cdd-bb9c-1b4a1708679e')\"\n",
              "              title=\"Convert this dataframe to an interactive table.\"\n",
              "              style=\"display:none;\">\n",
              "        \n",
              "  <svg xmlns=\"http://www.w3.org/2000/svg\" height=\"24px\"viewBox=\"0 0 24 24\"\n",
              "       width=\"24px\">\n",
              "    <path d=\"M0 0h24v24H0V0z\" fill=\"none\"/>\n",
              "    <path d=\"M18.56 5.44l.94 2.06.94-2.06 2.06-.94-2.06-.94-.94-2.06-.94 2.06-2.06.94zm-11 1L8.5 8.5l.94-2.06 2.06-.94-2.06-.94L8.5 2.5l-.94 2.06-2.06.94zm10 10l.94 2.06.94-2.06 2.06-.94-2.06-.94-.94-2.06-.94 2.06-2.06.94z\"/><path d=\"M17.41 7.96l-1.37-1.37c-.4-.4-.92-.59-1.43-.59-.52 0-1.04.2-1.43.59L10.3 9.45l-7.72 7.72c-.78.78-.78 2.05 0 2.83L4 21.41c.39.39.9.59 1.41.59.51 0 1.02-.2 1.41-.59l7.78-7.78 2.81-2.81c.8-.78.8-2.07 0-2.86zM5.41 20L4 18.59l7.72-7.72 1.47 1.35L5.41 20z\"/>\n",
              "  </svg>\n",
              "      </button>\n",
              "      \n",
              "  <style>\n",
              "    .colab-df-container {\n",
              "      display:flex;\n",
              "      flex-wrap:wrap;\n",
              "      gap: 12px;\n",
              "    }\n",
              "\n",
              "    .colab-df-convert {\n",
              "      background-color: #E8F0FE;\n",
              "      border: none;\n",
              "      border-radius: 50%;\n",
              "      cursor: pointer;\n",
              "      display: none;\n",
              "      fill: #1967D2;\n",
              "      height: 32px;\n",
              "      padding: 0 0 0 0;\n",
              "      width: 32px;\n",
              "    }\n",
              "\n",
              "    .colab-df-convert:hover {\n",
              "      background-color: #E2EBFA;\n",
              "      box-shadow: 0px 1px 2px rgba(60, 64, 67, 0.3), 0px 1px 3px 1px rgba(60, 64, 67, 0.15);\n",
              "      fill: #174EA6;\n",
              "    }\n",
              "\n",
              "    [theme=dark] .colab-df-convert {\n",
              "      background-color: #3B4455;\n",
              "      fill: #D2E3FC;\n",
              "    }\n",
              "\n",
              "    [theme=dark] .colab-df-convert:hover {\n",
              "      background-color: #434B5C;\n",
              "      box-shadow: 0px 1px 3px 1px rgba(0, 0, 0, 0.15);\n",
              "      filter: drop-shadow(0px 1px 2px rgba(0, 0, 0, 0.3));\n",
              "      fill: #FFFFFF;\n",
              "    }\n",
              "  </style>\n",
              "\n",
              "      <script>\n",
              "        const buttonEl =\n",
              "          document.querySelector('#df-b6b08695-7641-4cdd-bb9c-1b4a1708679e button.colab-df-convert');\n",
              "        buttonEl.style.display =\n",
              "          google.colab.kernel.accessAllowed ? 'block' : 'none';\n",
              "\n",
              "        async function convertToInteractive(key) {\n",
              "          const element = document.querySelector('#df-b6b08695-7641-4cdd-bb9c-1b4a1708679e');\n",
              "          const dataTable =\n",
              "            await google.colab.kernel.invokeFunction('convertToInteractive',\n",
              "                                                     [key], {});\n",
              "          if (!dataTable) return;\n",
              "\n",
              "          const docLinkHtml = 'Like what you see? Visit the ' +\n",
              "            '<a target=\"_blank\" href=https://colab.research.google.com/notebooks/data_table.ipynb>data table notebook</a>'\n",
              "            + ' to learn more about interactive tables.';\n",
              "          element.innerHTML = '';\n",
              "          dataTable['output_type'] = 'display_data';\n",
              "          await google.colab.output.renderOutput(dataTable, element);\n",
              "          const docLink = document.createElement('div');\n",
              "          docLink.innerHTML = docLinkHtml;\n",
              "          element.appendChild(docLink);\n",
              "        }\n",
              "      </script>\n",
              "    </div>\n",
              "  </div>\n",
              "  "
            ]
          },
          "metadata": {},
          "execution_count": 21
        }
      ]
    },
    {
      "cell_type": "code",
      "source": [
        "# highly optimized version of the above query via scalar-aggregate-reduction\n",
        "query = \"\"\"\n",
        "SELECT\n",
        "    ROUND(Year(Release_date), -1) as Decade,\n",
        "    ROUND(Max(Popularity), 2) as Popularity,\n",
        "    SUBSTRING(MAX(CONCAT(LPAD(Popularity, 11, 0), Title)), 12) AS Title,\n",
        "    SUBSTRING(MAX(CONCAT(LPAD(Popularity, 11, 0), Artist)), 12) AS Artist\n",
        "FROM\n",
        "    df_table\n",
        "WHERE\n",
        "    ROUND(Year(Release_date), -1) IS NOT NULL\n",
        "    AND USA == 1\n",
        "GROUP BY Decade\n",
        "ORDER BY Decade ASC\n",
        "\"\"\"\n",
        "\n",
        "spark.sql(query).show()"
      ],
      "metadata": {
        "colab": {
          "base_uri": "https://localhost:8080/"
        },
        "id": "4NebHcJmfeWJ",
        "outputId": "894ab5a6-4142-4dfe-fbd2-8e535871d2cd"
      },
      "execution_count": null,
      "outputs": [
        {
          "output_type": "stream",
          "name": "stdout",
          "text": [
            "+------+----------+--------------------+--------------------+\n",
            "|Decade|Popularity|               Title|              Artist|\n",
            "+------+----------+--------------------+--------------------+\n",
            "|  1940|     840.5|     white christmas|Bing Crosby - Ken...|\n",
            "|  1950|     997.6|ill be home for c...|         Bing Crosby|\n",
            "|  1960|   9704.95|    jingle bell rock|         Bobby Helms|\n",
            "|  1970|      98.4|what christmas me...|       Stevie Wonder|\n",
            "|  1980|      98.6|dreams - 2004 rem...|       Fleetwood Mac|\n",
            "|  1990|     97.75|            spoonman|         Soundgarden|\n",
            "|  2000|   9476.05|       feliz navidad|      José Feliciano|\n",
            "|  2010|     97.75|         tongue tied|           Grouplove|\n",
            "|  2020|   99912.3|       drip too hard|    Lil Baby - Gunna|\n",
            "+------+----------+--------------------+--------------------+\n",
            "\n"
          ]
        }
      ]
    },
    {
      "cell_type": "markdown",
      "source": [
        "Most popular Genre per decade"
      ],
      "metadata": {
        "id": "Urb-mubnot0W"
      }
    },
    {
      "cell_type": "code",
      "source": [
        " # Most popular genres, period.\n",
        "query = \"\"\"\n",
        "SELECT Genre, COUNT(*) AS Tally\n",
        "FROM df_table\n",
        "GROUP BY Genre\n",
        "ORDER BY Tally DESC\n",
        "\"\"\"\n",
        "spark.sql(query).show(5)"
      ],
      "metadata": {
        "colab": {
          "base_uri": "https://localhost:8080/"
        },
        "id": "sAkaKFnJovN_",
        "outputId": "e899e870-5e6a-40ec-97af-8e4f95c26b8e"
      },
      "execution_count": null,
      "outputs": [
        {
          "output_type": "stream",
          "name": "stdout",
          "text": [
            "+---------+-----+\n",
            "|    Genre|Tally|\n",
            "+---------+-----+\n",
            "|dance pop|25351|\n",
            "|    latin| 7591|\n",
            "|      pop| 7146|\n",
            "|    k-pop| 4053|\n",
            "|      n-a| 3952|\n",
            "+---------+-----+\n",
            "only showing top 5 rows\n",
            "\n"
          ]
        }
      ]
    },
    {
      "cell_type": "code",
      "source": [
        "query = \"\"\"\n",
        "SELECT\n",
        "      ROUND(Year(Release_date), -1) AS Decade,\n",
        "      Genre, COUNT(Genre)           AS counts\n",
        "FROM  df_table\n",
        "WHERE ROUND(Year(Release_date), -1) IS NOT NULL\n",
        "GROUP BY Decade, Genre\n",
        "ORDER BY COUNT(Genre) DESC\n",
        "\"\"\"\n",
        "\n",
        "res = (spark.sql(query)\n",
        "            .dropDuplicates(subset=['Decade'])\n",
        "            .orderBy('Decade')\n",
        "            .show()\n",
        "      )\n",
        "# res.toPandas().drop_duplicates(subset='Decade', keep=\"first\")"
      ],
      "metadata": {
        "colab": {
          "base_uri": "https://localhost:8080/"
        },
        "id": "vKTD7HM6oz1w",
        "outputId": "7a4ff88c-3013-42e7-b88a-96bba04da33c"
      },
      "execution_count": null,
      "outputs": [
        {
          "output_type": "stream",
          "name": "stdout",
          "text": [
            "+------+-------------------+------+\n",
            "|Decade|              Genre|counts|\n",
            "+------+-------------------+------+\n",
            "|  1900|vocal harmony group|     1|\n",
            "|  1930|        movie tunes|     1|\n",
            "|  1940|    adult standards|    39|\n",
            "|  1950|    adult standards|    36|\n",
            "|  1960|    adult standards|   186|\n",
            "|  1970|       classic soul|   152|\n",
            "|  1980|         album rock|   379|\n",
            "|  1990|         irish rock|   170|\n",
            "|  2000|  alternative metal|   477|\n",
            "|  2010|          dance pop|  1052|\n",
            "|  2020|          dance pop| 23496|\n",
            "+------+-------------------+------+\n",
            "\n"
          ]
        }
      ]
    },
    {
      "cell_type": "markdown",
      "source": [
        "For each track, what day was it most popular?"
      ],
      "metadata": {
        "id": "yuo07dWpo3zO"
      }
    },
    {
      "cell_type": "code",
      "source": [
        "query = \"\"\"\n",
        "SELECT Title, Artist, Release_date, MAX(Popularity)\n",
        "FROM df_table\n",
        "WHERE Artist == \"Paulo Londra\"\n",
        "GROUP BY Title, Artist, Release_date\n",
        "LIMIT 10\n",
        "\"\"\"\n",
        "\n",
        "res = spark.sql(query).show()"
      ],
      "metadata": {
        "colab": {
          "base_uri": "https://localhost:8080/"
        },
        "id": "MGqXsIAfo47y",
        "outputId": "80831875-fd13-4581-f925-ce0545ef40c0"
      },
      "execution_count": null,
      "outputs": [
        {
          "output_type": "stream",
          "name": "stdout",
          "text": [
            "+--------------------+------------+------------+------------------+\n",
            "|               Title|      Artist|Release_date|   max(Popularity)|\n",
            "+--------------------+------------+------------+------------------+\n",
            "|          adan y eva|Paulo Londra|  2018-11-05| 849.6000000000001|\n",
            "|          adan y eva|Paulo Londra|  2019-05-23| 57194.60000000001|\n",
            "|    chica paranormal|Paulo Londra|  2018-07-24|           6341.35|\n",
            "|    chica paranormal|Paulo Londra|  2019-05-23|           9409.05|\n",
            "|condenado para el...|Paulo Londra|  2017-12-04| 617.6000000000001|\n",
            "|condenado para el...|Paulo Londra|  2018-11-03|             852.0|\n",
            "|condenado para el...|Paulo Londra|  2019-05-23| 586.7500000000001|\n",
            "|confiado & tranquilo|Paulo Londra|  2017-05-30|375.20000000000016|\n",
            "|        cámara lenta|Paulo Londra|  2017-10-07| 8088.800000000004|\n",
            "|      demasiado loco|Paulo Londra|  2019-05-23| 6337.350000000001|\n",
            "+--------------------+------------+------------+------------------+\n",
            "\n"
          ]
        }
      ]
    },
    {
      "cell_type": "markdown",
      "source": [
        "Let's see how music changed over the decade"
      ],
      "metadata": {
        "id": "knia3F4do-4g"
      }
    },
    {
      "cell_type": "code",
      "source": [
        "sound_features = ['danceability', 'energy', 'instrumentalness', 'valence', 'liveliness', 'speechiness', 'acoustics']\n",
        "col_names = ['Decade']\n",
        "col_names.extend(sound_features)\n",
        "\n",
        "df_music_features = (df.sample(.2, seed=42)\n",
        "                       .groupBy(F.round(F.year(df.Release_date), -1))\n",
        "                       .agg({feature: 'mean' for feature in sound_features})\n",
        "                       .toDF(*col_names)\n",
        "                       .orderBy('Decade')\n",
        "                       .toPandas()\n",
        "                       .dropna(axis=0)\n",
        "                    )\n",
        "fig = px.line(df_music_features, x='Decade', y=sound_features, title='Song Characteristics Over the Decades')\n",
        "fig.show()"
      ],
      "metadata": {
        "colab": {
          "base_uri": "https://localhost:8080/",
          "height": 542
        },
        "id": "K9F68xempAK1",
        "outputId": "4e4b9b79-3b5f-4ab9-cf2d-2dc2712f3970"
      },
      "execution_count": null,
      "outputs": [
        {
          "output_type": "display_data",
          "data": {
            "application/vnd.plotly.v1+json": {
              "data": [
                {
                  "hovertemplate": "variable=danceability<br>Decade=%{x}<br>value=%{y}<extra></extra>",
                  "legendgroup": "danceability",
                  "line": {
                    "color": "#636efa",
                    "dash": "solid"
                  },
                  "marker": {
                    "symbol": "circle"
                  },
                  "mode": "lines",
                  "name": "danceability",
                  "orientation": "v",
                  "showlegend": true,
                  "x": [
                    1940,
                    1950,
                    1960,
                    1970,
                    1980,
                    1990,
                    2000,
                    2010,
                    2020
                  ],
                  "xaxis": "x",
                  "y": [
                    0.1629999980330467,
                    0.5979999899864197,
                    0.7537590349654117,
                    0.697534591053267,
                    0.6359236571489528,
                    0.537390311930509,
                    0.539000993869445,
                    0.5130987081372617,
                    0.4849220512284239
                  ],
                  "yaxis": "y",
                  "type": "scatter"
                },
                {
                  "hovertemplate": "variable=energy<br>Decade=%{x}<br>value=%{y}<extra></extra>",
                  "legendgroup": "energy",
                  "line": {
                    "color": "#EF553B",
                    "dash": "solid"
                  },
                  "marker": {
                    "symbol": "circle"
                  },
                  "mode": "lines",
                  "name": "energy",
                  "orientation": "v",
                  "showlegend": true,
                  "x": [
                    1940,
                    1950,
                    1960,
                    1970,
                    1980,
                    1990,
                    2000,
                    2010,
                    2020
                  ],
                  "xaxis": "x",
                  "y": [
                    0.1736000031232834,
                    0.21800000220537186,
                    0.41893614038645505,
                    0.5298553480292266,
                    0.5950580907065839,
                    0.5826988602720434,
                    0.6812751246013896,
                    0.6238844894202186,
                    0.6452382285808702
                  ],
                  "yaxis": "y",
                  "type": "scatter"
                },
                {
                  "hovertemplate": "variable=instrumentalness<br>Decade=%{x}<br>value=%{y}<extra></extra>",
                  "legendgroup": "instrumentalness",
                  "line": {
                    "color": "#00cc96",
                    "dash": "solid"
                  },
                  "marker": {
                    "symbol": "circle"
                  },
                  "mode": "lines",
                  "name": "instrumentalness",
                  "orientation": "v",
                  "showlegend": true,
                  "x": [
                    1940,
                    1950,
                    1960,
                    1970,
                    1980,
                    1990,
                    2000,
                    2010,
                    2020
                  ],
                  "xaxis": "x",
                  "y": [
                    0.03881999924778938,
                    0.07155000232160091,
                    0.04969277122921972,
                    0.04645283010630113,
                    0.05733900418296395,
                    0.048801709470628334,
                    0.06966650070217908,
                    0.06415972799113413,
                    0.130676016416699
                  ],
                  "yaxis": "y",
                  "type": "scatter"
                },
                {
                  "hovertemplate": "variable=valence<br>Decade=%{x}<br>value=%{y}<extra></extra>",
                  "legendgroup": "valence",
                  "line": {
                    "color": "#ab63fa",
                    "dash": "solid"
                  },
                  "marker": {
                    "symbol": "circle"
                  },
                  "mode": "lines",
                  "name": "valence",
                  "orientation": "v",
                  "showlegend": true,
                  "x": [
                    1940,
                    1950,
                    1960,
                    1970,
                    1980,
                    1990,
                    2000,
                    2010,
                    2020
                  ],
                  "xaxis": "x",
                  "y": [
                    0.29119999408721925,
                    0.21000000834465027,
                    0.1885578289897327,
                    0.16832893156686668,
                    0.20374647297614343,
                    0.19768461703914522,
                    0.2053907139853854,
                    0.18051999987540196,
                    0.17398031193620872
                  ],
                  "yaxis": "y",
                  "type": "scatter"
                },
                {
                  "hovertemplate": "variable=liveliness<br>Decade=%{x}<br>value=%{y}<extra></extra>",
                  "legendgroup": "liveliness",
                  "line": {
                    "color": "#FFA15A",
                    "dash": "solid"
                  },
                  "marker": {
                    "symbol": "circle"
                  },
                  "mode": "lines",
                  "name": "liveliness",
                  "orientation": "v",
                  "showlegend": true,
                  "x": [
                    1940,
                    1950,
                    1960,
                    1970,
                    1980,
                    1990,
                    2000,
                    2010,
                    2020
                  ],
                  "xaxis": "x",
                  "y": [
                    0.22040000259876252,
                    0.48649999499320984,
                    0.5439759006342256,
                    0.589415097105428,
                    0.6225767654378385,
                    0.5335205124526622,
                    0.5884577104355367,
                    0.5791789119340935,
                    0.6764057283601621
                  ],
                  "yaxis": "y",
                  "type": "scatter"
                },
                {
                  "hovertemplate": "variable=speechiness<br>Decade=%{x}<br>value=%{y}<extra></extra>",
                  "legendgroup": "speechiness",
                  "line": {
                    "color": "#19d3f3",
                    "dash": "solid"
                  },
                  "marker": {
                    "symbol": "circle"
                  },
                  "mode": "lines",
                  "name": "speechiness",
                  "orientation": "v",
                  "showlegend": true,
                  "x": [
                    1940,
                    1950,
                    1960,
                    1970,
                    1980,
                    1990,
                    2000,
                    2010,
                    2020
                  ],
                  "xaxis": "x",
                  "y": [
                    0.14394799405708908,
                    0,
                    0.00216362252679694,
                    0.01362927766216723,
                    0.01978714433706553,
                    0.021211037666858164,
                    0.027638037435053775,
                    0.0206638213099155,
                    0.014750475389264864
                  ],
                  "yaxis": "y",
                  "type": "scatter"
                },
                {
                  "hovertemplate": "variable=acoustics<br>Decade=%{x}<br>value=%{y}<extra></extra>",
                  "legendgroup": "acoustics",
                  "line": {
                    "color": "#FF6692",
                    "dash": "solid"
                  },
                  "marker": {
                    "symbol": "circle"
                  },
                  "mode": "lines",
                  "name": "acoustics",
                  "orientation": "v",
                  "showlegend": true,
                  "x": [
                    1940,
                    1950,
                    1960,
                    1970,
                    1980,
                    1990,
                    2000,
                    2010,
                    2020
                  ],
                  "xaxis": "x",
                  "y": [
                    0.851200008392334,
                    0.7080000042915344,
                    0.7397108443350677,
                    0.3680238982416549,
                    0.264182923550532,
                    0.30420478979895027,
                    0.24508908558260498,
                    0.3195929980540511,
                    0.23423167943171533
                  ],
                  "yaxis": "y",
                  "type": "scatter"
                }
              ],
              "layout": {
                "template": {
                  "data": {
                    "bar": [
                      {
                        "error_x": {
                          "color": "#2a3f5f"
                        },
                        "error_y": {
                          "color": "#2a3f5f"
                        },
                        "marker": {
                          "line": {
                            "color": "#E5ECF6",
                            "width": 0.5
                          },
                          "pattern": {
                            "fillmode": "overlay",
                            "size": 10,
                            "solidity": 0.2
                          }
                        },
                        "type": "bar"
                      }
                    ],
                    "barpolar": [
                      {
                        "marker": {
                          "line": {
                            "color": "#E5ECF6",
                            "width": 0.5
                          },
                          "pattern": {
                            "fillmode": "overlay",
                            "size": 10,
                            "solidity": 0.2
                          }
                        },
                        "type": "barpolar"
                      }
                    ],
                    "carpet": [
                      {
                        "aaxis": {
                          "endlinecolor": "#2a3f5f",
                          "gridcolor": "white",
                          "linecolor": "white",
                          "minorgridcolor": "white",
                          "startlinecolor": "#2a3f5f"
                        },
                        "baxis": {
                          "endlinecolor": "#2a3f5f",
                          "gridcolor": "white",
                          "linecolor": "white",
                          "minorgridcolor": "white",
                          "startlinecolor": "#2a3f5f"
                        },
                        "type": "carpet"
                      }
                    ],
                    "choropleth": [
                      {
                        "colorbar": {
                          "outlinewidth": 0,
                          "ticks": ""
                        },
                        "type": "choropleth"
                      }
                    ],
                    "contour": [
                      {
                        "colorbar": {
                          "outlinewidth": 0,
                          "ticks": ""
                        },
                        "colorscale": [
                          [
                            0,
                            "#0d0887"
                          ],
                          [
                            0.1111111111111111,
                            "#46039f"
                          ],
                          [
                            0.2222222222222222,
                            "#7201a8"
                          ],
                          [
                            0.3333333333333333,
                            "#9c179e"
                          ],
                          [
                            0.4444444444444444,
                            "#bd3786"
                          ],
                          [
                            0.5555555555555556,
                            "#d8576b"
                          ],
                          [
                            0.6666666666666666,
                            "#ed7953"
                          ],
                          [
                            0.7777777777777778,
                            "#fb9f3a"
                          ],
                          [
                            0.8888888888888888,
                            "#fdca26"
                          ],
                          [
                            1,
                            "#f0f921"
                          ]
                        ],
                        "type": "contour"
                      }
                    ],
                    "contourcarpet": [
                      {
                        "colorbar": {
                          "outlinewidth": 0,
                          "ticks": ""
                        },
                        "type": "contourcarpet"
                      }
                    ],
                    "heatmap": [
                      {
                        "colorbar": {
                          "outlinewidth": 0,
                          "ticks": ""
                        },
                        "colorscale": [
                          [
                            0,
                            "#0d0887"
                          ],
                          [
                            0.1111111111111111,
                            "#46039f"
                          ],
                          [
                            0.2222222222222222,
                            "#7201a8"
                          ],
                          [
                            0.3333333333333333,
                            "#9c179e"
                          ],
                          [
                            0.4444444444444444,
                            "#bd3786"
                          ],
                          [
                            0.5555555555555556,
                            "#d8576b"
                          ],
                          [
                            0.6666666666666666,
                            "#ed7953"
                          ],
                          [
                            0.7777777777777778,
                            "#fb9f3a"
                          ],
                          [
                            0.8888888888888888,
                            "#fdca26"
                          ],
                          [
                            1,
                            "#f0f921"
                          ]
                        ],
                        "type": "heatmap"
                      }
                    ],
                    "heatmapgl": [
                      {
                        "colorbar": {
                          "outlinewidth": 0,
                          "ticks": ""
                        },
                        "colorscale": [
                          [
                            0,
                            "#0d0887"
                          ],
                          [
                            0.1111111111111111,
                            "#46039f"
                          ],
                          [
                            0.2222222222222222,
                            "#7201a8"
                          ],
                          [
                            0.3333333333333333,
                            "#9c179e"
                          ],
                          [
                            0.4444444444444444,
                            "#bd3786"
                          ],
                          [
                            0.5555555555555556,
                            "#d8576b"
                          ],
                          [
                            0.6666666666666666,
                            "#ed7953"
                          ],
                          [
                            0.7777777777777778,
                            "#fb9f3a"
                          ],
                          [
                            0.8888888888888888,
                            "#fdca26"
                          ],
                          [
                            1,
                            "#f0f921"
                          ]
                        ],
                        "type": "heatmapgl"
                      }
                    ],
                    "histogram": [
                      {
                        "marker": {
                          "pattern": {
                            "fillmode": "overlay",
                            "size": 10,
                            "solidity": 0.2
                          }
                        },
                        "type": "histogram"
                      }
                    ],
                    "histogram2d": [
                      {
                        "colorbar": {
                          "outlinewidth": 0,
                          "ticks": ""
                        },
                        "colorscale": [
                          [
                            0,
                            "#0d0887"
                          ],
                          [
                            0.1111111111111111,
                            "#46039f"
                          ],
                          [
                            0.2222222222222222,
                            "#7201a8"
                          ],
                          [
                            0.3333333333333333,
                            "#9c179e"
                          ],
                          [
                            0.4444444444444444,
                            "#bd3786"
                          ],
                          [
                            0.5555555555555556,
                            "#d8576b"
                          ],
                          [
                            0.6666666666666666,
                            "#ed7953"
                          ],
                          [
                            0.7777777777777778,
                            "#fb9f3a"
                          ],
                          [
                            0.8888888888888888,
                            "#fdca26"
                          ],
                          [
                            1,
                            "#f0f921"
                          ]
                        ],
                        "type": "histogram2d"
                      }
                    ],
                    "histogram2dcontour": [
                      {
                        "colorbar": {
                          "outlinewidth": 0,
                          "ticks": ""
                        },
                        "colorscale": [
                          [
                            0,
                            "#0d0887"
                          ],
                          [
                            0.1111111111111111,
                            "#46039f"
                          ],
                          [
                            0.2222222222222222,
                            "#7201a8"
                          ],
                          [
                            0.3333333333333333,
                            "#9c179e"
                          ],
                          [
                            0.4444444444444444,
                            "#bd3786"
                          ],
                          [
                            0.5555555555555556,
                            "#d8576b"
                          ],
                          [
                            0.6666666666666666,
                            "#ed7953"
                          ],
                          [
                            0.7777777777777778,
                            "#fb9f3a"
                          ],
                          [
                            0.8888888888888888,
                            "#fdca26"
                          ],
                          [
                            1,
                            "#f0f921"
                          ]
                        ],
                        "type": "histogram2dcontour"
                      }
                    ],
                    "mesh3d": [
                      {
                        "colorbar": {
                          "outlinewidth": 0,
                          "ticks": ""
                        },
                        "type": "mesh3d"
                      }
                    ],
                    "parcoords": [
                      {
                        "line": {
                          "colorbar": {
                            "outlinewidth": 0,
                            "ticks": ""
                          }
                        },
                        "type": "parcoords"
                      }
                    ],
                    "pie": [
                      {
                        "automargin": true,
                        "type": "pie"
                      }
                    ],
                    "scatter": [
                      {
                        "marker": {
                          "colorbar": {
                            "outlinewidth": 0,
                            "ticks": ""
                          }
                        },
                        "type": "scatter"
                      }
                    ],
                    "scatter3d": [
                      {
                        "line": {
                          "colorbar": {
                            "outlinewidth": 0,
                            "ticks": ""
                          }
                        },
                        "marker": {
                          "colorbar": {
                            "outlinewidth": 0,
                            "ticks": ""
                          }
                        },
                        "type": "scatter3d"
                      }
                    ],
                    "scattercarpet": [
                      {
                        "marker": {
                          "colorbar": {
                            "outlinewidth": 0,
                            "ticks": ""
                          }
                        },
                        "type": "scattercarpet"
                      }
                    ],
                    "scattergeo": [
                      {
                        "marker": {
                          "colorbar": {
                            "outlinewidth": 0,
                            "ticks": ""
                          }
                        },
                        "type": "scattergeo"
                      }
                    ],
                    "scattergl": [
                      {
                        "marker": {
                          "colorbar": {
                            "outlinewidth": 0,
                            "ticks": ""
                          }
                        },
                        "type": "scattergl"
                      }
                    ],
                    "scattermapbox": [
                      {
                        "marker": {
                          "colorbar": {
                            "outlinewidth": 0,
                            "ticks": ""
                          }
                        },
                        "type": "scattermapbox"
                      }
                    ],
                    "scatterpolar": [
                      {
                        "marker": {
                          "colorbar": {
                            "outlinewidth": 0,
                            "ticks": ""
                          }
                        },
                        "type": "scatterpolar"
                      }
                    ],
                    "scatterpolargl": [
                      {
                        "marker": {
                          "colorbar": {
                            "outlinewidth": 0,
                            "ticks": ""
                          }
                        },
                        "type": "scatterpolargl"
                      }
                    ],
                    "scatterternary": [
                      {
                        "marker": {
                          "colorbar": {
                            "outlinewidth": 0,
                            "ticks": ""
                          }
                        },
                        "type": "scatterternary"
                      }
                    ],
                    "surface": [
                      {
                        "colorbar": {
                          "outlinewidth": 0,
                          "ticks": ""
                        },
                        "colorscale": [
                          [
                            0,
                            "#0d0887"
                          ],
                          [
                            0.1111111111111111,
                            "#46039f"
                          ],
                          [
                            0.2222222222222222,
                            "#7201a8"
                          ],
                          [
                            0.3333333333333333,
                            "#9c179e"
                          ],
                          [
                            0.4444444444444444,
                            "#bd3786"
                          ],
                          [
                            0.5555555555555556,
                            "#d8576b"
                          ],
                          [
                            0.6666666666666666,
                            "#ed7953"
                          ],
                          [
                            0.7777777777777778,
                            "#fb9f3a"
                          ],
                          [
                            0.8888888888888888,
                            "#fdca26"
                          ],
                          [
                            1,
                            "#f0f921"
                          ]
                        ],
                        "type": "surface"
                      }
                    ],
                    "table": [
                      {
                        "cells": {
                          "fill": {
                            "color": "#EBF0F8"
                          },
                          "line": {
                            "color": "white"
                          }
                        },
                        "header": {
                          "fill": {
                            "color": "#C8D4E3"
                          },
                          "line": {
                            "color": "white"
                          }
                        },
                        "type": "table"
                      }
                    ]
                  },
                  "layout": {
                    "annotationdefaults": {
                      "arrowcolor": "#2a3f5f",
                      "arrowhead": 0,
                      "arrowwidth": 1
                    },
                    "autotypenumbers": "strict",
                    "coloraxis": {
                      "colorbar": {
                        "outlinewidth": 0,
                        "ticks": ""
                      }
                    },
                    "colorscale": {
                      "diverging": [
                        [
                          0,
                          "#8e0152"
                        ],
                        [
                          0.1,
                          "#c51b7d"
                        ],
                        [
                          0.2,
                          "#de77ae"
                        ],
                        [
                          0.3,
                          "#f1b6da"
                        ],
                        [
                          0.4,
                          "#fde0ef"
                        ],
                        [
                          0.5,
                          "#f7f7f7"
                        ],
                        [
                          0.6,
                          "#e6f5d0"
                        ],
                        [
                          0.7,
                          "#b8e186"
                        ],
                        [
                          0.8,
                          "#7fbc41"
                        ],
                        [
                          0.9,
                          "#4d9221"
                        ],
                        [
                          1,
                          "#276419"
                        ]
                      ],
                      "sequential": [
                        [
                          0,
                          "#0d0887"
                        ],
                        [
                          0.1111111111111111,
                          "#46039f"
                        ],
                        [
                          0.2222222222222222,
                          "#7201a8"
                        ],
                        [
                          0.3333333333333333,
                          "#9c179e"
                        ],
                        [
                          0.4444444444444444,
                          "#bd3786"
                        ],
                        [
                          0.5555555555555556,
                          "#d8576b"
                        ],
                        [
                          0.6666666666666666,
                          "#ed7953"
                        ],
                        [
                          0.7777777777777778,
                          "#fb9f3a"
                        ],
                        [
                          0.8888888888888888,
                          "#fdca26"
                        ],
                        [
                          1,
                          "#f0f921"
                        ]
                      ],
                      "sequentialminus": [
                        [
                          0,
                          "#0d0887"
                        ],
                        [
                          0.1111111111111111,
                          "#46039f"
                        ],
                        [
                          0.2222222222222222,
                          "#7201a8"
                        ],
                        [
                          0.3333333333333333,
                          "#9c179e"
                        ],
                        [
                          0.4444444444444444,
                          "#bd3786"
                        ],
                        [
                          0.5555555555555556,
                          "#d8576b"
                        ],
                        [
                          0.6666666666666666,
                          "#ed7953"
                        ],
                        [
                          0.7777777777777778,
                          "#fb9f3a"
                        ],
                        [
                          0.8888888888888888,
                          "#fdca26"
                        ],
                        [
                          1,
                          "#f0f921"
                        ]
                      ]
                    },
                    "colorway": [
                      "#636efa",
                      "#EF553B",
                      "#00cc96",
                      "#ab63fa",
                      "#FFA15A",
                      "#19d3f3",
                      "#FF6692",
                      "#B6E880",
                      "#FF97FF",
                      "#FECB52"
                    ],
                    "font": {
                      "color": "#2a3f5f"
                    },
                    "geo": {
                      "bgcolor": "white",
                      "lakecolor": "white",
                      "landcolor": "#E5ECF6",
                      "showlakes": true,
                      "showland": true,
                      "subunitcolor": "white"
                    },
                    "hoverlabel": {
                      "align": "left"
                    },
                    "hovermode": "closest",
                    "mapbox": {
                      "style": "light"
                    },
                    "paper_bgcolor": "white",
                    "plot_bgcolor": "#E5ECF6",
                    "polar": {
                      "angularaxis": {
                        "gridcolor": "white",
                        "linecolor": "white",
                        "ticks": ""
                      },
                      "bgcolor": "#E5ECF6",
                      "radialaxis": {
                        "gridcolor": "white",
                        "linecolor": "white",
                        "ticks": ""
                      }
                    },
                    "scene": {
                      "xaxis": {
                        "backgroundcolor": "#E5ECF6",
                        "gridcolor": "white",
                        "gridwidth": 2,
                        "linecolor": "white",
                        "showbackground": true,
                        "ticks": "",
                        "zerolinecolor": "white"
                      },
                      "yaxis": {
                        "backgroundcolor": "#E5ECF6",
                        "gridcolor": "white",
                        "gridwidth": 2,
                        "linecolor": "white",
                        "showbackground": true,
                        "ticks": "",
                        "zerolinecolor": "white"
                      },
                      "zaxis": {
                        "backgroundcolor": "#E5ECF6",
                        "gridcolor": "white",
                        "gridwidth": 2,
                        "linecolor": "white",
                        "showbackground": true,
                        "ticks": "",
                        "zerolinecolor": "white"
                      }
                    },
                    "shapedefaults": {
                      "line": {
                        "color": "#2a3f5f"
                      }
                    },
                    "ternary": {
                      "aaxis": {
                        "gridcolor": "white",
                        "linecolor": "white",
                        "ticks": ""
                      },
                      "baxis": {
                        "gridcolor": "white",
                        "linecolor": "white",
                        "ticks": ""
                      },
                      "bgcolor": "#E5ECF6",
                      "caxis": {
                        "gridcolor": "white",
                        "linecolor": "white",
                        "ticks": ""
                      }
                    },
                    "title": {
                      "x": 0.05
                    },
                    "xaxis": {
                      "automargin": true,
                      "gridcolor": "white",
                      "linecolor": "white",
                      "ticks": "",
                      "title": {
                        "standoff": 15
                      },
                      "zerolinecolor": "white",
                      "zerolinewidth": 2
                    },
                    "yaxis": {
                      "automargin": true,
                      "gridcolor": "white",
                      "linecolor": "white",
                      "ticks": "",
                      "title": {
                        "standoff": 15
                      },
                      "zerolinecolor": "white",
                      "zerolinewidth": 2
                    }
                  }
                },
                "xaxis": {
                  "anchor": "y",
                  "domain": [
                    0,
                    1
                  ],
                  "title": {
                    "text": "Decade"
                  }
                },
                "yaxis": {
                  "anchor": "x",
                  "domain": [
                    0,
                    1
                  ],
                  "title": {
                    "text": "value"
                  }
                },
                "legend": {
                  "title": {
                    "text": "variable"
                  },
                  "tracegroupgap": 0
                },
                "title": {
                  "text": "Song Characteristics Over the Decades"
                }
              },
              "config": {
                "plotlyServerURL": "https://plot.ly"
              }
            },
            "text/html": [
              "<div>                            <div id=\"edeab484-82e4-40a6-b8bd-e771be867b01\" class=\"plotly-graph-div\" style=\"height:525px; width:100%;\"></div>            <script type=\"text/javascript\">                require([\"plotly\"], function(Plotly) {                    window.PLOTLYENV=window.PLOTLYENV || {};                                    if (document.getElementById(\"edeab484-82e4-40a6-b8bd-e771be867b01\")) {                    Plotly.newPlot(                        \"edeab484-82e4-40a6-b8bd-e771be867b01\",                        [{\"hovertemplate\":\"variable=danceability<br>Decade=%{x}<br>value=%{y}<extra></extra>\",\"legendgroup\":\"danceability\",\"line\":{\"color\":\"#636efa\",\"dash\":\"solid\"},\"marker\":{\"symbol\":\"circle\"},\"mode\":\"lines\",\"name\":\"danceability\",\"orientation\":\"v\",\"showlegend\":true,\"x\":[1940.0,1950.0,1960.0,1970.0,1980.0,1990.0,2000.0,2010.0,2020.0],\"xaxis\":\"x\",\"y\":[0.1629999980330467,0.5979999899864197,0.7537590349654117,0.697534591053267,0.6359236571489528,0.537390311930509,0.539000993869445,0.5130987081372617,0.4849220512284239],\"yaxis\":\"y\",\"type\":\"scatter\"},{\"hovertemplate\":\"variable=energy<br>Decade=%{x}<br>value=%{y}<extra></extra>\",\"legendgroup\":\"energy\",\"line\":{\"color\":\"#EF553B\",\"dash\":\"solid\"},\"marker\":{\"symbol\":\"circle\"},\"mode\":\"lines\",\"name\":\"energy\",\"orientation\":\"v\",\"showlegend\":true,\"x\":[1940.0,1950.0,1960.0,1970.0,1980.0,1990.0,2000.0,2010.0,2020.0],\"xaxis\":\"x\",\"y\":[0.1736000031232834,0.21800000220537186,0.41893614038645505,0.5298553480292266,0.5950580907065839,0.5826988602720434,0.6812751246013896,0.6238844894202186,0.6452382285808702],\"yaxis\":\"y\",\"type\":\"scatter\"},{\"hovertemplate\":\"variable=instrumentalness<br>Decade=%{x}<br>value=%{y}<extra></extra>\",\"legendgroup\":\"instrumentalness\",\"line\":{\"color\":\"#00cc96\",\"dash\":\"solid\"},\"marker\":{\"symbol\":\"circle\"},\"mode\":\"lines\",\"name\":\"instrumentalness\",\"orientation\":\"v\",\"showlegend\":true,\"x\":[1940.0,1950.0,1960.0,1970.0,1980.0,1990.0,2000.0,2010.0,2020.0],\"xaxis\":\"x\",\"y\":[0.03881999924778938,0.07155000232160091,0.04969277122921972,0.04645283010630113,0.05733900418296395,0.048801709470628334,0.06966650070217908,0.06415972799113413,0.130676016416699],\"yaxis\":\"y\",\"type\":\"scatter\"},{\"hovertemplate\":\"variable=valence<br>Decade=%{x}<br>value=%{y}<extra></extra>\",\"legendgroup\":\"valence\",\"line\":{\"color\":\"#ab63fa\",\"dash\":\"solid\"},\"marker\":{\"symbol\":\"circle\"},\"mode\":\"lines\",\"name\":\"valence\",\"orientation\":\"v\",\"showlegend\":true,\"x\":[1940.0,1950.0,1960.0,1970.0,1980.0,1990.0,2000.0,2010.0,2020.0],\"xaxis\":\"x\",\"y\":[0.29119999408721925,0.21000000834465027,0.1885578289897327,0.16832893156686668,0.20374647297614343,0.19768461703914522,0.2053907139853854,0.18051999987540196,0.17398031193620872],\"yaxis\":\"y\",\"type\":\"scatter\"},{\"hovertemplate\":\"variable=liveliness<br>Decade=%{x}<br>value=%{y}<extra></extra>\",\"legendgroup\":\"liveliness\",\"line\":{\"color\":\"#FFA15A\",\"dash\":\"solid\"},\"marker\":{\"symbol\":\"circle\"},\"mode\":\"lines\",\"name\":\"liveliness\",\"orientation\":\"v\",\"showlegend\":true,\"x\":[1940.0,1950.0,1960.0,1970.0,1980.0,1990.0,2000.0,2010.0,2020.0],\"xaxis\":\"x\",\"y\":[0.22040000259876252,0.48649999499320984,0.5439759006342256,0.589415097105428,0.6225767654378385,0.5335205124526622,0.5884577104355367,0.5791789119340935,0.6764057283601621],\"yaxis\":\"y\",\"type\":\"scatter\"},{\"hovertemplate\":\"variable=speechiness<br>Decade=%{x}<br>value=%{y}<extra></extra>\",\"legendgroup\":\"speechiness\",\"line\":{\"color\":\"#19d3f3\",\"dash\":\"solid\"},\"marker\":{\"symbol\":\"circle\"},\"mode\":\"lines\",\"name\":\"speechiness\",\"orientation\":\"v\",\"showlegend\":true,\"x\":[1940.0,1950.0,1960.0,1970.0,1980.0,1990.0,2000.0,2010.0,2020.0],\"xaxis\":\"x\",\"y\":[0.14394799405708908,0.0,0.00216362252679694,0.01362927766216723,0.01978714433706553,0.021211037666858164,0.027638037435053775,0.0206638213099155,0.014750475389264864],\"yaxis\":\"y\",\"type\":\"scatter\"},{\"hovertemplate\":\"variable=acoustics<br>Decade=%{x}<br>value=%{y}<extra></extra>\",\"legendgroup\":\"acoustics\",\"line\":{\"color\":\"#FF6692\",\"dash\":\"solid\"},\"marker\":{\"symbol\":\"circle\"},\"mode\":\"lines\",\"name\":\"acoustics\",\"orientation\":\"v\",\"showlegend\":true,\"x\":[1940.0,1950.0,1960.0,1970.0,1980.0,1990.0,2000.0,2010.0,2020.0],\"xaxis\":\"x\",\"y\":[0.851200008392334,0.7080000042915344,0.7397108443350677,0.3680238982416549,0.264182923550532,0.30420478979895027,0.24508908558260498,0.3195929980540511,0.23423167943171533],\"yaxis\":\"y\",\"type\":\"scatter\"}],                        {\"template\":{\"data\":{\"bar\":[{\"error_x\":{\"color\":\"#2a3f5f\"},\"error_y\":{\"color\":\"#2a3f5f\"},\"marker\":{\"line\":{\"color\":\"#E5ECF6\",\"width\":0.5},\"pattern\":{\"fillmode\":\"overlay\",\"size\":10,\"solidity\":0.2}},\"type\":\"bar\"}],\"barpolar\":[{\"marker\":{\"line\":{\"color\":\"#E5ECF6\",\"width\":0.5},\"pattern\":{\"fillmode\":\"overlay\",\"size\":10,\"solidity\":0.2}},\"type\":\"barpolar\"}],\"carpet\":[{\"aaxis\":{\"endlinecolor\":\"#2a3f5f\",\"gridcolor\":\"white\",\"linecolor\":\"white\",\"minorgridcolor\":\"white\",\"startlinecolor\":\"#2a3f5f\"},\"baxis\":{\"endlinecolor\":\"#2a3f5f\",\"gridcolor\":\"white\",\"linecolor\":\"white\",\"minorgridcolor\":\"white\",\"startlinecolor\":\"#2a3f5f\"},\"type\":\"carpet\"}],\"choropleth\":[{\"colorbar\":{\"outlinewidth\":0,\"ticks\":\"\"},\"type\":\"choropleth\"}],\"contour\":[{\"colorbar\":{\"outlinewidth\":0,\"ticks\":\"\"},\"colorscale\":[[0.0,\"#0d0887\"],[0.1111111111111111,\"#46039f\"],[0.2222222222222222,\"#7201a8\"],[0.3333333333333333,\"#9c179e\"],[0.4444444444444444,\"#bd3786\"],[0.5555555555555556,\"#d8576b\"],[0.6666666666666666,\"#ed7953\"],[0.7777777777777778,\"#fb9f3a\"],[0.8888888888888888,\"#fdca26\"],[1.0,\"#f0f921\"]],\"type\":\"contour\"}],\"contourcarpet\":[{\"colorbar\":{\"outlinewidth\":0,\"ticks\":\"\"},\"type\":\"contourcarpet\"}],\"heatmap\":[{\"colorbar\":{\"outlinewidth\":0,\"ticks\":\"\"},\"colorscale\":[[0.0,\"#0d0887\"],[0.1111111111111111,\"#46039f\"],[0.2222222222222222,\"#7201a8\"],[0.3333333333333333,\"#9c179e\"],[0.4444444444444444,\"#bd3786\"],[0.5555555555555556,\"#d8576b\"],[0.6666666666666666,\"#ed7953\"],[0.7777777777777778,\"#fb9f3a\"],[0.8888888888888888,\"#fdca26\"],[1.0,\"#f0f921\"]],\"type\":\"heatmap\"}],\"heatmapgl\":[{\"colorbar\":{\"outlinewidth\":0,\"ticks\":\"\"},\"colorscale\":[[0.0,\"#0d0887\"],[0.1111111111111111,\"#46039f\"],[0.2222222222222222,\"#7201a8\"],[0.3333333333333333,\"#9c179e\"],[0.4444444444444444,\"#bd3786\"],[0.5555555555555556,\"#d8576b\"],[0.6666666666666666,\"#ed7953\"],[0.7777777777777778,\"#fb9f3a\"],[0.8888888888888888,\"#fdca26\"],[1.0,\"#f0f921\"]],\"type\":\"heatmapgl\"}],\"histogram\":[{\"marker\":{\"pattern\":{\"fillmode\":\"overlay\",\"size\":10,\"solidity\":0.2}},\"type\":\"histogram\"}],\"histogram2d\":[{\"colorbar\":{\"outlinewidth\":0,\"ticks\":\"\"},\"colorscale\":[[0.0,\"#0d0887\"],[0.1111111111111111,\"#46039f\"],[0.2222222222222222,\"#7201a8\"],[0.3333333333333333,\"#9c179e\"],[0.4444444444444444,\"#bd3786\"],[0.5555555555555556,\"#d8576b\"],[0.6666666666666666,\"#ed7953\"],[0.7777777777777778,\"#fb9f3a\"],[0.8888888888888888,\"#fdca26\"],[1.0,\"#f0f921\"]],\"type\":\"histogram2d\"}],\"histogram2dcontour\":[{\"colorbar\":{\"outlinewidth\":0,\"ticks\":\"\"},\"colorscale\":[[0.0,\"#0d0887\"],[0.1111111111111111,\"#46039f\"],[0.2222222222222222,\"#7201a8\"],[0.3333333333333333,\"#9c179e\"],[0.4444444444444444,\"#bd3786\"],[0.5555555555555556,\"#d8576b\"],[0.6666666666666666,\"#ed7953\"],[0.7777777777777778,\"#fb9f3a\"],[0.8888888888888888,\"#fdca26\"],[1.0,\"#f0f921\"]],\"type\":\"histogram2dcontour\"}],\"mesh3d\":[{\"colorbar\":{\"outlinewidth\":0,\"ticks\":\"\"},\"type\":\"mesh3d\"}],\"parcoords\":[{\"line\":{\"colorbar\":{\"outlinewidth\":0,\"ticks\":\"\"}},\"type\":\"parcoords\"}],\"pie\":[{\"automargin\":true,\"type\":\"pie\"}],\"scatter\":[{\"marker\":{\"colorbar\":{\"outlinewidth\":0,\"ticks\":\"\"}},\"type\":\"scatter\"}],\"scatter3d\":[{\"line\":{\"colorbar\":{\"outlinewidth\":0,\"ticks\":\"\"}},\"marker\":{\"colorbar\":{\"outlinewidth\":0,\"ticks\":\"\"}},\"type\":\"scatter3d\"}],\"scattercarpet\":[{\"marker\":{\"colorbar\":{\"outlinewidth\":0,\"ticks\":\"\"}},\"type\":\"scattercarpet\"}],\"scattergeo\":[{\"marker\":{\"colorbar\":{\"outlinewidth\":0,\"ticks\":\"\"}},\"type\":\"scattergeo\"}],\"scattergl\":[{\"marker\":{\"colorbar\":{\"outlinewidth\":0,\"ticks\":\"\"}},\"type\":\"scattergl\"}],\"scattermapbox\":[{\"marker\":{\"colorbar\":{\"outlinewidth\":0,\"ticks\":\"\"}},\"type\":\"scattermapbox\"}],\"scatterpolar\":[{\"marker\":{\"colorbar\":{\"outlinewidth\":0,\"ticks\":\"\"}},\"type\":\"scatterpolar\"}],\"scatterpolargl\":[{\"marker\":{\"colorbar\":{\"outlinewidth\":0,\"ticks\":\"\"}},\"type\":\"scatterpolargl\"}],\"scatterternary\":[{\"marker\":{\"colorbar\":{\"outlinewidth\":0,\"ticks\":\"\"}},\"type\":\"scatterternary\"}],\"surface\":[{\"colorbar\":{\"outlinewidth\":0,\"ticks\":\"\"},\"colorscale\":[[0.0,\"#0d0887\"],[0.1111111111111111,\"#46039f\"],[0.2222222222222222,\"#7201a8\"],[0.3333333333333333,\"#9c179e\"],[0.4444444444444444,\"#bd3786\"],[0.5555555555555556,\"#d8576b\"],[0.6666666666666666,\"#ed7953\"],[0.7777777777777778,\"#fb9f3a\"],[0.8888888888888888,\"#fdca26\"],[1.0,\"#f0f921\"]],\"type\":\"surface\"}],\"table\":[{\"cells\":{\"fill\":{\"color\":\"#EBF0F8\"},\"line\":{\"color\":\"white\"}},\"header\":{\"fill\":{\"color\":\"#C8D4E3\"},\"line\":{\"color\":\"white\"}},\"type\":\"table\"}]},\"layout\":{\"annotationdefaults\":{\"arrowcolor\":\"#2a3f5f\",\"arrowhead\":0,\"arrowwidth\":1},\"autotypenumbers\":\"strict\",\"coloraxis\":{\"colorbar\":{\"outlinewidth\":0,\"ticks\":\"\"}},\"colorscale\":{\"diverging\":[[0,\"#8e0152\"],[0.1,\"#c51b7d\"],[0.2,\"#de77ae\"],[0.3,\"#f1b6da\"],[0.4,\"#fde0ef\"],[0.5,\"#f7f7f7\"],[0.6,\"#e6f5d0\"],[0.7,\"#b8e186\"],[0.8,\"#7fbc41\"],[0.9,\"#4d9221\"],[1,\"#276419\"]],\"sequential\":[[0.0,\"#0d0887\"],[0.1111111111111111,\"#46039f\"],[0.2222222222222222,\"#7201a8\"],[0.3333333333333333,\"#9c179e\"],[0.4444444444444444,\"#bd3786\"],[0.5555555555555556,\"#d8576b\"],[0.6666666666666666,\"#ed7953\"],[0.7777777777777778,\"#fb9f3a\"],[0.8888888888888888,\"#fdca26\"],[1.0,\"#f0f921\"]],\"sequentialminus\":[[0.0,\"#0d0887\"],[0.1111111111111111,\"#46039f\"],[0.2222222222222222,\"#7201a8\"],[0.3333333333333333,\"#9c179e\"],[0.4444444444444444,\"#bd3786\"],[0.5555555555555556,\"#d8576b\"],[0.6666666666666666,\"#ed7953\"],[0.7777777777777778,\"#fb9f3a\"],[0.8888888888888888,\"#fdca26\"],[1.0,\"#f0f921\"]]},\"colorway\":[\"#636efa\",\"#EF553B\",\"#00cc96\",\"#ab63fa\",\"#FFA15A\",\"#19d3f3\",\"#FF6692\",\"#B6E880\",\"#FF97FF\",\"#FECB52\"],\"font\":{\"color\":\"#2a3f5f\"},\"geo\":{\"bgcolor\":\"white\",\"lakecolor\":\"white\",\"landcolor\":\"#E5ECF6\",\"showlakes\":true,\"showland\":true,\"subunitcolor\":\"white\"},\"hoverlabel\":{\"align\":\"left\"},\"hovermode\":\"closest\",\"mapbox\":{\"style\":\"light\"},\"paper_bgcolor\":\"white\",\"plot_bgcolor\":\"#E5ECF6\",\"polar\":{\"angularaxis\":{\"gridcolor\":\"white\",\"linecolor\":\"white\",\"ticks\":\"\"},\"bgcolor\":\"#E5ECF6\",\"radialaxis\":{\"gridcolor\":\"white\",\"linecolor\":\"white\",\"ticks\":\"\"}},\"scene\":{\"xaxis\":{\"backgroundcolor\":\"#E5ECF6\",\"gridcolor\":\"white\",\"gridwidth\":2,\"linecolor\":\"white\",\"showbackground\":true,\"ticks\":\"\",\"zerolinecolor\":\"white\"},\"yaxis\":{\"backgroundcolor\":\"#E5ECF6\",\"gridcolor\":\"white\",\"gridwidth\":2,\"linecolor\":\"white\",\"showbackground\":true,\"ticks\":\"\",\"zerolinecolor\":\"white\"},\"zaxis\":{\"backgroundcolor\":\"#E5ECF6\",\"gridcolor\":\"white\",\"gridwidth\":2,\"linecolor\":\"white\",\"showbackground\":true,\"ticks\":\"\",\"zerolinecolor\":\"white\"}},\"shapedefaults\":{\"line\":{\"color\":\"#2a3f5f\"}},\"ternary\":{\"aaxis\":{\"gridcolor\":\"white\",\"linecolor\":\"white\",\"ticks\":\"\"},\"baxis\":{\"gridcolor\":\"white\",\"linecolor\":\"white\",\"ticks\":\"\"},\"bgcolor\":\"#E5ECF6\",\"caxis\":{\"gridcolor\":\"white\",\"linecolor\":\"white\",\"ticks\":\"\"}},\"title\":{\"x\":0.05},\"xaxis\":{\"automargin\":true,\"gridcolor\":\"white\",\"linecolor\":\"white\",\"ticks\":\"\",\"title\":{\"standoff\":15},\"zerolinecolor\":\"white\",\"zerolinewidth\":2},\"yaxis\":{\"automargin\":true,\"gridcolor\":\"white\",\"linecolor\":\"white\",\"ticks\":\"\",\"title\":{\"standoff\":15},\"zerolinecolor\":\"white\",\"zerolinewidth\":2}}},\"xaxis\":{\"anchor\":\"y\",\"domain\":[0.0,1.0],\"title\":{\"text\":\"Decade\"}},\"yaxis\":{\"anchor\":\"x\",\"domain\":[0.0,1.0],\"title\":{\"text\":\"value\"}},\"legend\":{\"title\":{\"text\":\"variable\"},\"tracegroupgap\":0},\"title\":{\"text\":\"Song Characteristics Over the Decades\"}},                        {\"responsive\": true}                    ).then(function(){\n",
              "                            \n",
              "var gd = document.getElementById('edeab484-82e4-40a6-b8bd-e771be867b01');\n",
              "var x = new MutationObserver(function (mutations, observer) {{\n",
              "        var display = window.getComputedStyle(gd).display;\n",
              "        if (!display || display === 'none') {{\n",
              "            console.log([gd, 'removed!']);\n",
              "            Plotly.purge(gd);\n",
              "            observer.disconnect();\n",
              "        }}\n",
              "}});\n",
              "\n",
              "// Listen for the removal of the full notebook cells\n",
              "var notebookContainer = gd.closest('#notebook-container');\n",
              "if (notebookContainer) {{\n",
              "    x.observe(notebookContainer, {childList: true});\n",
              "}}\n",
              "\n",
              "// Listen for the clearing of the current output cell\n",
              "var outputEl = gd.closest('.output');\n",
              "if (outputEl) {{\n",
              "    x.observe(outputEl, {childList: true});\n",
              "}}\n",
              "\n",
              "                        })                };                });            </script>        </div>"
            ]
          },
          "metadata": {}
        }
      ]
    },
    {
      "cell_type": "code",
      "source": [
        "# same as above but with seaborn. (sometimes plotly doesn't show up in the published notebok)\n",
        "sns.lineplot(data=pd.melt(df_music_features, ['Decade']), x='Decade', y='value', hue='variable').set_title('Song Characteristics Over the Decades');"
      ],
      "metadata": {
        "colab": {
          "base_uri": "https://localhost:8080/",
          "height": 391
        },
        "id": "ftBkQ7kmpGMw",
        "outputId": "d1507355-e8e3-429b-e465-b60080900473"
      },
      "execution_count": null,
      "outputs": [
        {
          "output_type": "display_data",
          "data": {
            "text/plain": [
              "<Figure size 432x288 with 1 Axes>"
            ],
            "image/svg+xml": "<?xml version=\"1.0\" encoding=\"utf-8\" standalone=\"no\"?>\n<!DOCTYPE svg PUBLIC \"-//W3C//DTD SVG 1.1//EN\"\n  \"http://www.w3.org/Graphics/SVG/1.1/DTD/svg11.dtd\">\n<!-- Created with matplotlib (https://matplotlib.org/) -->\n<svg height=\"277.314375pt\" version=\"1.1\" viewBox=\"0 0 385.78125 277.314375\" width=\"385.78125pt\" xmlns=\"http://www.w3.org/2000/svg\" xmlns:xlink=\"http://www.w3.org/1999/xlink\">\n <defs>\n  <style type=\"text/css\">\n*{stroke-linecap:butt;stroke-linejoin:round;}\n  </style>\n </defs>\n <g id=\"figure_1\">\n  <g id=\"patch_1\">\n   <path d=\"M 0 277.314375 \nL 385.78125 277.314375 \nL 385.78125 0 \nL 0 0 \nz\n\" style=\"fill:#ffffff;\"/>\n  </g>\n  <g id=\"axes_1\">\n   <g id=\"patch_2\">\n    <path d=\"M 43.78125 239.758125 \nL 378.58125 239.758125 \nL 378.58125 22.318125 \nL 43.78125 22.318125 \nz\n\" style=\"fill:#eaeaf2;\"/>\n   </g>\n   <g id=\"matplotlib.axis_1\">\n    <g id=\"xtick_1\">\n     <g id=\"line2d_1\">\n      <path clip-path=\"url(#p67d165eddc)\" d=\"M 58.999432 239.758125 \nL 58.999432 22.318125 \n\" style=\"fill:none;stroke:#ffffff;stroke-linecap:round;stroke-width:0.8;\"/>\n     </g>\n     <g id=\"text_1\">\n      <!-- 1940 -->\n      <defs>\n       <path d=\"M 12.40625 8.296875 \nL 28.515625 8.296875 \nL 28.515625 63.921875 \nL 10.984375 60.40625 \nL 10.984375 69.390625 \nL 28.421875 72.90625 \nL 38.28125 72.90625 \nL 38.28125 8.296875 \nL 54.390625 8.296875 \nL 54.390625 0 \nL 12.40625 0 \nz\n\" id=\"DejaVuSans-49\"/>\n       <path d=\"M 10.984375 1.515625 \nL 10.984375 10.5 \nQ 14.703125 8.734375 18.5 7.8125 \nQ 22.3125 6.890625 25.984375 6.890625 \nQ 35.75 6.890625 40.890625 13.453125 \nQ 46.046875 20.015625 46.78125 33.40625 \nQ 43.953125 29.203125 39.59375 26.953125 \nQ 35.25 24.703125 29.984375 24.703125 \nQ 19.046875 24.703125 12.671875 31.3125 \nQ 6.296875 37.9375 6.296875 49.421875 \nQ 6.296875 60.640625 12.9375 67.421875 \nQ 19.578125 74.21875 30.609375 74.21875 \nQ 43.265625 74.21875 49.921875 64.515625 \nQ 56.59375 54.828125 56.59375 36.375 \nQ 56.59375 19.140625 48.40625 8.859375 \nQ 40.234375 -1.421875 26.421875 -1.421875 \nQ 22.703125 -1.421875 18.890625 -0.6875 \nQ 15.09375 0.046875 10.984375 1.515625 \nz\nM 30.609375 32.421875 \nQ 37.25 32.421875 41.125 36.953125 \nQ 45.015625 41.5 45.015625 49.421875 \nQ 45.015625 57.28125 41.125 61.84375 \nQ 37.25 66.40625 30.609375 66.40625 \nQ 23.96875 66.40625 20.09375 61.84375 \nQ 16.21875 57.28125 16.21875 49.421875 \nQ 16.21875 41.5 20.09375 36.953125 \nQ 23.96875 32.421875 30.609375 32.421875 \nz\n\" id=\"DejaVuSans-57\"/>\n       <path d=\"M 37.796875 64.3125 \nL 12.890625 25.390625 \nL 37.796875 25.390625 \nz\nM 35.203125 72.90625 \nL 47.609375 72.90625 \nL 47.609375 25.390625 \nL 58.015625 25.390625 \nL 58.015625 17.1875 \nL 47.609375 17.1875 \nL 47.609375 0 \nL 37.796875 0 \nL 37.796875 17.1875 \nL 4.890625 17.1875 \nL 4.890625 26.703125 \nz\n\" id=\"DejaVuSans-52\"/>\n       <path d=\"M 31.78125 66.40625 \nQ 24.171875 66.40625 20.328125 58.90625 \nQ 16.5 51.421875 16.5 36.375 \nQ 16.5 21.390625 20.328125 13.890625 \nQ 24.171875 6.390625 31.78125 6.390625 \nQ 39.453125 6.390625 43.28125 13.890625 \nQ 47.125 21.390625 47.125 36.375 \nQ 47.125 51.421875 43.28125 58.90625 \nQ 39.453125 66.40625 31.78125 66.40625 \nz\nM 31.78125 74.21875 \nQ 44.046875 74.21875 50.515625 64.515625 \nQ 56.984375 54.828125 56.984375 36.375 \nQ 56.984375 17.96875 50.515625 8.265625 \nQ 44.046875 -1.421875 31.78125 -1.421875 \nQ 19.53125 -1.421875 13.0625 8.265625 \nQ 6.59375 17.96875 6.59375 36.375 \nQ 6.59375 54.828125 13.0625 64.515625 \nQ 19.53125 74.21875 31.78125 74.21875 \nz\n\" id=\"DejaVuSans-48\"/>\n      </defs>\n      <g style=\"fill:#262626;\" transform=\"translate(46.274432 254.356562)scale(0.1 -0.1)\">\n       <use xlink:href=\"#DejaVuSans-49\"/>\n       <use x=\"63.623047\" xlink:href=\"#DejaVuSans-57\"/>\n       <use x=\"127.246094\" xlink:href=\"#DejaVuSans-52\"/>\n       <use x=\"190.869141\" xlink:href=\"#DejaVuSans-48\"/>\n      </g>\n     </g>\n    </g>\n    <g id=\"xtick_2\">\n     <g id=\"line2d_2\">\n      <path clip-path=\"url(#p67d165eddc)\" d=\"M 97.044886 239.758125 \nL 97.044886 22.318125 \n\" style=\"fill:none;stroke:#ffffff;stroke-linecap:round;stroke-width:0.8;\"/>\n     </g>\n     <g id=\"text_2\">\n      <!-- 1950 -->\n      <defs>\n       <path d=\"M 10.796875 72.90625 \nL 49.515625 72.90625 \nL 49.515625 64.59375 \nL 19.828125 64.59375 \nL 19.828125 46.734375 \nQ 21.96875 47.46875 24.109375 47.828125 \nQ 26.265625 48.1875 28.421875 48.1875 \nQ 40.625 48.1875 47.75 41.5 \nQ 54.890625 34.8125 54.890625 23.390625 \nQ 54.890625 11.625 47.5625 5.09375 \nQ 40.234375 -1.421875 26.90625 -1.421875 \nQ 22.3125 -1.421875 17.546875 -0.640625 \nQ 12.796875 0.140625 7.71875 1.703125 \nL 7.71875 11.625 \nQ 12.109375 9.234375 16.796875 8.0625 \nQ 21.484375 6.890625 26.703125 6.890625 \nQ 35.15625 6.890625 40.078125 11.328125 \nQ 45.015625 15.765625 45.015625 23.390625 \nQ 45.015625 31 40.078125 35.4375 \nQ 35.15625 39.890625 26.703125 39.890625 \nQ 22.75 39.890625 18.8125 39.015625 \nQ 14.890625 38.140625 10.796875 36.28125 \nz\n\" id=\"DejaVuSans-53\"/>\n      </defs>\n      <g style=\"fill:#262626;\" transform=\"translate(84.319886 254.356562)scale(0.1 -0.1)\">\n       <use xlink:href=\"#DejaVuSans-49\"/>\n       <use x=\"63.623047\" xlink:href=\"#DejaVuSans-57\"/>\n       <use x=\"127.246094\" xlink:href=\"#DejaVuSans-53\"/>\n       <use x=\"190.869141\" xlink:href=\"#DejaVuSans-48\"/>\n      </g>\n     </g>\n    </g>\n    <g id=\"xtick_3\">\n     <g id=\"line2d_3\">\n      <path clip-path=\"url(#p67d165eddc)\" d=\"M 135.090341 239.758125 \nL 135.090341 22.318125 \n\" style=\"fill:none;stroke:#ffffff;stroke-linecap:round;stroke-width:0.8;\"/>\n     </g>\n     <g id=\"text_3\">\n      <!-- 1960 -->\n      <defs>\n       <path d=\"M 33.015625 40.375 \nQ 26.375 40.375 22.484375 35.828125 \nQ 18.609375 31.296875 18.609375 23.390625 \nQ 18.609375 15.53125 22.484375 10.953125 \nQ 26.375 6.390625 33.015625 6.390625 \nQ 39.65625 6.390625 43.53125 10.953125 \nQ 47.40625 15.53125 47.40625 23.390625 \nQ 47.40625 31.296875 43.53125 35.828125 \nQ 39.65625 40.375 33.015625 40.375 \nz\nM 52.59375 71.296875 \nL 52.59375 62.3125 \nQ 48.875 64.0625 45.09375 64.984375 \nQ 41.3125 65.921875 37.59375 65.921875 \nQ 27.828125 65.921875 22.671875 59.328125 \nQ 17.53125 52.734375 16.796875 39.40625 \nQ 19.671875 43.65625 24.015625 45.921875 \nQ 28.375 48.1875 33.59375 48.1875 \nQ 44.578125 48.1875 50.953125 41.515625 \nQ 57.328125 34.859375 57.328125 23.390625 \nQ 57.328125 12.15625 50.6875 5.359375 \nQ 44.046875 -1.421875 33.015625 -1.421875 \nQ 20.359375 -1.421875 13.671875 8.265625 \nQ 6.984375 17.96875 6.984375 36.375 \nQ 6.984375 53.65625 15.1875 63.9375 \nQ 23.390625 74.21875 37.203125 74.21875 \nQ 40.921875 74.21875 44.703125 73.484375 \nQ 48.484375 72.75 52.59375 71.296875 \nz\n\" id=\"DejaVuSans-54\"/>\n      </defs>\n      <g style=\"fill:#262626;\" transform=\"translate(122.365341 254.356562)scale(0.1 -0.1)\">\n       <use xlink:href=\"#DejaVuSans-49\"/>\n       <use x=\"63.623047\" xlink:href=\"#DejaVuSans-57\"/>\n       <use x=\"127.246094\" xlink:href=\"#DejaVuSans-54\"/>\n       <use x=\"190.869141\" xlink:href=\"#DejaVuSans-48\"/>\n      </g>\n     </g>\n    </g>\n    <g id=\"xtick_4\">\n     <g id=\"line2d_4\">\n      <path clip-path=\"url(#p67d165eddc)\" d=\"M 173.135795 239.758125 \nL 173.135795 22.318125 \n\" style=\"fill:none;stroke:#ffffff;stroke-linecap:round;stroke-width:0.8;\"/>\n     </g>\n     <g id=\"text_4\">\n      <!-- 1970 -->\n      <defs>\n       <path d=\"M 8.203125 72.90625 \nL 55.078125 72.90625 \nL 55.078125 68.703125 \nL 28.609375 0 \nL 18.3125 0 \nL 43.21875 64.59375 \nL 8.203125 64.59375 \nz\n\" id=\"DejaVuSans-55\"/>\n      </defs>\n      <g style=\"fill:#262626;\" transform=\"translate(160.410795 254.356562)scale(0.1 -0.1)\">\n       <use xlink:href=\"#DejaVuSans-49\"/>\n       <use x=\"63.623047\" xlink:href=\"#DejaVuSans-57\"/>\n       <use x=\"127.246094\" xlink:href=\"#DejaVuSans-55\"/>\n       <use x=\"190.869141\" xlink:href=\"#DejaVuSans-48\"/>\n      </g>\n     </g>\n    </g>\n    <g id=\"xtick_5\">\n     <g id=\"line2d_5\">\n      <path clip-path=\"url(#p67d165eddc)\" d=\"M 211.18125 239.758125 \nL 211.18125 22.318125 \n\" style=\"fill:none;stroke:#ffffff;stroke-linecap:round;stroke-width:0.8;\"/>\n     </g>\n     <g id=\"text_5\">\n      <!-- 1980 -->\n      <defs>\n       <path d=\"M 31.78125 34.625 \nQ 24.75 34.625 20.71875 30.859375 \nQ 16.703125 27.09375 16.703125 20.515625 \nQ 16.703125 13.921875 20.71875 10.15625 \nQ 24.75 6.390625 31.78125 6.390625 \nQ 38.8125 6.390625 42.859375 10.171875 \nQ 46.921875 13.96875 46.921875 20.515625 \nQ 46.921875 27.09375 42.890625 30.859375 \nQ 38.875 34.625 31.78125 34.625 \nz\nM 21.921875 38.8125 \nQ 15.578125 40.375 12.03125 44.71875 \nQ 8.5 49.078125 8.5 55.328125 \nQ 8.5 64.0625 14.71875 69.140625 \nQ 20.953125 74.21875 31.78125 74.21875 \nQ 42.671875 74.21875 48.875 69.140625 \nQ 55.078125 64.0625 55.078125 55.328125 \nQ 55.078125 49.078125 51.53125 44.71875 \nQ 48 40.375 41.703125 38.8125 \nQ 48.828125 37.15625 52.796875 32.3125 \nQ 56.78125 27.484375 56.78125 20.515625 \nQ 56.78125 9.90625 50.3125 4.234375 \nQ 43.84375 -1.421875 31.78125 -1.421875 \nQ 19.734375 -1.421875 13.25 4.234375 \nQ 6.78125 9.90625 6.78125 20.515625 \nQ 6.78125 27.484375 10.78125 32.3125 \nQ 14.796875 37.15625 21.921875 38.8125 \nz\nM 18.3125 54.390625 \nQ 18.3125 48.734375 21.84375 45.5625 \nQ 25.390625 42.390625 31.78125 42.390625 \nQ 38.140625 42.390625 41.71875 45.5625 \nQ 45.3125 48.734375 45.3125 54.390625 \nQ 45.3125 60.0625 41.71875 63.234375 \nQ 38.140625 66.40625 31.78125 66.40625 \nQ 25.390625 66.40625 21.84375 63.234375 \nQ 18.3125 60.0625 18.3125 54.390625 \nz\n\" id=\"DejaVuSans-56\"/>\n      </defs>\n      <g style=\"fill:#262626;\" transform=\"translate(198.45625 254.356562)scale(0.1 -0.1)\">\n       <use xlink:href=\"#DejaVuSans-49\"/>\n       <use x=\"63.623047\" xlink:href=\"#DejaVuSans-57\"/>\n       <use x=\"127.246094\" xlink:href=\"#DejaVuSans-56\"/>\n       <use x=\"190.869141\" xlink:href=\"#DejaVuSans-48\"/>\n      </g>\n     </g>\n    </g>\n    <g id=\"xtick_6\">\n     <g id=\"line2d_6\">\n      <path clip-path=\"url(#p67d165eddc)\" d=\"M 249.226705 239.758125 \nL 249.226705 22.318125 \n\" style=\"fill:none;stroke:#ffffff;stroke-linecap:round;stroke-width:0.8;\"/>\n     </g>\n     <g id=\"text_6\">\n      <!-- 1990 -->\n      <g style=\"fill:#262626;\" transform=\"translate(236.501705 254.356562)scale(0.1 -0.1)\">\n       <use xlink:href=\"#DejaVuSans-49\"/>\n       <use x=\"63.623047\" xlink:href=\"#DejaVuSans-57\"/>\n       <use x=\"127.246094\" xlink:href=\"#DejaVuSans-57\"/>\n       <use x=\"190.869141\" xlink:href=\"#DejaVuSans-48\"/>\n      </g>\n     </g>\n    </g>\n    <g id=\"xtick_7\">\n     <g id=\"line2d_7\">\n      <path clip-path=\"url(#p67d165eddc)\" d=\"M 287.272159 239.758125 \nL 287.272159 22.318125 \n\" style=\"fill:none;stroke:#ffffff;stroke-linecap:round;stroke-width:0.8;\"/>\n     </g>\n     <g id=\"text_7\">\n      <!-- 2000 -->\n      <defs>\n       <path d=\"M 19.1875 8.296875 \nL 53.609375 8.296875 \nL 53.609375 0 \nL 7.328125 0 \nL 7.328125 8.296875 \nQ 12.9375 14.109375 22.625 23.890625 \nQ 32.328125 33.6875 34.8125 36.53125 \nQ 39.546875 41.84375 41.421875 45.53125 \nQ 43.3125 49.21875 43.3125 52.78125 \nQ 43.3125 58.59375 39.234375 62.25 \nQ 35.15625 65.921875 28.609375 65.921875 \nQ 23.96875 65.921875 18.8125 64.3125 \nQ 13.671875 62.703125 7.8125 59.421875 \nL 7.8125 69.390625 \nQ 13.765625 71.78125 18.9375 73 \nQ 24.125 74.21875 28.421875 74.21875 \nQ 39.75 74.21875 46.484375 68.546875 \nQ 53.21875 62.890625 53.21875 53.421875 \nQ 53.21875 48.921875 51.53125 44.890625 \nQ 49.859375 40.875 45.40625 35.40625 \nQ 44.1875 33.984375 37.640625 27.21875 \nQ 31.109375 20.453125 19.1875 8.296875 \nz\n\" id=\"DejaVuSans-50\"/>\n      </defs>\n      <g style=\"fill:#262626;\" transform=\"translate(274.547159 254.356562)scale(0.1 -0.1)\">\n       <use xlink:href=\"#DejaVuSans-50\"/>\n       <use x=\"63.623047\" xlink:href=\"#DejaVuSans-48\"/>\n       <use x=\"127.246094\" xlink:href=\"#DejaVuSans-48\"/>\n       <use x=\"190.869141\" xlink:href=\"#DejaVuSans-48\"/>\n      </g>\n     </g>\n    </g>\n    <g id=\"xtick_8\">\n     <g id=\"line2d_8\">\n      <path clip-path=\"url(#p67d165eddc)\" d=\"M 325.317614 239.758125 \nL 325.317614 22.318125 \n\" style=\"fill:none;stroke:#ffffff;stroke-linecap:round;stroke-width:0.8;\"/>\n     </g>\n     <g id=\"text_8\">\n      <!-- 2010 -->\n      <g style=\"fill:#262626;\" transform=\"translate(312.592614 254.356562)scale(0.1 -0.1)\">\n       <use xlink:href=\"#DejaVuSans-50\"/>\n       <use x=\"63.623047\" xlink:href=\"#DejaVuSans-48\"/>\n       <use x=\"127.246094\" xlink:href=\"#DejaVuSans-49\"/>\n       <use x=\"190.869141\" xlink:href=\"#DejaVuSans-48\"/>\n      </g>\n     </g>\n    </g>\n    <g id=\"xtick_9\">\n     <g id=\"line2d_9\">\n      <path clip-path=\"url(#p67d165eddc)\" d=\"M 363.363068 239.758125 \nL 363.363068 22.318125 \n\" style=\"fill:none;stroke:#ffffff;stroke-linecap:round;stroke-width:0.8;\"/>\n     </g>\n     <g id=\"text_9\">\n      <!-- 2020 -->\n      <g style=\"fill:#262626;\" transform=\"translate(350.638068 254.356562)scale(0.1 -0.1)\">\n       <use xlink:href=\"#DejaVuSans-50\"/>\n       <use x=\"63.623047\" xlink:href=\"#DejaVuSans-48\"/>\n       <use x=\"127.246094\" xlink:href=\"#DejaVuSans-50\"/>\n       <use x=\"190.869141\" xlink:href=\"#DejaVuSans-48\"/>\n      </g>\n     </g>\n    </g>\n    <g id=\"text_10\">\n     <!-- Decade -->\n     <defs>\n      <path d=\"M 19.671875 64.796875 \nL 19.671875 8.109375 \nL 31.59375 8.109375 \nQ 46.6875 8.109375 53.6875 14.9375 \nQ 60.6875 21.78125 60.6875 36.53125 \nQ 60.6875 51.171875 53.6875 57.984375 \nQ 46.6875 64.796875 31.59375 64.796875 \nz\nM 9.8125 72.90625 \nL 30.078125 72.90625 \nQ 51.265625 72.90625 61.171875 64.09375 \nQ 71.09375 55.28125 71.09375 36.53125 \nQ 71.09375 17.671875 61.125 8.828125 \nQ 51.171875 0 30.078125 0 \nL 9.8125 0 \nz\n\" id=\"DejaVuSans-68\"/>\n      <path d=\"M 56.203125 29.59375 \nL 56.203125 25.203125 \nL 14.890625 25.203125 \nQ 15.484375 15.921875 20.484375 11.0625 \nQ 25.484375 6.203125 34.421875 6.203125 \nQ 39.59375 6.203125 44.453125 7.46875 \nQ 49.3125 8.734375 54.109375 11.28125 \nL 54.109375 2.78125 \nQ 49.265625 0.734375 44.1875 -0.34375 \nQ 39.109375 -1.421875 33.890625 -1.421875 \nQ 20.796875 -1.421875 13.15625 6.1875 \nQ 5.515625 13.8125 5.515625 26.8125 \nQ 5.515625 40.234375 12.765625 48.109375 \nQ 20.015625 56 32.328125 56 \nQ 43.359375 56 49.78125 48.890625 \nQ 56.203125 41.796875 56.203125 29.59375 \nz\nM 47.21875 32.234375 \nQ 47.125 39.59375 43.09375 43.984375 \nQ 39.0625 48.390625 32.421875 48.390625 \nQ 24.90625 48.390625 20.390625 44.140625 \nQ 15.875 39.890625 15.1875 32.171875 \nz\n\" id=\"DejaVuSans-101\"/>\n      <path d=\"M 48.78125 52.59375 \nL 48.78125 44.1875 \nQ 44.96875 46.296875 41.140625 47.34375 \nQ 37.3125 48.390625 33.40625 48.390625 \nQ 24.65625 48.390625 19.8125 42.84375 \nQ 14.984375 37.3125 14.984375 27.296875 \nQ 14.984375 17.28125 19.8125 11.734375 \nQ 24.65625 6.203125 33.40625 6.203125 \nQ 37.3125 6.203125 41.140625 7.25 \nQ 44.96875 8.296875 48.78125 10.40625 \nL 48.78125 2.09375 \nQ 45.015625 0.34375 40.984375 -0.53125 \nQ 36.96875 -1.421875 32.421875 -1.421875 \nQ 20.0625 -1.421875 12.78125 6.34375 \nQ 5.515625 14.109375 5.515625 27.296875 \nQ 5.515625 40.671875 12.859375 48.328125 \nQ 20.21875 56 33.015625 56 \nQ 37.15625 56 41.109375 55.140625 \nQ 45.0625 54.296875 48.78125 52.59375 \nz\n\" id=\"DejaVuSans-99\"/>\n      <path d=\"M 34.28125 27.484375 \nQ 23.390625 27.484375 19.1875 25 \nQ 14.984375 22.515625 14.984375 16.5 \nQ 14.984375 11.71875 18.140625 8.90625 \nQ 21.296875 6.109375 26.703125 6.109375 \nQ 34.1875 6.109375 38.703125 11.40625 \nQ 43.21875 16.703125 43.21875 25.484375 \nL 43.21875 27.484375 \nz\nM 52.203125 31.203125 \nL 52.203125 0 \nL 43.21875 0 \nL 43.21875 8.296875 \nQ 40.140625 3.328125 35.546875 0.953125 \nQ 30.953125 -1.421875 24.3125 -1.421875 \nQ 15.921875 -1.421875 10.953125 3.296875 \nQ 6 8.015625 6 15.921875 \nQ 6 25.140625 12.171875 29.828125 \nQ 18.359375 34.515625 30.609375 34.515625 \nL 43.21875 34.515625 \nL 43.21875 35.40625 \nQ 43.21875 41.609375 39.140625 45 \nQ 35.0625 48.390625 27.6875 48.390625 \nQ 23 48.390625 18.546875 47.265625 \nQ 14.109375 46.140625 10.015625 43.890625 \nL 10.015625 52.203125 \nQ 14.9375 54.109375 19.578125 55.046875 \nQ 24.21875 56 28.609375 56 \nQ 40.484375 56 46.34375 49.84375 \nQ 52.203125 43.703125 52.203125 31.203125 \nz\n\" id=\"DejaVuSans-97\"/>\n      <path d=\"M 45.40625 46.390625 \nL 45.40625 75.984375 \nL 54.390625 75.984375 \nL 54.390625 0 \nL 45.40625 0 \nL 45.40625 8.203125 \nQ 42.578125 3.328125 38.25 0.953125 \nQ 33.9375 -1.421875 27.875 -1.421875 \nQ 17.96875 -1.421875 11.734375 6.484375 \nQ 5.515625 14.40625 5.515625 27.296875 \nQ 5.515625 40.1875 11.734375 48.09375 \nQ 17.96875 56 27.875 56 \nQ 33.9375 56 38.25 53.625 \nQ 42.578125 51.265625 45.40625 46.390625 \nz\nM 14.796875 27.296875 \nQ 14.796875 17.390625 18.875 11.75 \nQ 22.953125 6.109375 30.078125 6.109375 \nQ 37.203125 6.109375 41.296875 11.75 \nQ 45.40625 17.390625 45.40625 27.296875 \nQ 45.40625 37.203125 41.296875 42.84375 \nQ 37.203125 48.484375 30.078125 48.484375 \nQ 22.953125 48.484375 18.875 42.84375 \nQ 14.796875 37.203125 14.796875 27.296875 \nz\n\" id=\"DejaVuSans-100\"/>\n     </defs>\n     <g style=\"fill:#262626;\" transform=\"translate(192.190625 268.034687)scale(0.1 -0.1)\">\n      <use xlink:href=\"#DejaVuSans-68\"/>\n      <use x=\"77.001953\" xlink:href=\"#DejaVuSans-101\"/>\n      <use x=\"138.525391\" xlink:href=\"#DejaVuSans-99\"/>\n      <use x=\"193.505859\" xlink:href=\"#DejaVuSans-97\"/>\n      <use x=\"254.785156\" xlink:href=\"#DejaVuSans-100\"/>\n      <use x=\"318.261719\" xlink:href=\"#DejaVuSans-101\"/>\n     </g>\n    </g>\n   </g>\n   <g id=\"matplotlib.axis_2\">\n    <g id=\"ytick_1\">\n     <g id=\"line2d_10\">\n      <path clip-path=\"url(#p67d165eddc)\" d=\"M 43.78125 229.874489 \nL 378.58125 229.874489 \n\" style=\"fill:none;stroke:#ffffff;stroke-linecap:round;stroke-width:0.8;\"/>\n     </g>\n     <g id=\"text_11\">\n      <!-- 0.0 -->\n      <defs>\n       <path d=\"M 10.6875 12.40625 \nL 21 12.40625 \nL 21 0 \nL 10.6875 0 \nz\n\" id=\"DejaVuSans-46\"/>\n      </defs>\n      <g style=\"fill:#262626;\" transform=\"translate(20.878125 233.673707)scale(0.1 -0.1)\">\n       <use xlink:href=\"#DejaVuSans-48\"/>\n       <use x=\"63.623047\" xlink:href=\"#DejaVuSans-46\"/>\n       <use x=\"95.410156\" xlink:href=\"#DejaVuSans-48\"/>\n      </g>\n     </g>\n    </g>\n    <g id=\"ytick_2\">\n     <g id=\"line2d_11\">\n      <path clip-path=\"url(#p67d165eddc)\" d=\"M 43.78125 183.428829 \nL 378.58125 183.428829 \n\" style=\"fill:none;stroke:#ffffff;stroke-linecap:round;stroke-width:0.8;\"/>\n     </g>\n     <g id=\"text_12\">\n      <!-- 0.2 -->\n      <g style=\"fill:#262626;\" transform=\"translate(20.878125 187.228048)scale(0.1 -0.1)\">\n       <use xlink:href=\"#DejaVuSans-48\"/>\n       <use x=\"63.623047\" xlink:href=\"#DejaVuSans-46\"/>\n       <use x=\"95.410156\" xlink:href=\"#DejaVuSans-50\"/>\n      </g>\n     </g>\n    </g>\n    <g id=\"ytick_3\">\n     <g id=\"line2d_12\">\n      <path clip-path=\"url(#p67d165eddc)\" d=\"M 43.78125 136.98317 \nL 378.58125 136.98317 \n\" style=\"fill:none;stroke:#ffffff;stroke-linecap:round;stroke-width:0.8;\"/>\n     </g>\n     <g id=\"text_13\">\n      <!-- 0.4 -->\n      <g style=\"fill:#262626;\" transform=\"translate(20.878125 140.782389)scale(0.1 -0.1)\">\n       <use xlink:href=\"#DejaVuSans-48\"/>\n       <use x=\"63.623047\" xlink:href=\"#DejaVuSans-46\"/>\n       <use x=\"95.410156\" xlink:href=\"#DejaVuSans-52\"/>\n      </g>\n     </g>\n    </g>\n    <g id=\"ytick_4\">\n     <g id=\"line2d_13\">\n      <path clip-path=\"url(#p67d165eddc)\" d=\"M 43.78125 90.537511 \nL 378.58125 90.537511 \n\" style=\"fill:none;stroke:#ffffff;stroke-linecap:round;stroke-width:0.8;\"/>\n     </g>\n     <g id=\"text_14\">\n      <!-- 0.6 -->\n      <g style=\"fill:#262626;\" transform=\"translate(20.878125 94.33673)scale(0.1 -0.1)\">\n       <use xlink:href=\"#DejaVuSans-48\"/>\n       <use x=\"63.623047\" xlink:href=\"#DejaVuSans-46\"/>\n       <use x=\"95.410156\" xlink:href=\"#DejaVuSans-54\"/>\n      </g>\n     </g>\n    </g>\n    <g id=\"ytick_5\">\n     <g id=\"line2d_14\">\n      <path clip-path=\"url(#p67d165eddc)\" d=\"M 43.78125 44.091852 \nL 378.58125 44.091852 \n\" style=\"fill:none;stroke:#ffffff;stroke-linecap:round;stroke-width:0.8;\"/>\n     </g>\n     <g id=\"text_15\">\n      <!-- 0.8 -->\n      <g style=\"fill:#262626;\" transform=\"translate(20.878125 47.891071)scale(0.1 -0.1)\">\n       <use xlink:href=\"#DejaVuSans-48\"/>\n       <use x=\"63.623047\" xlink:href=\"#DejaVuSans-46\"/>\n       <use x=\"95.410156\" xlink:href=\"#DejaVuSans-56\"/>\n      </g>\n     </g>\n    </g>\n    <g id=\"text_16\">\n     <!-- value -->\n     <defs>\n      <path d=\"M 2.984375 54.6875 \nL 12.5 54.6875 \nL 29.59375 8.796875 \nL 46.6875 54.6875 \nL 56.203125 54.6875 \nL 35.6875 0 \nL 23.484375 0 \nz\n\" id=\"DejaVuSans-118\"/>\n      <path d=\"M 9.421875 75.984375 \nL 18.40625 75.984375 \nL 18.40625 0 \nL 9.421875 0 \nz\n\" id=\"DejaVuSans-108\"/>\n      <path d=\"M 8.5 21.578125 \nL 8.5 54.6875 \nL 17.484375 54.6875 \nL 17.484375 21.921875 \nQ 17.484375 14.15625 20.5 10.265625 \nQ 23.53125 6.390625 29.59375 6.390625 \nQ 36.859375 6.390625 41.078125 11.03125 \nQ 45.3125 15.671875 45.3125 23.6875 \nL 45.3125 54.6875 \nL 54.296875 54.6875 \nL 54.296875 0 \nL 45.3125 0 \nL 45.3125 8.40625 \nQ 42.046875 3.421875 37.71875 1 \nQ 33.40625 -1.421875 27.6875 -1.421875 \nQ 18.265625 -1.421875 13.375 4.4375 \nQ 8.5 10.296875 8.5 21.578125 \nz\nM 31.109375 56 \nz\n\" id=\"DejaVuSans-117\"/>\n     </defs>\n     <g style=\"fill:#262626;\" transform=\"translate(14.798438 144.695937)rotate(-90)scale(0.1 -0.1)\">\n      <use xlink:href=\"#DejaVuSans-118\"/>\n      <use x=\"59.179688\" xlink:href=\"#DejaVuSans-97\"/>\n      <use x=\"120.458984\" xlink:href=\"#DejaVuSans-108\"/>\n      <use x=\"148.242188\" xlink:href=\"#DejaVuSans-117\"/>\n      <use x=\"211.621094\" xlink:href=\"#DejaVuSans-101\"/>\n     </g>\n    </g>\n   </g>\n   <g id=\"line2d_15\">\n    <path clip-path=\"url(#p67d165eddc)\" d=\"M 58.999432 192.021277 \nL 97.044886 91.00197 \nL 135.090341 54.830313 \nL 173.135795 67.887219 \nL 211.18125 82.195022 \nL 249.226705 105.077252 \nL 287.272159 104.703206 \nL 325.317614 110.71845 \nL 363.363068 117.261867 \n\" style=\"fill:none;stroke:#f77189;stroke-linecap:round;stroke-width:1.5;\"/>\n   </g>\n   <g id=\"line2d_16\">\n    <path clip-path=\"url(#p67d165eddc)\" d=\"M 58.999432 189.559656 \nL 97.044886 179.24872 \nL 135.090341 132.585663 \nL 173.135795 106.827084 \nL 211.18125 91.685162 \nL 249.226705 94.555325 \nL 287.272159 71.663128 \nL 325.317614 84.990857 \nL 363.363068 80.031914 \n\" style=\"fill:none;stroke:#c69432;stroke-linecap:round;stroke-width:1.5;\"/>\n   </g>\n   <g id=\"line2d_17\">\n    <path clip-path=\"url(#p67d165eddc)\" d=\"M 58.999432 220.859386 \nL 97.044886 213.258554 \nL 135.090341 218.334421 \nL 173.135795 219.086827 \nL 211.18125 216.558749 \nL 249.226705 218.541351 \nL 287.272159 213.695956 \nL 325.317614 214.974784 \nL 363.363068 199.52782 \n\" style=\"fill:none;stroke:#82a931;stroke-linecap:round;stroke-width:1.5;\"/>\n   </g>\n   <g id=\"line2d_18\">\n    <path clip-path=\"url(#p67d165eddc)\" d=\"M 58.999432 162.24961 \nL 97.044886 181.106545 \nL 135.090341 186.086025 \nL 173.135795 190.783748 \nL 211.18125 182.558792 \nL 249.226705 183.966527 \nL 287.272159 182.176953 \nL 325.317614 187.952637 \nL 363.363068 189.471337 \n\" style=\"fill:none;stroke:#34af8a;stroke-linecap:round;stroke-width:1.5;\"/>\n   </g>\n   <g id=\"line2d_19\">\n    <path clip-path=\"url(#p67d165eddc)\" d=\"M 58.999432 178.691372 \nL 97.044886 116.895424 \nL 135.090341 103.547892 \nL 173.135795 92.995625 \nL 211.18125 85.294547 \nL 249.226705 105.975929 \nL 287.272159 93.217957 \nL 325.317614 95.372757 \nL 363.363068 72.793939 \n\" style=\"fill:none;stroke:#37aabb;stroke-linecap:round;stroke-width:1.5;\"/>\n   </g>\n   <g id=\"line2d_20\">\n    <path clip-path=\"url(#p67d165eddc)\" d=\"M 58.999432 196.445691 \nL 97.044886 229.874489 \nL 135.090341 229.372034 \nL 173.135795 226.709385 \nL 211.18125 225.279354 \nL 249.226705 224.948686 \nL 287.272159 223.456154 \nL 325.317614 225.075765 \nL 363.363068 226.449011 \n\" style=\"fill:none;stroke:#8197f4;stroke-linecap:round;stroke-width:1.5;\"/>\n   </g>\n   <g id=\"line2d_21\">\n    <path clip-path=\"url(#p67d165eddc)\" d=\"M 58.999432 32.201761 \nL 97.044886 65.456854 \nL 135.090341 58.0927 \nL 173.135795 144.408926 \nL 211.18125 168.523739 \nL 249.226705 159.229529 \nL 287.272159 172.957868 \nL 325.317614 155.655951 \nL 363.363068 175.479265 \n\" style=\"fill:none;stroke:#f45deb;stroke-linecap:round;stroke-width:1.5;\"/>\n   </g>\n   <g id=\"line2d_22\"/>\n   <g id=\"line2d_23\"/>\n   <g id=\"line2d_24\"/>\n   <g id=\"line2d_25\"/>\n   <g id=\"line2d_26\"/>\n   <g id=\"line2d_27\"/>\n   <g id=\"line2d_28\"/>\n   <g id=\"patch_3\">\n    <path d=\"M 43.78125 239.758125 \nL 43.78125 22.318125 \n\" style=\"fill:none;stroke:#ffffff;stroke-linecap:square;stroke-linejoin:miter;stroke-width:0.8;\"/>\n   </g>\n   <g id=\"patch_4\">\n    <path d=\"M 378.58125 239.758125 \nL 378.58125 22.318125 \n\" style=\"fill:none;stroke:#ffffff;stroke-linecap:square;stroke-linejoin:miter;stroke-width:0.8;\"/>\n   </g>\n   <g id=\"patch_5\">\n    <path d=\"M 43.78125 239.758125 \nL 378.58125 239.758125 \n\" style=\"fill:none;stroke:#ffffff;stroke-linecap:square;stroke-linejoin:miter;stroke-width:0.8;\"/>\n   </g>\n   <g id=\"patch_6\">\n    <path d=\"M 43.78125 22.318125 \nL 378.58125 22.318125 \n\" style=\"fill:none;stroke:#ffffff;stroke-linecap:square;stroke-linejoin:miter;stroke-width:0.8;\"/>\n   </g>\n   <g id=\"text_17\">\n    <!-- Song Characteristics Over the Decades -->\n    <defs>\n     <path d=\"M 53.515625 70.515625 \nL 53.515625 60.890625 \nQ 47.90625 63.578125 42.921875 64.890625 \nQ 37.9375 66.21875 33.296875 66.21875 \nQ 25.25 66.21875 20.875 63.09375 \nQ 16.5 59.96875 16.5 54.203125 \nQ 16.5 49.359375 19.40625 46.890625 \nQ 22.3125 44.4375 30.421875 42.921875 \nL 36.375 41.703125 \nQ 47.40625 39.59375 52.65625 34.296875 \nQ 57.90625 29 57.90625 20.125 \nQ 57.90625 9.515625 50.796875 4.046875 \nQ 43.703125 -1.421875 29.984375 -1.421875 \nQ 24.8125 -1.421875 18.96875 -0.25 \nQ 13.140625 0.921875 6.890625 3.21875 \nL 6.890625 13.375 \nQ 12.890625 10.015625 18.65625 8.296875 \nQ 24.421875 6.59375 29.984375 6.59375 \nQ 38.421875 6.59375 43.015625 9.90625 \nQ 47.609375 13.234375 47.609375 19.390625 \nQ 47.609375 24.75 44.3125 27.78125 \nQ 41.015625 30.8125 33.5 32.328125 \nL 27.484375 33.5 \nQ 16.453125 35.6875 11.515625 40.375 \nQ 6.59375 45.0625 6.59375 53.421875 \nQ 6.59375 63.09375 13.40625 68.65625 \nQ 20.21875 74.21875 32.171875 74.21875 \nQ 37.3125 74.21875 42.625 73.28125 \nQ 47.953125 72.359375 53.515625 70.515625 \nz\n\" id=\"DejaVuSans-83\"/>\n     <path d=\"M 30.609375 48.390625 \nQ 23.390625 48.390625 19.1875 42.75 \nQ 14.984375 37.109375 14.984375 27.296875 \nQ 14.984375 17.484375 19.15625 11.84375 \nQ 23.34375 6.203125 30.609375 6.203125 \nQ 37.796875 6.203125 41.984375 11.859375 \nQ 46.1875 17.53125 46.1875 27.296875 \nQ 46.1875 37.015625 41.984375 42.703125 \nQ 37.796875 48.390625 30.609375 48.390625 \nz\nM 30.609375 56 \nQ 42.328125 56 49.015625 48.375 \nQ 55.71875 40.765625 55.71875 27.296875 \nQ 55.71875 13.875 49.015625 6.21875 \nQ 42.328125 -1.421875 30.609375 -1.421875 \nQ 18.84375 -1.421875 12.171875 6.21875 \nQ 5.515625 13.875 5.515625 27.296875 \nQ 5.515625 40.765625 12.171875 48.375 \nQ 18.84375 56 30.609375 56 \nz\n\" id=\"DejaVuSans-111\"/>\n     <path d=\"M 54.890625 33.015625 \nL 54.890625 0 \nL 45.90625 0 \nL 45.90625 32.71875 \nQ 45.90625 40.484375 42.875 44.328125 \nQ 39.84375 48.1875 33.796875 48.1875 \nQ 26.515625 48.1875 22.3125 43.546875 \nQ 18.109375 38.921875 18.109375 30.90625 \nL 18.109375 0 \nL 9.078125 0 \nL 9.078125 54.6875 \nL 18.109375 54.6875 \nL 18.109375 46.1875 \nQ 21.34375 51.125 25.703125 53.5625 \nQ 30.078125 56 35.796875 56 \nQ 45.21875 56 50.046875 50.171875 \nQ 54.890625 44.34375 54.890625 33.015625 \nz\n\" id=\"DejaVuSans-110\"/>\n     <path d=\"M 45.40625 27.984375 \nQ 45.40625 37.75 41.375 43.109375 \nQ 37.359375 48.484375 30.078125 48.484375 \nQ 22.859375 48.484375 18.828125 43.109375 \nQ 14.796875 37.75 14.796875 27.984375 \nQ 14.796875 18.265625 18.828125 12.890625 \nQ 22.859375 7.515625 30.078125 7.515625 \nQ 37.359375 7.515625 41.375 12.890625 \nQ 45.40625 18.265625 45.40625 27.984375 \nz\nM 54.390625 6.78125 \nQ 54.390625 -7.171875 48.1875 -13.984375 \nQ 42 -20.796875 29.203125 -20.796875 \nQ 24.46875 -20.796875 20.265625 -20.09375 \nQ 16.0625 -19.390625 12.109375 -17.921875 \nL 12.109375 -9.1875 \nQ 16.0625 -11.328125 19.921875 -12.34375 \nQ 23.78125 -13.375 27.78125 -13.375 \nQ 36.625 -13.375 41.015625 -8.765625 \nQ 45.40625 -4.15625 45.40625 5.171875 \nL 45.40625 9.625 \nQ 42.625 4.78125 38.28125 2.390625 \nQ 33.9375 0 27.875 0 \nQ 17.828125 0 11.671875 7.65625 \nQ 5.515625 15.328125 5.515625 27.984375 \nQ 5.515625 40.671875 11.671875 48.328125 \nQ 17.828125 56 27.875 56 \nQ 33.9375 56 38.28125 53.609375 \nQ 42.625 51.21875 45.40625 46.390625 \nL 45.40625 54.6875 \nL 54.390625 54.6875 \nz\n\" id=\"DejaVuSans-103\"/>\n     <path id=\"DejaVuSans-32\"/>\n     <path d=\"M 64.40625 67.28125 \nL 64.40625 56.890625 \nQ 59.421875 61.53125 53.78125 63.8125 \nQ 48.140625 66.109375 41.796875 66.109375 \nQ 29.296875 66.109375 22.65625 58.46875 \nQ 16.015625 50.828125 16.015625 36.375 \nQ 16.015625 21.96875 22.65625 14.328125 \nQ 29.296875 6.6875 41.796875 6.6875 \nQ 48.140625 6.6875 53.78125 8.984375 \nQ 59.421875 11.28125 64.40625 15.921875 \nL 64.40625 5.609375 \nQ 59.234375 2.09375 53.4375 0.328125 \nQ 47.65625 -1.421875 41.21875 -1.421875 \nQ 24.65625 -1.421875 15.125 8.703125 \nQ 5.609375 18.84375 5.609375 36.375 \nQ 5.609375 53.953125 15.125 64.078125 \nQ 24.65625 74.21875 41.21875 74.21875 \nQ 47.75 74.21875 53.53125 72.484375 \nQ 59.328125 70.75 64.40625 67.28125 \nz\n\" id=\"DejaVuSans-67\"/>\n     <path d=\"M 54.890625 33.015625 \nL 54.890625 0 \nL 45.90625 0 \nL 45.90625 32.71875 \nQ 45.90625 40.484375 42.875 44.328125 \nQ 39.84375 48.1875 33.796875 48.1875 \nQ 26.515625 48.1875 22.3125 43.546875 \nQ 18.109375 38.921875 18.109375 30.90625 \nL 18.109375 0 \nL 9.078125 0 \nL 9.078125 75.984375 \nL 18.109375 75.984375 \nL 18.109375 46.1875 \nQ 21.34375 51.125 25.703125 53.5625 \nQ 30.078125 56 35.796875 56 \nQ 45.21875 56 50.046875 50.171875 \nQ 54.890625 44.34375 54.890625 33.015625 \nz\n\" id=\"DejaVuSans-104\"/>\n     <path d=\"M 41.109375 46.296875 \nQ 39.59375 47.171875 37.8125 47.578125 \nQ 36.03125 48 33.890625 48 \nQ 26.265625 48 22.1875 43.046875 \nQ 18.109375 38.09375 18.109375 28.8125 \nL 18.109375 0 \nL 9.078125 0 \nL 9.078125 54.6875 \nL 18.109375 54.6875 \nL 18.109375 46.1875 \nQ 20.953125 51.171875 25.484375 53.578125 \nQ 30.03125 56 36.53125 56 \nQ 37.453125 56 38.578125 55.875 \nQ 39.703125 55.765625 41.0625 55.515625 \nz\n\" id=\"DejaVuSans-114\"/>\n     <path d=\"M 18.3125 70.21875 \nL 18.3125 54.6875 \nL 36.8125 54.6875 \nL 36.8125 47.703125 \nL 18.3125 47.703125 \nL 18.3125 18.015625 \nQ 18.3125 11.328125 20.140625 9.421875 \nQ 21.96875 7.515625 27.59375 7.515625 \nL 36.8125 7.515625 \nL 36.8125 0 \nL 27.59375 0 \nQ 17.1875 0 13.234375 3.875 \nQ 9.28125 7.765625 9.28125 18.015625 \nL 9.28125 47.703125 \nL 2.6875 47.703125 \nL 2.6875 54.6875 \nL 9.28125 54.6875 \nL 9.28125 70.21875 \nz\n\" id=\"DejaVuSans-116\"/>\n     <path d=\"M 9.421875 54.6875 \nL 18.40625 54.6875 \nL 18.40625 0 \nL 9.421875 0 \nz\nM 9.421875 75.984375 \nL 18.40625 75.984375 \nL 18.40625 64.59375 \nL 9.421875 64.59375 \nz\n\" id=\"DejaVuSans-105\"/>\n     <path d=\"M 44.28125 53.078125 \nL 44.28125 44.578125 \nQ 40.484375 46.53125 36.375 47.5 \nQ 32.28125 48.484375 27.875 48.484375 \nQ 21.1875 48.484375 17.84375 46.4375 \nQ 14.5 44.390625 14.5 40.28125 \nQ 14.5 37.15625 16.890625 35.375 \nQ 19.28125 33.59375 26.515625 31.984375 \nL 29.59375 31.296875 \nQ 39.15625 29.25 43.1875 25.515625 \nQ 47.21875 21.78125 47.21875 15.09375 \nQ 47.21875 7.46875 41.1875 3.015625 \nQ 35.15625 -1.421875 24.609375 -1.421875 \nQ 20.21875 -1.421875 15.453125 -0.5625 \nQ 10.6875 0.296875 5.421875 2 \nL 5.421875 11.28125 \nQ 10.40625 8.6875 15.234375 7.390625 \nQ 20.0625 6.109375 24.8125 6.109375 \nQ 31.15625 6.109375 34.5625 8.28125 \nQ 37.984375 10.453125 37.984375 14.40625 \nQ 37.984375 18.0625 35.515625 20.015625 \nQ 33.0625 21.96875 24.703125 23.78125 \nL 21.578125 24.515625 \nQ 13.234375 26.265625 9.515625 29.90625 \nQ 5.8125 33.546875 5.8125 39.890625 \nQ 5.8125 47.609375 11.28125 51.796875 \nQ 16.75 56 26.8125 56 \nQ 31.78125 56 36.171875 55.265625 \nQ 40.578125 54.546875 44.28125 53.078125 \nz\n\" id=\"DejaVuSans-115\"/>\n     <path d=\"M 39.40625 66.21875 \nQ 28.65625 66.21875 22.328125 58.203125 \nQ 16.015625 50.203125 16.015625 36.375 \nQ 16.015625 22.609375 22.328125 14.59375 \nQ 28.65625 6.59375 39.40625 6.59375 \nQ 50.140625 6.59375 56.421875 14.59375 \nQ 62.703125 22.609375 62.703125 36.375 \nQ 62.703125 50.203125 56.421875 58.203125 \nQ 50.140625 66.21875 39.40625 66.21875 \nz\nM 39.40625 74.21875 \nQ 54.734375 74.21875 63.90625 63.9375 \nQ 73.09375 53.65625 73.09375 36.375 \nQ 73.09375 19.140625 63.90625 8.859375 \nQ 54.734375 -1.421875 39.40625 -1.421875 \nQ 24.03125 -1.421875 14.8125 8.828125 \nQ 5.609375 19.09375 5.609375 36.375 \nQ 5.609375 53.65625 14.8125 63.9375 \nQ 24.03125 74.21875 39.40625 74.21875 \nz\n\" id=\"DejaVuSans-79\"/>\n    </defs>\n    <g style=\"fill:#262626;\" transform=\"translate(93.409688 16.318125)scale(0.12 -0.12)\">\n     <use xlink:href=\"#DejaVuSans-83\"/>\n     <use x=\"63.476562\" xlink:href=\"#DejaVuSans-111\"/>\n     <use x=\"124.658203\" xlink:href=\"#DejaVuSans-110\"/>\n     <use x=\"188.037109\" xlink:href=\"#DejaVuSans-103\"/>\n     <use x=\"251.513672\" xlink:href=\"#DejaVuSans-32\"/>\n     <use x=\"283.300781\" xlink:href=\"#DejaVuSans-67\"/>\n     <use x=\"353.125\" xlink:href=\"#DejaVuSans-104\"/>\n     <use x=\"416.503906\" xlink:href=\"#DejaVuSans-97\"/>\n     <use x=\"477.783203\" xlink:href=\"#DejaVuSans-114\"/>\n     <use x=\"518.896484\" xlink:href=\"#DejaVuSans-97\"/>\n     <use x=\"580.175781\" xlink:href=\"#DejaVuSans-99\"/>\n     <use x=\"635.15625\" xlink:href=\"#DejaVuSans-116\"/>\n     <use x=\"674.365234\" xlink:href=\"#DejaVuSans-101\"/>\n     <use x=\"735.888672\" xlink:href=\"#DejaVuSans-114\"/>\n     <use x=\"777.001953\" xlink:href=\"#DejaVuSans-105\"/>\n     <use x=\"804.785156\" xlink:href=\"#DejaVuSans-115\"/>\n     <use x=\"856.884766\" xlink:href=\"#DejaVuSans-116\"/>\n     <use x=\"896.09375\" xlink:href=\"#DejaVuSans-105\"/>\n     <use x=\"923.876953\" xlink:href=\"#DejaVuSans-99\"/>\n     <use x=\"978.857422\" xlink:href=\"#DejaVuSans-115\"/>\n     <use x=\"1030.957031\" xlink:href=\"#DejaVuSans-32\"/>\n     <use x=\"1062.744141\" xlink:href=\"#DejaVuSans-79\"/>\n     <use x=\"1141.455078\" xlink:href=\"#DejaVuSans-118\"/>\n     <use x=\"1200.634766\" xlink:href=\"#DejaVuSans-101\"/>\n     <use x=\"1262.158203\" xlink:href=\"#DejaVuSans-114\"/>\n     <use x=\"1303.271484\" xlink:href=\"#DejaVuSans-32\"/>\n     <use x=\"1335.058594\" xlink:href=\"#DejaVuSans-116\"/>\n     <use x=\"1374.267578\" xlink:href=\"#DejaVuSans-104\"/>\n     <use x=\"1437.646484\" xlink:href=\"#DejaVuSans-101\"/>\n     <use x=\"1499.169922\" xlink:href=\"#DejaVuSans-32\"/>\n     <use x=\"1530.957031\" xlink:href=\"#DejaVuSans-68\"/>\n     <use x=\"1607.958984\" xlink:href=\"#DejaVuSans-101\"/>\n     <use x=\"1669.482422\" xlink:href=\"#DejaVuSans-99\"/>\n     <use x=\"1724.462891\" xlink:href=\"#DejaVuSans-97\"/>\n     <use x=\"1785.742188\" xlink:href=\"#DejaVuSans-100\"/>\n     <use x=\"1849.21875\" xlink:href=\"#DejaVuSans-101\"/>\n     <use x=\"1910.742188\" xlink:href=\"#DejaVuSans-115\"/>\n    </g>\n   </g>\n   <g id=\"legend_1\">\n    <g id=\"patch_7\">\n     <path d=\"M 252.920313 147.743125 \nL 371.58125 147.743125 \nQ 373.58125 147.743125 373.58125 145.743125 \nL 373.58125 29.318125 \nQ 373.58125 27.318125 371.58125 27.318125 \nL 252.920313 27.318125 \nQ 250.920313 27.318125 250.920313 29.318125 \nL 250.920313 145.743125 \nQ 250.920313 147.743125 252.920313 147.743125 \nz\n\" style=\"fill:#eaeaf2;opacity:0.8;stroke:#cccccc;stroke-linejoin:miter;\"/>\n    </g>\n    <g id=\"text_18\">\n     <!-- variable -->\n     <defs>\n      <path d=\"M 48.6875 27.296875 \nQ 48.6875 37.203125 44.609375 42.84375 \nQ 40.53125 48.484375 33.40625 48.484375 \nQ 26.265625 48.484375 22.1875 42.84375 \nQ 18.109375 37.203125 18.109375 27.296875 \nQ 18.109375 17.390625 22.1875 11.75 \nQ 26.265625 6.109375 33.40625 6.109375 \nQ 40.53125 6.109375 44.609375 11.75 \nQ 48.6875 17.390625 48.6875 27.296875 \nz\nM 18.109375 46.390625 \nQ 20.953125 51.265625 25.265625 53.625 \nQ 29.59375 56 35.59375 56 \nQ 45.5625 56 51.78125 48.09375 \nQ 58.015625 40.1875 58.015625 27.296875 \nQ 58.015625 14.40625 51.78125 6.484375 \nQ 45.5625 -1.421875 35.59375 -1.421875 \nQ 29.59375 -1.421875 25.265625 0.953125 \nQ 20.953125 3.328125 18.109375 8.203125 \nL 18.109375 0 \nL 9.078125 0 \nL 9.078125 75.984375 \nL 18.109375 75.984375 \nz\n\" id=\"DejaVuSans-98\"/>\n     </defs>\n     <g style=\"fill:#262626;\" transform=\"translate(292.078906 38.916562)scale(0.1 -0.1)\">\n      <use xlink:href=\"#DejaVuSans-118\"/>\n      <use x=\"59.179688\" xlink:href=\"#DejaVuSans-97\"/>\n      <use x=\"120.458984\" xlink:href=\"#DejaVuSans-114\"/>\n      <use x=\"161.572266\" xlink:href=\"#DejaVuSans-105\"/>\n      <use x=\"189.355469\" xlink:href=\"#DejaVuSans-97\"/>\n      <use x=\"250.634766\" xlink:href=\"#DejaVuSans-98\"/>\n      <use x=\"314.111328\" xlink:href=\"#DejaVuSans-108\"/>\n      <use x=\"341.894531\" xlink:href=\"#DejaVuSans-101\"/>\n     </g>\n    </g>\n    <g id=\"line2d_29\">\n     <path d=\"M 254.920313 50.094688 \nL 274.920313 50.094688 \n\" style=\"fill:none;stroke:#f77189;stroke-linecap:round;stroke-width:1.5;\"/>\n    </g>\n    <g id=\"line2d_30\"/>\n    <g id=\"text_19\">\n     <!-- danceability -->\n     <defs>\n      <path d=\"M 32.171875 -5.078125 \nQ 28.375 -14.84375 24.75 -17.8125 \nQ 21.140625 -20.796875 15.09375 -20.796875 \nL 7.90625 -20.796875 \nL 7.90625 -13.28125 \nL 13.1875 -13.28125 \nQ 16.890625 -13.28125 18.9375 -11.515625 \nQ 21 -9.765625 23.484375 -3.21875 \nL 25.09375 0.875 \nL 2.984375 54.6875 \nL 12.5 54.6875 \nL 29.59375 11.921875 \nL 46.6875 54.6875 \nL 56.203125 54.6875 \nz\n\" id=\"DejaVuSans-121\"/>\n     </defs>\n     <g style=\"fill:#262626;\" transform=\"translate(282.920313 53.594688)scale(0.1 -0.1)\">\n      <use xlink:href=\"#DejaVuSans-100\"/>\n      <use x=\"63.476562\" xlink:href=\"#DejaVuSans-97\"/>\n      <use x=\"124.755859\" xlink:href=\"#DejaVuSans-110\"/>\n      <use x=\"188.134766\" xlink:href=\"#DejaVuSans-99\"/>\n      <use x=\"243.115234\" xlink:href=\"#DejaVuSans-101\"/>\n      <use x=\"304.638672\" xlink:href=\"#DejaVuSans-97\"/>\n      <use x=\"365.917969\" xlink:href=\"#DejaVuSans-98\"/>\n      <use x=\"429.394531\" xlink:href=\"#DejaVuSans-105\"/>\n      <use x=\"457.177734\" xlink:href=\"#DejaVuSans-108\"/>\n      <use x=\"484.960938\" xlink:href=\"#DejaVuSans-105\"/>\n      <use x=\"512.744141\" xlink:href=\"#DejaVuSans-116\"/>\n      <use x=\"551.953125\" xlink:href=\"#DejaVuSans-121\"/>\n     </g>\n    </g>\n    <g id=\"line2d_31\">\n     <path d=\"M 254.920313 64.772813 \nL 274.920313 64.772813 \n\" style=\"fill:none;stroke:#c69432;stroke-linecap:round;stroke-width:1.5;\"/>\n    </g>\n    <g id=\"line2d_32\"/>\n    <g id=\"text_20\">\n     <!-- energy -->\n     <g style=\"fill:#262626;\" transform=\"translate(282.920313 68.272813)scale(0.1 -0.1)\">\n      <use xlink:href=\"#DejaVuSans-101\"/>\n      <use x=\"61.523438\" xlink:href=\"#DejaVuSans-110\"/>\n      <use x=\"124.902344\" xlink:href=\"#DejaVuSans-101\"/>\n      <use x=\"186.425781\" xlink:href=\"#DejaVuSans-114\"/>\n      <use x=\"225.789062\" xlink:href=\"#DejaVuSans-103\"/>\n      <use x=\"289.265625\" xlink:href=\"#DejaVuSans-121\"/>\n     </g>\n    </g>\n    <g id=\"line2d_33\">\n     <path d=\"M 254.920313 79.450938 \nL 274.920313 79.450938 \n\" style=\"fill:none;stroke:#82a931;stroke-linecap:round;stroke-width:1.5;\"/>\n    </g>\n    <g id=\"line2d_34\"/>\n    <g id=\"text_21\">\n     <!-- instrumentalness -->\n     <defs>\n      <path d=\"M 52 44.1875 \nQ 55.375 50.25 60.0625 53.125 \nQ 64.75 56 71.09375 56 \nQ 79.640625 56 84.28125 50.015625 \nQ 88.921875 44.046875 88.921875 33.015625 \nL 88.921875 0 \nL 79.890625 0 \nL 79.890625 32.71875 \nQ 79.890625 40.578125 77.09375 44.375 \nQ 74.3125 48.1875 68.609375 48.1875 \nQ 61.625 48.1875 57.5625 43.546875 \nQ 53.515625 38.921875 53.515625 30.90625 \nL 53.515625 0 \nL 44.484375 0 \nL 44.484375 32.71875 \nQ 44.484375 40.625 41.703125 44.40625 \nQ 38.921875 48.1875 33.109375 48.1875 \nQ 26.21875 48.1875 22.15625 43.53125 \nQ 18.109375 38.875 18.109375 30.90625 \nL 18.109375 0 \nL 9.078125 0 \nL 9.078125 54.6875 \nL 18.109375 54.6875 \nL 18.109375 46.1875 \nQ 21.1875 51.21875 25.484375 53.609375 \nQ 29.78125 56 35.6875 56 \nQ 41.65625 56 45.828125 52.96875 \nQ 50 49.953125 52 44.1875 \nz\n\" id=\"DejaVuSans-109\"/>\n     </defs>\n     <g style=\"fill:#262626;\" transform=\"translate(282.920313 82.950938)scale(0.1 -0.1)\">\n      <use xlink:href=\"#DejaVuSans-105\"/>\n      <use x=\"27.783203\" xlink:href=\"#DejaVuSans-110\"/>\n      <use x=\"91.162109\" xlink:href=\"#DejaVuSans-115\"/>\n      <use x=\"143.261719\" xlink:href=\"#DejaVuSans-116\"/>\n      <use x=\"182.470703\" xlink:href=\"#DejaVuSans-114\"/>\n      <use x=\"223.583984\" xlink:href=\"#DejaVuSans-117\"/>\n      <use x=\"286.962891\" xlink:href=\"#DejaVuSans-109\"/>\n      <use x=\"384.375\" xlink:href=\"#DejaVuSans-101\"/>\n      <use x=\"445.898438\" xlink:href=\"#DejaVuSans-110\"/>\n      <use x=\"509.277344\" xlink:href=\"#DejaVuSans-116\"/>\n      <use x=\"548.486328\" xlink:href=\"#DejaVuSans-97\"/>\n      <use x=\"609.765625\" xlink:href=\"#DejaVuSans-108\"/>\n      <use x=\"637.548828\" xlink:href=\"#DejaVuSans-110\"/>\n      <use x=\"700.927734\" xlink:href=\"#DejaVuSans-101\"/>\n      <use x=\"762.451172\" xlink:href=\"#DejaVuSans-115\"/>\n      <use x=\"814.550781\" xlink:href=\"#DejaVuSans-115\"/>\n     </g>\n    </g>\n    <g id=\"line2d_35\">\n     <path d=\"M 254.920313 94.129063 \nL 274.920313 94.129063 \n\" style=\"fill:none;stroke:#34af8a;stroke-linecap:round;stroke-width:1.5;\"/>\n    </g>\n    <g id=\"line2d_36\"/>\n    <g id=\"text_22\">\n     <!-- valence -->\n     <g style=\"fill:#262626;\" transform=\"translate(282.920313 97.629063)scale(0.1 -0.1)\">\n      <use xlink:href=\"#DejaVuSans-118\"/>\n      <use x=\"59.179688\" xlink:href=\"#DejaVuSans-97\"/>\n      <use x=\"120.458984\" xlink:href=\"#DejaVuSans-108\"/>\n      <use x=\"148.242188\" xlink:href=\"#DejaVuSans-101\"/>\n      <use x=\"209.765625\" xlink:href=\"#DejaVuSans-110\"/>\n      <use x=\"273.144531\" xlink:href=\"#DejaVuSans-99\"/>\n      <use x=\"328.125\" xlink:href=\"#DejaVuSans-101\"/>\n     </g>\n    </g>\n    <g id=\"line2d_37\">\n     <path d=\"M 254.920313 108.807188 \nL 274.920313 108.807188 \n\" style=\"fill:none;stroke:#37aabb;stroke-linecap:round;stroke-width:1.5;\"/>\n    </g>\n    <g id=\"line2d_38\"/>\n    <g id=\"text_23\">\n     <!-- liveliness -->\n     <g style=\"fill:#262626;\" transform=\"translate(282.920313 112.307188)scale(0.1 -0.1)\">\n      <use xlink:href=\"#DejaVuSans-108\"/>\n      <use x=\"27.783203\" xlink:href=\"#DejaVuSans-105\"/>\n      <use x=\"55.566406\" xlink:href=\"#DejaVuSans-118\"/>\n      <use x=\"114.746094\" xlink:href=\"#DejaVuSans-101\"/>\n      <use x=\"176.269531\" xlink:href=\"#DejaVuSans-108\"/>\n      <use x=\"204.052734\" xlink:href=\"#DejaVuSans-105\"/>\n      <use x=\"231.835938\" xlink:href=\"#DejaVuSans-110\"/>\n      <use x=\"295.214844\" xlink:href=\"#DejaVuSans-101\"/>\n      <use x=\"356.738281\" xlink:href=\"#DejaVuSans-115\"/>\n      <use x=\"408.837891\" xlink:href=\"#DejaVuSans-115\"/>\n     </g>\n    </g>\n    <g id=\"line2d_39\">\n     <path d=\"M 254.920313 123.485313 \nL 274.920313 123.485313 \n\" style=\"fill:none;stroke:#8197f4;stroke-linecap:round;stroke-width:1.5;\"/>\n    </g>\n    <g id=\"line2d_40\"/>\n    <g id=\"text_24\">\n     <!-- speechiness -->\n     <defs>\n      <path d=\"M 18.109375 8.203125 \nL 18.109375 -20.796875 \nL 9.078125 -20.796875 \nL 9.078125 54.6875 \nL 18.109375 54.6875 \nL 18.109375 46.390625 \nQ 20.953125 51.265625 25.265625 53.625 \nQ 29.59375 56 35.59375 56 \nQ 45.5625 56 51.78125 48.09375 \nQ 58.015625 40.1875 58.015625 27.296875 \nQ 58.015625 14.40625 51.78125 6.484375 \nQ 45.5625 -1.421875 35.59375 -1.421875 \nQ 29.59375 -1.421875 25.265625 0.953125 \nQ 20.953125 3.328125 18.109375 8.203125 \nz\nM 48.6875 27.296875 \nQ 48.6875 37.203125 44.609375 42.84375 \nQ 40.53125 48.484375 33.40625 48.484375 \nQ 26.265625 48.484375 22.1875 42.84375 \nQ 18.109375 37.203125 18.109375 27.296875 \nQ 18.109375 17.390625 22.1875 11.75 \nQ 26.265625 6.109375 33.40625 6.109375 \nQ 40.53125 6.109375 44.609375 11.75 \nQ 48.6875 17.390625 48.6875 27.296875 \nz\n\" id=\"DejaVuSans-112\"/>\n     </defs>\n     <g style=\"fill:#262626;\" transform=\"translate(282.920313 126.985313)scale(0.1 -0.1)\">\n      <use xlink:href=\"#DejaVuSans-115\"/>\n      <use x=\"52.099609\" xlink:href=\"#DejaVuSans-112\"/>\n      <use x=\"115.576172\" xlink:href=\"#DejaVuSans-101\"/>\n      <use x=\"177.099609\" xlink:href=\"#DejaVuSans-101\"/>\n      <use x=\"238.623047\" xlink:href=\"#DejaVuSans-99\"/>\n      <use x=\"293.603516\" xlink:href=\"#DejaVuSans-104\"/>\n      <use x=\"356.982422\" xlink:href=\"#DejaVuSans-105\"/>\n      <use x=\"384.765625\" xlink:href=\"#DejaVuSans-110\"/>\n      <use x=\"448.144531\" xlink:href=\"#DejaVuSans-101\"/>\n      <use x=\"509.667969\" xlink:href=\"#DejaVuSans-115\"/>\n      <use x=\"561.767578\" xlink:href=\"#DejaVuSans-115\"/>\n     </g>\n    </g>\n    <g id=\"line2d_41\">\n     <path d=\"M 254.920313 138.163438 \nL 274.920313 138.163438 \n\" style=\"fill:none;stroke:#f45deb;stroke-linecap:round;stroke-width:1.5;\"/>\n    </g>\n    <g id=\"line2d_42\"/>\n    <g id=\"text_25\">\n     <!-- acoustics -->\n     <g style=\"fill:#262626;\" transform=\"translate(282.920313 141.663438)scale(0.1 -0.1)\">\n      <use xlink:href=\"#DejaVuSans-97\"/>\n      <use x=\"61.279297\" xlink:href=\"#DejaVuSans-99\"/>\n      <use x=\"116.259766\" xlink:href=\"#DejaVuSans-111\"/>\n      <use x=\"177.441406\" xlink:href=\"#DejaVuSans-117\"/>\n      <use x=\"240.820312\" xlink:href=\"#DejaVuSans-115\"/>\n      <use x=\"292.919922\" xlink:href=\"#DejaVuSans-116\"/>\n      <use x=\"332.128906\" xlink:href=\"#DejaVuSans-105\"/>\n      <use x=\"359.912109\" xlink:href=\"#DejaVuSans-99\"/>\n      <use x=\"414.892578\" xlink:href=\"#DejaVuSans-115\"/>\n     </g>\n    </g>\n   </g>\n  </g>\n </g>\n <defs>\n  <clipPath id=\"p67d165eddc\">\n   <rect height=\"217.44\" width=\"334.8\" x=\"43.78125\" y=\"22.318125\"/>\n  </clipPath>\n </defs>\n</svg>\n"
          },
          "metadata": {}
        }
      ]
    },
    {
      "cell_type": "markdown",
      "source": [
        "**CLUSTERING**"
      ],
      "metadata": {
        "id": "lB5P8Yu0pTf4"
      }
    },
    {
      "cell_type": "markdown",
      "source": [
        "First check out the cosine similiarty of song feature vectors"
      ],
      "metadata": {
        "id": "g_3LyQTWp4Oa"
      }
    },
    {
      "cell_type": "code",
      "source": [
        "###### First KPop ######\n",
        "query_kpop = \"\"\"\n",
        "SELECT Title, Artist, {}\n",
        "FROM df_table\n",
        "WHERE `k-pop` = 1\n",
        "\"\"\".format(', '.join(numerical_features))\n",
        "\n",
        "df_kpop_songs = (spark.sql(query_kpop)\n",
        "                      .sample(.1) # returns a list with a randomly selection of a specified number of items from a sequnce\n",
        "                      .dropna()\n",
        "                      .toPandas() \n",
        "                )\n",
        "####### Now Rap #######\n",
        "query_rap = \"\"\"\n",
        "SELECT Title, Artist, {}\n",
        "FROM df_table\n",
        "WHERE rap = 1\n",
        "\"\"\".format(', '.join(numerical_features))\n",
        "\n",
        "df_rap_songs = (spark.sql(query_rap)\n",
        "                     .sample(.1)\n",
        "                     .dropna()\n",
        "                     .toPandas() \n",
        "               )\n",
        "df_rap_songs.head()"
      ],
      "metadata": {
        "colab": {
          "base_uri": "https://localhost:8080/",
          "height": 478
        },
        "id": "IB3_eAWypOlE",
        "outputId": "ae1b666c-b58a-4509-a4d1-ccf90add5e17"
      },
      "execution_count": null,
      "outputs": [
        {
          "output_type": "execute_result",
          "data": {
            "text/plain": [
              "             Title                                   Artist  danceability  \\\n",
              "0         betrayed                                  Lil Xan         0.821   \n",
              "1         betrayed                                  Lil Xan         0.821   \n",
              "2  do you remember  Chance the Rapper - Death Cab for Cutie         0.606   \n",
              "3     u deserve it      Trippie Redd - Chris King - Quan'ta         0.817   \n",
              "4      ball for me                Post Malone - Nicki Minaj         0.797   \n",
              "\n",
              "   energy  instrumentalness  valence  liveliness  speechiness  acoustics  \\\n",
              "0   0.434          0.000000    0.241      0.1280       0.1180      0.434   \n",
              "1   0.434          0.000000    0.241      0.1280       0.1180      0.434   \n",
              "2   0.655          0.000000    0.696      0.1030       0.4020      0.139   \n",
              "3   0.509          0.000004    0.551      0.0758       0.0316      0.547   \n",
              "4   0.550          0.000000    0.543      0.0786       0.2400      0.513   \n",
              "\n",
              "   instrumentalness       tempo  duration_ms  time_signature  \\\n",
              "0          0.000000  120.012001     187173.0             4.0   \n",
              "1          0.000000  120.012001     187173.0             4.0   \n",
              "2          0.000000  159.824005     236686.0             4.0   \n",
              "3          0.000004  110.014000     244601.0             4.0   \n",
              "4          0.000000  134.205994     206267.0             4.0   \n",
              "\n",
              "   Days_since_release  n_words  \n",
              "0               953.0    346.0  \n",
              "1               953.0    346.0  \n",
              "2               477.0    221.0  \n",
              "3               358.0    166.0  \n",
              "4               932.0    422.0  "
            ],
            "text/html": [
              "\n",
              "  <div id=\"df-f26e683d-7425-4ba3-89ef-a51195ca57f1\">\n",
              "    <div class=\"colab-df-container\">\n",
              "      <div>\n",
              "<style scoped>\n",
              "    .dataframe tbody tr th:only-of-type {\n",
              "        vertical-align: middle;\n",
              "    }\n",
              "\n",
              "    .dataframe tbody tr th {\n",
              "        vertical-align: top;\n",
              "    }\n",
              "\n",
              "    .dataframe thead th {\n",
              "        text-align: right;\n",
              "    }\n",
              "</style>\n",
              "<table border=\"1\" class=\"dataframe\">\n",
              "  <thead>\n",
              "    <tr style=\"text-align: right;\">\n",
              "      <th></th>\n",
              "      <th>Title</th>\n",
              "      <th>Artist</th>\n",
              "      <th>danceability</th>\n",
              "      <th>energy</th>\n",
              "      <th>instrumentalness</th>\n",
              "      <th>valence</th>\n",
              "      <th>liveliness</th>\n",
              "      <th>speechiness</th>\n",
              "      <th>acoustics</th>\n",
              "      <th>instrumentalness</th>\n",
              "      <th>tempo</th>\n",
              "      <th>duration_ms</th>\n",
              "      <th>time_signature</th>\n",
              "      <th>Days_since_release</th>\n",
              "      <th>n_words</th>\n",
              "    </tr>\n",
              "  </thead>\n",
              "  <tbody>\n",
              "    <tr>\n",
              "      <th>0</th>\n",
              "      <td>betrayed</td>\n",
              "      <td>Lil Xan</td>\n",
              "      <td>0.821</td>\n",
              "      <td>0.434</td>\n",
              "      <td>0.000000</td>\n",
              "      <td>0.241</td>\n",
              "      <td>0.1280</td>\n",
              "      <td>0.1180</td>\n",
              "      <td>0.434</td>\n",
              "      <td>0.000000</td>\n",
              "      <td>120.012001</td>\n",
              "      <td>187173.0</td>\n",
              "      <td>4.0</td>\n",
              "      <td>953.0</td>\n",
              "      <td>346.0</td>\n",
              "    </tr>\n",
              "    <tr>\n",
              "      <th>1</th>\n",
              "      <td>betrayed</td>\n",
              "      <td>Lil Xan</td>\n",
              "      <td>0.821</td>\n",
              "      <td>0.434</td>\n",
              "      <td>0.000000</td>\n",
              "      <td>0.241</td>\n",
              "      <td>0.1280</td>\n",
              "      <td>0.1180</td>\n",
              "      <td>0.434</td>\n",
              "      <td>0.000000</td>\n",
              "      <td>120.012001</td>\n",
              "      <td>187173.0</td>\n",
              "      <td>4.0</td>\n",
              "      <td>953.0</td>\n",
              "      <td>346.0</td>\n",
              "    </tr>\n",
              "    <tr>\n",
              "      <th>2</th>\n",
              "      <td>do you remember</td>\n",
              "      <td>Chance the Rapper - Death Cab for Cutie</td>\n",
              "      <td>0.606</td>\n",
              "      <td>0.655</td>\n",
              "      <td>0.000000</td>\n",
              "      <td>0.696</td>\n",
              "      <td>0.1030</td>\n",
              "      <td>0.4020</td>\n",
              "      <td>0.139</td>\n",
              "      <td>0.000000</td>\n",
              "      <td>159.824005</td>\n",
              "      <td>236686.0</td>\n",
              "      <td>4.0</td>\n",
              "      <td>477.0</td>\n",
              "      <td>221.0</td>\n",
              "    </tr>\n",
              "    <tr>\n",
              "      <th>3</th>\n",
              "      <td>u deserve it</td>\n",
              "      <td>Trippie Redd - Chris King - Quan'ta</td>\n",
              "      <td>0.817</td>\n",
              "      <td>0.509</td>\n",
              "      <td>0.000004</td>\n",
              "      <td>0.551</td>\n",
              "      <td>0.0758</td>\n",
              "      <td>0.0316</td>\n",
              "      <td>0.547</td>\n",
              "      <td>0.000004</td>\n",
              "      <td>110.014000</td>\n",
              "      <td>244601.0</td>\n",
              "      <td>4.0</td>\n",
              "      <td>358.0</td>\n",
              "      <td>166.0</td>\n",
              "    </tr>\n",
              "    <tr>\n",
              "      <th>4</th>\n",
              "      <td>ball for me</td>\n",
              "      <td>Post Malone - Nicki Minaj</td>\n",
              "      <td>0.797</td>\n",
              "      <td>0.550</td>\n",
              "      <td>0.000000</td>\n",
              "      <td>0.543</td>\n",
              "      <td>0.0786</td>\n",
              "      <td>0.2400</td>\n",
              "      <td>0.513</td>\n",
              "      <td>0.000000</td>\n",
              "      <td>134.205994</td>\n",
              "      <td>206267.0</td>\n",
              "      <td>4.0</td>\n",
              "      <td>932.0</td>\n",
              "      <td>422.0</td>\n",
              "    </tr>\n",
              "  </tbody>\n",
              "</table>\n",
              "</div>\n",
              "      <button class=\"colab-df-convert\" onclick=\"convertToInteractive('df-f26e683d-7425-4ba3-89ef-a51195ca57f1')\"\n",
              "              title=\"Convert this dataframe to an interactive table.\"\n",
              "              style=\"display:none;\">\n",
              "        \n",
              "  <svg xmlns=\"http://www.w3.org/2000/svg\" height=\"24px\"viewBox=\"0 0 24 24\"\n",
              "       width=\"24px\">\n",
              "    <path d=\"M0 0h24v24H0V0z\" fill=\"none\"/>\n",
              "    <path d=\"M18.56 5.44l.94 2.06.94-2.06 2.06-.94-2.06-.94-.94-2.06-.94 2.06-2.06.94zm-11 1L8.5 8.5l.94-2.06 2.06-.94-2.06-.94L8.5 2.5l-.94 2.06-2.06.94zm10 10l.94 2.06.94-2.06 2.06-.94-2.06-.94-.94-2.06-.94 2.06-2.06.94z\"/><path d=\"M17.41 7.96l-1.37-1.37c-.4-.4-.92-.59-1.43-.59-.52 0-1.04.2-1.43.59L10.3 9.45l-7.72 7.72c-.78.78-.78 2.05 0 2.83L4 21.41c.39.39.9.59 1.41.59.51 0 1.02-.2 1.41-.59l7.78-7.78 2.81-2.81c.8-.78.8-2.07 0-2.86zM5.41 20L4 18.59l7.72-7.72 1.47 1.35L5.41 20z\"/>\n",
              "  </svg>\n",
              "      </button>\n",
              "      \n",
              "  <style>\n",
              "    .colab-df-container {\n",
              "      display:flex;\n",
              "      flex-wrap:wrap;\n",
              "      gap: 12px;\n",
              "    }\n",
              "\n",
              "    .colab-df-convert {\n",
              "      background-color: #E8F0FE;\n",
              "      border: none;\n",
              "      border-radius: 50%;\n",
              "      cursor: pointer;\n",
              "      display: none;\n",
              "      fill: #1967D2;\n",
              "      height: 32px;\n",
              "      padding: 0 0 0 0;\n",
              "      width: 32px;\n",
              "    }\n",
              "\n",
              "    .colab-df-convert:hover {\n",
              "      background-color: #E2EBFA;\n",
              "      box-shadow: 0px 1px 2px rgba(60, 64, 67, 0.3), 0px 1px 3px 1px rgba(60, 64, 67, 0.15);\n",
              "      fill: #174EA6;\n",
              "    }\n",
              "\n",
              "    [theme=dark] .colab-df-convert {\n",
              "      background-color: #3B4455;\n",
              "      fill: #D2E3FC;\n",
              "    }\n",
              "\n",
              "    [theme=dark] .colab-df-convert:hover {\n",
              "      background-color: #434B5C;\n",
              "      box-shadow: 0px 1px 3px 1px rgba(0, 0, 0, 0.15);\n",
              "      filter: drop-shadow(0px 1px 2px rgba(0, 0, 0, 0.3));\n",
              "      fill: #FFFFFF;\n",
              "    }\n",
              "  </style>\n",
              "\n",
              "      <script>\n",
              "        const buttonEl =\n",
              "          document.querySelector('#df-f26e683d-7425-4ba3-89ef-a51195ca57f1 button.colab-df-convert');\n",
              "        buttonEl.style.display =\n",
              "          google.colab.kernel.accessAllowed ? 'block' : 'none';\n",
              "\n",
              "        async function convertToInteractive(key) {\n",
              "          const element = document.querySelector('#df-f26e683d-7425-4ba3-89ef-a51195ca57f1');\n",
              "          const dataTable =\n",
              "            await google.colab.kernel.invokeFunction('convertToInteractive',\n",
              "                                                     [key], {});\n",
              "          if (!dataTable) return;\n",
              "\n",
              "          const docLinkHtml = 'Like what you see? Visit the ' +\n",
              "            '<a target=\"_blank\" href=https://colab.research.google.com/notebooks/data_table.ipynb>data table notebook</a>'\n",
              "            + ' to learn more about interactive tables.';\n",
              "          element.innerHTML = '';\n",
              "          dataTable['output_type'] = 'display_data';\n",
              "          await google.colab.output.renderOutput(dataTable, element);\n",
              "          const docLink = document.createElement('div');\n",
              "          docLink.innerHTML = docLinkHtml;\n",
              "          element.appendChild(docLink);\n",
              "        }\n",
              "      </script>\n",
              "    </div>\n",
              "  </div>\n",
              "  "
            ]
          },
          "metadata": {},
          "execution_count": 28
        }
      ]
    },
    {
      "cell_type": "code",
      "source": [
        "df_kpop_songs.head()"
      ],
      "metadata": {
        "colab": {
          "base_uri": "https://localhost:8080/",
          "height": 530
        },
        "id": "wMxvCvE6qDct",
        "outputId": "ec65ca01-7ea5-49d3-df97-2550675d6b12"
      },
      "execution_count": null,
      "outputs": [
        {
          "output_type": "execute_result",
          "data": {
            "text/plain": [
              "         Title                                             Artist  \\\n",
              "0  outnumbered                                     Dermot Kennedy   \n",
              "1      bad boy                                         Red Velvet   \n",
              "2         more  K/DA - Madison Beer - (G)I-DLE - Lexie Liu - J...   \n",
              "3         more  K/DA - Madison Beer - (G)I-DLE - Lexie Liu - J...   \n",
              "4      shotgun                                        George Ezra   \n",
              "\n",
              "   danceability  energy  instrumentalness  valence  liveliness  speechiness  \\\n",
              "0         0.614   0.684               0.0    0.258      0.0976       0.1570   \n",
              "1         0.714   0.736               0.0    0.814      0.0553       0.0457   \n",
              "2         0.660   0.787               0.0    0.199      0.3230       0.0320   \n",
              "3         0.660   0.787               0.0    0.199      0.3230       0.0320   \n",
              "4         0.672   0.735               0.0    0.754      0.2420       0.0457   \n",
              "\n",
              "   acoustics  instrumentalness       tempo  duration_ms  time_signature  \\\n",
              "0    0.24700               0.0  156.850006     245700.0             4.0   \n",
              "1    0.19100               0.0  149.985001     210818.0             4.0   \n",
              "2    0.00257               0.0  142.018005     217088.0             4.0   \n",
              "3    0.00257               0.0  142.018005     217088.0             4.0   \n",
              "4    0.28600               0.0  115.740997     201287.0             4.0   \n",
              "\n",
              "   Days_since_release  n_words  \n",
              "0               520.0    241.0  \n",
              "1              1020.0    417.0  \n",
              "2                17.0   1344.0  \n",
              "3                17.0   1344.0  \n",
              "4               967.0    215.0  "
            ],
            "text/html": [
              "\n",
              "  <div id=\"df-516576dc-25a9-48fd-ae14-bb0e76c4b0af\">\n",
              "    <div class=\"colab-df-container\">\n",
              "      <div>\n",
              "<style scoped>\n",
              "    .dataframe tbody tr th:only-of-type {\n",
              "        vertical-align: middle;\n",
              "    }\n",
              "\n",
              "    .dataframe tbody tr th {\n",
              "        vertical-align: top;\n",
              "    }\n",
              "\n",
              "    .dataframe thead th {\n",
              "        text-align: right;\n",
              "    }\n",
              "</style>\n",
              "<table border=\"1\" class=\"dataframe\">\n",
              "  <thead>\n",
              "    <tr style=\"text-align: right;\">\n",
              "      <th></th>\n",
              "      <th>Title</th>\n",
              "      <th>Artist</th>\n",
              "      <th>danceability</th>\n",
              "      <th>energy</th>\n",
              "      <th>instrumentalness</th>\n",
              "      <th>valence</th>\n",
              "      <th>liveliness</th>\n",
              "      <th>speechiness</th>\n",
              "      <th>acoustics</th>\n",
              "      <th>instrumentalness</th>\n",
              "      <th>tempo</th>\n",
              "      <th>duration_ms</th>\n",
              "      <th>time_signature</th>\n",
              "      <th>Days_since_release</th>\n",
              "      <th>n_words</th>\n",
              "    </tr>\n",
              "  </thead>\n",
              "  <tbody>\n",
              "    <tr>\n",
              "      <th>0</th>\n",
              "      <td>outnumbered</td>\n",
              "      <td>Dermot Kennedy</td>\n",
              "      <td>0.614</td>\n",
              "      <td>0.684</td>\n",
              "      <td>0.0</td>\n",
              "      <td>0.258</td>\n",
              "      <td>0.0976</td>\n",
              "      <td>0.1570</td>\n",
              "      <td>0.24700</td>\n",
              "      <td>0.0</td>\n",
              "      <td>156.850006</td>\n",
              "      <td>245700.0</td>\n",
              "      <td>4.0</td>\n",
              "      <td>520.0</td>\n",
              "      <td>241.0</td>\n",
              "    </tr>\n",
              "    <tr>\n",
              "      <th>1</th>\n",
              "      <td>bad boy</td>\n",
              "      <td>Red Velvet</td>\n",
              "      <td>0.714</td>\n",
              "      <td>0.736</td>\n",
              "      <td>0.0</td>\n",
              "      <td>0.814</td>\n",
              "      <td>0.0553</td>\n",
              "      <td>0.0457</td>\n",
              "      <td>0.19100</td>\n",
              "      <td>0.0</td>\n",
              "      <td>149.985001</td>\n",
              "      <td>210818.0</td>\n",
              "      <td>4.0</td>\n",
              "      <td>1020.0</td>\n",
              "      <td>417.0</td>\n",
              "    </tr>\n",
              "    <tr>\n",
              "      <th>2</th>\n",
              "      <td>more</td>\n",
              "      <td>K/DA - Madison Beer - (G)I-DLE - Lexie Liu - J...</td>\n",
              "      <td>0.660</td>\n",
              "      <td>0.787</td>\n",
              "      <td>0.0</td>\n",
              "      <td>0.199</td>\n",
              "      <td>0.3230</td>\n",
              "      <td>0.0320</td>\n",
              "      <td>0.00257</td>\n",
              "      <td>0.0</td>\n",
              "      <td>142.018005</td>\n",
              "      <td>217088.0</td>\n",
              "      <td>4.0</td>\n",
              "      <td>17.0</td>\n",
              "      <td>1344.0</td>\n",
              "    </tr>\n",
              "    <tr>\n",
              "      <th>3</th>\n",
              "      <td>more</td>\n",
              "      <td>K/DA - Madison Beer - (G)I-DLE - Lexie Liu - J...</td>\n",
              "      <td>0.660</td>\n",
              "      <td>0.787</td>\n",
              "      <td>0.0</td>\n",
              "      <td>0.199</td>\n",
              "      <td>0.3230</td>\n",
              "      <td>0.0320</td>\n",
              "      <td>0.00257</td>\n",
              "      <td>0.0</td>\n",
              "      <td>142.018005</td>\n",
              "      <td>217088.0</td>\n",
              "      <td>4.0</td>\n",
              "      <td>17.0</td>\n",
              "      <td>1344.0</td>\n",
              "    </tr>\n",
              "    <tr>\n",
              "      <th>4</th>\n",
              "      <td>shotgun</td>\n",
              "      <td>George Ezra</td>\n",
              "      <td>0.672</td>\n",
              "      <td>0.735</td>\n",
              "      <td>0.0</td>\n",
              "      <td>0.754</td>\n",
              "      <td>0.2420</td>\n",
              "      <td>0.0457</td>\n",
              "      <td>0.28600</td>\n",
              "      <td>0.0</td>\n",
              "      <td>115.740997</td>\n",
              "      <td>201287.0</td>\n",
              "      <td>4.0</td>\n",
              "      <td>967.0</td>\n",
              "      <td>215.0</td>\n",
              "    </tr>\n",
              "  </tbody>\n",
              "</table>\n",
              "</div>\n",
              "      <button class=\"colab-df-convert\" onclick=\"convertToInteractive('df-516576dc-25a9-48fd-ae14-bb0e76c4b0af')\"\n",
              "              title=\"Convert this dataframe to an interactive table.\"\n",
              "              style=\"display:none;\">\n",
              "        \n",
              "  <svg xmlns=\"http://www.w3.org/2000/svg\" height=\"24px\"viewBox=\"0 0 24 24\"\n",
              "       width=\"24px\">\n",
              "    <path d=\"M0 0h24v24H0V0z\" fill=\"none\"/>\n",
              "    <path d=\"M18.56 5.44l.94 2.06.94-2.06 2.06-.94-2.06-.94-.94-2.06-.94 2.06-2.06.94zm-11 1L8.5 8.5l.94-2.06 2.06-.94-2.06-.94L8.5 2.5l-.94 2.06-2.06.94zm10 10l.94 2.06.94-2.06 2.06-.94-2.06-.94-.94-2.06-.94 2.06-2.06.94z\"/><path d=\"M17.41 7.96l-1.37-1.37c-.4-.4-.92-.59-1.43-.59-.52 0-1.04.2-1.43.59L10.3 9.45l-7.72 7.72c-.78.78-.78 2.05 0 2.83L4 21.41c.39.39.9.59 1.41.59.51 0 1.02-.2 1.41-.59l7.78-7.78 2.81-2.81c.8-.78.8-2.07 0-2.86zM5.41 20L4 18.59l7.72-7.72 1.47 1.35L5.41 20z\"/>\n",
              "  </svg>\n",
              "      </button>\n",
              "      \n",
              "  <style>\n",
              "    .colab-df-container {\n",
              "      display:flex;\n",
              "      flex-wrap:wrap;\n",
              "      gap: 12px;\n",
              "    }\n",
              "\n",
              "    .colab-df-convert {\n",
              "      background-color: #E8F0FE;\n",
              "      border: none;\n",
              "      border-radius: 50%;\n",
              "      cursor: pointer;\n",
              "      display: none;\n",
              "      fill: #1967D2;\n",
              "      height: 32px;\n",
              "      padding: 0 0 0 0;\n",
              "      width: 32px;\n",
              "    }\n",
              "\n",
              "    .colab-df-convert:hover {\n",
              "      background-color: #E2EBFA;\n",
              "      box-shadow: 0px 1px 2px rgba(60, 64, 67, 0.3), 0px 1px 3px 1px rgba(60, 64, 67, 0.15);\n",
              "      fill: #174EA6;\n",
              "    }\n",
              "\n",
              "    [theme=dark] .colab-df-convert {\n",
              "      background-color: #3B4455;\n",
              "      fill: #D2E3FC;\n",
              "    }\n",
              "\n",
              "    [theme=dark] .colab-df-convert:hover {\n",
              "      background-color: #434B5C;\n",
              "      box-shadow: 0px 1px 3px 1px rgba(0, 0, 0, 0.15);\n",
              "      filter: drop-shadow(0px 1px 2px rgba(0, 0, 0, 0.3));\n",
              "      fill: #FFFFFF;\n",
              "    }\n",
              "  </style>\n",
              "\n",
              "      <script>\n",
              "        const buttonEl =\n",
              "          document.querySelector('#df-516576dc-25a9-48fd-ae14-bb0e76c4b0af button.colab-df-convert');\n",
              "        buttonEl.style.display =\n",
              "          google.colab.kernel.accessAllowed ? 'block' : 'none';\n",
              "\n",
              "        async function convertToInteractive(key) {\n",
              "          const element = document.querySelector('#df-516576dc-25a9-48fd-ae14-bb0e76c4b0af');\n",
              "          const dataTable =\n",
              "            await google.colab.kernel.invokeFunction('convertToInteractive',\n",
              "                                                     [key], {});\n",
              "          if (!dataTable) return;\n",
              "\n",
              "          const docLinkHtml = 'Like what you see? Visit the ' +\n",
              "            '<a target=\"_blank\" href=https://colab.research.google.com/notebooks/data_table.ipynb>data table notebook</a>'\n",
              "            + ' to learn more about interactive tables.';\n",
              "          element.innerHTML = '';\n",
              "          dataTable['output_type'] = 'display_data';\n",
              "          await google.colab.output.renderOutput(dataTable, element);\n",
              "          const docLink = document.createElement('div');\n",
              "          docLink.innerHTML = docLinkHtml;\n",
              "          element.appendChild(docLink);\n",
              "        }\n",
              "      </script>\n",
              "    </div>\n",
              "  </div>\n",
              "  "
            ]
          },
          "metadata": {},
          "execution_count": 29
        }
      ]
    },
    {
      "cell_type": "code",
      "source": [
        "# it might be better to used a normalized cosine similarity instead of scaling first and then doing it.\n",
        "from scipy import spatial\n",
        "from sklearn.preprocessing import Normalizer\n",
        "from sklearn.preprocessing import MinMaxScaler\n",
        "scaler = MinMaxScaler() #Transform features by scaling each feature to a given range\n",
        "transformer = Normalizer() #Each sample with at least one non zero component\n",
        "\n",
        "scaled_kpop_df = scaler.fit_transform(df_kpop_songs.iloc[:, 2:]) # drop the title and artist with the iloc(select specific row in data set)\n",
        "scaled_rap_df = scaler.fit_transform(df_rap_songs.iloc[:, 2:])\n",
        "\n",
        "\n",
        "# cos similarity of a rap and a k-pop song\n",
        "song1 = np.array(scaled_rap_df[1])\n",
        "song2 = np.array(scaled_kpop_df[2])\n",
        "result = 1 - spatial.distance.cosine(song1, song2)\n",
        "print(\"Cosine similarity of a rap and a k-pop song:\", result) #how similar irrespective of size "
      ],
      "metadata": {
        "colab": {
          "base_uri": "https://localhost:8080/"
        },
        "id": "bhXZO8pPqJhr",
        "outputId": "f7e6bef3-41e1-4a59-83fa-310b9af4458c"
      },
      "execution_count": null,
      "outputs": [
        {
          "output_type": "stream",
          "name": "stdout",
          "text": [
            "Cosine similarity of a rap and a k-pop song: 0.8490080833435059\n"
          ]
        }
      ]
    },
    {
      "cell_type": "code",
      "source": [
        "# cos similarity of two rap songs\n",
        "song1 = np.array(scaled_rap_df[1])\n",
        "song2 = np.array(scaled_rap_df[10])\n",
        "result = 1 - spatial.distance.cosine(song1, song2) #1d arrays\n",
        "print(\"Cosine similarity of two rap songs:\", result)"
      ],
      "metadata": {
        "colab": {
          "base_uri": "https://localhost:8080/"
        },
        "id": "h-cqIkpVqMtV",
        "outputId": "d41b6b53-3c45-4899-edb0-dd678e5fb22f"
      },
      "execution_count": null,
      "outputs": [
        {
          "output_type": "stream",
          "name": "stdout",
          "text": [
            "Cosine similarity of two rap songs: 0.9063965678215027\n"
          ]
        }
      ]
    },
    {
      "cell_type": "markdown",
      "source": [
        "**DIMENSIONALITY** **REDUCTION**"
      ],
      "metadata": {
        "id": "kOpYO28Mqp_W"
      }
    },
    {
      "cell_type": "code",
      "source": [
        "# let's add an OHE genre encoding\n",
        "df_rap_songs = df_rap_songs.assign(is_rap=1,\n",
        "                                   is_kpop=0\n",
        "                                   )\n",
        "df_kpop_songs = df_kpop_songs.assign(is_rap=0,\n",
        "                                     is_kpop=1\n",
        "                                     )\n",
        "df_rap_and_kpop = pd.concat([df_rap_songs, df_kpop_songs])\n",
        "X = scaler.fit_transform(df_rap_and_kpop.iloc[:, 2:])\n",
        "\n",
        "pca = PCA(n_components=10) #stablizes the component\n",
        "pca.fit(X)\n",
        "print(pca.explained_variance_ratio_)"
      ],
      "metadata": {
        "colab": {
          "base_uri": "https://localhost:8080/"
        },
        "id": "KnDF8QFwqg4s",
        "outputId": "d18bfd51-dbc0-453b-bd29-44466e4d59f3"
      },
      "execution_count": null,
      "outputs": [
        {
          "output_type": "stream",
          "name": "stdout",
          "text": [
            "[0.47312189 0.12979324 0.09884464 0.07443889 0.05210026 0.04172847\n",
            " 0.03648898 0.02833869 0.0214485  0.02025342]\n"
          ]
        }
      ]
    },
    {
      "cell_type": "code",
      "source": [
        "sns.lineplot(x=[x for x in range(1, 11)], y=pca.explained_variance_ratio_).set_title(\"Variance Explained vs Dimensions\");"
      ],
      "metadata": {
        "colab": {
          "base_uri": "https://localhost:8080/",
          "height": 373
        },
        "id": "3yRvsGwEqwvA",
        "outputId": "f24aefbe-bb89-478a-ca00-589a0c848dc4"
      },
      "execution_count": null,
      "outputs": [
        {
          "output_type": "display_data",
          "data": {
            "text/plain": [
              "<Figure size 432x288 with 1 Axes>"
            ],
            "image/svg+xml": "<?xml version=\"1.0\" encoding=\"utf-8\" standalone=\"no\"?>\n<!DOCTYPE svg PUBLIC \"-//W3C//DTD SVG 1.1//EN\"\n  \"http://www.w3.org/Graphics/SVG/1.1/DTD/svg11.dtd\">\n<!-- Created with matplotlib (https://matplotlib.org/) -->\n<svg height=\"263.63625pt\" version=\"1.1\" viewBox=\"0 0 372.103125 263.63625\" width=\"372.103125pt\" xmlns=\"http://www.w3.org/2000/svg\" xmlns:xlink=\"http://www.w3.org/1999/xlink\">\n <defs>\n  <style type=\"text/css\">\n*{stroke-linecap:butt;stroke-linejoin:round;}\n  </style>\n </defs>\n <g id=\"figure_1\">\n  <g id=\"patch_1\">\n   <path d=\"M 0 263.63625 \nL 372.103125 263.63625 \nL 372.103125 0 \nL 0 0 \nz\n\" style=\"fill:#ffffff;\"/>\n  </g>\n  <g id=\"axes_1\">\n   <g id=\"patch_2\">\n    <path d=\"M 30.103125 239.758125 \nL 364.903125 239.758125 \nL 364.903125 22.318125 \nL 30.103125 22.318125 \nz\n\" style=\"fill:#eaeaf2;\"/>\n   </g>\n   <g id=\"matplotlib.axis_1\">\n    <g id=\"xtick_1\">\n     <g id=\"line2d_1\">\n      <path clip-path=\"url(#p67e28062d1)\" d=\"M 79.139489 239.758125 \nL 79.139489 22.318125 \n\" style=\"fill:none;stroke:#ffffff;stroke-linecap:round;stroke-width:0.8;\"/>\n     </g>\n     <g id=\"text_1\">\n      <!-- 2 -->\n      <defs>\n       <path d=\"M 19.1875 8.296875 \nL 53.609375 8.296875 \nL 53.609375 0 \nL 7.328125 0 \nL 7.328125 8.296875 \nQ 12.9375 14.109375 22.625 23.890625 \nQ 32.328125 33.6875 34.8125 36.53125 \nQ 39.546875 41.84375 41.421875 45.53125 \nQ 43.3125 49.21875 43.3125 52.78125 \nQ 43.3125 58.59375 39.234375 62.25 \nQ 35.15625 65.921875 28.609375 65.921875 \nQ 23.96875 65.921875 18.8125 64.3125 \nQ 13.671875 62.703125 7.8125 59.421875 \nL 7.8125 69.390625 \nQ 13.765625 71.78125 18.9375 73 \nQ 24.125 74.21875 28.421875 74.21875 \nQ 39.75 74.21875 46.484375 68.546875 \nQ 53.21875 62.890625 53.21875 53.421875 \nQ 53.21875 48.921875 51.53125 44.890625 \nQ 49.859375 40.875 45.40625 35.40625 \nQ 44.1875 33.984375 37.640625 27.21875 \nQ 31.109375 20.453125 19.1875 8.296875 \nz\n\" id=\"DejaVuSans-50\"/>\n      </defs>\n      <g style=\"fill:#262626;\" transform=\"translate(75.958239 254.356563)scale(0.1 -0.1)\">\n       <use xlink:href=\"#DejaVuSans-50\"/>\n      </g>\n     </g>\n    </g>\n    <g id=\"xtick_2\">\n     <g id=\"line2d_2\">\n      <path clip-path=\"url(#p67e28062d1)\" d=\"M 146.775852 239.758125 \nL 146.775852 22.318125 \n\" style=\"fill:none;stroke:#ffffff;stroke-linecap:round;stroke-width:0.8;\"/>\n     </g>\n     <g id=\"text_2\">\n      <!-- 4 -->\n      <defs>\n       <path d=\"M 37.796875 64.3125 \nL 12.890625 25.390625 \nL 37.796875 25.390625 \nz\nM 35.203125 72.90625 \nL 47.609375 72.90625 \nL 47.609375 25.390625 \nL 58.015625 25.390625 \nL 58.015625 17.1875 \nL 47.609375 17.1875 \nL 47.609375 0 \nL 37.796875 0 \nL 37.796875 17.1875 \nL 4.890625 17.1875 \nL 4.890625 26.703125 \nz\n\" id=\"DejaVuSans-52\"/>\n      </defs>\n      <g style=\"fill:#262626;\" transform=\"translate(143.594602 254.356563)scale(0.1 -0.1)\">\n       <use xlink:href=\"#DejaVuSans-52\"/>\n      </g>\n     </g>\n    </g>\n    <g id=\"xtick_3\">\n     <g id=\"line2d_3\">\n      <path clip-path=\"url(#p67e28062d1)\" d=\"M 214.412216 239.758125 \nL 214.412216 22.318125 \n\" style=\"fill:none;stroke:#ffffff;stroke-linecap:round;stroke-width:0.8;\"/>\n     </g>\n     <g id=\"text_3\">\n      <!-- 6 -->\n      <defs>\n       <path d=\"M 33.015625 40.375 \nQ 26.375 40.375 22.484375 35.828125 \nQ 18.609375 31.296875 18.609375 23.390625 \nQ 18.609375 15.53125 22.484375 10.953125 \nQ 26.375 6.390625 33.015625 6.390625 \nQ 39.65625 6.390625 43.53125 10.953125 \nQ 47.40625 15.53125 47.40625 23.390625 \nQ 47.40625 31.296875 43.53125 35.828125 \nQ 39.65625 40.375 33.015625 40.375 \nz\nM 52.59375 71.296875 \nL 52.59375 62.3125 \nQ 48.875 64.0625 45.09375 64.984375 \nQ 41.3125 65.921875 37.59375 65.921875 \nQ 27.828125 65.921875 22.671875 59.328125 \nQ 17.53125 52.734375 16.796875 39.40625 \nQ 19.671875 43.65625 24.015625 45.921875 \nQ 28.375 48.1875 33.59375 48.1875 \nQ 44.578125 48.1875 50.953125 41.515625 \nQ 57.328125 34.859375 57.328125 23.390625 \nQ 57.328125 12.15625 50.6875 5.359375 \nQ 44.046875 -1.421875 33.015625 -1.421875 \nQ 20.359375 -1.421875 13.671875 8.265625 \nQ 6.984375 17.96875 6.984375 36.375 \nQ 6.984375 53.65625 15.1875 63.9375 \nQ 23.390625 74.21875 37.203125 74.21875 \nQ 40.921875 74.21875 44.703125 73.484375 \nQ 48.484375 72.75 52.59375 71.296875 \nz\n\" id=\"DejaVuSans-54\"/>\n      </defs>\n      <g style=\"fill:#262626;\" transform=\"translate(211.230966 254.356563)scale(0.1 -0.1)\">\n       <use xlink:href=\"#DejaVuSans-54\"/>\n      </g>\n     </g>\n    </g>\n    <g id=\"xtick_4\">\n     <g id=\"line2d_4\">\n      <path clip-path=\"url(#p67e28062d1)\" d=\"M 282.04858 239.758125 \nL 282.04858 22.318125 \n\" style=\"fill:none;stroke:#ffffff;stroke-linecap:round;stroke-width:0.8;\"/>\n     </g>\n     <g id=\"text_4\">\n      <!-- 8 -->\n      <defs>\n       <path d=\"M 31.78125 34.625 \nQ 24.75 34.625 20.71875 30.859375 \nQ 16.703125 27.09375 16.703125 20.515625 \nQ 16.703125 13.921875 20.71875 10.15625 \nQ 24.75 6.390625 31.78125 6.390625 \nQ 38.8125 6.390625 42.859375 10.171875 \nQ 46.921875 13.96875 46.921875 20.515625 \nQ 46.921875 27.09375 42.890625 30.859375 \nQ 38.875 34.625 31.78125 34.625 \nz\nM 21.921875 38.8125 \nQ 15.578125 40.375 12.03125 44.71875 \nQ 8.5 49.078125 8.5 55.328125 \nQ 8.5 64.0625 14.71875 69.140625 \nQ 20.953125 74.21875 31.78125 74.21875 \nQ 42.671875 74.21875 48.875 69.140625 \nQ 55.078125 64.0625 55.078125 55.328125 \nQ 55.078125 49.078125 51.53125 44.71875 \nQ 48 40.375 41.703125 38.8125 \nQ 48.828125 37.15625 52.796875 32.3125 \nQ 56.78125 27.484375 56.78125 20.515625 \nQ 56.78125 9.90625 50.3125 4.234375 \nQ 43.84375 -1.421875 31.78125 -1.421875 \nQ 19.734375 -1.421875 13.25 4.234375 \nQ 6.78125 9.90625 6.78125 20.515625 \nQ 6.78125 27.484375 10.78125 32.3125 \nQ 14.796875 37.15625 21.921875 38.8125 \nz\nM 18.3125 54.390625 \nQ 18.3125 48.734375 21.84375 45.5625 \nQ 25.390625 42.390625 31.78125 42.390625 \nQ 38.140625 42.390625 41.71875 45.5625 \nQ 45.3125 48.734375 45.3125 54.390625 \nQ 45.3125 60.0625 41.71875 63.234375 \nQ 38.140625 66.40625 31.78125 66.40625 \nQ 25.390625 66.40625 21.84375 63.234375 \nQ 18.3125 60.0625 18.3125 54.390625 \nz\n\" id=\"DejaVuSans-56\"/>\n      </defs>\n      <g style=\"fill:#262626;\" transform=\"translate(278.86733 254.356563)scale(0.1 -0.1)\">\n       <use xlink:href=\"#DejaVuSans-56\"/>\n      </g>\n     </g>\n    </g>\n    <g id=\"xtick_5\">\n     <g id=\"line2d_5\">\n      <path clip-path=\"url(#p67e28062d1)\" d=\"M 349.684943 239.758125 \nL 349.684943 22.318125 \n\" style=\"fill:none;stroke:#ffffff;stroke-linecap:round;stroke-width:0.8;\"/>\n     </g>\n     <g id=\"text_5\">\n      <!-- 10 -->\n      <defs>\n       <path d=\"M 12.40625 8.296875 \nL 28.515625 8.296875 \nL 28.515625 63.921875 \nL 10.984375 60.40625 \nL 10.984375 69.390625 \nL 28.421875 72.90625 \nL 38.28125 72.90625 \nL 38.28125 8.296875 \nL 54.390625 8.296875 \nL 54.390625 0 \nL 12.40625 0 \nz\n\" id=\"DejaVuSans-49\"/>\n       <path d=\"M 31.78125 66.40625 \nQ 24.171875 66.40625 20.328125 58.90625 \nQ 16.5 51.421875 16.5 36.375 \nQ 16.5 21.390625 20.328125 13.890625 \nQ 24.171875 6.390625 31.78125 6.390625 \nQ 39.453125 6.390625 43.28125 13.890625 \nQ 47.125 21.390625 47.125 36.375 \nQ 47.125 51.421875 43.28125 58.90625 \nQ 39.453125 66.40625 31.78125 66.40625 \nz\nM 31.78125 74.21875 \nQ 44.046875 74.21875 50.515625 64.515625 \nQ 56.984375 54.828125 56.984375 36.375 \nQ 56.984375 17.96875 50.515625 8.265625 \nQ 44.046875 -1.421875 31.78125 -1.421875 \nQ 19.53125 -1.421875 13.0625 8.265625 \nQ 6.59375 17.96875 6.59375 36.375 \nQ 6.59375 54.828125 13.0625 64.515625 \nQ 19.53125 74.21875 31.78125 74.21875 \nz\n\" id=\"DejaVuSans-48\"/>\n      </defs>\n      <g style=\"fill:#262626;\" transform=\"translate(343.322443 254.356563)scale(0.1 -0.1)\">\n       <use xlink:href=\"#DejaVuSans-49\"/>\n       <use x=\"63.623047\" xlink:href=\"#DejaVuSans-48\"/>\n      </g>\n     </g>\n    </g>\n   </g>\n   <g id=\"matplotlib.axis_2\">\n    <g id=\"ytick_1\">\n     <g id=\"line2d_6\">\n      <path clip-path=\"url(#p67e28062d1)\" d=\"M 30.103125 238.714913 \nL 364.903125 238.714913 \n\" style=\"fill:none;stroke:#ffffff;stroke-linecap:round;stroke-width:0.8;\"/>\n     </g>\n     <g id=\"text_6\">\n      <!-- 0.0 -->\n      <defs>\n       <path d=\"M 10.6875 12.40625 \nL 21 12.40625 \nL 21 0 \nL 10.6875 0 \nz\n\" id=\"DejaVuSans-46\"/>\n      </defs>\n      <g style=\"fill:#262626;\" transform=\"translate(7.2 242.514132)scale(0.1 -0.1)\">\n       <use xlink:href=\"#DejaVuSans-48\"/>\n       <use x=\"63.623047\" xlink:href=\"#DejaVuSans-46\"/>\n       <use x=\"95.410156\" xlink:href=\"#DejaVuSans-48\"/>\n      </g>\n     </g>\n    </g>\n    <g id=\"ytick_2\">\n     <g id=\"line2d_7\">\n      <path clip-path=\"url(#p67e28062d1)\" d=\"M 30.103125 195.065875 \nL 364.903125 195.065875 \n\" style=\"fill:none;stroke:#ffffff;stroke-linecap:round;stroke-width:0.8;\"/>\n     </g>\n     <g id=\"text_7\">\n      <!-- 0.1 -->\n      <g style=\"fill:#262626;\" transform=\"translate(7.2 198.865094)scale(0.1 -0.1)\">\n       <use xlink:href=\"#DejaVuSans-48\"/>\n       <use x=\"63.623047\" xlink:href=\"#DejaVuSans-46\"/>\n       <use x=\"95.410156\" xlink:href=\"#DejaVuSans-49\"/>\n      </g>\n     </g>\n    </g>\n    <g id=\"ytick_3\">\n     <g id=\"line2d_8\">\n      <path clip-path=\"url(#p67e28062d1)\" d=\"M 30.103125 151.416838 \nL 364.903125 151.416838 \n\" style=\"fill:none;stroke:#ffffff;stroke-linecap:round;stroke-width:0.8;\"/>\n     </g>\n     <g id=\"text_8\">\n      <!-- 0.2 -->\n      <g style=\"fill:#262626;\" transform=\"translate(7.2 155.216057)scale(0.1 -0.1)\">\n       <use xlink:href=\"#DejaVuSans-48\"/>\n       <use x=\"63.623047\" xlink:href=\"#DejaVuSans-46\"/>\n       <use x=\"95.410156\" xlink:href=\"#DejaVuSans-50\"/>\n      </g>\n     </g>\n    </g>\n    <g id=\"ytick_4\">\n     <g id=\"line2d_9\">\n      <path clip-path=\"url(#p67e28062d1)\" d=\"M 30.103125 107.767801 \nL 364.903125 107.767801 \n\" style=\"fill:none;stroke:#ffffff;stroke-linecap:round;stroke-width:0.8;\"/>\n     </g>\n     <g id=\"text_9\">\n      <!-- 0.3 -->\n      <defs>\n       <path d=\"M 40.578125 39.3125 \nQ 47.65625 37.796875 51.625 33 \nQ 55.609375 28.21875 55.609375 21.1875 \nQ 55.609375 10.40625 48.1875 4.484375 \nQ 40.765625 -1.421875 27.09375 -1.421875 \nQ 22.515625 -1.421875 17.65625 -0.515625 \nQ 12.796875 0.390625 7.625 2.203125 \nL 7.625 11.71875 \nQ 11.71875 9.328125 16.59375 8.109375 \nQ 21.484375 6.890625 26.8125 6.890625 \nQ 36.078125 6.890625 40.9375 10.546875 \nQ 45.796875 14.203125 45.796875 21.1875 \nQ 45.796875 27.640625 41.28125 31.265625 \nQ 36.765625 34.90625 28.71875 34.90625 \nL 20.21875 34.90625 \nL 20.21875 43.015625 \nL 29.109375 43.015625 \nQ 36.375 43.015625 40.234375 45.921875 \nQ 44.09375 48.828125 44.09375 54.296875 \nQ 44.09375 59.90625 40.109375 62.90625 \nQ 36.140625 65.921875 28.71875 65.921875 \nQ 24.65625 65.921875 20.015625 65.03125 \nQ 15.375 64.15625 9.8125 62.3125 \nL 9.8125 71.09375 \nQ 15.4375 72.65625 20.34375 73.4375 \nQ 25.25 74.21875 29.59375 74.21875 \nQ 40.828125 74.21875 47.359375 69.109375 \nQ 53.90625 64.015625 53.90625 55.328125 \nQ 53.90625 49.265625 50.4375 45.09375 \nQ 46.96875 40.921875 40.578125 39.3125 \nz\n\" id=\"DejaVuSans-51\"/>\n      </defs>\n      <g style=\"fill:#262626;\" transform=\"translate(7.2 111.56702)scale(0.1 -0.1)\">\n       <use xlink:href=\"#DejaVuSans-48\"/>\n       <use x=\"63.623047\" xlink:href=\"#DejaVuSans-46\"/>\n       <use x=\"95.410156\" xlink:href=\"#DejaVuSans-51\"/>\n      </g>\n     </g>\n    </g>\n    <g id=\"ytick_5\">\n     <g id=\"line2d_10\">\n      <path clip-path=\"url(#p67e28062d1)\" d=\"M 30.103125 64.118764 \nL 364.903125 64.118764 \n\" style=\"fill:none;stroke:#ffffff;stroke-linecap:round;stroke-width:0.8;\"/>\n     </g>\n     <g id=\"text_10\">\n      <!-- 0.4 -->\n      <g style=\"fill:#262626;\" transform=\"translate(7.2 67.917982)scale(0.1 -0.1)\">\n       <use xlink:href=\"#DejaVuSans-48\"/>\n       <use x=\"63.623047\" xlink:href=\"#DejaVuSans-46\"/>\n       <use x=\"95.410156\" xlink:href=\"#DejaVuSans-52\"/>\n      </g>\n     </g>\n    </g>\n   </g>\n   <g id=\"line2d_11\">\n    <path clip-path=\"url(#p67e28062d1)\" d=\"M 45.321307 32.201761 \nL 79.139489 182.061412 \nL 112.95767 195.570179 \nL 146.775852 206.223055 \nL 180.594034 215.973652 \nL 214.412216 220.500839 \nL 248.230398 222.787824 \nL 282.04858 226.345346 \nL 315.866761 229.352847 \nL 349.684943 229.874489 \n\" style=\"fill:none;stroke:#386df9;stroke-linecap:round;stroke-width:1.5;\"/>\n   </g>\n   <g id=\"patch_3\">\n    <path d=\"M 30.103125 239.758125 \nL 30.103125 22.318125 \n\" style=\"fill:none;stroke:#ffffff;stroke-linecap:square;stroke-linejoin:miter;stroke-width:0.8;\"/>\n   </g>\n   <g id=\"patch_4\">\n    <path d=\"M 364.903125 239.758125 \nL 364.903125 22.318125 \n\" style=\"fill:none;stroke:#ffffff;stroke-linecap:square;stroke-linejoin:miter;stroke-width:0.8;\"/>\n   </g>\n   <g id=\"patch_5\">\n    <path d=\"M 30.103125 239.758125 \nL 364.903125 239.758125 \n\" style=\"fill:none;stroke:#ffffff;stroke-linecap:square;stroke-linejoin:miter;stroke-width:0.8;\"/>\n   </g>\n   <g id=\"patch_6\">\n    <path d=\"M 30.103125 22.318125 \nL 364.903125 22.318125 \n\" style=\"fill:none;stroke:#ffffff;stroke-linecap:square;stroke-linejoin:miter;stroke-width:0.8;\"/>\n   </g>\n   <g id=\"text_11\">\n    <!-- Variance Explained vs Dimensions -->\n    <defs>\n     <path d=\"M 28.609375 0 \nL 0.78125 72.90625 \nL 11.078125 72.90625 \nL 34.1875 11.53125 \nL 57.328125 72.90625 \nL 67.578125 72.90625 \nL 39.796875 0 \nz\n\" id=\"DejaVuSans-86\"/>\n     <path d=\"M 34.28125 27.484375 \nQ 23.390625 27.484375 19.1875 25 \nQ 14.984375 22.515625 14.984375 16.5 \nQ 14.984375 11.71875 18.140625 8.90625 \nQ 21.296875 6.109375 26.703125 6.109375 \nQ 34.1875 6.109375 38.703125 11.40625 \nQ 43.21875 16.703125 43.21875 25.484375 \nL 43.21875 27.484375 \nz\nM 52.203125 31.203125 \nL 52.203125 0 \nL 43.21875 0 \nL 43.21875 8.296875 \nQ 40.140625 3.328125 35.546875 0.953125 \nQ 30.953125 -1.421875 24.3125 -1.421875 \nQ 15.921875 -1.421875 10.953125 3.296875 \nQ 6 8.015625 6 15.921875 \nQ 6 25.140625 12.171875 29.828125 \nQ 18.359375 34.515625 30.609375 34.515625 \nL 43.21875 34.515625 \nL 43.21875 35.40625 \nQ 43.21875 41.609375 39.140625 45 \nQ 35.0625 48.390625 27.6875 48.390625 \nQ 23 48.390625 18.546875 47.265625 \nQ 14.109375 46.140625 10.015625 43.890625 \nL 10.015625 52.203125 \nQ 14.9375 54.109375 19.578125 55.046875 \nQ 24.21875 56 28.609375 56 \nQ 40.484375 56 46.34375 49.84375 \nQ 52.203125 43.703125 52.203125 31.203125 \nz\n\" id=\"DejaVuSans-97\"/>\n     <path d=\"M 41.109375 46.296875 \nQ 39.59375 47.171875 37.8125 47.578125 \nQ 36.03125 48 33.890625 48 \nQ 26.265625 48 22.1875 43.046875 \nQ 18.109375 38.09375 18.109375 28.8125 \nL 18.109375 0 \nL 9.078125 0 \nL 9.078125 54.6875 \nL 18.109375 54.6875 \nL 18.109375 46.1875 \nQ 20.953125 51.171875 25.484375 53.578125 \nQ 30.03125 56 36.53125 56 \nQ 37.453125 56 38.578125 55.875 \nQ 39.703125 55.765625 41.0625 55.515625 \nz\n\" id=\"DejaVuSans-114\"/>\n     <path d=\"M 9.421875 54.6875 \nL 18.40625 54.6875 \nL 18.40625 0 \nL 9.421875 0 \nz\nM 9.421875 75.984375 \nL 18.40625 75.984375 \nL 18.40625 64.59375 \nL 9.421875 64.59375 \nz\n\" id=\"DejaVuSans-105\"/>\n     <path d=\"M 54.890625 33.015625 \nL 54.890625 0 \nL 45.90625 0 \nL 45.90625 32.71875 \nQ 45.90625 40.484375 42.875 44.328125 \nQ 39.84375 48.1875 33.796875 48.1875 \nQ 26.515625 48.1875 22.3125 43.546875 \nQ 18.109375 38.921875 18.109375 30.90625 \nL 18.109375 0 \nL 9.078125 0 \nL 9.078125 54.6875 \nL 18.109375 54.6875 \nL 18.109375 46.1875 \nQ 21.34375 51.125 25.703125 53.5625 \nQ 30.078125 56 35.796875 56 \nQ 45.21875 56 50.046875 50.171875 \nQ 54.890625 44.34375 54.890625 33.015625 \nz\n\" id=\"DejaVuSans-110\"/>\n     <path d=\"M 48.78125 52.59375 \nL 48.78125 44.1875 \nQ 44.96875 46.296875 41.140625 47.34375 \nQ 37.3125 48.390625 33.40625 48.390625 \nQ 24.65625 48.390625 19.8125 42.84375 \nQ 14.984375 37.3125 14.984375 27.296875 \nQ 14.984375 17.28125 19.8125 11.734375 \nQ 24.65625 6.203125 33.40625 6.203125 \nQ 37.3125 6.203125 41.140625 7.25 \nQ 44.96875 8.296875 48.78125 10.40625 \nL 48.78125 2.09375 \nQ 45.015625 0.34375 40.984375 -0.53125 \nQ 36.96875 -1.421875 32.421875 -1.421875 \nQ 20.0625 -1.421875 12.78125 6.34375 \nQ 5.515625 14.109375 5.515625 27.296875 \nQ 5.515625 40.671875 12.859375 48.328125 \nQ 20.21875 56 33.015625 56 \nQ 37.15625 56 41.109375 55.140625 \nQ 45.0625 54.296875 48.78125 52.59375 \nz\n\" id=\"DejaVuSans-99\"/>\n     <path d=\"M 56.203125 29.59375 \nL 56.203125 25.203125 \nL 14.890625 25.203125 \nQ 15.484375 15.921875 20.484375 11.0625 \nQ 25.484375 6.203125 34.421875 6.203125 \nQ 39.59375 6.203125 44.453125 7.46875 \nQ 49.3125 8.734375 54.109375 11.28125 \nL 54.109375 2.78125 \nQ 49.265625 0.734375 44.1875 -0.34375 \nQ 39.109375 -1.421875 33.890625 -1.421875 \nQ 20.796875 -1.421875 13.15625 6.1875 \nQ 5.515625 13.8125 5.515625 26.8125 \nQ 5.515625 40.234375 12.765625 48.109375 \nQ 20.015625 56 32.328125 56 \nQ 43.359375 56 49.78125 48.890625 \nQ 56.203125 41.796875 56.203125 29.59375 \nz\nM 47.21875 32.234375 \nQ 47.125 39.59375 43.09375 43.984375 \nQ 39.0625 48.390625 32.421875 48.390625 \nQ 24.90625 48.390625 20.390625 44.140625 \nQ 15.875 39.890625 15.1875 32.171875 \nz\n\" id=\"DejaVuSans-101\"/>\n     <path id=\"DejaVuSans-32\"/>\n     <path d=\"M 9.8125 72.90625 \nL 55.90625 72.90625 \nL 55.90625 64.59375 \nL 19.671875 64.59375 \nL 19.671875 43.015625 \nL 54.390625 43.015625 \nL 54.390625 34.71875 \nL 19.671875 34.71875 \nL 19.671875 8.296875 \nL 56.78125 8.296875 \nL 56.78125 0 \nL 9.8125 0 \nz\n\" id=\"DejaVuSans-69\"/>\n     <path d=\"M 54.890625 54.6875 \nL 35.109375 28.078125 \nL 55.90625 0 \nL 45.3125 0 \nL 29.390625 21.484375 \nL 13.484375 0 \nL 2.875 0 \nL 24.125 28.609375 \nL 4.6875 54.6875 \nL 15.28125 54.6875 \nL 29.78125 35.203125 \nL 44.28125 54.6875 \nz\n\" id=\"DejaVuSans-120\"/>\n     <path d=\"M 18.109375 8.203125 \nL 18.109375 -20.796875 \nL 9.078125 -20.796875 \nL 9.078125 54.6875 \nL 18.109375 54.6875 \nL 18.109375 46.390625 \nQ 20.953125 51.265625 25.265625 53.625 \nQ 29.59375 56 35.59375 56 \nQ 45.5625 56 51.78125 48.09375 \nQ 58.015625 40.1875 58.015625 27.296875 \nQ 58.015625 14.40625 51.78125 6.484375 \nQ 45.5625 -1.421875 35.59375 -1.421875 \nQ 29.59375 -1.421875 25.265625 0.953125 \nQ 20.953125 3.328125 18.109375 8.203125 \nz\nM 48.6875 27.296875 \nQ 48.6875 37.203125 44.609375 42.84375 \nQ 40.53125 48.484375 33.40625 48.484375 \nQ 26.265625 48.484375 22.1875 42.84375 \nQ 18.109375 37.203125 18.109375 27.296875 \nQ 18.109375 17.390625 22.1875 11.75 \nQ 26.265625 6.109375 33.40625 6.109375 \nQ 40.53125 6.109375 44.609375 11.75 \nQ 48.6875 17.390625 48.6875 27.296875 \nz\n\" id=\"DejaVuSans-112\"/>\n     <path d=\"M 9.421875 75.984375 \nL 18.40625 75.984375 \nL 18.40625 0 \nL 9.421875 0 \nz\n\" id=\"DejaVuSans-108\"/>\n     <path d=\"M 45.40625 46.390625 \nL 45.40625 75.984375 \nL 54.390625 75.984375 \nL 54.390625 0 \nL 45.40625 0 \nL 45.40625 8.203125 \nQ 42.578125 3.328125 38.25 0.953125 \nQ 33.9375 -1.421875 27.875 -1.421875 \nQ 17.96875 -1.421875 11.734375 6.484375 \nQ 5.515625 14.40625 5.515625 27.296875 \nQ 5.515625 40.1875 11.734375 48.09375 \nQ 17.96875 56 27.875 56 \nQ 33.9375 56 38.25 53.625 \nQ 42.578125 51.265625 45.40625 46.390625 \nz\nM 14.796875 27.296875 \nQ 14.796875 17.390625 18.875 11.75 \nQ 22.953125 6.109375 30.078125 6.109375 \nQ 37.203125 6.109375 41.296875 11.75 \nQ 45.40625 17.390625 45.40625 27.296875 \nQ 45.40625 37.203125 41.296875 42.84375 \nQ 37.203125 48.484375 30.078125 48.484375 \nQ 22.953125 48.484375 18.875 42.84375 \nQ 14.796875 37.203125 14.796875 27.296875 \nz\n\" id=\"DejaVuSans-100\"/>\n     <path d=\"M 2.984375 54.6875 \nL 12.5 54.6875 \nL 29.59375 8.796875 \nL 46.6875 54.6875 \nL 56.203125 54.6875 \nL 35.6875 0 \nL 23.484375 0 \nz\n\" id=\"DejaVuSans-118\"/>\n     <path d=\"M 44.28125 53.078125 \nL 44.28125 44.578125 \nQ 40.484375 46.53125 36.375 47.5 \nQ 32.28125 48.484375 27.875 48.484375 \nQ 21.1875 48.484375 17.84375 46.4375 \nQ 14.5 44.390625 14.5 40.28125 \nQ 14.5 37.15625 16.890625 35.375 \nQ 19.28125 33.59375 26.515625 31.984375 \nL 29.59375 31.296875 \nQ 39.15625 29.25 43.1875 25.515625 \nQ 47.21875 21.78125 47.21875 15.09375 \nQ 47.21875 7.46875 41.1875 3.015625 \nQ 35.15625 -1.421875 24.609375 -1.421875 \nQ 20.21875 -1.421875 15.453125 -0.5625 \nQ 10.6875 0.296875 5.421875 2 \nL 5.421875 11.28125 \nQ 10.40625 8.6875 15.234375 7.390625 \nQ 20.0625 6.109375 24.8125 6.109375 \nQ 31.15625 6.109375 34.5625 8.28125 \nQ 37.984375 10.453125 37.984375 14.40625 \nQ 37.984375 18.0625 35.515625 20.015625 \nQ 33.0625 21.96875 24.703125 23.78125 \nL 21.578125 24.515625 \nQ 13.234375 26.265625 9.515625 29.90625 \nQ 5.8125 33.546875 5.8125 39.890625 \nQ 5.8125 47.609375 11.28125 51.796875 \nQ 16.75 56 26.8125 56 \nQ 31.78125 56 36.171875 55.265625 \nQ 40.578125 54.546875 44.28125 53.078125 \nz\n\" id=\"DejaVuSans-115\"/>\n     <path d=\"M 19.671875 64.796875 \nL 19.671875 8.109375 \nL 31.59375 8.109375 \nQ 46.6875 8.109375 53.6875 14.9375 \nQ 60.6875 21.78125 60.6875 36.53125 \nQ 60.6875 51.171875 53.6875 57.984375 \nQ 46.6875 64.796875 31.59375 64.796875 \nz\nM 9.8125 72.90625 \nL 30.078125 72.90625 \nQ 51.265625 72.90625 61.171875 64.09375 \nQ 71.09375 55.28125 71.09375 36.53125 \nQ 71.09375 17.671875 61.125 8.828125 \nQ 51.171875 0 30.078125 0 \nL 9.8125 0 \nz\n\" id=\"DejaVuSans-68\"/>\n     <path d=\"M 52 44.1875 \nQ 55.375 50.25 60.0625 53.125 \nQ 64.75 56 71.09375 56 \nQ 79.640625 56 84.28125 50.015625 \nQ 88.921875 44.046875 88.921875 33.015625 \nL 88.921875 0 \nL 79.890625 0 \nL 79.890625 32.71875 \nQ 79.890625 40.578125 77.09375 44.375 \nQ 74.3125 48.1875 68.609375 48.1875 \nQ 61.625 48.1875 57.5625 43.546875 \nQ 53.515625 38.921875 53.515625 30.90625 \nL 53.515625 0 \nL 44.484375 0 \nL 44.484375 32.71875 \nQ 44.484375 40.625 41.703125 44.40625 \nQ 38.921875 48.1875 33.109375 48.1875 \nQ 26.21875 48.1875 22.15625 43.53125 \nQ 18.109375 38.875 18.109375 30.90625 \nL 18.109375 0 \nL 9.078125 0 \nL 9.078125 54.6875 \nL 18.109375 54.6875 \nL 18.109375 46.1875 \nQ 21.1875 51.21875 25.484375 53.609375 \nQ 29.78125 56 35.6875 56 \nQ 41.65625 56 45.828125 52.96875 \nQ 50 49.953125 52 44.1875 \nz\n\" id=\"DejaVuSans-109\"/>\n     <path d=\"M 30.609375 48.390625 \nQ 23.390625 48.390625 19.1875 42.75 \nQ 14.984375 37.109375 14.984375 27.296875 \nQ 14.984375 17.484375 19.15625 11.84375 \nQ 23.34375 6.203125 30.609375 6.203125 \nQ 37.796875 6.203125 41.984375 11.859375 \nQ 46.1875 17.53125 46.1875 27.296875 \nQ 46.1875 37.015625 41.984375 42.703125 \nQ 37.796875 48.390625 30.609375 48.390625 \nz\nM 30.609375 56 \nQ 42.328125 56 49.015625 48.375 \nQ 55.71875 40.765625 55.71875 27.296875 \nQ 55.71875 13.875 49.015625 6.21875 \nQ 42.328125 -1.421875 30.609375 -1.421875 \nQ 18.84375 -1.421875 12.171875 6.21875 \nQ 5.515625 13.875 5.515625 27.296875 \nQ 5.515625 40.765625 12.171875 48.375 \nQ 18.84375 56 30.609375 56 \nz\n\" id=\"DejaVuSans-111\"/>\n    </defs>\n    <g style=\"fill:#262626;\" transform=\"translate(94.7025 16.318125)scale(0.12 -0.12)\">\n     <use xlink:href=\"#DejaVuSans-86\"/>\n     <use x=\"60.658203\" xlink:href=\"#DejaVuSans-97\"/>\n     <use x=\"121.9375\" xlink:href=\"#DejaVuSans-114\"/>\n     <use x=\"163.050781\" xlink:href=\"#DejaVuSans-105\"/>\n     <use x=\"190.833984\" xlink:href=\"#DejaVuSans-97\"/>\n     <use x=\"252.113281\" xlink:href=\"#DejaVuSans-110\"/>\n     <use x=\"315.492188\" xlink:href=\"#DejaVuSans-99\"/>\n     <use x=\"370.472656\" xlink:href=\"#DejaVuSans-101\"/>\n     <use x=\"431.996094\" xlink:href=\"#DejaVuSans-32\"/>\n     <use x=\"463.783203\" xlink:href=\"#DejaVuSans-69\"/>\n     <use x=\"526.966797\" xlink:href=\"#DejaVuSans-120\"/>\n     <use x=\"586.146484\" xlink:href=\"#DejaVuSans-112\"/>\n     <use x=\"649.623047\" xlink:href=\"#DejaVuSans-108\"/>\n     <use x=\"677.40625\" xlink:href=\"#DejaVuSans-97\"/>\n     <use x=\"738.685547\" xlink:href=\"#DejaVuSans-105\"/>\n     <use x=\"766.46875\" xlink:href=\"#DejaVuSans-110\"/>\n     <use x=\"829.847656\" xlink:href=\"#DejaVuSans-101\"/>\n     <use x=\"891.371094\" xlink:href=\"#DejaVuSans-100\"/>\n     <use x=\"954.847656\" xlink:href=\"#DejaVuSans-32\"/>\n     <use x=\"986.634766\" xlink:href=\"#DejaVuSans-118\"/>\n     <use x=\"1045.814453\" xlink:href=\"#DejaVuSans-115\"/>\n     <use x=\"1097.914062\" xlink:href=\"#DejaVuSans-32\"/>\n     <use x=\"1129.701172\" xlink:href=\"#DejaVuSans-68\"/>\n     <use x=\"1206.703125\" xlink:href=\"#DejaVuSans-105\"/>\n     <use x=\"1234.486328\" xlink:href=\"#DejaVuSans-109\"/>\n     <use x=\"1331.898438\" xlink:href=\"#DejaVuSans-101\"/>\n     <use x=\"1393.421875\" xlink:href=\"#DejaVuSans-110\"/>\n     <use x=\"1456.800781\" xlink:href=\"#DejaVuSans-115\"/>\n     <use x=\"1508.900391\" xlink:href=\"#DejaVuSans-105\"/>\n     <use x=\"1536.683594\" xlink:href=\"#DejaVuSans-111\"/>\n     <use x=\"1597.865234\" xlink:href=\"#DejaVuSans-110\"/>\n     <use x=\"1661.244141\" xlink:href=\"#DejaVuSans-115\"/>\n    </g>\n   </g>\n  </g>\n </g>\n <defs>\n  <clipPath id=\"p67e28062d1\">\n   <rect height=\"217.44\" width=\"334.8\" x=\"30.103125\" y=\"22.318125\"/>\n  </clipPath>\n </defs>\n</svg>\n"
          },
          "metadata": {}
        }
      ]
    },
    {
      "cell_type": "code",
      "source": [
        "pca = PCA(n_components=2)\n",
        "principalComponents = pca.fit_transform(X)\n",
        "PCA_components = pd.DataFrame(principalComponents)\n",
        "\n",
        "# sns.scatterplot(data=principalComponents, alpha=.1)\n",
        "sns.scatterplot(x=PCA_components[0], y=PCA_components[1], alpha=.1).set_title(\"First 2 PCA Components\");\n",
        "plt.xlabel('PCA 1');\n",
        "plt.ylabel('PCA 2');"
      ],
      "metadata": {
        "colab": {
          "base_uri": "https://localhost:8080/",
          "height": 391
        },
        "id": "9dHhxlD4q0-T",
        "outputId": "94dc6650-10e4-4886-e6df-21faa2311e1c"
      },
      "execution_count": null,
      "outputs": [
        {
          "output_type": "display_data",
          "data": {
            "text/plain": [
              "<Figure size 432x288 with 1 Axes>"
            ],
            "image/svg+xml": "<?xml version=\"1.0\" encoding=\"utf-8\" standalone=\"no\"?>\n<!DOCTYPE svg PUBLIC \"-//W3C//DTD SVG 1.1//EN\"\n  \"http://www.w3.org/Graphics/SVG/1.1/DTD/svg11.dtd\">\n<!-- Created with matplotlib (https://matplotlib.org/) -->\n<svg height=\"277.314375pt\" version=\"1.1\" viewBox=\"0 0 400.523438 277.314375\" width=\"400.523438pt\" xmlns=\"http://www.w3.org/2000/svg\" xmlns:xlink=\"http://www.w3.org/1999/xlink\">\n <defs>\n  <style type=\"text/css\">\n*{stroke-linecap:butt;stroke-linejoin:round;}\n  </style>\n </defs>\n <g id=\"figure_1\">\n  <g id=\"patch_1\">\n   <path d=\"M 0 277.314375 \nL 400.523438 277.314375 \nL 400.523438 0 \nL 0 0 \nz\n\" style=\"fill:#ffffff;\"/>\n  </g>\n  <g id=\"axes_1\">\n   <g id=\"patch_2\">\n    <path d=\"M 58.523438 239.758125 \nL 393.323438 239.758125 \nL 393.323438 22.318125 \nL 58.523438 22.318125 \nz\n\" style=\"fill:#eaeaf2;\"/>\n   </g>\n   <g id=\"matplotlib.axis_1\">\n    <g id=\"xtick_1\">\n     <g id=\"line2d_1\">\n      <path clip-path=\"url(#pb0622306e2)\" d=\"M 93.762273 239.758125 \nL 93.762273 22.318125 \n\" style=\"fill:none;stroke:#ffffff;stroke-linecap:round;stroke-width:0.8;\"/>\n     </g>\n     <g id=\"text_1\">\n      <!-- −0.25 -->\n      <defs>\n       <path d=\"M 10.59375 35.5 \nL 73.1875 35.5 \nL 73.1875 27.203125 \nL 10.59375 27.203125 \nz\n\" id=\"DejaVuSans-8722\"/>\n       <path d=\"M 31.78125 66.40625 \nQ 24.171875 66.40625 20.328125 58.90625 \nQ 16.5 51.421875 16.5 36.375 \nQ 16.5 21.390625 20.328125 13.890625 \nQ 24.171875 6.390625 31.78125 6.390625 \nQ 39.453125 6.390625 43.28125 13.890625 \nQ 47.125 21.390625 47.125 36.375 \nQ 47.125 51.421875 43.28125 58.90625 \nQ 39.453125 66.40625 31.78125 66.40625 \nz\nM 31.78125 74.21875 \nQ 44.046875 74.21875 50.515625 64.515625 \nQ 56.984375 54.828125 56.984375 36.375 \nQ 56.984375 17.96875 50.515625 8.265625 \nQ 44.046875 -1.421875 31.78125 -1.421875 \nQ 19.53125 -1.421875 13.0625 8.265625 \nQ 6.59375 17.96875 6.59375 36.375 \nQ 6.59375 54.828125 13.0625 64.515625 \nQ 19.53125 74.21875 31.78125 74.21875 \nz\n\" id=\"DejaVuSans-48\"/>\n       <path d=\"M 10.6875 12.40625 \nL 21 12.40625 \nL 21 0 \nL 10.6875 0 \nz\n\" id=\"DejaVuSans-46\"/>\n       <path d=\"M 19.1875 8.296875 \nL 53.609375 8.296875 \nL 53.609375 0 \nL 7.328125 0 \nL 7.328125 8.296875 \nQ 12.9375 14.109375 22.625 23.890625 \nQ 32.328125 33.6875 34.8125 36.53125 \nQ 39.546875 41.84375 41.421875 45.53125 \nQ 43.3125 49.21875 43.3125 52.78125 \nQ 43.3125 58.59375 39.234375 62.25 \nQ 35.15625 65.921875 28.609375 65.921875 \nQ 23.96875 65.921875 18.8125 64.3125 \nQ 13.671875 62.703125 7.8125 59.421875 \nL 7.8125 69.390625 \nQ 13.765625 71.78125 18.9375 73 \nQ 24.125 74.21875 28.421875 74.21875 \nQ 39.75 74.21875 46.484375 68.546875 \nQ 53.21875 62.890625 53.21875 53.421875 \nQ 53.21875 48.921875 51.53125 44.890625 \nQ 49.859375 40.875 45.40625 35.40625 \nQ 44.1875 33.984375 37.640625 27.21875 \nQ 31.109375 20.453125 19.1875 8.296875 \nz\n\" id=\"DejaVuSans-50\"/>\n       <path d=\"M 10.796875 72.90625 \nL 49.515625 72.90625 \nL 49.515625 64.59375 \nL 19.828125 64.59375 \nL 19.828125 46.734375 \nQ 21.96875 47.46875 24.109375 47.828125 \nQ 26.265625 48.1875 28.421875 48.1875 \nQ 40.625 48.1875 47.75 41.5 \nQ 54.890625 34.8125 54.890625 23.390625 \nQ 54.890625 11.625 47.5625 5.09375 \nQ 40.234375 -1.421875 26.90625 -1.421875 \nQ 22.3125 -1.421875 17.546875 -0.640625 \nQ 12.796875 0.140625 7.71875 1.703125 \nL 7.71875 11.625 \nQ 12.109375 9.234375 16.796875 8.0625 \nQ 21.484375 6.890625 26.703125 6.890625 \nQ 35.15625 6.890625 40.078125 11.328125 \nQ 45.015625 15.765625 45.015625 23.390625 \nQ 45.015625 31 40.078125 35.4375 \nQ 35.15625 39.890625 26.703125 39.890625 \nQ 22.75 39.890625 18.8125 39.015625 \nQ 14.890625 38.140625 10.796875 36.28125 \nz\n\" id=\"DejaVuSans-53\"/>\n      </defs>\n      <g style=\"fill:#262626;\" transform=\"translate(78.439617 254.356562)scale(0.1 -0.1)\">\n       <use xlink:href=\"#DejaVuSans-8722\"/>\n       <use x=\"83.789062\" xlink:href=\"#DejaVuSans-48\"/>\n       <use x=\"147.412109\" xlink:href=\"#DejaVuSans-46\"/>\n       <use x=\"179.199219\" xlink:href=\"#DejaVuSans-50\"/>\n       <use x=\"242.822266\" xlink:href=\"#DejaVuSans-53\"/>\n      </g>\n     </g>\n    </g>\n    <g id=\"xtick_2\">\n     <g id=\"line2d_2\">\n      <path clip-path=\"url(#pb0622306e2)\" d=\"M 139.675988 239.758125 \nL 139.675988 22.318125 \n\" style=\"fill:none;stroke:#ffffff;stroke-linecap:round;stroke-width:0.8;\"/>\n     </g>\n     <g id=\"text_2\">\n      <!-- 0.00 -->\n      <g style=\"fill:#262626;\" transform=\"translate(128.543176 254.356562)scale(0.1 -0.1)\">\n       <use xlink:href=\"#DejaVuSans-48\"/>\n       <use x=\"63.623047\" xlink:href=\"#DejaVuSans-46\"/>\n       <use x=\"95.410156\" xlink:href=\"#DejaVuSans-48\"/>\n       <use x=\"159.033203\" xlink:href=\"#DejaVuSans-48\"/>\n      </g>\n     </g>\n    </g>\n    <g id=\"xtick_3\">\n     <g id=\"line2d_3\">\n      <path clip-path=\"url(#pb0622306e2)\" d=\"M 185.589704 239.758125 \nL 185.589704 22.318125 \n\" style=\"fill:none;stroke:#ffffff;stroke-linecap:round;stroke-width:0.8;\"/>\n     </g>\n     <g id=\"text_3\">\n      <!-- 0.25 -->\n      <g style=\"fill:#262626;\" transform=\"translate(174.456892 254.356562)scale(0.1 -0.1)\">\n       <use xlink:href=\"#DejaVuSans-48\"/>\n       <use x=\"63.623047\" xlink:href=\"#DejaVuSans-46\"/>\n       <use x=\"95.410156\" xlink:href=\"#DejaVuSans-50\"/>\n       <use x=\"159.033203\" xlink:href=\"#DejaVuSans-53\"/>\n      </g>\n     </g>\n    </g>\n    <g id=\"xtick_4\">\n     <g id=\"line2d_4\">\n      <path clip-path=\"url(#pb0622306e2)\" d=\"M 231.50342 239.758125 \nL 231.50342 22.318125 \n\" style=\"fill:none;stroke:#ffffff;stroke-linecap:round;stroke-width:0.8;\"/>\n     </g>\n     <g id=\"text_4\">\n      <!-- 0.50 -->\n      <g style=\"fill:#262626;\" transform=\"translate(220.370607 254.356562)scale(0.1 -0.1)\">\n       <use xlink:href=\"#DejaVuSans-48\"/>\n       <use x=\"63.623047\" xlink:href=\"#DejaVuSans-46\"/>\n       <use x=\"95.410156\" xlink:href=\"#DejaVuSans-53\"/>\n       <use x=\"159.033203\" xlink:href=\"#DejaVuSans-48\"/>\n      </g>\n     </g>\n    </g>\n    <g id=\"xtick_5\">\n     <g id=\"line2d_5\">\n      <path clip-path=\"url(#pb0622306e2)\" d=\"M 277.417135 239.758125 \nL 277.417135 22.318125 \n\" style=\"fill:none;stroke:#ffffff;stroke-linecap:round;stroke-width:0.8;\"/>\n     </g>\n     <g id=\"text_5\">\n      <!-- 0.75 -->\n      <defs>\n       <path d=\"M 8.203125 72.90625 \nL 55.078125 72.90625 \nL 55.078125 68.703125 \nL 28.609375 0 \nL 18.3125 0 \nL 43.21875 64.59375 \nL 8.203125 64.59375 \nz\n\" id=\"DejaVuSans-55\"/>\n      </defs>\n      <g style=\"fill:#262626;\" transform=\"translate(266.284323 254.356562)scale(0.1 -0.1)\">\n       <use xlink:href=\"#DejaVuSans-48\"/>\n       <use x=\"63.623047\" xlink:href=\"#DejaVuSans-46\"/>\n       <use x=\"95.410156\" xlink:href=\"#DejaVuSans-55\"/>\n       <use x=\"159.033203\" xlink:href=\"#DejaVuSans-53\"/>\n      </g>\n     </g>\n    </g>\n    <g id=\"xtick_6\">\n     <g id=\"line2d_6\">\n      <path clip-path=\"url(#pb0622306e2)\" d=\"M 323.330851 239.758125 \nL 323.330851 22.318125 \n\" style=\"fill:none;stroke:#ffffff;stroke-linecap:round;stroke-width:0.8;\"/>\n     </g>\n     <g id=\"text_6\">\n      <!-- 1.00 -->\n      <defs>\n       <path d=\"M 12.40625 8.296875 \nL 28.515625 8.296875 \nL 28.515625 63.921875 \nL 10.984375 60.40625 \nL 10.984375 69.390625 \nL 28.421875 72.90625 \nL 38.28125 72.90625 \nL 38.28125 8.296875 \nL 54.390625 8.296875 \nL 54.390625 0 \nL 12.40625 0 \nz\n\" id=\"DejaVuSans-49\"/>\n      </defs>\n      <g style=\"fill:#262626;\" transform=\"translate(312.198039 254.356562)scale(0.1 -0.1)\">\n       <use xlink:href=\"#DejaVuSans-49\"/>\n       <use x=\"63.623047\" xlink:href=\"#DejaVuSans-46\"/>\n       <use x=\"95.410156\" xlink:href=\"#DejaVuSans-48\"/>\n       <use x=\"159.033203\" xlink:href=\"#DejaVuSans-48\"/>\n      </g>\n     </g>\n    </g>\n    <g id=\"xtick_7\">\n     <g id=\"line2d_7\">\n      <path clip-path=\"url(#pb0622306e2)\" d=\"M 369.244567 239.758125 \nL 369.244567 22.318125 \n\" style=\"fill:none;stroke:#ffffff;stroke-linecap:round;stroke-width:0.8;\"/>\n     </g>\n     <g id=\"text_7\">\n      <!-- 1.25 -->\n      <g style=\"fill:#262626;\" transform=\"translate(358.111754 254.356562)scale(0.1 -0.1)\">\n       <use xlink:href=\"#DejaVuSans-49\"/>\n       <use x=\"63.623047\" xlink:href=\"#DejaVuSans-46\"/>\n       <use x=\"95.410156\" xlink:href=\"#DejaVuSans-50\"/>\n       <use x=\"159.033203\" xlink:href=\"#DejaVuSans-53\"/>\n      </g>\n     </g>\n    </g>\n    <g id=\"text_8\">\n     <!-- PCA 1 -->\n     <defs>\n      <path d=\"M 19.671875 64.796875 \nL 19.671875 37.40625 \nL 32.078125 37.40625 \nQ 38.96875 37.40625 42.71875 40.96875 \nQ 46.484375 44.53125 46.484375 51.125 \nQ 46.484375 57.671875 42.71875 61.234375 \nQ 38.96875 64.796875 32.078125 64.796875 \nz\nM 9.8125 72.90625 \nL 32.078125 72.90625 \nQ 44.34375 72.90625 50.609375 67.359375 \nQ 56.890625 61.8125 56.890625 51.125 \nQ 56.890625 40.328125 50.609375 34.8125 \nQ 44.34375 29.296875 32.078125 29.296875 \nL 19.671875 29.296875 \nL 19.671875 0 \nL 9.8125 0 \nz\n\" id=\"DejaVuSans-80\"/>\n      <path d=\"M 64.40625 67.28125 \nL 64.40625 56.890625 \nQ 59.421875 61.53125 53.78125 63.8125 \nQ 48.140625 66.109375 41.796875 66.109375 \nQ 29.296875 66.109375 22.65625 58.46875 \nQ 16.015625 50.828125 16.015625 36.375 \nQ 16.015625 21.96875 22.65625 14.328125 \nQ 29.296875 6.6875 41.796875 6.6875 \nQ 48.140625 6.6875 53.78125 8.984375 \nQ 59.421875 11.28125 64.40625 15.921875 \nL 64.40625 5.609375 \nQ 59.234375 2.09375 53.4375 0.328125 \nQ 47.65625 -1.421875 41.21875 -1.421875 \nQ 24.65625 -1.421875 15.125 8.703125 \nQ 5.609375 18.84375 5.609375 36.375 \nQ 5.609375 53.953125 15.125 64.078125 \nQ 24.65625 74.21875 41.21875 74.21875 \nQ 47.75 74.21875 53.53125 72.484375 \nQ 59.328125 70.75 64.40625 67.28125 \nz\n\" id=\"DejaVuSans-67\"/>\n      <path d=\"M 34.1875 63.1875 \nL 20.796875 26.90625 \nL 47.609375 26.90625 \nz\nM 28.609375 72.90625 \nL 39.796875 72.90625 \nL 67.578125 0 \nL 57.328125 0 \nL 50.6875 18.703125 \nL 17.828125 18.703125 \nL 11.1875 0 \nL 0.78125 0 \nz\n\" id=\"DejaVuSans-65\"/>\n      <path id=\"DejaVuSans-32\"/>\n     </defs>\n     <g style=\"fill:#262626;\" transform=\"translate(211.226562 268.034687)scale(0.1 -0.1)\">\n      <use xlink:href=\"#DejaVuSans-80\"/>\n      <use x=\"60.302734\" xlink:href=\"#DejaVuSans-67\"/>\n      <use x=\"130.126953\" xlink:href=\"#DejaVuSans-65\"/>\n      <use x=\"198.535156\" xlink:href=\"#DejaVuSans-32\"/>\n      <use x=\"230.322266\" xlink:href=\"#DejaVuSans-49\"/>\n     </g>\n    </g>\n   </g>\n   <g id=\"matplotlib.axis_2\">\n    <g id=\"ytick_1\">\n     <g id=\"line2d_8\">\n      <path clip-path=\"url(#pb0622306e2)\" d=\"M 58.523438 220.459022 \nL 393.323438 220.459022 \n\" style=\"fill:none;stroke:#ffffff;stroke-linecap:round;stroke-width:0.8;\"/>\n     </g>\n     <g id=\"text_9\">\n      <!-- −0.50 -->\n      <g style=\"fill:#262626;\" transform=\"translate(20.878125 224.25824)scale(0.1 -0.1)\">\n       <use xlink:href=\"#DejaVuSans-8722\"/>\n       <use x=\"83.789062\" xlink:href=\"#DejaVuSans-48\"/>\n       <use x=\"147.412109\" xlink:href=\"#DejaVuSans-46\"/>\n       <use x=\"179.199219\" xlink:href=\"#DejaVuSans-53\"/>\n       <use x=\"242.822266\" xlink:href=\"#DejaVuSans-48\"/>\n      </g>\n     </g>\n    </g>\n    <g id=\"ytick_2\">\n     <g id=\"line2d_9\">\n      <path clip-path=\"url(#pb0622306e2)\" d=\"M 58.523438 190.635074 \nL 393.323438 190.635074 \n\" style=\"fill:none;stroke:#ffffff;stroke-linecap:round;stroke-width:0.8;\"/>\n     </g>\n     <g id=\"text_10\">\n      <!-- −0.25 -->\n      <g style=\"fill:#262626;\" transform=\"translate(20.878125 194.434293)scale(0.1 -0.1)\">\n       <use xlink:href=\"#DejaVuSans-8722\"/>\n       <use x=\"83.789062\" xlink:href=\"#DejaVuSans-48\"/>\n       <use x=\"147.412109\" xlink:href=\"#DejaVuSans-46\"/>\n       <use x=\"179.199219\" xlink:href=\"#DejaVuSans-50\"/>\n       <use x=\"242.822266\" xlink:href=\"#DejaVuSans-53\"/>\n      </g>\n     </g>\n    </g>\n    <g id=\"ytick_3\">\n     <g id=\"line2d_10\">\n      <path clip-path=\"url(#pb0622306e2)\" d=\"M 58.523438 160.811127 \nL 393.323438 160.811127 \n\" style=\"fill:none;stroke:#ffffff;stroke-linecap:round;stroke-width:0.8;\"/>\n     </g>\n     <g id=\"text_11\">\n      <!-- 0.00 -->\n      <g style=\"fill:#262626;\" transform=\"translate(29.257813 164.610345)scale(0.1 -0.1)\">\n       <use xlink:href=\"#DejaVuSans-48\"/>\n       <use x=\"63.623047\" xlink:href=\"#DejaVuSans-46\"/>\n       <use x=\"95.410156\" xlink:href=\"#DejaVuSans-48\"/>\n       <use x=\"159.033203\" xlink:href=\"#DejaVuSans-48\"/>\n      </g>\n     </g>\n    </g>\n    <g id=\"ytick_4\">\n     <g id=\"line2d_11\">\n      <path clip-path=\"url(#pb0622306e2)\" d=\"M 58.523438 130.987179 \nL 393.323438 130.987179 \n\" style=\"fill:none;stroke:#ffffff;stroke-linecap:round;stroke-width:0.8;\"/>\n     </g>\n     <g id=\"text_12\">\n      <!-- 0.25 -->\n      <g style=\"fill:#262626;\" transform=\"translate(29.257813 134.786398)scale(0.1 -0.1)\">\n       <use xlink:href=\"#DejaVuSans-48\"/>\n       <use x=\"63.623047\" xlink:href=\"#DejaVuSans-46\"/>\n       <use x=\"95.410156\" xlink:href=\"#DejaVuSans-50\"/>\n       <use x=\"159.033203\" xlink:href=\"#DejaVuSans-53\"/>\n      </g>\n     </g>\n    </g>\n    <g id=\"ytick_5\">\n     <g id=\"line2d_12\">\n      <path clip-path=\"url(#pb0622306e2)\" d=\"M 58.523438 101.163232 \nL 393.323438 101.163232 \n\" style=\"fill:none;stroke:#ffffff;stroke-linecap:round;stroke-width:0.8;\"/>\n     </g>\n     <g id=\"text_13\">\n      <!-- 0.50 -->\n      <g style=\"fill:#262626;\" transform=\"translate(29.257813 104.96245)scale(0.1 -0.1)\">\n       <use xlink:href=\"#DejaVuSans-48\"/>\n       <use x=\"63.623047\" xlink:href=\"#DejaVuSans-46\"/>\n       <use x=\"95.410156\" xlink:href=\"#DejaVuSans-53\"/>\n       <use x=\"159.033203\" xlink:href=\"#DejaVuSans-48\"/>\n      </g>\n     </g>\n    </g>\n    <g id=\"ytick_6\">\n     <g id=\"line2d_13\">\n      <path clip-path=\"url(#pb0622306e2)\" d=\"M 58.523438 71.339284 \nL 393.323438 71.339284 \n\" style=\"fill:none;stroke:#ffffff;stroke-linecap:round;stroke-width:0.8;\"/>\n     </g>\n     <g id=\"text_14\">\n      <!-- 0.75 -->\n      <g style=\"fill:#262626;\" transform=\"translate(29.257813 75.138503)scale(0.1 -0.1)\">\n       <use xlink:href=\"#DejaVuSans-48\"/>\n       <use x=\"63.623047\" xlink:href=\"#DejaVuSans-46\"/>\n       <use x=\"95.410156\" xlink:href=\"#DejaVuSans-55\"/>\n       <use x=\"159.033203\" xlink:href=\"#DejaVuSans-53\"/>\n      </g>\n     </g>\n    </g>\n    <g id=\"ytick_7\">\n     <g id=\"line2d_14\">\n      <path clip-path=\"url(#pb0622306e2)\" d=\"M 58.523438 41.515337 \nL 393.323438 41.515337 \n\" style=\"fill:none;stroke:#ffffff;stroke-linecap:round;stroke-width:0.8;\"/>\n     </g>\n     <g id=\"text_15\">\n      <!-- 1.00 -->\n      <g style=\"fill:#262626;\" transform=\"translate(29.257813 45.314555)scale(0.1 -0.1)\">\n       <use xlink:href=\"#DejaVuSans-49\"/>\n       <use x=\"63.623047\" xlink:href=\"#DejaVuSans-46\"/>\n       <use x=\"95.410156\" xlink:href=\"#DejaVuSans-48\"/>\n       <use x=\"159.033203\" xlink:href=\"#DejaVuSans-48\"/>\n      </g>\n     </g>\n    </g>\n    <g id=\"text_16\">\n     <!-- PCA 2 -->\n     <g style=\"fill:#262626;\" transform=\"translate(14.798438 145.735)rotate(-90)scale(0.1 -0.1)\">\n      <use xlink:href=\"#DejaVuSans-80\"/>\n      <use x=\"60.302734\" xlink:href=\"#DejaVuSans-67\"/>\n      <use x=\"130.126953\" xlink:href=\"#DejaVuSans-65\"/>\n      <use x=\"198.535156\" xlink:href=\"#DejaVuSans-32\"/>\n      <use x=\"230.322266\" xlink:href=\"#DejaVuSans-50\"/>\n     </g>\n    </g>\n   </g>\n   <g id=\"PathCollection_1\">\n    <defs>\n     <path d=\"M 0 3 \nC 0.795609 3 1.55874 2.683901 2.12132 2.12132 \nC 2.683901 1.55874 3 0.795609 3 0 \nC 3 -0.795609 2.683901 -1.55874 2.12132 -2.12132 \nC 1.55874 -2.683901 0.795609 -3 0 -3 \nC -0.795609 -3 -1.55874 -2.683901 -2.12132 -2.12132 \nC -2.683901 -1.55874 -3 -0.795609 -3 0 \nC -3 0.795609 -2.683901 1.55874 -2.12132 2.12132 \nC -1.55874 2.683901 -0.795609 3 0 3 \nz\n\" id=\"medd4ac3738\" style=\"stroke:#ffffff;stroke-opacity:0.1;stroke-width:0.48;\"/>\n    </defs>\n    <g clip-path=\"url(#pb0622306e2)\">\n     <use style=\"fill:#386df9;fill-opacity:0.1;stroke:#ffffff;stroke-opacity:0.1;stroke-width:0.48;\" x=\"91.282799\" xlink:href=\"#medd4ac3738\" y=\"133.499274\"/>\n     <use style=\"fill:#386df9;fill-opacity:0.1;stroke:#ffffff;stroke-opacity:0.1;stroke-width:0.48;\" x=\"91.282799\" xlink:href=\"#medd4ac3738\" y=\"133.499274\"/>\n     <use style=\"fill:#386df9;fill-opacity:0.1;stroke:#ffffff;stroke-opacity:0.1;stroke-width:0.48;\" x=\"108.69867\" xlink:href=\"#medd4ac3738\" y=\"188.80808\"/>\n     <use style=\"fill:#386df9;fill-opacity:0.1;stroke:#ffffff;stroke-opacity:0.1;stroke-width:0.48;\" x=\"100.138166\" xlink:href=\"#medd4ac3738\" y=\"134.326411\"/>\n     <use style=\"fill:#386df9;fill-opacity:0.1;stroke:#ffffff;stroke-opacity:0.1;stroke-width:0.48;\" x=\"99.116347\" xlink:href=\"#medd4ac3738\" y=\"149.958237\"/>\n     <use style=\"fill:#386df9;fill-opacity:0.1;stroke:#ffffff;stroke-opacity:0.1;stroke-width:0.48;\" x=\"99.116347\" xlink:href=\"#medd4ac3738\" y=\"149.958237\"/>\n     <use style=\"fill:#386df9;fill-opacity:0.1;stroke:#ffffff;stroke-opacity:0.1;stroke-width:0.48;\" x=\"80.289038\" xlink:href=\"#medd4ac3738\" y=\"95.686177\"/>\n     <use style=\"fill:#386df9;fill-opacity:0.1;stroke:#ffffff;stroke-opacity:0.1;stroke-width:0.48;\" x=\"80.289038\" xlink:href=\"#medd4ac3738\" y=\"95.686177\"/>\n     <use style=\"fill:#386df9;fill-opacity:0.1;stroke:#ffffff;stroke-opacity:0.1;stroke-width:0.48;\" x=\"80.289038\" xlink:href=\"#medd4ac3738\" y=\"95.686177\"/>\n     <use style=\"fill:#386df9;fill-opacity:0.1;stroke:#ffffff;stroke-opacity:0.1;stroke-width:0.48;\" x=\"80.289038\" xlink:href=\"#medd4ac3738\" y=\"95.686177\"/>\n     <use style=\"fill:#386df9;fill-opacity:0.1;stroke:#ffffff;stroke-opacity:0.1;stroke-width:0.48;\" x=\"102.472703\" xlink:href=\"#medd4ac3738\" y=\"159.788604\"/>\n     <use style=\"fill:#386df9;fill-opacity:0.1;stroke:#ffffff;stroke-opacity:0.1;stroke-width:0.48;\" x=\"102.472703\" xlink:href=\"#medd4ac3738\" y=\"159.788604\"/>\n     <use style=\"fill:#386df9;fill-opacity:0.1;stroke:#ffffff;stroke-opacity:0.1;stroke-width:0.48;\" x=\"94.568801\" xlink:href=\"#medd4ac3738\" y=\"136.494348\"/>\n     <use style=\"fill:#386df9;fill-opacity:0.1;stroke:#ffffff;stroke-opacity:0.1;stroke-width:0.48;\" x=\"94.568801\" xlink:href=\"#medd4ac3738\" y=\"136.494348\"/>\n     <use style=\"fill:#386df9;fill-opacity:0.1;stroke:#ffffff;stroke-opacity:0.1;stroke-width:0.48;\" x=\"94.568801\" xlink:href=\"#medd4ac3738\" y=\"136.494348\"/>\n     <use style=\"fill:#386df9;fill-opacity:0.1;stroke:#ffffff;stroke-opacity:0.1;stroke-width:0.48;\" x=\"73.741619\" xlink:href=\"#medd4ac3738\" y=\"81.303568\"/>\n     <use style=\"fill:#386df9;fill-opacity:0.1;stroke:#ffffff;stroke-opacity:0.1;stroke-width:0.48;\" x=\"73.741619\" xlink:href=\"#medd4ac3738\" y=\"81.303568\"/>\n     <use style=\"fill:#386df9;fill-opacity:0.1;stroke:#ffffff;stroke-opacity:0.1;stroke-width:0.48;\" x=\"73.741619\" xlink:href=\"#medd4ac3738\" y=\"81.303568\"/>\n     <use style=\"fill:#386df9;fill-opacity:0.1;stroke:#ffffff;stroke-opacity:0.1;stroke-width:0.48;\" x=\"105.79314\" xlink:href=\"#medd4ac3738\" y=\"181.070069\"/>\n     <use style=\"fill:#386df9;fill-opacity:0.1;stroke:#ffffff;stroke-opacity:0.1;stroke-width:0.48;\" x=\"96.202769\" xlink:href=\"#medd4ac3738\" y=\"117.376396\"/>\n     <use style=\"fill:#386df9;fill-opacity:0.1;stroke:#ffffff;stroke-opacity:0.1;stroke-width:0.48;\" x=\"96.202769\" xlink:href=\"#medd4ac3738\" y=\"117.376396\"/>\n     <use style=\"fill:#386df9;fill-opacity:0.1;stroke:#ffffff;stroke-opacity:0.1;stroke-width:0.48;\" x=\"97.591558\" xlink:href=\"#medd4ac3738\" y=\"164.625113\"/>\n     <use style=\"fill:#386df9;fill-opacity:0.1;stroke:#ffffff;stroke-opacity:0.1;stroke-width:0.48;\" x=\"99.428374\" xlink:href=\"#medd4ac3738\" y=\"138.326529\"/>\n     <use style=\"fill:#386df9;fill-opacity:0.1;stroke:#ffffff;stroke-opacity:0.1;stroke-width:0.48;\" x=\"99.428374\" xlink:href=\"#medd4ac3738\" y=\"138.326529\"/>\n     <use style=\"fill:#386df9;fill-opacity:0.1;stroke:#ffffff;stroke-opacity:0.1;stroke-width:0.48;\" x=\"99.428374\" xlink:href=\"#medd4ac3738\" y=\"138.326529\"/>\n     <use style=\"fill:#386df9;fill-opacity:0.1;stroke:#ffffff;stroke-opacity:0.1;stroke-width:0.48;\" x=\"99.428374\" xlink:href=\"#medd4ac3738\" y=\"138.326529\"/>\n     <use style=\"fill:#386df9;fill-opacity:0.1;stroke:#ffffff;stroke-opacity:0.1;stroke-width:0.48;\" x=\"99.428374\" xlink:href=\"#medd4ac3738\" y=\"138.326529\"/>\n     <use style=\"fill:#386df9;fill-opacity:0.1;stroke:#ffffff;stroke-opacity:0.1;stroke-width:0.48;\" x=\"99.428374\" xlink:href=\"#medd4ac3738\" y=\"138.326529\"/>\n     <use style=\"fill:#386df9;fill-opacity:0.1;stroke:#ffffff;stroke-opacity:0.1;stroke-width:0.48;\" x=\"104.939406\" xlink:href=\"#medd4ac3738\" y=\"208.351416\"/>\n     <use style=\"fill:#386df9;fill-opacity:0.1;stroke:#ffffff;stroke-opacity:0.1;stroke-width:0.48;\" x=\"104.939406\" xlink:href=\"#medd4ac3738\" y=\"208.351416\"/>\n     <use style=\"fill:#386df9;fill-opacity:0.1;stroke:#ffffff;stroke-opacity:0.1;stroke-width:0.48;\" x=\"104.939406\" xlink:href=\"#medd4ac3738\" y=\"208.351416\"/>\n     <use style=\"fill:#386df9;fill-opacity:0.1;stroke:#ffffff;stroke-opacity:0.1;stroke-width:0.48;\" x=\"98.094439\" xlink:href=\"#medd4ac3738\" y=\"131.207968\"/>\n     <use style=\"fill:#386df9;fill-opacity:0.1;stroke:#ffffff;stroke-opacity:0.1;stroke-width:0.48;\" x=\"111.088287\" xlink:href=\"#medd4ac3738\" y=\"201.332924\"/>\n     <use style=\"fill:#386df9;fill-opacity:0.1;stroke:#ffffff;stroke-opacity:0.1;stroke-width:0.48;\" x=\"111.088287\" xlink:href=\"#medd4ac3738\" y=\"201.332924\"/>\n     <use style=\"fill:#386df9;fill-opacity:0.1;stroke:#ffffff;stroke-opacity:0.1;stroke-width:0.48;\" x=\"111.088287\" xlink:href=\"#medd4ac3738\" y=\"201.332924\"/>\n     <use style=\"fill:#386df9;fill-opacity:0.1;stroke:#ffffff;stroke-opacity:0.1;stroke-width:0.48;\" x=\"111.088287\" xlink:href=\"#medd4ac3738\" y=\"201.332924\"/>\n     <use style=\"fill:#386df9;fill-opacity:0.1;stroke:#ffffff;stroke-opacity:0.1;stroke-width:0.48;\" x=\"103.278616\" xlink:href=\"#medd4ac3738\" y=\"175.041288\"/>\n     <use style=\"fill:#386df9;fill-opacity:0.1;stroke:#ffffff;stroke-opacity:0.1;stroke-width:0.48;\" x=\"103.278616\" xlink:href=\"#medd4ac3738\" y=\"175.041288\"/>\n     <use style=\"fill:#386df9;fill-opacity:0.1;stroke:#ffffff;stroke-opacity:0.1;stroke-width:0.48;\" x=\"103.278616\" xlink:href=\"#medd4ac3738\" y=\"175.041288\"/>\n     <use style=\"fill:#386df9;fill-opacity:0.1;stroke:#ffffff;stroke-opacity:0.1;stroke-width:0.48;\" x=\"110.961715\" xlink:href=\"#medd4ac3738\" y=\"167.334134\"/>\n     <use style=\"fill:#386df9;fill-opacity:0.1;stroke:#ffffff;stroke-opacity:0.1;stroke-width:0.48;\" x=\"102.799131\" xlink:href=\"#medd4ac3738\" y=\"198.817792\"/>\n     <use style=\"fill:#386df9;fill-opacity:0.1;stroke:#ffffff;stroke-opacity:0.1;stroke-width:0.48;\" x=\"96.109705\" xlink:href=\"#medd4ac3738\" y=\"133.636235\"/>\n     <use style=\"fill:#386df9;fill-opacity:0.1;stroke:#ffffff;stroke-opacity:0.1;stroke-width:0.48;\" x=\"99.163089\" xlink:href=\"#medd4ac3738\" y=\"155.9109\"/>\n     <use style=\"fill:#386df9;fill-opacity:0.1;stroke:#ffffff;stroke-opacity:0.1;stroke-width:0.48;\" x=\"99.163089\" xlink:href=\"#medd4ac3738\" y=\"155.9109\"/>\n     <use style=\"fill:#386df9;fill-opacity:0.1;stroke:#ffffff;stroke-opacity:0.1;stroke-width:0.48;\" x=\"96.628025\" xlink:href=\"#medd4ac3738\" y=\"88.689542\"/>\n     <use style=\"fill:#386df9;fill-opacity:0.1;stroke:#ffffff;stroke-opacity:0.1;stroke-width:0.48;\" x=\"103.246643\" xlink:href=\"#medd4ac3738\" y=\"209.208209\"/>\n     <use style=\"fill:#386df9;fill-opacity:0.1;stroke:#ffffff;stroke-opacity:0.1;stroke-width:0.48;\" x=\"95.070034\" xlink:href=\"#medd4ac3738\" y=\"172.98366\"/>\n     <use style=\"fill:#386df9;fill-opacity:0.1;stroke:#ffffff;stroke-opacity:0.1;stroke-width:0.48;\" x=\"92.054234\" xlink:href=\"#medd4ac3738\" y=\"182.701322\"/>\n     <use style=\"fill:#386df9;fill-opacity:0.1;stroke:#ffffff;stroke-opacity:0.1;stroke-width:0.48;\" x=\"92.92291\" xlink:href=\"#medd4ac3738\" y=\"150.333742\"/>\n     <use style=\"fill:#386df9;fill-opacity:0.1;stroke:#ffffff;stroke-opacity:0.1;stroke-width:0.48;\" x=\"92.92291\" xlink:href=\"#medd4ac3738\" y=\"150.333742\"/>\n     <use style=\"fill:#386df9;fill-opacity:0.1;stroke:#ffffff;stroke-opacity:0.1;stroke-width:0.48;\" x=\"92.92291\" xlink:href=\"#medd4ac3738\" y=\"150.333742\"/>\n     <use style=\"fill:#386df9;fill-opacity:0.1;stroke:#ffffff;stroke-opacity:0.1;stroke-width:0.48;\" x=\"92.92291\" xlink:href=\"#medd4ac3738\" y=\"150.333742\"/>\n     <use style=\"fill:#386df9;fill-opacity:0.1;stroke:#ffffff;stroke-opacity:0.1;stroke-width:0.48;\" x=\"92.92291\" xlink:href=\"#medd4ac3738\" y=\"150.333742\"/>\n     <use style=\"fill:#386df9;fill-opacity:0.1;stroke:#ffffff;stroke-opacity:0.1;stroke-width:0.48;\" x=\"92.92291\" xlink:href=\"#medd4ac3738\" y=\"150.333742\"/>\n     <use style=\"fill:#386df9;fill-opacity:0.1;stroke:#ffffff;stroke-opacity:0.1;stroke-width:0.48;\" x=\"97.791172\" xlink:href=\"#medd4ac3738\" y=\"185.93803\"/>\n     <use style=\"fill:#386df9;fill-opacity:0.1;stroke:#ffffff;stroke-opacity:0.1;stroke-width:0.48;\" x=\"89.261498\" xlink:href=\"#medd4ac3738\" y=\"100.626699\"/>\n     <use style=\"fill:#386df9;fill-opacity:0.1;stroke:#ffffff;stroke-opacity:0.1;stroke-width:0.48;\" x=\"89.261498\" xlink:href=\"#medd4ac3738\" y=\"100.626699\"/>\n     <use style=\"fill:#386df9;fill-opacity:0.1;stroke:#ffffff;stroke-opacity:0.1;stroke-width:0.48;\" x=\"89.261498\" xlink:href=\"#medd4ac3738\" y=\"100.626699\"/>\n     <use style=\"fill:#386df9;fill-opacity:0.1;stroke:#ffffff;stroke-opacity:0.1;stroke-width:0.48;\" x=\"89.261498\" xlink:href=\"#medd4ac3738\" y=\"100.626699\"/>\n     <use style=\"fill:#386df9;fill-opacity:0.1;stroke:#ffffff;stroke-opacity:0.1;stroke-width:0.48;\" x=\"89.261498\" xlink:href=\"#medd4ac3738\" y=\"100.626699\"/>\n     <use style=\"fill:#386df9;fill-opacity:0.1;stroke:#ffffff;stroke-opacity:0.1;stroke-width:0.48;\" x=\"89.748905\" xlink:href=\"#medd4ac3738\" y=\"186.057775\"/>\n     <use style=\"fill:#386df9;fill-opacity:0.1;stroke:#ffffff;stroke-opacity:0.1;stroke-width:0.48;\" x=\"96.783431\" xlink:href=\"#medd4ac3738\" y=\"162.448731\"/>\n     <use style=\"fill:#386df9;fill-opacity:0.1;stroke:#ffffff;stroke-opacity:0.1;stroke-width:0.48;\" x=\"96.783431\" xlink:href=\"#medd4ac3738\" y=\"162.448731\"/>\n     <use style=\"fill:#386df9;fill-opacity:0.1;stroke:#ffffff;stroke-opacity:0.1;stroke-width:0.48;\" x=\"96.783431\" xlink:href=\"#medd4ac3738\" y=\"162.448731\"/>\n     <use style=\"fill:#386df9;fill-opacity:0.1;stroke:#ffffff;stroke-opacity:0.1;stroke-width:0.48;\" x=\"96.783431\" xlink:href=\"#medd4ac3738\" y=\"162.448731\"/>\n     <use style=\"fill:#386df9;fill-opacity:0.1;stroke:#ffffff;stroke-opacity:0.1;stroke-width:0.48;\" x=\"101.677468\" xlink:href=\"#medd4ac3738\" y=\"141.042215\"/>\n     <use style=\"fill:#386df9;fill-opacity:0.1;stroke:#ffffff;stroke-opacity:0.1;stroke-width:0.48;\" x=\"101.677468\" xlink:href=\"#medd4ac3738\" y=\"141.042215\"/>\n     <use style=\"fill:#386df9;fill-opacity:0.1;stroke:#ffffff;stroke-opacity:0.1;stroke-width:0.48;\" x=\"101.677468\" xlink:href=\"#medd4ac3738\" y=\"141.042215\"/>\n     <use style=\"fill:#386df9;fill-opacity:0.1;stroke:#ffffff;stroke-opacity:0.1;stroke-width:0.48;\" x=\"107.462571\" xlink:href=\"#medd4ac3738\" y=\"200.774424\"/>\n     <use style=\"fill:#386df9;fill-opacity:0.1;stroke:#ffffff;stroke-opacity:0.1;stroke-width:0.48;\" x=\"107.462571\" xlink:href=\"#medd4ac3738\" y=\"200.774424\"/>\n     <use style=\"fill:#386df9;fill-opacity:0.1;stroke:#ffffff;stroke-opacity:0.1;stroke-width:0.48;\" x=\"106.441229\" xlink:href=\"#medd4ac3738\" y=\"186.666734\"/>\n     <use style=\"fill:#386df9;fill-opacity:0.1;stroke:#ffffff;stroke-opacity:0.1;stroke-width:0.48;\" x=\"106.441229\" xlink:href=\"#medd4ac3738\" y=\"186.666734\"/>\n     <use style=\"fill:#386df9;fill-opacity:0.1;stroke:#ffffff;stroke-opacity:0.1;stroke-width:0.48;\" x=\"110.586276\" xlink:href=\"#medd4ac3738\" y=\"221.850184\"/>\n     <use style=\"fill:#386df9;fill-opacity:0.1;stroke:#ffffff;stroke-opacity:0.1;stroke-width:0.48;\" x=\"94.091758\" xlink:href=\"#medd4ac3738\" y=\"140.92692\"/>\n     <use style=\"fill:#386df9;fill-opacity:0.1;stroke:#ffffff;stroke-opacity:0.1;stroke-width:0.48;\" x=\"94.091758\" xlink:href=\"#medd4ac3738\" y=\"140.92692\"/>\n     <use style=\"fill:#386df9;fill-opacity:0.1;stroke:#ffffff;stroke-opacity:0.1;stroke-width:0.48;\" x=\"94.091758\" xlink:href=\"#medd4ac3738\" y=\"140.92692\"/>\n     <use style=\"fill:#386df9;fill-opacity:0.1;stroke:#ffffff;stroke-opacity:0.1;stroke-width:0.48;\" x=\"105.70198\" xlink:href=\"#medd4ac3738\" y=\"188.751972\"/>\n     <use style=\"fill:#386df9;fill-opacity:0.1;stroke:#ffffff;stroke-opacity:0.1;stroke-width:0.48;\" x=\"96.509811\" xlink:href=\"#medd4ac3738\" y=\"115.643283\"/>\n     <use style=\"fill:#386df9;fill-opacity:0.1;stroke:#ffffff;stroke-opacity:0.1;stroke-width:0.48;\" x=\"96.509811\" xlink:href=\"#medd4ac3738\" y=\"115.643283\"/>\n     <use style=\"fill:#386df9;fill-opacity:0.1;stroke:#ffffff;stroke-opacity:0.1;stroke-width:0.48;\" x=\"96.509811\" xlink:href=\"#medd4ac3738\" y=\"115.643283\"/>\n     <use style=\"fill:#386df9;fill-opacity:0.1;stroke:#ffffff;stroke-opacity:0.1;stroke-width:0.48;\" x=\"96.509811\" xlink:href=\"#medd4ac3738\" y=\"115.643283\"/>\n     <use style=\"fill:#386df9;fill-opacity:0.1;stroke:#ffffff;stroke-opacity:0.1;stroke-width:0.48;\" x=\"102.564343\" xlink:href=\"#medd4ac3738\" y=\"198.299576\"/>\n     <use style=\"fill:#386df9;fill-opacity:0.1;stroke:#ffffff;stroke-opacity:0.1;stroke-width:0.48;\" x=\"102.564343\" xlink:href=\"#medd4ac3738\" y=\"198.299576\"/>\n     <use style=\"fill:#386df9;fill-opacity:0.1;stroke:#ffffff;stroke-opacity:0.1;stroke-width:0.48;\" x=\"103.032269\" xlink:href=\"#medd4ac3738\" y=\"190.11718\"/>\n     <use style=\"fill:#386df9;fill-opacity:0.1;stroke:#ffffff;stroke-opacity:0.1;stroke-width:0.48;\" x=\"111.851635\" xlink:href=\"#medd4ac3738\" y=\"195.453432\"/>\n     <use style=\"fill:#386df9;fill-opacity:0.1;stroke:#ffffff;stroke-opacity:0.1;stroke-width:0.48;\" x=\"85.961958\" xlink:href=\"#medd4ac3738\" y=\"156.692162\"/>\n     <use style=\"fill:#386df9;fill-opacity:0.1;stroke:#ffffff;stroke-opacity:0.1;stroke-width:0.48;\" x=\"109.947593\" xlink:href=\"#medd4ac3738\" y=\"208.618775\"/>\n     <use style=\"fill:#386df9;fill-opacity:0.1;stroke:#ffffff;stroke-opacity:0.1;stroke-width:0.48;\" x=\"109.947593\" xlink:href=\"#medd4ac3738\" y=\"208.618775\"/>\n     <use style=\"fill:#386df9;fill-opacity:0.1;stroke:#ffffff;stroke-opacity:0.1;stroke-width:0.48;\" x=\"97.715424\" xlink:href=\"#medd4ac3738\" y=\"147.389392\"/>\n     <use style=\"fill:#386df9;fill-opacity:0.1;stroke:#ffffff;stroke-opacity:0.1;stroke-width:0.48;\" x=\"97.715424\" xlink:href=\"#medd4ac3738\" y=\"147.389392\"/>\n     <use style=\"fill:#386df9;fill-opacity:0.1;stroke:#ffffff;stroke-opacity:0.1;stroke-width:0.48;\" x=\"101.127391\" xlink:href=\"#medd4ac3738\" y=\"197.170213\"/>\n     <use style=\"fill:#386df9;fill-opacity:0.1;stroke:#ffffff;stroke-opacity:0.1;stroke-width:0.48;\" x=\"101.127391\" xlink:href=\"#medd4ac3738\" y=\"197.170213\"/>\n     <use style=\"fill:#386df9;fill-opacity:0.1;stroke:#ffffff;stroke-opacity:0.1;stroke-width:0.48;\" x=\"101.127391\" xlink:href=\"#medd4ac3738\" y=\"197.170213\"/>\n     <use style=\"fill:#386df9;fill-opacity:0.1;stroke:#ffffff;stroke-opacity:0.1;stroke-width:0.48;\" x=\"101.127391\" xlink:href=\"#medd4ac3738\" y=\"197.170213\"/>\n     <use style=\"fill:#386df9;fill-opacity:0.1;stroke:#ffffff;stroke-opacity:0.1;stroke-width:0.48;\" x=\"99.580417\" xlink:href=\"#medd4ac3738\" y=\"148.701471\"/>\n     <use style=\"fill:#386df9;fill-opacity:0.1;stroke:#ffffff;stroke-opacity:0.1;stroke-width:0.48;\" x=\"99.580417\" xlink:href=\"#medd4ac3738\" y=\"148.701471\"/>\n     <use style=\"fill:#386df9;fill-opacity:0.1;stroke:#ffffff;stroke-opacity:0.1;stroke-width:0.48;\" x=\"91.229732\" xlink:href=\"#medd4ac3738\" y=\"136.847817\"/>\n     <use style=\"fill:#386df9;fill-opacity:0.1;stroke:#ffffff;stroke-opacity:0.1;stroke-width:0.48;\" x=\"91.229732\" xlink:href=\"#medd4ac3738\" y=\"136.847817\"/>\n     <use style=\"fill:#386df9;fill-opacity:0.1;stroke:#ffffff;stroke-opacity:0.1;stroke-width:0.48;\" x=\"99.162938\" xlink:href=\"#medd4ac3738\" y=\"155.910586\"/>\n     <use style=\"fill:#386df9;fill-opacity:0.1;stroke:#ffffff;stroke-opacity:0.1;stroke-width:0.48;\" x=\"99.162938\" xlink:href=\"#medd4ac3738\" y=\"155.910586\"/>\n     <use style=\"fill:#386df9;fill-opacity:0.1;stroke:#ffffff;stroke-opacity:0.1;stroke-width:0.48;\" x=\"99.162938\" xlink:href=\"#medd4ac3738\" y=\"155.910586\"/>\n     <use style=\"fill:#386df9;fill-opacity:0.1;stroke:#ffffff;stroke-opacity:0.1;stroke-width:0.48;\" x=\"102.341322\" xlink:href=\"#medd4ac3738\" y=\"189.998948\"/>\n     <use style=\"fill:#386df9;fill-opacity:0.1;stroke:#ffffff;stroke-opacity:0.1;stroke-width:0.48;\" x=\"102.341322\" xlink:href=\"#medd4ac3738\" y=\"189.998948\"/>\n     <use style=\"fill:#386df9;fill-opacity:0.1;stroke:#ffffff;stroke-opacity:0.1;stroke-width:0.48;\" x=\"102.341322\" xlink:href=\"#medd4ac3738\" y=\"189.998948\"/>\n     <use style=\"fill:#386df9;fill-opacity:0.1;stroke:#ffffff;stroke-opacity:0.1;stroke-width:0.48;\" x=\"99.740428\" xlink:href=\"#medd4ac3738\" y=\"150.449646\"/>\n     <use style=\"fill:#386df9;fill-opacity:0.1;stroke:#ffffff;stroke-opacity:0.1;stroke-width:0.48;\" x=\"105.254224\" xlink:href=\"#medd4ac3738\" y=\"196.127442\"/>\n     <use style=\"fill:#386df9;fill-opacity:0.1;stroke:#ffffff;stroke-opacity:0.1;stroke-width:0.48;\" x=\"92.370724\" xlink:href=\"#medd4ac3738\" y=\"118.05216\"/>\n     <use style=\"fill:#386df9;fill-opacity:0.1;stroke:#ffffff;stroke-opacity:0.1;stroke-width:0.48;\" x=\"92.370724\" xlink:href=\"#medd4ac3738\" y=\"118.05216\"/>\n     <use style=\"fill:#386df9;fill-opacity:0.1;stroke:#ffffff;stroke-opacity:0.1;stroke-width:0.48;\" x=\"111.108284\" xlink:href=\"#medd4ac3738\" y=\"187.66474\"/>\n     <use style=\"fill:#386df9;fill-opacity:0.1;stroke:#ffffff;stroke-opacity:0.1;stroke-width:0.48;\" x=\"93.697621\" xlink:href=\"#medd4ac3738\" y=\"177.643225\"/>\n     <use style=\"fill:#386df9;fill-opacity:0.1;stroke:#ffffff;stroke-opacity:0.1;stroke-width:0.48;\" x=\"99.825142\" xlink:href=\"#medd4ac3738\" y=\"155.727162\"/>\n     <use style=\"fill:#386df9;fill-opacity:0.1;stroke:#ffffff;stroke-opacity:0.1;stroke-width:0.48;\" x=\"107.07699\" xlink:href=\"#medd4ac3738\" y=\"165.043011\"/>\n     <use style=\"fill:#386df9;fill-opacity:0.1;stroke:#ffffff;stroke-opacity:0.1;stroke-width:0.48;\" x=\"101.598047\" xlink:href=\"#medd4ac3738\" y=\"159.792872\"/>\n     <use style=\"fill:#386df9;fill-opacity:0.1;stroke:#ffffff;stroke-opacity:0.1;stroke-width:0.48;\" x=\"101.598047\" xlink:href=\"#medd4ac3738\" y=\"159.792872\"/>\n     <use style=\"fill:#386df9;fill-opacity:0.1;stroke:#ffffff;stroke-opacity:0.1;stroke-width:0.48;\" x=\"101.598047\" xlink:href=\"#medd4ac3738\" y=\"159.792872\"/>\n     <use style=\"fill:#386df9;fill-opacity:0.1;stroke:#ffffff;stroke-opacity:0.1;stroke-width:0.48;\" x=\"93.704994\" xlink:href=\"#medd4ac3738\" y=\"177.658597\"/>\n     <use style=\"fill:#386df9;fill-opacity:0.1;stroke:#ffffff;stroke-opacity:0.1;stroke-width:0.48;\" x=\"93.704994\" xlink:href=\"#medd4ac3738\" y=\"177.658597\"/>\n     <use style=\"fill:#386df9;fill-opacity:0.1;stroke:#ffffff;stroke-opacity:0.1;stroke-width:0.48;\" x=\"112.325216\" xlink:href=\"#medd4ac3738\" y=\"199.743116\"/>\n     <use style=\"fill:#386df9;fill-opacity:0.1;stroke:#ffffff;stroke-opacity:0.1;stroke-width:0.48;\" x=\"112.325216\" xlink:href=\"#medd4ac3738\" y=\"199.743116\"/>\n     <use style=\"fill:#386df9;fill-opacity:0.1;stroke:#ffffff;stroke-opacity:0.1;stroke-width:0.48;\" x=\"93.644838\" xlink:href=\"#medd4ac3738\" y=\"164.208006\"/>\n     <use style=\"fill:#386df9;fill-opacity:0.1;stroke:#ffffff;stroke-opacity:0.1;stroke-width:0.48;\" x=\"94.75368\" xlink:href=\"#medd4ac3738\" y=\"107.369479\"/>\n     <use style=\"fill:#386df9;fill-opacity:0.1;stroke:#ffffff;stroke-opacity:0.1;stroke-width:0.48;\" x=\"95.573982\" xlink:href=\"#medd4ac3738\" y=\"117.598674\"/>\n     <use style=\"fill:#386df9;fill-opacity:0.1;stroke:#ffffff;stroke-opacity:0.1;stroke-width:0.48;\" x=\"95.573982\" xlink:href=\"#medd4ac3738\" y=\"117.598674\"/>\n     <use style=\"fill:#386df9;fill-opacity:0.1;stroke:#ffffff;stroke-opacity:0.1;stroke-width:0.48;\" x=\"98.029361\" xlink:href=\"#medd4ac3738\" y=\"141.695078\"/>\n     <use style=\"fill:#386df9;fill-opacity:0.1;stroke:#ffffff;stroke-opacity:0.1;stroke-width:0.48;\" x=\"97.31449\" xlink:href=\"#medd4ac3738\" y=\"115.892294\"/>\n     <use style=\"fill:#386df9;fill-opacity:0.1;stroke:#ffffff;stroke-opacity:0.1;stroke-width:0.48;\" x=\"105.02956\" xlink:href=\"#medd4ac3738\" y=\"184.602133\"/>\n     <use style=\"fill:#386df9;fill-opacity:0.1;stroke:#ffffff;stroke-opacity:0.1;stroke-width:0.48;\" x=\"97.330709\" xlink:href=\"#medd4ac3738\" y=\"185.671386\"/>\n     <use style=\"fill:#386df9;fill-opacity:0.1;stroke:#ffffff;stroke-opacity:0.1;stroke-width:0.48;\" x=\"97.468487\" xlink:href=\"#medd4ac3738\" y=\"161.453235\"/>\n     <use style=\"fill:#386df9;fill-opacity:0.1;stroke:#ffffff;stroke-opacity:0.1;stroke-width:0.48;\" x=\"107.127513\" xlink:href=\"#medd4ac3738\" y=\"165.268072\"/>\n     <use style=\"fill:#386df9;fill-opacity:0.1;stroke:#ffffff;stroke-opacity:0.1;stroke-width:0.48;\" x=\"107.127513\" xlink:href=\"#medd4ac3738\" y=\"165.268072\"/>\n     <use style=\"fill:#386df9;fill-opacity:0.1;stroke:#ffffff;stroke-opacity:0.1;stroke-width:0.48;\" x=\"98.854004\" xlink:href=\"#medd4ac3738\" y=\"156.571652\"/>\n     <use style=\"fill:#386df9;fill-opacity:0.1;stroke:#ffffff;stroke-opacity:0.1;stroke-width:0.48;\" x=\"98.854004\" xlink:href=\"#medd4ac3738\" y=\"156.571652\"/>\n     <use style=\"fill:#386df9;fill-opacity:0.1;stroke:#ffffff;stroke-opacity:0.1;stroke-width:0.48;\" x=\"103.251137\" xlink:href=\"#medd4ac3738\" y=\"156.956889\"/>\n     <use style=\"fill:#386df9;fill-opacity:0.1;stroke:#ffffff;stroke-opacity:0.1;stroke-width:0.48;\" x=\"110.991959\" xlink:href=\"#medd4ac3738\" y=\"167.397192\"/>\n     <use style=\"fill:#386df9;fill-opacity:0.1;stroke:#ffffff;stroke-opacity:0.1;stroke-width:0.48;\" x=\"106.403526\" xlink:href=\"#medd4ac3738\" y=\"188.561065\"/>\n     <use style=\"fill:#386df9;fill-opacity:0.1;stroke:#ffffff;stroke-opacity:0.1;stroke-width:0.48;\" x=\"105.796763\" xlink:href=\"#medd4ac3738\" y=\"154.559887\"/>\n     <use style=\"fill:#386df9;fill-opacity:0.1;stroke:#ffffff;stroke-opacity:0.1;stroke-width:0.48;\" x=\"106.040499\" xlink:href=\"#medd4ac3738\" y=\"174.102424\"/>\n     <use style=\"fill:#386df9;fill-opacity:0.1;stroke:#ffffff;stroke-opacity:0.1;stroke-width:0.48;\" x=\"106.040499\" xlink:href=\"#medd4ac3738\" y=\"174.102424\"/>\n     <use style=\"fill:#386df9;fill-opacity:0.1;stroke:#ffffff;stroke-opacity:0.1;stroke-width:0.48;\" x=\"98.554867\" xlink:href=\"#medd4ac3738\" y=\"134.151783\"/>\n     <use style=\"fill:#386df9;fill-opacity:0.1;stroke:#ffffff;stroke-opacity:0.1;stroke-width:0.48;\" x=\"98.554867\" xlink:href=\"#medd4ac3738\" y=\"134.151783\"/>\n     <use style=\"fill:#386df9;fill-opacity:0.1;stroke:#ffffff;stroke-opacity:0.1;stroke-width:0.48;\" x=\"98.554867\" xlink:href=\"#medd4ac3738\" y=\"134.151783\"/>\n     <use style=\"fill:#386df9;fill-opacity:0.1;stroke:#ffffff;stroke-opacity:0.1;stroke-width:0.48;\" x=\"98.554867\" xlink:href=\"#medd4ac3738\" y=\"134.151783\"/>\n     <use style=\"fill:#386df9;fill-opacity:0.1;stroke:#ffffff;stroke-opacity:0.1;stroke-width:0.48;\" x=\"98.554867\" xlink:href=\"#medd4ac3738\" y=\"134.151783\"/>\n     <use style=\"fill:#386df9;fill-opacity:0.1;stroke:#ffffff;stroke-opacity:0.1;stroke-width:0.48;\" x=\"112.260591\" xlink:href=\"#medd4ac3738\" y=\"187.016861\"/>\n     <use style=\"fill:#386df9;fill-opacity:0.1;stroke:#ffffff;stroke-opacity:0.1;stroke-width:0.48;\" x=\"98.362277\" xlink:href=\"#medd4ac3738\" y=\"176.376517\"/>\n     <use style=\"fill:#386df9;fill-opacity:0.1;stroke:#ffffff;stroke-opacity:0.1;stroke-width:0.48;\" x=\"103.179088\" xlink:href=\"#medd4ac3738\" y=\"173.11907\"/>\n     <use style=\"fill:#386df9;fill-opacity:0.1;stroke:#ffffff;stroke-opacity:0.1;stroke-width:0.48;\" x=\"103.179088\" xlink:href=\"#medd4ac3738\" y=\"173.11907\"/>\n     <use style=\"fill:#386df9;fill-opacity:0.1;stroke:#ffffff;stroke-opacity:0.1;stroke-width:0.48;\" x=\"106.034021\" xlink:href=\"#medd4ac3738\" y=\"173.471077\"/>\n     <use style=\"fill:#386df9;fill-opacity:0.1;stroke:#ffffff;stroke-opacity:0.1;stroke-width:0.48;\" x=\"108.147256\" xlink:href=\"#medd4ac3738\" y=\"190.541647\"/>\n     <use style=\"fill:#386df9;fill-opacity:0.1;stroke:#ffffff;stroke-opacity:0.1;stroke-width:0.48;\" x=\"108.147256\" xlink:href=\"#medd4ac3738\" y=\"190.541647\"/>\n     <use style=\"fill:#386df9;fill-opacity:0.1;stroke:#ffffff;stroke-opacity:0.1;stroke-width:0.48;\" x=\"108.147256\" xlink:href=\"#medd4ac3738\" y=\"190.541647\"/>\n     <use style=\"fill:#386df9;fill-opacity:0.1;stroke:#ffffff;stroke-opacity:0.1;stroke-width:0.48;\" x=\"105.08297\" xlink:href=\"#medd4ac3738\" y=\"172.607415\"/>\n     <use style=\"fill:#386df9;fill-opacity:0.1;stroke:#ffffff;stroke-opacity:0.1;stroke-width:0.48;\" x=\"105.08297\" xlink:href=\"#medd4ac3738\" y=\"172.607415\"/>\n     <use style=\"fill:#386df9;fill-opacity:0.1;stroke:#ffffff;stroke-opacity:0.1;stroke-width:0.48;\" x=\"105.08297\" xlink:href=\"#medd4ac3738\" y=\"172.607415\"/>\n     <use style=\"fill:#386df9;fill-opacity:0.1;stroke:#ffffff;stroke-opacity:0.1;stroke-width:0.48;\" x=\"105.08297\" xlink:href=\"#medd4ac3738\" y=\"172.607415\"/>\n     <use style=\"fill:#386df9;fill-opacity:0.1;stroke:#ffffff;stroke-opacity:0.1;stroke-width:0.48;\" x=\"108.310054\" xlink:href=\"#medd4ac3738\" y=\"187.98554\"/>\n     <use style=\"fill:#386df9;fill-opacity:0.1;stroke:#ffffff;stroke-opacity:0.1;stroke-width:0.48;\" x=\"112.298398\" xlink:href=\"#medd4ac3738\" y=\"183.29925\"/>\n     <use style=\"fill:#386df9;fill-opacity:0.1;stroke:#ffffff;stroke-opacity:0.1;stroke-width:0.48;\" x=\"100.661521\" xlink:href=\"#medd4ac3738\" y=\"193.654598\"/>\n     <use style=\"fill:#386df9;fill-opacity:0.1;stroke:#ffffff;stroke-opacity:0.1;stroke-width:0.48;\" x=\"100.661521\" xlink:href=\"#medd4ac3738\" y=\"193.654598\"/>\n     <use style=\"fill:#386df9;fill-opacity:0.1;stroke:#ffffff;stroke-opacity:0.1;stroke-width:0.48;\" x=\"100.661521\" xlink:href=\"#medd4ac3738\" y=\"193.654598\"/>\n     <use style=\"fill:#386df9;fill-opacity:0.1;stroke:#ffffff;stroke-opacity:0.1;stroke-width:0.48;\" x=\"93.515528\" xlink:href=\"#medd4ac3738\" y=\"105.878595\"/>\n     <use style=\"fill:#386df9;fill-opacity:0.1;stroke:#ffffff;stroke-opacity:0.1;stroke-width:0.48;\" x=\"93.515528\" xlink:href=\"#medd4ac3738\" y=\"105.878595\"/>\n     <use style=\"fill:#386df9;fill-opacity:0.1;stroke:#ffffff;stroke-opacity:0.1;stroke-width:0.48;\" x=\"100.228319\" xlink:href=\"#medd4ac3738\" y=\"148.909222\"/>\n     <use style=\"fill:#386df9;fill-opacity:0.1;stroke:#ffffff;stroke-opacity:0.1;stroke-width:0.48;\" x=\"100.228319\" xlink:href=\"#medd4ac3738\" y=\"148.909222\"/>\n     <use style=\"fill:#386df9;fill-opacity:0.1;stroke:#ffffff;stroke-opacity:0.1;stroke-width:0.48;\" x=\"100.228319\" xlink:href=\"#medd4ac3738\" y=\"148.909222\"/>\n     <use style=\"fill:#386df9;fill-opacity:0.1;stroke:#ffffff;stroke-opacity:0.1;stroke-width:0.48;\" x=\"91.699816\" xlink:href=\"#medd4ac3738\" y=\"142.850677\"/>\n     <use style=\"fill:#386df9;fill-opacity:0.1;stroke:#ffffff;stroke-opacity:0.1;stroke-width:0.48;\" x=\"104.357074\" xlink:href=\"#medd4ac3738\" y=\"186.890191\"/>\n     <use style=\"fill:#386df9;fill-opacity:0.1;stroke:#ffffff;stroke-opacity:0.1;stroke-width:0.48;\" x=\"104.357074\" xlink:href=\"#medd4ac3738\" y=\"186.890191\"/>\n     <use style=\"fill:#386df9;fill-opacity:0.1;stroke:#ffffff;stroke-opacity:0.1;stroke-width:0.48;\" x=\"92.469703\" xlink:href=\"#medd4ac3738\" y=\"158.396286\"/>\n     <use style=\"fill:#386df9;fill-opacity:0.1;stroke:#ffffff;stroke-opacity:0.1;stroke-width:0.48;\" x=\"92.469703\" xlink:href=\"#medd4ac3738\" y=\"158.396286\"/>\n     <use style=\"fill:#386df9;fill-opacity:0.1;stroke:#ffffff;stroke-opacity:0.1;stroke-width:0.48;\" x=\"104.548008\" xlink:href=\"#medd4ac3738\" y=\"176.37975\"/>\n     <use style=\"fill:#386df9;fill-opacity:0.1;stroke:#ffffff;stroke-opacity:0.1;stroke-width:0.48;\" x=\"90.993862\" xlink:href=\"#medd4ac3738\" y=\"101.836873\"/>\n     <use style=\"fill:#386df9;fill-opacity:0.1;stroke:#ffffff;stroke-opacity:0.1;stroke-width:0.48;\" x=\"90.993862\" xlink:href=\"#medd4ac3738\" y=\"101.836873\"/>\n     <use style=\"fill:#386df9;fill-opacity:0.1;stroke:#ffffff;stroke-opacity:0.1;stroke-width:0.48;\" x=\"98.637052\" xlink:href=\"#medd4ac3738\" y=\"169.290488\"/>\n     <use style=\"fill:#386df9;fill-opacity:0.1;stroke:#ffffff;stroke-opacity:0.1;stroke-width:0.48;\" x=\"98.637052\" xlink:href=\"#medd4ac3738\" y=\"169.290488\"/>\n     <use style=\"fill:#386df9;fill-opacity:0.1;stroke:#ffffff;stroke-opacity:0.1;stroke-width:0.48;\" x=\"93.883856\" xlink:href=\"#medd4ac3738\" y=\"131.6087\"/>\n     <use style=\"fill:#386df9;fill-opacity:0.1;stroke:#ffffff;stroke-opacity:0.1;stroke-width:0.48;\" x=\"93.883856\" xlink:href=\"#medd4ac3738\" y=\"131.6087\"/>\n     <use style=\"fill:#386df9;fill-opacity:0.1;stroke:#ffffff;stroke-opacity:0.1;stroke-width:0.48;\" x=\"93.883856\" xlink:href=\"#medd4ac3738\" y=\"131.6087\"/>\n     <use style=\"fill:#386df9;fill-opacity:0.1;stroke:#ffffff;stroke-opacity:0.1;stroke-width:0.48;\" x=\"96.248769\" xlink:href=\"#medd4ac3738\" y=\"169.87002\"/>\n     <use style=\"fill:#386df9;fill-opacity:0.1;stroke:#ffffff;stroke-opacity:0.1;stroke-width:0.48;\" x=\"109.618306\" xlink:href=\"#medd4ac3738\" y=\"136.466261\"/>\n     <use style=\"fill:#386df9;fill-opacity:0.1;stroke:#ffffff;stroke-opacity:0.1;stroke-width:0.48;\" x=\"104.676617\" xlink:href=\"#medd4ac3738\" y=\"158.137675\"/>\n     <use style=\"fill:#386df9;fill-opacity:0.1;stroke:#ffffff;stroke-opacity:0.1;stroke-width:0.48;\" x=\"98.92602\" xlink:href=\"#medd4ac3738\" y=\"180.696777\"/>\n     <use style=\"fill:#386df9;fill-opacity:0.1;stroke:#ffffff;stroke-opacity:0.1;stroke-width:0.48;\" x=\"98.92602\" xlink:href=\"#medd4ac3738\" y=\"180.696777\"/>\n     <use style=\"fill:#386df9;fill-opacity:0.1;stroke:#ffffff;stroke-opacity:0.1;stroke-width:0.48;\" x=\"101.98539\" xlink:href=\"#medd4ac3738\" y=\"189.306299\"/>\n     <use style=\"fill:#386df9;fill-opacity:0.1;stroke:#ffffff;stroke-opacity:0.1;stroke-width:0.48;\" x=\"105.865218\" xlink:href=\"#medd4ac3738\" y=\"156.815131\"/>\n     <use style=\"fill:#386df9;fill-opacity:0.1;stroke:#ffffff;stroke-opacity:0.1;stroke-width:0.48;\" x=\"105.865218\" xlink:href=\"#medd4ac3738\" y=\"156.815131\"/>\n     <use style=\"fill:#386df9;fill-opacity:0.1;stroke:#ffffff;stroke-opacity:0.1;stroke-width:0.48;\" x=\"105.865218\" xlink:href=\"#medd4ac3738\" y=\"156.815131\"/>\n     <use style=\"fill:#386df9;fill-opacity:0.1;stroke:#ffffff;stroke-opacity:0.1;stroke-width:0.48;\" x=\"89.141567\" xlink:href=\"#medd4ac3738\" y=\"141.17898\"/>\n     <use style=\"fill:#386df9;fill-opacity:0.1;stroke:#ffffff;stroke-opacity:0.1;stroke-width:0.48;\" x=\"104.681477\" xlink:href=\"#medd4ac3738\" y=\"173.852937\"/>\n     <use style=\"fill:#386df9;fill-opacity:0.1;stroke:#ffffff;stroke-opacity:0.1;stroke-width:0.48;\" x=\"114.119529\" xlink:href=\"#medd4ac3738\" y=\"165.23023\"/>\n     <use style=\"fill:#386df9;fill-opacity:0.1;stroke:#ffffff;stroke-opacity:0.1;stroke-width:0.48;\" x=\"102.143399\" xlink:href=\"#medd4ac3738\" y=\"150.808448\"/>\n     <use style=\"fill:#386df9;fill-opacity:0.1;stroke:#ffffff;stroke-opacity:0.1;stroke-width:0.48;\" x=\"102.143399\" xlink:href=\"#medd4ac3738\" y=\"150.808448\"/>\n     <use style=\"fill:#386df9;fill-opacity:0.1;stroke:#ffffff;stroke-opacity:0.1;stroke-width:0.48;\" x=\"100.025121\" xlink:href=\"#medd4ac3738\" y=\"135.184596\"/>\n     <use style=\"fill:#386df9;fill-opacity:0.1;stroke:#ffffff;stroke-opacity:0.1;stroke-width:0.48;\" x=\"100.025121\" xlink:href=\"#medd4ac3738\" y=\"135.184596\"/>\n     <use style=\"fill:#386df9;fill-opacity:0.1;stroke:#ffffff;stroke-opacity:0.1;stroke-width:0.48;\" x=\"100.025121\" xlink:href=\"#medd4ac3738\" y=\"135.184596\"/>\n     <use style=\"fill:#386df9;fill-opacity:0.1;stroke:#ffffff;stroke-opacity:0.1;stroke-width:0.48;\" x=\"100.025121\" xlink:href=\"#medd4ac3738\" y=\"135.184596\"/>\n     <use style=\"fill:#386df9;fill-opacity:0.1;stroke:#ffffff;stroke-opacity:0.1;stroke-width:0.48;\" x=\"100.453653\" xlink:href=\"#medd4ac3738\" y=\"120.936816\"/>\n     <use style=\"fill:#386df9;fill-opacity:0.1;stroke:#ffffff;stroke-opacity:0.1;stroke-width:0.48;\" x=\"100.453653\" xlink:href=\"#medd4ac3738\" y=\"120.936816\"/>\n     <use style=\"fill:#386df9;fill-opacity:0.1;stroke:#ffffff;stroke-opacity:0.1;stroke-width:0.48;\" x=\"100.453653\" xlink:href=\"#medd4ac3738\" y=\"120.936816\"/>\n     <use style=\"fill:#386df9;fill-opacity:0.1;stroke:#ffffff;stroke-opacity:0.1;stroke-width:0.48;\" x=\"100.453653\" xlink:href=\"#medd4ac3738\" y=\"120.936816\"/>\n     <use style=\"fill:#386df9;fill-opacity:0.1;stroke:#ffffff;stroke-opacity:0.1;stroke-width:0.48;\" x=\"102.621173\" xlink:href=\"#medd4ac3738\" y=\"178.617186\"/>\n     <use style=\"fill:#386df9;fill-opacity:0.1;stroke:#ffffff;stroke-opacity:0.1;stroke-width:0.48;\" x=\"106.951434\" xlink:href=\"#medd4ac3738\" y=\"170.162867\"/>\n     <use style=\"fill:#386df9;fill-opacity:0.1;stroke:#ffffff;stroke-opacity:0.1;stroke-width:0.48;\" x=\"109.261154\" xlink:href=\"#medd4ac3738\" y=\"194.386466\"/>\n     <use style=\"fill:#386df9;fill-opacity:0.1;stroke:#ffffff;stroke-opacity:0.1;stroke-width:0.48;\" x=\"111.207388\" xlink:href=\"#medd4ac3738\" y=\"169.371557\"/>\n     <use style=\"fill:#386df9;fill-opacity:0.1;stroke:#ffffff;stroke-opacity:0.1;stroke-width:0.48;\" x=\"111.207388\" xlink:href=\"#medd4ac3738\" y=\"169.371557\"/>\n     <use style=\"fill:#386df9;fill-opacity:0.1;stroke:#ffffff;stroke-opacity:0.1;stroke-width:0.48;\" x=\"111.207388\" xlink:href=\"#medd4ac3738\" y=\"169.371557\"/>\n     <use style=\"fill:#386df9;fill-opacity:0.1;stroke:#ffffff;stroke-opacity:0.1;stroke-width:0.48;\" x=\"111.207388\" xlink:href=\"#medd4ac3738\" y=\"169.371557\"/>\n     <use style=\"fill:#386df9;fill-opacity:0.1;stroke:#ffffff;stroke-opacity:0.1;stroke-width:0.48;\" x=\"111.207388\" xlink:href=\"#medd4ac3738\" y=\"169.371557\"/>\n     <use style=\"fill:#386df9;fill-opacity:0.1;stroke:#ffffff;stroke-opacity:0.1;stroke-width:0.48;\" x=\"98.687919\" xlink:href=\"#medd4ac3738\" y=\"171.985203\"/>\n     <use style=\"fill:#386df9;fill-opacity:0.1;stroke:#ffffff;stroke-opacity:0.1;stroke-width:0.48;\" x=\"101.636467\" xlink:href=\"#medd4ac3738\" y=\"117.957298\"/>\n     <use style=\"fill:#386df9;fill-opacity:0.1;stroke:#ffffff;stroke-opacity:0.1;stroke-width:0.48;\" x=\"101.636467\" xlink:href=\"#medd4ac3738\" y=\"117.957298\"/>\n     <use style=\"fill:#386df9;fill-opacity:0.1;stroke:#ffffff;stroke-opacity:0.1;stroke-width:0.48;\" x=\"101.632818\" xlink:href=\"#medd4ac3738\" y=\"155.137124\"/>\n     <use style=\"fill:#386df9;fill-opacity:0.1;stroke:#ffffff;stroke-opacity:0.1;stroke-width:0.48;\" x=\"102.991584\" xlink:href=\"#medd4ac3738\" y=\"160.822595\"/>\n     <use style=\"fill:#386df9;fill-opacity:0.1;stroke:#ffffff;stroke-opacity:0.1;stroke-width:0.48;\" x=\"102.991584\" xlink:href=\"#medd4ac3738\" y=\"160.822595\"/>\n     <use style=\"fill:#386df9;fill-opacity:0.1;stroke:#ffffff;stroke-opacity:0.1;stroke-width:0.48;\" x=\"102.991584\" xlink:href=\"#medd4ac3738\" y=\"160.822595\"/>\n     <use style=\"fill:#386df9;fill-opacity:0.1;stroke:#ffffff;stroke-opacity:0.1;stroke-width:0.48;\" x=\"104.719011\" xlink:href=\"#medd4ac3738\" y=\"200.473314\"/>\n     <use style=\"fill:#386df9;fill-opacity:0.1;stroke:#ffffff;stroke-opacity:0.1;stroke-width:0.48;\" x=\"105.760922\" xlink:href=\"#medd4ac3738\" y=\"181.957562\"/>\n     <use style=\"fill:#386df9;fill-opacity:0.1;stroke:#ffffff;stroke-opacity:0.1;stroke-width:0.48;\" x=\"105.760922\" xlink:href=\"#medd4ac3738\" y=\"181.957562\"/>\n     <use style=\"fill:#386df9;fill-opacity:0.1;stroke:#ffffff;stroke-opacity:0.1;stroke-width:0.48;\" x=\"99.06249\" xlink:href=\"#medd4ac3738\" y=\"153.517838\"/>\n     <use style=\"fill:#386df9;fill-opacity:0.1;stroke:#ffffff;stroke-opacity:0.1;stroke-width:0.48;\" x=\"108.364244\" xlink:href=\"#medd4ac3738\" y=\"168.65084\"/>\n     <use style=\"fill:#386df9;fill-opacity:0.1;stroke:#ffffff;stroke-opacity:0.1;stroke-width:0.48;\" x=\"108.364244\" xlink:href=\"#medd4ac3738\" y=\"168.65084\"/>\n     <use style=\"fill:#386df9;fill-opacity:0.1;stroke:#ffffff;stroke-opacity:0.1;stroke-width:0.48;\" x=\"108.364244\" xlink:href=\"#medd4ac3738\" y=\"168.65084\"/>\n     <use style=\"fill:#386df9;fill-opacity:0.1;stroke:#ffffff;stroke-opacity:0.1;stroke-width:0.48;\" x=\"101.906642\" xlink:href=\"#medd4ac3738\" y=\"163.32275\"/>\n     <use style=\"fill:#386df9;fill-opacity:0.1;stroke:#ffffff;stroke-opacity:0.1;stroke-width:0.48;\" x=\"101.906642\" xlink:href=\"#medd4ac3738\" y=\"163.32275\"/>\n     <use style=\"fill:#386df9;fill-opacity:0.1;stroke:#ffffff;stroke-opacity:0.1;stroke-width:0.48;\" x=\"101.906642\" xlink:href=\"#medd4ac3738\" y=\"163.32275\"/>\n     <use style=\"fill:#386df9;fill-opacity:0.1;stroke:#ffffff;stroke-opacity:0.1;stroke-width:0.48;\" x=\"102.89741\" xlink:href=\"#medd4ac3738\" y=\"197.623167\"/>\n     <use style=\"fill:#386df9;fill-opacity:0.1;stroke:#ffffff;stroke-opacity:0.1;stroke-width:0.48;\" x=\"102.89741\" xlink:href=\"#medd4ac3738\" y=\"197.623167\"/>\n     <use style=\"fill:#386df9;fill-opacity:0.1;stroke:#ffffff;stroke-opacity:0.1;stroke-width:0.48;\" x=\"111.476148\" xlink:href=\"#medd4ac3738\" y=\"198.492009\"/>\n     <use style=\"fill:#386df9;fill-opacity:0.1;stroke:#ffffff;stroke-opacity:0.1;stroke-width:0.48;\" x=\"95.335934\" xlink:href=\"#medd4ac3738\" y=\"138.437579\"/>\n     <use style=\"fill:#386df9;fill-opacity:0.1;stroke:#ffffff;stroke-opacity:0.1;stroke-width:0.48;\" x=\"95.335934\" xlink:href=\"#medd4ac3738\" y=\"138.437579\"/>\n     <use style=\"fill:#386df9;fill-opacity:0.1;stroke:#ffffff;stroke-opacity:0.1;stroke-width:0.48;\" x=\"95.335934\" xlink:href=\"#medd4ac3738\" y=\"138.437579\"/>\n     <use style=\"fill:#386df9;fill-opacity:0.1;stroke:#ffffff;stroke-opacity:0.1;stroke-width:0.48;\" x=\"106.619911\" xlink:href=\"#medd4ac3738\" y=\"197.531909\"/>\n     <use style=\"fill:#386df9;fill-opacity:0.1;stroke:#ffffff;stroke-opacity:0.1;stroke-width:0.48;\" x=\"106.619911\" xlink:href=\"#medd4ac3738\" y=\"197.531909\"/>\n     <use style=\"fill:#386df9;fill-opacity:0.1;stroke:#ffffff;stroke-opacity:0.1;stroke-width:0.48;\" x=\"106.619911\" xlink:href=\"#medd4ac3738\" y=\"197.531909\"/>\n     <use style=\"fill:#386df9;fill-opacity:0.1;stroke:#ffffff;stroke-opacity:0.1;stroke-width:0.48;\" x=\"79.456028\" xlink:href=\"#medd4ac3738\" y=\"39.707329\"/>\n     <use style=\"fill:#386df9;fill-opacity:0.1;stroke:#ffffff;stroke-opacity:0.1;stroke-width:0.48;\" x=\"79.456028\" xlink:href=\"#medd4ac3738\" y=\"39.707329\"/>\n     <use style=\"fill:#386df9;fill-opacity:0.1;stroke:#ffffff;stroke-opacity:0.1;stroke-width:0.48;\" x=\"79.456028\" xlink:href=\"#medd4ac3738\" y=\"39.707329\"/>\n     <use style=\"fill:#386df9;fill-opacity:0.1;stroke:#ffffff;stroke-opacity:0.1;stroke-width:0.48;\" x=\"79.456028\" xlink:href=\"#medd4ac3738\" y=\"39.707329\"/>\n     <use style=\"fill:#386df9;fill-opacity:0.1;stroke:#ffffff;stroke-opacity:0.1;stroke-width:0.48;\" x=\"111.445932\" xlink:href=\"#medd4ac3738\" y=\"194.657796\"/>\n     <use style=\"fill:#386df9;fill-opacity:0.1;stroke:#ffffff;stroke-opacity:0.1;stroke-width:0.48;\" x=\"109.210378\" xlink:href=\"#medd4ac3738\" y=\"203.912341\"/>\n     <use style=\"fill:#386df9;fill-opacity:0.1;stroke:#ffffff;stroke-opacity:0.1;stroke-width:0.48;\" x=\"109.210378\" xlink:href=\"#medd4ac3738\" y=\"203.912341\"/>\n     <use style=\"fill:#386df9;fill-opacity:0.1;stroke:#ffffff;stroke-opacity:0.1;stroke-width:0.48;\" x=\"109.210378\" xlink:href=\"#medd4ac3738\" y=\"203.912341\"/>\n     <use style=\"fill:#386df9;fill-opacity:0.1;stroke:#ffffff;stroke-opacity:0.1;stroke-width:0.48;\" x=\"109.210378\" xlink:href=\"#medd4ac3738\" y=\"203.912341\"/>\n     <use style=\"fill:#386df9;fill-opacity:0.1;stroke:#ffffff;stroke-opacity:0.1;stroke-width:0.48;\" x=\"109.210378\" xlink:href=\"#medd4ac3738\" y=\"203.912341\"/>\n     <use style=\"fill:#386df9;fill-opacity:0.1;stroke:#ffffff;stroke-opacity:0.1;stroke-width:0.48;\" x=\"109.210378\" xlink:href=\"#medd4ac3738\" y=\"203.912341\"/>\n     <use style=\"fill:#386df9;fill-opacity:0.1;stroke:#ffffff;stroke-opacity:0.1;stroke-width:0.48;\" x=\"120.727627\" xlink:href=\"#medd4ac3738\" y=\"204.345034\"/>\n     <use style=\"fill:#386df9;fill-opacity:0.1;stroke:#ffffff;stroke-opacity:0.1;stroke-width:0.48;\" x=\"120.727627\" xlink:href=\"#medd4ac3738\" y=\"204.345034\"/>\n     <use style=\"fill:#386df9;fill-opacity:0.1;stroke:#ffffff;stroke-opacity:0.1;stroke-width:0.48;\" x=\"113.795531\" xlink:href=\"#medd4ac3738\" y=\"173.362068\"/>\n     <use style=\"fill:#386df9;fill-opacity:0.1;stroke:#ffffff;stroke-opacity:0.1;stroke-width:0.48;\" x=\"97.908605\" xlink:href=\"#medd4ac3738\" y=\"186.718428\"/>\n     <use style=\"fill:#386df9;fill-opacity:0.1;stroke:#ffffff;stroke-opacity:0.1;stroke-width:0.48;\" x=\"97.908605\" xlink:href=\"#medd4ac3738\" y=\"186.718428\"/>\n     <use style=\"fill:#386df9;fill-opacity:0.1;stroke:#ffffff;stroke-opacity:0.1;stroke-width:0.48;\" x=\"105.077642\" xlink:href=\"#medd4ac3738\" y=\"191.82441\"/>\n     <use style=\"fill:#386df9;fill-opacity:0.1;stroke:#ffffff;stroke-opacity:0.1;stroke-width:0.48;\" x=\"106.028211\" xlink:href=\"#medd4ac3738\" y=\"183.320689\"/>\n     <use style=\"fill:#386df9;fill-opacity:0.1;stroke:#ffffff;stroke-opacity:0.1;stroke-width:0.48;\" x=\"104.762636\" xlink:href=\"#medd4ac3738\" y=\"171.140703\"/>\n     <use style=\"fill:#386df9;fill-opacity:0.1;stroke:#ffffff;stroke-opacity:0.1;stroke-width:0.48;\" x=\"99.857772\" xlink:href=\"#medd4ac3738\" y=\"148.029327\"/>\n     <use style=\"fill:#386df9;fill-opacity:0.1;stroke:#ffffff;stroke-opacity:0.1;stroke-width:0.48;\" x=\"97.642157\" xlink:href=\"#medd4ac3738\" y=\"127.397973\"/>\n     <use style=\"fill:#386df9;fill-opacity:0.1;stroke:#ffffff;stroke-opacity:0.1;stroke-width:0.48;\" x=\"97.642157\" xlink:href=\"#medd4ac3738\" y=\"127.397973\"/>\n     <use style=\"fill:#386df9;fill-opacity:0.1;stroke:#ffffff;stroke-opacity:0.1;stroke-width:0.48;\" x=\"97.642157\" xlink:href=\"#medd4ac3738\" y=\"127.397973\"/>\n     <use style=\"fill:#386df9;fill-opacity:0.1;stroke:#ffffff;stroke-opacity:0.1;stroke-width:0.48;\" x=\"97.642157\" xlink:href=\"#medd4ac3738\" y=\"127.397973\"/>\n     <use style=\"fill:#386df9;fill-opacity:0.1;stroke:#ffffff;stroke-opacity:0.1;stroke-width:0.48;\" x=\"97.642157\" xlink:href=\"#medd4ac3738\" y=\"127.397973\"/>\n     <use style=\"fill:#386df9;fill-opacity:0.1;stroke:#ffffff;stroke-opacity:0.1;stroke-width:0.48;\" x=\"106.308702\" xlink:href=\"#medd4ac3738\" y=\"160.197083\"/>\n     <use style=\"fill:#386df9;fill-opacity:0.1;stroke:#ffffff;stroke-opacity:0.1;stroke-width:0.48;\" x=\"97.465778\" xlink:href=\"#medd4ac3738\" y=\"161.447588\"/>\n     <use style=\"fill:#386df9;fill-opacity:0.1;stroke:#ffffff;stroke-opacity:0.1;stroke-width:0.48;\" x=\"100.484277\" xlink:href=\"#medd4ac3738\" y=\"176.177324\"/>\n     <use style=\"fill:#386df9;fill-opacity:0.1;stroke:#ffffff;stroke-opacity:0.1;stroke-width:0.48;\" x=\"99.122763\" xlink:href=\"#medd4ac3738\" y=\"178.380409\"/>\n     <use style=\"fill:#386df9;fill-opacity:0.1;stroke:#ffffff;stroke-opacity:0.1;stroke-width:0.48;\" x=\"99.122763\" xlink:href=\"#medd4ac3738\" y=\"178.380409\"/>\n     <use style=\"fill:#386df9;fill-opacity:0.1;stroke:#ffffff;stroke-opacity:0.1;stroke-width:0.48;\" x=\"99.122763\" xlink:href=\"#medd4ac3738\" y=\"178.380409\"/>\n     <use style=\"fill:#386df9;fill-opacity:0.1;stroke:#ffffff;stroke-opacity:0.1;stroke-width:0.48;\" x=\"108.838182\" xlink:href=\"#medd4ac3738\" y=\"177.662113\"/>\n     <use style=\"fill:#386df9;fill-opacity:0.1;stroke:#ffffff;stroke-opacity:0.1;stroke-width:0.48;\" x=\"107.815369\" xlink:href=\"#medd4ac3738\" y=\"196.400913\"/>\n     <use style=\"fill:#386df9;fill-opacity:0.1;stroke:#ffffff;stroke-opacity:0.1;stroke-width:0.48;\" x=\"107.815369\" xlink:href=\"#medd4ac3738\" y=\"196.400913\"/>\n     <use style=\"fill:#386df9;fill-opacity:0.1;stroke:#ffffff;stroke-opacity:0.1;stroke-width:0.48;\" x=\"108.33545\" xlink:href=\"#medd4ac3738\" y=\"166.322404\"/>\n     <use style=\"fill:#386df9;fill-opacity:0.1;stroke:#ffffff;stroke-opacity:0.1;stroke-width:0.48;\" x=\"106.922586\" xlink:href=\"#medd4ac3738\" y=\"209.255457\"/>\n     <use style=\"fill:#386df9;fill-opacity:0.1;stroke:#ffffff;stroke-opacity:0.1;stroke-width:0.48;\" x=\"106.922586\" xlink:href=\"#medd4ac3738\" y=\"209.255457\"/>\n     <use style=\"fill:#386df9;fill-opacity:0.1;stroke:#ffffff;stroke-opacity:0.1;stroke-width:0.48;\" x=\"106.922586\" xlink:href=\"#medd4ac3738\" y=\"209.255457\"/>\n     <use style=\"fill:#386df9;fill-opacity:0.1;stroke:#ffffff;stroke-opacity:0.1;stroke-width:0.48;\" x=\"106.922586\" xlink:href=\"#medd4ac3738\" y=\"209.255457\"/>\n     <use style=\"fill:#386df9;fill-opacity:0.1;stroke:#ffffff;stroke-opacity:0.1;stroke-width:0.48;\" x=\"110.364701\" xlink:href=\"#medd4ac3738\" y=\"187.452442\"/>\n     <use style=\"fill:#386df9;fill-opacity:0.1;stroke:#ffffff;stroke-opacity:0.1;stroke-width:0.48;\" x=\"104.827336\" xlink:href=\"#medd4ac3738\" y=\"191.277165\"/>\n     <use style=\"fill:#386df9;fill-opacity:0.1;stroke:#ffffff;stroke-opacity:0.1;stroke-width:0.48;\" x=\"104.827336\" xlink:href=\"#medd4ac3738\" y=\"191.277165\"/>\n     <use style=\"fill:#386df9;fill-opacity:0.1;stroke:#ffffff;stroke-opacity:0.1;stroke-width:0.48;\" x=\"100.718796\" xlink:href=\"#medd4ac3738\" y=\"167.383715\"/>\n     <use style=\"fill:#386df9;fill-opacity:0.1;stroke:#ffffff;stroke-opacity:0.1;stroke-width:0.48;\" x=\"100.718796\" xlink:href=\"#medd4ac3738\" y=\"167.383715\"/>\n     <use style=\"fill:#386df9;fill-opacity:0.1;stroke:#ffffff;stroke-opacity:0.1;stroke-width:0.48;\" x=\"96.50106\" xlink:href=\"#medd4ac3738\" y=\"99.787684\"/>\n     <use style=\"fill:#386df9;fill-opacity:0.1;stroke:#ffffff;stroke-opacity:0.1;stroke-width:0.48;\" x=\"96.50106\" xlink:href=\"#medd4ac3738\" y=\"99.787684\"/>\n     <use style=\"fill:#386df9;fill-opacity:0.1;stroke:#ffffff;stroke-opacity:0.1;stroke-width:0.48;\" x=\"105.658659\" xlink:href=\"#medd4ac3738\" y=\"197.027345\"/>\n     <use style=\"fill:#386df9;fill-opacity:0.1;stroke:#ffffff;stroke-opacity:0.1;stroke-width:0.48;\" x=\"105.658659\" xlink:href=\"#medd4ac3738\" y=\"197.027345\"/>\n     <use style=\"fill:#386df9;fill-opacity:0.1;stroke:#ffffff;stroke-opacity:0.1;stroke-width:0.48;\" x=\"105.658659\" xlink:href=\"#medd4ac3738\" y=\"197.027345\"/>\n     <use style=\"fill:#386df9;fill-opacity:0.1;stroke:#ffffff;stroke-opacity:0.1;stroke-width:0.48;\" x=\"105.658659\" xlink:href=\"#medd4ac3738\" y=\"197.027345\"/>\n     <use style=\"fill:#386df9;fill-opacity:0.1;stroke:#ffffff;stroke-opacity:0.1;stroke-width:0.48;\" x=\"105.658659\" xlink:href=\"#medd4ac3738\" y=\"197.027345\"/>\n     <use style=\"fill:#386df9;fill-opacity:0.1;stroke:#ffffff;stroke-opacity:0.1;stroke-width:0.48;\" x=\"112.790946\" xlink:href=\"#medd4ac3738\" y=\"229.874489\"/>\n     <use style=\"fill:#386df9;fill-opacity:0.1;stroke:#ffffff;stroke-opacity:0.1;stroke-width:0.48;\" x=\"105.334431\" xlink:href=\"#medd4ac3738\" y=\"157.451546\"/>\n     <use style=\"fill:#386df9;fill-opacity:0.1;stroke:#ffffff;stroke-opacity:0.1;stroke-width:0.48;\" x=\"99.763912\" xlink:href=\"#medd4ac3738\" y=\"179.559891\"/>\n     <use style=\"fill:#386df9;fill-opacity:0.1;stroke:#ffffff;stroke-opacity:0.1;stroke-width:0.48;\" x=\"99.763912\" xlink:href=\"#medd4ac3738\" y=\"179.559891\"/>\n     <use style=\"fill:#386df9;fill-opacity:0.1;stroke:#ffffff;stroke-opacity:0.1;stroke-width:0.48;\" x=\"96.00477\" xlink:href=\"#medd4ac3738\" y=\"189.679205\"/>\n     <use style=\"fill:#386df9;fill-opacity:0.1;stroke:#ffffff;stroke-opacity:0.1;stroke-width:0.48;\" x=\"96.00477\" xlink:href=\"#medd4ac3738\" y=\"189.679205\"/>\n     <use style=\"fill:#386df9;fill-opacity:0.1;stroke:#ffffff;stroke-opacity:0.1;stroke-width:0.48;\" x=\"100.231811\" xlink:href=\"#medd4ac3738\" y=\"148.914701\"/>\n     <use style=\"fill:#386df9;fill-opacity:0.1;stroke:#ffffff;stroke-opacity:0.1;stroke-width:0.48;\" x=\"100.231811\" xlink:href=\"#medd4ac3738\" y=\"148.914701\"/>\n     <use style=\"fill:#386df9;fill-opacity:0.1;stroke:#ffffff;stroke-opacity:0.1;stroke-width:0.48;\" x=\"91.383375\" xlink:href=\"#medd4ac3738\" y=\"97.069799\"/>\n     <use style=\"fill:#386df9;fill-opacity:0.1;stroke:#ffffff;stroke-opacity:0.1;stroke-width:0.48;\" x=\"91.383375\" xlink:href=\"#medd4ac3738\" y=\"97.069799\"/>\n     <use style=\"fill:#386df9;fill-opacity:0.1;stroke:#ffffff;stroke-opacity:0.1;stroke-width:0.48;\" x=\"109.302317\" xlink:href=\"#medd4ac3738\" y=\"136.961199\"/>\n     <use style=\"fill:#386df9;fill-opacity:0.1;stroke:#ffffff;stroke-opacity:0.1;stroke-width:0.48;\" x=\"94.66848\" xlink:href=\"#medd4ac3738\" y=\"169.13411\"/>\n     <use style=\"fill:#386df9;fill-opacity:0.1;stroke:#ffffff;stroke-opacity:0.1;stroke-width:0.48;\" x=\"115.716156\" xlink:href=\"#medd4ac3738\" y=\"192.779334\"/>\n     <use style=\"fill:#386df9;fill-opacity:0.1;stroke:#ffffff;stroke-opacity:0.1;stroke-width:0.48;\" x=\"99.354414\" xlink:href=\"#medd4ac3738\" y=\"124.491629\"/>\n     <use style=\"fill:#386df9;fill-opacity:0.1;stroke:#ffffff;stroke-opacity:0.1;stroke-width:0.48;\" x=\"94.698724\" xlink:href=\"#medd4ac3738\" y=\"169.197169\"/>\n     <use style=\"fill:#386df9;fill-opacity:0.1;stroke:#ffffff;stroke-opacity:0.1;stroke-width:0.48;\" x=\"88.416582\" xlink:href=\"#medd4ac3738\" y=\"72.318294\"/>\n     <use style=\"fill:#386df9;fill-opacity:0.1;stroke:#ffffff;stroke-opacity:0.1;stroke-width:0.48;\" x=\"88.416582\" xlink:href=\"#medd4ac3738\" y=\"72.318294\"/>\n     <use style=\"fill:#386df9;fill-opacity:0.1;stroke:#ffffff;stroke-opacity:0.1;stroke-width:0.48;\" x=\"88.416582\" xlink:href=\"#medd4ac3738\" y=\"72.318294\"/>\n     <use style=\"fill:#386df9;fill-opacity:0.1;stroke:#ffffff;stroke-opacity:0.1;stroke-width:0.48;\" x=\"98.680254\" xlink:href=\"#medd4ac3738\" y=\"150.610075\"/>\n     <use style=\"fill:#386df9;fill-opacity:0.1;stroke:#ffffff;stroke-opacity:0.1;stroke-width:0.48;\" x=\"98.680254\" xlink:href=\"#medd4ac3738\" y=\"150.610075\"/>\n     <use style=\"fill:#386df9;fill-opacity:0.1;stroke:#ffffff;stroke-opacity:0.1;stroke-width:0.48;\" x=\"98.680254\" xlink:href=\"#medd4ac3738\" y=\"150.610075\"/>\n     <use style=\"fill:#386df9;fill-opacity:0.1;stroke:#ffffff;stroke-opacity:0.1;stroke-width:0.48;\" x=\"98.680254\" xlink:href=\"#medd4ac3738\" y=\"150.610075\"/>\n     <use style=\"fill:#386df9;fill-opacity:0.1;stroke:#ffffff;stroke-opacity:0.1;stroke-width:0.48;\" x=\"98.680254\" xlink:href=\"#medd4ac3738\" y=\"150.610075\"/>\n     <use style=\"fill:#386df9;fill-opacity:0.1;stroke:#ffffff;stroke-opacity:0.1;stroke-width:0.48;\" x=\"98.680254\" xlink:href=\"#medd4ac3738\" y=\"150.610075\"/>\n     <use style=\"fill:#386df9;fill-opacity:0.1;stroke:#ffffff;stroke-opacity:0.1;stroke-width:0.48;\" x=\"98.680254\" xlink:href=\"#medd4ac3738\" y=\"150.610075\"/>\n     <use style=\"fill:#386df9;fill-opacity:0.1;stroke:#ffffff;stroke-opacity:0.1;stroke-width:0.48;\" x=\"109.182022\" xlink:href=\"#medd4ac3738\" y=\"181.51163\"/>\n     <use style=\"fill:#386df9;fill-opacity:0.1;stroke:#ffffff;stroke-opacity:0.1;stroke-width:0.48;\" x=\"100.160454\" xlink:href=\"#medd4ac3738\" y=\"157.915693\"/>\n     <use style=\"fill:#386df9;fill-opacity:0.1;stroke:#ffffff;stroke-opacity:0.1;stroke-width:0.48;\" x=\"100.160454\" xlink:href=\"#medd4ac3738\" y=\"157.915693\"/>\n     <use style=\"fill:#386df9;fill-opacity:0.1;stroke:#ffffff;stroke-opacity:0.1;stroke-width:0.48;\" x=\"100.160454\" xlink:href=\"#medd4ac3738\" y=\"157.915693\"/>\n     <use style=\"fill:#386df9;fill-opacity:0.1;stroke:#ffffff;stroke-opacity:0.1;stroke-width:0.48;\" x=\"100.160454\" xlink:href=\"#medd4ac3738\" y=\"157.915693\"/>\n     <use style=\"fill:#386df9;fill-opacity:0.1;stroke:#ffffff;stroke-opacity:0.1;stroke-width:0.48;\" x=\"100.160454\" xlink:href=\"#medd4ac3738\" y=\"157.915693\"/>\n     <use style=\"fill:#386df9;fill-opacity:0.1;stroke:#ffffff;stroke-opacity:0.1;stroke-width:0.48;\" x=\"96.618483\" xlink:href=\"#medd4ac3738\" y=\"115.346172\"/>\n     <use style=\"fill:#386df9;fill-opacity:0.1;stroke:#ffffff;stroke-opacity:0.1;stroke-width:0.48;\" x=\"96.618483\" xlink:href=\"#medd4ac3738\" y=\"115.346172\"/>\n     <use style=\"fill:#386df9;fill-opacity:0.1;stroke:#ffffff;stroke-opacity:0.1;stroke-width:0.48;\" x=\"96.618483\" xlink:href=\"#medd4ac3738\" y=\"115.346172\"/>\n     <use style=\"fill:#386df9;fill-opacity:0.1;stroke:#ffffff;stroke-opacity:0.1;stroke-width:0.48;\" x=\"90.841001\" xlink:href=\"#medd4ac3738\" y=\"161.688332\"/>\n     <use style=\"fill:#386df9;fill-opacity:0.1;stroke:#ffffff;stroke-opacity:0.1;stroke-width:0.48;\" x=\"100.060402\" xlink:href=\"#medd4ac3738\" y=\"178.743276\"/>\n     <use style=\"fill:#386df9;fill-opacity:0.1;stroke:#ffffff;stroke-opacity:0.1;stroke-width:0.48;\" x=\"88.604528\" xlink:href=\"#medd4ac3738\" y=\"88.203034\"/>\n     <use style=\"fill:#386df9;fill-opacity:0.1;stroke:#ffffff;stroke-opacity:0.1;stroke-width:0.48;\" x=\"88.604528\" xlink:href=\"#medd4ac3738\" y=\"88.203034\"/>\n     <use style=\"fill:#386df9;fill-opacity:0.1;stroke:#ffffff;stroke-opacity:0.1;stroke-width:0.48;\" x=\"88.604528\" xlink:href=\"#medd4ac3738\" y=\"88.203034\"/>\n     <use style=\"fill:#386df9;fill-opacity:0.1;stroke:#ffffff;stroke-opacity:0.1;stroke-width:0.48;\" x=\"88.604528\" xlink:href=\"#medd4ac3738\" y=\"88.203034\"/>\n     <use style=\"fill:#386df9;fill-opacity:0.1;stroke:#ffffff;stroke-opacity:0.1;stroke-width:0.48;\" x=\"88.604528\" xlink:href=\"#medd4ac3738\" y=\"88.203034\"/>\n     <use style=\"fill:#386df9;fill-opacity:0.1;stroke:#ffffff;stroke-opacity:0.1;stroke-width:0.48;\" x=\"100.226423\" xlink:href=\"#medd4ac3738\" y=\"126.590078\"/>\n     <use style=\"fill:#386df9;fill-opacity:0.1;stroke:#ffffff;stroke-opacity:0.1;stroke-width:0.48;\" x=\"99.399497\" xlink:href=\"#medd4ac3738\" y=\"122.842264\"/>\n     <use style=\"fill:#386df9;fill-opacity:0.1;stroke:#ffffff;stroke-opacity:0.1;stroke-width:0.48;\" x=\"96.112621\" xlink:href=\"#medd4ac3738\" y=\"128.29963\"/>\n     <use style=\"fill:#386df9;fill-opacity:0.1;stroke:#ffffff;stroke-opacity:0.1;stroke-width:0.48;\" x=\"96.112621\" xlink:href=\"#medd4ac3738\" y=\"128.29963\"/>\n     <use style=\"fill:#386df9;fill-opacity:0.1;stroke:#ffffff;stroke-opacity:0.1;stroke-width:0.48;\" x=\"95.074469\" xlink:href=\"#medd4ac3738\" y=\"156.781947\"/>\n     <use style=\"fill:#386df9;fill-opacity:0.1;stroke:#ffffff;stroke-opacity:0.1;stroke-width:0.48;\" x=\"95.074469\" xlink:href=\"#medd4ac3738\" y=\"156.781947\"/>\n     <use style=\"fill:#386df9;fill-opacity:0.1;stroke:#ffffff;stroke-opacity:0.1;stroke-width:0.48;\" x=\"95.074469\" xlink:href=\"#medd4ac3738\" y=\"156.781947\"/>\n     <use style=\"fill:#386df9;fill-opacity:0.1;stroke:#ffffff;stroke-opacity:0.1;stroke-width:0.48;\" x=\"95.074469\" xlink:href=\"#medd4ac3738\" y=\"156.781947\"/>\n     <use style=\"fill:#386df9;fill-opacity:0.1;stroke:#ffffff;stroke-opacity:0.1;stroke-width:0.48;\" x=\"92.591475\" xlink:href=\"#medd4ac3738\" y=\"163.48509\"/>\n     <use style=\"fill:#386df9;fill-opacity:0.1;stroke:#ffffff;stroke-opacity:0.1;stroke-width:0.48;\" x=\"101.672621\" xlink:href=\"#medd4ac3738\" y=\"187.478933\"/>\n     <use style=\"fill:#386df9;fill-opacity:0.1;stroke:#ffffff;stroke-opacity:0.1;stroke-width:0.48;\" x=\"101.672621\" xlink:href=\"#medd4ac3738\" y=\"187.478933\"/>\n     <use style=\"fill:#386df9;fill-opacity:0.1;stroke:#ffffff;stroke-opacity:0.1;stroke-width:0.48;\" x=\"101.672621\" xlink:href=\"#medd4ac3738\" y=\"187.478933\"/>\n     <use style=\"fill:#386df9;fill-opacity:0.1;stroke:#ffffff;stroke-opacity:0.1;stroke-width:0.48;\" x=\"109.044797\" xlink:href=\"#medd4ac3738\" y=\"169.505669\"/>\n     <use style=\"fill:#386df9;fill-opacity:0.1;stroke:#ffffff;stroke-opacity:0.1;stroke-width:0.48;\" x=\"109.044797\" xlink:href=\"#medd4ac3738\" y=\"169.505669\"/>\n     <use style=\"fill:#386df9;fill-opacity:0.1;stroke:#ffffff;stroke-opacity:0.1;stroke-width:0.48;\" x=\"109.044797\" xlink:href=\"#medd4ac3738\" y=\"169.505669\"/>\n     <use style=\"fill:#386df9;fill-opacity:0.1;stroke:#ffffff;stroke-opacity:0.1;stroke-width:0.48;\" x=\"109.044797\" xlink:href=\"#medd4ac3738\" y=\"169.505669\"/>\n     <use style=\"fill:#386df9;fill-opacity:0.1;stroke:#ffffff;stroke-opacity:0.1;stroke-width:0.48;\" x=\"99.554138\" xlink:href=\"#medd4ac3738\" y=\"178.147547\"/>\n     <use style=\"fill:#386df9;fill-opacity:0.1;stroke:#ffffff;stroke-opacity:0.1;stroke-width:0.48;\" x=\"99.554138\" xlink:href=\"#medd4ac3738\" y=\"178.147547\"/>\n     <use style=\"fill:#386df9;fill-opacity:0.1;stroke:#ffffff;stroke-opacity:0.1;stroke-width:0.48;\" x=\"99.554138\" xlink:href=\"#medd4ac3738\" y=\"178.147547\"/>\n     <use style=\"fill:#386df9;fill-opacity:0.1;stroke:#ffffff;stroke-opacity:0.1;stroke-width:0.48;\" x=\"109.923543\" xlink:href=\"#medd4ac3738\" y=\"155.881407\"/>\n     <use style=\"fill:#386df9;fill-opacity:0.1;stroke:#ffffff;stroke-opacity:0.1;stroke-width:0.48;\" x=\"109.923543\" xlink:href=\"#medd4ac3738\" y=\"155.881407\"/>\n     <use style=\"fill:#386df9;fill-opacity:0.1;stroke:#ffffff;stroke-opacity:0.1;stroke-width:0.48;\" x=\"109.923543\" xlink:href=\"#medd4ac3738\" y=\"155.881407\"/>\n     <use style=\"fill:#386df9;fill-opacity:0.1;stroke:#ffffff;stroke-opacity:0.1;stroke-width:0.48;\" x=\"90.449637\" xlink:href=\"#medd4ac3738\" y=\"161.994658\"/>\n     <use style=\"fill:#386df9;fill-opacity:0.1;stroke:#ffffff;stroke-opacity:0.1;stroke-width:0.48;\" x=\"90.449637\" xlink:href=\"#medd4ac3738\" y=\"161.994658\"/>\n     <use style=\"fill:#386df9;fill-opacity:0.1;stroke:#ffffff;stroke-opacity:0.1;stroke-width:0.48;\" x=\"90.449637\" xlink:href=\"#medd4ac3738\" y=\"161.994658\"/>\n     <use style=\"fill:#386df9;fill-opacity:0.1;stroke:#ffffff;stroke-opacity:0.1;stroke-width:0.48;\" x=\"90.449637\" xlink:href=\"#medd4ac3738\" y=\"161.994658\"/>\n     <use style=\"fill:#386df9;fill-opacity:0.1;stroke:#ffffff;stroke-opacity:0.1;stroke-width:0.48;\" x=\"110.3125\" xlink:href=\"#medd4ac3738\" y=\"186.610421\"/>\n     <use style=\"fill:#386df9;fill-opacity:0.1;stroke:#ffffff;stroke-opacity:0.1;stroke-width:0.48;\" x=\"110.3125\" xlink:href=\"#medd4ac3738\" y=\"186.610421\"/>\n     <use style=\"fill:#386df9;fill-opacity:0.1;stroke:#ffffff;stroke-opacity:0.1;stroke-width:0.48;\" x=\"110.3125\" xlink:href=\"#medd4ac3738\" y=\"186.610421\"/>\n     <use style=\"fill:#386df9;fill-opacity:0.1;stroke:#ffffff;stroke-opacity:0.1;stroke-width:0.48;\" x=\"110.3125\" xlink:href=\"#medd4ac3738\" y=\"186.610421\"/>\n     <use style=\"fill:#386df9;fill-opacity:0.1;stroke:#ffffff;stroke-opacity:0.1;stroke-width:0.48;\" x=\"103.580903\" xlink:href=\"#medd4ac3738\" y=\"162.42695\"/>\n     <use style=\"fill:#386df9;fill-opacity:0.1;stroke:#ffffff;stroke-opacity:0.1;stroke-width:0.48;\" x=\"103.580903\" xlink:href=\"#medd4ac3738\" y=\"162.42695\"/>\n     <use style=\"fill:#386df9;fill-opacity:0.1;stroke:#ffffff;stroke-opacity:0.1;stroke-width:0.48;\" x=\"103.580903\" xlink:href=\"#medd4ac3738\" y=\"162.42695\"/>\n     <use style=\"fill:#386df9;fill-opacity:0.1;stroke:#ffffff;stroke-opacity:0.1;stroke-width:0.48;\" x=\"105.458966\" xlink:href=\"#medd4ac3738\" y=\"162.05712\"/>\n     <use style=\"fill:#386df9;fill-opacity:0.1;stroke:#ffffff;stroke-opacity:0.1;stroke-width:0.48;\" x=\"103.648719\" xlink:href=\"#medd4ac3738\" y=\"178.112037\"/>\n     <use style=\"fill:#386df9;fill-opacity:0.1;stroke:#ffffff;stroke-opacity:0.1;stroke-width:0.48;\" x=\"99.32417\" xlink:href=\"#medd4ac3738\" y=\"124.428571\"/>\n     <use style=\"fill:#386df9;fill-opacity:0.1;stroke:#ffffff;stroke-opacity:0.1;stroke-width:0.48;\" x=\"93.482678\" xlink:href=\"#medd4ac3738\" y=\"180.925565\"/>\n     <use style=\"fill:#386df9;fill-opacity:0.1;stroke:#ffffff;stroke-opacity:0.1;stroke-width:0.48;\" x=\"93.482678\" xlink:href=\"#medd4ac3738\" y=\"180.925565\"/>\n     <use style=\"fill:#386df9;fill-opacity:0.1;stroke:#ffffff;stroke-opacity:0.1;stroke-width:0.48;\" x=\"92.792702\" xlink:href=\"#medd4ac3738\" y=\"125.677679\"/>\n     <use style=\"fill:#386df9;fill-opacity:0.1;stroke:#ffffff;stroke-opacity:0.1;stroke-width:0.48;\" x=\"92.792702\" xlink:href=\"#medd4ac3738\" y=\"125.677679\"/>\n     <use style=\"fill:#386df9;fill-opacity:0.1;stroke:#ffffff;stroke-opacity:0.1;stroke-width:0.48;\" x=\"92.792702\" xlink:href=\"#medd4ac3738\" y=\"125.677679\"/>\n     <use style=\"fill:#386df9;fill-opacity:0.1;stroke:#ffffff;stroke-opacity:0.1;stroke-width:0.48;\" x=\"110.285783\" xlink:href=\"#medd4ac3738\" y=\"175.086207\"/>\n     <use style=\"fill:#386df9;fill-opacity:0.1;stroke:#ffffff;stroke-opacity:0.1;stroke-width:0.48;\" x=\"110.285783\" xlink:href=\"#medd4ac3738\" y=\"175.086207\"/>\n     <use style=\"fill:#386df9;fill-opacity:0.1;stroke:#ffffff;stroke-opacity:0.1;stroke-width:0.48;\" x=\"110.285783\" xlink:href=\"#medd4ac3738\" y=\"175.086207\"/>\n     <use style=\"fill:#386df9;fill-opacity:0.1;stroke:#ffffff;stroke-opacity:0.1;stroke-width:0.48;\" x=\"104.764743\" xlink:href=\"#medd4ac3738\" y=\"171.145095\"/>\n     <use style=\"fill:#386df9;fill-opacity:0.1;stroke:#ffffff;stroke-opacity:0.1;stroke-width:0.48;\" x=\"104.764743\" xlink:href=\"#medd4ac3738\" y=\"171.145095\"/>\n     <use style=\"fill:#386df9;fill-opacity:0.1;stroke:#ffffff;stroke-opacity:0.1;stroke-width:0.48;\" x=\"106.586209\" xlink:href=\"#medd4ac3738\" y=\"179.342314\"/>\n     <use style=\"fill:#386df9;fill-opacity:0.1;stroke:#ffffff;stroke-opacity:0.1;stroke-width:0.48;\" x=\"106.586209\" xlink:href=\"#medd4ac3738\" y=\"179.342314\"/>\n     <use style=\"fill:#386df9;fill-opacity:0.1;stroke:#ffffff;stroke-opacity:0.1;stroke-width:0.48;\" x=\"93.468763\" xlink:href=\"#medd4ac3738\" y=\"187.684104\"/>\n     <use style=\"fill:#386df9;fill-opacity:0.1;stroke:#ffffff;stroke-opacity:0.1;stroke-width:0.48;\" x=\"96.092122\" xlink:href=\"#medd4ac3738\" y=\"134.754641\"/>\n     <use style=\"fill:#386df9;fill-opacity:0.1;stroke:#ffffff;stroke-opacity:0.1;stroke-width:0.48;\" x=\"96.092122\" xlink:href=\"#medd4ac3738\" y=\"134.754641\"/>\n     <use style=\"fill:#386df9;fill-opacity:0.1;stroke:#ffffff;stroke-opacity:0.1;stroke-width:0.48;\" x=\"104.536046\" xlink:href=\"#medd4ac3738\" y=\"172.304601\"/>\n     <use style=\"fill:#386df9;fill-opacity:0.1;stroke:#ffffff;stroke-opacity:0.1;stroke-width:0.48;\" x=\"104.536046\" xlink:href=\"#medd4ac3738\" y=\"172.304601\"/>\n     <use style=\"fill:#386df9;fill-opacity:0.1;stroke:#ffffff;stroke-opacity:0.1;stroke-width:0.48;\" x=\"102.902638\" xlink:href=\"#medd4ac3738\" y=\"155.825217\"/>\n     <use style=\"fill:#386df9;fill-opacity:0.1;stroke:#ffffff;stroke-opacity:0.1;stroke-width:0.48;\" x=\"102.902638\" xlink:href=\"#medd4ac3738\" y=\"155.825217\"/>\n     <use style=\"fill:#386df9;fill-opacity:0.1;stroke:#ffffff;stroke-opacity:0.1;stroke-width:0.48;\" x=\"105.681379\" xlink:href=\"#medd4ac3738\" y=\"197.074718\"/>\n     <use style=\"fill:#386df9;fill-opacity:0.1;stroke:#ffffff;stroke-opacity:0.1;stroke-width:0.48;\" x=\"105.681379\" xlink:href=\"#medd4ac3738\" y=\"197.074718\"/>\n     <use style=\"fill:#386df9;fill-opacity:0.1;stroke:#ffffff;stroke-opacity:0.1;stroke-width:0.48;\" x=\"97.631221\" xlink:href=\"#medd4ac3738\" y=\"127.097868\"/>\n     <use style=\"fill:#386df9;fill-opacity:0.1;stroke:#ffffff;stroke-opacity:0.1;stroke-width:0.48;\" x=\"97.862757\" xlink:href=\"#medd4ac3738\" y=\"165.797497\"/>\n     <use style=\"fill:#386df9;fill-opacity:0.1;stroke:#ffffff;stroke-opacity:0.1;stroke-width:0.48;\" x=\"100.417165\" xlink:href=\"#medd4ac3738\" y=\"171.734163\"/>\n     <use style=\"fill:#386df9;fill-opacity:0.1;stroke:#ffffff;stroke-opacity:0.1;stroke-width:0.48;\" x=\"94.105172\" xlink:href=\"#medd4ac3738\" y=\"183.573933\"/>\n     <use style=\"fill:#386df9;fill-opacity:0.1;stroke:#ffffff;stroke-opacity:0.1;stroke-width:0.48;\" x=\"94.105172\" xlink:href=\"#medd4ac3738\" y=\"183.573933\"/>\n     <use style=\"fill:#386df9;fill-opacity:0.1;stroke:#ffffff;stroke-opacity:0.1;stroke-width:0.48;\" x=\"101.568008\" xlink:href=\"#medd4ac3738\" y=\"146.535003\"/>\n     <use style=\"fill:#386df9;fill-opacity:0.1;stroke:#ffffff;stroke-opacity:0.1;stroke-width:0.48;\" x=\"101.568008\" xlink:href=\"#medd4ac3738\" y=\"146.535003\"/>\n     <use style=\"fill:#386df9;fill-opacity:0.1;stroke:#ffffff;stroke-opacity:0.1;stroke-width:0.48;\" x=\"101.568008\" xlink:href=\"#medd4ac3738\" y=\"146.535003\"/>\n     <use style=\"fill:#386df9;fill-opacity:0.1;stroke:#ffffff;stroke-opacity:0.1;stroke-width:0.48;\" x=\"101.568008\" xlink:href=\"#medd4ac3738\" y=\"146.535003\"/>\n     <use style=\"fill:#386df9;fill-opacity:0.1;stroke:#ffffff;stroke-opacity:0.1;stroke-width:0.48;\" x=\"88.01394\" xlink:href=\"#medd4ac3738\" y=\"111.417315\"/>\n     <use style=\"fill:#386df9;fill-opacity:0.1;stroke:#ffffff;stroke-opacity:0.1;stroke-width:0.48;\" x=\"97.719846\" xlink:href=\"#medd4ac3738\" y=\"90.145132\"/>\n     <use style=\"fill:#386df9;fill-opacity:0.1;stroke:#ffffff;stroke-opacity:0.1;stroke-width:0.48;\" x=\"109.924095\" xlink:href=\"#medd4ac3738\" y=\"172.536988\"/>\n     <use style=\"fill:#386df9;fill-opacity:0.1;stroke:#ffffff;stroke-opacity:0.1;stroke-width:0.48;\" x=\"109.924095\" xlink:href=\"#medd4ac3738\" y=\"172.536988\"/>\n     <use style=\"fill:#386df9;fill-opacity:0.1;stroke:#ffffff;stroke-opacity:0.1;stroke-width:0.48;\" x=\"109.924095\" xlink:href=\"#medd4ac3738\" y=\"172.536988\"/>\n     <use style=\"fill:#386df9;fill-opacity:0.1;stroke:#ffffff;stroke-opacity:0.1;stroke-width:0.48;\" x=\"106.168265\" xlink:href=\"#medd4ac3738\" y=\"165.742451\"/>\n     <use style=\"fill:#386df9;fill-opacity:0.1;stroke:#ffffff;stroke-opacity:0.1;stroke-width:0.48;\" x=\"106.168265\" xlink:href=\"#medd4ac3738\" y=\"165.742451\"/>\n     <use style=\"fill:#386df9;fill-opacity:0.1;stroke:#ffffff;stroke-opacity:0.1;stroke-width:0.48;\" x=\"99.354301\" xlink:href=\"#medd4ac3738\" y=\"188.169404\"/>\n     <use style=\"fill:#386df9;fill-opacity:0.1;stroke:#ffffff;stroke-opacity:0.1;stroke-width:0.48;\" x=\"99.354301\" xlink:href=\"#medd4ac3738\" y=\"188.169404\"/>\n     <use style=\"fill:#386df9;fill-opacity:0.1;stroke:#ffffff;stroke-opacity:0.1;stroke-width:0.48;\" x=\"88.518972\" xlink:href=\"#medd4ac3738\" y=\"144.010004\"/>\n     <use style=\"fill:#386df9;fill-opacity:0.1;stroke:#ffffff;stroke-opacity:0.1;stroke-width:0.48;\" x=\"102.595597\" xlink:href=\"#medd4ac3738\" y=\"161.079998\"/>\n     <use style=\"fill:#386df9;fill-opacity:0.1;stroke:#ffffff;stroke-opacity:0.1;stroke-width:0.48;\" x=\"102.595597\" xlink:href=\"#medd4ac3738\" y=\"161.079998\"/>\n     <use style=\"fill:#386df9;fill-opacity:0.1;stroke:#ffffff;stroke-opacity:0.1;stroke-width:0.48;\" x=\"102.595597\" xlink:href=\"#medd4ac3738\" y=\"161.079998\"/>\n     <use style=\"fill:#386df9;fill-opacity:0.1;stroke:#ffffff;stroke-opacity:0.1;stroke-width:0.48;\" x=\"98.945258\" xlink:href=\"#medd4ac3738\" y=\"124.677011\"/>\n     <use style=\"fill:#386df9;fill-opacity:0.1;stroke:#ffffff;stroke-opacity:0.1;stroke-width:0.48;\" x=\"104.582542\" xlink:href=\"#medd4ac3738\" y=\"193.358975\"/>\n     <use style=\"fill:#386df9;fill-opacity:0.1;stroke:#ffffff;stroke-opacity:0.1;stroke-width:0.48;\" x=\"104.582542\" xlink:href=\"#medd4ac3738\" y=\"193.358975\"/>\n     <use style=\"fill:#386df9;fill-opacity:0.1;stroke:#ffffff;stroke-opacity:0.1;stroke-width:0.48;\" x=\"104.582542\" xlink:href=\"#medd4ac3738\" y=\"193.358975\"/>\n     <use style=\"fill:#386df9;fill-opacity:0.1;stroke:#ffffff;stroke-opacity:0.1;stroke-width:0.48;\" x=\"104.582542\" xlink:href=\"#medd4ac3738\" y=\"193.358975\"/>\n     <use style=\"fill:#386df9;fill-opacity:0.1;stroke:#ffffff;stroke-opacity:0.1;stroke-width:0.48;\" x=\"104.582542\" xlink:href=\"#medd4ac3738\" y=\"193.358975\"/>\n     <use style=\"fill:#386df9;fill-opacity:0.1;stroke:#ffffff;stroke-opacity:0.1;stroke-width:0.48;\" x=\"92.034974\" xlink:href=\"#medd4ac3738\" y=\"182.661165\"/>\n     <use style=\"fill:#386df9;fill-opacity:0.1;stroke:#ffffff;stroke-opacity:0.1;stroke-width:0.48;\" x=\"92.034974\" xlink:href=\"#medd4ac3738\" y=\"182.661165\"/>\n     <use style=\"fill:#386df9;fill-opacity:0.1;stroke:#ffffff;stroke-opacity:0.1;stroke-width:0.48;\" x=\"92.034974\" xlink:href=\"#medd4ac3738\" y=\"182.661165\"/>\n     <use style=\"fill:#386df9;fill-opacity:0.1;stroke:#ffffff;stroke-opacity:0.1;stroke-width:0.48;\" x=\"110.740068\" xlink:href=\"#medd4ac3738\" y=\"179.605247\"/>\n     <use style=\"fill:#386df9;fill-opacity:0.1;stroke:#ffffff;stroke-opacity:0.1;stroke-width:0.48;\" x=\"97.006797\" xlink:href=\"#medd4ac3738\" y=\"185.758494\"/>\n     <use style=\"fill:#386df9;fill-opacity:0.1;stroke:#ffffff;stroke-opacity:0.1;stroke-width:0.48;\" x=\"97.006797\" xlink:href=\"#medd4ac3738\" y=\"185.758494\"/>\n     <use style=\"fill:#386df9;fill-opacity:0.1;stroke:#ffffff;stroke-opacity:0.1;stroke-width:0.48;\" x=\"97.006797\" xlink:href=\"#medd4ac3738\" y=\"185.758494\"/>\n     <use style=\"fill:#386df9;fill-opacity:0.1;stroke:#ffffff;stroke-opacity:0.1;stroke-width:0.48;\" x=\"107.883778\" xlink:href=\"#medd4ac3738\" y=\"138.346722\"/>\n     <use style=\"fill:#386df9;fill-opacity:0.1;stroke:#ffffff;stroke-opacity:0.1;stroke-width:0.48;\" x=\"104.47642\" xlink:href=\"#medd4ac3738\" y=\"151.8934\"/>\n     <use style=\"fill:#386df9;fill-opacity:0.1;stroke:#ffffff;stroke-opacity:0.1;stroke-width:0.48;\" x=\"104.47642\" xlink:href=\"#medd4ac3738\" y=\"151.8934\"/>\n     <use style=\"fill:#386df9;fill-opacity:0.1;stroke:#ffffff;stroke-opacity:0.1;stroke-width:0.48;\" x=\"104.47642\" xlink:href=\"#medd4ac3738\" y=\"151.8934\"/>\n     <use style=\"fill:#386df9;fill-opacity:0.1;stroke:#ffffff;stroke-opacity:0.1;stroke-width:0.48;\" x=\"86.332348\" xlink:href=\"#medd4ac3738\" y=\"126.687793\"/>\n     <use style=\"fill:#386df9;fill-opacity:0.1;stroke:#ffffff;stroke-opacity:0.1;stroke-width:0.48;\" x=\"86.332348\" xlink:href=\"#medd4ac3738\" y=\"126.687793\"/>\n     <use style=\"fill:#386df9;fill-opacity:0.1;stroke:#ffffff;stroke-opacity:0.1;stroke-width:0.48;\" x=\"86.332348\" xlink:href=\"#medd4ac3738\" y=\"126.687793\"/>\n     <use style=\"fill:#386df9;fill-opacity:0.1;stroke:#ffffff;stroke-opacity:0.1;stroke-width:0.48;\" x=\"86.332348\" xlink:href=\"#medd4ac3738\" y=\"126.687793\"/>\n     <use style=\"fill:#386df9;fill-opacity:0.1;stroke:#ffffff;stroke-opacity:0.1;stroke-width:0.48;\" x=\"86.332348\" xlink:href=\"#medd4ac3738\" y=\"126.687793\"/>\n     <use style=\"fill:#386df9;fill-opacity:0.1;stroke:#ffffff;stroke-opacity:0.1;stroke-width:0.48;\" x=\"94.66144\" xlink:href=\"#medd4ac3738\" y=\"178.881525\"/>\n     <use style=\"fill:#386df9;fill-opacity:0.1;stroke:#ffffff;stroke-opacity:0.1;stroke-width:0.48;\" x=\"94.66144\" xlink:href=\"#medd4ac3738\" y=\"178.881525\"/>\n     <use style=\"fill:#386df9;fill-opacity:0.1;stroke:#ffffff;stroke-opacity:0.1;stroke-width:0.48;\" x=\"94.66144\" xlink:href=\"#medd4ac3738\" y=\"178.881525\"/>\n     <use style=\"fill:#386df9;fill-opacity:0.1;stroke:#ffffff;stroke-opacity:0.1;stroke-width:0.48;\" x=\"102.203542\" xlink:href=\"#medd4ac3738\" y=\"195.995724\"/>\n     <use style=\"fill:#386df9;fill-opacity:0.1;stroke:#ffffff;stroke-opacity:0.1;stroke-width:0.48;\" x=\"102.203542\" xlink:href=\"#medd4ac3738\" y=\"195.995724\"/>\n     <use style=\"fill:#386df9;fill-opacity:0.1;stroke:#ffffff;stroke-opacity:0.1;stroke-width:0.48;\" x=\"99.946726\" xlink:href=\"#medd4ac3738\" y=\"167.464118\"/>\n     <use style=\"fill:#386df9;fill-opacity:0.1;stroke:#ffffff;stroke-opacity:0.1;stroke-width:0.48;\" x=\"99.946726\" xlink:href=\"#medd4ac3738\" y=\"167.464118\"/>\n     <use style=\"fill:#386df9;fill-opacity:0.1;stroke:#ffffff;stroke-opacity:0.1;stroke-width:0.48;\" x=\"99.946726\" xlink:href=\"#medd4ac3738\" y=\"167.464118\"/>\n     <use style=\"fill:#386df9;fill-opacity:0.1;stroke:#ffffff;stroke-opacity:0.1;stroke-width:0.48;\" x=\"99.946726\" xlink:href=\"#medd4ac3738\" y=\"167.464118\"/>\n     <use style=\"fill:#386df9;fill-opacity:0.1;stroke:#ffffff;stroke-opacity:0.1;stroke-width:0.48;\" x=\"99.976847\" xlink:href=\"#medd4ac3738\" y=\"143.817483\"/>\n     <use style=\"fill:#386df9;fill-opacity:0.1;stroke:#ffffff;stroke-opacity:0.1;stroke-width:0.48;\" x=\"109.328673\" xlink:href=\"#medd4ac3738\" y=\"166.195866\"/>\n     <use style=\"fill:#386df9;fill-opacity:0.1;stroke:#ffffff;stroke-opacity:0.1;stroke-width:0.48;\" x=\"81.686898\" xlink:href=\"#medd4ac3738\" y=\"70.522936\"/>\n     <use style=\"fill:#386df9;fill-opacity:0.1;stroke:#ffffff;stroke-opacity:0.1;stroke-width:0.48;\" x=\"102.359228\" xlink:href=\"#medd4ac3738\" y=\"190.036281\"/>\n     <use style=\"fill:#386df9;fill-opacity:0.1;stroke:#ffffff;stroke-opacity:0.1;stroke-width:0.48;\" x=\"98.637052\" xlink:href=\"#medd4ac3738\" y=\"169.290488\"/>\n     <use style=\"fill:#386df9;fill-opacity:0.1;stroke:#ffffff;stroke-opacity:0.1;stroke-width:0.48;\" x=\"98.538067\" xlink:href=\"#medd4ac3738\" y=\"173.424767\"/>\n     <use style=\"fill:#386df9;fill-opacity:0.1;stroke:#ffffff;stroke-opacity:0.1;stroke-width:0.48;\" x=\"101.035437\" xlink:href=\"#medd4ac3738\" y=\"180.558462\"/>\n     <use style=\"fill:#386df9;fill-opacity:0.1;stroke:#ffffff;stroke-opacity:0.1;stroke-width:0.48;\" x=\"98.36566\" xlink:href=\"#medd4ac3738\" y=\"109.49942\"/>\n     <use style=\"fill:#386df9;fill-opacity:0.1;stroke:#ffffff;stroke-opacity:0.1;stroke-width:0.48;\" x=\"98.36566\" xlink:href=\"#medd4ac3738\" y=\"109.49942\"/>\n     <use style=\"fill:#386df9;fill-opacity:0.1;stroke:#ffffff;stroke-opacity:0.1;stroke-width:0.48;\" x=\"109.30494\" xlink:href=\"#medd4ac3738\" y=\"166.403224\"/>\n     <use style=\"fill:#386df9;fill-opacity:0.1;stroke:#ffffff;stroke-opacity:0.1;stroke-width:0.48;\" x=\"109.30494\" xlink:href=\"#medd4ac3738\" y=\"166.403224\"/>\n     <use style=\"fill:#386df9;fill-opacity:0.1;stroke:#ffffff;stroke-opacity:0.1;stroke-width:0.48;\" x=\"96.925369\" xlink:href=\"#medd4ac3738\" y=\"158.48842\"/>\n     <use style=\"fill:#386df9;fill-opacity:0.1;stroke:#ffffff;stroke-opacity:0.1;stroke-width:0.48;\" x=\"96.925369\" xlink:href=\"#medd4ac3738\" y=\"158.48842\"/>\n     <use style=\"fill:#386df9;fill-opacity:0.1;stroke:#ffffff;stroke-opacity:0.1;stroke-width:0.48;\" x=\"106.615004\" xlink:href=\"#medd4ac3738\" y=\"176.930957\"/>\n     <use style=\"fill:#386df9;fill-opacity:0.1;stroke:#ffffff;stroke-opacity:0.1;stroke-width:0.48;\" x=\"106.615004\" xlink:href=\"#medd4ac3738\" y=\"176.930957\"/>\n     <use style=\"fill:#386df9;fill-opacity:0.1;stroke:#ffffff;stroke-opacity:0.1;stroke-width:0.48;\" x=\"102.283639\" xlink:href=\"#medd4ac3738\" y=\"162.523856\"/>\n     <use style=\"fill:#386df9;fill-opacity:0.1;stroke:#ffffff;stroke-opacity:0.1;stroke-width:0.48;\" x=\"102.283639\" xlink:href=\"#medd4ac3738\" y=\"162.523856\"/>\n     <use style=\"fill:#386df9;fill-opacity:0.1;stroke:#ffffff;stroke-opacity:0.1;stroke-width:0.48;\" x=\"102.283639\" xlink:href=\"#medd4ac3738\" y=\"162.523856\"/>\n     <use style=\"fill:#386df9;fill-opacity:0.1;stroke:#ffffff;stroke-opacity:0.1;stroke-width:0.48;\" x=\"102.283639\" xlink:href=\"#medd4ac3738\" y=\"162.523856\"/>\n     <use style=\"fill:#386df9;fill-opacity:0.1;stroke:#ffffff;stroke-opacity:0.1;stroke-width:0.48;\" x=\"102.283639\" xlink:href=\"#medd4ac3738\" y=\"162.523856\"/>\n     <use style=\"fill:#386df9;fill-opacity:0.1;stroke:#ffffff;stroke-opacity:0.1;stroke-width:0.48;\" x=\"109.230957\" xlink:href=\"#medd4ac3738\" y=\"195.87851\"/>\n     <use style=\"fill:#386df9;fill-opacity:0.1;stroke:#ffffff;stroke-opacity:0.1;stroke-width:0.48;\" x=\"101.231789\" xlink:href=\"#medd4ac3738\" y=\"151.47949\"/>\n     <use style=\"fill:#386df9;fill-opacity:0.1;stroke:#ffffff;stroke-opacity:0.1;stroke-width:0.48;\" x=\"101.231789\" xlink:href=\"#medd4ac3738\" y=\"151.47949\"/>\n     <use style=\"fill:#386df9;fill-opacity:0.1;stroke:#ffffff;stroke-opacity:0.1;stroke-width:0.48;\" x=\"101.231789\" xlink:href=\"#medd4ac3738\" y=\"151.47949\"/>\n     <use style=\"fill:#386df9;fill-opacity:0.1;stroke:#ffffff;stroke-opacity:0.1;stroke-width:0.48;\" x=\"101.231789\" xlink:href=\"#medd4ac3738\" y=\"151.47949\"/>\n     <use style=\"fill:#386df9;fill-opacity:0.1;stroke:#ffffff;stroke-opacity:0.1;stroke-width:0.48;\" x=\"108.936064\" xlink:href=\"#medd4ac3738\" y=\"190.930297\"/>\n     <use style=\"fill:#386df9;fill-opacity:0.1;stroke:#ffffff;stroke-opacity:0.1;stroke-width:0.48;\" x=\"108.936064\" xlink:href=\"#medd4ac3738\" y=\"190.930297\"/>\n     <use style=\"fill:#386df9;fill-opacity:0.1;stroke:#ffffff;stroke-opacity:0.1;stroke-width:0.48;\" x=\"108.936064\" xlink:href=\"#medd4ac3738\" y=\"190.930297\"/>\n     <use style=\"fill:#386df9;fill-opacity:0.1;stroke:#ffffff;stroke-opacity:0.1;stroke-width:0.48;\" x=\"103.593102\" xlink:href=\"#medd4ac3738\" y=\"205.667208\"/>\n     <use style=\"fill:#386df9;fill-opacity:0.1;stroke:#ffffff;stroke-opacity:0.1;stroke-width:0.48;\" x=\"99.450426\" xlink:href=\"#medd4ac3738\" y=\"163.291859\"/>\n     <use style=\"fill:#386df9;fill-opacity:0.1;stroke:#ffffff;stroke-opacity:0.1;stroke-width:0.48;\" x=\"111.513857\" xlink:href=\"#medd4ac3738\" y=\"207.143755\"/>\n     <use style=\"fill:#386df9;fill-opacity:0.1;stroke:#ffffff;stroke-opacity:0.1;stroke-width:0.48;\" x=\"111.513857\" xlink:href=\"#medd4ac3738\" y=\"207.143755\"/>\n     <use style=\"fill:#386df9;fill-opacity:0.1;stroke:#ffffff;stroke-opacity:0.1;stroke-width:0.48;\" x=\"108.963363\" xlink:href=\"#medd4ac3738\" y=\"168.428096\"/>\n     <use style=\"fill:#386df9;fill-opacity:0.1;stroke:#ffffff;stroke-opacity:0.1;stroke-width:0.48;\" x=\"108.963363\" xlink:href=\"#medd4ac3738\" y=\"168.428096\"/>\n     <use style=\"fill:#386df9;fill-opacity:0.1;stroke:#ffffff;stroke-opacity:0.1;stroke-width:0.48;\" x=\"103.396043\" xlink:href=\"#medd4ac3738\" y=\"174.958984\"/>\n     <use style=\"fill:#386df9;fill-opacity:0.1;stroke:#ffffff;stroke-opacity:0.1;stroke-width:0.48;\" x=\"103.12041\" xlink:href=\"#medd4ac3738\" y=\"193.877269\"/>\n     <use style=\"fill:#386df9;fill-opacity:0.1;stroke:#ffffff;stroke-opacity:0.1;stroke-width:0.48;\" x=\"96.278019\" xlink:href=\"#medd4ac3738\" y=\"117.359554\"/>\n     <use style=\"fill:#386df9;fill-opacity:0.1;stroke:#ffffff;stroke-opacity:0.1;stroke-width:0.48;\" x=\"102.040453\" xlink:href=\"#medd4ac3738\" y=\"171.632189\"/>\n     <use style=\"fill:#386df9;fill-opacity:0.1;stroke:#ffffff;stroke-opacity:0.1;stroke-width:0.48;\" x=\"109.585378\" xlink:href=\"#medd4ac3738\" y=\"200.44391\"/>\n     <use style=\"fill:#386df9;fill-opacity:0.1;stroke:#ffffff;stroke-opacity:0.1;stroke-width:0.48;\" x=\"98.394503\" xlink:href=\"#medd4ac3738\" y=\"184.975187\"/>\n     <use style=\"fill:#386df9;fill-opacity:0.1;stroke:#ffffff;stroke-opacity:0.1;stroke-width:0.48;\" x=\"98.394503\" xlink:href=\"#medd4ac3738\" y=\"184.975187\"/>\n     <use style=\"fill:#386df9;fill-opacity:0.1;stroke:#ffffff;stroke-opacity:0.1;stroke-width:0.48;\" x=\"98.394503\" xlink:href=\"#medd4ac3738\" y=\"184.975187\"/>\n     <use style=\"fill:#386df9;fill-opacity:0.1;stroke:#ffffff;stroke-opacity:0.1;stroke-width:0.48;\" x=\"97.152088\" xlink:href=\"#medd4ac3738\" y=\"150.288373\"/>\n     <use style=\"fill:#386df9;fill-opacity:0.1;stroke:#ffffff;stroke-opacity:0.1;stroke-width:0.48;\" x=\"97.44355\" xlink:href=\"#medd4ac3738\" y=\"144.517919\"/>\n     <use style=\"fill:#386df9;fill-opacity:0.1;stroke:#ffffff;stroke-opacity:0.1;stroke-width:0.48;\" x=\"97.44355\" xlink:href=\"#medd4ac3738\" y=\"144.517919\"/>\n     <use style=\"fill:#386df9;fill-opacity:0.1;stroke:#ffffff;stroke-opacity:0.1;stroke-width:0.48;\" x=\"97.44355\" xlink:href=\"#medd4ac3738\" y=\"144.517919\"/>\n     <use style=\"fill:#386df9;fill-opacity:0.1;stroke:#ffffff;stroke-opacity:0.1;stroke-width:0.48;\" x=\"97.44355\" xlink:href=\"#medd4ac3738\" y=\"144.517919\"/>\n     <use style=\"fill:#386df9;fill-opacity:0.1;stroke:#ffffff;stroke-opacity:0.1;stroke-width:0.48;\" x=\"96.776877\" xlink:href=\"#medd4ac3738\" y=\"174.739126\"/>\n     <use style=\"fill:#386df9;fill-opacity:0.1;stroke:#ffffff;stroke-opacity:0.1;stroke-width:0.48;\" x=\"96.776877\" xlink:href=\"#medd4ac3738\" y=\"174.739126\"/>\n     <use style=\"fill:#386df9;fill-opacity:0.1;stroke:#ffffff;stroke-opacity:0.1;stroke-width:0.48;\" x=\"93.381908\" xlink:href=\"#medd4ac3738\" y=\"133.209554\"/>\n     <use style=\"fill:#386df9;fill-opacity:0.1;stroke:#ffffff;stroke-opacity:0.1;stroke-width:0.48;\" x=\"93.381908\" xlink:href=\"#medd4ac3738\" y=\"133.209554\"/>\n     <use style=\"fill:#386df9;fill-opacity:0.1;stroke:#ffffff;stroke-opacity:0.1;stroke-width:0.48;\" x=\"105.401095\" xlink:href=\"#medd4ac3738\" y=\"190.201823\"/>\n     <use style=\"fill:#386df9;fill-opacity:0.1;stroke:#ffffff;stroke-opacity:0.1;stroke-width:0.48;\" x=\"105.401095\" xlink:href=\"#medd4ac3738\" y=\"190.201823\"/>\n     <use style=\"fill:#386df9;fill-opacity:0.1;stroke:#ffffff;stroke-opacity:0.1;stroke-width:0.48;\" x=\"105.401095\" xlink:href=\"#medd4ac3738\" y=\"190.201823\"/>\n     <use style=\"fill:#386df9;fill-opacity:0.1;stroke:#ffffff;stroke-opacity:0.1;stroke-width:0.48;\" x=\"105.401095\" xlink:href=\"#medd4ac3738\" y=\"190.201823\"/>\n     <use style=\"fill:#386df9;fill-opacity:0.1;stroke:#ffffff;stroke-opacity:0.1;stroke-width:0.48;\" x=\"105.401095\" xlink:href=\"#medd4ac3738\" y=\"190.201823\"/>\n     <use style=\"fill:#386df9;fill-opacity:0.1;stroke:#ffffff;stroke-opacity:0.1;stroke-width:0.48;\" x=\"102.783332\" xlink:href=\"#medd4ac3738\" y=\"198.784851\"/>\n     <use style=\"fill:#386df9;fill-opacity:0.1;stroke:#ffffff;stroke-opacity:0.1;stroke-width:0.48;\" x=\"102.783332\" xlink:href=\"#medd4ac3738\" y=\"198.784851\"/>\n     <use style=\"fill:#386df9;fill-opacity:0.1;stroke:#ffffff;stroke-opacity:0.1;stroke-width:0.48;\" x=\"102.783332\" xlink:href=\"#medd4ac3738\" y=\"198.784851\"/>\n     <use style=\"fill:#386df9;fill-opacity:0.1;stroke:#ffffff;stroke-opacity:0.1;stroke-width:0.48;\" x=\"99.50495\" xlink:href=\"#medd4ac3738\" y=\"192.807184\"/>\n     <use style=\"fill:#386df9;fill-opacity:0.1;stroke:#ffffff;stroke-opacity:0.1;stroke-width:0.48;\" x=\"99.50495\" xlink:href=\"#medd4ac3738\" y=\"192.807184\"/>\n     <use style=\"fill:#386df9;fill-opacity:0.1;stroke:#ffffff;stroke-opacity:0.1;stroke-width:0.48;\" x=\"107.938542\" xlink:href=\"#medd4ac3738\" y=\"200.309489\"/>\n     <use style=\"fill:#386df9;fill-opacity:0.1;stroke:#ffffff;stroke-opacity:0.1;stroke-width:0.48;\" x=\"99.399497\" xlink:href=\"#medd4ac3738\" y=\"122.842264\"/>\n     <use style=\"fill:#386df9;fill-opacity:0.1;stroke:#ffffff;stroke-opacity:0.1;stroke-width:0.48;\" x=\"101.0489\" xlink:href=\"#medd4ac3738\" y=\"177.327181\"/>\n     <use style=\"fill:#386df9;fill-opacity:0.1;stroke:#ffffff;stroke-opacity:0.1;stroke-width:0.48;\" x=\"101.0489\" xlink:href=\"#medd4ac3738\" y=\"177.327181\"/>\n     <use style=\"fill:#386df9;fill-opacity:0.1;stroke:#ffffff;stroke-opacity:0.1;stroke-width:0.48;\" x=\"101.0489\" xlink:href=\"#medd4ac3738\" y=\"177.327181\"/>\n     <use style=\"fill:#386df9;fill-opacity:0.1;stroke:#ffffff;stroke-opacity:0.1;stroke-width:0.48;\" x=\"113.995567\" xlink:href=\"#medd4ac3738\" y=\"184.198068\"/>\n     <use style=\"fill:#386df9;fill-opacity:0.1;stroke:#ffffff;stroke-opacity:0.1;stroke-width:0.48;\" x=\"106.582899\" xlink:href=\"#medd4ac3738\" y=\"179.335412\"/>\n     <use style=\"fill:#386df9;fill-opacity:0.1;stroke:#ffffff;stroke-opacity:0.1;stroke-width:0.48;\" x=\"105.680297\" xlink:href=\"#medd4ac3738\" y=\"189.794578\"/>\n     <use style=\"fill:#386df9;fill-opacity:0.1;stroke:#ffffff;stroke-opacity:0.1;stroke-width:0.48;\" x=\"102.533713\" xlink:href=\"#medd4ac3738\" y=\"154.369377\"/>\n     <use style=\"fill:#386df9;fill-opacity:0.1;stroke:#ffffff;stroke-opacity:0.1;stroke-width:0.48;\" x=\"102.533713\" xlink:href=\"#medd4ac3738\" y=\"154.369377\"/>\n     <use style=\"fill:#386df9;fill-opacity:0.1;stroke:#ffffff;stroke-opacity:0.1;stroke-width:0.48;\" x=\"103.144356\" xlink:href=\"#medd4ac3738\" y=\"173.184469\"/>\n     <use style=\"fill:#386df9;fill-opacity:0.1;stroke:#ffffff;stroke-opacity:0.1;stroke-width:0.48;\" x=\"103.144356\" xlink:href=\"#medd4ac3738\" y=\"173.184469\"/>\n     <use style=\"fill:#386df9;fill-opacity:0.1;stroke:#ffffff;stroke-opacity:0.1;stroke-width:0.48;\" x=\"103.144356\" xlink:href=\"#medd4ac3738\" y=\"173.184469\"/>\n     <use style=\"fill:#386df9;fill-opacity:0.1;stroke:#ffffff;stroke-opacity:0.1;stroke-width:0.48;\" x=\"103.501514\" xlink:href=\"#medd4ac3738\" y=\"186.778924\"/>\n     <use style=\"fill:#386df9;fill-opacity:0.1;stroke:#ffffff;stroke-opacity:0.1;stroke-width:0.48;\" x=\"103.501514\" xlink:href=\"#medd4ac3738\" y=\"186.778924\"/>\n     <use style=\"fill:#386df9;fill-opacity:0.1;stroke:#ffffff;stroke-opacity:0.1;stroke-width:0.48;\" x=\"110.350675\" xlink:href=\"#medd4ac3738\" y=\"184.699977\"/>\n     <use style=\"fill:#386df9;fill-opacity:0.1;stroke:#ffffff;stroke-opacity:0.1;stroke-width:0.48;\" x=\"88.70079\" xlink:href=\"#medd4ac3738\" y=\"84.60041\"/>\n     <use style=\"fill:#386df9;fill-opacity:0.1;stroke:#ffffff;stroke-opacity:0.1;stroke-width:0.48;\" x=\"96.499248\" xlink:href=\"#medd4ac3738\" y=\"163.532076\"/>\n     <use style=\"fill:#386df9;fill-opacity:0.1;stroke:#ffffff;stroke-opacity:0.1;stroke-width:0.48;\" x=\"96.499248\" xlink:href=\"#medd4ac3738\" y=\"163.532076\"/>\n     <use style=\"fill:#386df9;fill-opacity:0.1;stroke:#ffffff;stroke-opacity:0.1;stroke-width:0.48;\" x=\"101.627937\" xlink:href=\"#medd4ac3738\" y=\"175.908156\"/>\n     <use style=\"fill:#386df9;fill-opacity:0.1;stroke:#ffffff;stroke-opacity:0.1;stroke-width:0.48;\" x=\"101.627937\" xlink:href=\"#medd4ac3738\" y=\"175.908156\"/>\n     <use style=\"fill:#386df9;fill-opacity:0.1;stroke:#ffffff;stroke-opacity:0.1;stroke-width:0.48;\" x=\"101.511627\" xlink:href=\"#medd4ac3738\" y=\"203.653332\"/>\n     <use style=\"fill:#386df9;fill-opacity:0.1;stroke:#ffffff;stroke-opacity:0.1;stroke-width:0.48;\" x=\"102.185228\" xlink:href=\"#medd4ac3738\" y=\"152.184386\"/>\n     <use style=\"fill:#386df9;fill-opacity:0.1;stroke:#ffffff;stroke-opacity:0.1;stroke-width:0.48;\" x=\"84.490271\" xlink:href=\"#medd4ac3738\" y=\"121.512614\"/>\n     <use style=\"fill:#386df9;fill-opacity:0.1;stroke:#ffffff;stroke-opacity:0.1;stroke-width:0.48;\" x=\"84.490271\" xlink:href=\"#medd4ac3738\" y=\"121.512614\"/>\n     <use style=\"fill:#386df9;fill-opacity:0.1;stroke:#ffffff;stroke-opacity:0.1;stroke-width:0.48;\" x=\"84.490271\" xlink:href=\"#medd4ac3738\" y=\"121.512614\"/>\n     <use style=\"fill:#386df9;fill-opacity:0.1;stroke:#ffffff;stroke-opacity:0.1;stroke-width:0.48;\" x=\"87.317716\" xlink:href=\"#medd4ac3738\" y=\"168.008302\"/>\n     <use style=\"fill:#386df9;fill-opacity:0.1;stroke:#ffffff;stroke-opacity:0.1;stroke-width:0.48;\" x=\"87.317716\" xlink:href=\"#medd4ac3738\" y=\"168.008302\"/>\n     <use style=\"fill:#386df9;fill-opacity:0.1;stroke:#ffffff;stroke-opacity:0.1;stroke-width:0.48;\" x=\"105.422904\" xlink:href=\"#medd4ac3738\" y=\"174.092223\"/>\n     <use style=\"fill:#386df9;fill-opacity:0.1;stroke:#ffffff;stroke-opacity:0.1;stroke-width:0.48;\" x=\"105.422904\" xlink:href=\"#medd4ac3738\" y=\"174.092223\"/>\n     <use style=\"fill:#386df9;fill-opacity:0.1;stroke:#ffffff;stroke-opacity:0.1;stroke-width:0.48;\" x=\"79.879117\" xlink:href=\"#medd4ac3738\" y=\"106.008685\"/>\n     <use style=\"fill:#386df9;fill-opacity:0.1;stroke:#ffffff;stroke-opacity:0.1;stroke-width:0.48;\" x=\"79.879117\" xlink:href=\"#medd4ac3738\" y=\"106.008685\"/>\n     <use style=\"fill:#386df9;fill-opacity:0.1;stroke:#ffffff;stroke-opacity:0.1;stroke-width:0.48;\" x=\"108.940729\" xlink:href=\"#medd4ac3738\" y=\"190.940023\"/>\n     <use style=\"fill:#386df9;fill-opacity:0.1;stroke:#ffffff;stroke-opacity:0.1;stroke-width:0.48;\" x=\"107.112306\" xlink:href=\"#medd4ac3738\" y=\"166.29837\"/>\n     <use style=\"fill:#386df9;fill-opacity:0.1;stroke:#ffffff;stroke-opacity:0.1;stroke-width:0.48;\" x=\"107.112306\" xlink:href=\"#medd4ac3738\" y=\"166.29837\"/>\n     <use style=\"fill:#386df9;fill-opacity:0.1;stroke:#ffffff;stroke-opacity:0.1;stroke-width:0.48;\" x=\"107.112306\" xlink:href=\"#medd4ac3738\" y=\"166.29837\"/>\n     <use style=\"fill:#386df9;fill-opacity:0.1;stroke:#ffffff;stroke-opacity:0.1;stroke-width:0.48;\" x=\"101.964862\" xlink:href=\"#medd4ac3738\" y=\"128.455172\"/>\n     <use style=\"fill:#386df9;fill-opacity:0.1;stroke:#ffffff;stroke-opacity:0.1;stroke-width:0.48;\" x=\"101.964862\" xlink:href=\"#medd4ac3738\" y=\"128.455172\"/>\n     <use style=\"fill:#386df9;fill-opacity:0.1;stroke:#ffffff;stroke-opacity:0.1;stroke-width:0.48;\" x=\"110.443294\" xlink:href=\"#medd4ac3738\" y=\"170.666696\"/>\n     <use style=\"fill:#386df9;fill-opacity:0.1;stroke:#ffffff;stroke-opacity:0.1;stroke-width:0.48;\" x=\"110.443294\" xlink:href=\"#medd4ac3738\" y=\"170.666696\"/>\n     <use style=\"fill:#386df9;fill-opacity:0.1;stroke:#ffffff;stroke-opacity:0.1;stroke-width:0.48;\" x=\"106.966949\" xlink:href=\"#medd4ac3738\" y=\"174.097679\"/>\n     <use style=\"fill:#386df9;fill-opacity:0.1;stroke:#ffffff;stroke-opacity:0.1;stroke-width:0.48;\" x=\"109.007301\" xlink:href=\"#medd4ac3738\" y=\"186.298497\"/>\n     <use style=\"fill:#386df9;fill-opacity:0.1;stroke:#ffffff;stroke-opacity:0.1;stroke-width:0.48;\" x=\"109.007301\" xlink:href=\"#medd4ac3738\" y=\"186.298497\"/>\n     <use style=\"fill:#386df9;fill-opacity:0.1;stroke:#ffffff;stroke-opacity:0.1;stroke-width:0.48;\" x=\"101.73826\" xlink:href=\"#medd4ac3738\" y=\"203.184842\"/>\n     <use style=\"fill:#386df9;fill-opacity:0.1;stroke:#ffffff;stroke-opacity:0.1;stroke-width:0.48;\" x=\"101.73826\" xlink:href=\"#medd4ac3738\" y=\"203.184842\"/>\n     <use style=\"fill:#386df9;fill-opacity:0.1;stroke:#ffffff;stroke-opacity:0.1;stroke-width:0.48;\" x=\"114.468234\" xlink:href=\"#medd4ac3738\" y=\"194.084248\"/>\n     <use style=\"fill:#386df9;fill-opacity:0.1;stroke:#ffffff;stroke-opacity:0.1;stroke-width:0.48;\" x=\"108.15272\" xlink:href=\"#medd4ac3738\" y=\"131.304367\"/>\n     <use style=\"fill:#386df9;fill-opacity:0.1;stroke:#ffffff;stroke-opacity:0.1;stroke-width:0.48;\" x=\"108.15272\" xlink:href=\"#medd4ac3738\" y=\"131.304367\"/>\n     <use style=\"fill:#386df9;fill-opacity:0.1;stroke:#ffffff;stroke-opacity:0.1;stroke-width:0.48;\" x=\"108.15272\" xlink:href=\"#medd4ac3738\" y=\"131.304367\"/>\n     <use style=\"fill:#386df9;fill-opacity:0.1;stroke:#ffffff;stroke-opacity:0.1;stroke-width:0.48;\" x=\"108.15272\" xlink:href=\"#medd4ac3738\" y=\"131.304367\"/>\n     <use style=\"fill:#386df9;fill-opacity:0.1;stroke:#ffffff;stroke-opacity:0.1;stroke-width:0.48;\" x=\"83.006602\" xlink:href=\"#medd4ac3738\" y=\"92.881069\"/>\n     <use style=\"fill:#386df9;fill-opacity:0.1;stroke:#ffffff;stroke-opacity:0.1;stroke-width:0.48;\" x=\"98.405543\" xlink:href=\"#medd4ac3738\" y=\"155.594845\"/>\n     <use style=\"fill:#386df9;fill-opacity:0.1;stroke:#ffffff;stroke-opacity:0.1;stroke-width:0.48;\" x=\"98.405543\" xlink:href=\"#medd4ac3738\" y=\"155.594845\"/>\n     <use style=\"fill:#386df9;fill-opacity:0.1;stroke:#ffffff;stroke-opacity:0.1;stroke-width:0.48;\" x=\"98.405543\" xlink:href=\"#medd4ac3738\" y=\"155.594845\"/>\n     <use style=\"fill:#386df9;fill-opacity:0.1;stroke:#ffffff;stroke-opacity:0.1;stroke-width:0.48;\" x=\"98.405543\" xlink:href=\"#medd4ac3738\" y=\"155.594845\"/>\n     <use style=\"fill:#386df9;fill-opacity:0.1;stroke:#ffffff;stroke-opacity:0.1;stroke-width:0.48;\" x=\"98.405543\" xlink:href=\"#medd4ac3738\" y=\"155.594845\"/>\n     <use style=\"fill:#386df9;fill-opacity:0.1;stroke:#ffffff;stroke-opacity:0.1;stroke-width:0.48;\" x=\"106.525669\" xlink:href=\"#medd4ac3738\" y=\"170.116035\"/>\n     <use style=\"fill:#386df9;fill-opacity:0.1;stroke:#ffffff;stroke-opacity:0.1;stroke-width:0.48;\" x=\"105.796763\" xlink:href=\"#medd4ac3738\" y=\"154.559887\"/>\n     <use style=\"fill:#386df9;fill-opacity:0.1;stroke:#ffffff;stroke-opacity:0.1;stroke-width:0.48;\" x=\"105.796763\" xlink:href=\"#medd4ac3738\" y=\"154.559887\"/>\n     <use style=\"fill:#386df9;fill-opacity:0.1;stroke:#ffffff;stroke-opacity:0.1;stroke-width:0.48;\" x=\"105.796763\" xlink:href=\"#medd4ac3738\" y=\"154.559887\"/>\n     <use style=\"fill:#386df9;fill-opacity:0.1;stroke:#ffffff;stroke-opacity:0.1;stroke-width:0.48;\" x=\"104.681327\" xlink:href=\"#medd4ac3738\" y=\"173.852623\"/>\n     <use style=\"fill:#386df9;fill-opacity:0.1;stroke:#ffffff;stroke-opacity:0.1;stroke-width:0.48;\" x=\"104.681327\" xlink:href=\"#medd4ac3738\" y=\"173.852623\"/>\n     <use style=\"fill:#386df9;fill-opacity:0.1;stroke:#ffffff;stroke-opacity:0.1;stroke-width:0.48;\" x=\"97.79888\" xlink:href=\"#medd4ac3738\" y=\"172.944312\"/>\n     <use style=\"fill:#386df9;fill-opacity:0.1;stroke:#ffffff;stroke-opacity:0.1;stroke-width:0.48;\" x=\"97.79888\" xlink:href=\"#medd4ac3738\" y=\"172.944312\"/>\n     <use style=\"fill:#386df9;fill-opacity:0.1;stroke:#ffffff;stroke-opacity:0.1;stroke-width:0.48;\" x=\"97.79888\" xlink:href=\"#medd4ac3738\" y=\"172.944312\"/>\n     <use style=\"fill:#386df9;fill-opacity:0.1;stroke:#ffffff;stroke-opacity:0.1;stroke-width:0.48;\" x=\"97.79888\" xlink:href=\"#medd4ac3738\" y=\"172.944312\"/>\n     <use style=\"fill:#386df9;fill-opacity:0.1;stroke:#ffffff;stroke-opacity:0.1;stroke-width:0.48;\" x=\"97.945452\" xlink:href=\"#medd4ac3738\" y=\"136.728974\"/>\n     <use style=\"fill:#386df9;fill-opacity:0.1;stroke:#ffffff;stroke-opacity:0.1;stroke-width:0.48;\" x=\"96.772664\" xlink:href=\"#medd4ac3738\" y=\"174.730342\"/>\n     <use style=\"fill:#386df9;fill-opacity:0.1;stroke:#ffffff;stroke-opacity:0.1;stroke-width:0.48;\" x=\"96.772664\" xlink:href=\"#medd4ac3738\" y=\"174.730342\"/>\n     <use style=\"fill:#386df9;fill-opacity:0.1;stroke:#ffffff;stroke-opacity:0.1;stroke-width:0.48;\" x=\"96.772664\" xlink:href=\"#medd4ac3738\" y=\"174.730342\"/>\n     <use style=\"fill:#386df9;fill-opacity:0.1;stroke:#ffffff;stroke-opacity:0.1;stroke-width:0.48;\" x=\"96.772664\" xlink:href=\"#medd4ac3738\" y=\"174.730342\"/>\n     <use style=\"fill:#386df9;fill-opacity:0.1;stroke:#ffffff;stroke-opacity:0.1;stroke-width:0.48;\" x=\"111.180913\" xlink:href=\"#medd4ac3738\" y=\"206.400717\"/>\n     <use style=\"fill:#386df9;fill-opacity:0.1;stroke:#ffffff;stroke-opacity:0.1;stroke-width:0.48;\" x=\"111.85702\" xlink:href=\"#medd4ac3738\" y=\"181.788263\"/>\n     <use style=\"fill:#386df9;fill-opacity:0.1;stroke:#ffffff;stroke-opacity:0.1;stroke-width:0.48;\" x=\"111.85702\" xlink:href=\"#medd4ac3738\" y=\"181.788263\"/>\n     <use style=\"fill:#386df9;fill-opacity:0.1;stroke:#ffffff;stroke-opacity:0.1;stroke-width:0.48;\" x=\"95.67229\" xlink:href=\"#medd4ac3738\" y=\"169.718717\"/>\n     <use style=\"fill:#386df9;fill-opacity:0.1;stroke:#ffffff;stroke-opacity:0.1;stroke-width:0.48;\" x=\"86.976335\" xlink:href=\"#medd4ac3738\" y=\"111.746034\"/>\n     <use style=\"fill:#386df9;fill-opacity:0.1;stroke:#ffffff;stroke-opacity:0.1;stroke-width:0.48;\" x=\"86.976335\" xlink:href=\"#medd4ac3738\" y=\"111.746034\"/>\n     <use style=\"fill:#386df9;fill-opacity:0.1;stroke:#ffffff;stroke-opacity:0.1;stroke-width:0.48;\" x=\"96.141784\" xlink:href=\"#medd4ac3738\" y=\"175.599699\"/>\n     <use style=\"fill:#386df9;fill-opacity:0.1;stroke:#ffffff;stroke-opacity:0.1;stroke-width:0.48;\" x=\"96.141784\" xlink:href=\"#medd4ac3738\" y=\"175.599699\"/>\n     <use style=\"fill:#386df9;fill-opacity:0.1;stroke:#ffffff;stroke-opacity:0.1;stroke-width:0.48;\" x=\"96.141784\" xlink:href=\"#medd4ac3738\" y=\"175.599699\"/>\n     <use style=\"fill:#386df9;fill-opacity:0.1;stroke:#ffffff;stroke-opacity:0.1;stroke-width:0.48;\" x=\"96.141784\" xlink:href=\"#medd4ac3738\" y=\"175.599699\"/>\n     <use style=\"fill:#386df9;fill-opacity:0.1;stroke:#ffffff;stroke-opacity:0.1;stroke-width:0.48;\" x=\"87.523053\" xlink:href=\"#medd4ac3738\" y=\"75.03548\"/>\n     <use style=\"fill:#386df9;fill-opacity:0.1;stroke:#ffffff;stroke-opacity:0.1;stroke-width:0.48;\" x=\"87.523053\" xlink:href=\"#medd4ac3738\" y=\"75.03548\"/>\n     <use style=\"fill:#386df9;fill-opacity:0.1;stroke:#ffffff;stroke-opacity:0.1;stroke-width:0.48;\" x=\"104.872174\" xlink:href=\"#medd4ac3738\" y=\"163.59806\"/>\n     <use style=\"fill:#386df9;fill-opacity:0.1;stroke:#ffffff;stroke-opacity:0.1;stroke-width:0.48;\" x=\"104.872174\" xlink:href=\"#medd4ac3738\" y=\"163.59806\"/>\n     <use style=\"fill:#386df9;fill-opacity:0.1;stroke:#ffffff;stroke-opacity:0.1;stroke-width:0.48;\" x=\"111.127778\" xlink:href=\"#medd4ac3738\" y=\"212.129774\"/>\n     <use style=\"fill:#386df9;fill-opacity:0.1;stroke:#ffffff;stroke-opacity:0.1;stroke-width:0.48;\" x=\"111.127778\" xlink:href=\"#medd4ac3738\" y=\"212.129774\"/>\n     <use style=\"fill:#386df9;fill-opacity:0.1;stroke:#ffffff;stroke-opacity:0.1;stroke-width:0.48;\" x=\"111.127778\" xlink:href=\"#medd4ac3738\" y=\"212.129774\"/>\n     <use style=\"fill:#386df9;fill-opacity:0.1;stroke:#ffffff;stroke-opacity:0.1;stroke-width:0.48;\" x=\"112.349291\" xlink:href=\"#medd4ac3738\" y=\"199.793312\"/>\n     <use style=\"fill:#386df9;fill-opacity:0.1;stroke:#ffffff;stroke-opacity:0.1;stroke-width:0.48;\" x=\"109.016726\" xlink:href=\"#medd4ac3738\" y=\"212.691687\"/>\n     <use style=\"fill:#386df9;fill-opacity:0.1;stroke:#ffffff;stroke-opacity:0.1;stroke-width:0.48;\" x=\"109.016726\" xlink:href=\"#medd4ac3738\" y=\"212.691687\"/>\n     <use style=\"fill:#386df9;fill-opacity:0.1;stroke:#ffffff;stroke-opacity:0.1;stroke-width:0.48;\" x=\"94.567748\" xlink:href=\"#medd4ac3738\" y=\"136.492152\"/>\n     <use style=\"fill:#386df9;fill-opacity:0.1;stroke:#ffffff;stroke-opacity:0.1;stroke-width:0.48;\" x=\"97.489225\" xlink:href=\"#medd4ac3738\" y=\"114.743899\"/>\n     <use style=\"fill:#386df9;fill-opacity:0.1;stroke:#ffffff;stroke-opacity:0.1;stroke-width:0.48;\" x=\"97.489225\" xlink:href=\"#medd4ac3738\" y=\"114.743899\"/>\n     <use style=\"fill:#386df9;fill-opacity:0.1;stroke:#ffffff;stroke-opacity:0.1;stroke-width:0.48;\" x=\"97.489225\" xlink:href=\"#medd4ac3738\" y=\"114.743899\"/>\n     <use style=\"fill:#386df9;fill-opacity:0.1;stroke:#ffffff;stroke-opacity:0.1;stroke-width:0.48;\" x=\"97.489225\" xlink:href=\"#medd4ac3738\" y=\"114.743899\"/>\n     <use style=\"fill:#386df9;fill-opacity:0.1;stroke:#ffffff;stroke-opacity:0.1;stroke-width:0.48;\" x=\"97.489225\" xlink:href=\"#medd4ac3738\" y=\"114.743899\"/>\n     <use style=\"fill:#386df9;fill-opacity:0.1;stroke:#ffffff;stroke-opacity:0.1;stroke-width:0.48;\" x=\"102.341996\" xlink:href=\"#medd4ac3738\" y=\"186.557528\"/>\n     <use style=\"fill:#386df9;fill-opacity:0.1;stroke:#ffffff;stroke-opacity:0.1;stroke-width:0.48;\" x=\"102.341996\" xlink:href=\"#medd4ac3738\" y=\"186.557528\"/>\n     <use style=\"fill:#386df9;fill-opacity:0.1;stroke:#ffffff;stroke-opacity:0.1;stroke-width:0.48;\" x=\"98.738912\" xlink:href=\"#medd4ac3738\" y=\"100.865352\"/>\n     <use style=\"fill:#386df9;fill-opacity:0.1;stroke:#ffffff;stroke-opacity:0.1;stroke-width:0.48;\" x=\"98.738912\" xlink:href=\"#medd4ac3738\" y=\"100.865352\"/>\n     <use style=\"fill:#386df9;fill-opacity:0.1;stroke:#ffffff;stroke-opacity:0.1;stroke-width:0.48;\" x=\"102.569283\" xlink:href=\"#medd4ac3738\" y=\"203.382669\"/>\n     <use style=\"fill:#386df9;fill-opacity:0.1;stroke:#ffffff;stroke-opacity:0.1;stroke-width:0.48;\" x=\"106.514113\" xlink:href=\"#medd4ac3738\" y=\"179.771097\"/>\n     <use style=\"fill:#386df9;fill-opacity:0.1;stroke:#ffffff;stroke-opacity:0.1;stroke-width:0.48;\" x=\"106.514113\" xlink:href=\"#medd4ac3738\" y=\"179.771097\"/>\n     <use style=\"fill:#386df9;fill-opacity:0.1;stroke:#ffffff;stroke-opacity:0.1;stroke-width:0.48;\" x=\"106.514113\" xlink:href=\"#medd4ac3738\" y=\"179.771097\"/>\n     <use style=\"fill:#386df9;fill-opacity:0.1;stroke:#ffffff;stroke-opacity:0.1;stroke-width:0.48;\" x=\"93.520061\" xlink:href=\"#medd4ac3738\" y=\"155.477747\"/>\n     <use style=\"fill:#386df9;fill-opacity:0.1;stroke:#ffffff;stroke-opacity:0.1;stroke-width:0.48;\" x=\"93.520061\" xlink:href=\"#medd4ac3738\" y=\"155.477747\"/>\n     <use style=\"fill:#386df9;fill-opacity:0.1;stroke:#ffffff;stroke-opacity:0.1;stroke-width:0.48;\" x=\"93.520061\" xlink:href=\"#medd4ac3738\" y=\"155.477747\"/>\n     <use style=\"fill:#386df9;fill-opacity:0.1;stroke:#ffffff;stroke-opacity:0.1;stroke-width:0.48;\" x=\"93.520061\" xlink:href=\"#medd4ac3738\" y=\"155.477747\"/>\n     <use style=\"fill:#386df9;fill-opacity:0.1;stroke:#ffffff;stroke-opacity:0.1;stroke-width:0.48;\" x=\"82.435925\" xlink:href=\"#medd4ac3738\" y=\"32.201761\"/>\n     <use style=\"fill:#386df9;fill-opacity:0.1;stroke:#ffffff;stroke-opacity:0.1;stroke-width:0.48;\" x=\"102.36575\" xlink:href=\"#medd4ac3738\" y=\"162.134875\"/>\n     <use style=\"fill:#386df9;fill-opacity:0.1;stroke:#ffffff;stroke-opacity:0.1;stroke-width:0.48;\" x=\"90.50004\" xlink:href=\"#medd4ac3738\" y=\"146.257282\"/>\n     <use style=\"fill:#386df9;fill-opacity:0.1;stroke:#ffffff;stroke-opacity:0.1;stroke-width:0.48;\" x=\"90.50004\" xlink:href=\"#medd4ac3738\" y=\"146.257282\"/>\n     <use style=\"fill:#386df9;fill-opacity:0.1;stroke:#ffffff;stroke-opacity:0.1;stroke-width:0.48;\" x=\"92.056089\" xlink:href=\"#medd4ac3738\" y=\"115.833814\"/>\n     <use style=\"fill:#386df9;fill-opacity:0.1;stroke:#ffffff;stroke-opacity:0.1;stroke-width:0.48;\" x=\"92.056089\" xlink:href=\"#medd4ac3738\" y=\"115.833814\"/>\n     <use style=\"fill:#386df9;fill-opacity:0.1;stroke:#ffffff;stroke-opacity:0.1;stroke-width:0.48;\" x=\"105.318006\" xlink:href=\"#medd4ac3738\" y=\"174.744208\"/>\n     <use style=\"fill:#386df9;fill-opacity:0.1;stroke:#ffffff;stroke-opacity:0.1;stroke-width:0.48;\" x=\"100.391327\" xlink:href=\"#medd4ac3738\" y=\"165.563635\"/>\n     <use style=\"fill:#386df9;fill-opacity:0.1;stroke:#ffffff;stroke-opacity:0.1;stroke-width:0.48;\" x=\"100.391327\" xlink:href=\"#medd4ac3738\" y=\"165.563635\"/>\n     <use style=\"fill:#386df9;fill-opacity:0.1;stroke:#ffffff;stroke-opacity:0.1;stroke-width:0.48;\" x=\"99.581666\" xlink:href=\"#medd4ac3738\" y=\"154.262613\"/>\n     <use style=\"fill:#386df9;fill-opacity:0.1;stroke:#ffffff;stroke-opacity:0.1;stroke-width:0.48;\" x=\"100.32757\" xlink:href=\"#medd4ac3738\" y=\"141.913952\"/>\n     <use style=\"fill:#386df9;fill-opacity:0.1;stroke:#ffffff;stroke-opacity:0.1;stroke-width:0.48;\" x=\"111.092626\" xlink:href=\"#medd4ac3738\" y=\"202.176219\"/>\n     <use style=\"fill:#386df9;fill-opacity:0.1;stroke:#ffffff;stroke-opacity:0.1;stroke-width:0.48;\" x=\"111.092626\" xlink:href=\"#medd4ac3738\" y=\"202.176219\"/>\n     <use style=\"fill:#386df9;fill-opacity:0.1;stroke:#ffffff;stroke-opacity:0.1;stroke-width:0.48;\" x=\"111.092626\" xlink:href=\"#medd4ac3738\" y=\"202.176219\"/>\n     <use style=\"fill:#386df9;fill-opacity:0.1;stroke:#ffffff;stroke-opacity:0.1;stroke-width:0.48;\" x=\"97.875396\" xlink:href=\"#medd4ac3738\" y=\"165.82385\"/>\n     <use style=\"fill:#386df9;fill-opacity:0.1;stroke:#ffffff;stroke-opacity:0.1;stroke-width:0.48;\" x=\"97.875396\" xlink:href=\"#medd4ac3738\" y=\"165.82385\"/>\n     <use style=\"fill:#386df9;fill-opacity:0.1;stroke:#ffffff;stroke-opacity:0.1;stroke-width:0.48;\" x=\"108.294157\" xlink:href=\"#medd4ac3738\" y=\"188.8392\"/>\n     <use style=\"fill:#386df9;fill-opacity:0.1;stroke:#ffffff;stroke-opacity:0.1;stroke-width:0.48;\" x=\"108.294157\" xlink:href=\"#medd4ac3738\" y=\"188.8392\"/>\n     <use style=\"fill:#386df9;fill-opacity:0.1;stroke:#ffffff;stroke-opacity:0.1;stroke-width:0.48;\" x=\"99.07513\" xlink:href=\"#medd4ac3738\" y=\"153.544191\"/>\n     <use style=\"fill:#386df9;fill-opacity:0.1;stroke:#ffffff;stroke-opacity:0.1;stroke-width:0.48;\" x=\"99.07513\" xlink:href=\"#medd4ac3738\" y=\"153.544191\"/>\n     <use style=\"fill:#386df9;fill-opacity:0.1;stroke:#ffffff;stroke-opacity:0.1;stroke-width:0.48;\" x=\"99.07513\" xlink:href=\"#medd4ac3738\" y=\"153.544191\"/>\n     <use style=\"fill:#386df9;fill-opacity:0.1;stroke:#ffffff;stroke-opacity:0.1;stroke-width:0.48;\" x=\"104.848457\" xlink:href=\"#medd4ac3738\" y=\"152.927444\"/>\n     <use style=\"fill:#386df9;fill-opacity:0.1;stroke:#ffffff;stroke-opacity:0.1;stroke-width:0.48;\" x=\"104.848457\" xlink:href=\"#medd4ac3738\" y=\"152.927444\"/>\n     <use style=\"fill:#386df9;fill-opacity:0.1;stroke:#ffffff;stroke-opacity:0.1;stroke-width:0.48;\" x=\"105.309232\" xlink:href=\"#medd4ac3738\" y=\"169.072786\"/>\n     <use style=\"fill:#386df9;fill-opacity:0.1;stroke:#ffffff;stroke-opacity:0.1;stroke-width:0.48;\" x=\"105.309232\" xlink:href=\"#medd4ac3738\" y=\"169.072786\"/>\n     <use style=\"fill:#386df9;fill-opacity:0.1;stroke:#ffffff;stroke-opacity:0.1;stroke-width:0.48;\" x=\"88.022216\" xlink:href=\"#medd4ac3738\" y=\"108.703345\"/>\n     <use style=\"fill:#386df9;fill-opacity:0.1;stroke:#ffffff;stroke-opacity:0.1;stroke-width:0.48;\" x=\"88.022216\" xlink:href=\"#medd4ac3738\" y=\"108.703345\"/>\n     <use style=\"fill:#386df9;fill-opacity:0.1;stroke:#ffffff;stroke-opacity:0.1;stroke-width:0.48;\" x=\"88.022216\" xlink:href=\"#medd4ac3738\" y=\"108.703345\"/>\n     <use style=\"fill:#386df9;fill-opacity:0.1;stroke:#ffffff;stroke-opacity:0.1;stroke-width:0.48;\" x=\"106.230474\" xlink:href=\"#medd4ac3738\" y=\"160.613604\"/>\n     <use style=\"fill:#386df9;fill-opacity:0.1;stroke:#ffffff;stroke-opacity:0.1;stroke-width:0.48;\" x=\"106.230474\" xlink:href=\"#medd4ac3738\" y=\"160.613604\"/>\n     <use style=\"fill:#386df9;fill-opacity:0.1;stroke:#ffffff;stroke-opacity:0.1;stroke-width:0.48;\" x=\"99.208065\" xlink:href=\"#medd4ac3738\" y=\"151.845394\"/>\n     <use style=\"fill:#386df9;fill-opacity:0.1;stroke:#ffffff;stroke-opacity:0.1;stroke-width:0.48;\" x=\"105.138279\" xlink:href=\"#medd4ac3738\" y=\"196.460864\"/>\n     <use style=\"fill:#386df9;fill-opacity:0.1;stroke:#ffffff;stroke-opacity:0.1;stroke-width:0.48;\" x=\"108.948201\" xlink:href=\"#medd4ac3738\" y=\"214.764112\"/>\n     <use style=\"fill:#386df9;fill-opacity:0.1;stroke:#ffffff;stroke-opacity:0.1;stroke-width:0.48;\" x=\"106.20792\" xlink:href=\"#medd4ac3738\" y=\"204.617716\"/>\n     <use style=\"fill:#386df9;fill-opacity:0.1;stroke:#ffffff;stroke-opacity:0.1;stroke-width:0.48;\" x=\"102.572593\" xlink:href=\"#medd4ac3738\" y=\"180.398546\"/>\n     <use style=\"fill:#386df9;fill-opacity:0.1;stroke:#ffffff;stroke-opacity:0.1;stroke-width:0.48;\" x=\"111.320092\" xlink:href=\"#medd4ac3738\" y=\"162.41068\"/>\n     <use style=\"fill:#386df9;fill-opacity:0.1;stroke:#ffffff;stroke-opacity:0.1;stroke-width:0.48;\" x=\"102.045647\" xlink:href=\"#medd4ac3738\" y=\"168.566814\"/>\n     <use style=\"fill:#386df9;fill-opacity:0.1;stroke:#ffffff;stroke-opacity:0.1;stroke-width:0.48;\" x=\"105.685609\" xlink:href=\"#medd4ac3738\" y=\"179.572969\"/>\n     <use style=\"fill:#386df9;fill-opacity:0.1;stroke:#ffffff;stroke-opacity:0.1;stroke-width:0.48;\" x=\"105.685609\" xlink:href=\"#medd4ac3738\" y=\"179.572969\"/>\n     <use style=\"fill:#386df9;fill-opacity:0.1;stroke:#ffffff;stroke-opacity:0.1;stroke-width:0.48;\" x=\"104.223963\" xlink:href=\"#medd4ac3738\" y=\"207.873877\"/>\n     <use style=\"fill:#386df9;fill-opacity:0.1;stroke:#ffffff;stroke-opacity:0.1;stroke-width:0.48;\" x=\"100.453771\" xlink:href=\"#medd4ac3738\" y=\"165.65622\"/>\n     <use style=\"fill:#386df9;fill-opacity:0.1;stroke:#ffffff;stroke-opacity:0.1;stroke-width:0.48;\" x=\"105.455397\" xlink:href=\"#medd4ac3738\" y=\"179.886671\"/>\n     <use style=\"fill:#386df9;fill-opacity:0.1;stroke:#ffffff;stroke-opacity:0.1;stroke-width:0.48;\" x=\"116.18859\" xlink:href=\"#medd4ac3738\" y=\"198.633749\"/>\n     <use style=\"fill:#386df9;fill-opacity:0.1;stroke:#ffffff;stroke-opacity:0.1;stroke-width:0.48;\" x=\"103.238331\" xlink:href=\"#medd4ac3738\" y=\"186.456374\"/>\n     <use style=\"fill:#386df9;fill-opacity:0.1;stroke:#ffffff;stroke-opacity:0.1;stroke-width:0.48;\" x=\"95.676014\" xlink:href=\"#medd4ac3738\" y=\"150.02886\"/>\n     <use style=\"fill:#386df9;fill-opacity:0.1;stroke:#ffffff;stroke-opacity:0.1;stroke-width:0.48;\" x=\"80.548076\" xlink:href=\"#medd4ac3738\" y=\"51.005743\"/>\n     <use style=\"fill:#386df9;fill-opacity:0.1;stroke:#ffffff;stroke-opacity:0.1;stroke-width:0.48;\" x=\"103.201406\" xlink:href=\"#medd4ac3738\" y=\"196.639393\"/>\n     <use style=\"fill:#386df9;fill-opacity:0.1;stroke:#ffffff;stroke-opacity:0.1;stroke-width:0.48;\" x=\"106.675447\" xlink:href=\"#medd4ac3738\" y=\"180.986408\"/>\n     <use style=\"fill:#386df9;fill-opacity:0.1;stroke:#ffffff;stroke-opacity:0.1;stroke-width:0.48;\" x=\"83.770191\" xlink:href=\"#medd4ac3738\" y=\"97.187066\"/>\n     <use style=\"fill:#386df9;fill-opacity:0.1;stroke:#ffffff;stroke-opacity:0.1;stroke-width:0.48;\" x=\"97.182685\" xlink:href=\"#medd4ac3738\" y=\"187.035365\"/>\n     <use style=\"fill:#386df9;fill-opacity:0.1;stroke:#ffffff;stroke-opacity:0.1;stroke-width:0.48;\" x=\"104.871873\" xlink:href=\"#medd4ac3738\" y=\"163.597432\"/>\n     <use style=\"fill:#386df9;fill-opacity:0.1;stroke:#ffffff;stroke-opacity:0.1;stroke-width:0.48;\" x=\"109.283712\" xlink:href=\"#medd4ac3738\" y=\"198.192382\"/>\n     <use style=\"fill:#386df9;fill-opacity:0.1;stroke:#ffffff;stroke-opacity:0.1;stroke-width:0.48;\" x=\"109.155397\" xlink:href=\"#medd4ac3738\" y=\"200.791581\"/>\n     <use style=\"fill:#386df9;fill-opacity:0.1;stroke:#ffffff;stroke-opacity:0.1;stroke-width:0.48;\" x=\"98.200355\" xlink:href=\"#medd4ac3738\" y=\"176.488512\"/>\n     <use style=\"fill:#386df9;fill-opacity:0.1;stroke:#ffffff;stroke-opacity:0.1;stroke-width:0.48;\" x=\"94.330822\" xlink:href=\"#medd4ac3738\" y=\"156.811222\"/>\n     <use style=\"fill:#386df9;fill-opacity:0.1;stroke:#ffffff;stroke-opacity:0.1;stroke-width:0.48;\" x=\"96.107665\" xlink:href=\"#medd4ac3738\" y=\"151.758356\"/>\n     <use style=\"fill:#386df9;fill-opacity:0.1;stroke:#ffffff;stroke-opacity:0.1;stroke-width:0.48;\" x=\"94.761256\" xlink:href=\"#medd4ac3738\" y=\"168.622893\"/>\n     <use style=\"fill:#386df9;fill-opacity:0.1;stroke:#ffffff;stroke-opacity:0.1;stroke-width:0.48;\" x=\"109.03279\" xlink:href=\"#medd4ac3738\" y=\"159.516921\"/>\n     <use style=\"fill:#386df9;fill-opacity:0.1;stroke:#ffffff;stroke-opacity:0.1;stroke-width:0.48;\" x=\"99.661119\" xlink:href=\"#medd4ac3738\" y=\"168.122863\"/>\n     <use style=\"fill:#386df9;fill-opacity:0.1;stroke:#ffffff;stroke-opacity:0.1;stroke-width:0.48;\" x=\"95.209563\" xlink:href=\"#medd4ac3738\" y=\"159.90397\"/>\n     <use style=\"fill:#386df9;fill-opacity:0.1;stroke:#ffffff;stroke-opacity:0.1;stroke-width:0.48;\" x=\"102.653991\" xlink:href=\"#medd4ac3738\" y=\"198.463337\"/>\n     <use style=\"fill:#386df9;fill-opacity:0.1;stroke:#ffffff;stroke-opacity:0.1;stroke-width:0.48;\" x=\"107.683676\" xlink:href=\"#medd4ac3738\" y=\"157.356\"/>\n     <use style=\"fill:#386df9;fill-opacity:0.1;stroke:#ffffff;stroke-opacity:0.1;stroke-width:0.48;\" x=\"105.483152\" xlink:href=\"#medd4ac3738\" y=\"183.416844\"/>\n     <use style=\"fill:#386df9;fill-opacity:0.1;stroke:#ffffff;stroke-opacity:0.1;stroke-width:0.48;\" x=\"115.993154\" xlink:href=\"#medd4ac3738\" y=\"197.048672\"/>\n     <use style=\"fill:#386df9;fill-opacity:0.1;stroke:#ffffff;stroke-opacity:0.1;stroke-width:0.48;\" x=\"110.333766\" xlink:href=\"#medd4ac3738\" y=\"169.418106\"/>\n     <use style=\"fill:#386df9;fill-opacity:0.1;stroke:#ffffff;stroke-opacity:0.1;stroke-width:0.48;\" x=\"107.885192\" xlink:href=\"#medd4ac3738\" y=\"219.287207\"/>\n     <use style=\"fill:#386df9;fill-opacity:0.1;stroke:#ffffff;stroke-opacity:0.1;stroke-width:0.48;\" x=\"107.222137\" xlink:href=\"#medd4ac3738\" y=\"190.716584\"/>\n     <use style=\"fill:#386df9;fill-opacity:0.1;stroke:#ffffff;stroke-opacity:0.1;stroke-width:0.48;\" x=\"99.067159\" xlink:href=\"#medd4ac3738\" y=\"138.395946\"/>\n     <use style=\"fill:#386df9;fill-opacity:0.1;stroke:#ffffff;stroke-opacity:0.1;stroke-width:0.48;\" x=\"111.59795\" xlink:href=\"#medd4ac3738\" y=\"178.18736\"/>\n     <use style=\"fill:#386df9;fill-opacity:0.1;stroke:#ffffff;stroke-opacity:0.1;stroke-width:0.48;\" x=\"107.771275\" xlink:href=\"#medd4ac3738\" y=\"152.213192\"/>\n     <use style=\"fill:#386df9;fill-opacity:0.1;stroke:#ffffff;stroke-opacity:0.1;stroke-width:0.48;\" x=\"96.690172\" xlink:href=\"#medd4ac3738\" y=\"170.886084\"/>\n     <use style=\"fill:#386df9;fill-opacity:0.1;stroke:#ffffff;stroke-opacity:0.1;stroke-width:0.48;\" x=\"100.636559\" xlink:href=\"#medd4ac3738\" y=\"187.399443\"/>\n     <use style=\"fill:#386df9;fill-opacity:0.1;stroke:#ffffff;stroke-opacity:0.1;stroke-width:0.48;\" x=\"101.205083\" xlink:href=\"#medd4ac3738\" y=\"164.771963\"/>\n     <use style=\"fill:#386df9;fill-opacity:0.1;stroke:#ffffff;stroke-opacity:0.1;stroke-width:0.48;\" x=\"110.242792\" xlink:href=\"#medd4ac3738\" y=\"177.076813\"/>\n     <use style=\"fill:#386df9;fill-opacity:0.1;stroke:#ffffff;stroke-opacity:0.1;stroke-width:0.48;\" x=\"92.383278\" xlink:href=\"#medd4ac3738\" y=\"90.995742\"/>\n     <use style=\"fill:#386df9;fill-opacity:0.1;stroke:#ffffff;stroke-opacity:0.1;stroke-width:0.48;\" x=\"102.409145\" xlink:href=\"#medd4ac3738\" y=\"187.246533\"/>\n     <use style=\"fill:#386df9;fill-opacity:0.1;stroke:#ffffff;stroke-opacity:0.1;stroke-width:0.48;\" x=\"100.025576\" xlink:href=\"#medd4ac3738\" y=\"175.723436\"/>\n     <use style=\"fill:#386df9;fill-opacity:0.1;stroke:#ffffff;stroke-opacity:0.1;stroke-width:0.48;\" x=\"106.408269\" xlink:href=\"#medd4ac3738\" y=\"182.904784\"/>\n     <use style=\"fill:#386df9;fill-opacity:0.1;stroke:#ffffff;stroke-opacity:0.1;stroke-width:0.48;\" x=\"108.190451\" xlink:href=\"#medd4ac3738\" y=\"185.65906\"/>\n     <use style=\"fill:#386df9;fill-opacity:0.1;stroke:#ffffff;stroke-opacity:0.1;stroke-width:0.48;\" x=\"106.766638\" xlink:href=\"#medd4ac3738\" y=\"160.227201\"/>\n     <use style=\"fill:#386df9;fill-opacity:0.1;stroke:#ffffff;stroke-opacity:0.1;stroke-width:0.48;\" x=\"103.522494\" xlink:href=\"#medd4ac3738\" y=\"172.015271\"/>\n     <use style=\"fill:#386df9;fill-opacity:0.1;stroke:#ffffff;stroke-opacity:0.1;stroke-width:0.48;\" x=\"107.803903\" xlink:href=\"#medd4ac3738\" y=\"206.777172\"/>\n     <use style=\"fill:#386df9;fill-opacity:0.1;stroke:#ffffff;stroke-opacity:0.1;stroke-width:0.48;\" x=\"105.318418\" xlink:href=\"#medd4ac3738\" y=\"189.437332\"/>\n     <use style=\"fill:#386df9;fill-opacity:0.1;stroke:#ffffff;stroke-opacity:0.1;stroke-width:0.48;\" x=\"99.436396\" xlink:href=\"#medd4ac3738\" y=\"155.875613\"/>\n     <use style=\"fill:#386df9;fill-opacity:0.1;stroke:#ffffff;stroke-opacity:0.1;stroke-width:0.48;\" x=\"114.190506\" xlink:href=\"#medd4ac3738\" y=\"219.244372\"/>\n     <use style=\"fill:#386df9;fill-opacity:0.1;stroke:#ffffff;stroke-opacity:0.1;stroke-width:0.48;\" x=\"109.335291\" xlink:href=\"#medd4ac3738\" y=\"201.954537\"/>\n     <use style=\"fill:#386df9;fill-opacity:0.1;stroke:#ffffff;stroke-opacity:0.1;stroke-width:0.48;\" x=\"100.486488\" xlink:href=\"#medd4ac3738\" y=\"193.774785\"/>\n     <use style=\"fill:#386df9;fill-opacity:0.1;stroke:#ffffff;stroke-opacity:0.1;stroke-width:0.48;\" x=\"102.566907\" xlink:href=\"#medd4ac3738\" y=\"154.806217\"/>\n     <use style=\"fill:#386df9;fill-opacity:0.1;stroke:#ffffff;stroke-opacity:0.1;stroke-width:0.48;\" x=\"103.106218\" xlink:href=\"#medd4ac3738\" y=\"175.058975\"/>\n     <use style=\"fill:#386df9;fill-opacity:0.1;stroke:#ffffff;stroke-opacity:0.1;stroke-width:0.48;\" x=\"110.101894\" xlink:href=\"#medd4ac3738\" y=\"188.360358\"/>\n     <use style=\"fill:#386df9;fill-opacity:0.1;stroke:#ffffff;stroke-opacity:0.1;stroke-width:0.48;\" x=\"96.925503\" xlink:href=\"#medd4ac3738\" y=\"158.938004\"/>\n     <use style=\"fill:#386df9;fill-opacity:0.1;stroke:#ffffff;stroke-opacity:0.1;stroke-width:0.48;\" x=\"98.638676\" xlink:href=\"#medd4ac3738\" y=\"142.368609\"/>\n     <use style=\"fill:#386df9;fill-opacity:0.1;stroke:#ffffff;stroke-opacity:0.1;stroke-width:0.48;\" x=\"110.507148\" xlink:href=\"#medd4ac3738\" y=\"199.573177\"/>\n     <use style=\"fill:#386df9;fill-opacity:0.1;stroke:#ffffff;stroke-opacity:0.1;stroke-width:0.48;\" x=\"97.158807\" xlink:href=\"#medd4ac3738\" y=\"118.237332\"/>\n     <use style=\"fill:#386df9;fill-opacity:0.1;stroke:#ffffff;stroke-opacity:0.1;stroke-width:0.48;\" x=\"101.950693\" xlink:href=\"#medd4ac3738\" y=\"170.910958\"/>\n     <use style=\"fill:#386df9;fill-opacity:0.1;stroke:#ffffff;stroke-opacity:0.1;stroke-width:0.48;\" x=\"107.470546\" xlink:href=\"#medd4ac3738\" y=\"200.791051\"/>\n     <use style=\"fill:#386df9;fill-opacity:0.1;stroke:#ffffff;stroke-opacity:0.1;stroke-width:0.48;\" x=\"98.167903\" xlink:href=\"#medd4ac3738\" y=\"112.14771\"/>\n     <use style=\"fill:#386df9;fill-opacity:0.1;stroke:#ffffff;stroke-opacity:0.1;stroke-width:0.48;\" x=\"99.856329\" xlink:href=\"#medd4ac3738\" y=\"168.415194\"/>\n     <use style=\"fill:#386df9;fill-opacity:0.1;stroke:#ffffff;stroke-opacity:0.1;stroke-width:0.48;\" x=\"100.652789\" xlink:href=\"#medd4ac3738\" y=\"142.380097\"/>\n     <use style=\"fill:#386df9;fill-opacity:0.1;stroke:#ffffff;stroke-opacity:0.1;stroke-width:0.48;\" x=\"99.675778\" xlink:href=\"#medd4ac3738\" y=\"170.157612\"/>\n     <use style=\"fill:#386df9;fill-opacity:0.1;stroke:#ffffff;stroke-opacity:0.1;stroke-width:0.48;\" x=\"99.675778\" xlink:href=\"#medd4ac3738\" y=\"170.157612\"/>\n     <use style=\"fill:#386df9;fill-opacity:0.1;stroke:#ffffff;stroke-opacity:0.1;stroke-width:0.48;\" x=\"96.497178\" xlink:href=\"#medd4ac3738\" y=\"157.637462\"/>\n     <use style=\"fill:#386df9;fill-opacity:0.1;stroke:#ffffff;stroke-opacity:0.1;stroke-width:0.48;\" x=\"108.832519\" xlink:href=\"#medd4ac3738\" y=\"188.46111\"/>\n     <use style=\"fill:#386df9;fill-opacity:0.1;stroke:#ffffff;stroke-opacity:0.1;stroke-width:0.48;\" x=\"108.895329\" xlink:href=\"#medd4ac3738\" y=\"210.363684\"/>\n     <use style=\"fill:#386df9;fill-opacity:0.1;stroke:#ffffff;stroke-opacity:0.1;stroke-width:0.48;\" x=\"110.407509\" xlink:href=\"#medd4ac3738\" y=\"170.208127\"/>\n     <use style=\"fill:#386df9;fill-opacity:0.1;stroke:#ffffff;stroke-opacity:0.1;stroke-width:0.48;\" x=\"104.982733\" xlink:href=\"#medd4ac3738\" y=\"162.882451\"/>\n     <use style=\"fill:#386df9;fill-opacity:0.1;stroke:#ffffff;stroke-opacity:0.1;stroke-width:0.48;\" x=\"107.709639\" xlink:href=\"#medd4ac3738\" y=\"185.546654\"/>\n     <use style=\"fill:#386df9;fill-opacity:0.1;stroke:#ffffff;stroke-opacity:0.1;stroke-width:0.48;\" x=\"104.431695\" xlink:href=\"#medd4ac3738\" y=\"170.379063\"/>\n     <use style=\"fill:#386df9;fill-opacity:0.1;stroke:#ffffff;stroke-opacity:0.1;stroke-width:0.48;\" x=\"102.870172\" xlink:href=\"#medd4ac3738\" y=\"154.88741\"/>\n     <use style=\"fill:#386df9;fill-opacity:0.1;stroke:#ffffff;stroke-opacity:0.1;stroke-width:0.48;\" x=\"101.214638\" xlink:href=\"#medd4ac3738\" y=\"162.578761\"/>\n     <use style=\"fill:#386df9;fill-opacity:0.1;stroke:#ffffff;stroke-opacity:0.1;stroke-width:0.48;\" x=\"101.941559\" xlink:href=\"#medd4ac3738\" y=\"174.010953\"/>\n     <use style=\"fill:#386df9;fill-opacity:0.1;stroke:#ffffff;stroke-opacity:0.1;stroke-width:0.48;\" x=\"111.480423\" xlink:href=\"#medd4ac3738\" y=\"175.113346\"/>\n     <use style=\"fill:#386df9;fill-opacity:0.1;stroke:#ffffff;stroke-opacity:0.1;stroke-width:0.48;\" x=\"101.94833\" xlink:href=\"#medd4ac3738\" y=\"174.025071\"/>\n     <use style=\"fill:#386df9;fill-opacity:0.1;stroke:#ffffff;stroke-opacity:0.1;stroke-width:0.48;\" x=\"97.214704\" xlink:href=\"#medd4ac3738\" y=\"119.112807\"/>\n     <use style=\"fill:#386df9;fill-opacity:0.1;stroke:#ffffff;stroke-opacity:0.1;stroke-width:0.48;\" x=\"94.410503\" xlink:href=\"#medd4ac3738\" y=\"127.58819\"/>\n     <use style=\"fill:#386df9;fill-opacity:0.1;stroke:#ffffff;stroke-opacity:0.1;stroke-width:0.48;\" x=\"119.747735\" xlink:href=\"#medd4ac3738\" y=\"198.70445\"/>\n     <use style=\"fill:#386df9;fill-opacity:0.1;stroke:#ffffff;stroke-opacity:0.1;stroke-width:0.48;\" x=\"104.336229\" xlink:href=\"#medd4ac3738\" y=\"171.572058\"/>\n     <use style=\"fill:#386df9;fill-opacity:0.1;stroke:#ffffff;stroke-opacity:0.1;stroke-width:0.48;\" x=\"114.838159\" xlink:href=\"#medd4ac3738\" y=\"203.857237\"/>\n     <use style=\"fill:#386df9;fill-opacity:0.1;stroke:#ffffff;stroke-opacity:0.1;stroke-width:0.48;\" x=\"95.709535\" xlink:href=\"#medd4ac3738\" y=\"160.050183\"/>\n     <use style=\"fill:#386df9;fill-opacity:0.1;stroke:#ffffff;stroke-opacity:0.1;stroke-width:0.48;\" x=\"97.699081\" xlink:href=\"#medd4ac3738\" y=\"162.462975\"/>\n     <use style=\"fill:#386df9;fill-opacity:0.1;stroke:#ffffff;stroke-opacity:0.1;stroke-width:0.48;\" x=\"96.610688\" xlink:href=\"#medd4ac3738\" y=\"98.787864\"/>\n     <use style=\"fill:#386df9;fill-opacity:0.1;stroke:#ffffff;stroke-opacity:0.1;stroke-width:0.48;\" x=\"91.659055\" xlink:href=\"#medd4ac3738\" y=\"154.554256\"/>\n     <use style=\"fill:#386df9;fill-opacity:0.1;stroke:#ffffff;stroke-opacity:0.1;stroke-width:0.48;\" x=\"357.710399\" xlink:href=\"#medd4ac3738\" y=\"140.242831\"/>\n     <use style=\"fill:#386df9;fill-opacity:0.1;stroke:#ffffff;stroke-opacity:0.1;stroke-width:0.48;\" x=\"369.986872\" xlink:href=\"#medd4ac3738\" y=\"176.00651\"/>\n     <use style=\"fill:#386df9;fill-opacity:0.1;stroke:#ffffff;stroke-opacity:0.1;stroke-width:0.48;\" x=\"366.69286\" xlink:href=\"#medd4ac3738\" y=\"181.110301\"/>\n     <use style=\"fill:#386df9;fill-opacity:0.1;stroke:#ffffff;stroke-opacity:0.1;stroke-width:0.48;\" x=\"366.69286\" xlink:href=\"#medd4ac3738\" y=\"181.110301\"/>\n     <use style=\"fill:#386df9;fill-opacity:0.1;stroke:#ffffff;stroke-opacity:0.1;stroke-width:0.48;\" x=\"366.835567\" xlink:href=\"#medd4ac3738\" y=\"150.713069\"/>\n     <use style=\"fill:#386df9;fill-opacity:0.1;stroke:#ffffff;stroke-opacity:0.1;stroke-width:0.48;\" x=\"366.835567\" xlink:href=\"#medd4ac3738\" y=\"150.713069\"/>\n     <use style=\"fill:#386df9;fill-opacity:0.1;stroke:#ffffff;stroke-opacity:0.1;stroke-width:0.48;\" x=\"366.835567\" xlink:href=\"#medd4ac3738\" y=\"150.713069\"/>\n     <use style=\"fill:#386df9;fill-opacity:0.1;stroke:#ffffff;stroke-opacity:0.1;stroke-width:0.48;\" x=\"360.563627\" xlink:href=\"#medd4ac3738\" y=\"168.953415\"/>\n     <use style=\"fill:#386df9;fill-opacity:0.1;stroke:#ffffff;stroke-opacity:0.1;stroke-width:0.48;\" x=\"360.563627\" xlink:href=\"#medd4ac3738\" y=\"168.953415\"/>\n     <use style=\"fill:#386df9;fill-opacity:0.1;stroke:#ffffff;stroke-opacity:0.1;stroke-width:0.48;\" x=\"368.379595\" xlink:href=\"#medd4ac3738\" y=\"172.658852\"/>\n     <use style=\"fill:#386df9;fill-opacity:0.1;stroke:#ffffff;stroke-opacity:0.1;stroke-width:0.48;\" x=\"368.379595\" xlink:href=\"#medd4ac3738\" y=\"172.658852\"/>\n     <use style=\"fill:#386df9;fill-opacity:0.1;stroke:#ffffff;stroke-opacity:0.1;stroke-width:0.48;\" x=\"368.379595\" xlink:href=\"#medd4ac3738\" y=\"172.658852\"/>\n     <use style=\"fill:#386df9;fill-opacity:0.1;stroke:#ffffff;stroke-opacity:0.1;stroke-width:0.48;\" x=\"368.379595\" xlink:href=\"#medd4ac3738\" y=\"172.658852\"/>\n     <use style=\"fill:#386df9;fill-opacity:0.1;stroke:#ffffff;stroke-opacity:0.1;stroke-width:0.48;\" x=\"368.379595\" xlink:href=\"#medd4ac3738\" y=\"172.658852\"/>\n     <use style=\"fill:#386df9;fill-opacity:0.1;stroke:#ffffff;stroke-opacity:0.1;stroke-width:0.48;\" x=\"362.859547\" xlink:href=\"#medd4ac3738\" y=\"176.541241\"/>\n     <use style=\"fill:#386df9;fill-opacity:0.1;stroke:#ffffff;stroke-opacity:0.1;stroke-width:0.48;\" x=\"362.859547\" xlink:href=\"#medd4ac3738\" y=\"176.541241\"/>\n     <use style=\"fill:#386df9;fill-opacity:0.1;stroke:#ffffff;stroke-opacity:0.1;stroke-width:0.48;\" x=\"360.62738\" xlink:href=\"#medd4ac3738\" y=\"147.79935\"/>\n     <use style=\"fill:#386df9;fill-opacity:0.1;stroke:#ffffff;stroke-opacity:0.1;stroke-width:0.48;\" x=\"360.62738\" xlink:href=\"#medd4ac3738\" y=\"147.79935\"/>\n     <use style=\"fill:#386df9;fill-opacity:0.1;stroke:#ffffff;stroke-opacity:0.1;stroke-width:0.48;\" x=\"360.62738\" xlink:href=\"#medd4ac3738\" y=\"147.79935\"/>\n     <use style=\"fill:#386df9;fill-opacity:0.1;stroke:#ffffff;stroke-opacity:0.1;stroke-width:0.48;\" x=\"360.62738\" xlink:href=\"#medd4ac3738\" y=\"147.79935\"/>\n     <use style=\"fill:#386df9;fill-opacity:0.1;stroke:#ffffff;stroke-opacity:0.1;stroke-width:0.48;\" x=\"364.818095\" xlink:href=\"#medd4ac3738\" y=\"175.255973\"/>\n     <use style=\"fill:#386df9;fill-opacity:0.1;stroke:#ffffff;stroke-opacity:0.1;stroke-width:0.48;\" x=\"364.818095\" xlink:href=\"#medd4ac3738\" y=\"175.255973\"/>\n     <use style=\"fill:#386df9;fill-opacity:0.1;stroke:#ffffff;stroke-opacity:0.1;stroke-width:0.48;\" x=\"364.818095\" xlink:href=\"#medd4ac3738\" y=\"175.255973\"/>\n     <use style=\"fill:#386df9;fill-opacity:0.1;stroke:#ffffff;stroke-opacity:0.1;stroke-width:0.48;\" x=\"364.495683\" xlink:href=\"#medd4ac3738\" y=\"173.982188\"/>\n     <use style=\"fill:#386df9;fill-opacity:0.1;stroke:#ffffff;stroke-opacity:0.1;stroke-width:0.48;\" x=\"360.447757\" xlink:href=\"#medd4ac3738\" y=\"139.918222\"/>\n     <use style=\"fill:#386df9;fill-opacity:0.1;stroke:#ffffff;stroke-opacity:0.1;stroke-width:0.48;\" x=\"360.447757\" xlink:href=\"#medd4ac3738\" y=\"139.918222\"/>\n     <use style=\"fill:#386df9;fill-opacity:0.1;stroke:#ffffff;stroke-opacity:0.1;stroke-width:0.48;\" x=\"375.615247\" xlink:href=\"#medd4ac3738\" y=\"207.722761\"/>\n     <use style=\"fill:#386df9;fill-opacity:0.1;stroke:#ffffff;stroke-opacity:0.1;stroke-width:0.48;\" x=\"370.275577\" xlink:href=\"#medd4ac3738\" y=\"175.409732\"/>\n     <use style=\"fill:#386df9;fill-opacity:0.1;stroke:#ffffff;stroke-opacity:0.1;stroke-width:0.48;\" x=\"370.169258\" xlink:href=\"#medd4ac3738\" y=\"190.549318\"/>\n     <use style=\"fill:#386df9;fill-opacity:0.1;stroke:#ffffff;stroke-opacity:0.1;stroke-width:0.48;\" x=\"362.200828\" xlink:href=\"#medd4ac3738\" y=\"160.474679\"/>\n     <use style=\"fill:#386df9;fill-opacity:0.1;stroke:#ffffff;stroke-opacity:0.1;stroke-width:0.48;\" x=\"362.200828\" xlink:href=\"#medd4ac3738\" y=\"160.474679\"/>\n     <use style=\"fill:#386df9;fill-opacity:0.1;stroke:#ffffff;stroke-opacity:0.1;stroke-width:0.48;\" x=\"374.923232\" xlink:href=\"#medd4ac3738\" y=\"172.689099\"/>\n     <use style=\"fill:#386df9;fill-opacity:0.1;stroke:#ffffff;stroke-opacity:0.1;stroke-width:0.48;\" x=\"374.923232\" xlink:href=\"#medd4ac3738\" y=\"172.689099\"/>\n     <use style=\"fill:#386df9;fill-opacity:0.1;stroke:#ffffff;stroke-opacity:0.1;stroke-width:0.48;\" x=\"357.727401\" xlink:href=\"#medd4ac3738\" y=\"140.278281\"/>\n     <use style=\"fill:#386df9;fill-opacity:0.1;stroke:#ffffff;stroke-opacity:0.1;stroke-width:0.48;\" x=\"357.727401\" xlink:href=\"#medd4ac3738\" y=\"140.278281\"/>\n     <use style=\"fill:#386df9;fill-opacity:0.1;stroke:#ffffff;stroke-opacity:0.1;stroke-width:0.48;\" x=\"357.727401\" xlink:href=\"#medd4ac3738\" y=\"140.278281\"/>\n     <use style=\"fill:#386df9;fill-opacity:0.1;stroke:#ffffff;stroke-opacity:0.1;stroke-width:0.48;\" x=\"375.304747\" xlink:href=\"#medd4ac3738\" y=\"206.447338\"/>\n     <use style=\"fill:#386df9;fill-opacity:0.1;stroke:#ffffff;stroke-opacity:0.1;stroke-width:0.48;\" x=\"364.681288\" xlink:href=\"#medd4ac3738\" y=\"172.18052\"/>\n     <use style=\"fill:#386df9;fill-opacity:0.1;stroke:#ffffff;stroke-opacity:0.1;stroke-width:0.48;\" x=\"364.681288\" xlink:href=\"#medd4ac3738\" y=\"172.18052\"/>\n     <use style=\"fill:#386df9;fill-opacity:0.1;stroke:#ffffff;stroke-opacity:0.1;stroke-width:0.48;\" x=\"364.681288\" xlink:href=\"#medd4ac3738\" y=\"172.18052\"/>\n     <use style=\"fill:#386df9;fill-opacity:0.1;stroke:#ffffff;stroke-opacity:0.1;stroke-width:0.48;\" x=\"364.581075\" xlink:href=\"#medd4ac3738\" y=\"160.231234\"/>\n     <use style=\"fill:#386df9;fill-opacity:0.1;stroke:#ffffff;stroke-opacity:0.1;stroke-width:0.48;\" x=\"364.581075\" xlink:href=\"#medd4ac3738\" y=\"160.231234\"/>\n     <use style=\"fill:#386df9;fill-opacity:0.1;stroke:#ffffff;stroke-opacity:0.1;stroke-width:0.48;\" x=\"378.105256\" xlink:href=\"#medd4ac3738\" y=\"192.322494\"/>\n     <use style=\"fill:#386df9;fill-opacity:0.1;stroke:#ffffff;stroke-opacity:0.1;stroke-width:0.48;\" x=\"370.079076\" xlink:href=\"#medd4ac3738\" y=\"174.21603\"/>\n     <use style=\"fill:#386df9;fill-opacity:0.1;stroke:#ffffff;stroke-opacity:0.1;stroke-width:0.48;\" x=\"370.079076\" xlink:href=\"#medd4ac3738\" y=\"174.21603\"/>\n     <use style=\"fill:#386df9;fill-opacity:0.1;stroke:#ffffff;stroke-opacity:0.1;stroke-width:0.48;\" x=\"370.079076\" xlink:href=\"#medd4ac3738\" y=\"174.21603\"/>\n     <use style=\"fill:#386df9;fill-opacity:0.1;stroke:#ffffff;stroke-opacity:0.1;stroke-width:0.48;\" x=\"364.495683\" xlink:href=\"#medd4ac3738\" y=\"173.982188\"/>\n     <use style=\"fill:#386df9;fill-opacity:0.1;stroke:#ffffff;stroke-opacity:0.1;stroke-width:0.48;\" x=\"364.495683\" xlink:href=\"#medd4ac3738\" y=\"173.982188\"/>\n     <use style=\"fill:#386df9;fill-opacity:0.1;stroke:#ffffff;stroke-opacity:0.1;stroke-width:0.48;\" x=\"356.25581\" xlink:href=\"#medd4ac3738\" y=\"147.059175\"/>\n     <use style=\"fill:#386df9;fill-opacity:0.1;stroke:#ffffff;stroke-opacity:0.1;stroke-width:0.48;\" x=\"356.25581\" xlink:href=\"#medd4ac3738\" y=\"147.059175\"/>\n     <use style=\"fill:#386df9;fill-opacity:0.1;stroke:#ffffff;stroke-opacity:0.1;stroke-width:0.48;\" x=\"366.811287\" xlink:href=\"#medd4ac3738\" y=\"177.515786\"/>\n     <use style=\"fill:#386df9;fill-opacity:0.1;stroke:#ffffff;stroke-opacity:0.1;stroke-width:0.48;\" x=\"366.811287\" xlink:href=\"#medd4ac3738\" y=\"177.515786\"/>\n     <use style=\"fill:#386df9;fill-opacity:0.1;stroke:#ffffff;stroke-opacity:0.1;stroke-width:0.48;\" x=\"366.811287\" xlink:href=\"#medd4ac3738\" y=\"177.515786\"/>\n     <use style=\"fill:#386df9;fill-opacity:0.1;stroke:#ffffff;stroke-opacity:0.1;stroke-width:0.48;\" x=\"366.811287\" xlink:href=\"#medd4ac3738\" y=\"177.515786\"/>\n     <use style=\"fill:#386df9;fill-opacity:0.1;stroke:#ffffff;stroke-opacity:0.1;stroke-width:0.48;\" x=\"366.811287\" xlink:href=\"#medd4ac3738\" y=\"177.515786\"/>\n     <use style=\"fill:#386df9;fill-opacity:0.1;stroke:#ffffff;stroke-opacity:0.1;stroke-width:0.48;\" x=\"366.811287\" xlink:href=\"#medd4ac3738\" y=\"177.515786\"/>\n     <use style=\"fill:#386df9;fill-opacity:0.1;stroke:#ffffff;stroke-opacity:0.1;stroke-width:0.48;\" x=\"366.811287\" xlink:href=\"#medd4ac3738\" y=\"177.515786\"/>\n     <use style=\"fill:#386df9;fill-opacity:0.1;stroke:#ffffff;stroke-opacity:0.1;stroke-width:0.48;\" x=\"369.075845\" xlink:href=\"#medd4ac3738\" y=\"183.636157\"/>\n     <use style=\"fill:#386df9;fill-opacity:0.1;stroke:#ffffff;stroke-opacity:0.1;stroke-width:0.48;\" x=\"369.075845\" xlink:href=\"#medd4ac3738\" y=\"183.636157\"/>\n     <use style=\"fill:#386df9;fill-opacity:0.1;stroke:#ffffff;stroke-opacity:0.1;stroke-width:0.48;\" x=\"369.075845\" xlink:href=\"#medd4ac3738\" y=\"183.636157\"/>\n     <use style=\"fill:#386df9;fill-opacity:0.1;stroke:#ffffff;stroke-opacity:0.1;stroke-width:0.48;\" x=\"370.68057\" xlink:href=\"#medd4ac3738\" y=\"166.478238\"/>\n     <use style=\"fill:#386df9;fill-opacity:0.1;stroke:#ffffff;stroke-opacity:0.1;stroke-width:0.48;\" x=\"365.542755\" xlink:href=\"#medd4ac3738\" y=\"176.007035\"/>\n     <use style=\"fill:#386df9;fill-opacity:0.1;stroke:#ffffff;stroke-opacity:0.1;stroke-width:0.48;\" x=\"356.88756\" xlink:href=\"#medd4ac3738\" y=\"84.673385\"/>\n     <use style=\"fill:#386df9;fill-opacity:0.1;stroke:#ffffff;stroke-opacity:0.1;stroke-width:0.48;\" x=\"367.207433\" xlink:href=\"#medd4ac3738\" y=\"202.747913\"/>\n     <use style=\"fill:#386df9;fill-opacity:0.1;stroke:#ffffff;stroke-opacity:0.1;stroke-width:0.48;\" x=\"367.207433\" xlink:href=\"#medd4ac3738\" y=\"202.747913\"/>\n     <use style=\"fill:#386df9;fill-opacity:0.1;stroke:#ffffff;stroke-opacity:0.1;stroke-width:0.48;\" x=\"363.191186\" xlink:href=\"#medd4ac3738\" y=\"176.221126\"/>\n     <use style=\"fill:#386df9;fill-opacity:0.1;stroke:#ffffff;stroke-opacity:0.1;stroke-width:0.48;\" x=\"363.191186\" xlink:href=\"#medd4ac3738\" y=\"176.221126\"/>\n     <use style=\"fill:#386df9;fill-opacity:0.1;stroke:#ffffff;stroke-opacity:0.1;stroke-width:0.48;\" x=\"363.191186\" xlink:href=\"#medd4ac3738\" y=\"176.221126\"/>\n     <use style=\"fill:#386df9;fill-opacity:0.1;stroke:#ffffff;stroke-opacity:0.1;stroke-width:0.48;\" x=\"363.191186\" xlink:href=\"#medd4ac3738\" y=\"176.221126\"/>\n     <use style=\"fill:#386df9;fill-opacity:0.1;stroke:#ffffff;stroke-opacity:0.1;stroke-width:0.48;\" x=\"367.950653\" xlink:href=\"#medd4ac3738\" y=\"204.117519\"/>\n     <use style=\"fill:#386df9;fill-opacity:0.1;stroke:#ffffff;stroke-opacity:0.1;stroke-width:0.48;\" x=\"367.950653\" xlink:href=\"#medd4ac3738\" y=\"204.117519\"/>\n     <use style=\"fill:#386df9;fill-opacity:0.1;stroke:#ffffff;stroke-opacity:0.1;stroke-width:0.48;\" x=\"360.273628\" xlink:href=\"#medd4ac3738\" y=\"147.928644\"/>\n     <use style=\"fill:#386df9;fill-opacity:0.1;stroke:#ffffff;stroke-opacity:0.1;stroke-width:0.48;\" x=\"365.994674\" xlink:href=\"#medd4ac3738\" y=\"167.387918\"/>\n     <use style=\"fill:#386df9;fill-opacity:0.1;stroke:#ffffff;stroke-opacity:0.1;stroke-width:0.48;\" x=\"365.994674\" xlink:href=\"#medd4ac3738\" y=\"167.387918\"/>\n     <use style=\"fill:#386df9;fill-opacity:0.1;stroke:#ffffff;stroke-opacity:0.1;stroke-width:0.48;\" x=\"365.994674\" xlink:href=\"#medd4ac3738\" y=\"167.387918\"/>\n     <use style=\"fill:#386df9;fill-opacity:0.1;stroke:#ffffff;stroke-opacity:0.1;stroke-width:0.48;\" x=\"365.994674\" xlink:href=\"#medd4ac3738\" y=\"167.387918\"/>\n     <use style=\"fill:#386df9;fill-opacity:0.1;stroke:#ffffff;stroke-opacity:0.1;stroke-width:0.48;\" x=\"365.994674\" xlink:href=\"#medd4ac3738\" y=\"167.387918\"/>\n     <use style=\"fill:#386df9;fill-opacity:0.1;stroke:#ffffff;stroke-opacity:0.1;stroke-width:0.48;\" x=\"365.994674\" xlink:href=\"#medd4ac3738\" y=\"167.387918\"/>\n     <use style=\"fill:#386df9;fill-opacity:0.1;stroke:#ffffff;stroke-opacity:0.1;stroke-width:0.48;\" x=\"365.994674\" xlink:href=\"#medd4ac3738\" y=\"167.387918\"/>\n     <use style=\"fill:#386df9;fill-opacity:0.1;stroke:#ffffff;stroke-opacity:0.1;stroke-width:0.48;\" x=\"365.994674\" xlink:href=\"#medd4ac3738\" y=\"167.387918\"/>\n     <use style=\"fill:#386df9;fill-opacity:0.1;stroke:#ffffff;stroke-opacity:0.1;stroke-width:0.48;\" x=\"354.66771\" xlink:href=\"#medd4ac3738\" y=\"97.446401\"/>\n     <use style=\"fill:#386df9;fill-opacity:0.1;stroke:#ffffff;stroke-opacity:0.1;stroke-width:0.48;\" x=\"354.66771\" xlink:href=\"#medd4ac3738\" y=\"97.446401\"/>\n     <use style=\"fill:#386df9;fill-opacity:0.1;stroke:#ffffff;stroke-opacity:0.1;stroke-width:0.48;\" x=\"354.66771\" xlink:href=\"#medd4ac3738\" y=\"97.446401\"/>\n     <use style=\"fill:#386df9;fill-opacity:0.1;stroke:#ffffff;stroke-opacity:0.1;stroke-width:0.48;\" x=\"374.460967\" xlink:href=\"#medd4ac3738\" y=\"189.966311\"/>\n     <use style=\"fill:#386df9;fill-opacity:0.1;stroke:#ffffff;stroke-opacity:0.1;stroke-width:0.48;\" x=\"362.695613\" xlink:href=\"#medd4ac3738\" y=\"113.926815\"/>\n     <use style=\"fill:#386df9;fill-opacity:0.1;stroke:#ffffff;stroke-opacity:0.1;stroke-width:0.48;\" x=\"357.760253\" xlink:href=\"#medd4ac3738\" y=\"120.368708\"/>\n     <use style=\"fill:#386df9;fill-opacity:0.1;stroke:#ffffff;stroke-opacity:0.1;stroke-width:0.48;\" x=\"357.760253\" xlink:href=\"#medd4ac3738\" y=\"120.368708\"/>\n     <use style=\"fill:#386df9;fill-opacity:0.1;stroke:#ffffff;stroke-opacity:0.1;stroke-width:0.48;\" x=\"361.010414\" xlink:href=\"#medd4ac3738\" y=\"142.357078\"/>\n     <use style=\"fill:#386df9;fill-opacity:0.1;stroke:#ffffff;stroke-opacity:0.1;stroke-width:0.48;\" x=\"342.319178\" xlink:href=\"#medd4ac3738\" y=\"59.16028\"/>\n     <use style=\"fill:#386df9;fill-opacity:0.1;stroke:#ffffff;stroke-opacity:0.1;stroke-width:0.48;\" x=\"342.319178\" xlink:href=\"#medd4ac3738\" y=\"59.16028\"/>\n     <use style=\"fill:#386df9;fill-opacity:0.1;stroke:#ffffff;stroke-opacity:0.1;stroke-width:0.48;\" x=\"362.747028\" xlink:href=\"#medd4ac3738\" y=\"161.841416\"/>\n     <use style=\"fill:#386df9;fill-opacity:0.1;stroke:#ffffff;stroke-opacity:0.1;stroke-width:0.48;\" x=\"374.913752\" xlink:href=\"#medd4ac3738\" y=\"172.669335\"/>\n     <use style=\"fill:#386df9;fill-opacity:0.1;stroke:#ffffff;stroke-opacity:0.1;stroke-width:0.48;\" x=\"352.64321\" xlink:href=\"#medd4ac3738\" y=\"96.127502\"/>\n     <use style=\"fill:#386df9;fill-opacity:0.1;stroke:#ffffff;stroke-opacity:0.1;stroke-width:0.48;\" x=\"360.805737\" xlink:href=\"#medd4ac3738\" y=\"113.434953\"/>\n     <use style=\"fill:#386df9;fill-opacity:0.1;stroke:#ffffff;stroke-opacity:0.1;stroke-width:0.48;\" x=\"362.167405\" xlink:href=\"#medd4ac3738\" y=\"140.83963\"/>\n     <use style=\"fill:#386df9;fill-opacity:0.1;stroke:#ffffff;stroke-opacity:0.1;stroke-width:0.48;\" x=\"352.641103\" xlink:href=\"#medd4ac3738\" y=\"96.12311\"/>\n     <use style=\"fill:#386df9;fill-opacity:0.1;stroke:#ffffff;stroke-opacity:0.1;stroke-width:0.48;\" x=\"362.164245\" xlink:href=\"#medd4ac3738\" y=\"140.833042\"/>\n     <use style=\"fill:#386df9;fill-opacity:0.1;stroke:#ffffff;stroke-opacity:0.1;stroke-width:0.48;\" x=\"361.823595\" xlink:href=\"#medd4ac3738\" y=\"140.572211\"/>\n     <use style=\"fill:#386df9;fill-opacity:0.1;stroke:#ffffff;stroke-opacity:0.1;stroke-width:0.48;\" x=\"354.40078\" xlink:href=\"#medd4ac3738\" y=\"91.27545\"/>\n     <use style=\"fill:#386df9;fill-opacity:0.1;stroke:#ffffff;stroke-opacity:0.1;stroke-width:0.48;\" x=\"361.322202\" xlink:href=\"#medd4ac3738\" y=\"150.664973\"/>\n     <use style=\"fill:#386df9;fill-opacity:0.1;stroke:#ffffff;stroke-opacity:0.1;stroke-width:0.48;\" x=\"359.38027\" xlink:href=\"#medd4ac3738\" y=\"141.461315\"/>\n     <use style=\"fill:#386df9;fill-opacity:0.1;stroke:#ffffff;stroke-opacity:0.1;stroke-width:0.48;\" x=\"367.83787\" xlink:href=\"#medd4ac3738\" y=\"133.200706\"/>\n     <use style=\"fill:#386df9;fill-opacity:0.1;stroke:#ffffff;stroke-opacity:0.1;stroke-width:0.48;\" x=\"366.505302\" xlink:href=\"#medd4ac3738\" y=\"159.691971\"/>\n     <use style=\"fill:#386df9;fill-opacity:0.1;stroke:#ffffff;stroke-opacity:0.1;stroke-width:0.48;\" x=\"356.23032\" xlink:href=\"#medd4ac3738\" y=\"136.914273\"/>\n     <use style=\"fill:#386df9;fill-opacity:0.1;stroke:#ffffff;stroke-opacity:0.1;stroke-width:0.48;\" x=\"372.666241\" xlink:href=\"#medd4ac3738\" y=\"179.629664\"/>\n     <use style=\"fill:#386df9;fill-opacity:0.1;stroke:#ffffff;stroke-opacity:0.1;stroke-width:0.48;\" x=\"367.728655\" xlink:href=\"#medd4ac3738\" y=\"180.670172\"/>\n     <use style=\"fill:#386df9;fill-opacity:0.1;stroke:#ffffff;stroke-opacity:0.1;stroke-width:0.48;\" x=\"356.957939\" xlink:href=\"#medd4ac3738\" y=\"140.549524\"/>\n     <use style=\"fill:#386df9;fill-opacity:0.1;stroke:#ffffff;stroke-opacity:0.1;stroke-width:0.48;\" x=\"363.391396\" xlink:href=\"#medd4ac3738\" y=\"169.349284\"/>\n     <use style=\"fill:#386df9;fill-opacity:0.1;stroke:#ffffff;stroke-opacity:0.1;stroke-width:0.48;\" x=\"346.402087\" xlink:href=\"#medd4ac3738\" y=\"55.749947\"/>\n     <use style=\"fill:#386df9;fill-opacity:0.1;stroke:#ffffff;stroke-opacity:0.1;stroke-width:0.48;\" x=\"346.402087\" xlink:href=\"#medd4ac3738\" y=\"55.749947\"/>\n     <use style=\"fill:#386df9;fill-opacity:0.1;stroke:#ffffff;stroke-opacity:0.1;stroke-width:0.48;\" x=\"356.039404\" xlink:href=\"#medd4ac3738\" y=\"125.145996\"/>\n     <use style=\"fill:#386df9;fill-opacity:0.1;stroke:#ffffff;stroke-opacity:0.1;stroke-width:0.48;\" x=\"375.213159\" xlink:href=\"#medd4ac3738\" y=\"176.851581\"/>\n     <use style=\"fill:#386df9;fill-opacity:0.1;stroke:#ffffff;stroke-opacity:0.1;stroke-width:0.48;\" x=\"362.039646\" xlink:href=\"#medd4ac3738\" y=\"130.270691\"/>\n     <use style=\"fill:#386df9;fill-opacity:0.1;stroke:#ffffff;stroke-opacity:0.1;stroke-width:0.48;\" x=\"355.041721\" xlink:href=\"#medd4ac3738\" y=\"125.196527\"/>\n     <use style=\"fill:#386df9;fill-opacity:0.1;stroke:#ffffff;stroke-opacity:0.1;stroke-width:0.48;\" x=\"358.953407\" xlink:href=\"#medd4ac3738\" y=\"131.059434\"/>\n     <use style=\"fill:#386df9;fill-opacity:0.1;stroke:#ffffff;stroke-opacity:0.1;stroke-width:0.48;\" x=\"365.308207\" xlink:href=\"#medd4ac3738\" y=\"125.324988\"/>\n     <use style=\"fill:#386df9;fill-opacity:0.1;stroke:#ffffff;stroke-opacity:0.1;stroke-width:0.48;\" x=\"365.886976\" xlink:href=\"#medd4ac3738\" y=\"151.516937\"/>\n     <use style=\"fill:#386df9;fill-opacity:0.1;stroke:#ffffff;stroke-opacity:0.1;stroke-width:0.48;\" x=\"371.664922\" xlink:href=\"#medd4ac3738\" y=\"172.810567\"/>\n     <use style=\"fill:#386df9;fill-opacity:0.1;stroke:#ffffff;stroke-opacity:0.1;stroke-width:0.48;\" x=\"371.664922\" xlink:href=\"#medd4ac3738\" y=\"172.810567\"/>\n     <use style=\"fill:#386df9;fill-opacity:0.1;stroke:#ffffff;stroke-opacity:0.1;stroke-width:0.48;\" x=\"350.440365\" xlink:href=\"#medd4ac3738\" y=\"87.34757\"/>\n     <use style=\"fill:#386df9;fill-opacity:0.1;stroke:#ffffff;stroke-opacity:0.1;stroke-width:0.48;\" x=\"372.292746\" xlink:href=\"#medd4ac3738\" y=\"184.323034\"/>\n     <use style=\"fill:#386df9;fill-opacity:0.1;stroke:#ffffff;stroke-opacity:0.1;stroke-width:0.48;\" x=\"363.729785\" xlink:href=\"#medd4ac3738\" y=\"174.185467\"/>\n     <use style=\"fill:#386df9;fill-opacity:0.1;stroke:#ffffff;stroke-opacity:0.1;stroke-width:0.48;\" x=\"360.972996\" xlink:href=\"#medd4ac3738\" y=\"153.45788\"/>\n     <use style=\"fill:#386df9;fill-opacity:0.1;stroke:#ffffff;stroke-opacity:0.1;stroke-width:0.48;\" x=\"370.79248\" xlink:href=\"#medd4ac3738\" y=\"191.607795\"/>\n     <use style=\"fill:#386df9;fill-opacity:0.1;stroke:#ffffff;stroke-opacity:0.1;stroke-width:0.48;\" x=\"373.594422\" xlink:href=\"#medd4ac3738\" y=\"168.567986\"/>\n     <use style=\"fill:#386df9;fill-opacity:0.1;stroke:#ffffff;stroke-opacity:0.1;stroke-width:0.48;\" x=\"363.748453\" xlink:href=\"#medd4ac3738\" y=\"161.798375\"/>\n    </g>\n   </g>\n   <g id=\"patch_3\">\n    <path d=\"M 58.523438 239.758125 \nL 58.523438 22.318125 \n\" style=\"fill:none;stroke:#ffffff;stroke-linecap:square;stroke-linejoin:miter;stroke-width:0.8;\"/>\n   </g>\n   <g id=\"patch_4\">\n    <path d=\"M 393.323438 239.758125 \nL 393.323438 22.318125 \n\" style=\"fill:none;stroke:#ffffff;stroke-linecap:square;stroke-linejoin:miter;stroke-width:0.8;\"/>\n   </g>\n   <g id=\"patch_5\">\n    <path d=\"M 58.523438 239.758125 \nL 393.323438 239.758125 \n\" style=\"fill:none;stroke:#ffffff;stroke-linecap:square;stroke-linejoin:miter;stroke-width:0.8;\"/>\n   </g>\n   <g id=\"patch_6\">\n    <path d=\"M 58.523438 22.318125 \nL 393.323438 22.318125 \n\" style=\"fill:none;stroke:#ffffff;stroke-linecap:square;stroke-linejoin:miter;stroke-width:0.8;\"/>\n   </g>\n   <g id=\"text_17\">\n    <!-- First 2 PCA Components -->\n    <defs>\n     <path d=\"M 9.8125 72.90625 \nL 51.703125 72.90625 \nL 51.703125 64.59375 \nL 19.671875 64.59375 \nL 19.671875 43.109375 \nL 48.578125 43.109375 \nL 48.578125 34.8125 \nL 19.671875 34.8125 \nL 19.671875 0 \nL 9.8125 0 \nz\n\" id=\"DejaVuSans-70\"/>\n     <path d=\"M 9.421875 54.6875 \nL 18.40625 54.6875 \nL 18.40625 0 \nL 9.421875 0 \nz\nM 9.421875 75.984375 \nL 18.40625 75.984375 \nL 18.40625 64.59375 \nL 9.421875 64.59375 \nz\n\" id=\"DejaVuSans-105\"/>\n     <path d=\"M 41.109375 46.296875 \nQ 39.59375 47.171875 37.8125 47.578125 \nQ 36.03125 48 33.890625 48 \nQ 26.265625 48 22.1875 43.046875 \nQ 18.109375 38.09375 18.109375 28.8125 \nL 18.109375 0 \nL 9.078125 0 \nL 9.078125 54.6875 \nL 18.109375 54.6875 \nL 18.109375 46.1875 \nQ 20.953125 51.171875 25.484375 53.578125 \nQ 30.03125 56 36.53125 56 \nQ 37.453125 56 38.578125 55.875 \nQ 39.703125 55.765625 41.0625 55.515625 \nz\n\" id=\"DejaVuSans-114\"/>\n     <path d=\"M 44.28125 53.078125 \nL 44.28125 44.578125 \nQ 40.484375 46.53125 36.375 47.5 \nQ 32.28125 48.484375 27.875 48.484375 \nQ 21.1875 48.484375 17.84375 46.4375 \nQ 14.5 44.390625 14.5 40.28125 \nQ 14.5 37.15625 16.890625 35.375 \nQ 19.28125 33.59375 26.515625 31.984375 \nL 29.59375 31.296875 \nQ 39.15625 29.25 43.1875 25.515625 \nQ 47.21875 21.78125 47.21875 15.09375 \nQ 47.21875 7.46875 41.1875 3.015625 \nQ 35.15625 -1.421875 24.609375 -1.421875 \nQ 20.21875 -1.421875 15.453125 -0.5625 \nQ 10.6875 0.296875 5.421875 2 \nL 5.421875 11.28125 \nQ 10.40625 8.6875 15.234375 7.390625 \nQ 20.0625 6.109375 24.8125 6.109375 \nQ 31.15625 6.109375 34.5625 8.28125 \nQ 37.984375 10.453125 37.984375 14.40625 \nQ 37.984375 18.0625 35.515625 20.015625 \nQ 33.0625 21.96875 24.703125 23.78125 \nL 21.578125 24.515625 \nQ 13.234375 26.265625 9.515625 29.90625 \nQ 5.8125 33.546875 5.8125 39.890625 \nQ 5.8125 47.609375 11.28125 51.796875 \nQ 16.75 56 26.8125 56 \nQ 31.78125 56 36.171875 55.265625 \nQ 40.578125 54.546875 44.28125 53.078125 \nz\n\" id=\"DejaVuSans-115\"/>\n     <path d=\"M 18.3125 70.21875 \nL 18.3125 54.6875 \nL 36.8125 54.6875 \nL 36.8125 47.703125 \nL 18.3125 47.703125 \nL 18.3125 18.015625 \nQ 18.3125 11.328125 20.140625 9.421875 \nQ 21.96875 7.515625 27.59375 7.515625 \nL 36.8125 7.515625 \nL 36.8125 0 \nL 27.59375 0 \nQ 17.1875 0 13.234375 3.875 \nQ 9.28125 7.765625 9.28125 18.015625 \nL 9.28125 47.703125 \nL 2.6875 47.703125 \nL 2.6875 54.6875 \nL 9.28125 54.6875 \nL 9.28125 70.21875 \nz\n\" id=\"DejaVuSans-116\"/>\n     <path d=\"M 30.609375 48.390625 \nQ 23.390625 48.390625 19.1875 42.75 \nQ 14.984375 37.109375 14.984375 27.296875 \nQ 14.984375 17.484375 19.15625 11.84375 \nQ 23.34375 6.203125 30.609375 6.203125 \nQ 37.796875 6.203125 41.984375 11.859375 \nQ 46.1875 17.53125 46.1875 27.296875 \nQ 46.1875 37.015625 41.984375 42.703125 \nQ 37.796875 48.390625 30.609375 48.390625 \nz\nM 30.609375 56 \nQ 42.328125 56 49.015625 48.375 \nQ 55.71875 40.765625 55.71875 27.296875 \nQ 55.71875 13.875 49.015625 6.21875 \nQ 42.328125 -1.421875 30.609375 -1.421875 \nQ 18.84375 -1.421875 12.171875 6.21875 \nQ 5.515625 13.875 5.515625 27.296875 \nQ 5.515625 40.765625 12.171875 48.375 \nQ 18.84375 56 30.609375 56 \nz\n\" id=\"DejaVuSans-111\"/>\n     <path d=\"M 52 44.1875 \nQ 55.375 50.25 60.0625 53.125 \nQ 64.75 56 71.09375 56 \nQ 79.640625 56 84.28125 50.015625 \nQ 88.921875 44.046875 88.921875 33.015625 \nL 88.921875 0 \nL 79.890625 0 \nL 79.890625 32.71875 \nQ 79.890625 40.578125 77.09375 44.375 \nQ 74.3125 48.1875 68.609375 48.1875 \nQ 61.625 48.1875 57.5625 43.546875 \nQ 53.515625 38.921875 53.515625 30.90625 \nL 53.515625 0 \nL 44.484375 0 \nL 44.484375 32.71875 \nQ 44.484375 40.625 41.703125 44.40625 \nQ 38.921875 48.1875 33.109375 48.1875 \nQ 26.21875 48.1875 22.15625 43.53125 \nQ 18.109375 38.875 18.109375 30.90625 \nL 18.109375 0 \nL 9.078125 0 \nL 9.078125 54.6875 \nL 18.109375 54.6875 \nL 18.109375 46.1875 \nQ 21.1875 51.21875 25.484375 53.609375 \nQ 29.78125 56 35.6875 56 \nQ 41.65625 56 45.828125 52.96875 \nQ 50 49.953125 52 44.1875 \nz\n\" id=\"DejaVuSans-109\"/>\n     <path d=\"M 18.109375 8.203125 \nL 18.109375 -20.796875 \nL 9.078125 -20.796875 \nL 9.078125 54.6875 \nL 18.109375 54.6875 \nL 18.109375 46.390625 \nQ 20.953125 51.265625 25.265625 53.625 \nQ 29.59375 56 35.59375 56 \nQ 45.5625 56 51.78125 48.09375 \nQ 58.015625 40.1875 58.015625 27.296875 \nQ 58.015625 14.40625 51.78125 6.484375 \nQ 45.5625 -1.421875 35.59375 -1.421875 \nQ 29.59375 -1.421875 25.265625 0.953125 \nQ 20.953125 3.328125 18.109375 8.203125 \nz\nM 48.6875 27.296875 \nQ 48.6875 37.203125 44.609375 42.84375 \nQ 40.53125 48.484375 33.40625 48.484375 \nQ 26.265625 48.484375 22.1875 42.84375 \nQ 18.109375 37.203125 18.109375 27.296875 \nQ 18.109375 17.390625 22.1875 11.75 \nQ 26.265625 6.109375 33.40625 6.109375 \nQ 40.53125 6.109375 44.609375 11.75 \nQ 48.6875 17.390625 48.6875 27.296875 \nz\n\" id=\"DejaVuSans-112\"/>\n     <path d=\"M 54.890625 33.015625 \nL 54.890625 0 \nL 45.90625 0 \nL 45.90625 32.71875 \nQ 45.90625 40.484375 42.875 44.328125 \nQ 39.84375 48.1875 33.796875 48.1875 \nQ 26.515625 48.1875 22.3125 43.546875 \nQ 18.109375 38.921875 18.109375 30.90625 \nL 18.109375 0 \nL 9.078125 0 \nL 9.078125 54.6875 \nL 18.109375 54.6875 \nL 18.109375 46.1875 \nQ 21.34375 51.125 25.703125 53.5625 \nQ 30.078125 56 35.796875 56 \nQ 45.21875 56 50.046875 50.171875 \nQ 54.890625 44.34375 54.890625 33.015625 \nz\n\" id=\"DejaVuSans-110\"/>\n     <path d=\"M 56.203125 29.59375 \nL 56.203125 25.203125 \nL 14.890625 25.203125 \nQ 15.484375 15.921875 20.484375 11.0625 \nQ 25.484375 6.203125 34.421875 6.203125 \nQ 39.59375 6.203125 44.453125 7.46875 \nQ 49.3125 8.734375 54.109375 11.28125 \nL 54.109375 2.78125 \nQ 49.265625 0.734375 44.1875 -0.34375 \nQ 39.109375 -1.421875 33.890625 -1.421875 \nQ 20.796875 -1.421875 13.15625 6.1875 \nQ 5.515625 13.8125 5.515625 26.8125 \nQ 5.515625 40.234375 12.765625 48.109375 \nQ 20.015625 56 32.328125 56 \nQ 43.359375 56 49.78125 48.890625 \nQ 56.203125 41.796875 56.203125 29.59375 \nz\nM 47.21875 32.234375 \nQ 47.125 39.59375 43.09375 43.984375 \nQ 39.0625 48.390625 32.421875 48.390625 \nQ 24.90625 48.390625 20.390625 44.140625 \nQ 15.875 39.890625 15.1875 32.171875 \nz\n\" id=\"DejaVuSans-101\"/>\n    </defs>\n    <g style=\"fill:#262626;\" transform=\"translate(153.885938 16.318125)scale(0.12 -0.12)\">\n     <use xlink:href=\"#DejaVuSans-70\"/>\n     <use x=\"50.269531\" xlink:href=\"#DejaVuSans-105\"/>\n     <use x=\"78.052734\" xlink:href=\"#DejaVuSans-114\"/>\n     <use x=\"119.166016\" xlink:href=\"#DejaVuSans-115\"/>\n     <use x=\"171.265625\" xlink:href=\"#DejaVuSans-116\"/>\n     <use x=\"210.474609\" xlink:href=\"#DejaVuSans-32\"/>\n     <use x=\"242.261719\" xlink:href=\"#DejaVuSans-50\"/>\n     <use x=\"305.884766\" xlink:href=\"#DejaVuSans-32\"/>\n     <use x=\"337.671875\" xlink:href=\"#DejaVuSans-80\"/>\n     <use x=\"397.974609\" xlink:href=\"#DejaVuSans-67\"/>\n     <use x=\"467.798828\" xlink:href=\"#DejaVuSans-65\"/>\n     <use x=\"536.207031\" xlink:href=\"#DejaVuSans-32\"/>\n     <use x=\"567.994141\" xlink:href=\"#DejaVuSans-67\"/>\n     <use x=\"637.818359\" xlink:href=\"#DejaVuSans-111\"/>\n     <use x=\"699\" xlink:href=\"#DejaVuSans-109\"/>\n     <use x=\"796.412109\" xlink:href=\"#DejaVuSans-112\"/>\n     <use x=\"859.888672\" xlink:href=\"#DejaVuSans-111\"/>\n     <use x=\"921.070312\" xlink:href=\"#DejaVuSans-110\"/>\n     <use x=\"984.449219\" xlink:href=\"#DejaVuSans-101\"/>\n     <use x=\"1045.972656\" xlink:href=\"#DejaVuSans-110\"/>\n     <use x=\"1109.351562\" xlink:href=\"#DejaVuSans-116\"/>\n     <use x=\"1148.560547\" xlink:href=\"#DejaVuSans-115\"/>\n    </g>\n   </g>\n  </g>\n </g>\n <defs>\n  <clipPath id=\"pb0622306e2\">\n   <rect height=\"217.44\" width=\"334.8\" x=\"58.523438\" y=\"22.318125\"/>\n  </clipPath>\n </defs>\n</svg>\n"
          },
          "metadata": {}
        }
      ]
    },
    {
      "cell_type": "markdown",
      "source": [
        "**K MEANS CLUSTERING**"
      ],
      "metadata": {
        "id": "ltia3loSrC-p"
      }
    },
    {
      "cell_type": "code",
      "source": [
        "ks = range(1, 10)\n",
        "inertias = []\n",
        "for k in ks:\n",
        "    # Create a KMeans instance with k clusters: model\n",
        "    model = KMeans(n_clusters=k)\n",
        "    \n",
        "    # Fit model to samples\n",
        "    model.fit(PCA_components.iloc[:,:2])\n",
        "    \n",
        "    # Append the inertia to the list of inertias\n",
        "    inertias.append(model.inertia_) #measures how well a dataset was clustered by K-Means\n",
        "    \n",
        "sns.lineplot(x=ks, y=inertias, marker='o').set_title(\"Inertia vs Clusters used\")\n",
        "plt.xlabel('number of clusters, k')\n",
        "plt.ylabel('inertia')\n",
        "plt.xticks(ks)\n",
        "plt.show()"
      ],
      "metadata": {
        "colab": {
          "base_uri": "https://localhost:8080/",
          "height": 391
        },
        "id": "YQ4jhd_5rGbs",
        "outputId": "d00c0a16-e074-4fb9-af4b-3a4ef408a377"
      },
      "execution_count": null,
      "outputs": [
        {
          "output_type": "display_data",
          "data": {
            "text/plain": [
              "<Figure size 432x288 with 1 Axes>"
            ],
            "image/svg+xml": "<?xml version=\"1.0\" encoding=\"utf-8\" standalone=\"no\"?>\n<!DOCTYPE svg PUBLIC \"-//W3C//DTD SVG 1.1//EN\"\n  \"http://www.w3.org/Graphics/SVG/1.1/DTD/svg11.dtd\">\n<!-- Created with matplotlib (https://matplotlib.org/) -->\n<svg height=\"277.314375pt\" version=\"1.1\" viewBox=\"0 0 388.965625 277.314375\" width=\"388.965625pt\" xmlns=\"http://www.w3.org/2000/svg\" xmlns:xlink=\"http://www.w3.org/1999/xlink\">\n <defs>\n  <style type=\"text/css\">\n*{stroke-linecap:butt;stroke-linejoin:round;}\n  </style>\n </defs>\n <g id=\"figure_1\">\n  <g id=\"patch_1\">\n   <path d=\"M 0 277.314375 \nL 388.965625 277.314375 \nL 388.965625 0 \nL 0 0 \nz\n\" style=\"fill:#ffffff;\"/>\n  </g>\n  <g id=\"axes_1\">\n   <g id=\"patch_2\">\n    <path d=\"M 46.965625 239.758125 \nL 381.765625 239.758125 \nL 381.765625 22.318125 \nL 46.965625 22.318125 \nz\n\" style=\"fill:#eaeaf2;\"/>\n   </g>\n   <g id=\"matplotlib.axis_1\">\n    <g id=\"xtick_1\">\n     <g id=\"line2d_1\">\n      <path clip-path=\"url(#p9c77b87ec6)\" d=\"M 62.183807 239.758125 \nL 62.183807 22.318125 \n\" style=\"fill:none;stroke:#ffffff;stroke-linecap:round;stroke-width:0.8;\"/>\n     </g>\n     <g id=\"text_1\">\n      <!-- 1 -->\n      <defs>\n       <path d=\"M 12.40625 8.296875 \nL 28.515625 8.296875 \nL 28.515625 63.921875 \nL 10.984375 60.40625 \nL 10.984375 69.390625 \nL 28.421875 72.90625 \nL 38.28125 72.90625 \nL 38.28125 8.296875 \nL 54.390625 8.296875 \nL 54.390625 0 \nL 12.40625 0 \nz\n\" id=\"DejaVuSans-49\"/>\n      </defs>\n      <g style=\"fill:#262626;\" transform=\"translate(59.002557 254.356562)scale(0.1 -0.1)\">\n       <use xlink:href=\"#DejaVuSans-49\"/>\n      </g>\n     </g>\n    </g>\n    <g id=\"xtick_2\">\n     <g id=\"line2d_2\">\n      <path clip-path=\"url(#p9c77b87ec6)\" d=\"M 100.229261 239.758125 \nL 100.229261 22.318125 \n\" style=\"fill:none;stroke:#ffffff;stroke-linecap:round;stroke-width:0.8;\"/>\n     </g>\n     <g id=\"text_2\">\n      <!-- 2 -->\n      <defs>\n       <path d=\"M 19.1875 8.296875 \nL 53.609375 8.296875 \nL 53.609375 0 \nL 7.328125 0 \nL 7.328125 8.296875 \nQ 12.9375 14.109375 22.625 23.890625 \nQ 32.328125 33.6875 34.8125 36.53125 \nQ 39.546875 41.84375 41.421875 45.53125 \nQ 43.3125 49.21875 43.3125 52.78125 \nQ 43.3125 58.59375 39.234375 62.25 \nQ 35.15625 65.921875 28.609375 65.921875 \nQ 23.96875 65.921875 18.8125 64.3125 \nQ 13.671875 62.703125 7.8125 59.421875 \nL 7.8125 69.390625 \nQ 13.765625 71.78125 18.9375 73 \nQ 24.125 74.21875 28.421875 74.21875 \nQ 39.75 74.21875 46.484375 68.546875 \nQ 53.21875 62.890625 53.21875 53.421875 \nQ 53.21875 48.921875 51.53125 44.890625 \nQ 49.859375 40.875 45.40625 35.40625 \nQ 44.1875 33.984375 37.640625 27.21875 \nQ 31.109375 20.453125 19.1875 8.296875 \nz\n\" id=\"DejaVuSans-50\"/>\n      </defs>\n      <g style=\"fill:#262626;\" transform=\"translate(97.048011 254.356562)scale(0.1 -0.1)\">\n       <use xlink:href=\"#DejaVuSans-50\"/>\n      </g>\n     </g>\n    </g>\n    <g id=\"xtick_3\">\n     <g id=\"line2d_3\">\n      <path clip-path=\"url(#p9c77b87ec6)\" d=\"M 138.274716 239.758125 \nL 138.274716 22.318125 \n\" style=\"fill:none;stroke:#ffffff;stroke-linecap:round;stroke-width:0.8;\"/>\n     </g>\n     <g id=\"text_3\">\n      <!-- 3 -->\n      <defs>\n       <path d=\"M 40.578125 39.3125 \nQ 47.65625 37.796875 51.625 33 \nQ 55.609375 28.21875 55.609375 21.1875 \nQ 55.609375 10.40625 48.1875 4.484375 \nQ 40.765625 -1.421875 27.09375 -1.421875 \nQ 22.515625 -1.421875 17.65625 -0.515625 \nQ 12.796875 0.390625 7.625 2.203125 \nL 7.625 11.71875 \nQ 11.71875 9.328125 16.59375 8.109375 \nQ 21.484375 6.890625 26.8125 6.890625 \nQ 36.078125 6.890625 40.9375 10.546875 \nQ 45.796875 14.203125 45.796875 21.1875 \nQ 45.796875 27.640625 41.28125 31.265625 \nQ 36.765625 34.90625 28.71875 34.90625 \nL 20.21875 34.90625 \nL 20.21875 43.015625 \nL 29.109375 43.015625 \nQ 36.375 43.015625 40.234375 45.921875 \nQ 44.09375 48.828125 44.09375 54.296875 \nQ 44.09375 59.90625 40.109375 62.90625 \nQ 36.140625 65.921875 28.71875 65.921875 \nQ 24.65625 65.921875 20.015625 65.03125 \nQ 15.375 64.15625 9.8125 62.3125 \nL 9.8125 71.09375 \nQ 15.4375 72.65625 20.34375 73.4375 \nQ 25.25 74.21875 29.59375 74.21875 \nQ 40.828125 74.21875 47.359375 69.109375 \nQ 53.90625 64.015625 53.90625 55.328125 \nQ 53.90625 49.265625 50.4375 45.09375 \nQ 46.96875 40.921875 40.578125 39.3125 \nz\n\" id=\"DejaVuSans-51\"/>\n      </defs>\n      <g style=\"fill:#262626;\" transform=\"translate(135.093466 254.356562)scale(0.1 -0.1)\">\n       <use xlink:href=\"#DejaVuSans-51\"/>\n      </g>\n     </g>\n    </g>\n    <g id=\"xtick_4\">\n     <g id=\"line2d_4\">\n      <path clip-path=\"url(#p9c77b87ec6)\" d=\"M 176.32017 239.758125 \nL 176.32017 22.318125 \n\" style=\"fill:none;stroke:#ffffff;stroke-linecap:round;stroke-width:0.8;\"/>\n     </g>\n     <g id=\"text_4\">\n      <!-- 4 -->\n      <defs>\n       <path d=\"M 37.796875 64.3125 \nL 12.890625 25.390625 \nL 37.796875 25.390625 \nz\nM 35.203125 72.90625 \nL 47.609375 72.90625 \nL 47.609375 25.390625 \nL 58.015625 25.390625 \nL 58.015625 17.1875 \nL 47.609375 17.1875 \nL 47.609375 0 \nL 37.796875 0 \nL 37.796875 17.1875 \nL 4.890625 17.1875 \nL 4.890625 26.703125 \nz\n\" id=\"DejaVuSans-52\"/>\n      </defs>\n      <g style=\"fill:#262626;\" transform=\"translate(173.13892 254.356562)scale(0.1 -0.1)\">\n       <use xlink:href=\"#DejaVuSans-52\"/>\n      </g>\n     </g>\n    </g>\n    <g id=\"xtick_5\">\n     <g id=\"line2d_5\">\n      <path clip-path=\"url(#p9c77b87ec6)\" d=\"M 214.365625 239.758125 \nL 214.365625 22.318125 \n\" style=\"fill:none;stroke:#ffffff;stroke-linecap:round;stroke-width:0.8;\"/>\n     </g>\n     <g id=\"text_5\">\n      <!-- 5 -->\n      <defs>\n       <path d=\"M 10.796875 72.90625 \nL 49.515625 72.90625 \nL 49.515625 64.59375 \nL 19.828125 64.59375 \nL 19.828125 46.734375 \nQ 21.96875 47.46875 24.109375 47.828125 \nQ 26.265625 48.1875 28.421875 48.1875 \nQ 40.625 48.1875 47.75 41.5 \nQ 54.890625 34.8125 54.890625 23.390625 \nQ 54.890625 11.625 47.5625 5.09375 \nQ 40.234375 -1.421875 26.90625 -1.421875 \nQ 22.3125 -1.421875 17.546875 -0.640625 \nQ 12.796875 0.140625 7.71875 1.703125 \nL 7.71875 11.625 \nQ 12.109375 9.234375 16.796875 8.0625 \nQ 21.484375 6.890625 26.703125 6.890625 \nQ 35.15625 6.890625 40.078125 11.328125 \nQ 45.015625 15.765625 45.015625 23.390625 \nQ 45.015625 31 40.078125 35.4375 \nQ 35.15625 39.890625 26.703125 39.890625 \nQ 22.75 39.890625 18.8125 39.015625 \nQ 14.890625 38.140625 10.796875 36.28125 \nz\n\" id=\"DejaVuSans-53\"/>\n      </defs>\n      <g style=\"fill:#262626;\" transform=\"translate(211.184375 254.356562)scale(0.1 -0.1)\">\n       <use xlink:href=\"#DejaVuSans-53\"/>\n      </g>\n     </g>\n    </g>\n    <g id=\"xtick_6\">\n     <g id=\"line2d_6\">\n      <path clip-path=\"url(#p9c77b87ec6)\" d=\"M 252.41108 239.758125 \nL 252.41108 22.318125 \n\" style=\"fill:none;stroke:#ffffff;stroke-linecap:round;stroke-width:0.8;\"/>\n     </g>\n     <g id=\"text_6\">\n      <!-- 6 -->\n      <defs>\n       <path d=\"M 33.015625 40.375 \nQ 26.375 40.375 22.484375 35.828125 \nQ 18.609375 31.296875 18.609375 23.390625 \nQ 18.609375 15.53125 22.484375 10.953125 \nQ 26.375 6.390625 33.015625 6.390625 \nQ 39.65625 6.390625 43.53125 10.953125 \nQ 47.40625 15.53125 47.40625 23.390625 \nQ 47.40625 31.296875 43.53125 35.828125 \nQ 39.65625 40.375 33.015625 40.375 \nz\nM 52.59375 71.296875 \nL 52.59375 62.3125 \nQ 48.875 64.0625 45.09375 64.984375 \nQ 41.3125 65.921875 37.59375 65.921875 \nQ 27.828125 65.921875 22.671875 59.328125 \nQ 17.53125 52.734375 16.796875 39.40625 \nQ 19.671875 43.65625 24.015625 45.921875 \nQ 28.375 48.1875 33.59375 48.1875 \nQ 44.578125 48.1875 50.953125 41.515625 \nQ 57.328125 34.859375 57.328125 23.390625 \nQ 57.328125 12.15625 50.6875 5.359375 \nQ 44.046875 -1.421875 33.015625 -1.421875 \nQ 20.359375 -1.421875 13.671875 8.265625 \nQ 6.984375 17.96875 6.984375 36.375 \nQ 6.984375 53.65625 15.1875 63.9375 \nQ 23.390625 74.21875 37.203125 74.21875 \nQ 40.921875 74.21875 44.703125 73.484375 \nQ 48.484375 72.75 52.59375 71.296875 \nz\n\" id=\"DejaVuSans-54\"/>\n      </defs>\n      <g style=\"fill:#262626;\" transform=\"translate(249.22983 254.356562)scale(0.1 -0.1)\">\n       <use xlink:href=\"#DejaVuSans-54\"/>\n      </g>\n     </g>\n    </g>\n    <g id=\"xtick_7\">\n     <g id=\"line2d_7\">\n      <path clip-path=\"url(#p9c77b87ec6)\" d=\"M 290.456534 239.758125 \nL 290.456534 22.318125 \n\" style=\"fill:none;stroke:#ffffff;stroke-linecap:round;stroke-width:0.8;\"/>\n     </g>\n     <g id=\"text_7\">\n      <!-- 7 -->\n      <defs>\n       <path d=\"M 8.203125 72.90625 \nL 55.078125 72.90625 \nL 55.078125 68.703125 \nL 28.609375 0 \nL 18.3125 0 \nL 43.21875 64.59375 \nL 8.203125 64.59375 \nz\n\" id=\"DejaVuSans-55\"/>\n      </defs>\n      <g style=\"fill:#262626;\" transform=\"translate(287.275284 254.356562)scale(0.1 -0.1)\">\n       <use xlink:href=\"#DejaVuSans-55\"/>\n      </g>\n     </g>\n    </g>\n    <g id=\"xtick_8\">\n     <g id=\"line2d_8\">\n      <path clip-path=\"url(#p9c77b87ec6)\" d=\"M 328.501989 239.758125 \nL 328.501989 22.318125 \n\" style=\"fill:none;stroke:#ffffff;stroke-linecap:round;stroke-width:0.8;\"/>\n     </g>\n     <g id=\"text_8\">\n      <!-- 8 -->\n      <defs>\n       <path d=\"M 31.78125 34.625 \nQ 24.75 34.625 20.71875 30.859375 \nQ 16.703125 27.09375 16.703125 20.515625 \nQ 16.703125 13.921875 20.71875 10.15625 \nQ 24.75 6.390625 31.78125 6.390625 \nQ 38.8125 6.390625 42.859375 10.171875 \nQ 46.921875 13.96875 46.921875 20.515625 \nQ 46.921875 27.09375 42.890625 30.859375 \nQ 38.875 34.625 31.78125 34.625 \nz\nM 21.921875 38.8125 \nQ 15.578125 40.375 12.03125 44.71875 \nQ 8.5 49.078125 8.5 55.328125 \nQ 8.5 64.0625 14.71875 69.140625 \nQ 20.953125 74.21875 31.78125 74.21875 \nQ 42.671875 74.21875 48.875 69.140625 \nQ 55.078125 64.0625 55.078125 55.328125 \nQ 55.078125 49.078125 51.53125 44.71875 \nQ 48 40.375 41.703125 38.8125 \nQ 48.828125 37.15625 52.796875 32.3125 \nQ 56.78125 27.484375 56.78125 20.515625 \nQ 56.78125 9.90625 50.3125 4.234375 \nQ 43.84375 -1.421875 31.78125 -1.421875 \nQ 19.734375 -1.421875 13.25 4.234375 \nQ 6.78125 9.90625 6.78125 20.515625 \nQ 6.78125 27.484375 10.78125 32.3125 \nQ 14.796875 37.15625 21.921875 38.8125 \nz\nM 18.3125 54.390625 \nQ 18.3125 48.734375 21.84375 45.5625 \nQ 25.390625 42.390625 31.78125 42.390625 \nQ 38.140625 42.390625 41.71875 45.5625 \nQ 45.3125 48.734375 45.3125 54.390625 \nQ 45.3125 60.0625 41.71875 63.234375 \nQ 38.140625 66.40625 31.78125 66.40625 \nQ 25.390625 66.40625 21.84375 63.234375 \nQ 18.3125 60.0625 18.3125 54.390625 \nz\n\" id=\"DejaVuSans-56\"/>\n      </defs>\n      <g style=\"fill:#262626;\" transform=\"translate(325.320739 254.356562)scale(0.1 -0.1)\">\n       <use xlink:href=\"#DejaVuSans-56\"/>\n      </g>\n     </g>\n    </g>\n    <g id=\"xtick_9\">\n     <g id=\"line2d_9\">\n      <path clip-path=\"url(#p9c77b87ec6)\" d=\"M 366.547443 239.758125 \nL 366.547443 22.318125 \n\" style=\"fill:none;stroke:#ffffff;stroke-linecap:round;stroke-width:0.8;\"/>\n     </g>\n     <g id=\"text_9\">\n      <!-- 9 -->\n      <defs>\n       <path d=\"M 10.984375 1.515625 \nL 10.984375 10.5 \nQ 14.703125 8.734375 18.5 7.8125 \nQ 22.3125 6.890625 25.984375 6.890625 \nQ 35.75 6.890625 40.890625 13.453125 \nQ 46.046875 20.015625 46.78125 33.40625 \nQ 43.953125 29.203125 39.59375 26.953125 \nQ 35.25 24.703125 29.984375 24.703125 \nQ 19.046875 24.703125 12.671875 31.3125 \nQ 6.296875 37.9375 6.296875 49.421875 \nQ 6.296875 60.640625 12.9375 67.421875 \nQ 19.578125 74.21875 30.609375 74.21875 \nQ 43.265625 74.21875 49.921875 64.515625 \nQ 56.59375 54.828125 56.59375 36.375 \nQ 56.59375 19.140625 48.40625 8.859375 \nQ 40.234375 -1.421875 26.421875 -1.421875 \nQ 22.703125 -1.421875 18.890625 -0.6875 \nQ 15.09375 0.046875 10.984375 1.515625 \nz\nM 30.609375 32.421875 \nQ 37.25 32.421875 41.125 36.953125 \nQ 45.015625 41.5 45.015625 49.421875 \nQ 45.015625 57.28125 41.125 61.84375 \nQ 37.25 66.40625 30.609375 66.40625 \nQ 23.96875 66.40625 20.09375 61.84375 \nQ 16.21875 57.28125 16.21875 49.421875 \nQ 16.21875 41.5 20.09375 36.953125 \nQ 23.96875 32.421875 30.609375 32.421875 \nz\n\" id=\"DejaVuSans-57\"/>\n      </defs>\n      <g style=\"fill:#262626;\" transform=\"translate(363.366193 254.356562)scale(0.1 -0.1)\">\n       <use xlink:href=\"#DejaVuSans-57\"/>\n      </g>\n     </g>\n    </g>\n    <g id=\"text_10\">\n     <!-- number of clusters, k -->\n     <defs>\n      <path d=\"M 54.890625 33.015625 \nL 54.890625 0 \nL 45.90625 0 \nL 45.90625 32.71875 \nQ 45.90625 40.484375 42.875 44.328125 \nQ 39.84375 48.1875 33.796875 48.1875 \nQ 26.515625 48.1875 22.3125 43.546875 \nQ 18.109375 38.921875 18.109375 30.90625 \nL 18.109375 0 \nL 9.078125 0 \nL 9.078125 54.6875 \nL 18.109375 54.6875 \nL 18.109375 46.1875 \nQ 21.34375 51.125 25.703125 53.5625 \nQ 30.078125 56 35.796875 56 \nQ 45.21875 56 50.046875 50.171875 \nQ 54.890625 44.34375 54.890625 33.015625 \nz\n\" id=\"DejaVuSans-110\"/>\n      <path d=\"M 8.5 21.578125 \nL 8.5 54.6875 \nL 17.484375 54.6875 \nL 17.484375 21.921875 \nQ 17.484375 14.15625 20.5 10.265625 \nQ 23.53125 6.390625 29.59375 6.390625 \nQ 36.859375 6.390625 41.078125 11.03125 \nQ 45.3125 15.671875 45.3125 23.6875 \nL 45.3125 54.6875 \nL 54.296875 54.6875 \nL 54.296875 0 \nL 45.3125 0 \nL 45.3125 8.40625 \nQ 42.046875 3.421875 37.71875 1 \nQ 33.40625 -1.421875 27.6875 -1.421875 \nQ 18.265625 -1.421875 13.375 4.4375 \nQ 8.5 10.296875 8.5 21.578125 \nz\nM 31.109375 56 \nz\n\" id=\"DejaVuSans-117\"/>\n      <path d=\"M 52 44.1875 \nQ 55.375 50.25 60.0625 53.125 \nQ 64.75 56 71.09375 56 \nQ 79.640625 56 84.28125 50.015625 \nQ 88.921875 44.046875 88.921875 33.015625 \nL 88.921875 0 \nL 79.890625 0 \nL 79.890625 32.71875 \nQ 79.890625 40.578125 77.09375 44.375 \nQ 74.3125 48.1875 68.609375 48.1875 \nQ 61.625 48.1875 57.5625 43.546875 \nQ 53.515625 38.921875 53.515625 30.90625 \nL 53.515625 0 \nL 44.484375 0 \nL 44.484375 32.71875 \nQ 44.484375 40.625 41.703125 44.40625 \nQ 38.921875 48.1875 33.109375 48.1875 \nQ 26.21875 48.1875 22.15625 43.53125 \nQ 18.109375 38.875 18.109375 30.90625 \nL 18.109375 0 \nL 9.078125 0 \nL 9.078125 54.6875 \nL 18.109375 54.6875 \nL 18.109375 46.1875 \nQ 21.1875 51.21875 25.484375 53.609375 \nQ 29.78125 56 35.6875 56 \nQ 41.65625 56 45.828125 52.96875 \nQ 50 49.953125 52 44.1875 \nz\n\" id=\"DejaVuSans-109\"/>\n      <path d=\"M 48.6875 27.296875 \nQ 48.6875 37.203125 44.609375 42.84375 \nQ 40.53125 48.484375 33.40625 48.484375 \nQ 26.265625 48.484375 22.1875 42.84375 \nQ 18.109375 37.203125 18.109375 27.296875 \nQ 18.109375 17.390625 22.1875 11.75 \nQ 26.265625 6.109375 33.40625 6.109375 \nQ 40.53125 6.109375 44.609375 11.75 \nQ 48.6875 17.390625 48.6875 27.296875 \nz\nM 18.109375 46.390625 \nQ 20.953125 51.265625 25.265625 53.625 \nQ 29.59375 56 35.59375 56 \nQ 45.5625 56 51.78125 48.09375 \nQ 58.015625 40.1875 58.015625 27.296875 \nQ 58.015625 14.40625 51.78125 6.484375 \nQ 45.5625 -1.421875 35.59375 -1.421875 \nQ 29.59375 -1.421875 25.265625 0.953125 \nQ 20.953125 3.328125 18.109375 8.203125 \nL 18.109375 0 \nL 9.078125 0 \nL 9.078125 75.984375 \nL 18.109375 75.984375 \nz\n\" id=\"DejaVuSans-98\"/>\n      <path d=\"M 56.203125 29.59375 \nL 56.203125 25.203125 \nL 14.890625 25.203125 \nQ 15.484375 15.921875 20.484375 11.0625 \nQ 25.484375 6.203125 34.421875 6.203125 \nQ 39.59375 6.203125 44.453125 7.46875 \nQ 49.3125 8.734375 54.109375 11.28125 \nL 54.109375 2.78125 \nQ 49.265625 0.734375 44.1875 -0.34375 \nQ 39.109375 -1.421875 33.890625 -1.421875 \nQ 20.796875 -1.421875 13.15625 6.1875 \nQ 5.515625 13.8125 5.515625 26.8125 \nQ 5.515625 40.234375 12.765625 48.109375 \nQ 20.015625 56 32.328125 56 \nQ 43.359375 56 49.78125 48.890625 \nQ 56.203125 41.796875 56.203125 29.59375 \nz\nM 47.21875 32.234375 \nQ 47.125 39.59375 43.09375 43.984375 \nQ 39.0625 48.390625 32.421875 48.390625 \nQ 24.90625 48.390625 20.390625 44.140625 \nQ 15.875 39.890625 15.1875 32.171875 \nz\n\" id=\"DejaVuSans-101\"/>\n      <path d=\"M 41.109375 46.296875 \nQ 39.59375 47.171875 37.8125 47.578125 \nQ 36.03125 48 33.890625 48 \nQ 26.265625 48 22.1875 43.046875 \nQ 18.109375 38.09375 18.109375 28.8125 \nL 18.109375 0 \nL 9.078125 0 \nL 9.078125 54.6875 \nL 18.109375 54.6875 \nL 18.109375 46.1875 \nQ 20.953125 51.171875 25.484375 53.578125 \nQ 30.03125 56 36.53125 56 \nQ 37.453125 56 38.578125 55.875 \nQ 39.703125 55.765625 41.0625 55.515625 \nz\n\" id=\"DejaVuSans-114\"/>\n      <path id=\"DejaVuSans-32\"/>\n      <path d=\"M 30.609375 48.390625 \nQ 23.390625 48.390625 19.1875 42.75 \nQ 14.984375 37.109375 14.984375 27.296875 \nQ 14.984375 17.484375 19.15625 11.84375 \nQ 23.34375 6.203125 30.609375 6.203125 \nQ 37.796875 6.203125 41.984375 11.859375 \nQ 46.1875 17.53125 46.1875 27.296875 \nQ 46.1875 37.015625 41.984375 42.703125 \nQ 37.796875 48.390625 30.609375 48.390625 \nz\nM 30.609375 56 \nQ 42.328125 56 49.015625 48.375 \nQ 55.71875 40.765625 55.71875 27.296875 \nQ 55.71875 13.875 49.015625 6.21875 \nQ 42.328125 -1.421875 30.609375 -1.421875 \nQ 18.84375 -1.421875 12.171875 6.21875 \nQ 5.515625 13.875 5.515625 27.296875 \nQ 5.515625 40.765625 12.171875 48.375 \nQ 18.84375 56 30.609375 56 \nz\n\" id=\"DejaVuSans-111\"/>\n      <path d=\"M 37.109375 75.984375 \nL 37.109375 68.5 \nL 28.515625 68.5 \nQ 23.6875 68.5 21.796875 66.546875 \nQ 19.921875 64.59375 19.921875 59.515625 \nL 19.921875 54.6875 \nL 34.71875 54.6875 \nL 34.71875 47.703125 \nL 19.921875 47.703125 \nL 19.921875 0 \nL 10.890625 0 \nL 10.890625 47.703125 \nL 2.296875 47.703125 \nL 2.296875 54.6875 \nL 10.890625 54.6875 \nL 10.890625 58.5 \nQ 10.890625 67.625 15.140625 71.796875 \nQ 19.390625 75.984375 28.609375 75.984375 \nz\n\" id=\"DejaVuSans-102\"/>\n      <path d=\"M 48.78125 52.59375 \nL 48.78125 44.1875 \nQ 44.96875 46.296875 41.140625 47.34375 \nQ 37.3125 48.390625 33.40625 48.390625 \nQ 24.65625 48.390625 19.8125 42.84375 \nQ 14.984375 37.3125 14.984375 27.296875 \nQ 14.984375 17.28125 19.8125 11.734375 \nQ 24.65625 6.203125 33.40625 6.203125 \nQ 37.3125 6.203125 41.140625 7.25 \nQ 44.96875 8.296875 48.78125 10.40625 \nL 48.78125 2.09375 \nQ 45.015625 0.34375 40.984375 -0.53125 \nQ 36.96875 -1.421875 32.421875 -1.421875 \nQ 20.0625 -1.421875 12.78125 6.34375 \nQ 5.515625 14.109375 5.515625 27.296875 \nQ 5.515625 40.671875 12.859375 48.328125 \nQ 20.21875 56 33.015625 56 \nQ 37.15625 56 41.109375 55.140625 \nQ 45.0625 54.296875 48.78125 52.59375 \nz\n\" id=\"DejaVuSans-99\"/>\n      <path d=\"M 9.421875 75.984375 \nL 18.40625 75.984375 \nL 18.40625 0 \nL 9.421875 0 \nz\n\" id=\"DejaVuSans-108\"/>\n      <path d=\"M 44.28125 53.078125 \nL 44.28125 44.578125 \nQ 40.484375 46.53125 36.375 47.5 \nQ 32.28125 48.484375 27.875 48.484375 \nQ 21.1875 48.484375 17.84375 46.4375 \nQ 14.5 44.390625 14.5 40.28125 \nQ 14.5 37.15625 16.890625 35.375 \nQ 19.28125 33.59375 26.515625 31.984375 \nL 29.59375 31.296875 \nQ 39.15625 29.25 43.1875 25.515625 \nQ 47.21875 21.78125 47.21875 15.09375 \nQ 47.21875 7.46875 41.1875 3.015625 \nQ 35.15625 -1.421875 24.609375 -1.421875 \nQ 20.21875 -1.421875 15.453125 -0.5625 \nQ 10.6875 0.296875 5.421875 2 \nL 5.421875 11.28125 \nQ 10.40625 8.6875 15.234375 7.390625 \nQ 20.0625 6.109375 24.8125 6.109375 \nQ 31.15625 6.109375 34.5625 8.28125 \nQ 37.984375 10.453125 37.984375 14.40625 \nQ 37.984375 18.0625 35.515625 20.015625 \nQ 33.0625 21.96875 24.703125 23.78125 \nL 21.578125 24.515625 \nQ 13.234375 26.265625 9.515625 29.90625 \nQ 5.8125 33.546875 5.8125 39.890625 \nQ 5.8125 47.609375 11.28125 51.796875 \nQ 16.75 56 26.8125 56 \nQ 31.78125 56 36.171875 55.265625 \nQ 40.578125 54.546875 44.28125 53.078125 \nz\n\" id=\"DejaVuSans-115\"/>\n      <path d=\"M 18.3125 70.21875 \nL 18.3125 54.6875 \nL 36.8125 54.6875 \nL 36.8125 47.703125 \nL 18.3125 47.703125 \nL 18.3125 18.015625 \nQ 18.3125 11.328125 20.140625 9.421875 \nQ 21.96875 7.515625 27.59375 7.515625 \nL 36.8125 7.515625 \nL 36.8125 0 \nL 27.59375 0 \nQ 17.1875 0 13.234375 3.875 \nQ 9.28125 7.765625 9.28125 18.015625 \nL 9.28125 47.703125 \nL 2.6875 47.703125 \nL 2.6875 54.6875 \nL 9.28125 54.6875 \nL 9.28125 70.21875 \nz\n\" id=\"DejaVuSans-116\"/>\n      <path d=\"M 11.71875 12.40625 \nL 22.015625 12.40625 \nL 22.015625 4 \nL 14.015625 -11.625 \nL 7.71875 -11.625 \nL 11.71875 4 \nz\n\" id=\"DejaVuSans-44\"/>\n      <path d=\"M 9.078125 75.984375 \nL 18.109375 75.984375 \nL 18.109375 31.109375 \nL 44.921875 54.6875 \nL 56.390625 54.6875 \nL 27.390625 29.109375 \nL 57.625 0 \nL 45.90625 0 \nL 18.109375 26.703125 \nL 18.109375 0 \nL 9.078125 0 \nz\n\" id=\"DejaVuSans-107\"/>\n     </defs>\n     <g style=\"fill:#262626;\" transform=\"translate(161.171875 268.034687)scale(0.1 -0.1)\">\n      <use xlink:href=\"#DejaVuSans-110\"/>\n      <use x=\"63.378906\" xlink:href=\"#DejaVuSans-117\"/>\n      <use x=\"126.757812\" xlink:href=\"#DejaVuSans-109\"/>\n      <use x=\"224.169922\" xlink:href=\"#DejaVuSans-98\"/>\n      <use x=\"287.646484\" xlink:href=\"#DejaVuSans-101\"/>\n      <use x=\"349.169922\" xlink:href=\"#DejaVuSans-114\"/>\n      <use x=\"390.283203\" xlink:href=\"#DejaVuSans-32\"/>\n      <use x=\"422.070312\" xlink:href=\"#DejaVuSans-111\"/>\n      <use x=\"483.251953\" xlink:href=\"#DejaVuSans-102\"/>\n      <use x=\"518.457031\" xlink:href=\"#DejaVuSans-32\"/>\n      <use x=\"550.244141\" xlink:href=\"#DejaVuSans-99\"/>\n      <use x=\"605.224609\" xlink:href=\"#DejaVuSans-108\"/>\n      <use x=\"633.007812\" xlink:href=\"#DejaVuSans-117\"/>\n      <use x=\"696.386719\" xlink:href=\"#DejaVuSans-115\"/>\n      <use x=\"748.486328\" xlink:href=\"#DejaVuSans-116\"/>\n      <use x=\"787.695312\" xlink:href=\"#DejaVuSans-101\"/>\n      <use x=\"849.21875\" xlink:href=\"#DejaVuSans-114\"/>\n      <use x=\"890.332031\" xlink:href=\"#DejaVuSans-115\"/>\n      <use x=\"942.431641\" xlink:href=\"#DejaVuSans-44\"/>\n      <use x=\"974.21875\" xlink:href=\"#DejaVuSans-32\"/>\n      <use x=\"1006.005859\" xlink:href=\"#DejaVuSans-107\"/>\n     </g>\n    </g>\n   </g>\n   <g id=\"matplotlib.axis_2\">\n    <g id=\"ytick_1\">\n     <g id=\"line2d_10\">\n      <path clip-path=\"url(#p9c77b87ec6)\" d=\"M 46.965625 233.113965 \nL 381.765625 233.113965 \n\" style=\"fill:none;stroke:#ffffff;stroke-linecap:round;stroke-width:0.8;\"/>\n     </g>\n     <g id=\"text_11\">\n      <!-- 0 -->\n      <defs>\n       <path d=\"M 31.78125 66.40625 \nQ 24.171875 66.40625 20.328125 58.90625 \nQ 16.5 51.421875 16.5 36.375 \nQ 16.5 21.390625 20.328125 13.890625 \nQ 24.171875 6.390625 31.78125 6.390625 \nQ 39.453125 6.390625 43.28125 13.890625 \nQ 47.125 21.390625 47.125 36.375 \nQ 47.125 51.421875 43.28125 58.90625 \nQ 39.453125 66.40625 31.78125 66.40625 \nz\nM 31.78125 74.21875 \nQ 44.046875 74.21875 50.515625 64.515625 \nQ 56.984375 54.828125 56.984375 36.375 \nQ 56.984375 17.96875 50.515625 8.265625 \nQ 44.046875 -1.421875 31.78125 -1.421875 \nQ 19.53125 -1.421875 13.0625 8.265625 \nQ 6.59375 17.96875 6.59375 36.375 \nQ 6.59375 54.828125 13.0625 64.515625 \nQ 19.53125 74.21875 31.78125 74.21875 \nz\n\" id=\"DejaVuSans-48\"/>\n      </defs>\n      <g style=\"fill:#262626;\" transform=\"translate(33.603125 236.913183)scale(0.1 -0.1)\">\n       <use xlink:href=\"#DejaVuSans-48\"/>\n      </g>\n     </g>\n    </g>\n    <g id=\"ytick_2\">\n     <g id=\"line2d_11\">\n      <path clip-path=\"url(#p9c77b87ec6)\" d=\"M 46.965625 197.543917 \nL 381.765625 197.543917 \n\" style=\"fill:none;stroke:#ffffff;stroke-linecap:round;stroke-width:0.8;\"/>\n     </g>\n     <g id=\"text_12\">\n      <!-- 50 -->\n      <g style=\"fill:#262626;\" transform=\"translate(27.240625 201.343136)scale(0.1 -0.1)\">\n       <use xlink:href=\"#DejaVuSans-53\"/>\n       <use x=\"63.623047\" xlink:href=\"#DejaVuSans-48\"/>\n      </g>\n     </g>\n    </g>\n    <g id=\"ytick_3\">\n     <g id=\"line2d_12\">\n      <path clip-path=\"url(#p9c77b87ec6)\" d=\"M 46.965625 161.97387 \nL 381.765625 161.97387 \n\" style=\"fill:none;stroke:#ffffff;stroke-linecap:round;stroke-width:0.8;\"/>\n     </g>\n     <g id=\"text_13\">\n      <!-- 100 -->\n      <g style=\"fill:#262626;\" transform=\"translate(20.878125 165.773088)scale(0.1 -0.1)\">\n       <use xlink:href=\"#DejaVuSans-49\"/>\n       <use x=\"63.623047\" xlink:href=\"#DejaVuSans-48\"/>\n       <use x=\"127.246094\" xlink:href=\"#DejaVuSans-48\"/>\n      </g>\n     </g>\n    </g>\n    <g id=\"ytick_4\">\n     <g id=\"line2d_13\">\n      <path clip-path=\"url(#p9c77b87ec6)\" d=\"M 46.965625 126.403822 \nL 381.765625 126.403822 \n\" style=\"fill:none;stroke:#ffffff;stroke-linecap:round;stroke-width:0.8;\"/>\n     </g>\n     <g id=\"text_14\">\n      <!-- 150 -->\n      <g style=\"fill:#262626;\" transform=\"translate(20.878125 130.203041)scale(0.1 -0.1)\">\n       <use xlink:href=\"#DejaVuSans-49\"/>\n       <use x=\"63.623047\" xlink:href=\"#DejaVuSans-53\"/>\n       <use x=\"127.246094\" xlink:href=\"#DejaVuSans-48\"/>\n      </g>\n     </g>\n    </g>\n    <g id=\"ytick_5\">\n     <g id=\"line2d_14\">\n      <path clip-path=\"url(#p9c77b87ec6)\" d=\"M 46.965625 90.833775 \nL 381.765625 90.833775 \n\" style=\"fill:none;stroke:#ffffff;stroke-linecap:round;stroke-width:0.8;\"/>\n     </g>\n     <g id=\"text_15\">\n      <!-- 200 -->\n      <g style=\"fill:#262626;\" transform=\"translate(20.878125 94.632993)scale(0.1 -0.1)\">\n       <use xlink:href=\"#DejaVuSans-50\"/>\n       <use x=\"63.623047\" xlink:href=\"#DejaVuSans-48\"/>\n       <use x=\"127.246094\" xlink:href=\"#DejaVuSans-48\"/>\n      </g>\n     </g>\n    </g>\n    <g id=\"ytick_6\">\n     <g id=\"line2d_15\">\n      <path clip-path=\"url(#p9c77b87ec6)\" d=\"M 46.965625 55.263727 \nL 381.765625 55.263727 \n\" style=\"fill:none;stroke:#ffffff;stroke-linecap:round;stroke-width:0.8;\"/>\n     </g>\n     <g id=\"text_16\">\n      <!-- 250 -->\n      <g style=\"fill:#262626;\" transform=\"translate(20.878125 59.062946)scale(0.1 -0.1)\">\n       <use xlink:href=\"#DejaVuSans-50\"/>\n       <use x=\"63.623047\" xlink:href=\"#DejaVuSans-53\"/>\n       <use x=\"127.246094\" xlink:href=\"#DejaVuSans-48\"/>\n      </g>\n     </g>\n    </g>\n    <g id=\"text_17\">\n     <!-- inertia -->\n     <defs>\n      <path d=\"M 9.421875 54.6875 \nL 18.40625 54.6875 \nL 18.40625 0 \nL 9.421875 0 \nz\nM 9.421875 75.984375 \nL 18.40625 75.984375 \nL 18.40625 64.59375 \nL 9.421875 64.59375 \nz\n\" id=\"DejaVuSans-105\"/>\n      <path d=\"M 34.28125 27.484375 \nQ 23.390625 27.484375 19.1875 25 \nQ 14.984375 22.515625 14.984375 16.5 \nQ 14.984375 11.71875 18.140625 8.90625 \nQ 21.296875 6.109375 26.703125 6.109375 \nQ 34.1875 6.109375 38.703125 11.40625 \nQ 43.21875 16.703125 43.21875 25.484375 \nL 43.21875 27.484375 \nz\nM 52.203125 31.203125 \nL 52.203125 0 \nL 43.21875 0 \nL 43.21875 8.296875 \nQ 40.140625 3.328125 35.546875 0.953125 \nQ 30.953125 -1.421875 24.3125 -1.421875 \nQ 15.921875 -1.421875 10.953125 3.296875 \nQ 6 8.015625 6 15.921875 \nQ 6 25.140625 12.171875 29.828125 \nQ 18.359375 34.515625 30.609375 34.515625 \nL 43.21875 34.515625 \nL 43.21875 35.40625 \nQ 43.21875 41.609375 39.140625 45 \nQ 35.0625 48.390625 27.6875 48.390625 \nQ 23 48.390625 18.546875 47.265625 \nQ 14.109375 46.140625 10.015625 43.890625 \nL 10.015625 52.203125 \nQ 14.9375 54.109375 19.578125 55.046875 \nQ 24.21875 56 28.609375 56 \nQ 40.484375 56 46.34375 49.84375 \nQ 52.203125 43.703125 52.203125 31.203125 \nz\n\" id=\"DejaVuSans-97\"/>\n     </defs>\n     <g style=\"fill:#262626;\" transform=\"translate(14.798438 147.14125)rotate(-90)scale(0.1 -0.1)\">\n      <use xlink:href=\"#DejaVuSans-105\"/>\n      <use x=\"27.783203\" xlink:href=\"#DejaVuSans-110\"/>\n      <use x=\"91.162109\" xlink:href=\"#DejaVuSans-101\"/>\n      <use x=\"152.685547\" xlink:href=\"#DejaVuSans-114\"/>\n      <use x=\"193.798828\" xlink:href=\"#DejaVuSans-116\"/>\n      <use x=\"233.007812\" xlink:href=\"#DejaVuSans-105\"/>\n      <use x=\"260.791016\" xlink:href=\"#DejaVuSans-97\"/>\n     </g>\n    </g>\n   </g>\n   <g id=\"line2d_16\">\n    <path clip-path=\"url(#p9c77b87ec6)\" d=\"M 62.183807 32.201761 \nL 100.229261 189.084548 \nL 138.274716 213.120346 \nL 176.32017 219.510867 \nL 214.365625 223.71243 \nL 252.41108 226.447301 \nL 290.456534 227.816883 \nL 328.501989 229.118932 \nL 366.547443 229.874489 \n\" style=\"fill:none;stroke:#386df9;stroke-linecap:round;stroke-width:1.5;\"/>\n    <defs>\n     <path d=\"M 0 3 \nC 0.795609 3 1.55874 2.683901 2.12132 2.12132 \nC 2.683901 1.55874 3 0.795609 3 0 \nC 3 -0.795609 2.683901 -1.55874 2.12132 -2.12132 \nC 1.55874 -2.683901 0.795609 -3 0 -3 \nC -0.795609 -3 -1.55874 -2.683901 -2.12132 -2.12132 \nC -2.683901 -1.55874 -3 -0.795609 -3 0 \nC -3 0.795609 -2.683901 1.55874 -2.12132 2.12132 \nC -1.55874 2.683901 -0.795609 3 0 3 \nz\n\" id=\"m812a259871\" style=\"stroke:#ffffff;stroke-width:0.75;\"/>\n    </defs>\n    <g clip-path=\"url(#p9c77b87ec6)\">\n     <use style=\"fill:#386df9;stroke:#ffffff;stroke-width:0.75;\" x=\"62.183807\" xlink:href=\"#m812a259871\" y=\"32.201761\"/>\n     <use style=\"fill:#386df9;stroke:#ffffff;stroke-width:0.75;\" x=\"100.229261\" xlink:href=\"#m812a259871\" y=\"189.084548\"/>\n     <use style=\"fill:#386df9;stroke:#ffffff;stroke-width:0.75;\" x=\"138.274716\" xlink:href=\"#m812a259871\" y=\"213.120346\"/>\n     <use style=\"fill:#386df9;stroke:#ffffff;stroke-width:0.75;\" x=\"176.32017\" xlink:href=\"#m812a259871\" y=\"219.510867\"/>\n     <use style=\"fill:#386df9;stroke:#ffffff;stroke-width:0.75;\" x=\"214.365625\" xlink:href=\"#m812a259871\" y=\"223.71243\"/>\n     <use style=\"fill:#386df9;stroke:#ffffff;stroke-width:0.75;\" x=\"252.41108\" xlink:href=\"#m812a259871\" y=\"226.447301\"/>\n     <use style=\"fill:#386df9;stroke:#ffffff;stroke-width:0.75;\" x=\"290.456534\" xlink:href=\"#m812a259871\" y=\"227.816883\"/>\n     <use style=\"fill:#386df9;stroke:#ffffff;stroke-width:0.75;\" x=\"328.501989\" xlink:href=\"#m812a259871\" y=\"229.118932\"/>\n     <use style=\"fill:#386df9;stroke:#ffffff;stroke-width:0.75;\" x=\"366.547443\" xlink:href=\"#m812a259871\" y=\"229.874489\"/>\n    </g>\n   </g>\n   <g id=\"patch_3\">\n    <path d=\"M 46.965625 239.758125 \nL 46.965625 22.318125 \n\" style=\"fill:none;stroke:#ffffff;stroke-linecap:square;stroke-linejoin:miter;stroke-width:0.8;\"/>\n   </g>\n   <g id=\"patch_4\">\n    <path d=\"M 381.765625 239.758125 \nL 381.765625 22.318125 \n\" style=\"fill:none;stroke:#ffffff;stroke-linecap:square;stroke-linejoin:miter;stroke-width:0.8;\"/>\n   </g>\n   <g id=\"patch_5\">\n    <path d=\"M 46.965625 239.758125 \nL 381.765625 239.758125 \n\" style=\"fill:none;stroke:#ffffff;stroke-linecap:square;stroke-linejoin:miter;stroke-width:0.8;\"/>\n   </g>\n   <g id=\"patch_6\">\n    <path d=\"M 46.965625 22.318125 \nL 381.765625 22.318125 \n\" style=\"fill:none;stroke:#ffffff;stroke-linecap:square;stroke-linejoin:miter;stroke-width:0.8;\"/>\n   </g>\n   <g id=\"text_18\">\n    <!-- Inertia vs Clusters used -->\n    <defs>\n     <path d=\"M 9.8125 72.90625 \nL 19.671875 72.90625 \nL 19.671875 0 \nL 9.8125 0 \nz\n\" id=\"DejaVuSans-73\"/>\n     <path d=\"M 2.984375 54.6875 \nL 12.5 54.6875 \nL 29.59375 8.796875 \nL 46.6875 54.6875 \nL 56.203125 54.6875 \nL 35.6875 0 \nL 23.484375 0 \nz\n\" id=\"DejaVuSans-118\"/>\n     <path d=\"M 64.40625 67.28125 \nL 64.40625 56.890625 \nQ 59.421875 61.53125 53.78125 63.8125 \nQ 48.140625 66.109375 41.796875 66.109375 \nQ 29.296875 66.109375 22.65625 58.46875 \nQ 16.015625 50.828125 16.015625 36.375 \nQ 16.015625 21.96875 22.65625 14.328125 \nQ 29.296875 6.6875 41.796875 6.6875 \nQ 48.140625 6.6875 53.78125 8.984375 \nQ 59.421875 11.28125 64.40625 15.921875 \nL 64.40625 5.609375 \nQ 59.234375 2.09375 53.4375 0.328125 \nQ 47.65625 -1.421875 41.21875 -1.421875 \nQ 24.65625 -1.421875 15.125 8.703125 \nQ 5.609375 18.84375 5.609375 36.375 \nQ 5.609375 53.953125 15.125 64.078125 \nQ 24.65625 74.21875 41.21875 74.21875 \nQ 47.75 74.21875 53.53125 72.484375 \nQ 59.328125 70.75 64.40625 67.28125 \nz\n\" id=\"DejaVuSans-67\"/>\n     <path d=\"M 45.40625 46.390625 \nL 45.40625 75.984375 \nL 54.390625 75.984375 \nL 54.390625 0 \nL 45.40625 0 \nL 45.40625 8.203125 \nQ 42.578125 3.328125 38.25 0.953125 \nQ 33.9375 -1.421875 27.875 -1.421875 \nQ 17.96875 -1.421875 11.734375 6.484375 \nQ 5.515625 14.40625 5.515625 27.296875 \nQ 5.515625 40.1875 11.734375 48.09375 \nQ 17.96875 56 27.875 56 \nQ 33.9375 56 38.25 53.625 \nQ 42.578125 51.265625 45.40625 46.390625 \nz\nM 14.796875 27.296875 \nQ 14.796875 17.390625 18.875 11.75 \nQ 22.953125 6.109375 30.078125 6.109375 \nQ 37.203125 6.109375 41.296875 11.75 \nQ 45.40625 17.390625 45.40625 27.296875 \nQ 45.40625 37.203125 41.296875 42.84375 \nQ 37.203125 48.484375 30.078125 48.484375 \nQ 22.953125 48.484375 18.875 42.84375 \nQ 14.796875 37.203125 14.796875 27.296875 \nz\n\" id=\"DejaVuSans-100\"/>\n    </defs>\n    <g style=\"fill:#262626;\" transform=\"translate(143.69125 16.318125)scale(0.12 -0.12)\">\n     <use xlink:href=\"#DejaVuSans-73\"/>\n     <use x=\"29.492188\" xlink:href=\"#DejaVuSans-110\"/>\n     <use x=\"92.871094\" xlink:href=\"#DejaVuSans-101\"/>\n     <use x=\"154.394531\" xlink:href=\"#DejaVuSans-114\"/>\n     <use x=\"195.507812\" xlink:href=\"#DejaVuSans-116\"/>\n     <use x=\"234.716797\" xlink:href=\"#DejaVuSans-105\"/>\n     <use x=\"262.5\" xlink:href=\"#DejaVuSans-97\"/>\n     <use x=\"323.779297\" xlink:href=\"#DejaVuSans-32\"/>\n     <use x=\"355.566406\" xlink:href=\"#DejaVuSans-118\"/>\n     <use x=\"414.746094\" xlink:href=\"#DejaVuSans-115\"/>\n     <use x=\"466.845703\" xlink:href=\"#DejaVuSans-32\"/>\n     <use x=\"498.632812\" xlink:href=\"#DejaVuSans-67\"/>\n     <use x=\"568.457031\" xlink:href=\"#DejaVuSans-108\"/>\n     <use x=\"596.240234\" xlink:href=\"#DejaVuSans-117\"/>\n     <use x=\"659.619141\" xlink:href=\"#DejaVuSans-115\"/>\n     <use x=\"711.71875\" xlink:href=\"#DejaVuSans-116\"/>\n     <use x=\"750.927734\" xlink:href=\"#DejaVuSans-101\"/>\n     <use x=\"812.451172\" xlink:href=\"#DejaVuSans-114\"/>\n     <use x=\"853.564453\" xlink:href=\"#DejaVuSans-115\"/>\n     <use x=\"905.664062\" xlink:href=\"#DejaVuSans-32\"/>\n     <use x=\"937.451172\" xlink:href=\"#DejaVuSans-117\"/>\n     <use x=\"1000.830078\" xlink:href=\"#DejaVuSans-115\"/>\n     <use x=\"1052.929688\" xlink:href=\"#DejaVuSans-101\"/>\n     <use x=\"1114.453125\" xlink:href=\"#DejaVuSans-100\"/>\n    </g>\n   </g>\n  </g>\n </g>\n <defs>\n  <clipPath id=\"p9c77b87ec6\">\n   <rect height=\"217.44\" width=\"334.8\" x=\"46.965625\" y=\"22.318125\"/>\n  </clipPath>\n </defs>\n</svg>\n"
          },
          "metadata": {}
        }
      ]
    },
    {
      "cell_type": "code",
      "source": [
        "km = KMeans(\n",
        "    n_clusters=2, init='random',\n",
        "    n_init=10, max_iter=300, \n",
        "    tol=1e-04, random_state=0\n",
        ")\n",
        "y_km = km.fit_predict(X)"
      ],
      "metadata": {
        "id": "XZ48psBbrLda"
      },
      "execution_count": null,
      "outputs": []
    },
    {
      "cell_type": "code",
      "source": [
        "df_pca_kmeans_plot = pd.concat([PCA_components, pd.Series(y_km)], axis=1)\n",
        "df_pca_kmeans_plot.columns = ['PCA_1', 'PCA_2', 'Cluster']"
      ],
      "metadata": {
        "id": "Hh1pWnS6rORx"
      },
      "execution_count": null,
      "outputs": []
    },
    {
      "cell_type": "code",
      "source": [
        "sns.scatterplot(data=df_pca_kmeans_plot, x='PCA_1', y='PCA_2', hue='Cluster')\n",
        "plt.xlabel('Principal Component 1')\n",
        "plt.ylabel('Principal Component 2')\n",
        "plt.title('2 component PCA');"
      ],
      "metadata": {
        "colab": {
          "base_uri": "https://localhost:8080/",
          "height": 391
        },
        "id": "6S4Mq7OCrRVo",
        "outputId": "5fe4c0f6-3d74-49fc-c123-c64496a741b1"
      },
      "execution_count": null,
      "outputs": [
        {
          "output_type": "display_data",
          "data": {
            "text/plain": [
              "<Figure size 432x288 with 1 Axes>"
            ],
            "image/svg+xml": "<?xml version=\"1.0\" encoding=\"utf-8\" standalone=\"no\"?>\n<!DOCTYPE svg PUBLIC \"-//W3C//DTD SVG 1.1//EN\"\n  \"http://www.w3.org/Graphics/SVG/1.1/DTD/svg11.dtd\">\n<!-- Created with matplotlib (https://matplotlib.org/) -->\n<svg height=\"277.314375pt\" version=\"1.1\" viewBox=\"0 0 400.523438 277.314375\" width=\"400.523438pt\" xmlns=\"http://www.w3.org/2000/svg\" xmlns:xlink=\"http://www.w3.org/1999/xlink\">\n <defs>\n  <style type=\"text/css\">\n*{stroke-linecap:butt;stroke-linejoin:round;}\n  </style>\n </defs>\n <g id=\"figure_1\">\n  <g id=\"patch_1\">\n   <path d=\"M 0 277.314375 \nL 400.523438 277.314375 \nL 400.523438 0 \nL 0 0 \nz\n\" style=\"fill:#ffffff;\"/>\n  </g>\n  <g id=\"axes_1\">\n   <g id=\"patch_2\">\n    <path d=\"M 58.523438 239.758125 \nL 393.323438 239.758125 \nL 393.323438 22.318125 \nL 58.523438 22.318125 \nz\n\" style=\"fill:#eaeaf2;\"/>\n   </g>\n   <g id=\"matplotlib.axis_1\">\n    <g id=\"xtick_1\">\n     <g id=\"line2d_1\">\n      <path clip-path=\"url(#p299e5ebbfc)\" d=\"M 93.762273 239.758125 \nL 93.762273 22.318125 \n\" style=\"fill:none;stroke:#ffffff;stroke-linecap:round;stroke-width:0.8;\"/>\n     </g>\n     <g id=\"text_1\">\n      <!-- −0.25 -->\n      <defs>\n       <path d=\"M 10.59375 35.5 \nL 73.1875 35.5 \nL 73.1875 27.203125 \nL 10.59375 27.203125 \nz\n\" id=\"DejaVuSans-8722\"/>\n       <path d=\"M 31.78125 66.40625 \nQ 24.171875 66.40625 20.328125 58.90625 \nQ 16.5 51.421875 16.5 36.375 \nQ 16.5 21.390625 20.328125 13.890625 \nQ 24.171875 6.390625 31.78125 6.390625 \nQ 39.453125 6.390625 43.28125 13.890625 \nQ 47.125 21.390625 47.125 36.375 \nQ 47.125 51.421875 43.28125 58.90625 \nQ 39.453125 66.40625 31.78125 66.40625 \nz\nM 31.78125 74.21875 \nQ 44.046875 74.21875 50.515625 64.515625 \nQ 56.984375 54.828125 56.984375 36.375 \nQ 56.984375 17.96875 50.515625 8.265625 \nQ 44.046875 -1.421875 31.78125 -1.421875 \nQ 19.53125 -1.421875 13.0625 8.265625 \nQ 6.59375 17.96875 6.59375 36.375 \nQ 6.59375 54.828125 13.0625 64.515625 \nQ 19.53125 74.21875 31.78125 74.21875 \nz\n\" id=\"DejaVuSans-48\"/>\n       <path d=\"M 10.6875 12.40625 \nL 21 12.40625 \nL 21 0 \nL 10.6875 0 \nz\n\" id=\"DejaVuSans-46\"/>\n       <path d=\"M 19.1875 8.296875 \nL 53.609375 8.296875 \nL 53.609375 0 \nL 7.328125 0 \nL 7.328125 8.296875 \nQ 12.9375 14.109375 22.625 23.890625 \nQ 32.328125 33.6875 34.8125 36.53125 \nQ 39.546875 41.84375 41.421875 45.53125 \nQ 43.3125 49.21875 43.3125 52.78125 \nQ 43.3125 58.59375 39.234375 62.25 \nQ 35.15625 65.921875 28.609375 65.921875 \nQ 23.96875 65.921875 18.8125 64.3125 \nQ 13.671875 62.703125 7.8125 59.421875 \nL 7.8125 69.390625 \nQ 13.765625 71.78125 18.9375 73 \nQ 24.125 74.21875 28.421875 74.21875 \nQ 39.75 74.21875 46.484375 68.546875 \nQ 53.21875 62.890625 53.21875 53.421875 \nQ 53.21875 48.921875 51.53125 44.890625 \nQ 49.859375 40.875 45.40625 35.40625 \nQ 44.1875 33.984375 37.640625 27.21875 \nQ 31.109375 20.453125 19.1875 8.296875 \nz\n\" id=\"DejaVuSans-50\"/>\n       <path d=\"M 10.796875 72.90625 \nL 49.515625 72.90625 \nL 49.515625 64.59375 \nL 19.828125 64.59375 \nL 19.828125 46.734375 \nQ 21.96875 47.46875 24.109375 47.828125 \nQ 26.265625 48.1875 28.421875 48.1875 \nQ 40.625 48.1875 47.75 41.5 \nQ 54.890625 34.8125 54.890625 23.390625 \nQ 54.890625 11.625 47.5625 5.09375 \nQ 40.234375 -1.421875 26.90625 -1.421875 \nQ 22.3125 -1.421875 17.546875 -0.640625 \nQ 12.796875 0.140625 7.71875 1.703125 \nL 7.71875 11.625 \nQ 12.109375 9.234375 16.796875 8.0625 \nQ 21.484375 6.890625 26.703125 6.890625 \nQ 35.15625 6.890625 40.078125 11.328125 \nQ 45.015625 15.765625 45.015625 23.390625 \nQ 45.015625 31 40.078125 35.4375 \nQ 35.15625 39.890625 26.703125 39.890625 \nQ 22.75 39.890625 18.8125 39.015625 \nQ 14.890625 38.140625 10.796875 36.28125 \nz\n\" id=\"DejaVuSans-53\"/>\n      </defs>\n      <g style=\"fill:#262626;\" transform=\"translate(78.439617 254.356562)scale(0.1 -0.1)\">\n       <use xlink:href=\"#DejaVuSans-8722\"/>\n       <use x=\"83.789062\" xlink:href=\"#DejaVuSans-48\"/>\n       <use x=\"147.412109\" xlink:href=\"#DejaVuSans-46\"/>\n       <use x=\"179.199219\" xlink:href=\"#DejaVuSans-50\"/>\n       <use x=\"242.822266\" xlink:href=\"#DejaVuSans-53\"/>\n      </g>\n     </g>\n    </g>\n    <g id=\"xtick_2\">\n     <g id=\"line2d_2\">\n      <path clip-path=\"url(#p299e5ebbfc)\" d=\"M 139.675988 239.758125 \nL 139.675988 22.318125 \n\" style=\"fill:none;stroke:#ffffff;stroke-linecap:round;stroke-width:0.8;\"/>\n     </g>\n     <g id=\"text_2\">\n      <!-- 0.00 -->\n      <g style=\"fill:#262626;\" transform=\"translate(128.543176 254.356562)scale(0.1 -0.1)\">\n       <use xlink:href=\"#DejaVuSans-48\"/>\n       <use x=\"63.623047\" xlink:href=\"#DejaVuSans-46\"/>\n       <use x=\"95.410156\" xlink:href=\"#DejaVuSans-48\"/>\n       <use x=\"159.033203\" xlink:href=\"#DejaVuSans-48\"/>\n      </g>\n     </g>\n    </g>\n    <g id=\"xtick_3\">\n     <g id=\"line2d_3\">\n      <path clip-path=\"url(#p299e5ebbfc)\" d=\"M 185.589704 239.758125 \nL 185.589704 22.318125 \n\" style=\"fill:none;stroke:#ffffff;stroke-linecap:round;stroke-width:0.8;\"/>\n     </g>\n     <g id=\"text_3\">\n      <!-- 0.25 -->\n      <g style=\"fill:#262626;\" transform=\"translate(174.456892 254.356562)scale(0.1 -0.1)\">\n       <use xlink:href=\"#DejaVuSans-48\"/>\n       <use x=\"63.623047\" xlink:href=\"#DejaVuSans-46\"/>\n       <use x=\"95.410156\" xlink:href=\"#DejaVuSans-50\"/>\n       <use x=\"159.033203\" xlink:href=\"#DejaVuSans-53\"/>\n      </g>\n     </g>\n    </g>\n    <g id=\"xtick_4\">\n     <g id=\"line2d_4\">\n      <path clip-path=\"url(#p299e5ebbfc)\" d=\"M 231.50342 239.758125 \nL 231.50342 22.318125 \n\" style=\"fill:none;stroke:#ffffff;stroke-linecap:round;stroke-width:0.8;\"/>\n     </g>\n     <g id=\"text_4\">\n      <!-- 0.50 -->\n      <g style=\"fill:#262626;\" transform=\"translate(220.370607 254.356562)scale(0.1 -0.1)\">\n       <use xlink:href=\"#DejaVuSans-48\"/>\n       <use x=\"63.623047\" xlink:href=\"#DejaVuSans-46\"/>\n       <use x=\"95.410156\" xlink:href=\"#DejaVuSans-53\"/>\n       <use x=\"159.033203\" xlink:href=\"#DejaVuSans-48\"/>\n      </g>\n     </g>\n    </g>\n    <g id=\"xtick_5\">\n     <g id=\"line2d_5\">\n      <path clip-path=\"url(#p299e5ebbfc)\" d=\"M 277.417135 239.758125 \nL 277.417135 22.318125 \n\" style=\"fill:none;stroke:#ffffff;stroke-linecap:round;stroke-width:0.8;\"/>\n     </g>\n     <g id=\"text_5\">\n      <!-- 0.75 -->\n      <defs>\n       <path d=\"M 8.203125 72.90625 \nL 55.078125 72.90625 \nL 55.078125 68.703125 \nL 28.609375 0 \nL 18.3125 0 \nL 43.21875 64.59375 \nL 8.203125 64.59375 \nz\n\" id=\"DejaVuSans-55\"/>\n      </defs>\n      <g style=\"fill:#262626;\" transform=\"translate(266.284323 254.356562)scale(0.1 -0.1)\">\n       <use xlink:href=\"#DejaVuSans-48\"/>\n       <use x=\"63.623047\" xlink:href=\"#DejaVuSans-46\"/>\n       <use x=\"95.410156\" xlink:href=\"#DejaVuSans-55\"/>\n       <use x=\"159.033203\" xlink:href=\"#DejaVuSans-53\"/>\n      </g>\n     </g>\n    </g>\n    <g id=\"xtick_6\">\n     <g id=\"line2d_6\">\n      <path clip-path=\"url(#p299e5ebbfc)\" d=\"M 323.330851 239.758125 \nL 323.330851 22.318125 \n\" style=\"fill:none;stroke:#ffffff;stroke-linecap:round;stroke-width:0.8;\"/>\n     </g>\n     <g id=\"text_6\">\n      <!-- 1.00 -->\n      <defs>\n       <path d=\"M 12.40625 8.296875 \nL 28.515625 8.296875 \nL 28.515625 63.921875 \nL 10.984375 60.40625 \nL 10.984375 69.390625 \nL 28.421875 72.90625 \nL 38.28125 72.90625 \nL 38.28125 8.296875 \nL 54.390625 8.296875 \nL 54.390625 0 \nL 12.40625 0 \nz\n\" id=\"DejaVuSans-49\"/>\n      </defs>\n      <g style=\"fill:#262626;\" transform=\"translate(312.198039 254.356562)scale(0.1 -0.1)\">\n       <use xlink:href=\"#DejaVuSans-49\"/>\n       <use x=\"63.623047\" xlink:href=\"#DejaVuSans-46\"/>\n       <use x=\"95.410156\" xlink:href=\"#DejaVuSans-48\"/>\n       <use x=\"159.033203\" xlink:href=\"#DejaVuSans-48\"/>\n      </g>\n     </g>\n    </g>\n    <g id=\"xtick_7\">\n     <g id=\"line2d_7\">\n      <path clip-path=\"url(#p299e5ebbfc)\" d=\"M 369.244567 239.758125 \nL 369.244567 22.318125 \n\" style=\"fill:none;stroke:#ffffff;stroke-linecap:round;stroke-width:0.8;\"/>\n     </g>\n     <g id=\"text_7\">\n      <!-- 1.25 -->\n      <g style=\"fill:#262626;\" transform=\"translate(358.111754 254.356562)scale(0.1 -0.1)\">\n       <use xlink:href=\"#DejaVuSans-49\"/>\n       <use x=\"63.623047\" xlink:href=\"#DejaVuSans-46\"/>\n       <use x=\"95.410156\" xlink:href=\"#DejaVuSans-50\"/>\n       <use x=\"159.033203\" xlink:href=\"#DejaVuSans-53\"/>\n      </g>\n     </g>\n    </g>\n    <g id=\"text_8\">\n     <!-- Principal Component 1 -->\n     <defs>\n      <path d=\"M 19.671875 64.796875 \nL 19.671875 37.40625 \nL 32.078125 37.40625 \nQ 38.96875 37.40625 42.71875 40.96875 \nQ 46.484375 44.53125 46.484375 51.125 \nQ 46.484375 57.671875 42.71875 61.234375 \nQ 38.96875 64.796875 32.078125 64.796875 \nz\nM 9.8125 72.90625 \nL 32.078125 72.90625 \nQ 44.34375 72.90625 50.609375 67.359375 \nQ 56.890625 61.8125 56.890625 51.125 \nQ 56.890625 40.328125 50.609375 34.8125 \nQ 44.34375 29.296875 32.078125 29.296875 \nL 19.671875 29.296875 \nL 19.671875 0 \nL 9.8125 0 \nz\n\" id=\"DejaVuSans-80\"/>\n      <path d=\"M 41.109375 46.296875 \nQ 39.59375 47.171875 37.8125 47.578125 \nQ 36.03125 48 33.890625 48 \nQ 26.265625 48 22.1875 43.046875 \nQ 18.109375 38.09375 18.109375 28.8125 \nL 18.109375 0 \nL 9.078125 0 \nL 9.078125 54.6875 \nL 18.109375 54.6875 \nL 18.109375 46.1875 \nQ 20.953125 51.171875 25.484375 53.578125 \nQ 30.03125 56 36.53125 56 \nQ 37.453125 56 38.578125 55.875 \nQ 39.703125 55.765625 41.0625 55.515625 \nz\n\" id=\"DejaVuSans-114\"/>\n      <path d=\"M 9.421875 54.6875 \nL 18.40625 54.6875 \nL 18.40625 0 \nL 9.421875 0 \nz\nM 9.421875 75.984375 \nL 18.40625 75.984375 \nL 18.40625 64.59375 \nL 9.421875 64.59375 \nz\n\" id=\"DejaVuSans-105\"/>\n      <path d=\"M 54.890625 33.015625 \nL 54.890625 0 \nL 45.90625 0 \nL 45.90625 32.71875 \nQ 45.90625 40.484375 42.875 44.328125 \nQ 39.84375 48.1875 33.796875 48.1875 \nQ 26.515625 48.1875 22.3125 43.546875 \nQ 18.109375 38.921875 18.109375 30.90625 \nL 18.109375 0 \nL 9.078125 0 \nL 9.078125 54.6875 \nL 18.109375 54.6875 \nL 18.109375 46.1875 \nQ 21.34375 51.125 25.703125 53.5625 \nQ 30.078125 56 35.796875 56 \nQ 45.21875 56 50.046875 50.171875 \nQ 54.890625 44.34375 54.890625 33.015625 \nz\n\" id=\"DejaVuSans-110\"/>\n      <path d=\"M 48.78125 52.59375 \nL 48.78125 44.1875 \nQ 44.96875 46.296875 41.140625 47.34375 \nQ 37.3125 48.390625 33.40625 48.390625 \nQ 24.65625 48.390625 19.8125 42.84375 \nQ 14.984375 37.3125 14.984375 27.296875 \nQ 14.984375 17.28125 19.8125 11.734375 \nQ 24.65625 6.203125 33.40625 6.203125 \nQ 37.3125 6.203125 41.140625 7.25 \nQ 44.96875 8.296875 48.78125 10.40625 \nL 48.78125 2.09375 \nQ 45.015625 0.34375 40.984375 -0.53125 \nQ 36.96875 -1.421875 32.421875 -1.421875 \nQ 20.0625 -1.421875 12.78125 6.34375 \nQ 5.515625 14.109375 5.515625 27.296875 \nQ 5.515625 40.671875 12.859375 48.328125 \nQ 20.21875 56 33.015625 56 \nQ 37.15625 56 41.109375 55.140625 \nQ 45.0625 54.296875 48.78125 52.59375 \nz\n\" id=\"DejaVuSans-99\"/>\n      <path d=\"M 18.109375 8.203125 \nL 18.109375 -20.796875 \nL 9.078125 -20.796875 \nL 9.078125 54.6875 \nL 18.109375 54.6875 \nL 18.109375 46.390625 \nQ 20.953125 51.265625 25.265625 53.625 \nQ 29.59375 56 35.59375 56 \nQ 45.5625 56 51.78125 48.09375 \nQ 58.015625 40.1875 58.015625 27.296875 \nQ 58.015625 14.40625 51.78125 6.484375 \nQ 45.5625 -1.421875 35.59375 -1.421875 \nQ 29.59375 -1.421875 25.265625 0.953125 \nQ 20.953125 3.328125 18.109375 8.203125 \nz\nM 48.6875 27.296875 \nQ 48.6875 37.203125 44.609375 42.84375 \nQ 40.53125 48.484375 33.40625 48.484375 \nQ 26.265625 48.484375 22.1875 42.84375 \nQ 18.109375 37.203125 18.109375 27.296875 \nQ 18.109375 17.390625 22.1875 11.75 \nQ 26.265625 6.109375 33.40625 6.109375 \nQ 40.53125 6.109375 44.609375 11.75 \nQ 48.6875 17.390625 48.6875 27.296875 \nz\n\" id=\"DejaVuSans-112\"/>\n      <path d=\"M 34.28125 27.484375 \nQ 23.390625 27.484375 19.1875 25 \nQ 14.984375 22.515625 14.984375 16.5 \nQ 14.984375 11.71875 18.140625 8.90625 \nQ 21.296875 6.109375 26.703125 6.109375 \nQ 34.1875 6.109375 38.703125 11.40625 \nQ 43.21875 16.703125 43.21875 25.484375 \nL 43.21875 27.484375 \nz\nM 52.203125 31.203125 \nL 52.203125 0 \nL 43.21875 0 \nL 43.21875 8.296875 \nQ 40.140625 3.328125 35.546875 0.953125 \nQ 30.953125 -1.421875 24.3125 -1.421875 \nQ 15.921875 -1.421875 10.953125 3.296875 \nQ 6 8.015625 6 15.921875 \nQ 6 25.140625 12.171875 29.828125 \nQ 18.359375 34.515625 30.609375 34.515625 \nL 43.21875 34.515625 \nL 43.21875 35.40625 \nQ 43.21875 41.609375 39.140625 45 \nQ 35.0625 48.390625 27.6875 48.390625 \nQ 23 48.390625 18.546875 47.265625 \nQ 14.109375 46.140625 10.015625 43.890625 \nL 10.015625 52.203125 \nQ 14.9375 54.109375 19.578125 55.046875 \nQ 24.21875 56 28.609375 56 \nQ 40.484375 56 46.34375 49.84375 \nQ 52.203125 43.703125 52.203125 31.203125 \nz\n\" id=\"DejaVuSans-97\"/>\n      <path d=\"M 9.421875 75.984375 \nL 18.40625 75.984375 \nL 18.40625 0 \nL 9.421875 0 \nz\n\" id=\"DejaVuSans-108\"/>\n      <path id=\"DejaVuSans-32\"/>\n      <path d=\"M 64.40625 67.28125 \nL 64.40625 56.890625 \nQ 59.421875 61.53125 53.78125 63.8125 \nQ 48.140625 66.109375 41.796875 66.109375 \nQ 29.296875 66.109375 22.65625 58.46875 \nQ 16.015625 50.828125 16.015625 36.375 \nQ 16.015625 21.96875 22.65625 14.328125 \nQ 29.296875 6.6875 41.796875 6.6875 \nQ 48.140625 6.6875 53.78125 8.984375 \nQ 59.421875 11.28125 64.40625 15.921875 \nL 64.40625 5.609375 \nQ 59.234375 2.09375 53.4375 0.328125 \nQ 47.65625 -1.421875 41.21875 -1.421875 \nQ 24.65625 -1.421875 15.125 8.703125 \nQ 5.609375 18.84375 5.609375 36.375 \nQ 5.609375 53.953125 15.125 64.078125 \nQ 24.65625 74.21875 41.21875 74.21875 \nQ 47.75 74.21875 53.53125 72.484375 \nQ 59.328125 70.75 64.40625 67.28125 \nz\n\" id=\"DejaVuSans-67\"/>\n      <path d=\"M 30.609375 48.390625 \nQ 23.390625 48.390625 19.1875 42.75 \nQ 14.984375 37.109375 14.984375 27.296875 \nQ 14.984375 17.484375 19.15625 11.84375 \nQ 23.34375 6.203125 30.609375 6.203125 \nQ 37.796875 6.203125 41.984375 11.859375 \nQ 46.1875 17.53125 46.1875 27.296875 \nQ 46.1875 37.015625 41.984375 42.703125 \nQ 37.796875 48.390625 30.609375 48.390625 \nz\nM 30.609375 56 \nQ 42.328125 56 49.015625 48.375 \nQ 55.71875 40.765625 55.71875 27.296875 \nQ 55.71875 13.875 49.015625 6.21875 \nQ 42.328125 -1.421875 30.609375 -1.421875 \nQ 18.84375 -1.421875 12.171875 6.21875 \nQ 5.515625 13.875 5.515625 27.296875 \nQ 5.515625 40.765625 12.171875 48.375 \nQ 18.84375 56 30.609375 56 \nz\n\" id=\"DejaVuSans-111\"/>\n      <path d=\"M 52 44.1875 \nQ 55.375 50.25 60.0625 53.125 \nQ 64.75 56 71.09375 56 \nQ 79.640625 56 84.28125 50.015625 \nQ 88.921875 44.046875 88.921875 33.015625 \nL 88.921875 0 \nL 79.890625 0 \nL 79.890625 32.71875 \nQ 79.890625 40.578125 77.09375 44.375 \nQ 74.3125 48.1875 68.609375 48.1875 \nQ 61.625 48.1875 57.5625 43.546875 \nQ 53.515625 38.921875 53.515625 30.90625 \nL 53.515625 0 \nL 44.484375 0 \nL 44.484375 32.71875 \nQ 44.484375 40.625 41.703125 44.40625 \nQ 38.921875 48.1875 33.109375 48.1875 \nQ 26.21875 48.1875 22.15625 43.53125 \nQ 18.109375 38.875 18.109375 30.90625 \nL 18.109375 0 \nL 9.078125 0 \nL 9.078125 54.6875 \nL 18.109375 54.6875 \nL 18.109375 46.1875 \nQ 21.1875 51.21875 25.484375 53.609375 \nQ 29.78125 56 35.6875 56 \nQ 41.65625 56 45.828125 52.96875 \nQ 50 49.953125 52 44.1875 \nz\n\" id=\"DejaVuSans-109\"/>\n      <path d=\"M 56.203125 29.59375 \nL 56.203125 25.203125 \nL 14.890625 25.203125 \nQ 15.484375 15.921875 20.484375 11.0625 \nQ 25.484375 6.203125 34.421875 6.203125 \nQ 39.59375 6.203125 44.453125 7.46875 \nQ 49.3125 8.734375 54.109375 11.28125 \nL 54.109375 2.78125 \nQ 49.265625 0.734375 44.1875 -0.34375 \nQ 39.109375 -1.421875 33.890625 -1.421875 \nQ 20.796875 -1.421875 13.15625 6.1875 \nQ 5.515625 13.8125 5.515625 26.8125 \nQ 5.515625 40.234375 12.765625 48.109375 \nQ 20.015625 56 32.328125 56 \nQ 43.359375 56 49.78125 48.890625 \nQ 56.203125 41.796875 56.203125 29.59375 \nz\nM 47.21875 32.234375 \nQ 47.125 39.59375 43.09375 43.984375 \nQ 39.0625 48.390625 32.421875 48.390625 \nQ 24.90625 48.390625 20.390625 44.140625 \nQ 15.875 39.890625 15.1875 32.171875 \nz\n\" id=\"DejaVuSans-101\"/>\n      <path d=\"M 18.3125 70.21875 \nL 18.3125 54.6875 \nL 36.8125 54.6875 \nL 36.8125 47.703125 \nL 18.3125 47.703125 \nL 18.3125 18.015625 \nQ 18.3125 11.328125 20.140625 9.421875 \nQ 21.96875 7.515625 27.59375 7.515625 \nL 36.8125 7.515625 \nL 36.8125 0 \nL 27.59375 0 \nQ 17.1875 0 13.234375 3.875 \nQ 9.28125 7.765625 9.28125 18.015625 \nL 9.28125 47.703125 \nL 2.6875 47.703125 \nL 2.6875 54.6875 \nL 9.28125 54.6875 \nL 9.28125 70.21875 \nz\n\" id=\"DejaVuSans-116\"/>\n     </defs>\n     <g style=\"fill:#262626;\" transform=\"translate(169.228906 268.034687)scale(0.1 -0.1)\">\n      <use xlink:href=\"#DejaVuSans-80\"/>\n      <use x=\"58.552734\" xlink:href=\"#DejaVuSans-114\"/>\n      <use x=\"99.666016\" xlink:href=\"#DejaVuSans-105\"/>\n      <use x=\"127.449219\" xlink:href=\"#DejaVuSans-110\"/>\n      <use x=\"190.828125\" xlink:href=\"#DejaVuSans-99\"/>\n      <use x=\"245.808594\" xlink:href=\"#DejaVuSans-105\"/>\n      <use x=\"273.591797\" xlink:href=\"#DejaVuSans-112\"/>\n      <use x=\"337.068359\" xlink:href=\"#DejaVuSans-97\"/>\n      <use x=\"398.347656\" xlink:href=\"#DejaVuSans-108\"/>\n      <use x=\"426.130859\" xlink:href=\"#DejaVuSans-32\"/>\n      <use x=\"457.917969\" xlink:href=\"#DejaVuSans-67\"/>\n      <use x=\"527.742188\" xlink:href=\"#DejaVuSans-111\"/>\n      <use x=\"588.923828\" xlink:href=\"#DejaVuSans-109\"/>\n      <use x=\"686.335938\" xlink:href=\"#DejaVuSans-112\"/>\n      <use x=\"749.8125\" xlink:href=\"#DejaVuSans-111\"/>\n      <use x=\"810.994141\" xlink:href=\"#DejaVuSans-110\"/>\n      <use x=\"874.373047\" xlink:href=\"#DejaVuSans-101\"/>\n      <use x=\"935.896484\" xlink:href=\"#DejaVuSans-110\"/>\n      <use x=\"999.275391\" xlink:href=\"#DejaVuSans-116\"/>\n      <use x=\"1038.484375\" xlink:href=\"#DejaVuSans-32\"/>\n      <use x=\"1070.271484\" xlink:href=\"#DejaVuSans-49\"/>\n     </g>\n    </g>\n   </g>\n   <g id=\"matplotlib.axis_2\">\n    <g id=\"ytick_1\">\n     <g id=\"line2d_8\">\n      <path clip-path=\"url(#p299e5ebbfc)\" d=\"M 58.523438 220.459022 \nL 393.323438 220.459022 \n\" style=\"fill:none;stroke:#ffffff;stroke-linecap:round;stroke-width:0.8;\"/>\n     </g>\n     <g id=\"text_9\">\n      <!-- −0.50 -->\n      <g style=\"fill:#262626;\" transform=\"translate(20.878125 224.25824)scale(0.1 -0.1)\">\n       <use xlink:href=\"#DejaVuSans-8722\"/>\n       <use x=\"83.789062\" xlink:href=\"#DejaVuSans-48\"/>\n       <use x=\"147.412109\" xlink:href=\"#DejaVuSans-46\"/>\n       <use x=\"179.199219\" xlink:href=\"#DejaVuSans-53\"/>\n       <use x=\"242.822266\" xlink:href=\"#DejaVuSans-48\"/>\n      </g>\n     </g>\n    </g>\n    <g id=\"ytick_2\">\n     <g id=\"line2d_9\">\n      <path clip-path=\"url(#p299e5ebbfc)\" d=\"M 58.523438 190.635074 \nL 393.323438 190.635074 \n\" style=\"fill:none;stroke:#ffffff;stroke-linecap:round;stroke-width:0.8;\"/>\n     </g>\n     <g id=\"text_10\">\n      <!-- −0.25 -->\n      <g style=\"fill:#262626;\" transform=\"translate(20.878125 194.434293)scale(0.1 -0.1)\">\n       <use xlink:href=\"#DejaVuSans-8722\"/>\n       <use x=\"83.789062\" xlink:href=\"#DejaVuSans-48\"/>\n       <use x=\"147.412109\" xlink:href=\"#DejaVuSans-46\"/>\n       <use x=\"179.199219\" xlink:href=\"#DejaVuSans-50\"/>\n       <use x=\"242.822266\" xlink:href=\"#DejaVuSans-53\"/>\n      </g>\n     </g>\n    </g>\n    <g id=\"ytick_3\">\n     <g id=\"line2d_10\">\n      <path clip-path=\"url(#p299e5ebbfc)\" d=\"M 58.523438 160.811127 \nL 393.323438 160.811127 \n\" style=\"fill:none;stroke:#ffffff;stroke-linecap:round;stroke-width:0.8;\"/>\n     </g>\n     <g id=\"text_11\">\n      <!-- 0.00 -->\n      <g style=\"fill:#262626;\" transform=\"translate(29.257813 164.610345)scale(0.1 -0.1)\">\n       <use xlink:href=\"#DejaVuSans-48\"/>\n       <use x=\"63.623047\" xlink:href=\"#DejaVuSans-46\"/>\n       <use x=\"95.410156\" xlink:href=\"#DejaVuSans-48\"/>\n       <use x=\"159.033203\" xlink:href=\"#DejaVuSans-48\"/>\n      </g>\n     </g>\n    </g>\n    <g id=\"ytick_4\">\n     <g id=\"line2d_11\">\n      <path clip-path=\"url(#p299e5ebbfc)\" d=\"M 58.523438 130.987179 \nL 393.323438 130.987179 \n\" style=\"fill:none;stroke:#ffffff;stroke-linecap:round;stroke-width:0.8;\"/>\n     </g>\n     <g id=\"text_12\">\n      <!-- 0.25 -->\n      <g style=\"fill:#262626;\" transform=\"translate(29.257813 134.786398)scale(0.1 -0.1)\">\n       <use xlink:href=\"#DejaVuSans-48\"/>\n       <use x=\"63.623047\" xlink:href=\"#DejaVuSans-46\"/>\n       <use x=\"95.410156\" xlink:href=\"#DejaVuSans-50\"/>\n       <use x=\"159.033203\" xlink:href=\"#DejaVuSans-53\"/>\n      </g>\n     </g>\n    </g>\n    <g id=\"ytick_5\">\n     <g id=\"line2d_12\">\n      <path clip-path=\"url(#p299e5ebbfc)\" d=\"M 58.523438 101.163232 \nL 393.323438 101.163232 \n\" style=\"fill:none;stroke:#ffffff;stroke-linecap:round;stroke-width:0.8;\"/>\n     </g>\n     <g id=\"text_13\">\n      <!-- 0.50 -->\n      <g style=\"fill:#262626;\" transform=\"translate(29.257813 104.96245)scale(0.1 -0.1)\">\n       <use xlink:href=\"#DejaVuSans-48\"/>\n       <use x=\"63.623047\" xlink:href=\"#DejaVuSans-46\"/>\n       <use x=\"95.410156\" xlink:href=\"#DejaVuSans-53\"/>\n       <use x=\"159.033203\" xlink:href=\"#DejaVuSans-48\"/>\n      </g>\n     </g>\n    </g>\n    <g id=\"ytick_6\">\n     <g id=\"line2d_13\">\n      <path clip-path=\"url(#p299e5ebbfc)\" d=\"M 58.523438 71.339284 \nL 393.323438 71.339284 \n\" style=\"fill:none;stroke:#ffffff;stroke-linecap:round;stroke-width:0.8;\"/>\n     </g>\n     <g id=\"text_14\">\n      <!-- 0.75 -->\n      <g style=\"fill:#262626;\" transform=\"translate(29.257813 75.138503)scale(0.1 -0.1)\">\n       <use xlink:href=\"#DejaVuSans-48\"/>\n       <use x=\"63.623047\" xlink:href=\"#DejaVuSans-46\"/>\n       <use x=\"95.410156\" xlink:href=\"#DejaVuSans-55\"/>\n       <use x=\"159.033203\" xlink:href=\"#DejaVuSans-53\"/>\n      </g>\n     </g>\n    </g>\n    <g id=\"ytick_7\">\n     <g id=\"line2d_14\">\n      <path clip-path=\"url(#p299e5ebbfc)\" d=\"M 58.523438 41.515337 \nL 393.323438 41.515337 \n\" style=\"fill:none;stroke:#ffffff;stroke-linecap:round;stroke-width:0.8;\"/>\n     </g>\n     <g id=\"text_15\">\n      <!-- 1.00 -->\n      <g style=\"fill:#262626;\" transform=\"translate(29.257813 45.314555)scale(0.1 -0.1)\">\n       <use xlink:href=\"#DejaVuSans-49\"/>\n       <use x=\"63.623047\" xlink:href=\"#DejaVuSans-46\"/>\n       <use x=\"95.410156\" xlink:href=\"#DejaVuSans-48\"/>\n       <use x=\"159.033203\" xlink:href=\"#DejaVuSans-48\"/>\n      </g>\n     </g>\n    </g>\n    <g id=\"text_16\">\n     <!-- Principal Component 2 -->\n     <g style=\"fill:#262626;\" transform=\"translate(14.798438 187.732656)rotate(-90)scale(0.1 -0.1)\">\n      <use xlink:href=\"#DejaVuSans-80\"/>\n      <use x=\"58.552734\" xlink:href=\"#DejaVuSans-114\"/>\n      <use x=\"99.666016\" xlink:href=\"#DejaVuSans-105\"/>\n      <use x=\"127.449219\" xlink:href=\"#DejaVuSans-110\"/>\n      <use x=\"190.828125\" xlink:href=\"#DejaVuSans-99\"/>\n      <use x=\"245.808594\" xlink:href=\"#DejaVuSans-105\"/>\n      <use x=\"273.591797\" xlink:href=\"#DejaVuSans-112\"/>\n      <use x=\"337.068359\" xlink:href=\"#DejaVuSans-97\"/>\n      <use x=\"398.347656\" xlink:href=\"#DejaVuSans-108\"/>\n      <use x=\"426.130859\" xlink:href=\"#DejaVuSans-32\"/>\n      <use x=\"457.917969\" xlink:href=\"#DejaVuSans-67\"/>\n      <use x=\"527.742188\" xlink:href=\"#DejaVuSans-111\"/>\n      <use x=\"588.923828\" xlink:href=\"#DejaVuSans-109\"/>\n      <use x=\"686.335938\" xlink:href=\"#DejaVuSans-112\"/>\n      <use x=\"749.8125\" xlink:href=\"#DejaVuSans-111\"/>\n      <use x=\"810.994141\" xlink:href=\"#DejaVuSans-110\"/>\n      <use x=\"874.373047\" xlink:href=\"#DejaVuSans-101\"/>\n      <use x=\"935.896484\" xlink:href=\"#DejaVuSans-110\"/>\n      <use x=\"999.275391\" xlink:href=\"#DejaVuSans-116\"/>\n      <use x=\"1038.484375\" xlink:href=\"#DejaVuSans-32\"/>\n      <use x=\"1070.271484\" xlink:href=\"#DejaVuSans-50\"/>\n     </g>\n    </g>\n   </g>\n   <g id=\"PathCollection_1\">\n    <defs>\n     <path d=\"M 0 3 \nC 0.795609 3 1.55874 2.683901 2.12132 2.12132 \nC 2.683901 1.55874 3 0.795609 3 0 \nC 3 -0.795609 2.683901 -1.55874 2.12132 -2.12132 \nC 1.55874 -2.683901 0.795609 -3 0 -3 \nC -0.795609 -3 -1.55874 -2.683901 -2.12132 -2.12132 \nC -2.683901 -1.55874 -3 -0.795609 -3 0 \nC -3 0.795609 -2.683901 1.55874 -2.12132 2.12132 \nC -1.55874 2.683901 -0.795609 3 0 3 \nz\n\" id=\"C0_0_ca6e7fd617\"/>\n    </defs>\n    <g clip-path=\"url(#p299e5ebbfc)\">\n     <use style=\"fill:#386df9;stroke:#ffffff;stroke-width:0.48;\" x=\"91.282799\" xlink:href=\"#C0_0_ca6e7fd617\" y=\"133.499274\"/>\n    </g>\n    <g clip-path=\"url(#p299e5ebbfc)\">\n     <use style=\"fill:#386df9;stroke:#ffffff;stroke-width:0.48;\" x=\"91.282799\" xlink:href=\"#C0_0_ca6e7fd617\" y=\"133.499274\"/>\n    </g>\n    <g clip-path=\"url(#p299e5ebbfc)\">\n     <use style=\"fill:#386df9;stroke:#ffffff;stroke-width:0.48;\" x=\"108.69867\" xlink:href=\"#C0_0_ca6e7fd617\" y=\"188.80808\"/>\n    </g>\n    <g clip-path=\"url(#p299e5ebbfc)\">\n     <use style=\"fill:#386df9;stroke:#ffffff;stroke-width:0.48;\" x=\"100.138166\" xlink:href=\"#C0_0_ca6e7fd617\" y=\"134.326411\"/>\n    </g>\n    <g clip-path=\"url(#p299e5ebbfc)\">\n     <use style=\"fill:#386df9;stroke:#ffffff;stroke-width:0.48;\" x=\"99.116347\" xlink:href=\"#C0_0_ca6e7fd617\" y=\"149.958237\"/>\n    </g>\n    <g clip-path=\"url(#p299e5ebbfc)\">\n     <use style=\"fill:#386df9;stroke:#ffffff;stroke-width:0.48;\" x=\"99.116347\" xlink:href=\"#C0_0_ca6e7fd617\" y=\"149.958237\"/>\n    </g>\n    <g clip-path=\"url(#p299e5ebbfc)\">\n     <use style=\"fill:#386df9;stroke:#ffffff;stroke-width:0.48;\" x=\"80.289038\" xlink:href=\"#C0_0_ca6e7fd617\" y=\"95.686177\"/>\n    </g>\n    <g clip-path=\"url(#p299e5ebbfc)\">\n     <use style=\"fill:#386df9;stroke:#ffffff;stroke-width:0.48;\" x=\"80.289038\" xlink:href=\"#C0_0_ca6e7fd617\" y=\"95.686177\"/>\n    </g>\n    <g clip-path=\"url(#p299e5ebbfc)\">\n     <use style=\"fill:#386df9;stroke:#ffffff;stroke-width:0.48;\" x=\"80.289038\" xlink:href=\"#C0_0_ca6e7fd617\" y=\"95.686177\"/>\n    </g>\n    <g clip-path=\"url(#p299e5ebbfc)\">\n     <use style=\"fill:#386df9;stroke:#ffffff;stroke-width:0.48;\" x=\"80.289038\" xlink:href=\"#C0_0_ca6e7fd617\" y=\"95.686177\"/>\n    </g>\n    <g clip-path=\"url(#p299e5ebbfc)\">\n     <use style=\"fill:#386df9;stroke:#ffffff;stroke-width:0.48;\" x=\"102.472703\" xlink:href=\"#C0_0_ca6e7fd617\" y=\"159.788604\"/>\n    </g>\n    <g clip-path=\"url(#p299e5ebbfc)\">\n     <use style=\"fill:#386df9;stroke:#ffffff;stroke-width:0.48;\" x=\"102.472703\" xlink:href=\"#C0_0_ca6e7fd617\" y=\"159.788604\"/>\n    </g>\n    <g clip-path=\"url(#p299e5ebbfc)\">\n     <use style=\"fill:#386df9;stroke:#ffffff;stroke-width:0.48;\" x=\"94.568801\" xlink:href=\"#C0_0_ca6e7fd617\" y=\"136.494348\"/>\n    </g>\n    <g clip-path=\"url(#p299e5ebbfc)\">\n     <use style=\"fill:#386df9;stroke:#ffffff;stroke-width:0.48;\" x=\"94.568801\" xlink:href=\"#C0_0_ca6e7fd617\" y=\"136.494348\"/>\n    </g>\n    <g clip-path=\"url(#p299e5ebbfc)\">\n     <use style=\"fill:#386df9;stroke:#ffffff;stroke-width:0.48;\" x=\"94.568801\" xlink:href=\"#C0_0_ca6e7fd617\" y=\"136.494348\"/>\n    </g>\n    <g clip-path=\"url(#p299e5ebbfc)\">\n     <use style=\"fill:#386df9;stroke:#ffffff;stroke-width:0.48;\" x=\"73.741619\" xlink:href=\"#C0_0_ca6e7fd617\" y=\"81.303568\"/>\n    </g>\n    <g clip-path=\"url(#p299e5ebbfc)\">\n     <use style=\"fill:#386df9;stroke:#ffffff;stroke-width:0.48;\" x=\"73.741619\" xlink:href=\"#C0_0_ca6e7fd617\" y=\"81.303568\"/>\n    </g>\n    <g clip-path=\"url(#p299e5ebbfc)\">\n     <use style=\"fill:#386df9;stroke:#ffffff;stroke-width:0.48;\" x=\"73.741619\" xlink:href=\"#C0_0_ca6e7fd617\" y=\"81.303568\"/>\n    </g>\n    <g clip-path=\"url(#p299e5ebbfc)\">\n     <use style=\"fill:#386df9;stroke:#ffffff;stroke-width:0.48;\" x=\"105.79314\" xlink:href=\"#C0_0_ca6e7fd617\" y=\"181.070069\"/>\n    </g>\n    <g clip-path=\"url(#p299e5ebbfc)\">\n     <use style=\"fill:#386df9;stroke:#ffffff;stroke-width:0.48;\" x=\"96.202769\" xlink:href=\"#C0_0_ca6e7fd617\" y=\"117.376396\"/>\n    </g>\n    <g clip-path=\"url(#p299e5ebbfc)\">\n     <use style=\"fill:#386df9;stroke:#ffffff;stroke-width:0.48;\" x=\"96.202769\" xlink:href=\"#C0_0_ca6e7fd617\" y=\"117.376396\"/>\n    </g>\n    <g clip-path=\"url(#p299e5ebbfc)\">\n     <use style=\"fill:#386df9;stroke:#ffffff;stroke-width:0.48;\" x=\"97.591558\" xlink:href=\"#C0_0_ca6e7fd617\" y=\"164.625113\"/>\n    </g>\n    <g clip-path=\"url(#p299e5ebbfc)\">\n     <use style=\"fill:#386df9;stroke:#ffffff;stroke-width:0.48;\" x=\"99.428374\" xlink:href=\"#C0_0_ca6e7fd617\" y=\"138.326529\"/>\n    </g>\n    <g clip-path=\"url(#p299e5ebbfc)\">\n     <use style=\"fill:#386df9;stroke:#ffffff;stroke-width:0.48;\" x=\"99.428374\" xlink:href=\"#C0_0_ca6e7fd617\" y=\"138.326529\"/>\n    </g>\n    <g clip-path=\"url(#p299e5ebbfc)\">\n     <use style=\"fill:#386df9;stroke:#ffffff;stroke-width:0.48;\" x=\"99.428374\" xlink:href=\"#C0_0_ca6e7fd617\" y=\"138.326529\"/>\n    </g>\n    <g clip-path=\"url(#p299e5ebbfc)\">\n     <use style=\"fill:#386df9;stroke:#ffffff;stroke-width:0.48;\" x=\"99.428374\" xlink:href=\"#C0_0_ca6e7fd617\" y=\"138.326529\"/>\n    </g>\n    <g clip-path=\"url(#p299e5ebbfc)\">\n     <use style=\"fill:#386df9;stroke:#ffffff;stroke-width:0.48;\" x=\"99.428374\" xlink:href=\"#C0_0_ca6e7fd617\" y=\"138.326529\"/>\n    </g>\n    <g clip-path=\"url(#p299e5ebbfc)\">\n     <use style=\"fill:#386df9;stroke:#ffffff;stroke-width:0.48;\" x=\"99.428374\" xlink:href=\"#C0_0_ca6e7fd617\" y=\"138.326529\"/>\n    </g>\n    <g clip-path=\"url(#p299e5ebbfc)\">\n     <use style=\"fill:#386df9;stroke:#ffffff;stroke-width:0.48;\" x=\"104.939406\" xlink:href=\"#C0_0_ca6e7fd617\" y=\"208.351416\"/>\n    </g>\n    <g clip-path=\"url(#p299e5ebbfc)\">\n     <use style=\"fill:#386df9;stroke:#ffffff;stroke-width:0.48;\" x=\"104.939406\" xlink:href=\"#C0_0_ca6e7fd617\" y=\"208.351416\"/>\n    </g>\n    <g clip-path=\"url(#p299e5ebbfc)\">\n     <use style=\"fill:#386df9;stroke:#ffffff;stroke-width:0.48;\" x=\"104.939406\" xlink:href=\"#C0_0_ca6e7fd617\" y=\"208.351416\"/>\n    </g>\n    <g clip-path=\"url(#p299e5ebbfc)\">\n     <use style=\"fill:#386df9;stroke:#ffffff;stroke-width:0.48;\" x=\"98.094439\" xlink:href=\"#C0_0_ca6e7fd617\" y=\"131.207968\"/>\n    </g>\n    <g clip-path=\"url(#p299e5ebbfc)\">\n     <use style=\"fill:#386df9;stroke:#ffffff;stroke-width:0.48;\" x=\"111.088287\" xlink:href=\"#C0_0_ca6e7fd617\" y=\"201.332924\"/>\n    </g>\n    <g clip-path=\"url(#p299e5ebbfc)\">\n     <use style=\"fill:#386df9;stroke:#ffffff;stroke-width:0.48;\" x=\"111.088287\" xlink:href=\"#C0_0_ca6e7fd617\" y=\"201.332924\"/>\n    </g>\n    <g clip-path=\"url(#p299e5ebbfc)\">\n     <use style=\"fill:#386df9;stroke:#ffffff;stroke-width:0.48;\" x=\"111.088287\" xlink:href=\"#C0_0_ca6e7fd617\" y=\"201.332924\"/>\n    </g>\n    <g clip-path=\"url(#p299e5ebbfc)\">\n     <use style=\"fill:#386df9;stroke:#ffffff;stroke-width:0.48;\" x=\"111.088287\" xlink:href=\"#C0_0_ca6e7fd617\" y=\"201.332924\"/>\n    </g>\n    <g clip-path=\"url(#p299e5ebbfc)\">\n     <use style=\"fill:#386df9;stroke:#ffffff;stroke-width:0.48;\" x=\"103.278616\" xlink:href=\"#C0_0_ca6e7fd617\" y=\"175.041288\"/>\n    </g>\n    <g clip-path=\"url(#p299e5ebbfc)\">\n     <use style=\"fill:#386df9;stroke:#ffffff;stroke-width:0.48;\" x=\"103.278616\" xlink:href=\"#C0_0_ca6e7fd617\" y=\"175.041288\"/>\n    </g>\n    <g clip-path=\"url(#p299e5ebbfc)\">\n     <use style=\"fill:#386df9;stroke:#ffffff;stroke-width:0.48;\" x=\"103.278616\" xlink:href=\"#C0_0_ca6e7fd617\" y=\"175.041288\"/>\n    </g>\n    <g clip-path=\"url(#p299e5ebbfc)\">\n     <use style=\"fill:#386df9;stroke:#ffffff;stroke-width:0.48;\" x=\"110.961715\" xlink:href=\"#C0_0_ca6e7fd617\" y=\"167.334134\"/>\n    </g>\n    <g clip-path=\"url(#p299e5ebbfc)\">\n     <use style=\"fill:#386df9;stroke:#ffffff;stroke-width:0.48;\" x=\"102.799131\" xlink:href=\"#C0_0_ca6e7fd617\" y=\"198.817792\"/>\n    </g>\n    <g clip-path=\"url(#p299e5ebbfc)\">\n     <use style=\"fill:#386df9;stroke:#ffffff;stroke-width:0.48;\" x=\"96.109705\" xlink:href=\"#C0_0_ca6e7fd617\" y=\"133.636235\"/>\n    </g>\n    <g clip-path=\"url(#p299e5ebbfc)\">\n     <use style=\"fill:#386df9;stroke:#ffffff;stroke-width:0.48;\" x=\"99.163089\" xlink:href=\"#C0_0_ca6e7fd617\" y=\"155.9109\"/>\n    </g>\n    <g clip-path=\"url(#p299e5ebbfc)\">\n     <use style=\"fill:#386df9;stroke:#ffffff;stroke-width:0.48;\" x=\"99.163089\" xlink:href=\"#C0_0_ca6e7fd617\" y=\"155.9109\"/>\n    </g>\n    <g clip-path=\"url(#p299e5ebbfc)\">\n     <use style=\"fill:#386df9;stroke:#ffffff;stroke-width:0.48;\" x=\"96.628025\" xlink:href=\"#C0_0_ca6e7fd617\" y=\"88.689542\"/>\n    </g>\n    <g clip-path=\"url(#p299e5ebbfc)\">\n     <use style=\"fill:#386df9;stroke:#ffffff;stroke-width:0.48;\" x=\"103.246643\" xlink:href=\"#C0_0_ca6e7fd617\" y=\"209.208209\"/>\n    </g>\n    <g clip-path=\"url(#p299e5ebbfc)\">\n     <use style=\"fill:#386df9;stroke:#ffffff;stroke-width:0.48;\" x=\"95.070034\" xlink:href=\"#C0_0_ca6e7fd617\" y=\"172.98366\"/>\n    </g>\n    <g clip-path=\"url(#p299e5ebbfc)\">\n     <use style=\"fill:#386df9;stroke:#ffffff;stroke-width:0.48;\" x=\"92.054234\" xlink:href=\"#C0_0_ca6e7fd617\" y=\"182.701322\"/>\n    </g>\n    <g clip-path=\"url(#p299e5ebbfc)\">\n     <use style=\"fill:#386df9;stroke:#ffffff;stroke-width:0.48;\" x=\"92.92291\" xlink:href=\"#C0_0_ca6e7fd617\" y=\"150.333742\"/>\n    </g>\n    <g clip-path=\"url(#p299e5ebbfc)\">\n     <use style=\"fill:#386df9;stroke:#ffffff;stroke-width:0.48;\" x=\"92.92291\" xlink:href=\"#C0_0_ca6e7fd617\" y=\"150.333742\"/>\n    </g>\n    <g clip-path=\"url(#p299e5ebbfc)\">\n     <use style=\"fill:#386df9;stroke:#ffffff;stroke-width:0.48;\" x=\"92.92291\" xlink:href=\"#C0_0_ca6e7fd617\" y=\"150.333742\"/>\n    </g>\n    <g clip-path=\"url(#p299e5ebbfc)\">\n     <use style=\"fill:#386df9;stroke:#ffffff;stroke-width:0.48;\" x=\"92.92291\" xlink:href=\"#C0_0_ca6e7fd617\" y=\"150.333742\"/>\n    </g>\n    <g clip-path=\"url(#p299e5ebbfc)\">\n     <use style=\"fill:#386df9;stroke:#ffffff;stroke-width:0.48;\" x=\"92.92291\" xlink:href=\"#C0_0_ca6e7fd617\" y=\"150.333742\"/>\n    </g>\n    <g clip-path=\"url(#p299e5ebbfc)\">\n     <use style=\"fill:#386df9;stroke:#ffffff;stroke-width:0.48;\" x=\"92.92291\" xlink:href=\"#C0_0_ca6e7fd617\" y=\"150.333742\"/>\n    </g>\n    <g clip-path=\"url(#p299e5ebbfc)\">\n     <use style=\"fill:#386df9;stroke:#ffffff;stroke-width:0.48;\" x=\"97.791172\" xlink:href=\"#C0_0_ca6e7fd617\" y=\"185.93803\"/>\n    </g>\n    <g clip-path=\"url(#p299e5ebbfc)\">\n     <use style=\"fill:#386df9;stroke:#ffffff;stroke-width:0.48;\" x=\"89.261498\" xlink:href=\"#C0_0_ca6e7fd617\" y=\"100.626699\"/>\n    </g>\n    <g clip-path=\"url(#p299e5ebbfc)\">\n     <use style=\"fill:#386df9;stroke:#ffffff;stroke-width:0.48;\" x=\"89.261498\" xlink:href=\"#C0_0_ca6e7fd617\" y=\"100.626699\"/>\n    </g>\n    <g clip-path=\"url(#p299e5ebbfc)\">\n     <use style=\"fill:#386df9;stroke:#ffffff;stroke-width:0.48;\" x=\"89.261498\" xlink:href=\"#C0_0_ca6e7fd617\" y=\"100.626699\"/>\n    </g>\n    <g clip-path=\"url(#p299e5ebbfc)\">\n     <use style=\"fill:#386df9;stroke:#ffffff;stroke-width:0.48;\" x=\"89.261498\" xlink:href=\"#C0_0_ca6e7fd617\" y=\"100.626699\"/>\n    </g>\n    <g clip-path=\"url(#p299e5ebbfc)\">\n     <use style=\"fill:#386df9;stroke:#ffffff;stroke-width:0.48;\" x=\"89.261498\" xlink:href=\"#C0_0_ca6e7fd617\" y=\"100.626699\"/>\n    </g>\n    <g clip-path=\"url(#p299e5ebbfc)\">\n     <use style=\"fill:#386df9;stroke:#ffffff;stroke-width:0.48;\" x=\"89.748905\" xlink:href=\"#C0_0_ca6e7fd617\" y=\"186.057775\"/>\n    </g>\n    <g clip-path=\"url(#p299e5ebbfc)\">\n     <use style=\"fill:#386df9;stroke:#ffffff;stroke-width:0.48;\" x=\"96.783431\" xlink:href=\"#C0_0_ca6e7fd617\" y=\"162.448731\"/>\n    </g>\n    <g clip-path=\"url(#p299e5ebbfc)\">\n     <use style=\"fill:#386df9;stroke:#ffffff;stroke-width:0.48;\" x=\"96.783431\" xlink:href=\"#C0_0_ca6e7fd617\" y=\"162.448731\"/>\n    </g>\n    <g clip-path=\"url(#p299e5ebbfc)\">\n     <use style=\"fill:#386df9;stroke:#ffffff;stroke-width:0.48;\" x=\"96.783431\" xlink:href=\"#C0_0_ca6e7fd617\" y=\"162.448731\"/>\n    </g>\n    <g clip-path=\"url(#p299e5ebbfc)\">\n     <use style=\"fill:#386df9;stroke:#ffffff;stroke-width:0.48;\" x=\"96.783431\" xlink:href=\"#C0_0_ca6e7fd617\" y=\"162.448731\"/>\n    </g>\n    <g clip-path=\"url(#p299e5ebbfc)\">\n     <use style=\"fill:#386df9;stroke:#ffffff;stroke-width:0.48;\" x=\"101.677468\" xlink:href=\"#C0_0_ca6e7fd617\" y=\"141.042215\"/>\n    </g>\n    <g clip-path=\"url(#p299e5ebbfc)\">\n     <use style=\"fill:#386df9;stroke:#ffffff;stroke-width:0.48;\" x=\"101.677468\" xlink:href=\"#C0_0_ca6e7fd617\" y=\"141.042215\"/>\n    </g>\n    <g clip-path=\"url(#p299e5ebbfc)\">\n     <use style=\"fill:#386df9;stroke:#ffffff;stroke-width:0.48;\" x=\"101.677468\" xlink:href=\"#C0_0_ca6e7fd617\" y=\"141.042215\"/>\n    </g>\n    <g clip-path=\"url(#p299e5ebbfc)\">\n     <use style=\"fill:#386df9;stroke:#ffffff;stroke-width:0.48;\" x=\"107.462571\" xlink:href=\"#C0_0_ca6e7fd617\" y=\"200.774424\"/>\n    </g>\n    <g clip-path=\"url(#p299e5ebbfc)\">\n     <use style=\"fill:#386df9;stroke:#ffffff;stroke-width:0.48;\" x=\"107.462571\" xlink:href=\"#C0_0_ca6e7fd617\" y=\"200.774424\"/>\n    </g>\n    <g clip-path=\"url(#p299e5ebbfc)\">\n     <use style=\"fill:#386df9;stroke:#ffffff;stroke-width:0.48;\" x=\"106.441229\" xlink:href=\"#C0_0_ca6e7fd617\" y=\"186.666734\"/>\n    </g>\n    <g clip-path=\"url(#p299e5ebbfc)\">\n     <use style=\"fill:#386df9;stroke:#ffffff;stroke-width:0.48;\" x=\"106.441229\" xlink:href=\"#C0_0_ca6e7fd617\" y=\"186.666734\"/>\n    </g>\n    <g clip-path=\"url(#p299e5ebbfc)\">\n     <use style=\"fill:#386df9;stroke:#ffffff;stroke-width:0.48;\" x=\"110.586276\" xlink:href=\"#C0_0_ca6e7fd617\" y=\"221.850184\"/>\n    </g>\n    <g clip-path=\"url(#p299e5ebbfc)\">\n     <use style=\"fill:#386df9;stroke:#ffffff;stroke-width:0.48;\" x=\"94.091758\" xlink:href=\"#C0_0_ca6e7fd617\" y=\"140.92692\"/>\n    </g>\n    <g clip-path=\"url(#p299e5ebbfc)\">\n     <use style=\"fill:#386df9;stroke:#ffffff;stroke-width:0.48;\" x=\"94.091758\" xlink:href=\"#C0_0_ca6e7fd617\" y=\"140.92692\"/>\n    </g>\n    <g clip-path=\"url(#p299e5ebbfc)\">\n     <use style=\"fill:#386df9;stroke:#ffffff;stroke-width:0.48;\" x=\"94.091758\" xlink:href=\"#C0_0_ca6e7fd617\" y=\"140.92692\"/>\n    </g>\n    <g clip-path=\"url(#p299e5ebbfc)\">\n     <use style=\"fill:#386df9;stroke:#ffffff;stroke-width:0.48;\" x=\"105.70198\" xlink:href=\"#C0_0_ca6e7fd617\" y=\"188.751972\"/>\n    </g>\n    <g clip-path=\"url(#p299e5ebbfc)\">\n     <use style=\"fill:#386df9;stroke:#ffffff;stroke-width:0.48;\" x=\"96.509811\" xlink:href=\"#C0_0_ca6e7fd617\" y=\"115.643283\"/>\n    </g>\n    <g clip-path=\"url(#p299e5ebbfc)\">\n     <use style=\"fill:#386df9;stroke:#ffffff;stroke-width:0.48;\" x=\"96.509811\" xlink:href=\"#C0_0_ca6e7fd617\" y=\"115.643283\"/>\n    </g>\n    <g clip-path=\"url(#p299e5ebbfc)\">\n     <use style=\"fill:#386df9;stroke:#ffffff;stroke-width:0.48;\" x=\"96.509811\" xlink:href=\"#C0_0_ca6e7fd617\" y=\"115.643283\"/>\n    </g>\n    <g clip-path=\"url(#p299e5ebbfc)\">\n     <use style=\"fill:#386df9;stroke:#ffffff;stroke-width:0.48;\" x=\"96.509811\" xlink:href=\"#C0_0_ca6e7fd617\" y=\"115.643283\"/>\n    </g>\n    <g clip-path=\"url(#p299e5ebbfc)\">\n     <use style=\"fill:#386df9;stroke:#ffffff;stroke-width:0.48;\" x=\"102.564343\" xlink:href=\"#C0_0_ca6e7fd617\" y=\"198.299576\"/>\n    </g>\n    <g clip-path=\"url(#p299e5ebbfc)\">\n     <use style=\"fill:#386df9;stroke:#ffffff;stroke-width:0.48;\" x=\"102.564343\" xlink:href=\"#C0_0_ca6e7fd617\" y=\"198.299576\"/>\n    </g>\n    <g clip-path=\"url(#p299e5ebbfc)\">\n     <use style=\"fill:#386df9;stroke:#ffffff;stroke-width:0.48;\" x=\"103.032269\" xlink:href=\"#C0_0_ca6e7fd617\" y=\"190.11718\"/>\n    </g>\n    <g clip-path=\"url(#p299e5ebbfc)\">\n     <use style=\"fill:#386df9;stroke:#ffffff;stroke-width:0.48;\" x=\"111.851635\" xlink:href=\"#C0_0_ca6e7fd617\" y=\"195.453432\"/>\n    </g>\n    <g clip-path=\"url(#p299e5ebbfc)\">\n     <use style=\"fill:#386df9;stroke:#ffffff;stroke-width:0.48;\" x=\"85.961958\" xlink:href=\"#C0_0_ca6e7fd617\" y=\"156.692162\"/>\n    </g>\n    <g clip-path=\"url(#p299e5ebbfc)\">\n     <use style=\"fill:#386df9;stroke:#ffffff;stroke-width:0.48;\" x=\"109.947593\" xlink:href=\"#C0_0_ca6e7fd617\" y=\"208.618775\"/>\n    </g>\n    <g clip-path=\"url(#p299e5ebbfc)\">\n     <use style=\"fill:#386df9;stroke:#ffffff;stroke-width:0.48;\" x=\"109.947593\" xlink:href=\"#C0_0_ca6e7fd617\" y=\"208.618775\"/>\n    </g>\n    <g clip-path=\"url(#p299e5ebbfc)\">\n     <use style=\"fill:#386df9;stroke:#ffffff;stroke-width:0.48;\" x=\"97.715424\" xlink:href=\"#C0_0_ca6e7fd617\" y=\"147.389392\"/>\n    </g>\n    <g clip-path=\"url(#p299e5ebbfc)\">\n     <use style=\"fill:#386df9;stroke:#ffffff;stroke-width:0.48;\" x=\"97.715424\" xlink:href=\"#C0_0_ca6e7fd617\" y=\"147.389392\"/>\n    </g>\n    <g clip-path=\"url(#p299e5ebbfc)\">\n     <use style=\"fill:#386df9;stroke:#ffffff;stroke-width:0.48;\" x=\"101.127391\" xlink:href=\"#C0_0_ca6e7fd617\" y=\"197.170213\"/>\n    </g>\n    <g clip-path=\"url(#p299e5ebbfc)\">\n     <use style=\"fill:#386df9;stroke:#ffffff;stroke-width:0.48;\" x=\"101.127391\" xlink:href=\"#C0_0_ca6e7fd617\" y=\"197.170213\"/>\n    </g>\n    <g clip-path=\"url(#p299e5ebbfc)\">\n     <use style=\"fill:#386df9;stroke:#ffffff;stroke-width:0.48;\" x=\"101.127391\" xlink:href=\"#C0_0_ca6e7fd617\" y=\"197.170213\"/>\n    </g>\n    <g clip-path=\"url(#p299e5ebbfc)\">\n     <use style=\"fill:#386df9;stroke:#ffffff;stroke-width:0.48;\" x=\"101.127391\" xlink:href=\"#C0_0_ca6e7fd617\" y=\"197.170213\"/>\n    </g>\n    <g clip-path=\"url(#p299e5ebbfc)\">\n     <use style=\"fill:#386df9;stroke:#ffffff;stroke-width:0.48;\" x=\"99.580417\" xlink:href=\"#C0_0_ca6e7fd617\" y=\"148.701471\"/>\n    </g>\n    <g clip-path=\"url(#p299e5ebbfc)\">\n     <use style=\"fill:#386df9;stroke:#ffffff;stroke-width:0.48;\" x=\"99.580417\" xlink:href=\"#C0_0_ca6e7fd617\" y=\"148.701471\"/>\n    </g>\n    <g clip-path=\"url(#p299e5ebbfc)\">\n     <use style=\"fill:#386df9;stroke:#ffffff;stroke-width:0.48;\" x=\"91.229732\" xlink:href=\"#C0_0_ca6e7fd617\" y=\"136.847817\"/>\n    </g>\n    <g clip-path=\"url(#p299e5ebbfc)\">\n     <use style=\"fill:#386df9;stroke:#ffffff;stroke-width:0.48;\" x=\"91.229732\" xlink:href=\"#C0_0_ca6e7fd617\" y=\"136.847817\"/>\n    </g>\n    <g clip-path=\"url(#p299e5ebbfc)\">\n     <use style=\"fill:#386df9;stroke:#ffffff;stroke-width:0.48;\" x=\"99.162938\" xlink:href=\"#C0_0_ca6e7fd617\" y=\"155.910586\"/>\n    </g>\n    <g clip-path=\"url(#p299e5ebbfc)\">\n     <use style=\"fill:#386df9;stroke:#ffffff;stroke-width:0.48;\" x=\"99.162938\" xlink:href=\"#C0_0_ca6e7fd617\" y=\"155.910586\"/>\n    </g>\n    <g clip-path=\"url(#p299e5ebbfc)\">\n     <use style=\"fill:#386df9;stroke:#ffffff;stroke-width:0.48;\" x=\"99.162938\" xlink:href=\"#C0_0_ca6e7fd617\" y=\"155.910586\"/>\n    </g>\n    <g clip-path=\"url(#p299e5ebbfc)\">\n     <use style=\"fill:#386df9;stroke:#ffffff;stroke-width:0.48;\" x=\"102.341322\" xlink:href=\"#C0_0_ca6e7fd617\" y=\"189.998948\"/>\n    </g>\n    <g clip-path=\"url(#p299e5ebbfc)\">\n     <use style=\"fill:#386df9;stroke:#ffffff;stroke-width:0.48;\" x=\"102.341322\" xlink:href=\"#C0_0_ca6e7fd617\" y=\"189.998948\"/>\n    </g>\n    <g clip-path=\"url(#p299e5ebbfc)\">\n     <use style=\"fill:#386df9;stroke:#ffffff;stroke-width:0.48;\" x=\"102.341322\" xlink:href=\"#C0_0_ca6e7fd617\" y=\"189.998948\"/>\n    </g>\n    <g clip-path=\"url(#p299e5ebbfc)\">\n     <use style=\"fill:#386df9;stroke:#ffffff;stroke-width:0.48;\" x=\"99.740428\" xlink:href=\"#C0_0_ca6e7fd617\" y=\"150.449646\"/>\n    </g>\n    <g clip-path=\"url(#p299e5ebbfc)\">\n     <use style=\"fill:#386df9;stroke:#ffffff;stroke-width:0.48;\" x=\"105.254224\" xlink:href=\"#C0_0_ca6e7fd617\" y=\"196.127442\"/>\n    </g>\n    <g clip-path=\"url(#p299e5ebbfc)\">\n     <use style=\"fill:#386df9;stroke:#ffffff;stroke-width:0.48;\" x=\"92.370724\" xlink:href=\"#C0_0_ca6e7fd617\" y=\"118.05216\"/>\n    </g>\n    <g clip-path=\"url(#p299e5ebbfc)\">\n     <use style=\"fill:#386df9;stroke:#ffffff;stroke-width:0.48;\" x=\"92.370724\" xlink:href=\"#C0_0_ca6e7fd617\" y=\"118.05216\"/>\n    </g>\n    <g clip-path=\"url(#p299e5ebbfc)\">\n     <use style=\"fill:#386df9;stroke:#ffffff;stroke-width:0.48;\" x=\"111.108284\" xlink:href=\"#C0_0_ca6e7fd617\" y=\"187.66474\"/>\n    </g>\n    <g clip-path=\"url(#p299e5ebbfc)\">\n     <use style=\"fill:#386df9;stroke:#ffffff;stroke-width:0.48;\" x=\"93.697621\" xlink:href=\"#C0_0_ca6e7fd617\" y=\"177.643225\"/>\n    </g>\n    <g clip-path=\"url(#p299e5ebbfc)\">\n     <use style=\"fill:#386df9;stroke:#ffffff;stroke-width:0.48;\" x=\"99.825142\" xlink:href=\"#C0_0_ca6e7fd617\" y=\"155.727162\"/>\n    </g>\n    <g clip-path=\"url(#p299e5ebbfc)\">\n     <use style=\"fill:#386df9;stroke:#ffffff;stroke-width:0.48;\" x=\"107.07699\" xlink:href=\"#C0_0_ca6e7fd617\" y=\"165.043011\"/>\n    </g>\n    <g clip-path=\"url(#p299e5ebbfc)\">\n     <use style=\"fill:#386df9;stroke:#ffffff;stroke-width:0.48;\" x=\"101.598047\" xlink:href=\"#C0_0_ca6e7fd617\" y=\"159.792872\"/>\n    </g>\n    <g clip-path=\"url(#p299e5ebbfc)\">\n     <use style=\"fill:#386df9;stroke:#ffffff;stroke-width:0.48;\" x=\"101.598047\" xlink:href=\"#C0_0_ca6e7fd617\" y=\"159.792872\"/>\n    </g>\n    <g clip-path=\"url(#p299e5ebbfc)\">\n     <use style=\"fill:#386df9;stroke:#ffffff;stroke-width:0.48;\" x=\"101.598047\" xlink:href=\"#C0_0_ca6e7fd617\" y=\"159.792872\"/>\n    </g>\n    <g clip-path=\"url(#p299e5ebbfc)\">\n     <use style=\"fill:#386df9;stroke:#ffffff;stroke-width:0.48;\" x=\"93.704994\" xlink:href=\"#C0_0_ca6e7fd617\" y=\"177.658597\"/>\n    </g>\n    <g clip-path=\"url(#p299e5ebbfc)\">\n     <use style=\"fill:#386df9;stroke:#ffffff;stroke-width:0.48;\" x=\"93.704994\" xlink:href=\"#C0_0_ca6e7fd617\" y=\"177.658597\"/>\n    </g>\n    <g clip-path=\"url(#p299e5ebbfc)\">\n     <use style=\"fill:#386df9;stroke:#ffffff;stroke-width:0.48;\" x=\"112.325216\" xlink:href=\"#C0_0_ca6e7fd617\" y=\"199.743116\"/>\n    </g>\n    <g clip-path=\"url(#p299e5ebbfc)\">\n     <use style=\"fill:#386df9;stroke:#ffffff;stroke-width:0.48;\" x=\"112.325216\" xlink:href=\"#C0_0_ca6e7fd617\" y=\"199.743116\"/>\n    </g>\n    <g clip-path=\"url(#p299e5ebbfc)\">\n     <use style=\"fill:#386df9;stroke:#ffffff;stroke-width:0.48;\" x=\"93.644838\" xlink:href=\"#C0_0_ca6e7fd617\" y=\"164.208006\"/>\n    </g>\n    <g clip-path=\"url(#p299e5ebbfc)\">\n     <use style=\"fill:#386df9;stroke:#ffffff;stroke-width:0.48;\" x=\"94.75368\" xlink:href=\"#C0_0_ca6e7fd617\" y=\"107.369479\"/>\n    </g>\n    <g clip-path=\"url(#p299e5ebbfc)\">\n     <use style=\"fill:#386df9;stroke:#ffffff;stroke-width:0.48;\" x=\"95.573982\" xlink:href=\"#C0_0_ca6e7fd617\" y=\"117.598674\"/>\n    </g>\n    <g clip-path=\"url(#p299e5ebbfc)\">\n     <use style=\"fill:#386df9;stroke:#ffffff;stroke-width:0.48;\" x=\"95.573982\" xlink:href=\"#C0_0_ca6e7fd617\" y=\"117.598674\"/>\n    </g>\n    <g clip-path=\"url(#p299e5ebbfc)\">\n     <use style=\"fill:#386df9;stroke:#ffffff;stroke-width:0.48;\" x=\"98.029361\" xlink:href=\"#C0_0_ca6e7fd617\" y=\"141.695078\"/>\n    </g>\n    <g clip-path=\"url(#p299e5ebbfc)\">\n     <use style=\"fill:#386df9;stroke:#ffffff;stroke-width:0.48;\" x=\"97.31449\" xlink:href=\"#C0_0_ca6e7fd617\" y=\"115.892294\"/>\n    </g>\n    <g clip-path=\"url(#p299e5ebbfc)\">\n     <use style=\"fill:#386df9;stroke:#ffffff;stroke-width:0.48;\" x=\"105.02956\" xlink:href=\"#C0_0_ca6e7fd617\" y=\"184.602133\"/>\n    </g>\n    <g clip-path=\"url(#p299e5ebbfc)\">\n     <use style=\"fill:#386df9;stroke:#ffffff;stroke-width:0.48;\" x=\"97.330709\" xlink:href=\"#C0_0_ca6e7fd617\" y=\"185.671386\"/>\n    </g>\n    <g clip-path=\"url(#p299e5ebbfc)\">\n     <use style=\"fill:#386df9;stroke:#ffffff;stroke-width:0.48;\" x=\"97.468487\" xlink:href=\"#C0_0_ca6e7fd617\" y=\"161.453235\"/>\n    </g>\n    <g clip-path=\"url(#p299e5ebbfc)\">\n     <use style=\"fill:#386df9;stroke:#ffffff;stroke-width:0.48;\" x=\"107.127513\" xlink:href=\"#C0_0_ca6e7fd617\" y=\"165.268072\"/>\n    </g>\n    <g clip-path=\"url(#p299e5ebbfc)\">\n     <use style=\"fill:#386df9;stroke:#ffffff;stroke-width:0.48;\" x=\"107.127513\" xlink:href=\"#C0_0_ca6e7fd617\" y=\"165.268072\"/>\n    </g>\n    <g clip-path=\"url(#p299e5ebbfc)\">\n     <use style=\"fill:#386df9;stroke:#ffffff;stroke-width:0.48;\" x=\"98.854004\" xlink:href=\"#C0_0_ca6e7fd617\" y=\"156.571652\"/>\n    </g>\n    <g clip-path=\"url(#p299e5ebbfc)\">\n     <use style=\"fill:#386df9;stroke:#ffffff;stroke-width:0.48;\" x=\"98.854004\" xlink:href=\"#C0_0_ca6e7fd617\" y=\"156.571652\"/>\n    </g>\n    <g clip-path=\"url(#p299e5ebbfc)\">\n     <use style=\"fill:#386df9;stroke:#ffffff;stroke-width:0.48;\" x=\"103.251137\" xlink:href=\"#C0_0_ca6e7fd617\" y=\"156.956889\"/>\n    </g>\n    <g clip-path=\"url(#p299e5ebbfc)\">\n     <use style=\"fill:#386df9;stroke:#ffffff;stroke-width:0.48;\" x=\"110.991959\" xlink:href=\"#C0_0_ca6e7fd617\" y=\"167.397192\"/>\n    </g>\n    <g clip-path=\"url(#p299e5ebbfc)\">\n     <use style=\"fill:#386df9;stroke:#ffffff;stroke-width:0.48;\" x=\"106.403526\" xlink:href=\"#C0_0_ca6e7fd617\" y=\"188.561065\"/>\n    </g>\n    <g clip-path=\"url(#p299e5ebbfc)\">\n     <use style=\"fill:#386df9;stroke:#ffffff;stroke-width:0.48;\" x=\"105.796763\" xlink:href=\"#C0_0_ca6e7fd617\" y=\"154.559887\"/>\n    </g>\n    <g clip-path=\"url(#p299e5ebbfc)\">\n     <use style=\"fill:#386df9;stroke:#ffffff;stroke-width:0.48;\" x=\"106.040499\" xlink:href=\"#C0_0_ca6e7fd617\" y=\"174.102424\"/>\n    </g>\n    <g clip-path=\"url(#p299e5ebbfc)\">\n     <use style=\"fill:#386df9;stroke:#ffffff;stroke-width:0.48;\" x=\"106.040499\" xlink:href=\"#C0_0_ca6e7fd617\" y=\"174.102424\"/>\n    </g>\n    <g clip-path=\"url(#p299e5ebbfc)\">\n     <use style=\"fill:#386df9;stroke:#ffffff;stroke-width:0.48;\" x=\"98.554867\" xlink:href=\"#C0_0_ca6e7fd617\" y=\"134.151783\"/>\n    </g>\n    <g clip-path=\"url(#p299e5ebbfc)\">\n     <use style=\"fill:#386df9;stroke:#ffffff;stroke-width:0.48;\" x=\"98.554867\" xlink:href=\"#C0_0_ca6e7fd617\" y=\"134.151783\"/>\n    </g>\n    <g clip-path=\"url(#p299e5ebbfc)\">\n     <use style=\"fill:#386df9;stroke:#ffffff;stroke-width:0.48;\" x=\"98.554867\" xlink:href=\"#C0_0_ca6e7fd617\" y=\"134.151783\"/>\n    </g>\n    <g clip-path=\"url(#p299e5ebbfc)\">\n     <use style=\"fill:#386df9;stroke:#ffffff;stroke-width:0.48;\" x=\"98.554867\" xlink:href=\"#C0_0_ca6e7fd617\" y=\"134.151783\"/>\n    </g>\n    <g clip-path=\"url(#p299e5ebbfc)\">\n     <use style=\"fill:#386df9;stroke:#ffffff;stroke-width:0.48;\" x=\"98.554867\" xlink:href=\"#C0_0_ca6e7fd617\" y=\"134.151783\"/>\n    </g>\n    <g clip-path=\"url(#p299e5ebbfc)\">\n     <use style=\"fill:#386df9;stroke:#ffffff;stroke-width:0.48;\" x=\"112.260591\" xlink:href=\"#C0_0_ca6e7fd617\" y=\"187.016861\"/>\n    </g>\n    <g clip-path=\"url(#p299e5ebbfc)\">\n     <use style=\"fill:#386df9;stroke:#ffffff;stroke-width:0.48;\" x=\"98.362277\" xlink:href=\"#C0_0_ca6e7fd617\" y=\"176.376517\"/>\n    </g>\n    <g clip-path=\"url(#p299e5ebbfc)\">\n     <use style=\"fill:#386df9;stroke:#ffffff;stroke-width:0.48;\" x=\"103.179088\" xlink:href=\"#C0_0_ca6e7fd617\" y=\"173.11907\"/>\n    </g>\n    <g clip-path=\"url(#p299e5ebbfc)\">\n     <use style=\"fill:#386df9;stroke:#ffffff;stroke-width:0.48;\" x=\"103.179088\" xlink:href=\"#C0_0_ca6e7fd617\" y=\"173.11907\"/>\n    </g>\n    <g clip-path=\"url(#p299e5ebbfc)\">\n     <use style=\"fill:#386df9;stroke:#ffffff;stroke-width:0.48;\" x=\"106.034021\" xlink:href=\"#C0_0_ca6e7fd617\" y=\"173.471077\"/>\n    </g>\n    <g clip-path=\"url(#p299e5ebbfc)\">\n     <use style=\"fill:#386df9;stroke:#ffffff;stroke-width:0.48;\" x=\"108.147256\" xlink:href=\"#C0_0_ca6e7fd617\" y=\"190.541647\"/>\n    </g>\n    <g clip-path=\"url(#p299e5ebbfc)\">\n     <use style=\"fill:#386df9;stroke:#ffffff;stroke-width:0.48;\" x=\"108.147256\" xlink:href=\"#C0_0_ca6e7fd617\" y=\"190.541647\"/>\n    </g>\n    <g clip-path=\"url(#p299e5ebbfc)\">\n     <use style=\"fill:#386df9;stroke:#ffffff;stroke-width:0.48;\" x=\"108.147256\" xlink:href=\"#C0_0_ca6e7fd617\" y=\"190.541647\"/>\n    </g>\n    <g clip-path=\"url(#p299e5ebbfc)\">\n     <use style=\"fill:#386df9;stroke:#ffffff;stroke-width:0.48;\" x=\"105.08297\" xlink:href=\"#C0_0_ca6e7fd617\" y=\"172.607415\"/>\n    </g>\n    <g clip-path=\"url(#p299e5ebbfc)\">\n     <use style=\"fill:#386df9;stroke:#ffffff;stroke-width:0.48;\" x=\"105.08297\" xlink:href=\"#C0_0_ca6e7fd617\" y=\"172.607415\"/>\n    </g>\n    <g clip-path=\"url(#p299e5ebbfc)\">\n     <use style=\"fill:#386df9;stroke:#ffffff;stroke-width:0.48;\" x=\"105.08297\" xlink:href=\"#C0_0_ca6e7fd617\" y=\"172.607415\"/>\n    </g>\n    <g clip-path=\"url(#p299e5ebbfc)\">\n     <use style=\"fill:#386df9;stroke:#ffffff;stroke-width:0.48;\" x=\"105.08297\" xlink:href=\"#C0_0_ca6e7fd617\" y=\"172.607415\"/>\n    </g>\n    <g clip-path=\"url(#p299e5ebbfc)\">\n     <use style=\"fill:#386df9;stroke:#ffffff;stroke-width:0.48;\" x=\"108.310054\" xlink:href=\"#C0_0_ca6e7fd617\" y=\"187.98554\"/>\n    </g>\n    <g clip-path=\"url(#p299e5ebbfc)\">\n     <use style=\"fill:#386df9;stroke:#ffffff;stroke-width:0.48;\" x=\"112.298398\" xlink:href=\"#C0_0_ca6e7fd617\" y=\"183.29925\"/>\n    </g>\n    <g clip-path=\"url(#p299e5ebbfc)\">\n     <use style=\"fill:#386df9;stroke:#ffffff;stroke-width:0.48;\" x=\"100.661521\" xlink:href=\"#C0_0_ca6e7fd617\" y=\"193.654598\"/>\n    </g>\n    <g clip-path=\"url(#p299e5ebbfc)\">\n     <use style=\"fill:#386df9;stroke:#ffffff;stroke-width:0.48;\" x=\"100.661521\" xlink:href=\"#C0_0_ca6e7fd617\" y=\"193.654598\"/>\n    </g>\n    <g clip-path=\"url(#p299e5ebbfc)\">\n     <use style=\"fill:#386df9;stroke:#ffffff;stroke-width:0.48;\" x=\"100.661521\" xlink:href=\"#C0_0_ca6e7fd617\" y=\"193.654598\"/>\n    </g>\n    <g clip-path=\"url(#p299e5ebbfc)\">\n     <use style=\"fill:#386df9;stroke:#ffffff;stroke-width:0.48;\" x=\"93.515528\" xlink:href=\"#C0_0_ca6e7fd617\" y=\"105.878595\"/>\n    </g>\n    <g clip-path=\"url(#p299e5ebbfc)\">\n     <use style=\"fill:#386df9;stroke:#ffffff;stroke-width:0.48;\" x=\"93.515528\" xlink:href=\"#C0_0_ca6e7fd617\" y=\"105.878595\"/>\n    </g>\n    <g clip-path=\"url(#p299e5ebbfc)\">\n     <use style=\"fill:#386df9;stroke:#ffffff;stroke-width:0.48;\" x=\"100.228319\" xlink:href=\"#C0_0_ca6e7fd617\" y=\"148.909222\"/>\n    </g>\n    <g clip-path=\"url(#p299e5ebbfc)\">\n     <use style=\"fill:#386df9;stroke:#ffffff;stroke-width:0.48;\" x=\"100.228319\" xlink:href=\"#C0_0_ca6e7fd617\" y=\"148.909222\"/>\n    </g>\n    <g clip-path=\"url(#p299e5ebbfc)\">\n     <use style=\"fill:#386df9;stroke:#ffffff;stroke-width:0.48;\" x=\"100.228319\" xlink:href=\"#C0_0_ca6e7fd617\" y=\"148.909222\"/>\n    </g>\n    <g clip-path=\"url(#p299e5ebbfc)\">\n     <use style=\"fill:#386df9;stroke:#ffffff;stroke-width:0.48;\" x=\"91.699816\" xlink:href=\"#C0_0_ca6e7fd617\" y=\"142.850677\"/>\n    </g>\n    <g clip-path=\"url(#p299e5ebbfc)\">\n     <use style=\"fill:#386df9;stroke:#ffffff;stroke-width:0.48;\" x=\"104.357074\" xlink:href=\"#C0_0_ca6e7fd617\" y=\"186.890191\"/>\n    </g>\n    <g clip-path=\"url(#p299e5ebbfc)\">\n     <use style=\"fill:#386df9;stroke:#ffffff;stroke-width:0.48;\" x=\"104.357074\" xlink:href=\"#C0_0_ca6e7fd617\" y=\"186.890191\"/>\n    </g>\n    <g clip-path=\"url(#p299e5ebbfc)\">\n     <use style=\"fill:#386df9;stroke:#ffffff;stroke-width:0.48;\" x=\"92.469703\" xlink:href=\"#C0_0_ca6e7fd617\" y=\"158.396286\"/>\n    </g>\n    <g clip-path=\"url(#p299e5ebbfc)\">\n     <use style=\"fill:#386df9;stroke:#ffffff;stroke-width:0.48;\" x=\"92.469703\" xlink:href=\"#C0_0_ca6e7fd617\" y=\"158.396286\"/>\n    </g>\n    <g clip-path=\"url(#p299e5ebbfc)\">\n     <use style=\"fill:#386df9;stroke:#ffffff;stroke-width:0.48;\" x=\"104.548008\" xlink:href=\"#C0_0_ca6e7fd617\" y=\"176.37975\"/>\n    </g>\n    <g clip-path=\"url(#p299e5ebbfc)\">\n     <use style=\"fill:#386df9;stroke:#ffffff;stroke-width:0.48;\" x=\"90.993862\" xlink:href=\"#C0_0_ca6e7fd617\" y=\"101.836873\"/>\n    </g>\n    <g clip-path=\"url(#p299e5ebbfc)\">\n     <use style=\"fill:#386df9;stroke:#ffffff;stroke-width:0.48;\" x=\"90.993862\" xlink:href=\"#C0_0_ca6e7fd617\" y=\"101.836873\"/>\n    </g>\n    <g clip-path=\"url(#p299e5ebbfc)\">\n     <use style=\"fill:#386df9;stroke:#ffffff;stroke-width:0.48;\" x=\"98.637052\" xlink:href=\"#C0_0_ca6e7fd617\" y=\"169.290488\"/>\n    </g>\n    <g clip-path=\"url(#p299e5ebbfc)\">\n     <use style=\"fill:#386df9;stroke:#ffffff;stroke-width:0.48;\" x=\"98.637052\" xlink:href=\"#C0_0_ca6e7fd617\" y=\"169.290488\"/>\n    </g>\n    <g clip-path=\"url(#p299e5ebbfc)\">\n     <use style=\"fill:#386df9;stroke:#ffffff;stroke-width:0.48;\" x=\"93.883856\" xlink:href=\"#C0_0_ca6e7fd617\" y=\"131.6087\"/>\n    </g>\n    <g clip-path=\"url(#p299e5ebbfc)\">\n     <use style=\"fill:#386df9;stroke:#ffffff;stroke-width:0.48;\" x=\"93.883856\" xlink:href=\"#C0_0_ca6e7fd617\" y=\"131.6087\"/>\n    </g>\n    <g clip-path=\"url(#p299e5ebbfc)\">\n     <use style=\"fill:#386df9;stroke:#ffffff;stroke-width:0.48;\" x=\"93.883856\" xlink:href=\"#C0_0_ca6e7fd617\" y=\"131.6087\"/>\n    </g>\n    <g clip-path=\"url(#p299e5ebbfc)\">\n     <use style=\"fill:#386df9;stroke:#ffffff;stroke-width:0.48;\" x=\"96.248769\" xlink:href=\"#C0_0_ca6e7fd617\" y=\"169.87002\"/>\n    </g>\n    <g clip-path=\"url(#p299e5ebbfc)\">\n     <use style=\"fill:#386df9;stroke:#ffffff;stroke-width:0.48;\" x=\"109.618306\" xlink:href=\"#C0_0_ca6e7fd617\" y=\"136.466261\"/>\n    </g>\n    <g clip-path=\"url(#p299e5ebbfc)\">\n     <use style=\"fill:#386df9;stroke:#ffffff;stroke-width:0.48;\" x=\"104.676617\" xlink:href=\"#C0_0_ca6e7fd617\" y=\"158.137675\"/>\n    </g>\n    <g clip-path=\"url(#p299e5ebbfc)\">\n     <use style=\"fill:#386df9;stroke:#ffffff;stroke-width:0.48;\" x=\"98.92602\" xlink:href=\"#C0_0_ca6e7fd617\" y=\"180.696777\"/>\n    </g>\n    <g clip-path=\"url(#p299e5ebbfc)\">\n     <use style=\"fill:#386df9;stroke:#ffffff;stroke-width:0.48;\" x=\"98.92602\" xlink:href=\"#C0_0_ca6e7fd617\" y=\"180.696777\"/>\n    </g>\n    <g clip-path=\"url(#p299e5ebbfc)\">\n     <use style=\"fill:#386df9;stroke:#ffffff;stroke-width:0.48;\" x=\"101.98539\" xlink:href=\"#C0_0_ca6e7fd617\" y=\"189.306299\"/>\n    </g>\n    <g clip-path=\"url(#p299e5ebbfc)\">\n     <use style=\"fill:#386df9;stroke:#ffffff;stroke-width:0.48;\" x=\"105.865218\" xlink:href=\"#C0_0_ca6e7fd617\" y=\"156.815131\"/>\n    </g>\n    <g clip-path=\"url(#p299e5ebbfc)\">\n     <use style=\"fill:#386df9;stroke:#ffffff;stroke-width:0.48;\" x=\"105.865218\" xlink:href=\"#C0_0_ca6e7fd617\" y=\"156.815131\"/>\n    </g>\n    <g clip-path=\"url(#p299e5ebbfc)\">\n     <use style=\"fill:#386df9;stroke:#ffffff;stroke-width:0.48;\" x=\"105.865218\" xlink:href=\"#C0_0_ca6e7fd617\" y=\"156.815131\"/>\n    </g>\n    <g clip-path=\"url(#p299e5ebbfc)\">\n     <use style=\"fill:#386df9;stroke:#ffffff;stroke-width:0.48;\" x=\"89.141567\" xlink:href=\"#C0_0_ca6e7fd617\" y=\"141.17898\"/>\n    </g>\n    <g clip-path=\"url(#p299e5ebbfc)\">\n     <use style=\"fill:#386df9;stroke:#ffffff;stroke-width:0.48;\" x=\"104.681477\" xlink:href=\"#C0_0_ca6e7fd617\" y=\"173.852937\"/>\n    </g>\n    <g clip-path=\"url(#p299e5ebbfc)\">\n     <use style=\"fill:#386df9;stroke:#ffffff;stroke-width:0.48;\" x=\"114.119529\" xlink:href=\"#C0_0_ca6e7fd617\" y=\"165.23023\"/>\n    </g>\n    <g clip-path=\"url(#p299e5ebbfc)\">\n     <use style=\"fill:#386df9;stroke:#ffffff;stroke-width:0.48;\" x=\"102.143399\" xlink:href=\"#C0_0_ca6e7fd617\" y=\"150.808448\"/>\n    </g>\n    <g clip-path=\"url(#p299e5ebbfc)\">\n     <use style=\"fill:#386df9;stroke:#ffffff;stroke-width:0.48;\" x=\"102.143399\" xlink:href=\"#C0_0_ca6e7fd617\" y=\"150.808448\"/>\n    </g>\n    <g clip-path=\"url(#p299e5ebbfc)\">\n     <use style=\"fill:#386df9;stroke:#ffffff;stroke-width:0.48;\" x=\"100.025121\" xlink:href=\"#C0_0_ca6e7fd617\" y=\"135.184596\"/>\n    </g>\n    <g clip-path=\"url(#p299e5ebbfc)\">\n     <use style=\"fill:#386df9;stroke:#ffffff;stroke-width:0.48;\" x=\"100.025121\" xlink:href=\"#C0_0_ca6e7fd617\" y=\"135.184596\"/>\n    </g>\n    <g clip-path=\"url(#p299e5ebbfc)\">\n     <use style=\"fill:#386df9;stroke:#ffffff;stroke-width:0.48;\" x=\"100.025121\" xlink:href=\"#C0_0_ca6e7fd617\" y=\"135.184596\"/>\n    </g>\n    <g clip-path=\"url(#p299e5ebbfc)\">\n     <use style=\"fill:#386df9;stroke:#ffffff;stroke-width:0.48;\" x=\"100.025121\" xlink:href=\"#C0_0_ca6e7fd617\" y=\"135.184596\"/>\n    </g>\n    <g clip-path=\"url(#p299e5ebbfc)\">\n     <use style=\"fill:#386df9;stroke:#ffffff;stroke-width:0.48;\" x=\"100.453653\" xlink:href=\"#C0_0_ca6e7fd617\" y=\"120.936816\"/>\n    </g>\n    <g clip-path=\"url(#p299e5ebbfc)\">\n     <use style=\"fill:#386df9;stroke:#ffffff;stroke-width:0.48;\" x=\"100.453653\" xlink:href=\"#C0_0_ca6e7fd617\" y=\"120.936816\"/>\n    </g>\n    <g clip-path=\"url(#p299e5ebbfc)\">\n     <use style=\"fill:#386df9;stroke:#ffffff;stroke-width:0.48;\" x=\"100.453653\" xlink:href=\"#C0_0_ca6e7fd617\" y=\"120.936816\"/>\n    </g>\n    <g clip-path=\"url(#p299e5ebbfc)\">\n     <use style=\"fill:#386df9;stroke:#ffffff;stroke-width:0.48;\" x=\"100.453653\" xlink:href=\"#C0_0_ca6e7fd617\" y=\"120.936816\"/>\n    </g>\n    <g clip-path=\"url(#p299e5ebbfc)\">\n     <use style=\"fill:#386df9;stroke:#ffffff;stroke-width:0.48;\" x=\"102.621173\" xlink:href=\"#C0_0_ca6e7fd617\" y=\"178.617186\"/>\n    </g>\n    <g clip-path=\"url(#p299e5ebbfc)\">\n     <use style=\"fill:#386df9;stroke:#ffffff;stroke-width:0.48;\" x=\"106.951434\" xlink:href=\"#C0_0_ca6e7fd617\" y=\"170.162867\"/>\n    </g>\n    <g clip-path=\"url(#p299e5ebbfc)\">\n     <use style=\"fill:#386df9;stroke:#ffffff;stroke-width:0.48;\" x=\"109.261154\" xlink:href=\"#C0_0_ca6e7fd617\" y=\"194.386466\"/>\n    </g>\n    <g clip-path=\"url(#p299e5ebbfc)\">\n     <use style=\"fill:#386df9;stroke:#ffffff;stroke-width:0.48;\" x=\"111.207388\" xlink:href=\"#C0_0_ca6e7fd617\" y=\"169.371557\"/>\n    </g>\n    <g clip-path=\"url(#p299e5ebbfc)\">\n     <use style=\"fill:#386df9;stroke:#ffffff;stroke-width:0.48;\" x=\"111.207388\" xlink:href=\"#C0_0_ca6e7fd617\" y=\"169.371557\"/>\n    </g>\n    <g clip-path=\"url(#p299e5ebbfc)\">\n     <use style=\"fill:#386df9;stroke:#ffffff;stroke-width:0.48;\" x=\"111.207388\" xlink:href=\"#C0_0_ca6e7fd617\" y=\"169.371557\"/>\n    </g>\n    <g clip-path=\"url(#p299e5ebbfc)\">\n     <use style=\"fill:#386df9;stroke:#ffffff;stroke-width:0.48;\" x=\"111.207388\" xlink:href=\"#C0_0_ca6e7fd617\" y=\"169.371557\"/>\n    </g>\n    <g clip-path=\"url(#p299e5ebbfc)\">\n     <use style=\"fill:#386df9;stroke:#ffffff;stroke-width:0.48;\" x=\"111.207388\" xlink:href=\"#C0_0_ca6e7fd617\" y=\"169.371557\"/>\n    </g>\n    <g clip-path=\"url(#p299e5ebbfc)\">\n     <use style=\"fill:#386df9;stroke:#ffffff;stroke-width:0.48;\" x=\"98.687919\" xlink:href=\"#C0_0_ca6e7fd617\" y=\"171.985203\"/>\n    </g>\n    <g clip-path=\"url(#p299e5ebbfc)\">\n     <use style=\"fill:#386df9;stroke:#ffffff;stroke-width:0.48;\" x=\"101.636467\" xlink:href=\"#C0_0_ca6e7fd617\" y=\"117.957298\"/>\n    </g>\n    <g clip-path=\"url(#p299e5ebbfc)\">\n     <use style=\"fill:#386df9;stroke:#ffffff;stroke-width:0.48;\" x=\"101.636467\" xlink:href=\"#C0_0_ca6e7fd617\" y=\"117.957298\"/>\n    </g>\n    <g clip-path=\"url(#p299e5ebbfc)\">\n     <use style=\"fill:#386df9;stroke:#ffffff;stroke-width:0.48;\" x=\"101.632818\" xlink:href=\"#C0_0_ca6e7fd617\" y=\"155.137124\"/>\n    </g>\n    <g clip-path=\"url(#p299e5ebbfc)\">\n     <use style=\"fill:#386df9;stroke:#ffffff;stroke-width:0.48;\" x=\"102.991584\" xlink:href=\"#C0_0_ca6e7fd617\" y=\"160.822595\"/>\n    </g>\n    <g clip-path=\"url(#p299e5ebbfc)\">\n     <use style=\"fill:#386df9;stroke:#ffffff;stroke-width:0.48;\" x=\"102.991584\" xlink:href=\"#C0_0_ca6e7fd617\" y=\"160.822595\"/>\n    </g>\n    <g clip-path=\"url(#p299e5ebbfc)\">\n     <use style=\"fill:#386df9;stroke:#ffffff;stroke-width:0.48;\" x=\"102.991584\" xlink:href=\"#C0_0_ca6e7fd617\" y=\"160.822595\"/>\n    </g>\n    <g clip-path=\"url(#p299e5ebbfc)\">\n     <use style=\"fill:#386df9;stroke:#ffffff;stroke-width:0.48;\" x=\"104.719011\" xlink:href=\"#C0_0_ca6e7fd617\" y=\"200.473314\"/>\n    </g>\n    <g clip-path=\"url(#p299e5ebbfc)\">\n     <use style=\"fill:#386df9;stroke:#ffffff;stroke-width:0.48;\" x=\"105.760922\" xlink:href=\"#C0_0_ca6e7fd617\" y=\"181.957562\"/>\n    </g>\n    <g clip-path=\"url(#p299e5ebbfc)\">\n     <use style=\"fill:#386df9;stroke:#ffffff;stroke-width:0.48;\" x=\"105.760922\" xlink:href=\"#C0_0_ca6e7fd617\" y=\"181.957562\"/>\n    </g>\n    <g clip-path=\"url(#p299e5ebbfc)\">\n     <use style=\"fill:#386df9;stroke:#ffffff;stroke-width:0.48;\" x=\"99.06249\" xlink:href=\"#C0_0_ca6e7fd617\" y=\"153.517838\"/>\n    </g>\n    <g clip-path=\"url(#p299e5ebbfc)\">\n     <use style=\"fill:#386df9;stroke:#ffffff;stroke-width:0.48;\" x=\"108.364244\" xlink:href=\"#C0_0_ca6e7fd617\" y=\"168.65084\"/>\n    </g>\n    <g clip-path=\"url(#p299e5ebbfc)\">\n     <use style=\"fill:#386df9;stroke:#ffffff;stroke-width:0.48;\" x=\"108.364244\" xlink:href=\"#C0_0_ca6e7fd617\" y=\"168.65084\"/>\n    </g>\n    <g clip-path=\"url(#p299e5ebbfc)\">\n     <use style=\"fill:#386df9;stroke:#ffffff;stroke-width:0.48;\" x=\"108.364244\" xlink:href=\"#C0_0_ca6e7fd617\" y=\"168.65084\"/>\n    </g>\n    <g clip-path=\"url(#p299e5ebbfc)\">\n     <use style=\"fill:#386df9;stroke:#ffffff;stroke-width:0.48;\" x=\"101.906642\" xlink:href=\"#C0_0_ca6e7fd617\" y=\"163.32275\"/>\n    </g>\n    <g clip-path=\"url(#p299e5ebbfc)\">\n     <use style=\"fill:#386df9;stroke:#ffffff;stroke-width:0.48;\" x=\"101.906642\" xlink:href=\"#C0_0_ca6e7fd617\" y=\"163.32275\"/>\n    </g>\n    <g clip-path=\"url(#p299e5ebbfc)\">\n     <use style=\"fill:#386df9;stroke:#ffffff;stroke-width:0.48;\" x=\"101.906642\" xlink:href=\"#C0_0_ca6e7fd617\" y=\"163.32275\"/>\n    </g>\n    <g clip-path=\"url(#p299e5ebbfc)\">\n     <use style=\"fill:#386df9;stroke:#ffffff;stroke-width:0.48;\" x=\"102.89741\" xlink:href=\"#C0_0_ca6e7fd617\" y=\"197.623167\"/>\n    </g>\n    <g clip-path=\"url(#p299e5ebbfc)\">\n     <use style=\"fill:#386df9;stroke:#ffffff;stroke-width:0.48;\" x=\"102.89741\" xlink:href=\"#C0_0_ca6e7fd617\" y=\"197.623167\"/>\n    </g>\n    <g clip-path=\"url(#p299e5ebbfc)\">\n     <use style=\"fill:#386df9;stroke:#ffffff;stroke-width:0.48;\" x=\"111.476148\" xlink:href=\"#C0_0_ca6e7fd617\" y=\"198.492009\"/>\n    </g>\n    <g clip-path=\"url(#p299e5ebbfc)\">\n     <use style=\"fill:#386df9;stroke:#ffffff;stroke-width:0.48;\" x=\"95.335934\" xlink:href=\"#C0_0_ca6e7fd617\" y=\"138.437579\"/>\n    </g>\n    <g clip-path=\"url(#p299e5ebbfc)\">\n     <use style=\"fill:#386df9;stroke:#ffffff;stroke-width:0.48;\" x=\"95.335934\" xlink:href=\"#C0_0_ca6e7fd617\" y=\"138.437579\"/>\n    </g>\n    <g clip-path=\"url(#p299e5ebbfc)\">\n     <use style=\"fill:#386df9;stroke:#ffffff;stroke-width:0.48;\" x=\"95.335934\" xlink:href=\"#C0_0_ca6e7fd617\" y=\"138.437579\"/>\n    </g>\n    <g clip-path=\"url(#p299e5ebbfc)\">\n     <use style=\"fill:#386df9;stroke:#ffffff;stroke-width:0.48;\" x=\"106.619911\" xlink:href=\"#C0_0_ca6e7fd617\" y=\"197.531909\"/>\n    </g>\n    <g clip-path=\"url(#p299e5ebbfc)\">\n     <use style=\"fill:#386df9;stroke:#ffffff;stroke-width:0.48;\" x=\"106.619911\" xlink:href=\"#C0_0_ca6e7fd617\" y=\"197.531909\"/>\n    </g>\n    <g clip-path=\"url(#p299e5ebbfc)\">\n     <use style=\"fill:#386df9;stroke:#ffffff;stroke-width:0.48;\" x=\"106.619911\" xlink:href=\"#C0_0_ca6e7fd617\" y=\"197.531909\"/>\n    </g>\n    <g clip-path=\"url(#p299e5ebbfc)\">\n     <use style=\"fill:#386df9;stroke:#ffffff;stroke-width:0.48;\" x=\"79.456028\" xlink:href=\"#C0_0_ca6e7fd617\" y=\"39.707329\"/>\n    </g>\n    <g clip-path=\"url(#p299e5ebbfc)\">\n     <use style=\"fill:#386df9;stroke:#ffffff;stroke-width:0.48;\" x=\"79.456028\" xlink:href=\"#C0_0_ca6e7fd617\" y=\"39.707329\"/>\n    </g>\n    <g clip-path=\"url(#p299e5ebbfc)\">\n     <use style=\"fill:#386df9;stroke:#ffffff;stroke-width:0.48;\" x=\"79.456028\" xlink:href=\"#C0_0_ca6e7fd617\" y=\"39.707329\"/>\n    </g>\n    <g clip-path=\"url(#p299e5ebbfc)\">\n     <use style=\"fill:#386df9;stroke:#ffffff;stroke-width:0.48;\" x=\"79.456028\" xlink:href=\"#C0_0_ca6e7fd617\" y=\"39.707329\"/>\n    </g>\n    <g clip-path=\"url(#p299e5ebbfc)\">\n     <use style=\"fill:#386df9;stroke:#ffffff;stroke-width:0.48;\" x=\"111.445932\" xlink:href=\"#C0_0_ca6e7fd617\" y=\"194.657796\"/>\n    </g>\n    <g clip-path=\"url(#p299e5ebbfc)\">\n     <use style=\"fill:#386df9;stroke:#ffffff;stroke-width:0.48;\" x=\"109.210378\" xlink:href=\"#C0_0_ca6e7fd617\" y=\"203.912341\"/>\n    </g>\n    <g clip-path=\"url(#p299e5ebbfc)\">\n     <use style=\"fill:#386df9;stroke:#ffffff;stroke-width:0.48;\" x=\"109.210378\" xlink:href=\"#C0_0_ca6e7fd617\" y=\"203.912341\"/>\n    </g>\n    <g clip-path=\"url(#p299e5ebbfc)\">\n     <use style=\"fill:#386df9;stroke:#ffffff;stroke-width:0.48;\" x=\"109.210378\" xlink:href=\"#C0_0_ca6e7fd617\" y=\"203.912341\"/>\n    </g>\n    <g clip-path=\"url(#p299e5ebbfc)\">\n     <use style=\"fill:#386df9;stroke:#ffffff;stroke-width:0.48;\" x=\"109.210378\" xlink:href=\"#C0_0_ca6e7fd617\" y=\"203.912341\"/>\n    </g>\n    <g clip-path=\"url(#p299e5ebbfc)\">\n     <use style=\"fill:#386df9;stroke:#ffffff;stroke-width:0.48;\" x=\"109.210378\" xlink:href=\"#C0_0_ca6e7fd617\" y=\"203.912341\"/>\n    </g>\n    <g clip-path=\"url(#p299e5ebbfc)\">\n     <use style=\"fill:#386df9;stroke:#ffffff;stroke-width:0.48;\" x=\"109.210378\" xlink:href=\"#C0_0_ca6e7fd617\" y=\"203.912341\"/>\n    </g>\n    <g clip-path=\"url(#p299e5ebbfc)\">\n     <use style=\"fill:#386df9;stroke:#ffffff;stroke-width:0.48;\" x=\"120.727627\" xlink:href=\"#C0_0_ca6e7fd617\" y=\"204.345034\"/>\n    </g>\n    <g clip-path=\"url(#p299e5ebbfc)\">\n     <use style=\"fill:#386df9;stroke:#ffffff;stroke-width:0.48;\" x=\"120.727627\" xlink:href=\"#C0_0_ca6e7fd617\" y=\"204.345034\"/>\n    </g>\n    <g clip-path=\"url(#p299e5ebbfc)\">\n     <use style=\"fill:#386df9;stroke:#ffffff;stroke-width:0.48;\" x=\"113.795531\" xlink:href=\"#C0_0_ca6e7fd617\" y=\"173.362068\"/>\n    </g>\n    <g clip-path=\"url(#p299e5ebbfc)\">\n     <use style=\"fill:#386df9;stroke:#ffffff;stroke-width:0.48;\" x=\"97.908605\" xlink:href=\"#C0_0_ca6e7fd617\" y=\"186.718428\"/>\n    </g>\n    <g clip-path=\"url(#p299e5ebbfc)\">\n     <use style=\"fill:#386df9;stroke:#ffffff;stroke-width:0.48;\" x=\"97.908605\" xlink:href=\"#C0_0_ca6e7fd617\" y=\"186.718428\"/>\n    </g>\n    <g clip-path=\"url(#p299e5ebbfc)\">\n     <use style=\"fill:#386df9;stroke:#ffffff;stroke-width:0.48;\" x=\"105.077642\" xlink:href=\"#C0_0_ca6e7fd617\" y=\"191.82441\"/>\n    </g>\n    <g clip-path=\"url(#p299e5ebbfc)\">\n     <use style=\"fill:#386df9;stroke:#ffffff;stroke-width:0.48;\" x=\"106.028211\" xlink:href=\"#C0_0_ca6e7fd617\" y=\"183.320689\"/>\n    </g>\n    <g clip-path=\"url(#p299e5ebbfc)\">\n     <use style=\"fill:#386df9;stroke:#ffffff;stroke-width:0.48;\" x=\"104.762636\" xlink:href=\"#C0_0_ca6e7fd617\" y=\"171.140703\"/>\n    </g>\n    <g clip-path=\"url(#p299e5ebbfc)\">\n     <use style=\"fill:#386df9;stroke:#ffffff;stroke-width:0.48;\" x=\"99.857772\" xlink:href=\"#C0_0_ca6e7fd617\" y=\"148.029327\"/>\n    </g>\n    <g clip-path=\"url(#p299e5ebbfc)\">\n     <use style=\"fill:#386df9;stroke:#ffffff;stroke-width:0.48;\" x=\"97.642157\" xlink:href=\"#C0_0_ca6e7fd617\" y=\"127.397973\"/>\n    </g>\n    <g clip-path=\"url(#p299e5ebbfc)\">\n     <use style=\"fill:#386df9;stroke:#ffffff;stroke-width:0.48;\" x=\"97.642157\" xlink:href=\"#C0_0_ca6e7fd617\" y=\"127.397973\"/>\n    </g>\n    <g clip-path=\"url(#p299e5ebbfc)\">\n     <use style=\"fill:#386df9;stroke:#ffffff;stroke-width:0.48;\" x=\"97.642157\" xlink:href=\"#C0_0_ca6e7fd617\" y=\"127.397973\"/>\n    </g>\n    <g clip-path=\"url(#p299e5ebbfc)\">\n     <use style=\"fill:#386df9;stroke:#ffffff;stroke-width:0.48;\" x=\"97.642157\" xlink:href=\"#C0_0_ca6e7fd617\" y=\"127.397973\"/>\n    </g>\n    <g clip-path=\"url(#p299e5ebbfc)\">\n     <use style=\"fill:#386df9;stroke:#ffffff;stroke-width:0.48;\" x=\"97.642157\" xlink:href=\"#C0_0_ca6e7fd617\" y=\"127.397973\"/>\n    </g>\n    <g clip-path=\"url(#p299e5ebbfc)\">\n     <use style=\"fill:#386df9;stroke:#ffffff;stroke-width:0.48;\" x=\"106.308702\" xlink:href=\"#C0_0_ca6e7fd617\" y=\"160.197083\"/>\n    </g>\n    <g clip-path=\"url(#p299e5ebbfc)\">\n     <use style=\"fill:#386df9;stroke:#ffffff;stroke-width:0.48;\" x=\"97.465778\" xlink:href=\"#C0_0_ca6e7fd617\" y=\"161.447588\"/>\n    </g>\n    <g clip-path=\"url(#p299e5ebbfc)\">\n     <use style=\"fill:#386df9;stroke:#ffffff;stroke-width:0.48;\" x=\"100.484277\" xlink:href=\"#C0_0_ca6e7fd617\" y=\"176.177324\"/>\n    </g>\n    <g clip-path=\"url(#p299e5ebbfc)\">\n     <use style=\"fill:#386df9;stroke:#ffffff;stroke-width:0.48;\" x=\"99.122763\" xlink:href=\"#C0_0_ca6e7fd617\" y=\"178.380409\"/>\n    </g>\n    <g clip-path=\"url(#p299e5ebbfc)\">\n     <use style=\"fill:#386df9;stroke:#ffffff;stroke-width:0.48;\" x=\"99.122763\" xlink:href=\"#C0_0_ca6e7fd617\" y=\"178.380409\"/>\n    </g>\n    <g clip-path=\"url(#p299e5ebbfc)\">\n     <use style=\"fill:#386df9;stroke:#ffffff;stroke-width:0.48;\" x=\"99.122763\" xlink:href=\"#C0_0_ca6e7fd617\" y=\"178.380409\"/>\n    </g>\n    <g clip-path=\"url(#p299e5ebbfc)\">\n     <use style=\"fill:#386df9;stroke:#ffffff;stroke-width:0.48;\" x=\"108.838182\" xlink:href=\"#C0_0_ca6e7fd617\" y=\"177.662113\"/>\n    </g>\n    <g clip-path=\"url(#p299e5ebbfc)\">\n     <use style=\"fill:#386df9;stroke:#ffffff;stroke-width:0.48;\" x=\"107.815369\" xlink:href=\"#C0_0_ca6e7fd617\" y=\"196.400913\"/>\n    </g>\n    <g clip-path=\"url(#p299e5ebbfc)\">\n     <use style=\"fill:#386df9;stroke:#ffffff;stroke-width:0.48;\" x=\"107.815369\" xlink:href=\"#C0_0_ca6e7fd617\" y=\"196.400913\"/>\n    </g>\n    <g clip-path=\"url(#p299e5ebbfc)\">\n     <use style=\"fill:#386df9;stroke:#ffffff;stroke-width:0.48;\" x=\"108.33545\" xlink:href=\"#C0_0_ca6e7fd617\" y=\"166.322404\"/>\n    </g>\n    <g clip-path=\"url(#p299e5ebbfc)\">\n     <use style=\"fill:#386df9;stroke:#ffffff;stroke-width:0.48;\" x=\"106.922586\" xlink:href=\"#C0_0_ca6e7fd617\" y=\"209.255457\"/>\n    </g>\n    <g clip-path=\"url(#p299e5ebbfc)\">\n     <use style=\"fill:#386df9;stroke:#ffffff;stroke-width:0.48;\" x=\"106.922586\" xlink:href=\"#C0_0_ca6e7fd617\" y=\"209.255457\"/>\n    </g>\n    <g clip-path=\"url(#p299e5ebbfc)\">\n     <use style=\"fill:#386df9;stroke:#ffffff;stroke-width:0.48;\" x=\"106.922586\" xlink:href=\"#C0_0_ca6e7fd617\" y=\"209.255457\"/>\n    </g>\n    <g clip-path=\"url(#p299e5ebbfc)\">\n     <use style=\"fill:#386df9;stroke:#ffffff;stroke-width:0.48;\" x=\"106.922586\" xlink:href=\"#C0_0_ca6e7fd617\" y=\"209.255457\"/>\n    </g>\n    <g clip-path=\"url(#p299e5ebbfc)\">\n     <use style=\"fill:#386df9;stroke:#ffffff;stroke-width:0.48;\" x=\"110.364701\" xlink:href=\"#C0_0_ca6e7fd617\" y=\"187.452442\"/>\n    </g>\n    <g clip-path=\"url(#p299e5ebbfc)\">\n     <use style=\"fill:#386df9;stroke:#ffffff;stroke-width:0.48;\" x=\"104.827336\" xlink:href=\"#C0_0_ca6e7fd617\" y=\"191.277165\"/>\n    </g>\n    <g clip-path=\"url(#p299e5ebbfc)\">\n     <use style=\"fill:#386df9;stroke:#ffffff;stroke-width:0.48;\" x=\"104.827336\" xlink:href=\"#C0_0_ca6e7fd617\" y=\"191.277165\"/>\n    </g>\n    <g clip-path=\"url(#p299e5ebbfc)\">\n     <use style=\"fill:#386df9;stroke:#ffffff;stroke-width:0.48;\" x=\"100.718796\" xlink:href=\"#C0_0_ca6e7fd617\" y=\"167.383715\"/>\n    </g>\n    <g clip-path=\"url(#p299e5ebbfc)\">\n     <use style=\"fill:#386df9;stroke:#ffffff;stroke-width:0.48;\" x=\"100.718796\" xlink:href=\"#C0_0_ca6e7fd617\" y=\"167.383715\"/>\n    </g>\n    <g clip-path=\"url(#p299e5ebbfc)\">\n     <use style=\"fill:#386df9;stroke:#ffffff;stroke-width:0.48;\" x=\"96.50106\" xlink:href=\"#C0_0_ca6e7fd617\" y=\"99.787684\"/>\n    </g>\n    <g clip-path=\"url(#p299e5ebbfc)\">\n     <use style=\"fill:#386df9;stroke:#ffffff;stroke-width:0.48;\" x=\"96.50106\" xlink:href=\"#C0_0_ca6e7fd617\" y=\"99.787684\"/>\n    </g>\n    <g clip-path=\"url(#p299e5ebbfc)\">\n     <use style=\"fill:#386df9;stroke:#ffffff;stroke-width:0.48;\" x=\"105.658659\" xlink:href=\"#C0_0_ca6e7fd617\" y=\"197.027345\"/>\n    </g>\n    <g clip-path=\"url(#p299e5ebbfc)\">\n     <use style=\"fill:#386df9;stroke:#ffffff;stroke-width:0.48;\" x=\"105.658659\" xlink:href=\"#C0_0_ca6e7fd617\" y=\"197.027345\"/>\n    </g>\n    <g clip-path=\"url(#p299e5ebbfc)\">\n     <use style=\"fill:#386df9;stroke:#ffffff;stroke-width:0.48;\" x=\"105.658659\" xlink:href=\"#C0_0_ca6e7fd617\" y=\"197.027345\"/>\n    </g>\n    <g clip-path=\"url(#p299e5ebbfc)\">\n     <use style=\"fill:#386df9;stroke:#ffffff;stroke-width:0.48;\" x=\"105.658659\" xlink:href=\"#C0_0_ca6e7fd617\" y=\"197.027345\"/>\n    </g>\n    <g clip-path=\"url(#p299e5ebbfc)\">\n     <use style=\"fill:#386df9;stroke:#ffffff;stroke-width:0.48;\" x=\"105.658659\" xlink:href=\"#C0_0_ca6e7fd617\" y=\"197.027345\"/>\n    </g>\n    <g clip-path=\"url(#p299e5ebbfc)\">\n     <use style=\"fill:#386df9;stroke:#ffffff;stroke-width:0.48;\" x=\"112.790946\" xlink:href=\"#C0_0_ca6e7fd617\" y=\"229.874489\"/>\n    </g>\n    <g clip-path=\"url(#p299e5ebbfc)\">\n     <use style=\"fill:#386df9;stroke:#ffffff;stroke-width:0.48;\" x=\"105.334431\" xlink:href=\"#C0_0_ca6e7fd617\" y=\"157.451546\"/>\n    </g>\n    <g clip-path=\"url(#p299e5ebbfc)\">\n     <use style=\"fill:#386df9;stroke:#ffffff;stroke-width:0.48;\" x=\"99.763912\" xlink:href=\"#C0_0_ca6e7fd617\" y=\"179.559891\"/>\n    </g>\n    <g clip-path=\"url(#p299e5ebbfc)\">\n     <use style=\"fill:#386df9;stroke:#ffffff;stroke-width:0.48;\" x=\"99.763912\" xlink:href=\"#C0_0_ca6e7fd617\" y=\"179.559891\"/>\n    </g>\n    <g clip-path=\"url(#p299e5ebbfc)\">\n     <use style=\"fill:#386df9;stroke:#ffffff;stroke-width:0.48;\" x=\"96.00477\" xlink:href=\"#C0_0_ca6e7fd617\" y=\"189.679205\"/>\n    </g>\n    <g clip-path=\"url(#p299e5ebbfc)\">\n     <use style=\"fill:#386df9;stroke:#ffffff;stroke-width:0.48;\" x=\"96.00477\" xlink:href=\"#C0_0_ca6e7fd617\" y=\"189.679205\"/>\n    </g>\n    <g clip-path=\"url(#p299e5ebbfc)\">\n     <use style=\"fill:#386df9;stroke:#ffffff;stroke-width:0.48;\" x=\"100.231811\" xlink:href=\"#C0_0_ca6e7fd617\" y=\"148.914701\"/>\n    </g>\n    <g clip-path=\"url(#p299e5ebbfc)\">\n     <use style=\"fill:#386df9;stroke:#ffffff;stroke-width:0.48;\" x=\"100.231811\" xlink:href=\"#C0_0_ca6e7fd617\" y=\"148.914701\"/>\n    </g>\n    <g clip-path=\"url(#p299e5ebbfc)\">\n     <use style=\"fill:#386df9;stroke:#ffffff;stroke-width:0.48;\" x=\"91.383375\" xlink:href=\"#C0_0_ca6e7fd617\" y=\"97.069799\"/>\n    </g>\n    <g clip-path=\"url(#p299e5ebbfc)\">\n     <use style=\"fill:#386df9;stroke:#ffffff;stroke-width:0.48;\" x=\"91.383375\" xlink:href=\"#C0_0_ca6e7fd617\" y=\"97.069799\"/>\n    </g>\n    <g clip-path=\"url(#p299e5ebbfc)\">\n     <use style=\"fill:#386df9;stroke:#ffffff;stroke-width:0.48;\" x=\"109.302317\" xlink:href=\"#C0_0_ca6e7fd617\" y=\"136.961199\"/>\n    </g>\n    <g clip-path=\"url(#p299e5ebbfc)\">\n     <use style=\"fill:#386df9;stroke:#ffffff;stroke-width:0.48;\" x=\"94.66848\" xlink:href=\"#C0_0_ca6e7fd617\" y=\"169.13411\"/>\n    </g>\n    <g clip-path=\"url(#p299e5ebbfc)\">\n     <use style=\"fill:#386df9;stroke:#ffffff;stroke-width:0.48;\" x=\"115.716156\" xlink:href=\"#C0_0_ca6e7fd617\" y=\"192.779334\"/>\n    </g>\n    <g clip-path=\"url(#p299e5ebbfc)\">\n     <use style=\"fill:#386df9;stroke:#ffffff;stroke-width:0.48;\" x=\"99.354414\" xlink:href=\"#C0_0_ca6e7fd617\" y=\"124.491629\"/>\n    </g>\n    <g clip-path=\"url(#p299e5ebbfc)\">\n     <use style=\"fill:#386df9;stroke:#ffffff;stroke-width:0.48;\" x=\"94.698724\" xlink:href=\"#C0_0_ca6e7fd617\" y=\"169.197169\"/>\n    </g>\n    <g clip-path=\"url(#p299e5ebbfc)\">\n     <use style=\"fill:#386df9;stroke:#ffffff;stroke-width:0.48;\" x=\"88.416582\" xlink:href=\"#C0_0_ca6e7fd617\" y=\"72.318294\"/>\n    </g>\n    <g clip-path=\"url(#p299e5ebbfc)\">\n     <use style=\"fill:#386df9;stroke:#ffffff;stroke-width:0.48;\" x=\"88.416582\" xlink:href=\"#C0_0_ca6e7fd617\" y=\"72.318294\"/>\n    </g>\n    <g clip-path=\"url(#p299e5ebbfc)\">\n     <use style=\"fill:#386df9;stroke:#ffffff;stroke-width:0.48;\" x=\"88.416582\" xlink:href=\"#C0_0_ca6e7fd617\" y=\"72.318294\"/>\n    </g>\n    <g clip-path=\"url(#p299e5ebbfc)\">\n     <use style=\"fill:#386df9;stroke:#ffffff;stroke-width:0.48;\" x=\"98.680254\" xlink:href=\"#C0_0_ca6e7fd617\" y=\"150.610075\"/>\n    </g>\n    <g clip-path=\"url(#p299e5ebbfc)\">\n     <use style=\"fill:#386df9;stroke:#ffffff;stroke-width:0.48;\" x=\"98.680254\" xlink:href=\"#C0_0_ca6e7fd617\" y=\"150.610075\"/>\n    </g>\n    <g clip-path=\"url(#p299e5ebbfc)\">\n     <use style=\"fill:#386df9;stroke:#ffffff;stroke-width:0.48;\" x=\"98.680254\" xlink:href=\"#C0_0_ca6e7fd617\" y=\"150.610075\"/>\n    </g>\n    <g clip-path=\"url(#p299e5ebbfc)\">\n     <use style=\"fill:#386df9;stroke:#ffffff;stroke-width:0.48;\" x=\"98.680254\" xlink:href=\"#C0_0_ca6e7fd617\" y=\"150.610075\"/>\n    </g>\n    <g clip-path=\"url(#p299e5ebbfc)\">\n     <use style=\"fill:#386df9;stroke:#ffffff;stroke-width:0.48;\" x=\"98.680254\" xlink:href=\"#C0_0_ca6e7fd617\" y=\"150.610075\"/>\n    </g>\n    <g clip-path=\"url(#p299e5ebbfc)\">\n     <use style=\"fill:#386df9;stroke:#ffffff;stroke-width:0.48;\" x=\"98.680254\" xlink:href=\"#C0_0_ca6e7fd617\" y=\"150.610075\"/>\n    </g>\n    <g clip-path=\"url(#p299e5ebbfc)\">\n     <use style=\"fill:#386df9;stroke:#ffffff;stroke-width:0.48;\" x=\"98.680254\" xlink:href=\"#C0_0_ca6e7fd617\" y=\"150.610075\"/>\n    </g>\n    <g clip-path=\"url(#p299e5ebbfc)\">\n     <use style=\"fill:#386df9;stroke:#ffffff;stroke-width:0.48;\" x=\"109.182022\" xlink:href=\"#C0_0_ca6e7fd617\" y=\"181.51163\"/>\n    </g>\n    <g clip-path=\"url(#p299e5ebbfc)\">\n     <use style=\"fill:#386df9;stroke:#ffffff;stroke-width:0.48;\" x=\"100.160454\" xlink:href=\"#C0_0_ca6e7fd617\" y=\"157.915693\"/>\n    </g>\n    <g clip-path=\"url(#p299e5ebbfc)\">\n     <use style=\"fill:#386df9;stroke:#ffffff;stroke-width:0.48;\" x=\"100.160454\" xlink:href=\"#C0_0_ca6e7fd617\" y=\"157.915693\"/>\n    </g>\n    <g clip-path=\"url(#p299e5ebbfc)\">\n     <use style=\"fill:#386df9;stroke:#ffffff;stroke-width:0.48;\" x=\"100.160454\" xlink:href=\"#C0_0_ca6e7fd617\" y=\"157.915693\"/>\n    </g>\n    <g clip-path=\"url(#p299e5ebbfc)\">\n     <use style=\"fill:#386df9;stroke:#ffffff;stroke-width:0.48;\" x=\"100.160454\" xlink:href=\"#C0_0_ca6e7fd617\" y=\"157.915693\"/>\n    </g>\n    <g clip-path=\"url(#p299e5ebbfc)\">\n     <use style=\"fill:#386df9;stroke:#ffffff;stroke-width:0.48;\" x=\"100.160454\" xlink:href=\"#C0_0_ca6e7fd617\" y=\"157.915693\"/>\n    </g>\n    <g clip-path=\"url(#p299e5ebbfc)\">\n     <use style=\"fill:#386df9;stroke:#ffffff;stroke-width:0.48;\" x=\"96.618483\" xlink:href=\"#C0_0_ca6e7fd617\" y=\"115.346172\"/>\n    </g>\n    <g clip-path=\"url(#p299e5ebbfc)\">\n     <use style=\"fill:#386df9;stroke:#ffffff;stroke-width:0.48;\" x=\"96.618483\" xlink:href=\"#C0_0_ca6e7fd617\" y=\"115.346172\"/>\n    </g>\n    <g clip-path=\"url(#p299e5ebbfc)\">\n     <use style=\"fill:#386df9;stroke:#ffffff;stroke-width:0.48;\" x=\"96.618483\" xlink:href=\"#C0_0_ca6e7fd617\" y=\"115.346172\"/>\n    </g>\n    <g clip-path=\"url(#p299e5ebbfc)\">\n     <use style=\"fill:#386df9;stroke:#ffffff;stroke-width:0.48;\" x=\"90.841001\" xlink:href=\"#C0_0_ca6e7fd617\" y=\"161.688332\"/>\n    </g>\n    <g clip-path=\"url(#p299e5ebbfc)\">\n     <use style=\"fill:#386df9;stroke:#ffffff;stroke-width:0.48;\" x=\"100.060402\" xlink:href=\"#C0_0_ca6e7fd617\" y=\"178.743276\"/>\n    </g>\n    <g clip-path=\"url(#p299e5ebbfc)\">\n     <use style=\"fill:#386df9;stroke:#ffffff;stroke-width:0.48;\" x=\"88.604528\" xlink:href=\"#C0_0_ca6e7fd617\" y=\"88.203034\"/>\n    </g>\n    <g clip-path=\"url(#p299e5ebbfc)\">\n     <use style=\"fill:#386df9;stroke:#ffffff;stroke-width:0.48;\" x=\"88.604528\" xlink:href=\"#C0_0_ca6e7fd617\" y=\"88.203034\"/>\n    </g>\n    <g clip-path=\"url(#p299e5ebbfc)\">\n     <use style=\"fill:#386df9;stroke:#ffffff;stroke-width:0.48;\" x=\"88.604528\" xlink:href=\"#C0_0_ca6e7fd617\" y=\"88.203034\"/>\n    </g>\n    <g clip-path=\"url(#p299e5ebbfc)\">\n     <use style=\"fill:#386df9;stroke:#ffffff;stroke-width:0.48;\" x=\"88.604528\" xlink:href=\"#C0_0_ca6e7fd617\" y=\"88.203034\"/>\n    </g>\n    <g clip-path=\"url(#p299e5ebbfc)\">\n     <use style=\"fill:#386df9;stroke:#ffffff;stroke-width:0.48;\" x=\"88.604528\" xlink:href=\"#C0_0_ca6e7fd617\" y=\"88.203034\"/>\n    </g>\n    <g clip-path=\"url(#p299e5ebbfc)\">\n     <use style=\"fill:#386df9;stroke:#ffffff;stroke-width:0.48;\" x=\"100.226423\" xlink:href=\"#C0_0_ca6e7fd617\" y=\"126.590078\"/>\n    </g>\n    <g clip-path=\"url(#p299e5ebbfc)\">\n     <use style=\"fill:#386df9;stroke:#ffffff;stroke-width:0.48;\" x=\"99.399497\" xlink:href=\"#C0_0_ca6e7fd617\" y=\"122.842264\"/>\n    </g>\n    <g clip-path=\"url(#p299e5ebbfc)\">\n     <use style=\"fill:#386df9;stroke:#ffffff;stroke-width:0.48;\" x=\"96.112621\" xlink:href=\"#C0_0_ca6e7fd617\" y=\"128.29963\"/>\n    </g>\n    <g clip-path=\"url(#p299e5ebbfc)\">\n     <use style=\"fill:#386df9;stroke:#ffffff;stroke-width:0.48;\" x=\"96.112621\" xlink:href=\"#C0_0_ca6e7fd617\" y=\"128.29963\"/>\n    </g>\n    <g clip-path=\"url(#p299e5ebbfc)\">\n     <use style=\"fill:#386df9;stroke:#ffffff;stroke-width:0.48;\" x=\"95.074469\" xlink:href=\"#C0_0_ca6e7fd617\" y=\"156.781947\"/>\n    </g>\n    <g clip-path=\"url(#p299e5ebbfc)\">\n     <use style=\"fill:#386df9;stroke:#ffffff;stroke-width:0.48;\" x=\"95.074469\" xlink:href=\"#C0_0_ca6e7fd617\" y=\"156.781947\"/>\n    </g>\n    <g clip-path=\"url(#p299e5ebbfc)\">\n     <use style=\"fill:#386df9;stroke:#ffffff;stroke-width:0.48;\" x=\"95.074469\" xlink:href=\"#C0_0_ca6e7fd617\" y=\"156.781947\"/>\n    </g>\n    <g clip-path=\"url(#p299e5ebbfc)\">\n     <use style=\"fill:#386df9;stroke:#ffffff;stroke-width:0.48;\" x=\"95.074469\" xlink:href=\"#C0_0_ca6e7fd617\" y=\"156.781947\"/>\n    </g>\n    <g clip-path=\"url(#p299e5ebbfc)\">\n     <use style=\"fill:#386df9;stroke:#ffffff;stroke-width:0.48;\" x=\"92.591475\" xlink:href=\"#C0_0_ca6e7fd617\" y=\"163.48509\"/>\n    </g>\n    <g clip-path=\"url(#p299e5ebbfc)\">\n     <use style=\"fill:#386df9;stroke:#ffffff;stroke-width:0.48;\" x=\"101.672621\" xlink:href=\"#C0_0_ca6e7fd617\" y=\"187.478933\"/>\n    </g>\n    <g clip-path=\"url(#p299e5ebbfc)\">\n     <use style=\"fill:#386df9;stroke:#ffffff;stroke-width:0.48;\" x=\"101.672621\" xlink:href=\"#C0_0_ca6e7fd617\" y=\"187.478933\"/>\n    </g>\n    <g clip-path=\"url(#p299e5ebbfc)\">\n     <use style=\"fill:#386df9;stroke:#ffffff;stroke-width:0.48;\" x=\"101.672621\" xlink:href=\"#C0_0_ca6e7fd617\" y=\"187.478933\"/>\n    </g>\n    <g clip-path=\"url(#p299e5ebbfc)\">\n     <use style=\"fill:#386df9;stroke:#ffffff;stroke-width:0.48;\" x=\"109.044797\" xlink:href=\"#C0_0_ca6e7fd617\" y=\"169.505669\"/>\n    </g>\n    <g clip-path=\"url(#p299e5ebbfc)\">\n     <use style=\"fill:#386df9;stroke:#ffffff;stroke-width:0.48;\" x=\"109.044797\" xlink:href=\"#C0_0_ca6e7fd617\" y=\"169.505669\"/>\n    </g>\n    <g clip-path=\"url(#p299e5ebbfc)\">\n     <use style=\"fill:#386df9;stroke:#ffffff;stroke-width:0.48;\" x=\"109.044797\" xlink:href=\"#C0_0_ca6e7fd617\" y=\"169.505669\"/>\n    </g>\n    <g clip-path=\"url(#p299e5ebbfc)\">\n     <use style=\"fill:#386df9;stroke:#ffffff;stroke-width:0.48;\" x=\"109.044797\" xlink:href=\"#C0_0_ca6e7fd617\" y=\"169.505669\"/>\n    </g>\n    <g clip-path=\"url(#p299e5ebbfc)\">\n     <use style=\"fill:#386df9;stroke:#ffffff;stroke-width:0.48;\" x=\"99.554138\" xlink:href=\"#C0_0_ca6e7fd617\" y=\"178.147547\"/>\n    </g>\n    <g clip-path=\"url(#p299e5ebbfc)\">\n     <use style=\"fill:#386df9;stroke:#ffffff;stroke-width:0.48;\" x=\"99.554138\" xlink:href=\"#C0_0_ca6e7fd617\" y=\"178.147547\"/>\n    </g>\n    <g clip-path=\"url(#p299e5ebbfc)\">\n     <use style=\"fill:#386df9;stroke:#ffffff;stroke-width:0.48;\" x=\"99.554138\" xlink:href=\"#C0_0_ca6e7fd617\" y=\"178.147547\"/>\n    </g>\n    <g clip-path=\"url(#p299e5ebbfc)\">\n     <use style=\"fill:#386df9;stroke:#ffffff;stroke-width:0.48;\" x=\"109.923543\" xlink:href=\"#C0_0_ca6e7fd617\" y=\"155.881407\"/>\n    </g>\n    <g clip-path=\"url(#p299e5ebbfc)\">\n     <use style=\"fill:#386df9;stroke:#ffffff;stroke-width:0.48;\" x=\"109.923543\" xlink:href=\"#C0_0_ca6e7fd617\" y=\"155.881407\"/>\n    </g>\n    <g clip-path=\"url(#p299e5ebbfc)\">\n     <use style=\"fill:#386df9;stroke:#ffffff;stroke-width:0.48;\" x=\"109.923543\" xlink:href=\"#C0_0_ca6e7fd617\" y=\"155.881407\"/>\n    </g>\n    <g clip-path=\"url(#p299e5ebbfc)\">\n     <use style=\"fill:#386df9;stroke:#ffffff;stroke-width:0.48;\" x=\"90.449637\" xlink:href=\"#C0_0_ca6e7fd617\" y=\"161.994658\"/>\n    </g>\n    <g clip-path=\"url(#p299e5ebbfc)\">\n     <use style=\"fill:#386df9;stroke:#ffffff;stroke-width:0.48;\" x=\"90.449637\" xlink:href=\"#C0_0_ca6e7fd617\" y=\"161.994658\"/>\n    </g>\n    <g clip-path=\"url(#p299e5ebbfc)\">\n     <use style=\"fill:#386df9;stroke:#ffffff;stroke-width:0.48;\" x=\"90.449637\" xlink:href=\"#C0_0_ca6e7fd617\" y=\"161.994658\"/>\n    </g>\n    <g clip-path=\"url(#p299e5ebbfc)\">\n     <use style=\"fill:#386df9;stroke:#ffffff;stroke-width:0.48;\" x=\"90.449637\" xlink:href=\"#C0_0_ca6e7fd617\" y=\"161.994658\"/>\n    </g>\n    <g clip-path=\"url(#p299e5ebbfc)\">\n     <use style=\"fill:#386df9;stroke:#ffffff;stroke-width:0.48;\" x=\"110.3125\" xlink:href=\"#C0_0_ca6e7fd617\" y=\"186.610421\"/>\n    </g>\n    <g clip-path=\"url(#p299e5ebbfc)\">\n     <use style=\"fill:#386df9;stroke:#ffffff;stroke-width:0.48;\" x=\"110.3125\" xlink:href=\"#C0_0_ca6e7fd617\" y=\"186.610421\"/>\n    </g>\n    <g clip-path=\"url(#p299e5ebbfc)\">\n     <use style=\"fill:#386df9;stroke:#ffffff;stroke-width:0.48;\" x=\"110.3125\" xlink:href=\"#C0_0_ca6e7fd617\" y=\"186.610421\"/>\n    </g>\n    <g clip-path=\"url(#p299e5ebbfc)\">\n     <use style=\"fill:#386df9;stroke:#ffffff;stroke-width:0.48;\" x=\"110.3125\" xlink:href=\"#C0_0_ca6e7fd617\" y=\"186.610421\"/>\n    </g>\n    <g clip-path=\"url(#p299e5ebbfc)\">\n     <use style=\"fill:#386df9;stroke:#ffffff;stroke-width:0.48;\" x=\"103.580903\" xlink:href=\"#C0_0_ca6e7fd617\" y=\"162.42695\"/>\n    </g>\n    <g clip-path=\"url(#p299e5ebbfc)\">\n     <use style=\"fill:#386df9;stroke:#ffffff;stroke-width:0.48;\" x=\"103.580903\" xlink:href=\"#C0_0_ca6e7fd617\" y=\"162.42695\"/>\n    </g>\n    <g clip-path=\"url(#p299e5ebbfc)\">\n     <use style=\"fill:#386df9;stroke:#ffffff;stroke-width:0.48;\" x=\"103.580903\" xlink:href=\"#C0_0_ca6e7fd617\" y=\"162.42695\"/>\n    </g>\n    <g clip-path=\"url(#p299e5ebbfc)\">\n     <use style=\"fill:#386df9;stroke:#ffffff;stroke-width:0.48;\" x=\"105.458966\" xlink:href=\"#C0_0_ca6e7fd617\" y=\"162.05712\"/>\n    </g>\n    <g clip-path=\"url(#p299e5ebbfc)\">\n     <use style=\"fill:#386df9;stroke:#ffffff;stroke-width:0.48;\" x=\"103.648719\" xlink:href=\"#C0_0_ca6e7fd617\" y=\"178.112037\"/>\n    </g>\n    <g clip-path=\"url(#p299e5ebbfc)\">\n     <use style=\"fill:#386df9;stroke:#ffffff;stroke-width:0.48;\" x=\"99.32417\" xlink:href=\"#C0_0_ca6e7fd617\" y=\"124.428571\"/>\n    </g>\n    <g clip-path=\"url(#p299e5ebbfc)\">\n     <use style=\"fill:#386df9;stroke:#ffffff;stroke-width:0.48;\" x=\"93.482678\" xlink:href=\"#C0_0_ca6e7fd617\" y=\"180.925565\"/>\n    </g>\n    <g clip-path=\"url(#p299e5ebbfc)\">\n     <use style=\"fill:#386df9;stroke:#ffffff;stroke-width:0.48;\" x=\"93.482678\" xlink:href=\"#C0_0_ca6e7fd617\" y=\"180.925565\"/>\n    </g>\n    <g clip-path=\"url(#p299e5ebbfc)\">\n     <use style=\"fill:#386df9;stroke:#ffffff;stroke-width:0.48;\" x=\"92.792702\" xlink:href=\"#C0_0_ca6e7fd617\" y=\"125.677679\"/>\n    </g>\n    <g clip-path=\"url(#p299e5ebbfc)\">\n     <use style=\"fill:#386df9;stroke:#ffffff;stroke-width:0.48;\" x=\"92.792702\" xlink:href=\"#C0_0_ca6e7fd617\" y=\"125.677679\"/>\n    </g>\n    <g clip-path=\"url(#p299e5ebbfc)\">\n     <use style=\"fill:#386df9;stroke:#ffffff;stroke-width:0.48;\" x=\"92.792702\" xlink:href=\"#C0_0_ca6e7fd617\" y=\"125.677679\"/>\n    </g>\n    <g clip-path=\"url(#p299e5ebbfc)\">\n     <use style=\"fill:#386df9;stroke:#ffffff;stroke-width:0.48;\" x=\"110.285783\" xlink:href=\"#C0_0_ca6e7fd617\" y=\"175.086207\"/>\n    </g>\n    <g clip-path=\"url(#p299e5ebbfc)\">\n     <use style=\"fill:#386df9;stroke:#ffffff;stroke-width:0.48;\" x=\"110.285783\" xlink:href=\"#C0_0_ca6e7fd617\" y=\"175.086207\"/>\n    </g>\n    <g clip-path=\"url(#p299e5ebbfc)\">\n     <use style=\"fill:#386df9;stroke:#ffffff;stroke-width:0.48;\" x=\"110.285783\" xlink:href=\"#C0_0_ca6e7fd617\" y=\"175.086207\"/>\n    </g>\n    <g clip-path=\"url(#p299e5ebbfc)\">\n     <use style=\"fill:#386df9;stroke:#ffffff;stroke-width:0.48;\" x=\"104.764743\" xlink:href=\"#C0_0_ca6e7fd617\" y=\"171.145095\"/>\n    </g>\n    <g clip-path=\"url(#p299e5ebbfc)\">\n     <use style=\"fill:#386df9;stroke:#ffffff;stroke-width:0.48;\" x=\"104.764743\" xlink:href=\"#C0_0_ca6e7fd617\" y=\"171.145095\"/>\n    </g>\n    <g clip-path=\"url(#p299e5ebbfc)\">\n     <use style=\"fill:#386df9;stroke:#ffffff;stroke-width:0.48;\" x=\"106.586209\" xlink:href=\"#C0_0_ca6e7fd617\" y=\"179.342314\"/>\n    </g>\n    <g clip-path=\"url(#p299e5ebbfc)\">\n     <use style=\"fill:#386df9;stroke:#ffffff;stroke-width:0.48;\" x=\"106.586209\" xlink:href=\"#C0_0_ca6e7fd617\" y=\"179.342314\"/>\n    </g>\n    <g clip-path=\"url(#p299e5ebbfc)\">\n     <use style=\"fill:#386df9;stroke:#ffffff;stroke-width:0.48;\" x=\"93.468763\" xlink:href=\"#C0_0_ca6e7fd617\" y=\"187.684104\"/>\n    </g>\n    <g clip-path=\"url(#p299e5ebbfc)\">\n     <use style=\"fill:#386df9;stroke:#ffffff;stroke-width:0.48;\" x=\"96.092122\" xlink:href=\"#C0_0_ca6e7fd617\" y=\"134.754641\"/>\n    </g>\n    <g clip-path=\"url(#p299e5ebbfc)\">\n     <use style=\"fill:#386df9;stroke:#ffffff;stroke-width:0.48;\" x=\"96.092122\" xlink:href=\"#C0_0_ca6e7fd617\" y=\"134.754641\"/>\n    </g>\n    <g clip-path=\"url(#p299e5ebbfc)\">\n     <use style=\"fill:#386df9;stroke:#ffffff;stroke-width:0.48;\" x=\"104.536046\" xlink:href=\"#C0_0_ca6e7fd617\" y=\"172.304601\"/>\n    </g>\n    <g clip-path=\"url(#p299e5ebbfc)\">\n     <use style=\"fill:#386df9;stroke:#ffffff;stroke-width:0.48;\" x=\"104.536046\" xlink:href=\"#C0_0_ca6e7fd617\" y=\"172.304601\"/>\n    </g>\n    <g clip-path=\"url(#p299e5ebbfc)\">\n     <use style=\"fill:#386df9;stroke:#ffffff;stroke-width:0.48;\" x=\"102.902638\" xlink:href=\"#C0_0_ca6e7fd617\" y=\"155.825217\"/>\n    </g>\n    <g clip-path=\"url(#p299e5ebbfc)\">\n     <use style=\"fill:#386df9;stroke:#ffffff;stroke-width:0.48;\" x=\"102.902638\" xlink:href=\"#C0_0_ca6e7fd617\" y=\"155.825217\"/>\n    </g>\n    <g clip-path=\"url(#p299e5ebbfc)\">\n     <use style=\"fill:#386df9;stroke:#ffffff;stroke-width:0.48;\" x=\"105.681379\" xlink:href=\"#C0_0_ca6e7fd617\" y=\"197.074718\"/>\n    </g>\n    <g clip-path=\"url(#p299e5ebbfc)\">\n     <use style=\"fill:#386df9;stroke:#ffffff;stroke-width:0.48;\" x=\"105.681379\" xlink:href=\"#C0_0_ca6e7fd617\" y=\"197.074718\"/>\n    </g>\n    <g clip-path=\"url(#p299e5ebbfc)\">\n     <use style=\"fill:#386df9;stroke:#ffffff;stroke-width:0.48;\" x=\"97.631221\" xlink:href=\"#C0_0_ca6e7fd617\" y=\"127.097868\"/>\n    </g>\n    <g clip-path=\"url(#p299e5ebbfc)\">\n     <use style=\"fill:#386df9;stroke:#ffffff;stroke-width:0.48;\" x=\"97.862757\" xlink:href=\"#C0_0_ca6e7fd617\" y=\"165.797497\"/>\n    </g>\n    <g clip-path=\"url(#p299e5ebbfc)\">\n     <use style=\"fill:#386df9;stroke:#ffffff;stroke-width:0.48;\" x=\"100.417165\" xlink:href=\"#C0_0_ca6e7fd617\" y=\"171.734163\"/>\n    </g>\n    <g clip-path=\"url(#p299e5ebbfc)\">\n     <use style=\"fill:#386df9;stroke:#ffffff;stroke-width:0.48;\" x=\"94.105172\" xlink:href=\"#C0_0_ca6e7fd617\" y=\"183.573933\"/>\n    </g>\n    <g clip-path=\"url(#p299e5ebbfc)\">\n     <use style=\"fill:#386df9;stroke:#ffffff;stroke-width:0.48;\" x=\"94.105172\" xlink:href=\"#C0_0_ca6e7fd617\" y=\"183.573933\"/>\n    </g>\n    <g clip-path=\"url(#p299e5ebbfc)\">\n     <use style=\"fill:#386df9;stroke:#ffffff;stroke-width:0.48;\" x=\"101.568008\" xlink:href=\"#C0_0_ca6e7fd617\" y=\"146.535003\"/>\n    </g>\n    <g clip-path=\"url(#p299e5ebbfc)\">\n     <use style=\"fill:#386df9;stroke:#ffffff;stroke-width:0.48;\" x=\"101.568008\" xlink:href=\"#C0_0_ca6e7fd617\" y=\"146.535003\"/>\n    </g>\n    <g clip-path=\"url(#p299e5ebbfc)\">\n     <use style=\"fill:#386df9;stroke:#ffffff;stroke-width:0.48;\" x=\"101.568008\" xlink:href=\"#C0_0_ca6e7fd617\" y=\"146.535003\"/>\n    </g>\n    <g clip-path=\"url(#p299e5ebbfc)\">\n     <use style=\"fill:#386df9;stroke:#ffffff;stroke-width:0.48;\" x=\"101.568008\" xlink:href=\"#C0_0_ca6e7fd617\" y=\"146.535003\"/>\n    </g>\n    <g clip-path=\"url(#p299e5ebbfc)\">\n     <use style=\"fill:#386df9;stroke:#ffffff;stroke-width:0.48;\" x=\"88.01394\" xlink:href=\"#C0_0_ca6e7fd617\" y=\"111.417315\"/>\n    </g>\n    <g clip-path=\"url(#p299e5ebbfc)\">\n     <use style=\"fill:#386df9;stroke:#ffffff;stroke-width:0.48;\" x=\"97.719846\" xlink:href=\"#C0_0_ca6e7fd617\" y=\"90.145132\"/>\n    </g>\n    <g clip-path=\"url(#p299e5ebbfc)\">\n     <use style=\"fill:#386df9;stroke:#ffffff;stroke-width:0.48;\" x=\"109.924095\" xlink:href=\"#C0_0_ca6e7fd617\" y=\"172.536988\"/>\n    </g>\n    <g clip-path=\"url(#p299e5ebbfc)\">\n     <use style=\"fill:#386df9;stroke:#ffffff;stroke-width:0.48;\" x=\"109.924095\" xlink:href=\"#C0_0_ca6e7fd617\" y=\"172.536988\"/>\n    </g>\n    <g clip-path=\"url(#p299e5ebbfc)\">\n     <use style=\"fill:#386df9;stroke:#ffffff;stroke-width:0.48;\" x=\"109.924095\" xlink:href=\"#C0_0_ca6e7fd617\" y=\"172.536988\"/>\n    </g>\n    <g clip-path=\"url(#p299e5ebbfc)\">\n     <use style=\"fill:#386df9;stroke:#ffffff;stroke-width:0.48;\" x=\"106.168265\" xlink:href=\"#C0_0_ca6e7fd617\" y=\"165.742451\"/>\n    </g>\n    <g clip-path=\"url(#p299e5ebbfc)\">\n     <use style=\"fill:#386df9;stroke:#ffffff;stroke-width:0.48;\" x=\"106.168265\" xlink:href=\"#C0_0_ca6e7fd617\" y=\"165.742451\"/>\n    </g>\n    <g clip-path=\"url(#p299e5ebbfc)\">\n     <use style=\"fill:#386df9;stroke:#ffffff;stroke-width:0.48;\" x=\"99.354301\" xlink:href=\"#C0_0_ca6e7fd617\" y=\"188.169404\"/>\n    </g>\n    <g clip-path=\"url(#p299e5ebbfc)\">\n     <use style=\"fill:#386df9;stroke:#ffffff;stroke-width:0.48;\" x=\"99.354301\" xlink:href=\"#C0_0_ca6e7fd617\" y=\"188.169404\"/>\n    </g>\n    <g clip-path=\"url(#p299e5ebbfc)\">\n     <use style=\"fill:#386df9;stroke:#ffffff;stroke-width:0.48;\" x=\"88.518972\" xlink:href=\"#C0_0_ca6e7fd617\" y=\"144.010004\"/>\n    </g>\n    <g clip-path=\"url(#p299e5ebbfc)\">\n     <use style=\"fill:#386df9;stroke:#ffffff;stroke-width:0.48;\" x=\"102.595597\" xlink:href=\"#C0_0_ca6e7fd617\" y=\"161.079998\"/>\n    </g>\n    <g clip-path=\"url(#p299e5ebbfc)\">\n     <use style=\"fill:#386df9;stroke:#ffffff;stroke-width:0.48;\" x=\"102.595597\" xlink:href=\"#C0_0_ca6e7fd617\" y=\"161.079998\"/>\n    </g>\n    <g clip-path=\"url(#p299e5ebbfc)\">\n     <use style=\"fill:#386df9;stroke:#ffffff;stroke-width:0.48;\" x=\"102.595597\" xlink:href=\"#C0_0_ca6e7fd617\" y=\"161.079998\"/>\n    </g>\n    <g clip-path=\"url(#p299e5ebbfc)\">\n     <use style=\"fill:#386df9;stroke:#ffffff;stroke-width:0.48;\" x=\"98.945258\" xlink:href=\"#C0_0_ca6e7fd617\" y=\"124.677011\"/>\n    </g>\n    <g clip-path=\"url(#p299e5ebbfc)\">\n     <use style=\"fill:#386df9;stroke:#ffffff;stroke-width:0.48;\" x=\"104.582542\" xlink:href=\"#C0_0_ca6e7fd617\" y=\"193.358975\"/>\n    </g>\n    <g clip-path=\"url(#p299e5ebbfc)\">\n     <use style=\"fill:#386df9;stroke:#ffffff;stroke-width:0.48;\" x=\"104.582542\" xlink:href=\"#C0_0_ca6e7fd617\" y=\"193.358975\"/>\n    </g>\n    <g clip-path=\"url(#p299e5ebbfc)\">\n     <use style=\"fill:#386df9;stroke:#ffffff;stroke-width:0.48;\" x=\"104.582542\" xlink:href=\"#C0_0_ca6e7fd617\" y=\"193.358975\"/>\n    </g>\n    <g clip-path=\"url(#p299e5ebbfc)\">\n     <use style=\"fill:#386df9;stroke:#ffffff;stroke-width:0.48;\" x=\"104.582542\" xlink:href=\"#C0_0_ca6e7fd617\" y=\"193.358975\"/>\n    </g>\n    <g clip-path=\"url(#p299e5ebbfc)\">\n     <use style=\"fill:#386df9;stroke:#ffffff;stroke-width:0.48;\" x=\"104.582542\" xlink:href=\"#C0_0_ca6e7fd617\" y=\"193.358975\"/>\n    </g>\n    <g clip-path=\"url(#p299e5ebbfc)\">\n     <use style=\"fill:#386df9;stroke:#ffffff;stroke-width:0.48;\" x=\"92.034974\" xlink:href=\"#C0_0_ca6e7fd617\" y=\"182.661165\"/>\n    </g>\n    <g clip-path=\"url(#p299e5ebbfc)\">\n     <use style=\"fill:#386df9;stroke:#ffffff;stroke-width:0.48;\" x=\"92.034974\" xlink:href=\"#C0_0_ca6e7fd617\" y=\"182.661165\"/>\n    </g>\n    <g clip-path=\"url(#p299e5ebbfc)\">\n     <use style=\"fill:#386df9;stroke:#ffffff;stroke-width:0.48;\" x=\"92.034974\" xlink:href=\"#C0_0_ca6e7fd617\" y=\"182.661165\"/>\n    </g>\n    <g clip-path=\"url(#p299e5ebbfc)\">\n     <use style=\"fill:#386df9;stroke:#ffffff;stroke-width:0.48;\" x=\"110.740068\" xlink:href=\"#C0_0_ca6e7fd617\" y=\"179.605247\"/>\n    </g>\n    <g clip-path=\"url(#p299e5ebbfc)\">\n     <use style=\"fill:#386df9;stroke:#ffffff;stroke-width:0.48;\" x=\"97.006797\" xlink:href=\"#C0_0_ca6e7fd617\" y=\"185.758494\"/>\n    </g>\n    <g clip-path=\"url(#p299e5ebbfc)\">\n     <use style=\"fill:#386df9;stroke:#ffffff;stroke-width:0.48;\" x=\"97.006797\" xlink:href=\"#C0_0_ca6e7fd617\" y=\"185.758494\"/>\n    </g>\n    <g clip-path=\"url(#p299e5ebbfc)\">\n     <use style=\"fill:#386df9;stroke:#ffffff;stroke-width:0.48;\" x=\"97.006797\" xlink:href=\"#C0_0_ca6e7fd617\" y=\"185.758494\"/>\n    </g>\n    <g clip-path=\"url(#p299e5ebbfc)\">\n     <use style=\"fill:#386df9;stroke:#ffffff;stroke-width:0.48;\" x=\"107.883778\" xlink:href=\"#C0_0_ca6e7fd617\" y=\"138.346722\"/>\n    </g>\n    <g clip-path=\"url(#p299e5ebbfc)\">\n     <use style=\"fill:#386df9;stroke:#ffffff;stroke-width:0.48;\" x=\"104.47642\" xlink:href=\"#C0_0_ca6e7fd617\" y=\"151.8934\"/>\n    </g>\n    <g clip-path=\"url(#p299e5ebbfc)\">\n     <use style=\"fill:#386df9;stroke:#ffffff;stroke-width:0.48;\" x=\"104.47642\" xlink:href=\"#C0_0_ca6e7fd617\" y=\"151.8934\"/>\n    </g>\n    <g clip-path=\"url(#p299e5ebbfc)\">\n     <use style=\"fill:#386df9;stroke:#ffffff;stroke-width:0.48;\" x=\"104.47642\" xlink:href=\"#C0_0_ca6e7fd617\" y=\"151.8934\"/>\n    </g>\n    <g clip-path=\"url(#p299e5ebbfc)\">\n     <use style=\"fill:#386df9;stroke:#ffffff;stroke-width:0.48;\" x=\"86.332348\" xlink:href=\"#C0_0_ca6e7fd617\" y=\"126.687793\"/>\n    </g>\n    <g clip-path=\"url(#p299e5ebbfc)\">\n     <use style=\"fill:#386df9;stroke:#ffffff;stroke-width:0.48;\" x=\"86.332348\" xlink:href=\"#C0_0_ca6e7fd617\" y=\"126.687793\"/>\n    </g>\n    <g clip-path=\"url(#p299e5ebbfc)\">\n     <use style=\"fill:#386df9;stroke:#ffffff;stroke-width:0.48;\" x=\"86.332348\" xlink:href=\"#C0_0_ca6e7fd617\" y=\"126.687793\"/>\n    </g>\n    <g clip-path=\"url(#p299e5ebbfc)\">\n     <use style=\"fill:#386df9;stroke:#ffffff;stroke-width:0.48;\" x=\"86.332348\" xlink:href=\"#C0_0_ca6e7fd617\" y=\"126.687793\"/>\n    </g>\n    <g clip-path=\"url(#p299e5ebbfc)\">\n     <use style=\"fill:#386df9;stroke:#ffffff;stroke-width:0.48;\" x=\"86.332348\" xlink:href=\"#C0_0_ca6e7fd617\" y=\"126.687793\"/>\n    </g>\n    <g clip-path=\"url(#p299e5ebbfc)\">\n     <use style=\"fill:#386df9;stroke:#ffffff;stroke-width:0.48;\" x=\"94.66144\" xlink:href=\"#C0_0_ca6e7fd617\" y=\"178.881525\"/>\n    </g>\n    <g clip-path=\"url(#p299e5ebbfc)\">\n     <use style=\"fill:#386df9;stroke:#ffffff;stroke-width:0.48;\" x=\"94.66144\" xlink:href=\"#C0_0_ca6e7fd617\" y=\"178.881525\"/>\n    </g>\n    <g clip-path=\"url(#p299e5ebbfc)\">\n     <use style=\"fill:#386df9;stroke:#ffffff;stroke-width:0.48;\" x=\"94.66144\" xlink:href=\"#C0_0_ca6e7fd617\" y=\"178.881525\"/>\n    </g>\n    <g clip-path=\"url(#p299e5ebbfc)\">\n     <use style=\"fill:#386df9;stroke:#ffffff;stroke-width:0.48;\" x=\"102.203542\" xlink:href=\"#C0_0_ca6e7fd617\" y=\"195.995724\"/>\n    </g>\n    <g clip-path=\"url(#p299e5ebbfc)\">\n     <use style=\"fill:#386df9;stroke:#ffffff;stroke-width:0.48;\" x=\"102.203542\" xlink:href=\"#C0_0_ca6e7fd617\" y=\"195.995724\"/>\n    </g>\n    <g clip-path=\"url(#p299e5ebbfc)\">\n     <use style=\"fill:#386df9;stroke:#ffffff;stroke-width:0.48;\" x=\"99.946726\" xlink:href=\"#C0_0_ca6e7fd617\" y=\"167.464118\"/>\n    </g>\n    <g clip-path=\"url(#p299e5ebbfc)\">\n     <use style=\"fill:#386df9;stroke:#ffffff;stroke-width:0.48;\" x=\"99.946726\" xlink:href=\"#C0_0_ca6e7fd617\" y=\"167.464118\"/>\n    </g>\n    <g clip-path=\"url(#p299e5ebbfc)\">\n     <use style=\"fill:#386df9;stroke:#ffffff;stroke-width:0.48;\" x=\"99.946726\" xlink:href=\"#C0_0_ca6e7fd617\" y=\"167.464118\"/>\n    </g>\n    <g clip-path=\"url(#p299e5ebbfc)\">\n     <use style=\"fill:#386df9;stroke:#ffffff;stroke-width:0.48;\" x=\"99.946726\" xlink:href=\"#C0_0_ca6e7fd617\" y=\"167.464118\"/>\n    </g>\n    <g clip-path=\"url(#p299e5ebbfc)\">\n     <use style=\"fill:#386df9;stroke:#ffffff;stroke-width:0.48;\" x=\"99.976847\" xlink:href=\"#C0_0_ca6e7fd617\" y=\"143.817483\"/>\n    </g>\n    <g clip-path=\"url(#p299e5ebbfc)\">\n     <use style=\"fill:#386df9;stroke:#ffffff;stroke-width:0.48;\" x=\"109.328673\" xlink:href=\"#C0_0_ca6e7fd617\" y=\"166.195866\"/>\n    </g>\n    <g clip-path=\"url(#p299e5ebbfc)\">\n     <use style=\"fill:#386df9;stroke:#ffffff;stroke-width:0.48;\" x=\"81.686898\" xlink:href=\"#C0_0_ca6e7fd617\" y=\"70.522936\"/>\n    </g>\n    <g clip-path=\"url(#p299e5ebbfc)\">\n     <use style=\"fill:#386df9;stroke:#ffffff;stroke-width:0.48;\" x=\"102.359228\" xlink:href=\"#C0_0_ca6e7fd617\" y=\"190.036281\"/>\n    </g>\n    <g clip-path=\"url(#p299e5ebbfc)\">\n     <use style=\"fill:#386df9;stroke:#ffffff;stroke-width:0.48;\" x=\"98.637052\" xlink:href=\"#C0_0_ca6e7fd617\" y=\"169.290488\"/>\n    </g>\n    <g clip-path=\"url(#p299e5ebbfc)\">\n     <use style=\"fill:#386df9;stroke:#ffffff;stroke-width:0.48;\" x=\"98.538067\" xlink:href=\"#C0_0_ca6e7fd617\" y=\"173.424767\"/>\n    </g>\n    <g clip-path=\"url(#p299e5ebbfc)\">\n     <use style=\"fill:#386df9;stroke:#ffffff;stroke-width:0.48;\" x=\"101.035437\" xlink:href=\"#C0_0_ca6e7fd617\" y=\"180.558462\"/>\n    </g>\n    <g clip-path=\"url(#p299e5ebbfc)\">\n     <use style=\"fill:#386df9;stroke:#ffffff;stroke-width:0.48;\" x=\"98.36566\" xlink:href=\"#C0_0_ca6e7fd617\" y=\"109.49942\"/>\n    </g>\n    <g clip-path=\"url(#p299e5ebbfc)\">\n     <use style=\"fill:#386df9;stroke:#ffffff;stroke-width:0.48;\" x=\"98.36566\" xlink:href=\"#C0_0_ca6e7fd617\" y=\"109.49942\"/>\n    </g>\n    <g clip-path=\"url(#p299e5ebbfc)\">\n     <use style=\"fill:#386df9;stroke:#ffffff;stroke-width:0.48;\" x=\"109.30494\" xlink:href=\"#C0_0_ca6e7fd617\" y=\"166.403224\"/>\n    </g>\n    <g clip-path=\"url(#p299e5ebbfc)\">\n     <use style=\"fill:#386df9;stroke:#ffffff;stroke-width:0.48;\" x=\"109.30494\" xlink:href=\"#C0_0_ca6e7fd617\" y=\"166.403224\"/>\n    </g>\n    <g clip-path=\"url(#p299e5ebbfc)\">\n     <use style=\"fill:#386df9;stroke:#ffffff;stroke-width:0.48;\" x=\"96.925369\" xlink:href=\"#C0_0_ca6e7fd617\" y=\"158.48842\"/>\n    </g>\n    <g clip-path=\"url(#p299e5ebbfc)\">\n     <use style=\"fill:#386df9;stroke:#ffffff;stroke-width:0.48;\" x=\"96.925369\" xlink:href=\"#C0_0_ca6e7fd617\" y=\"158.48842\"/>\n    </g>\n    <g clip-path=\"url(#p299e5ebbfc)\">\n     <use style=\"fill:#386df9;stroke:#ffffff;stroke-width:0.48;\" x=\"106.615004\" xlink:href=\"#C0_0_ca6e7fd617\" y=\"176.930957\"/>\n    </g>\n    <g clip-path=\"url(#p299e5ebbfc)\">\n     <use style=\"fill:#386df9;stroke:#ffffff;stroke-width:0.48;\" x=\"106.615004\" xlink:href=\"#C0_0_ca6e7fd617\" y=\"176.930957\"/>\n    </g>\n    <g clip-path=\"url(#p299e5ebbfc)\">\n     <use style=\"fill:#386df9;stroke:#ffffff;stroke-width:0.48;\" x=\"102.283639\" xlink:href=\"#C0_0_ca6e7fd617\" y=\"162.523856\"/>\n    </g>\n    <g clip-path=\"url(#p299e5ebbfc)\">\n     <use style=\"fill:#386df9;stroke:#ffffff;stroke-width:0.48;\" x=\"102.283639\" xlink:href=\"#C0_0_ca6e7fd617\" y=\"162.523856\"/>\n    </g>\n    <g clip-path=\"url(#p299e5ebbfc)\">\n     <use style=\"fill:#386df9;stroke:#ffffff;stroke-width:0.48;\" x=\"102.283639\" xlink:href=\"#C0_0_ca6e7fd617\" y=\"162.523856\"/>\n    </g>\n    <g clip-path=\"url(#p299e5ebbfc)\">\n     <use style=\"fill:#386df9;stroke:#ffffff;stroke-width:0.48;\" x=\"102.283639\" xlink:href=\"#C0_0_ca6e7fd617\" y=\"162.523856\"/>\n    </g>\n    <g clip-path=\"url(#p299e5ebbfc)\">\n     <use style=\"fill:#386df9;stroke:#ffffff;stroke-width:0.48;\" x=\"102.283639\" xlink:href=\"#C0_0_ca6e7fd617\" y=\"162.523856\"/>\n    </g>\n    <g clip-path=\"url(#p299e5ebbfc)\">\n     <use style=\"fill:#386df9;stroke:#ffffff;stroke-width:0.48;\" x=\"109.230957\" xlink:href=\"#C0_0_ca6e7fd617\" y=\"195.87851\"/>\n    </g>\n    <g clip-path=\"url(#p299e5ebbfc)\">\n     <use style=\"fill:#386df9;stroke:#ffffff;stroke-width:0.48;\" x=\"101.231789\" xlink:href=\"#C0_0_ca6e7fd617\" y=\"151.47949\"/>\n    </g>\n    <g clip-path=\"url(#p299e5ebbfc)\">\n     <use style=\"fill:#386df9;stroke:#ffffff;stroke-width:0.48;\" x=\"101.231789\" xlink:href=\"#C0_0_ca6e7fd617\" y=\"151.47949\"/>\n    </g>\n    <g clip-path=\"url(#p299e5ebbfc)\">\n     <use style=\"fill:#386df9;stroke:#ffffff;stroke-width:0.48;\" x=\"101.231789\" xlink:href=\"#C0_0_ca6e7fd617\" y=\"151.47949\"/>\n    </g>\n    <g clip-path=\"url(#p299e5ebbfc)\">\n     <use style=\"fill:#386df9;stroke:#ffffff;stroke-width:0.48;\" x=\"101.231789\" xlink:href=\"#C0_0_ca6e7fd617\" y=\"151.47949\"/>\n    </g>\n    <g clip-path=\"url(#p299e5ebbfc)\">\n     <use style=\"fill:#386df9;stroke:#ffffff;stroke-width:0.48;\" x=\"108.936064\" xlink:href=\"#C0_0_ca6e7fd617\" y=\"190.930297\"/>\n    </g>\n    <g clip-path=\"url(#p299e5ebbfc)\">\n     <use style=\"fill:#386df9;stroke:#ffffff;stroke-width:0.48;\" x=\"108.936064\" xlink:href=\"#C0_0_ca6e7fd617\" y=\"190.930297\"/>\n    </g>\n    <g clip-path=\"url(#p299e5ebbfc)\">\n     <use style=\"fill:#386df9;stroke:#ffffff;stroke-width:0.48;\" x=\"108.936064\" xlink:href=\"#C0_0_ca6e7fd617\" y=\"190.930297\"/>\n    </g>\n    <g clip-path=\"url(#p299e5ebbfc)\">\n     <use style=\"fill:#386df9;stroke:#ffffff;stroke-width:0.48;\" x=\"103.593102\" xlink:href=\"#C0_0_ca6e7fd617\" y=\"205.667208\"/>\n    </g>\n    <g clip-path=\"url(#p299e5ebbfc)\">\n     <use style=\"fill:#386df9;stroke:#ffffff;stroke-width:0.48;\" x=\"99.450426\" xlink:href=\"#C0_0_ca6e7fd617\" y=\"163.291859\"/>\n    </g>\n    <g clip-path=\"url(#p299e5ebbfc)\">\n     <use style=\"fill:#386df9;stroke:#ffffff;stroke-width:0.48;\" x=\"111.513857\" xlink:href=\"#C0_0_ca6e7fd617\" y=\"207.143755\"/>\n    </g>\n    <g clip-path=\"url(#p299e5ebbfc)\">\n     <use style=\"fill:#386df9;stroke:#ffffff;stroke-width:0.48;\" x=\"111.513857\" xlink:href=\"#C0_0_ca6e7fd617\" y=\"207.143755\"/>\n    </g>\n    <g clip-path=\"url(#p299e5ebbfc)\">\n     <use style=\"fill:#386df9;stroke:#ffffff;stroke-width:0.48;\" x=\"108.963363\" xlink:href=\"#C0_0_ca6e7fd617\" y=\"168.428096\"/>\n    </g>\n    <g clip-path=\"url(#p299e5ebbfc)\">\n     <use style=\"fill:#386df9;stroke:#ffffff;stroke-width:0.48;\" x=\"108.963363\" xlink:href=\"#C0_0_ca6e7fd617\" y=\"168.428096\"/>\n    </g>\n    <g clip-path=\"url(#p299e5ebbfc)\">\n     <use style=\"fill:#386df9;stroke:#ffffff;stroke-width:0.48;\" x=\"103.396043\" xlink:href=\"#C0_0_ca6e7fd617\" y=\"174.958984\"/>\n    </g>\n    <g clip-path=\"url(#p299e5ebbfc)\">\n     <use style=\"fill:#386df9;stroke:#ffffff;stroke-width:0.48;\" x=\"103.12041\" xlink:href=\"#C0_0_ca6e7fd617\" y=\"193.877269\"/>\n    </g>\n    <g clip-path=\"url(#p299e5ebbfc)\">\n     <use style=\"fill:#386df9;stroke:#ffffff;stroke-width:0.48;\" x=\"96.278019\" xlink:href=\"#C0_0_ca6e7fd617\" y=\"117.359554\"/>\n    </g>\n    <g clip-path=\"url(#p299e5ebbfc)\">\n     <use style=\"fill:#386df9;stroke:#ffffff;stroke-width:0.48;\" x=\"102.040453\" xlink:href=\"#C0_0_ca6e7fd617\" y=\"171.632189\"/>\n    </g>\n    <g clip-path=\"url(#p299e5ebbfc)\">\n     <use style=\"fill:#386df9;stroke:#ffffff;stroke-width:0.48;\" x=\"109.585378\" xlink:href=\"#C0_0_ca6e7fd617\" y=\"200.44391\"/>\n    </g>\n    <g clip-path=\"url(#p299e5ebbfc)\">\n     <use style=\"fill:#386df9;stroke:#ffffff;stroke-width:0.48;\" x=\"98.394503\" xlink:href=\"#C0_0_ca6e7fd617\" y=\"184.975187\"/>\n    </g>\n    <g clip-path=\"url(#p299e5ebbfc)\">\n     <use style=\"fill:#386df9;stroke:#ffffff;stroke-width:0.48;\" x=\"98.394503\" xlink:href=\"#C0_0_ca6e7fd617\" y=\"184.975187\"/>\n    </g>\n    <g clip-path=\"url(#p299e5ebbfc)\">\n     <use style=\"fill:#386df9;stroke:#ffffff;stroke-width:0.48;\" x=\"98.394503\" xlink:href=\"#C0_0_ca6e7fd617\" y=\"184.975187\"/>\n    </g>\n    <g clip-path=\"url(#p299e5ebbfc)\">\n     <use style=\"fill:#386df9;stroke:#ffffff;stroke-width:0.48;\" x=\"97.152088\" xlink:href=\"#C0_0_ca6e7fd617\" y=\"150.288373\"/>\n    </g>\n    <g clip-path=\"url(#p299e5ebbfc)\">\n     <use style=\"fill:#386df9;stroke:#ffffff;stroke-width:0.48;\" x=\"97.44355\" xlink:href=\"#C0_0_ca6e7fd617\" y=\"144.517919\"/>\n    </g>\n    <g clip-path=\"url(#p299e5ebbfc)\">\n     <use style=\"fill:#386df9;stroke:#ffffff;stroke-width:0.48;\" x=\"97.44355\" xlink:href=\"#C0_0_ca6e7fd617\" y=\"144.517919\"/>\n    </g>\n    <g clip-path=\"url(#p299e5ebbfc)\">\n     <use style=\"fill:#386df9;stroke:#ffffff;stroke-width:0.48;\" x=\"97.44355\" xlink:href=\"#C0_0_ca6e7fd617\" y=\"144.517919\"/>\n    </g>\n    <g clip-path=\"url(#p299e5ebbfc)\">\n     <use style=\"fill:#386df9;stroke:#ffffff;stroke-width:0.48;\" x=\"97.44355\" xlink:href=\"#C0_0_ca6e7fd617\" y=\"144.517919\"/>\n    </g>\n    <g clip-path=\"url(#p299e5ebbfc)\">\n     <use style=\"fill:#386df9;stroke:#ffffff;stroke-width:0.48;\" x=\"96.776877\" xlink:href=\"#C0_0_ca6e7fd617\" y=\"174.739126\"/>\n    </g>\n    <g clip-path=\"url(#p299e5ebbfc)\">\n     <use style=\"fill:#386df9;stroke:#ffffff;stroke-width:0.48;\" x=\"96.776877\" xlink:href=\"#C0_0_ca6e7fd617\" y=\"174.739126\"/>\n    </g>\n    <g clip-path=\"url(#p299e5ebbfc)\">\n     <use style=\"fill:#386df9;stroke:#ffffff;stroke-width:0.48;\" x=\"93.381908\" xlink:href=\"#C0_0_ca6e7fd617\" y=\"133.209554\"/>\n    </g>\n    <g clip-path=\"url(#p299e5ebbfc)\">\n     <use style=\"fill:#386df9;stroke:#ffffff;stroke-width:0.48;\" x=\"93.381908\" xlink:href=\"#C0_0_ca6e7fd617\" y=\"133.209554\"/>\n    </g>\n    <g clip-path=\"url(#p299e5ebbfc)\">\n     <use style=\"fill:#386df9;stroke:#ffffff;stroke-width:0.48;\" x=\"105.401095\" xlink:href=\"#C0_0_ca6e7fd617\" y=\"190.201823\"/>\n    </g>\n    <g clip-path=\"url(#p299e5ebbfc)\">\n     <use style=\"fill:#386df9;stroke:#ffffff;stroke-width:0.48;\" x=\"105.401095\" xlink:href=\"#C0_0_ca6e7fd617\" y=\"190.201823\"/>\n    </g>\n    <g clip-path=\"url(#p299e5ebbfc)\">\n     <use style=\"fill:#386df9;stroke:#ffffff;stroke-width:0.48;\" x=\"105.401095\" xlink:href=\"#C0_0_ca6e7fd617\" y=\"190.201823\"/>\n    </g>\n    <g clip-path=\"url(#p299e5ebbfc)\">\n     <use style=\"fill:#386df9;stroke:#ffffff;stroke-width:0.48;\" x=\"105.401095\" xlink:href=\"#C0_0_ca6e7fd617\" y=\"190.201823\"/>\n    </g>\n    <g clip-path=\"url(#p299e5ebbfc)\">\n     <use style=\"fill:#386df9;stroke:#ffffff;stroke-width:0.48;\" x=\"105.401095\" xlink:href=\"#C0_0_ca6e7fd617\" y=\"190.201823\"/>\n    </g>\n    <g clip-path=\"url(#p299e5ebbfc)\">\n     <use style=\"fill:#386df9;stroke:#ffffff;stroke-width:0.48;\" x=\"102.783332\" xlink:href=\"#C0_0_ca6e7fd617\" y=\"198.784851\"/>\n    </g>\n    <g clip-path=\"url(#p299e5ebbfc)\">\n     <use style=\"fill:#386df9;stroke:#ffffff;stroke-width:0.48;\" x=\"102.783332\" xlink:href=\"#C0_0_ca6e7fd617\" y=\"198.784851\"/>\n    </g>\n    <g clip-path=\"url(#p299e5ebbfc)\">\n     <use style=\"fill:#386df9;stroke:#ffffff;stroke-width:0.48;\" x=\"102.783332\" xlink:href=\"#C0_0_ca6e7fd617\" y=\"198.784851\"/>\n    </g>\n    <g clip-path=\"url(#p299e5ebbfc)\">\n     <use style=\"fill:#386df9;stroke:#ffffff;stroke-width:0.48;\" x=\"99.50495\" xlink:href=\"#C0_0_ca6e7fd617\" y=\"192.807184\"/>\n    </g>\n    <g clip-path=\"url(#p299e5ebbfc)\">\n     <use style=\"fill:#386df9;stroke:#ffffff;stroke-width:0.48;\" x=\"99.50495\" xlink:href=\"#C0_0_ca6e7fd617\" y=\"192.807184\"/>\n    </g>\n    <g clip-path=\"url(#p299e5ebbfc)\">\n     <use style=\"fill:#386df9;stroke:#ffffff;stroke-width:0.48;\" x=\"107.938542\" xlink:href=\"#C0_0_ca6e7fd617\" y=\"200.309489\"/>\n    </g>\n    <g clip-path=\"url(#p299e5ebbfc)\">\n     <use style=\"fill:#386df9;stroke:#ffffff;stroke-width:0.48;\" x=\"99.399497\" xlink:href=\"#C0_0_ca6e7fd617\" y=\"122.842264\"/>\n    </g>\n    <g clip-path=\"url(#p299e5ebbfc)\">\n     <use style=\"fill:#386df9;stroke:#ffffff;stroke-width:0.48;\" x=\"101.0489\" xlink:href=\"#C0_0_ca6e7fd617\" y=\"177.327181\"/>\n    </g>\n    <g clip-path=\"url(#p299e5ebbfc)\">\n     <use style=\"fill:#386df9;stroke:#ffffff;stroke-width:0.48;\" x=\"101.0489\" xlink:href=\"#C0_0_ca6e7fd617\" y=\"177.327181\"/>\n    </g>\n    <g clip-path=\"url(#p299e5ebbfc)\">\n     <use style=\"fill:#386df9;stroke:#ffffff;stroke-width:0.48;\" x=\"101.0489\" xlink:href=\"#C0_0_ca6e7fd617\" y=\"177.327181\"/>\n    </g>\n    <g clip-path=\"url(#p299e5ebbfc)\">\n     <use style=\"fill:#386df9;stroke:#ffffff;stroke-width:0.48;\" x=\"113.995567\" xlink:href=\"#C0_0_ca6e7fd617\" y=\"184.198068\"/>\n    </g>\n    <g clip-path=\"url(#p299e5ebbfc)\">\n     <use style=\"fill:#386df9;stroke:#ffffff;stroke-width:0.48;\" x=\"106.582899\" xlink:href=\"#C0_0_ca6e7fd617\" y=\"179.335412\"/>\n    </g>\n    <g clip-path=\"url(#p299e5ebbfc)\">\n     <use style=\"fill:#386df9;stroke:#ffffff;stroke-width:0.48;\" x=\"105.680297\" xlink:href=\"#C0_0_ca6e7fd617\" y=\"189.794578\"/>\n    </g>\n    <g clip-path=\"url(#p299e5ebbfc)\">\n     <use style=\"fill:#386df9;stroke:#ffffff;stroke-width:0.48;\" x=\"102.533713\" xlink:href=\"#C0_0_ca6e7fd617\" y=\"154.369377\"/>\n    </g>\n    <g clip-path=\"url(#p299e5ebbfc)\">\n     <use style=\"fill:#386df9;stroke:#ffffff;stroke-width:0.48;\" x=\"102.533713\" xlink:href=\"#C0_0_ca6e7fd617\" y=\"154.369377\"/>\n    </g>\n    <g clip-path=\"url(#p299e5ebbfc)\">\n     <use style=\"fill:#386df9;stroke:#ffffff;stroke-width:0.48;\" x=\"103.144356\" xlink:href=\"#C0_0_ca6e7fd617\" y=\"173.184469\"/>\n    </g>\n    <g clip-path=\"url(#p299e5ebbfc)\">\n     <use style=\"fill:#386df9;stroke:#ffffff;stroke-width:0.48;\" x=\"103.144356\" xlink:href=\"#C0_0_ca6e7fd617\" y=\"173.184469\"/>\n    </g>\n    <g clip-path=\"url(#p299e5ebbfc)\">\n     <use style=\"fill:#386df9;stroke:#ffffff;stroke-width:0.48;\" x=\"103.144356\" xlink:href=\"#C0_0_ca6e7fd617\" y=\"173.184469\"/>\n    </g>\n    <g clip-path=\"url(#p299e5ebbfc)\">\n     <use style=\"fill:#386df9;stroke:#ffffff;stroke-width:0.48;\" x=\"103.501514\" xlink:href=\"#C0_0_ca6e7fd617\" y=\"186.778924\"/>\n    </g>\n    <g clip-path=\"url(#p299e5ebbfc)\">\n     <use style=\"fill:#386df9;stroke:#ffffff;stroke-width:0.48;\" x=\"103.501514\" xlink:href=\"#C0_0_ca6e7fd617\" y=\"186.778924\"/>\n    </g>\n    <g clip-path=\"url(#p299e5ebbfc)\">\n     <use style=\"fill:#386df9;stroke:#ffffff;stroke-width:0.48;\" x=\"110.350675\" xlink:href=\"#C0_0_ca6e7fd617\" y=\"184.699977\"/>\n    </g>\n    <g clip-path=\"url(#p299e5ebbfc)\">\n     <use style=\"fill:#386df9;stroke:#ffffff;stroke-width:0.48;\" x=\"88.70079\" xlink:href=\"#C0_0_ca6e7fd617\" y=\"84.60041\"/>\n    </g>\n    <g clip-path=\"url(#p299e5ebbfc)\">\n     <use style=\"fill:#386df9;stroke:#ffffff;stroke-width:0.48;\" x=\"96.499248\" xlink:href=\"#C0_0_ca6e7fd617\" y=\"163.532076\"/>\n    </g>\n    <g clip-path=\"url(#p299e5ebbfc)\">\n     <use style=\"fill:#386df9;stroke:#ffffff;stroke-width:0.48;\" x=\"96.499248\" xlink:href=\"#C0_0_ca6e7fd617\" y=\"163.532076\"/>\n    </g>\n    <g clip-path=\"url(#p299e5ebbfc)\">\n     <use style=\"fill:#386df9;stroke:#ffffff;stroke-width:0.48;\" x=\"101.627937\" xlink:href=\"#C0_0_ca6e7fd617\" y=\"175.908156\"/>\n    </g>\n    <g clip-path=\"url(#p299e5ebbfc)\">\n     <use style=\"fill:#386df9;stroke:#ffffff;stroke-width:0.48;\" x=\"101.627937\" xlink:href=\"#C0_0_ca6e7fd617\" y=\"175.908156\"/>\n    </g>\n    <g clip-path=\"url(#p299e5ebbfc)\">\n     <use style=\"fill:#386df9;stroke:#ffffff;stroke-width:0.48;\" x=\"101.511627\" xlink:href=\"#C0_0_ca6e7fd617\" y=\"203.653332\"/>\n    </g>\n    <g clip-path=\"url(#p299e5ebbfc)\">\n     <use style=\"fill:#386df9;stroke:#ffffff;stroke-width:0.48;\" x=\"102.185228\" xlink:href=\"#C0_0_ca6e7fd617\" y=\"152.184386\"/>\n    </g>\n    <g clip-path=\"url(#p299e5ebbfc)\">\n     <use style=\"fill:#386df9;stroke:#ffffff;stroke-width:0.48;\" x=\"84.490271\" xlink:href=\"#C0_0_ca6e7fd617\" y=\"121.512614\"/>\n    </g>\n    <g clip-path=\"url(#p299e5ebbfc)\">\n     <use style=\"fill:#386df9;stroke:#ffffff;stroke-width:0.48;\" x=\"84.490271\" xlink:href=\"#C0_0_ca6e7fd617\" y=\"121.512614\"/>\n    </g>\n    <g clip-path=\"url(#p299e5ebbfc)\">\n     <use style=\"fill:#386df9;stroke:#ffffff;stroke-width:0.48;\" x=\"84.490271\" xlink:href=\"#C0_0_ca6e7fd617\" y=\"121.512614\"/>\n    </g>\n    <g clip-path=\"url(#p299e5ebbfc)\">\n     <use style=\"fill:#386df9;stroke:#ffffff;stroke-width:0.48;\" x=\"87.317716\" xlink:href=\"#C0_0_ca6e7fd617\" y=\"168.008302\"/>\n    </g>\n    <g clip-path=\"url(#p299e5ebbfc)\">\n     <use style=\"fill:#386df9;stroke:#ffffff;stroke-width:0.48;\" x=\"87.317716\" xlink:href=\"#C0_0_ca6e7fd617\" y=\"168.008302\"/>\n    </g>\n    <g clip-path=\"url(#p299e5ebbfc)\">\n     <use style=\"fill:#386df9;stroke:#ffffff;stroke-width:0.48;\" x=\"105.422904\" xlink:href=\"#C0_0_ca6e7fd617\" y=\"174.092223\"/>\n    </g>\n    <g clip-path=\"url(#p299e5ebbfc)\">\n     <use style=\"fill:#386df9;stroke:#ffffff;stroke-width:0.48;\" x=\"105.422904\" xlink:href=\"#C0_0_ca6e7fd617\" y=\"174.092223\"/>\n    </g>\n    <g clip-path=\"url(#p299e5ebbfc)\">\n     <use style=\"fill:#386df9;stroke:#ffffff;stroke-width:0.48;\" x=\"79.879117\" xlink:href=\"#C0_0_ca6e7fd617\" y=\"106.008685\"/>\n    </g>\n    <g clip-path=\"url(#p299e5ebbfc)\">\n     <use style=\"fill:#386df9;stroke:#ffffff;stroke-width:0.48;\" x=\"79.879117\" xlink:href=\"#C0_0_ca6e7fd617\" y=\"106.008685\"/>\n    </g>\n    <g clip-path=\"url(#p299e5ebbfc)\">\n     <use style=\"fill:#386df9;stroke:#ffffff;stroke-width:0.48;\" x=\"108.940729\" xlink:href=\"#C0_0_ca6e7fd617\" y=\"190.940023\"/>\n    </g>\n    <g clip-path=\"url(#p299e5ebbfc)\">\n     <use style=\"fill:#386df9;stroke:#ffffff;stroke-width:0.48;\" x=\"107.112306\" xlink:href=\"#C0_0_ca6e7fd617\" y=\"166.29837\"/>\n    </g>\n    <g clip-path=\"url(#p299e5ebbfc)\">\n     <use style=\"fill:#386df9;stroke:#ffffff;stroke-width:0.48;\" x=\"107.112306\" xlink:href=\"#C0_0_ca6e7fd617\" y=\"166.29837\"/>\n    </g>\n    <g clip-path=\"url(#p299e5ebbfc)\">\n     <use style=\"fill:#386df9;stroke:#ffffff;stroke-width:0.48;\" x=\"107.112306\" xlink:href=\"#C0_0_ca6e7fd617\" y=\"166.29837\"/>\n    </g>\n    <g clip-path=\"url(#p299e5ebbfc)\">\n     <use style=\"fill:#386df9;stroke:#ffffff;stroke-width:0.48;\" x=\"101.964862\" xlink:href=\"#C0_0_ca6e7fd617\" y=\"128.455172\"/>\n    </g>\n    <g clip-path=\"url(#p299e5ebbfc)\">\n     <use style=\"fill:#386df9;stroke:#ffffff;stroke-width:0.48;\" x=\"101.964862\" xlink:href=\"#C0_0_ca6e7fd617\" y=\"128.455172\"/>\n    </g>\n    <g clip-path=\"url(#p299e5ebbfc)\">\n     <use style=\"fill:#386df9;stroke:#ffffff;stroke-width:0.48;\" x=\"110.443294\" xlink:href=\"#C0_0_ca6e7fd617\" y=\"170.666696\"/>\n    </g>\n    <g clip-path=\"url(#p299e5ebbfc)\">\n     <use style=\"fill:#386df9;stroke:#ffffff;stroke-width:0.48;\" x=\"110.443294\" xlink:href=\"#C0_0_ca6e7fd617\" y=\"170.666696\"/>\n    </g>\n    <g clip-path=\"url(#p299e5ebbfc)\">\n     <use style=\"fill:#386df9;stroke:#ffffff;stroke-width:0.48;\" x=\"106.966949\" xlink:href=\"#C0_0_ca6e7fd617\" y=\"174.097679\"/>\n    </g>\n    <g clip-path=\"url(#p299e5ebbfc)\">\n     <use style=\"fill:#386df9;stroke:#ffffff;stroke-width:0.48;\" x=\"109.007301\" xlink:href=\"#C0_0_ca6e7fd617\" y=\"186.298497\"/>\n    </g>\n    <g clip-path=\"url(#p299e5ebbfc)\">\n     <use style=\"fill:#386df9;stroke:#ffffff;stroke-width:0.48;\" x=\"109.007301\" xlink:href=\"#C0_0_ca6e7fd617\" y=\"186.298497\"/>\n    </g>\n    <g clip-path=\"url(#p299e5ebbfc)\">\n     <use style=\"fill:#386df9;stroke:#ffffff;stroke-width:0.48;\" x=\"101.73826\" xlink:href=\"#C0_0_ca6e7fd617\" y=\"203.184842\"/>\n    </g>\n    <g clip-path=\"url(#p299e5ebbfc)\">\n     <use style=\"fill:#386df9;stroke:#ffffff;stroke-width:0.48;\" x=\"101.73826\" xlink:href=\"#C0_0_ca6e7fd617\" y=\"203.184842\"/>\n    </g>\n    <g clip-path=\"url(#p299e5ebbfc)\">\n     <use style=\"fill:#386df9;stroke:#ffffff;stroke-width:0.48;\" x=\"114.468234\" xlink:href=\"#C0_0_ca6e7fd617\" y=\"194.084248\"/>\n    </g>\n    <g clip-path=\"url(#p299e5ebbfc)\">\n     <use style=\"fill:#386df9;stroke:#ffffff;stroke-width:0.48;\" x=\"108.15272\" xlink:href=\"#C0_0_ca6e7fd617\" y=\"131.304367\"/>\n    </g>\n    <g clip-path=\"url(#p299e5ebbfc)\">\n     <use style=\"fill:#386df9;stroke:#ffffff;stroke-width:0.48;\" x=\"108.15272\" xlink:href=\"#C0_0_ca6e7fd617\" y=\"131.304367\"/>\n    </g>\n    <g clip-path=\"url(#p299e5ebbfc)\">\n     <use style=\"fill:#386df9;stroke:#ffffff;stroke-width:0.48;\" x=\"108.15272\" xlink:href=\"#C0_0_ca6e7fd617\" y=\"131.304367\"/>\n    </g>\n    <g clip-path=\"url(#p299e5ebbfc)\">\n     <use style=\"fill:#386df9;stroke:#ffffff;stroke-width:0.48;\" x=\"108.15272\" xlink:href=\"#C0_0_ca6e7fd617\" y=\"131.304367\"/>\n    </g>\n    <g clip-path=\"url(#p299e5ebbfc)\">\n     <use style=\"fill:#386df9;stroke:#ffffff;stroke-width:0.48;\" x=\"83.006602\" xlink:href=\"#C0_0_ca6e7fd617\" y=\"92.881069\"/>\n    </g>\n    <g clip-path=\"url(#p299e5ebbfc)\">\n     <use style=\"fill:#386df9;stroke:#ffffff;stroke-width:0.48;\" x=\"98.405543\" xlink:href=\"#C0_0_ca6e7fd617\" y=\"155.594845\"/>\n    </g>\n    <g clip-path=\"url(#p299e5ebbfc)\">\n     <use style=\"fill:#386df9;stroke:#ffffff;stroke-width:0.48;\" x=\"98.405543\" xlink:href=\"#C0_0_ca6e7fd617\" y=\"155.594845\"/>\n    </g>\n    <g clip-path=\"url(#p299e5ebbfc)\">\n     <use style=\"fill:#386df9;stroke:#ffffff;stroke-width:0.48;\" x=\"98.405543\" xlink:href=\"#C0_0_ca6e7fd617\" y=\"155.594845\"/>\n    </g>\n    <g clip-path=\"url(#p299e5ebbfc)\">\n     <use style=\"fill:#386df9;stroke:#ffffff;stroke-width:0.48;\" x=\"98.405543\" xlink:href=\"#C0_0_ca6e7fd617\" y=\"155.594845\"/>\n    </g>\n    <g clip-path=\"url(#p299e5ebbfc)\">\n     <use style=\"fill:#386df9;stroke:#ffffff;stroke-width:0.48;\" x=\"98.405543\" xlink:href=\"#C0_0_ca6e7fd617\" y=\"155.594845\"/>\n    </g>\n    <g clip-path=\"url(#p299e5ebbfc)\">\n     <use style=\"fill:#386df9;stroke:#ffffff;stroke-width:0.48;\" x=\"106.525669\" xlink:href=\"#C0_0_ca6e7fd617\" y=\"170.116035\"/>\n    </g>\n    <g clip-path=\"url(#p299e5ebbfc)\">\n     <use style=\"fill:#386df9;stroke:#ffffff;stroke-width:0.48;\" x=\"105.796763\" xlink:href=\"#C0_0_ca6e7fd617\" y=\"154.559887\"/>\n    </g>\n    <g clip-path=\"url(#p299e5ebbfc)\">\n     <use style=\"fill:#386df9;stroke:#ffffff;stroke-width:0.48;\" x=\"105.796763\" xlink:href=\"#C0_0_ca6e7fd617\" y=\"154.559887\"/>\n    </g>\n    <g clip-path=\"url(#p299e5ebbfc)\">\n     <use style=\"fill:#386df9;stroke:#ffffff;stroke-width:0.48;\" x=\"105.796763\" xlink:href=\"#C0_0_ca6e7fd617\" y=\"154.559887\"/>\n    </g>\n    <g clip-path=\"url(#p299e5ebbfc)\">\n     <use style=\"fill:#386df9;stroke:#ffffff;stroke-width:0.48;\" x=\"104.681327\" xlink:href=\"#C0_0_ca6e7fd617\" y=\"173.852623\"/>\n    </g>\n    <g clip-path=\"url(#p299e5ebbfc)\">\n     <use style=\"fill:#386df9;stroke:#ffffff;stroke-width:0.48;\" x=\"104.681327\" xlink:href=\"#C0_0_ca6e7fd617\" y=\"173.852623\"/>\n    </g>\n    <g clip-path=\"url(#p299e5ebbfc)\">\n     <use style=\"fill:#386df9;stroke:#ffffff;stroke-width:0.48;\" x=\"97.79888\" xlink:href=\"#C0_0_ca6e7fd617\" y=\"172.944312\"/>\n    </g>\n    <g clip-path=\"url(#p299e5ebbfc)\">\n     <use style=\"fill:#386df9;stroke:#ffffff;stroke-width:0.48;\" x=\"97.79888\" xlink:href=\"#C0_0_ca6e7fd617\" y=\"172.944312\"/>\n    </g>\n    <g clip-path=\"url(#p299e5ebbfc)\">\n     <use style=\"fill:#386df9;stroke:#ffffff;stroke-width:0.48;\" x=\"97.79888\" xlink:href=\"#C0_0_ca6e7fd617\" y=\"172.944312\"/>\n    </g>\n    <g clip-path=\"url(#p299e5ebbfc)\">\n     <use style=\"fill:#386df9;stroke:#ffffff;stroke-width:0.48;\" x=\"97.79888\" xlink:href=\"#C0_0_ca6e7fd617\" y=\"172.944312\"/>\n    </g>\n    <g clip-path=\"url(#p299e5ebbfc)\">\n     <use style=\"fill:#386df9;stroke:#ffffff;stroke-width:0.48;\" x=\"97.945452\" xlink:href=\"#C0_0_ca6e7fd617\" y=\"136.728974\"/>\n    </g>\n    <g clip-path=\"url(#p299e5ebbfc)\">\n     <use style=\"fill:#386df9;stroke:#ffffff;stroke-width:0.48;\" x=\"96.772664\" xlink:href=\"#C0_0_ca6e7fd617\" y=\"174.730342\"/>\n    </g>\n    <g clip-path=\"url(#p299e5ebbfc)\">\n     <use style=\"fill:#386df9;stroke:#ffffff;stroke-width:0.48;\" x=\"96.772664\" xlink:href=\"#C0_0_ca6e7fd617\" y=\"174.730342\"/>\n    </g>\n    <g clip-path=\"url(#p299e5ebbfc)\">\n     <use style=\"fill:#386df9;stroke:#ffffff;stroke-width:0.48;\" x=\"96.772664\" xlink:href=\"#C0_0_ca6e7fd617\" y=\"174.730342\"/>\n    </g>\n    <g clip-path=\"url(#p299e5ebbfc)\">\n     <use style=\"fill:#386df9;stroke:#ffffff;stroke-width:0.48;\" x=\"96.772664\" xlink:href=\"#C0_0_ca6e7fd617\" y=\"174.730342\"/>\n    </g>\n    <g clip-path=\"url(#p299e5ebbfc)\">\n     <use style=\"fill:#386df9;stroke:#ffffff;stroke-width:0.48;\" x=\"111.180913\" xlink:href=\"#C0_0_ca6e7fd617\" y=\"206.400717\"/>\n    </g>\n    <g clip-path=\"url(#p299e5ebbfc)\">\n     <use style=\"fill:#386df9;stroke:#ffffff;stroke-width:0.48;\" x=\"111.85702\" xlink:href=\"#C0_0_ca6e7fd617\" y=\"181.788263\"/>\n    </g>\n    <g clip-path=\"url(#p299e5ebbfc)\">\n     <use style=\"fill:#386df9;stroke:#ffffff;stroke-width:0.48;\" x=\"111.85702\" xlink:href=\"#C0_0_ca6e7fd617\" y=\"181.788263\"/>\n    </g>\n    <g clip-path=\"url(#p299e5ebbfc)\">\n     <use style=\"fill:#386df9;stroke:#ffffff;stroke-width:0.48;\" x=\"95.67229\" xlink:href=\"#C0_0_ca6e7fd617\" y=\"169.718717\"/>\n    </g>\n    <g clip-path=\"url(#p299e5ebbfc)\">\n     <use style=\"fill:#386df9;stroke:#ffffff;stroke-width:0.48;\" x=\"86.976335\" xlink:href=\"#C0_0_ca6e7fd617\" y=\"111.746034\"/>\n    </g>\n    <g clip-path=\"url(#p299e5ebbfc)\">\n     <use style=\"fill:#386df9;stroke:#ffffff;stroke-width:0.48;\" x=\"86.976335\" xlink:href=\"#C0_0_ca6e7fd617\" y=\"111.746034\"/>\n    </g>\n    <g clip-path=\"url(#p299e5ebbfc)\">\n     <use style=\"fill:#386df9;stroke:#ffffff;stroke-width:0.48;\" x=\"96.141784\" xlink:href=\"#C0_0_ca6e7fd617\" y=\"175.599699\"/>\n    </g>\n    <g clip-path=\"url(#p299e5ebbfc)\">\n     <use style=\"fill:#386df9;stroke:#ffffff;stroke-width:0.48;\" x=\"96.141784\" xlink:href=\"#C0_0_ca6e7fd617\" y=\"175.599699\"/>\n    </g>\n    <g clip-path=\"url(#p299e5ebbfc)\">\n     <use style=\"fill:#386df9;stroke:#ffffff;stroke-width:0.48;\" x=\"96.141784\" xlink:href=\"#C0_0_ca6e7fd617\" y=\"175.599699\"/>\n    </g>\n    <g clip-path=\"url(#p299e5ebbfc)\">\n     <use style=\"fill:#386df9;stroke:#ffffff;stroke-width:0.48;\" x=\"96.141784\" xlink:href=\"#C0_0_ca6e7fd617\" y=\"175.599699\"/>\n    </g>\n    <g clip-path=\"url(#p299e5ebbfc)\">\n     <use style=\"fill:#386df9;stroke:#ffffff;stroke-width:0.48;\" x=\"87.523053\" xlink:href=\"#C0_0_ca6e7fd617\" y=\"75.03548\"/>\n    </g>\n    <g clip-path=\"url(#p299e5ebbfc)\">\n     <use style=\"fill:#386df9;stroke:#ffffff;stroke-width:0.48;\" x=\"87.523053\" xlink:href=\"#C0_0_ca6e7fd617\" y=\"75.03548\"/>\n    </g>\n    <g clip-path=\"url(#p299e5ebbfc)\">\n     <use style=\"fill:#386df9;stroke:#ffffff;stroke-width:0.48;\" x=\"104.872174\" xlink:href=\"#C0_0_ca6e7fd617\" y=\"163.59806\"/>\n    </g>\n    <g clip-path=\"url(#p299e5ebbfc)\">\n     <use style=\"fill:#386df9;stroke:#ffffff;stroke-width:0.48;\" x=\"104.872174\" xlink:href=\"#C0_0_ca6e7fd617\" y=\"163.59806\"/>\n    </g>\n    <g clip-path=\"url(#p299e5ebbfc)\">\n     <use style=\"fill:#386df9;stroke:#ffffff;stroke-width:0.48;\" x=\"111.127778\" xlink:href=\"#C0_0_ca6e7fd617\" y=\"212.129774\"/>\n    </g>\n    <g clip-path=\"url(#p299e5ebbfc)\">\n     <use style=\"fill:#386df9;stroke:#ffffff;stroke-width:0.48;\" x=\"111.127778\" xlink:href=\"#C0_0_ca6e7fd617\" y=\"212.129774\"/>\n    </g>\n    <g clip-path=\"url(#p299e5ebbfc)\">\n     <use style=\"fill:#386df9;stroke:#ffffff;stroke-width:0.48;\" x=\"111.127778\" xlink:href=\"#C0_0_ca6e7fd617\" y=\"212.129774\"/>\n    </g>\n    <g clip-path=\"url(#p299e5ebbfc)\">\n     <use style=\"fill:#386df9;stroke:#ffffff;stroke-width:0.48;\" x=\"112.349291\" xlink:href=\"#C0_0_ca6e7fd617\" y=\"199.793312\"/>\n    </g>\n    <g clip-path=\"url(#p299e5ebbfc)\">\n     <use style=\"fill:#386df9;stroke:#ffffff;stroke-width:0.48;\" x=\"109.016726\" xlink:href=\"#C0_0_ca6e7fd617\" y=\"212.691687\"/>\n    </g>\n    <g clip-path=\"url(#p299e5ebbfc)\">\n     <use style=\"fill:#386df9;stroke:#ffffff;stroke-width:0.48;\" x=\"109.016726\" xlink:href=\"#C0_0_ca6e7fd617\" y=\"212.691687\"/>\n    </g>\n    <g clip-path=\"url(#p299e5ebbfc)\">\n     <use style=\"fill:#386df9;stroke:#ffffff;stroke-width:0.48;\" x=\"94.567748\" xlink:href=\"#C0_0_ca6e7fd617\" y=\"136.492152\"/>\n    </g>\n    <g clip-path=\"url(#p299e5ebbfc)\">\n     <use style=\"fill:#386df9;stroke:#ffffff;stroke-width:0.48;\" x=\"97.489225\" xlink:href=\"#C0_0_ca6e7fd617\" y=\"114.743899\"/>\n    </g>\n    <g clip-path=\"url(#p299e5ebbfc)\">\n     <use style=\"fill:#386df9;stroke:#ffffff;stroke-width:0.48;\" x=\"97.489225\" xlink:href=\"#C0_0_ca6e7fd617\" y=\"114.743899\"/>\n    </g>\n    <g clip-path=\"url(#p299e5ebbfc)\">\n     <use style=\"fill:#386df9;stroke:#ffffff;stroke-width:0.48;\" x=\"97.489225\" xlink:href=\"#C0_0_ca6e7fd617\" y=\"114.743899\"/>\n    </g>\n    <g clip-path=\"url(#p299e5ebbfc)\">\n     <use style=\"fill:#386df9;stroke:#ffffff;stroke-width:0.48;\" x=\"97.489225\" xlink:href=\"#C0_0_ca6e7fd617\" y=\"114.743899\"/>\n    </g>\n    <g clip-path=\"url(#p299e5ebbfc)\">\n     <use style=\"fill:#386df9;stroke:#ffffff;stroke-width:0.48;\" x=\"97.489225\" xlink:href=\"#C0_0_ca6e7fd617\" y=\"114.743899\"/>\n    </g>\n    <g clip-path=\"url(#p299e5ebbfc)\">\n     <use style=\"fill:#386df9;stroke:#ffffff;stroke-width:0.48;\" x=\"102.341996\" xlink:href=\"#C0_0_ca6e7fd617\" y=\"186.557528\"/>\n    </g>\n    <g clip-path=\"url(#p299e5ebbfc)\">\n     <use style=\"fill:#386df9;stroke:#ffffff;stroke-width:0.48;\" x=\"102.341996\" xlink:href=\"#C0_0_ca6e7fd617\" y=\"186.557528\"/>\n    </g>\n    <g clip-path=\"url(#p299e5ebbfc)\">\n     <use style=\"fill:#386df9;stroke:#ffffff;stroke-width:0.48;\" x=\"98.738912\" xlink:href=\"#C0_0_ca6e7fd617\" y=\"100.865352\"/>\n    </g>\n    <g clip-path=\"url(#p299e5ebbfc)\">\n     <use style=\"fill:#386df9;stroke:#ffffff;stroke-width:0.48;\" x=\"98.738912\" xlink:href=\"#C0_0_ca6e7fd617\" y=\"100.865352\"/>\n    </g>\n    <g clip-path=\"url(#p299e5ebbfc)\">\n     <use style=\"fill:#386df9;stroke:#ffffff;stroke-width:0.48;\" x=\"102.569283\" xlink:href=\"#C0_0_ca6e7fd617\" y=\"203.382669\"/>\n    </g>\n    <g clip-path=\"url(#p299e5ebbfc)\">\n     <use style=\"fill:#386df9;stroke:#ffffff;stroke-width:0.48;\" x=\"106.514113\" xlink:href=\"#C0_0_ca6e7fd617\" y=\"179.771097\"/>\n    </g>\n    <g clip-path=\"url(#p299e5ebbfc)\">\n     <use style=\"fill:#386df9;stroke:#ffffff;stroke-width:0.48;\" x=\"106.514113\" xlink:href=\"#C0_0_ca6e7fd617\" y=\"179.771097\"/>\n    </g>\n    <g clip-path=\"url(#p299e5ebbfc)\">\n     <use style=\"fill:#386df9;stroke:#ffffff;stroke-width:0.48;\" x=\"106.514113\" xlink:href=\"#C0_0_ca6e7fd617\" y=\"179.771097\"/>\n    </g>\n    <g clip-path=\"url(#p299e5ebbfc)\">\n     <use style=\"fill:#386df9;stroke:#ffffff;stroke-width:0.48;\" x=\"93.520061\" xlink:href=\"#C0_0_ca6e7fd617\" y=\"155.477747\"/>\n    </g>\n    <g clip-path=\"url(#p299e5ebbfc)\">\n     <use style=\"fill:#386df9;stroke:#ffffff;stroke-width:0.48;\" x=\"93.520061\" xlink:href=\"#C0_0_ca6e7fd617\" y=\"155.477747\"/>\n    </g>\n    <g clip-path=\"url(#p299e5ebbfc)\">\n     <use style=\"fill:#386df9;stroke:#ffffff;stroke-width:0.48;\" x=\"93.520061\" xlink:href=\"#C0_0_ca6e7fd617\" y=\"155.477747\"/>\n    </g>\n    <g clip-path=\"url(#p299e5ebbfc)\">\n     <use style=\"fill:#386df9;stroke:#ffffff;stroke-width:0.48;\" x=\"93.520061\" xlink:href=\"#C0_0_ca6e7fd617\" y=\"155.477747\"/>\n    </g>\n    <g clip-path=\"url(#p299e5ebbfc)\">\n     <use style=\"fill:#386df9;stroke:#ffffff;stroke-width:0.48;\" x=\"82.435925\" xlink:href=\"#C0_0_ca6e7fd617\" y=\"32.201761\"/>\n    </g>\n    <g clip-path=\"url(#p299e5ebbfc)\">\n     <use style=\"fill:#386df9;stroke:#ffffff;stroke-width:0.48;\" x=\"102.36575\" xlink:href=\"#C0_0_ca6e7fd617\" y=\"162.134875\"/>\n    </g>\n    <g clip-path=\"url(#p299e5ebbfc)\">\n     <use style=\"fill:#386df9;stroke:#ffffff;stroke-width:0.48;\" x=\"90.50004\" xlink:href=\"#C0_0_ca6e7fd617\" y=\"146.257282\"/>\n    </g>\n    <g clip-path=\"url(#p299e5ebbfc)\">\n     <use style=\"fill:#386df9;stroke:#ffffff;stroke-width:0.48;\" x=\"90.50004\" xlink:href=\"#C0_0_ca6e7fd617\" y=\"146.257282\"/>\n    </g>\n    <g clip-path=\"url(#p299e5ebbfc)\">\n     <use style=\"fill:#386df9;stroke:#ffffff;stroke-width:0.48;\" x=\"92.056089\" xlink:href=\"#C0_0_ca6e7fd617\" y=\"115.833814\"/>\n    </g>\n    <g clip-path=\"url(#p299e5ebbfc)\">\n     <use style=\"fill:#386df9;stroke:#ffffff;stroke-width:0.48;\" x=\"92.056089\" xlink:href=\"#C0_0_ca6e7fd617\" y=\"115.833814\"/>\n    </g>\n    <g clip-path=\"url(#p299e5ebbfc)\">\n     <use style=\"fill:#386df9;stroke:#ffffff;stroke-width:0.48;\" x=\"105.318006\" xlink:href=\"#C0_0_ca6e7fd617\" y=\"174.744208\"/>\n    </g>\n    <g clip-path=\"url(#p299e5ebbfc)\">\n     <use style=\"fill:#386df9;stroke:#ffffff;stroke-width:0.48;\" x=\"100.391327\" xlink:href=\"#C0_0_ca6e7fd617\" y=\"165.563635\"/>\n    </g>\n    <g clip-path=\"url(#p299e5ebbfc)\">\n     <use style=\"fill:#386df9;stroke:#ffffff;stroke-width:0.48;\" x=\"100.391327\" xlink:href=\"#C0_0_ca6e7fd617\" y=\"165.563635\"/>\n    </g>\n    <g clip-path=\"url(#p299e5ebbfc)\">\n     <use style=\"fill:#386df9;stroke:#ffffff;stroke-width:0.48;\" x=\"99.581666\" xlink:href=\"#C0_0_ca6e7fd617\" y=\"154.262613\"/>\n    </g>\n    <g clip-path=\"url(#p299e5ebbfc)\">\n     <use style=\"fill:#386df9;stroke:#ffffff;stroke-width:0.48;\" x=\"100.32757\" xlink:href=\"#C0_0_ca6e7fd617\" y=\"141.913952\"/>\n    </g>\n    <g clip-path=\"url(#p299e5ebbfc)\">\n     <use style=\"fill:#386df9;stroke:#ffffff;stroke-width:0.48;\" x=\"111.092626\" xlink:href=\"#C0_0_ca6e7fd617\" y=\"202.176219\"/>\n    </g>\n    <g clip-path=\"url(#p299e5ebbfc)\">\n     <use style=\"fill:#386df9;stroke:#ffffff;stroke-width:0.48;\" x=\"111.092626\" xlink:href=\"#C0_0_ca6e7fd617\" y=\"202.176219\"/>\n    </g>\n    <g clip-path=\"url(#p299e5ebbfc)\">\n     <use style=\"fill:#386df9;stroke:#ffffff;stroke-width:0.48;\" x=\"111.092626\" xlink:href=\"#C0_0_ca6e7fd617\" y=\"202.176219\"/>\n    </g>\n    <g clip-path=\"url(#p299e5ebbfc)\">\n     <use style=\"fill:#386df9;stroke:#ffffff;stroke-width:0.48;\" x=\"97.875396\" xlink:href=\"#C0_0_ca6e7fd617\" y=\"165.82385\"/>\n    </g>\n    <g clip-path=\"url(#p299e5ebbfc)\">\n     <use style=\"fill:#386df9;stroke:#ffffff;stroke-width:0.48;\" x=\"97.875396\" xlink:href=\"#C0_0_ca6e7fd617\" y=\"165.82385\"/>\n    </g>\n    <g clip-path=\"url(#p299e5ebbfc)\">\n     <use style=\"fill:#386df9;stroke:#ffffff;stroke-width:0.48;\" x=\"108.294157\" xlink:href=\"#C0_0_ca6e7fd617\" y=\"188.8392\"/>\n    </g>\n    <g clip-path=\"url(#p299e5ebbfc)\">\n     <use style=\"fill:#386df9;stroke:#ffffff;stroke-width:0.48;\" x=\"108.294157\" xlink:href=\"#C0_0_ca6e7fd617\" y=\"188.8392\"/>\n    </g>\n    <g clip-path=\"url(#p299e5ebbfc)\">\n     <use style=\"fill:#386df9;stroke:#ffffff;stroke-width:0.48;\" x=\"99.07513\" xlink:href=\"#C0_0_ca6e7fd617\" y=\"153.544191\"/>\n    </g>\n    <g clip-path=\"url(#p299e5ebbfc)\">\n     <use style=\"fill:#386df9;stroke:#ffffff;stroke-width:0.48;\" x=\"99.07513\" xlink:href=\"#C0_0_ca6e7fd617\" y=\"153.544191\"/>\n    </g>\n    <g clip-path=\"url(#p299e5ebbfc)\">\n     <use style=\"fill:#386df9;stroke:#ffffff;stroke-width:0.48;\" x=\"99.07513\" xlink:href=\"#C0_0_ca6e7fd617\" y=\"153.544191\"/>\n    </g>\n    <g clip-path=\"url(#p299e5ebbfc)\">\n     <use style=\"fill:#386df9;stroke:#ffffff;stroke-width:0.48;\" x=\"104.848457\" xlink:href=\"#C0_0_ca6e7fd617\" y=\"152.927444\"/>\n    </g>\n    <g clip-path=\"url(#p299e5ebbfc)\">\n     <use style=\"fill:#386df9;stroke:#ffffff;stroke-width:0.48;\" x=\"104.848457\" xlink:href=\"#C0_0_ca6e7fd617\" y=\"152.927444\"/>\n    </g>\n    <g clip-path=\"url(#p299e5ebbfc)\">\n     <use style=\"fill:#386df9;stroke:#ffffff;stroke-width:0.48;\" x=\"105.309232\" xlink:href=\"#C0_0_ca6e7fd617\" y=\"169.072786\"/>\n    </g>\n    <g clip-path=\"url(#p299e5ebbfc)\">\n     <use style=\"fill:#386df9;stroke:#ffffff;stroke-width:0.48;\" x=\"105.309232\" xlink:href=\"#C0_0_ca6e7fd617\" y=\"169.072786\"/>\n    </g>\n    <g clip-path=\"url(#p299e5ebbfc)\">\n     <use style=\"fill:#386df9;stroke:#ffffff;stroke-width:0.48;\" x=\"88.022216\" xlink:href=\"#C0_0_ca6e7fd617\" y=\"108.703345\"/>\n    </g>\n    <g clip-path=\"url(#p299e5ebbfc)\">\n     <use style=\"fill:#386df9;stroke:#ffffff;stroke-width:0.48;\" x=\"88.022216\" xlink:href=\"#C0_0_ca6e7fd617\" y=\"108.703345\"/>\n    </g>\n    <g clip-path=\"url(#p299e5ebbfc)\">\n     <use style=\"fill:#386df9;stroke:#ffffff;stroke-width:0.48;\" x=\"88.022216\" xlink:href=\"#C0_0_ca6e7fd617\" y=\"108.703345\"/>\n    </g>\n    <g clip-path=\"url(#p299e5ebbfc)\">\n     <use style=\"fill:#386df9;stroke:#ffffff;stroke-width:0.48;\" x=\"106.230474\" xlink:href=\"#C0_0_ca6e7fd617\" y=\"160.613604\"/>\n    </g>\n    <g clip-path=\"url(#p299e5ebbfc)\">\n     <use style=\"fill:#386df9;stroke:#ffffff;stroke-width:0.48;\" x=\"106.230474\" xlink:href=\"#C0_0_ca6e7fd617\" y=\"160.613604\"/>\n    </g>\n    <g clip-path=\"url(#p299e5ebbfc)\">\n     <use style=\"fill:#386df9;stroke:#ffffff;stroke-width:0.48;\" x=\"99.208065\" xlink:href=\"#C0_0_ca6e7fd617\" y=\"151.845394\"/>\n    </g>\n    <g clip-path=\"url(#p299e5ebbfc)\">\n     <use style=\"fill:#386df9;stroke:#ffffff;stroke-width:0.48;\" x=\"105.138279\" xlink:href=\"#C0_0_ca6e7fd617\" y=\"196.460864\"/>\n    </g>\n    <g clip-path=\"url(#p299e5ebbfc)\">\n     <use style=\"fill:#386df9;stroke:#ffffff;stroke-width:0.48;\" x=\"108.948201\" xlink:href=\"#C0_0_ca6e7fd617\" y=\"214.764112\"/>\n    </g>\n    <g clip-path=\"url(#p299e5ebbfc)\">\n     <use style=\"fill:#386df9;stroke:#ffffff;stroke-width:0.48;\" x=\"106.20792\" xlink:href=\"#C0_0_ca6e7fd617\" y=\"204.617716\"/>\n    </g>\n    <g clip-path=\"url(#p299e5ebbfc)\">\n     <use style=\"fill:#386df9;stroke:#ffffff;stroke-width:0.48;\" x=\"102.572593\" xlink:href=\"#C0_0_ca6e7fd617\" y=\"180.398546\"/>\n    </g>\n    <g clip-path=\"url(#p299e5ebbfc)\">\n     <use style=\"fill:#386df9;stroke:#ffffff;stroke-width:0.48;\" x=\"111.320092\" xlink:href=\"#C0_0_ca6e7fd617\" y=\"162.41068\"/>\n    </g>\n    <g clip-path=\"url(#p299e5ebbfc)\">\n     <use style=\"fill:#386df9;stroke:#ffffff;stroke-width:0.48;\" x=\"102.045647\" xlink:href=\"#C0_0_ca6e7fd617\" y=\"168.566814\"/>\n    </g>\n    <g clip-path=\"url(#p299e5ebbfc)\">\n     <use style=\"fill:#386df9;stroke:#ffffff;stroke-width:0.48;\" x=\"105.685609\" xlink:href=\"#C0_0_ca6e7fd617\" y=\"179.572969\"/>\n    </g>\n    <g clip-path=\"url(#p299e5ebbfc)\">\n     <use style=\"fill:#386df9;stroke:#ffffff;stroke-width:0.48;\" x=\"105.685609\" xlink:href=\"#C0_0_ca6e7fd617\" y=\"179.572969\"/>\n    </g>\n    <g clip-path=\"url(#p299e5ebbfc)\">\n     <use style=\"fill:#386df9;stroke:#ffffff;stroke-width:0.48;\" x=\"104.223963\" xlink:href=\"#C0_0_ca6e7fd617\" y=\"207.873877\"/>\n    </g>\n    <g clip-path=\"url(#p299e5ebbfc)\">\n     <use style=\"fill:#386df9;stroke:#ffffff;stroke-width:0.48;\" x=\"100.453771\" xlink:href=\"#C0_0_ca6e7fd617\" y=\"165.65622\"/>\n    </g>\n    <g clip-path=\"url(#p299e5ebbfc)\">\n     <use style=\"fill:#386df9;stroke:#ffffff;stroke-width:0.48;\" x=\"105.455397\" xlink:href=\"#C0_0_ca6e7fd617\" y=\"179.886671\"/>\n    </g>\n    <g clip-path=\"url(#p299e5ebbfc)\">\n     <use style=\"fill:#386df9;stroke:#ffffff;stroke-width:0.48;\" x=\"116.18859\" xlink:href=\"#C0_0_ca6e7fd617\" y=\"198.633749\"/>\n    </g>\n    <g clip-path=\"url(#p299e5ebbfc)\">\n     <use style=\"fill:#386df9;stroke:#ffffff;stroke-width:0.48;\" x=\"103.238331\" xlink:href=\"#C0_0_ca6e7fd617\" y=\"186.456374\"/>\n    </g>\n    <g clip-path=\"url(#p299e5ebbfc)\">\n     <use style=\"fill:#386df9;stroke:#ffffff;stroke-width:0.48;\" x=\"95.676014\" xlink:href=\"#C0_0_ca6e7fd617\" y=\"150.02886\"/>\n    </g>\n    <g clip-path=\"url(#p299e5ebbfc)\">\n     <use style=\"fill:#386df9;stroke:#ffffff;stroke-width:0.48;\" x=\"80.548076\" xlink:href=\"#C0_0_ca6e7fd617\" y=\"51.005743\"/>\n    </g>\n    <g clip-path=\"url(#p299e5ebbfc)\">\n     <use style=\"fill:#386df9;stroke:#ffffff;stroke-width:0.48;\" x=\"103.201406\" xlink:href=\"#C0_0_ca6e7fd617\" y=\"196.639393\"/>\n    </g>\n    <g clip-path=\"url(#p299e5ebbfc)\">\n     <use style=\"fill:#386df9;stroke:#ffffff;stroke-width:0.48;\" x=\"106.675447\" xlink:href=\"#C0_0_ca6e7fd617\" y=\"180.986408\"/>\n    </g>\n    <g clip-path=\"url(#p299e5ebbfc)\">\n     <use style=\"fill:#386df9;stroke:#ffffff;stroke-width:0.48;\" x=\"83.770191\" xlink:href=\"#C0_0_ca6e7fd617\" y=\"97.187066\"/>\n    </g>\n    <g clip-path=\"url(#p299e5ebbfc)\">\n     <use style=\"fill:#386df9;stroke:#ffffff;stroke-width:0.48;\" x=\"97.182685\" xlink:href=\"#C0_0_ca6e7fd617\" y=\"187.035365\"/>\n    </g>\n    <g clip-path=\"url(#p299e5ebbfc)\">\n     <use style=\"fill:#386df9;stroke:#ffffff;stroke-width:0.48;\" x=\"104.871873\" xlink:href=\"#C0_0_ca6e7fd617\" y=\"163.597432\"/>\n    </g>\n    <g clip-path=\"url(#p299e5ebbfc)\">\n     <use style=\"fill:#386df9;stroke:#ffffff;stroke-width:0.48;\" x=\"109.283712\" xlink:href=\"#C0_0_ca6e7fd617\" y=\"198.192382\"/>\n    </g>\n    <g clip-path=\"url(#p299e5ebbfc)\">\n     <use style=\"fill:#386df9;stroke:#ffffff;stroke-width:0.48;\" x=\"109.155397\" xlink:href=\"#C0_0_ca6e7fd617\" y=\"200.791581\"/>\n    </g>\n    <g clip-path=\"url(#p299e5ebbfc)\">\n     <use style=\"fill:#386df9;stroke:#ffffff;stroke-width:0.48;\" x=\"98.200355\" xlink:href=\"#C0_0_ca6e7fd617\" y=\"176.488512\"/>\n    </g>\n    <g clip-path=\"url(#p299e5ebbfc)\">\n     <use style=\"fill:#386df9;stroke:#ffffff;stroke-width:0.48;\" x=\"94.330822\" xlink:href=\"#C0_0_ca6e7fd617\" y=\"156.811222\"/>\n    </g>\n    <g clip-path=\"url(#p299e5ebbfc)\">\n     <use style=\"fill:#386df9;stroke:#ffffff;stroke-width:0.48;\" x=\"96.107665\" xlink:href=\"#C0_0_ca6e7fd617\" y=\"151.758356\"/>\n    </g>\n    <g clip-path=\"url(#p299e5ebbfc)\">\n     <use style=\"fill:#386df9;stroke:#ffffff;stroke-width:0.48;\" x=\"94.761256\" xlink:href=\"#C0_0_ca6e7fd617\" y=\"168.622893\"/>\n    </g>\n    <g clip-path=\"url(#p299e5ebbfc)\">\n     <use style=\"fill:#386df9;stroke:#ffffff;stroke-width:0.48;\" x=\"109.03279\" xlink:href=\"#C0_0_ca6e7fd617\" y=\"159.516921\"/>\n    </g>\n    <g clip-path=\"url(#p299e5ebbfc)\">\n     <use style=\"fill:#386df9;stroke:#ffffff;stroke-width:0.48;\" x=\"99.661119\" xlink:href=\"#C0_0_ca6e7fd617\" y=\"168.122863\"/>\n    </g>\n    <g clip-path=\"url(#p299e5ebbfc)\">\n     <use style=\"fill:#386df9;stroke:#ffffff;stroke-width:0.48;\" x=\"95.209563\" xlink:href=\"#C0_0_ca6e7fd617\" y=\"159.90397\"/>\n    </g>\n    <g clip-path=\"url(#p299e5ebbfc)\">\n     <use style=\"fill:#386df9;stroke:#ffffff;stroke-width:0.48;\" x=\"102.653991\" xlink:href=\"#C0_0_ca6e7fd617\" y=\"198.463337\"/>\n    </g>\n    <g clip-path=\"url(#p299e5ebbfc)\">\n     <use style=\"fill:#386df9;stroke:#ffffff;stroke-width:0.48;\" x=\"107.683676\" xlink:href=\"#C0_0_ca6e7fd617\" y=\"157.356\"/>\n    </g>\n    <g clip-path=\"url(#p299e5ebbfc)\">\n     <use style=\"fill:#386df9;stroke:#ffffff;stroke-width:0.48;\" x=\"105.483152\" xlink:href=\"#C0_0_ca6e7fd617\" y=\"183.416844\"/>\n    </g>\n    <g clip-path=\"url(#p299e5ebbfc)\">\n     <use style=\"fill:#386df9;stroke:#ffffff;stroke-width:0.48;\" x=\"115.993154\" xlink:href=\"#C0_0_ca6e7fd617\" y=\"197.048672\"/>\n    </g>\n    <g clip-path=\"url(#p299e5ebbfc)\">\n     <use style=\"fill:#386df9;stroke:#ffffff;stroke-width:0.48;\" x=\"110.333766\" xlink:href=\"#C0_0_ca6e7fd617\" y=\"169.418106\"/>\n    </g>\n    <g clip-path=\"url(#p299e5ebbfc)\">\n     <use style=\"fill:#386df9;stroke:#ffffff;stroke-width:0.48;\" x=\"107.885192\" xlink:href=\"#C0_0_ca6e7fd617\" y=\"219.287207\"/>\n    </g>\n    <g clip-path=\"url(#p299e5ebbfc)\">\n     <use style=\"fill:#386df9;stroke:#ffffff;stroke-width:0.48;\" x=\"107.222137\" xlink:href=\"#C0_0_ca6e7fd617\" y=\"190.716584\"/>\n    </g>\n    <g clip-path=\"url(#p299e5ebbfc)\">\n     <use style=\"fill:#386df9;stroke:#ffffff;stroke-width:0.48;\" x=\"99.067159\" xlink:href=\"#C0_0_ca6e7fd617\" y=\"138.395946\"/>\n    </g>\n    <g clip-path=\"url(#p299e5ebbfc)\">\n     <use style=\"fill:#386df9;stroke:#ffffff;stroke-width:0.48;\" x=\"111.59795\" xlink:href=\"#C0_0_ca6e7fd617\" y=\"178.18736\"/>\n    </g>\n    <g clip-path=\"url(#p299e5ebbfc)\">\n     <use style=\"fill:#386df9;stroke:#ffffff;stroke-width:0.48;\" x=\"107.771275\" xlink:href=\"#C0_0_ca6e7fd617\" y=\"152.213192\"/>\n    </g>\n    <g clip-path=\"url(#p299e5ebbfc)\">\n     <use style=\"fill:#386df9;stroke:#ffffff;stroke-width:0.48;\" x=\"96.690172\" xlink:href=\"#C0_0_ca6e7fd617\" y=\"170.886084\"/>\n    </g>\n    <g clip-path=\"url(#p299e5ebbfc)\">\n     <use style=\"fill:#386df9;stroke:#ffffff;stroke-width:0.48;\" x=\"100.636559\" xlink:href=\"#C0_0_ca6e7fd617\" y=\"187.399443\"/>\n    </g>\n    <g clip-path=\"url(#p299e5ebbfc)\">\n     <use style=\"fill:#386df9;stroke:#ffffff;stroke-width:0.48;\" x=\"101.205083\" xlink:href=\"#C0_0_ca6e7fd617\" y=\"164.771963\"/>\n    </g>\n    <g clip-path=\"url(#p299e5ebbfc)\">\n     <use style=\"fill:#386df9;stroke:#ffffff;stroke-width:0.48;\" x=\"110.242792\" xlink:href=\"#C0_0_ca6e7fd617\" y=\"177.076813\"/>\n    </g>\n    <g clip-path=\"url(#p299e5ebbfc)\">\n     <use style=\"fill:#386df9;stroke:#ffffff;stroke-width:0.48;\" x=\"92.383278\" xlink:href=\"#C0_0_ca6e7fd617\" y=\"90.995742\"/>\n    </g>\n    <g clip-path=\"url(#p299e5ebbfc)\">\n     <use style=\"fill:#386df9;stroke:#ffffff;stroke-width:0.48;\" x=\"102.409145\" xlink:href=\"#C0_0_ca6e7fd617\" y=\"187.246533\"/>\n    </g>\n    <g clip-path=\"url(#p299e5ebbfc)\">\n     <use style=\"fill:#386df9;stroke:#ffffff;stroke-width:0.48;\" x=\"100.025576\" xlink:href=\"#C0_0_ca6e7fd617\" y=\"175.723436\"/>\n    </g>\n    <g clip-path=\"url(#p299e5ebbfc)\">\n     <use style=\"fill:#386df9;stroke:#ffffff;stroke-width:0.48;\" x=\"106.408269\" xlink:href=\"#C0_0_ca6e7fd617\" y=\"182.904784\"/>\n    </g>\n    <g clip-path=\"url(#p299e5ebbfc)\">\n     <use style=\"fill:#386df9;stroke:#ffffff;stroke-width:0.48;\" x=\"108.190451\" xlink:href=\"#C0_0_ca6e7fd617\" y=\"185.65906\"/>\n    </g>\n    <g clip-path=\"url(#p299e5ebbfc)\">\n     <use style=\"fill:#386df9;stroke:#ffffff;stroke-width:0.48;\" x=\"106.766638\" xlink:href=\"#C0_0_ca6e7fd617\" y=\"160.227201\"/>\n    </g>\n    <g clip-path=\"url(#p299e5ebbfc)\">\n     <use style=\"fill:#386df9;stroke:#ffffff;stroke-width:0.48;\" x=\"103.522494\" xlink:href=\"#C0_0_ca6e7fd617\" y=\"172.015271\"/>\n    </g>\n    <g clip-path=\"url(#p299e5ebbfc)\">\n     <use style=\"fill:#386df9;stroke:#ffffff;stroke-width:0.48;\" x=\"107.803903\" xlink:href=\"#C0_0_ca6e7fd617\" y=\"206.777172\"/>\n    </g>\n    <g clip-path=\"url(#p299e5ebbfc)\">\n     <use style=\"fill:#386df9;stroke:#ffffff;stroke-width:0.48;\" x=\"105.318418\" xlink:href=\"#C0_0_ca6e7fd617\" y=\"189.437332\"/>\n    </g>\n    <g clip-path=\"url(#p299e5ebbfc)\">\n     <use style=\"fill:#386df9;stroke:#ffffff;stroke-width:0.48;\" x=\"99.436396\" xlink:href=\"#C0_0_ca6e7fd617\" y=\"155.875613\"/>\n    </g>\n    <g clip-path=\"url(#p299e5ebbfc)\">\n     <use style=\"fill:#386df9;stroke:#ffffff;stroke-width:0.48;\" x=\"114.190506\" xlink:href=\"#C0_0_ca6e7fd617\" y=\"219.244372\"/>\n    </g>\n    <g clip-path=\"url(#p299e5ebbfc)\">\n     <use style=\"fill:#386df9;stroke:#ffffff;stroke-width:0.48;\" x=\"109.335291\" xlink:href=\"#C0_0_ca6e7fd617\" y=\"201.954537\"/>\n    </g>\n    <g clip-path=\"url(#p299e5ebbfc)\">\n     <use style=\"fill:#386df9;stroke:#ffffff;stroke-width:0.48;\" x=\"100.486488\" xlink:href=\"#C0_0_ca6e7fd617\" y=\"193.774785\"/>\n    </g>\n    <g clip-path=\"url(#p299e5ebbfc)\">\n     <use style=\"fill:#386df9;stroke:#ffffff;stroke-width:0.48;\" x=\"102.566907\" xlink:href=\"#C0_0_ca6e7fd617\" y=\"154.806217\"/>\n    </g>\n    <g clip-path=\"url(#p299e5ebbfc)\">\n     <use style=\"fill:#386df9;stroke:#ffffff;stroke-width:0.48;\" x=\"103.106218\" xlink:href=\"#C0_0_ca6e7fd617\" y=\"175.058975\"/>\n    </g>\n    <g clip-path=\"url(#p299e5ebbfc)\">\n     <use style=\"fill:#386df9;stroke:#ffffff;stroke-width:0.48;\" x=\"110.101894\" xlink:href=\"#C0_0_ca6e7fd617\" y=\"188.360358\"/>\n    </g>\n    <g clip-path=\"url(#p299e5ebbfc)\">\n     <use style=\"fill:#386df9;stroke:#ffffff;stroke-width:0.48;\" x=\"96.925503\" xlink:href=\"#C0_0_ca6e7fd617\" y=\"158.938004\"/>\n    </g>\n    <g clip-path=\"url(#p299e5ebbfc)\">\n     <use style=\"fill:#386df9;stroke:#ffffff;stroke-width:0.48;\" x=\"98.638676\" xlink:href=\"#C0_0_ca6e7fd617\" y=\"142.368609\"/>\n    </g>\n    <g clip-path=\"url(#p299e5ebbfc)\">\n     <use style=\"fill:#386df9;stroke:#ffffff;stroke-width:0.48;\" x=\"110.507148\" xlink:href=\"#C0_0_ca6e7fd617\" y=\"199.573177\"/>\n    </g>\n    <g clip-path=\"url(#p299e5ebbfc)\">\n     <use style=\"fill:#386df9;stroke:#ffffff;stroke-width:0.48;\" x=\"97.158807\" xlink:href=\"#C0_0_ca6e7fd617\" y=\"118.237332\"/>\n    </g>\n    <g clip-path=\"url(#p299e5ebbfc)\">\n     <use style=\"fill:#386df9;stroke:#ffffff;stroke-width:0.48;\" x=\"101.950693\" xlink:href=\"#C0_0_ca6e7fd617\" y=\"170.910958\"/>\n    </g>\n    <g clip-path=\"url(#p299e5ebbfc)\">\n     <use style=\"fill:#386df9;stroke:#ffffff;stroke-width:0.48;\" x=\"107.470546\" xlink:href=\"#C0_0_ca6e7fd617\" y=\"200.791051\"/>\n    </g>\n    <g clip-path=\"url(#p299e5ebbfc)\">\n     <use style=\"fill:#386df9;stroke:#ffffff;stroke-width:0.48;\" x=\"98.167903\" xlink:href=\"#C0_0_ca6e7fd617\" y=\"112.14771\"/>\n    </g>\n    <g clip-path=\"url(#p299e5ebbfc)\">\n     <use style=\"fill:#386df9;stroke:#ffffff;stroke-width:0.48;\" x=\"99.856329\" xlink:href=\"#C0_0_ca6e7fd617\" y=\"168.415194\"/>\n    </g>\n    <g clip-path=\"url(#p299e5ebbfc)\">\n     <use style=\"fill:#386df9;stroke:#ffffff;stroke-width:0.48;\" x=\"100.652789\" xlink:href=\"#C0_0_ca6e7fd617\" y=\"142.380097\"/>\n    </g>\n    <g clip-path=\"url(#p299e5ebbfc)\">\n     <use style=\"fill:#386df9;stroke:#ffffff;stroke-width:0.48;\" x=\"99.675778\" xlink:href=\"#C0_0_ca6e7fd617\" y=\"170.157612\"/>\n    </g>\n    <g clip-path=\"url(#p299e5ebbfc)\">\n     <use style=\"fill:#386df9;stroke:#ffffff;stroke-width:0.48;\" x=\"99.675778\" xlink:href=\"#C0_0_ca6e7fd617\" y=\"170.157612\"/>\n    </g>\n    <g clip-path=\"url(#p299e5ebbfc)\">\n     <use style=\"fill:#386df9;stroke:#ffffff;stroke-width:0.48;\" x=\"96.497178\" xlink:href=\"#C0_0_ca6e7fd617\" y=\"157.637462\"/>\n    </g>\n    <g clip-path=\"url(#p299e5ebbfc)\">\n     <use style=\"fill:#386df9;stroke:#ffffff;stroke-width:0.48;\" x=\"108.832519\" xlink:href=\"#C0_0_ca6e7fd617\" y=\"188.46111\"/>\n    </g>\n    <g clip-path=\"url(#p299e5ebbfc)\">\n     <use style=\"fill:#386df9;stroke:#ffffff;stroke-width:0.48;\" x=\"108.895329\" xlink:href=\"#C0_0_ca6e7fd617\" y=\"210.363684\"/>\n    </g>\n    <g clip-path=\"url(#p299e5ebbfc)\">\n     <use style=\"fill:#386df9;stroke:#ffffff;stroke-width:0.48;\" x=\"110.407509\" xlink:href=\"#C0_0_ca6e7fd617\" y=\"170.208127\"/>\n    </g>\n    <g clip-path=\"url(#p299e5ebbfc)\">\n     <use style=\"fill:#386df9;stroke:#ffffff;stroke-width:0.48;\" x=\"104.982733\" xlink:href=\"#C0_0_ca6e7fd617\" y=\"162.882451\"/>\n    </g>\n    <g clip-path=\"url(#p299e5ebbfc)\">\n     <use style=\"fill:#386df9;stroke:#ffffff;stroke-width:0.48;\" x=\"107.709639\" xlink:href=\"#C0_0_ca6e7fd617\" y=\"185.546654\"/>\n    </g>\n    <g clip-path=\"url(#p299e5ebbfc)\">\n     <use style=\"fill:#386df9;stroke:#ffffff;stroke-width:0.48;\" x=\"104.431695\" xlink:href=\"#C0_0_ca6e7fd617\" y=\"170.379063\"/>\n    </g>\n    <g clip-path=\"url(#p299e5ebbfc)\">\n     <use style=\"fill:#386df9;stroke:#ffffff;stroke-width:0.48;\" x=\"102.870172\" xlink:href=\"#C0_0_ca6e7fd617\" y=\"154.88741\"/>\n    </g>\n    <g clip-path=\"url(#p299e5ebbfc)\">\n     <use style=\"fill:#386df9;stroke:#ffffff;stroke-width:0.48;\" x=\"101.214638\" xlink:href=\"#C0_0_ca6e7fd617\" y=\"162.578761\"/>\n    </g>\n    <g clip-path=\"url(#p299e5ebbfc)\">\n     <use style=\"fill:#386df9;stroke:#ffffff;stroke-width:0.48;\" x=\"101.941559\" xlink:href=\"#C0_0_ca6e7fd617\" y=\"174.010953\"/>\n    </g>\n    <g clip-path=\"url(#p299e5ebbfc)\">\n     <use style=\"fill:#386df9;stroke:#ffffff;stroke-width:0.48;\" x=\"111.480423\" xlink:href=\"#C0_0_ca6e7fd617\" y=\"175.113346\"/>\n    </g>\n    <g clip-path=\"url(#p299e5ebbfc)\">\n     <use style=\"fill:#386df9;stroke:#ffffff;stroke-width:0.48;\" x=\"101.94833\" xlink:href=\"#C0_0_ca6e7fd617\" y=\"174.025071\"/>\n    </g>\n    <g clip-path=\"url(#p299e5ebbfc)\">\n     <use style=\"fill:#386df9;stroke:#ffffff;stroke-width:0.48;\" x=\"97.214704\" xlink:href=\"#C0_0_ca6e7fd617\" y=\"119.112807\"/>\n    </g>\n    <g clip-path=\"url(#p299e5ebbfc)\">\n     <use style=\"fill:#386df9;stroke:#ffffff;stroke-width:0.48;\" x=\"94.410503\" xlink:href=\"#C0_0_ca6e7fd617\" y=\"127.58819\"/>\n    </g>\n    <g clip-path=\"url(#p299e5ebbfc)\">\n     <use style=\"fill:#386df9;stroke:#ffffff;stroke-width:0.48;\" x=\"119.747735\" xlink:href=\"#C0_0_ca6e7fd617\" y=\"198.70445\"/>\n    </g>\n    <g clip-path=\"url(#p299e5ebbfc)\">\n     <use style=\"fill:#386df9;stroke:#ffffff;stroke-width:0.48;\" x=\"104.336229\" xlink:href=\"#C0_0_ca6e7fd617\" y=\"171.572058\"/>\n    </g>\n    <g clip-path=\"url(#p299e5ebbfc)\">\n     <use style=\"fill:#386df9;stroke:#ffffff;stroke-width:0.48;\" x=\"114.838159\" xlink:href=\"#C0_0_ca6e7fd617\" y=\"203.857237\"/>\n    </g>\n    <g clip-path=\"url(#p299e5ebbfc)\">\n     <use style=\"fill:#386df9;stroke:#ffffff;stroke-width:0.48;\" x=\"95.709535\" xlink:href=\"#C0_0_ca6e7fd617\" y=\"160.050183\"/>\n    </g>\n    <g clip-path=\"url(#p299e5ebbfc)\">\n     <use style=\"fill:#386df9;stroke:#ffffff;stroke-width:0.48;\" x=\"97.699081\" xlink:href=\"#C0_0_ca6e7fd617\" y=\"162.462975\"/>\n    </g>\n    <g clip-path=\"url(#p299e5ebbfc)\">\n     <use style=\"fill:#386df9;stroke:#ffffff;stroke-width:0.48;\" x=\"96.610688\" xlink:href=\"#C0_0_ca6e7fd617\" y=\"98.787864\"/>\n    </g>\n    <g clip-path=\"url(#p299e5ebbfc)\">\n     <use style=\"fill:#386df9;stroke:#ffffff;stroke-width:0.48;\" x=\"91.659055\" xlink:href=\"#C0_0_ca6e7fd617\" y=\"154.554256\"/>\n    </g>\n    <g clip-path=\"url(#p299e5ebbfc)\">\n     <use style=\"fill:#12c8e6;stroke:#ffffff;stroke-width:0.48;\" x=\"357.710399\" xlink:href=\"#C0_0_ca6e7fd617\" y=\"140.242831\"/>\n    </g>\n    <g clip-path=\"url(#p299e5ebbfc)\">\n     <use style=\"fill:#12c8e6;stroke:#ffffff;stroke-width:0.48;\" x=\"369.986872\" xlink:href=\"#C0_0_ca6e7fd617\" y=\"176.00651\"/>\n    </g>\n    <g clip-path=\"url(#p299e5ebbfc)\">\n     <use style=\"fill:#12c8e6;stroke:#ffffff;stroke-width:0.48;\" x=\"366.69286\" xlink:href=\"#C0_0_ca6e7fd617\" y=\"181.110301\"/>\n    </g>\n    <g clip-path=\"url(#p299e5ebbfc)\">\n     <use style=\"fill:#12c8e6;stroke:#ffffff;stroke-width:0.48;\" x=\"366.69286\" xlink:href=\"#C0_0_ca6e7fd617\" y=\"181.110301\"/>\n    </g>\n    <g clip-path=\"url(#p299e5ebbfc)\">\n     <use style=\"fill:#12c8e6;stroke:#ffffff;stroke-width:0.48;\" x=\"366.835567\" xlink:href=\"#C0_0_ca6e7fd617\" y=\"150.713069\"/>\n    </g>\n    <g clip-path=\"url(#p299e5ebbfc)\">\n     <use style=\"fill:#12c8e6;stroke:#ffffff;stroke-width:0.48;\" x=\"366.835567\" xlink:href=\"#C0_0_ca6e7fd617\" y=\"150.713069\"/>\n    </g>\n    <g clip-path=\"url(#p299e5ebbfc)\">\n     <use style=\"fill:#12c8e6;stroke:#ffffff;stroke-width:0.48;\" x=\"366.835567\" xlink:href=\"#C0_0_ca6e7fd617\" y=\"150.713069\"/>\n    </g>\n    <g clip-path=\"url(#p299e5ebbfc)\">\n     <use style=\"fill:#12c8e6;stroke:#ffffff;stroke-width:0.48;\" x=\"360.563627\" xlink:href=\"#C0_0_ca6e7fd617\" y=\"168.953415\"/>\n    </g>\n    <g clip-path=\"url(#p299e5ebbfc)\">\n     <use style=\"fill:#12c8e6;stroke:#ffffff;stroke-width:0.48;\" x=\"360.563627\" xlink:href=\"#C0_0_ca6e7fd617\" y=\"168.953415\"/>\n    </g>\n    <g clip-path=\"url(#p299e5ebbfc)\">\n     <use style=\"fill:#12c8e6;stroke:#ffffff;stroke-width:0.48;\" x=\"368.379595\" xlink:href=\"#C0_0_ca6e7fd617\" y=\"172.658852\"/>\n    </g>\n    <g clip-path=\"url(#p299e5ebbfc)\">\n     <use style=\"fill:#12c8e6;stroke:#ffffff;stroke-width:0.48;\" x=\"368.379595\" xlink:href=\"#C0_0_ca6e7fd617\" y=\"172.658852\"/>\n    </g>\n    <g clip-path=\"url(#p299e5ebbfc)\">\n     <use style=\"fill:#12c8e6;stroke:#ffffff;stroke-width:0.48;\" x=\"368.379595\" xlink:href=\"#C0_0_ca6e7fd617\" y=\"172.658852\"/>\n    </g>\n    <g clip-path=\"url(#p299e5ebbfc)\">\n     <use style=\"fill:#12c8e6;stroke:#ffffff;stroke-width:0.48;\" x=\"368.379595\" xlink:href=\"#C0_0_ca6e7fd617\" y=\"172.658852\"/>\n    </g>\n    <g clip-path=\"url(#p299e5ebbfc)\">\n     <use style=\"fill:#12c8e6;stroke:#ffffff;stroke-width:0.48;\" x=\"368.379595\" xlink:href=\"#C0_0_ca6e7fd617\" y=\"172.658852\"/>\n    </g>\n    <g clip-path=\"url(#p299e5ebbfc)\">\n     <use style=\"fill:#12c8e6;stroke:#ffffff;stroke-width:0.48;\" x=\"362.859547\" xlink:href=\"#C0_0_ca6e7fd617\" y=\"176.541241\"/>\n    </g>\n    <g clip-path=\"url(#p299e5ebbfc)\">\n     <use style=\"fill:#12c8e6;stroke:#ffffff;stroke-width:0.48;\" x=\"362.859547\" xlink:href=\"#C0_0_ca6e7fd617\" y=\"176.541241\"/>\n    </g>\n    <g clip-path=\"url(#p299e5ebbfc)\">\n     <use style=\"fill:#12c8e6;stroke:#ffffff;stroke-width:0.48;\" x=\"360.62738\" xlink:href=\"#C0_0_ca6e7fd617\" y=\"147.79935\"/>\n    </g>\n    <g clip-path=\"url(#p299e5ebbfc)\">\n     <use style=\"fill:#12c8e6;stroke:#ffffff;stroke-width:0.48;\" x=\"360.62738\" xlink:href=\"#C0_0_ca6e7fd617\" y=\"147.79935\"/>\n    </g>\n    <g clip-path=\"url(#p299e5ebbfc)\">\n     <use style=\"fill:#12c8e6;stroke:#ffffff;stroke-width:0.48;\" x=\"360.62738\" xlink:href=\"#C0_0_ca6e7fd617\" y=\"147.79935\"/>\n    </g>\n    <g clip-path=\"url(#p299e5ebbfc)\">\n     <use style=\"fill:#12c8e6;stroke:#ffffff;stroke-width:0.48;\" x=\"360.62738\" xlink:href=\"#C0_0_ca6e7fd617\" y=\"147.79935\"/>\n    </g>\n    <g clip-path=\"url(#p299e5ebbfc)\">\n     <use style=\"fill:#12c8e6;stroke:#ffffff;stroke-width:0.48;\" x=\"364.818095\" xlink:href=\"#C0_0_ca6e7fd617\" y=\"175.255973\"/>\n    </g>\n    <g clip-path=\"url(#p299e5ebbfc)\">\n     <use style=\"fill:#12c8e6;stroke:#ffffff;stroke-width:0.48;\" x=\"364.818095\" xlink:href=\"#C0_0_ca6e7fd617\" y=\"175.255973\"/>\n    </g>\n    <g clip-path=\"url(#p299e5ebbfc)\">\n     <use style=\"fill:#12c8e6;stroke:#ffffff;stroke-width:0.48;\" x=\"364.818095\" xlink:href=\"#C0_0_ca6e7fd617\" y=\"175.255973\"/>\n    </g>\n    <g clip-path=\"url(#p299e5ebbfc)\">\n     <use style=\"fill:#12c8e6;stroke:#ffffff;stroke-width:0.48;\" x=\"364.495683\" xlink:href=\"#C0_0_ca6e7fd617\" y=\"173.982188\"/>\n    </g>\n    <g clip-path=\"url(#p299e5ebbfc)\">\n     <use style=\"fill:#12c8e6;stroke:#ffffff;stroke-width:0.48;\" x=\"360.447757\" xlink:href=\"#C0_0_ca6e7fd617\" y=\"139.918222\"/>\n    </g>\n    <g clip-path=\"url(#p299e5ebbfc)\">\n     <use style=\"fill:#12c8e6;stroke:#ffffff;stroke-width:0.48;\" x=\"360.447757\" xlink:href=\"#C0_0_ca6e7fd617\" y=\"139.918222\"/>\n    </g>\n    <g clip-path=\"url(#p299e5ebbfc)\">\n     <use style=\"fill:#12c8e6;stroke:#ffffff;stroke-width:0.48;\" x=\"375.615247\" xlink:href=\"#C0_0_ca6e7fd617\" y=\"207.722761\"/>\n    </g>\n    <g clip-path=\"url(#p299e5ebbfc)\">\n     <use style=\"fill:#12c8e6;stroke:#ffffff;stroke-width:0.48;\" x=\"370.275577\" xlink:href=\"#C0_0_ca6e7fd617\" y=\"175.409732\"/>\n    </g>\n    <g clip-path=\"url(#p299e5ebbfc)\">\n     <use style=\"fill:#12c8e6;stroke:#ffffff;stroke-width:0.48;\" x=\"370.169258\" xlink:href=\"#C0_0_ca6e7fd617\" y=\"190.549318\"/>\n    </g>\n    <g clip-path=\"url(#p299e5ebbfc)\">\n     <use style=\"fill:#12c8e6;stroke:#ffffff;stroke-width:0.48;\" x=\"362.200828\" xlink:href=\"#C0_0_ca6e7fd617\" y=\"160.474679\"/>\n    </g>\n    <g clip-path=\"url(#p299e5ebbfc)\">\n     <use style=\"fill:#12c8e6;stroke:#ffffff;stroke-width:0.48;\" x=\"362.200828\" xlink:href=\"#C0_0_ca6e7fd617\" y=\"160.474679\"/>\n    </g>\n    <g clip-path=\"url(#p299e5ebbfc)\">\n     <use style=\"fill:#12c8e6;stroke:#ffffff;stroke-width:0.48;\" x=\"374.923232\" xlink:href=\"#C0_0_ca6e7fd617\" y=\"172.689099\"/>\n    </g>\n    <g clip-path=\"url(#p299e5ebbfc)\">\n     <use style=\"fill:#12c8e6;stroke:#ffffff;stroke-width:0.48;\" x=\"374.923232\" xlink:href=\"#C0_0_ca6e7fd617\" y=\"172.689099\"/>\n    </g>\n    <g clip-path=\"url(#p299e5ebbfc)\">\n     <use style=\"fill:#12c8e6;stroke:#ffffff;stroke-width:0.48;\" x=\"357.727401\" xlink:href=\"#C0_0_ca6e7fd617\" y=\"140.278281\"/>\n    </g>\n    <g clip-path=\"url(#p299e5ebbfc)\">\n     <use style=\"fill:#12c8e6;stroke:#ffffff;stroke-width:0.48;\" x=\"357.727401\" xlink:href=\"#C0_0_ca6e7fd617\" y=\"140.278281\"/>\n    </g>\n    <g clip-path=\"url(#p299e5ebbfc)\">\n     <use style=\"fill:#12c8e6;stroke:#ffffff;stroke-width:0.48;\" x=\"357.727401\" xlink:href=\"#C0_0_ca6e7fd617\" y=\"140.278281\"/>\n    </g>\n    <g clip-path=\"url(#p299e5ebbfc)\">\n     <use style=\"fill:#12c8e6;stroke:#ffffff;stroke-width:0.48;\" x=\"375.304747\" xlink:href=\"#C0_0_ca6e7fd617\" y=\"206.447338\"/>\n    </g>\n    <g clip-path=\"url(#p299e5ebbfc)\">\n     <use style=\"fill:#12c8e6;stroke:#ffffff;stroke-width:0.48;\" x=\"364.681288\" xlink:href=\"#C0_0_ca6e7fd617\" y=\"172.18052\"/>\n    </g>\n    <g clip-path=\"url(#p299e5ebbfc)\">\n     <use style=\"fill:#12c8e6;stroke:#ffffff;stroke-width:0.48;\" x=\"364.681288\" xlink:href=\"#C0_0_ca6e7fd617\" y=\"172.18052\"/>\n    </g>\n    <g clip-path=\"url(#p299e5ebbfc)\">\n     <use style=\"fill:#12c8e6;stroke:#ffffff;stroke-width:0.48;\" x=\"364.681288\" xlink:href=\"#C0_0_ca6e7fd617\" y=\"172.18052\"/>\n    </g>\n    <g clip-path=\"url(#p299e5ebbfc)\">\n     <use style=\"fill:#12c8e6;stroke:#ffffff;stroke-width:0.48;\" x=\"364.581075\" xlink:href=\"#C0_0_ca6e7fd617\" y=\"160.231234\"/>\n    </g>\n    <g clip-path=\"url(#p299e5ebbfc)\">\n     <use style=\"fill:#12c8e6;stroke:#ffffff;stroke-width:0.48;\" x=\"364.581075\" xlink:href=\"#C0_0_ca6e7fd617\" y=\"160.231234\"/>\n    </g>\n    <g clip-path=\"url(#p299e5ebbfc)\">\n     <use style=\"fill:#12c8e6;stroke:#ffffff;stroke-width:0.48;\" x=\"378.105256\" xlink:href=\"#C0_0_ca6e7fd617\" y=\"192.322494\"/>\n    </g>\n    <g clip-path=\"url(#p299e5ebbfc)\">\n     <use style=\"fill:#12c8e6;stroke:#ffffff;stroke-width:0.48;\" x=\"370.079076\" xlink:href=\"#C0_0_ca6e7fd617\" y=\"174.21603\"/>\n    </g>\n    <g clip-path=\"url(#p299e5ebbfc)\">\n     <use style=\"fill:#12c8e6;stroke:#ffffff;stroke-width:0.48;\" x=\"370.079076\" xlink:href=\"#C0_0_ca6e7fd617\" y=\"174.21603\"/>\n    </g>\n    <g clip-path=\"url(#p299e5ebbfc)\">\n     <use style=\"fill:#12c8e6;stroke:#ffffff;stroke-width:0.48;\" x=\"370.079076\" xlink:href=\"#C0_0_ca6e7fd617\" y=\"174.21603\"/>\n    </g>\n    <g clip-path=\"url(#p299e5ebbfc)\">\n     <use style=\"fill:#12c8e6;stroke:#ffffff;stroke-width:0.48;\" x=\"364.495683\" xlink:href=\"#C0_0_ca6e7fd617\" y=\"173.982188\"/>\n    </g>\n    <g clip-path=\"url(#p299e5ebbfc)\">\n     <use style=\"fill:#12c8e6;stroke:#ffffff;stroke-width:0.48;\" x=\"364.495683\" xlink:href=\"#C0_0_ca6e7fd617\" y=\"173.982188\"/>\n    </g>\n    <g clip-path=\"url(#p299e5ebbfc)\">\n     <use style=\"fill:#12c8e6;stroke:#ffffff;stroke-width:0.48;\" x=\"356.25581\" xlink:href=\"#C0_0_ca6e7fd617\" y=\"147.059175\"/>\n    </g>\n    <g clip-path=\"url(#p299e5ebbfc)\">\n     <use style=\"fill:#12c8e6;stroke:#ffffff;stroke-width:0.48;\" x=\"356.25581\" xlink:href=\"#C0_0_ca6e7fd617\" y=\"147.059175\"/>\n    </g>\n    <g clip-path=\"url(#p299e5ebbfc)\">\n     <use style=\"fill:#12c8e6;stroke:#ffffff;stroke-width:0.48;\" x=\"366.811287\" xlink:href=\"#C0_0_ca6e7fd617\" y=\"177.515786\"/>\n    </g>\n    <g clip-path=\"url(#p299e5ebbfc)\">\n     <use style=\"fill:#12c8e6;stroke:#ffffff;stroke-width:0.48;\" x=\"366.811287\" xlink:href=\"#C0_0_ca6e7fd617\" y=\"177.515786\"/>\n    </g>\n    <g clip-path=\"url(#p299e5ebbfc)\">\n     <use style=\"fill:#12c8e6;stroke:#ffffff;stroke-width:0.48;\" x=\"366.811287\" xlink:href=\"#C0_0_ca6e7fd617\" y=\"177.515786\"/>\n    </g>\n    <g clip-path=\"url(#p299e5ebbfc)\">\n     <use style=\"fill:#12c8e6;stroke:#ffffff;stroke-width:0.48;\" x=\"366.811287\" xlink:href=\"#C0_0_ca6e7fd617\" y=\"177.515786\"/>\n    </g>\n    <g clip-path=\"url(#p299e5ebbfc)\">\n     <use style=\"fill:#12c8e6;stroke:#ffffff;stroke-width:0.48;\" x=\"366.811287\" xlink:href=\"#C0_0_ca6e7fd617\" y=\"177.515786\"/>\n    </g>\n    <g clip-path=\"url(#p299e5ebbfc)\">\n     <use style=\"fill:#12c8e6;stroke:#ffffff;stroke-width:0.48;\" x=\"366.811287\" xlink:href=\"#C0_0_ca6e7fd617\" y=\"177.515786\"/>\n    </g>\n    <g clip-path=\"url(#p299e5ebbfc)\">\n     <use style=\"fill:#12c8e6;stroke:#ffffff;stroke-width:0.48;\" x=\"366.811287\" xlink:href=\"#C0_0_ca6e7fd617\" y=\"177.515786\"/>\n    </g>\n    <g clip-path=\"url(#p299e5ebbfc)\">\n     <use style=\"fill:#12c8e6;stroke:#ffffff;stroke-width:0.48;\" x=\"369.075845\" xlink:href=\"#C0_0_ca6e7fd617\" y=\"183.636157\"/>\n    </g>\n    <g clip-path=\"url(#p299e5ebbfc)\">\n     <use style=\"fill:#12c8e6;stroke:#ffffff;stroke-width:0.48;\" x=\"369.075845\" xlink:href=\"#C0_0_ca6e7fd617\" y=\"183.636157\"/>\n    </g>\n    <g clip-path=\"url(#p299e5ebbfc)\">\n     <use style=\"fill:#12c8e6;stroke:#ffffff;stroke-width:0.48;\" x=\"369.075845\" xlink:href=\"#C0_0_ca6e7fd617\" y=\"183.636157\"/>\n    </g>\n    <g clip-path=\"url(#p299e5ebbfc)\">\n     <use style=\"fill:#12c8e6;stroke:#ffffff;stroke-width:0.48;\" x=\"370.68057\" xlink:href=\"#C0_0_ca6e7fd617\" y=\"166.478238\"/>\n    </g>\n    <g clip-path=\"url(#p299e5ebbfc)\">\n     <use style=\"fill:#12c8e6;stroke:#ffffff;stroke-width:0.48;\" x=\"365.542755\" xlink:href=\"#C0_0_ca6e7fd617\" y=\"176.007035\"/>\n    </g>\n    <g clip-path=\"url(#p299e5ebbfc)\">\n     <use style=\"fill:#12c8e6;stroke:#ffffff;stroke-width:0.48;\" x=\"356.88756\" xlink:href=\"#C0_0_ca6e7fd617\" y=\"84.673385\"/>\n    </g>\n    <g clip-path=\"url(#p299e5ebbfc)\">\n     <use style=\"fill:#12c8e6;stroke:#ffffff;stroke-width:0.48;\" x=\"367.207433\" xlink:href=\"#C0_0_ca6e7fd617\" y=\"202.747913\"/>\n    </g>\n    <g clip-path=\"url(#p299e5ebbfc)\">\n     <use style=\"fill:#12c8e6;stroke:#ffffff;stroke-width:0.48;\" x=\"367.207433\" xlink:href=\"#C0_0_ca6e7fd617\" y=\"202.747913\"/>\n    </g>\n    <g clip-path=\"url(#p299e5ebbfc)\">\n     <use style=\"fill:#12c8e6;stroke:#ffffff;stroke-width:0.48;\" x=\"363.191186\" xlink:href=\"#C0_0_ca6e7fd617\" y=\"176.221126\"/>\n    </g>\n    <g clip-path=\"url(#p299e5ebbfc)\">\n     <use style=\"fill:#12c8e6;stroke:#ffffff;stroke-width:0.48;\" x=\"363.191186\" xlink:href=\"#C0_0_ca6e7fd617\" y=\"176.221126\"/>\n    </g>\n    <g clip-path=\"url(#p299e5ebbfc)\">\n     <use style=\"fill:#12c8e6;stroke:#ffffff;stroke-width:0.48;\" x=\"363.191186\" xlink:href=\"#C0_0_ca6e7fd617\" y=\"176.221126\"/>\n    </g>\n    <g clip-path=\"url(#p299e5ebbfc)\">\n     <use style=\"fill:#12c8e6;stroke:#ffffff;stroke-width:0.48;\" x=\"363.191186\" xlink:href=\"#C0_0_ca6e7fd617\" y=\"176.221126\"/>\n    </g>\n    <g clip-path=\"url(#p299e5ebbfc)\">\n     <use style=\"fill:#12c8e6;stroke:#ffffff;stroke-width:0.48;\" x=\"367.950653\" xlink:href=\"#C0_0_ca6e7fd617\" y=\"204.117519\"/>\n    </g>\n    <g clip-path=\"url(#p299e5ebbfc)\">\n     <use style=\"fill:#12c8e6;stroke:#ffffff;stroke-width:0.48;\" x=\"367.950653\" xlink:href=\"#C0_0_ca6e7fd617\" y=\"204.117519\"/>\n    </g>\n    <g clip-path=\"url(#p299e5ebbfc)\">\n     <use style=\"fill:#12c8e6;stroke:#ffffff;stroke-width:0.48;\" x=\"360.273628\" xlink:href=\"#C0_0_ca6e7fd617\" y=\"147.928644\"/>\n    </g>\n    <g clip-path=\"url(#p299e5ebbfc)\">\n     <use style=\"fill:#12c8e6;stroke:#ffffff;stroke-width:0.48;\" x=\"365.994674\" xlink:href=\"#C0_0_ca6e7fd617\" y=\"167.387918\"/>\n    </g>\n    <g clip-path=\"url(#p299e5ebbfc)\">\n     <use style=\"fill:#12c8e6;stroke:#ffffff;stroke-width:0.48;\" x=\"365.994674\" xlink:href=\"#C0_0_ca6e7fd617\" y=\"167.387918\"/>\n    </g>\n    <g clip-path=\"url(#p299e5ebbfc)\">\n     <use style=\"fill:#12c8e6;stroke:#ffffff;stroke-width:0.48;\" x=\"365.994674\" xlink:href=\"#C0_0_ca6e7fd617\" y=\"167.387918\"/>\n    </g>\n    <g clip-path=\"url(#p299e5ebbfc)\">\n     <use style=\"fill:#12c8e6;stroke:#ffffff;stroke-width:0.48;\" x=\"365.994674\" xlink:href=\"#C0_0_ca6e7fd617\" y=\"167.387918\"/>\n    </g>\n    <g clip-path=\"url(#p299e5ebbfc)\">\n     <use style=\"fill:#12c8e6;stroke:#ffffff;stroke-width:0.48;\" x=\"365.994674\" xlink:href=\"#C0_0_ca6e7fd617\" y=\"167.387918\"/>\n    </g>\n    <g clip-path=\"url(#p299e5ebbfc)\">\n     <use style=\"fill:#12c8e6;stroke:#ffffff;stroke-width:0.48;\" x=\"365.994674\" xlink:href=\"#C0_0_ca6e7fd617\" y=\"167.387918\"/>\n    </g>\n    <g clip-path=\"url(#p299e5ebbfc)\">\n     <use style=\"fill:#12c8e6;stroke:#ffffff;stroke-width:0.48;\" x=\"365.994674\" xlink:href=\"#C0_0_ca6e7fd617\" y=\"167.387918\"/>\n    </g>\n    <g clip-path=\"url(#p299e5ebbfc)\">\n     <use style=\"fill:#12c8e6;stroke:#ffffff;stroke-width:0.48;\" x=\"365.994674\" xlink:href=\"#C0_0_ca6e7fd617\" y=\"167.387918\"/>\n    </g>\n    <g clip-path=\"url(#p299e5ebbfc)\">\n     <use style=\"fill:#12c8e6;stroke:#ffffff;stroke-width:0.48;\" x=\"354.66771\" xlink:href=\"#C0_0_ca6e7fd617\" y=\"97.446401\"/>\n    </g>\n    <g clip-path=\"url(#p299e5ebbfc)\">\n     <use style=\"fill:#12c8e6;stroke:#ffffff;stroke-width:0.48;\" x=\"354.66771\" xlink:href=\"#C0_0_ca6e7fd617\" y=\"97.446401\"/>\n    </g>\n    <g clip-path=\"url(#p299e5ebbfc)\">\n     <use style=\"fill:#12c8e6;stroke:#ffffff;stroke-width:0.48;\" x=\"354.66771\" xlink:href=\"#C0_0_ca6e7fd617\" y=\"97.446401\"/>\n    </g>\n    <g clip-path=\"url(#p299e5ebbfc)\">\n     <use style=\"fill:#12c8e6;stroke:#ffffff;stroke-width:0.48;\" x=\"374.460967\" xlink:href=\"#C0_0_ca6e7fd617\" y=\"189.966311\"/>\n    </g>\n    <g clip-path=\"url(#p299e5ebbfc)\">\n     <use style=\"fill:#12c8e6;stroke:#ffffff;stroke-width:0.48;\" x=\"362.695613\" xlink:href=\"#C0_0_ca6e7fd617\" y=\"113.926815\"/>\n    </g>\n    <g clip-path=\"url(#p299e5ebbfc)\">\n     <use style=\"fill:#12c8e6;stroke:#ffffff;stroke-width:0.48;\" x=\"357.760253\" xlink:href=\"#C0_0_ca6e7fd617\" y=\"120.368708\"/>\n    </g>\n    <g clip-path=\"url(#p299e5ebbfc)\">\n     <use style=\"fill:#12c8e6;stroke:#ffffff;stroke-width:0.48;\" x=\"357.760253\" xlink:href=\"#C0_0_ca6e7fd617\" y=\"120.368708\"/>\n    </g>\n    <g clip-path=\"url(#p299e5ebbfc)\">\n     <use style=\"fill:#12c8e6;stroke:#ffffff;stroke-width:0.48;\" x=\"361.010414\" xlink:href=\"#C0_0_ca6e7fd617\" y=\"142.357078\"/>\n    </g>\n    <g clip-path=\"url(#p299e5ebbfc)\">\n     <use style=\"fill:#12c8e6;stroke:#ffffff;stroke-width:0.48;\" x=\"342.319178\" xlink:href=\"#C0_0_ca6e7fd617\" y=\"59.16028\"/>\n    </g>\n    <g clip-path=\"url(#p299e5ebbfc)\">\n     <use style=\"fill:#12c8e6;stroke:#ffffff;stroke-width:0.48;\" x=\"342.319178\" xlink:href=\"#C0_0_ca6e7fd617\" y=\"59.16028\"/>\n    </g>\n    <g clip-path=\"url(#p299e5ebbfc)\">\n     <use style=\"fill:#12c8e6;stroke:#ffffff;stroke-width:0.48;\" x=\"362.747028\" xlink:href=\"#C0_0_ca6e7fd617\" y=\"161.841416\"/>\n    </g>\n    <g clip-path=\"url(#p299e5ebbfc)\">\n     <use style=\"fill:#12c8e6;stroke:#ffffff;stroke-width:0.48;\" x=\"374.913752\" xlink:href=\"#C0_0_ca6e7fd617\" y=\"172.669335\"/>\n    </g>\n    <g clip-path=\"url(#p299e5ebbfc)\">\n     <use style=\"fill:#12c8e6;stroke:#ffffff;stroke-width:0.48;\" x=\"352.64321\" xlink:href=\"#C0_0_ca6e7fd617\" y=\"96.127502\"/>\n    </g>\n    <g clip-path=\"url(#p299e5ebbfc)\">\n     <use style=\"fill:#12c8e6;stroke:#ffffff;stroke-width:0.48;\" x=\"360.805737\" xlink:href=\"#C0_0_ca6e7fd617\" y=\"113.434953\"/>\n    </g>\n    <g clip-path=\"url(#p299e5ebbfc)\">\n     <use style=\"fill:#12c8e6;stroke:#ffffff;stroke-width:0.48;\" x=\"362.167405\" xlink:href=\"#C0_0_ca6e7fd617\" y=\"140.83963\"/>\n    </g>\n    <g clip-path=\"url(#p299e5ebbfc)\">\n     <use style=\"fill:#12c8e6;stroke:#ffffff;stroke-width:0.48;\" x=\"352.641103\" xlink:href=\"#C0_0_ca6e7fd617\" y=\"96.12311\"/>\n    </g>\n    <g clip-path=\"url(#p299e5ebbfc)\">\n     <use style=\"fill:#12c8e6;stroke:#ffffff;stroke-width:0.48;\" x=\"362.164245\" xlink:href=\"#C0_0_ca6e7fd617\" y=\"140.833042\"/>\n    </g>\n    <g clip-path=\"url(#p299e5ebbfc)\">\n     <use style=\"fill:#12c8e6;stroke:#ffffff;stroke-width:0.48;\" x=\"361.823595\" xlink:href=\"#C0_0_ca6e7fd617\" y=\"140.572211\"/>\n    </g>\n    <g clip-path=\"url(#p299e5ebbfc)\">\n     <use style=\"fill:#12c8e6;stroke:#ffffff;stroke-width:0.48;\" x=\"354.40078\" xlink:href=\"#C0_0_ca6e7fd617\" y=\"91.27545\"/>\n    </g>\n    <g clip-path=\"url(#p299e5ebbfc)\">\n     <use style=\"fill:#12c8e6;stroke:#ffffff;stroke-width:0.48;\" x=\"361.322202\" xlink:href=\"#C0_0_ca6e7fd617\" y=\"150.664973\"/>\n    </g>\n    <g clip-path=\"url(#p299e5ebbfc)\">\n     <use style=\"fill:#12c8e6;stroke:#ffffff;stroke-width:0.48;\" x=\"359.38027\" xlink:href=\"#C0_0_ca6e7fd617\" y=\"141.461315\"/>\n    </g>\n    <g clip-path=\"url(#p299e5ebbfc)\">\n     <use style=\"fill:#12c8e6;stroke:#ffffff;stroke-width:0.48;\" x=\"367.83787\" xlink:href=\"#C0_0_ca6e7fd617\" y=\"133.200706\"/>\n    </g>\n    <g clip-path=\"url(#p299e5ebbfc)\">\n     <use style=\"fill:#12c8e6;stroke:#ffffff;stroke-width:0.48;\" x=\"366.505302\" xlink:href=\"#C0_0_ca6e7fd617\" y=\"159.691971\"/>\n    </g>\n    <g clip-path=\"url(#p299e5ebbfc)\">\n     <use style=\"fill:#12c8e6;stroke:#ffffff;stroke-width:0.48;\" x=\"356.23032\" xlink:href=\"#C0_0_ca6e7fd617\" y=\"136.914273\"/>\n    </g>\n    <g clip-path=\"url(#p299e5ebbfc)\">\n     <use style=\"fill:#12c8e6;stroke:#ffffff;stroke-width:0.48;\" x=\"372.666241\" xlink:href=\"#C0_0_ca6e7fd617\" y=\"179.629664\"/>\n    </g>\n    <g clip-path=\"url(#p299e5ebbfc)\">\n     <use style=\"fill:#12c8e6;stroke:#ffffff;stroke-width:0.48;\" x=\"367.728655\" xlink:href=\"#C0_0_ca6e7fd617\" y=\"180.670172\"/>\n    </g>\n    <g clip-path=\"url(#p299e5ebbfc)\">\n     <use style=\"fill:#12c8e6;stroke:#ffffff;stroke-width:0.48;\" x=\"356.957939\" xlink:href=\"#C0_0_ca6e7fd617\" y=\"140.549524\"/>\n    </g>\n    <g clip-path=\"url(#p299e5ebbfc)\">\n     <use style=\"fill:#12c8e6;stroke:#ffffff;stroke-width:0.48;\" x=\"363.391396\" xlink:href=\"#C0_0_ca6e7fd617\" y=\"169.349284\"/>\n    </g>\n    <g clip-path=\"url(#p299e5ebbfc)\">\n     <use style=\"fill:#12c8e6;stroke:#ffffff;stroke-width:0.48;\" x=\"346.402087\" xlink:href=\"#C0_0_ca6e7fd617\" y=\"55.749947\"/>\n    </g>\n    <g clip-path=\"url(#p299e5ebbfc)\">\n     <use style=\"fill:#12c8e6;stroke:#ffffff;stroke-width:0.48;\" x=\"346.402087\" xlink:href=\"#C0_0_ca6e7fd617\" y=\"55.749947\"/>\n    </g>\n    <g clip-path=\"url(#p299e5ebbfc)\">\n     <use style=\"fill:#12c8e6;stroke:#ffffff;stroke-width:0.48;\" x=\"356.039404\" xlink:href=\"#C0_0_ca6e7fd617\" y=\"125.145996\"/>\n    </g>\n    <g clip-path=\"url(#p299e5ebbfc)\">\n     <use style=\"fill:#12c8e6;stroke:#ffffff;stroke-width:0.48;\" x=\"375.213159\" xlink:href=\"#C0_0_ca6e7fd617\" y=\"176.851581\"/>\n    </g>\n    <g clip-path=\"url(#p299e5ebbfc)\">\n     <use style=\"fill:#12c8e6;stroke:#ffffff;stroke-width:0.48;\" x=\"362.039646\" xlink:href=\"#C0_0_ca6e7fd617\" y=\"130.270691\"/>\n    </g>\n    <g clip-path=\"url(#p299e5ebbfc)\">\n     <use style=\"fill:#12c8e6;stroke:#ffffff;stroke-width:0.48;\" x=\"355.041721\" xlink:href=\"#C0_0_ca6e7fd617\" y=\"125.196527\"/>\n    </g>\n    <g clip-path=\"url(#p299e5ebbfc)\">\n     <use style=\"fill:#12c8e6;stroke:#ffffff;stroke-width:0.48;\" x=\"358.953407\" xlink:href=\"#C0_0_ca6e7fd617\" y=\"131.059434\"/>\n    </g>\n    <g clip-path=\"url(#p299e5ebbfc)\">\n     <use style=\"fill:#12c8e6;stroke:#ffffff;stroke-width:0.48;\" x=\"365.308207\" xlink:href=\"#C0_0_ca6e7fd617\" y=\"125.324988\"/>\n    </g>\n    <g clip-path=\"url(#p299e5ebbfc)\">\n     <use style=\"fill:#12c8e6;stroke:#ffffff;stroke-width:0.48;\" x=\"365.886976\" xlink:href=\"#C0_0_ca6e7fd617\" y=\"151.516937\"/>\n    </g>\n    <g clip-path=\"url(#p299e5ebbfc)\">\n     <use style=\"fill:#12c8e6;stroke:#ffffff;stroke-width:0.48;\" x=\"371.664922\" xlink:href=\"#C0_0_ca6e7fd617\" y=\"172.810567\"/>\n    </g>\n    <g clip-path=\"url(#p299e5ebbfc)\">\n     <use style=\"fill:#12c8e6;stroke:#ffffff;stroke-width:0.48;\" x=\"371.664922\" xlink:href=\"#C0_0_ca6e7fd617\" y=\"172.810567\"/>\n    </g>\n    <g clip-path=\"url(#p299e5ebbfc)\">\n     <use style=\"fill:#12c8e6;stroke:#ffffff;stroke-width:0.48;\" x=\"350.440365\" xlink:href=\"#C0_0_ca6e7fd617\" y=\"87.34757\"/>\n    </g>\n    <g clip-path=\"url(#p299e5ebbfc)\">\n     <use style=\"fill:#12c8e6;stroke:#ffffff;stroke-width:0.48;\" x=\"372.292746\" xlink:href=\"#C0_0_ca6e7fd617\" y=\"184.323034\"/>\n    </g>\n    <g clip-path=\"url(#p299e5ebbfc)\">\n     <use style=\"fill:#12c8e6;stroke:#ffffff;stroke-width:0.48;\" x=\"363.729785\" xlink:href=\"#C0_0_ca6e7fd617\" y=\"174.185467\"/>\n    </g>\n    <g clip-path=\"url(#p299e5ebbfc)\">\n     <use style=\"fill:#12c8e6;stroke:#ffffff;stroke-width:0.48;\" x=\"360.972996\" xlink:href=\"#C0_0_ca6e7fd617\" y=\"153.45788\"/>\n    </g>\n    <g clip-path=\"url(#p299e5ebbfc)\">\n     <use style=\"fill:#12c8e6;stroke:#ffffff;stroke-width:0.48;\" x=\"370.79248\" xlink:href=\"#C0_0_ca6e7fd617\" y=\"191.607795\"/>\n    </g>\n    <g clip-path=\"url(#p299e5ebbfc)\">\n     <use style=\"fill:#12c8e6;stroke:#ffffff;stroke-width:0.48;\" x=\"373.594422\" xlink:href=\"#C0_0_ca6e7fd617\" y=\"168.567986\"/>\n    </g>\n    <g clip-path=\"url(#p299e5ebbfc)\">\n     <use style=\"fill:#12c8e6;stroke:#ffffff;stroke-width:0.48;\" x=\"363.748453\" xlink:href=\"#C0_0_ca6e7fd617\" y=\"161.798375\"/>\n    </g>\n   </g>\n   <g id=\"PathCollection_2\"/>\n   <g id=\"PathCollection_3\"/>\n   <g id=\"patch_3\">\n    <path d=\"M 58.523438 239.758125 \nL 58.523438 22.318125 \n\" style=\"fill:none;stroke:#ffffff;stroke-linecap:square;stroke-linejoin:miter;stroke-width:0.8;\"/>\n   </g>\n   <g id=\"patch_4\">\n    <path d=\"M 393.323438 239.758125 \nL 393.323438 22.318125 \n\" style=\"fill:none;stroke:#ffffff;stroke-linecap:square;stroke-linejoin:miter;stroke-width:0.8;\"/>\n   </g>\n   <g id=\"patch_5\">\n    <path d=\"M 58.523438 239.758125 \nL 393.323438 239.758125 \n\" style=\"fill:none;stroke:#ffffff;stroke-linecap:square;stroke-linejoin:miter;stroke-width:0.8;\"/>\n   </g>\n   <g id=\"patch_6\">\n    <path d=\"M 58.523438 22.318125 \nL 393.323438 22.318125 \n\" style=\"fill:none;stroke:#ffffff;stroke-linecap:square;stroke-linejoin:miter;stroke-width:0.8;\"/>\n   </g>\n   <g id=\"text_17\">\n    <!-- 2 component PCA -->\n    <defs>\n     <path d=\"M 34.1875 63.1875 \nL 20.796875 26.90625 \nL 47.609375 26.90625 \nz\nM 28.609375 72.90625 \nL 39.796875 72.90625 \nL 67.578125 0 \nL 57.328125 0 \nL 50.6875 18.703125 \nL 17.828125 18.703125 \nL 11.1875 0 \nL 0.78125 0 \nz\n\" id=\"DejaVuSans-65\"/>\n    </defs>\n    <g style=\"fill:#262626;\" transform=\"translate(172.43625 16.318125)scale(0.12 -0.12)\">\n     <use xlink:href=\"#DejaVuSans-50\"/>\n     <use x=\"63.623047\" xlink:href=\"#DejaVuSans-32\"/>\n     <use x=\"95.410156\" xlink:href=\"#DejaVuSans-99\"/>\n     <use x=\"150.390625\" xlink:href=\"#DejaVuSans-111\"/>\n     <use x=\"211.572266\" xlink:href=\"#DejaVuSans-109\"/>\n     <use x=\"308.984375\" xlink:href=\"#DejaVuSans-112\"/>\n     <use x=\"372.460938\" xlink:href=\"#DejaVuSans-111\"/>\n     <use x=\"433.642578\" xlink:href=\"#DejaVuSans-110\"/>\n     <use x=\"497.021484\" xlink:href=\"#DejaVuSans-101\"/>\n     <use x=\"558.544922\" xlink:href=\"#DejaVuSans-110\"/>\n     <use x=\"621.923828\" xlink:href=\"#DejaVuSans-116\"/>\n     <use x=\"661.132812\" xlink:href=\"#DejaVuSans-32\"/>\n     <use x=\"692.919922\" xlink:href=\"#DejaVuSans-80\"/>\n     <use x=\"753.222656\" xlink:href=\"#DejaVuSans-67\"/>\n     <use x=\"823.046875\" xlink:href=\"#DejaVuSans-65\"/>\n    </g>\n   </g>\n   <g id=\"legend_1\">\n    <g id=\"patch_7\">\n     <path d=\"M 206.177344 234.758125 \nL 245.669531 234.758125 \nQ 247.669531 234.758125 247.669531 232.758125 \nL 247.669531 189.72375 \nQ 247.669531 187.72375 245.669531 187.72375 \nL 206.177344 187.72375 \nQ 204.177344 187.72375 204.177344 189.72375 \nL 204.177344 232.758125 \nQ 204.177344 234.758125 206.177344 234.758125 \nz\n\" style=\"fill:#eaeaf2;opacity:0.8;stroke:#cccccc;stroke-linejoin:miter;\"/>\n    </g>\n    <g id=\"text_18\">\n     <!-- Cluster -->\n     <defs>\n      <path d=\"M 8.5 21.578125 \nL 8.5 54.6875 \nL 17.484375 54.6875 \nL 17.484375 21.921875 \nQ 17.484375 14.15625 20.5 10.265625 \nQ 23.53125 6.390625 29.59375 6.390625 \nQ 36.859375 6.390625 41.078125 11.03125 \nQ 45.3125 15.671875 45.3125 23.6875 \nL 45.3125 54.6875 \nL 54.296875 54.6875 \nL 54.296875 0 \nL 45.3125 0 \nL 45.3125 8.40625 \nQ 42.046875 3.421875 37.71875 1 \nQ 33.40625 -1.421875 27.6875 -1.421875 \nQ 18.265625 -1.421875 13.375 4.4375 \nQ 8.5 10.296875 8.5 21.578125 \nz\nM 31.109375 56 \nz\n\" id=\"DejaVuSans-117\"/>\n      <path d=\"M 44.28125 53.078125 \nL 44.28125 44.578125 \nQ 40.484375 46.53125 36.375 47.5 \nQ 32.28125 48.484375 27.875 48.484375 \nQ 21.1875 48.484375 17.84375 46.4375 \nQ 14.5 44.390625 14.5 40.28125 \nQ 14.5 37.15625 16.890625 35.375 \nQ 19.28125 33.59375 26.515625 31.984375 \nL 29.59375 31.296875 \nQ 39.15625 29.25 43.1875 25.515625 \nQ 47.21875 21.78125 47.21875 15.09375 \nQ 47.21875 7.46875 41.1875 3.015625 \nQ 35.15625 -1.421875 24.609375 -1.421875 \nQ 20.21875 -1.421875 15.453125 -0.5625 \nQ 10.6875 0.296875 5.421875 2 \nL 5.421875 11.28125 \nQ 10.40625 8.6875 15.234375 7.390625 \nQ 20.0625 6.109375 24.8125 6.109375 \nQ 31.15625 6.109375 34.5625 8.28125 \nQ 37.984375 10.453125 37.984375 14.40625 \nQ 37.984375 18.0625 35.515625 20.015625 \nQ 33.0625 21.96875 24.703125 23.78125 \nL 21.578125 24.515625 \nQ 13.234375 26.265625 9.515625 29.90625 \nQ 5.8125 33.546875 5.8125 39.890625 \nQ 5.8125 47.609375 11.28125 51.796875 \nQ 16.75 56 26.8125 56 \nQ 31.78125 56 36.171875 55.265625 \nQ 40.578125 54.546875 44.28125 53.078125 \nz\n\" id=\"DejaVuSans-115\"/>\n     </defs>\n     <g style=\"fill:#262626;\" transform=\"translate(208.177344 199.322187)scale(0.1 -0.1)\">\n      <use xlink:href=\"#DejaVuSans-67\"/>\n      <use x=\"69.824219\" xlink:href=\"#DejaVuSans-108\"/>\n      <use x=\"97.607422\" xlink:href=\"#DejaVuSans-117\"/>\n      <use x=\"160.986328\" xlink:href=\"#DejaVuSans-115\"/>\n      <use x=\"213.085938\" xlink:href=\"#DejaVuSans-116\"/>\n      <use x=\"252.294922\" xlink:href=\"#DejaVuSans-101\"/>\n      <use x=\"313.818359\" xlink:href=\"#DejaVuSans-114\"/>\n     </g>\n    </g>\n    <g id=\"PathCollection_4\">\n     <defs>\n      <path d=\"M 0 3 \nC 0.795609 3 1.55874 2.683901 2.12132 2.12132 \nC 2.683901 1.55874 3 0.795609 3 0 \nC 3 -0.795609 2.683901 -1.55874 2.12132 -2.12132 \nC 1.55874 -2.683901 0.795609 -3 0 -3 \nC -0.795609 -3 -1.55874 -2.683901 -2.12132 -2.12132 \nC -2.683901 -1.55874 -3 -0.795609 -3 0 \nC -3 0.795609 -2.683901 1.55874 -2.12132 2.12132 \nC -1.55874 2.683901 -0.795609 3 0 3 \nz\n\" id=\"mebf417f49e\" style=\"stroke:#386df9;\"/>\n     </defs>\n     <g>\n      <use style=\"fill:#386df9;stroke:#386df9;\" x=\"218.742188\" xlink:href=\"#mebf417f49e\" y=\"211.375312\"/>\n     </g>\n    </g>\n    <g id=\"text_19\">\n     <!-- 0 -->\n     <g style=\"fill:#262626;\" transform=\"translate(236.742188 214.000312)scale(0.1 -0.1)\">\n      <use xlink:href=\"#DejaVuSans-48\"/>\n     </g>\n    </g>\n    <g id=\"PathCollection_5\">\n     <defs>\n      <path d=\"M 0 3 \nC 0.795609 3 1.55874 2.683901 2.12132 2.12132 \nC 2.683901 1.55874 3 0.795609 3 0 \nC 3 -0.795609 2.683901 -1.55874 2.12132 -2.12132 \nC 1.55874 -2.683901 0.795609 -3 0 -3 \nC -0.795609 -3 -1.55874 -2.683901 -2.12132 -2.12132 \nC -2.683901 -1.55874 -3 -0.795609 -3 0 \nC -3 0.795609 -2.683901 1.55874 -2.12132 2.12132 \nC -1.55874 2.683901 -0.795609 3 0 3 \nz\n\" id=\"m4baa9746b3\" style=\"stroke:#12c8e6;\"/>\n     </defs>\n     <g>\n      <use style=\"fill:#12c8e6;stroke:#12c8e6;\" x=\"218.742188\" xlink:href=\"#m4baa9746b3\" y=\"226.053437\"/>\n     </g>\n    </g>\n    <g id=\"text_20\">\n     <!-- 1 -->\n     <g style=\"fill:#262626;\" transform=\"translate(236.742188 228.678437)scale(0.1 -0.1)\">\n      <use xlink:href=\"#DejaVuSans-49\"/>\n     </g>\n    </g>\n   </g>\n  </g>\n </g>\n <defs>\n  <clipPath id=\"p299e5ebbfc\">\n   <rect height=\"217.44\" width=\"334.8\" x=\"58.523438\" y=\"22.318125\"/>\n  </clipPath>\n </defs>\n</svg>\n"
          },
          "metadata": {}
        }
      ]
    },
    {
      "cell_type": "markdown",
      "source": [
        "Find the most similar song"
      ],
      "metadata": {
        "id": "TTRaGNjurYOu"
      }
    },
    {
      "cell_type": "code",
      "source": [
        "query_all = \"\"\"\n",
        "SELECT Title, Artist, Genre, {}\n",
        "FROM df_table\n",
        "\"\"\".format(', '.join(numerical_features))\n",
        "\n",
        "df_all_songs = (spark.sql(query_all)\n",
        "                     .dropna() #removes the rows that contains NULL values\n",
        "                     .toPandas()\n",
        "                     .drop_duplicates(['Title', 'Artist'])\n",
        "                     .reset_index(drop=True)\n",
        "                )"
      ],
      "metadata": {
        "id": "1oXx5p9mrXQA"
      },
      "execution_count": null,
      "outputs": []
    },
    {
      "cell_type": "code",
      "source": [
        "df_all_songs.columns"
      ],
      "metadata": {
        "colab": {
          "base_uri": "https://localhost:8080/"
        },
        "id": "UXOs0D-fregQ",
        "outputId": "b3a89977-03ff-41f6-b397-887b5fa7b555"
      },
      "execution_count": null,
      "outputs": [
        {
          "output_type": "execute_result",
          "data": {
            "text/plain": [
              "Index(['Title', 'Artist', 'Genre', 'danceability', 'energy',\n",
              "       'instrumentalness', 'valence', 'liveliness', 'speechiness', 'acoustics',\n",
              "       'instrumentalness', 'tempo', 'duration_ms', 'time_signature',\n",
              "       'Days_since_release', 'n_words'],\n",
              "      dtype='object')"
            ]
          },
          "metadata": {},
          "execution_count": 40
        }
      ]
    },
    {
      "cell_type": "code",
      "source": [
        "df_all_songs_ohe = pd.get_dummies(df_all_songs.drop(columns='Title'))\n",
        "scaled_df_all_songs_ohe = scaler.fit_transform(df_all_songs_ohe)"
      ],
      "metadata": {
        "id": "irBxxk4NrhLB"
      },
      "execution_count": null,
      "outputs": []
    },
    {
      "cell_type": "code",
      "source": [
        "def get_most_similar_song(title, artist):\n",
        "    title = title.lower()\n",
        "    # get the vector for the requested song\n",
        "    song_idx = df_all_songs.query(f\"Title == '{title}' and Artist == '{artist}'\").index.values[0]\n",
        "    song_vector = scaled_df_all_songs_ohe[song_idx]\n",
        "    \n",
        "    # find the most similar song\n",
        "    min_difference = 1\n",
        "    closest_song_idx = 0\n",
        "    for index, song in enumerate(scaled_df_all_songs_ohe):\n",
        "        distance = spatial.distance.cosine(song_vector, song)\n",
        "        if distance < min_difference:\n",
        "            if index == song_idx:\n",
        "                pass\n",
        "            else:\n",
        "                min_difference = distance\n",
        "                closest_song_idx = index #np_iterator.index\n",
        "    # get the title and the artist of the most similar song\n",
        "    closest_song = df_all_songs.loc[closest_song_idx,['Title', 'Artist']]\n",
        "    print(\"Closest Song:\\n-------------\", closest_song, sep=\"\\n\")\n",
        "    return closest_song_idx"
      ],
      "metadata": {
        "id": "NwcT6aBYrj3R"
      },
      "execution_count": null,
      "outputs": []
    },
    {
      "cell_type": "code",
      "source": [
        "get_most_similar_song(\"Numb\", \"Linkin Park\")"
      ],
      "metadata": {
        "colab": {
          "base_uri": "https://localhost:8080/"
        },
        "id": "Fai2mnpLroTX",
        "outputId": "2e4a0cc6-6043-4116-f465-6c5b79a2dee4"
      },
      "execution_count": null,
      "outputs": [
        {
          "output_type": "stream",
          "name": "stdout",
          "text": [
            "Closest Song:\n",
            "-------------\n",
            "Title        crawling\n",
            "Artist    Linkin Park\n",
            "Name: 1470, dtype: object\n"
          ]
        },
        {
          "output_type": "execute_result",
          "data": {
            "text/plain": [
              "1470"
            ]
          },
          "metadata": {},
          "execution_count": 43
        }
      ]
    },
    {
      "cell_type": "code",
      "source": [
        "spark.sql(\"SELECT Artist, Title FROM df_table WHERE Artist LIKE 'Radio%'\").distinct().show(50)"
      ],
      "metadata": {
        "id": "suOqpPN8rrdj",
        "outputId": "934de49b-639a-454a-adaa-d75660f7e1a4",
        "colab": {
          "base_uri": "https://localhost:8080/"
        }
      },
      "execution_count": null,
      "outputs": [
        {
          "output_type": "stream",
          "name": "stdout",
          "text": [
            "+---------+------------------+\n",
            "|   Artist|             Title|\n",
            "+---------+------------------+\n",
            "|Radiohead|             creep|\n",
            "|Radiohead|      karma police|\n",
            "|Radiohead|        man of war|\n",
            "|Radiohead|          ill wind|\n",
            "|Radiohead|      high and dry|\n",
            "|Radiohead|      no surprises|\n",
            "|Radiohead|  paranoid android|\n",
            "|Radiohead|fake plastic trees|\n",
            "+---------+------------------+\n",
            "\n"
          ]
        }
      ]
    },
    {
      "cell_type": "code",
      "source": [
        "get_most_similar_song(\"creep\", \"Radiohead\")"
      ],
      "metadata": {
        "id": "rUL8DGR-ruS8",
        "outputId": "8fa80ea6-cb52-47b3-baeb-a17ba0cad155",
        "colab": {
          "base_uri": "https://localhost:8080/"
        }
      },
      "execution_count": null,
      "outputs": [
        {
          "output_type": "stream",
          "name": "stdout",
          "text": [
            "Closest Song:\n",
            "-------------\n",
            "Title           californication\n",
            "Artist    Red Hot Chili Peppers\n",
            "Name: 5955, dtype: object\n"
          ]
        },
        {
          "output_type": "execute_result",
          "data": {
            "text/plain": [
              "5955"
            ]
          },
          "metadata": {},
          "execution_count": 45
        }
      ]
    }
  ]
}